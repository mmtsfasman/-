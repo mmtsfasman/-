{
 "cells": [
  {
   "cell_type": "markdown",
   "metadata": {},
   "source": [
    "По материалам 4 семинара:\n",
    "1. Модифицировать алгоритм Рабина-Карпа, чтобы он выполнял поиск нескольких паттернов в строке одновременно.\n",
    "2. Дать асимптотическую верхнюю оценку сложности O() реализованного алгоритма в зависимости от параметров T (длина текста), P_1, P_2, ..., P_n (длины паттернов)\n",
    "3. Написать юнит тесты к разработанному алгоритму\n",
    "4. работу оформить в виде скрипта *.py"
   ]
  },
  {
   "cell_type": "code",
   "execution_count": null,
   "metadata": {
    "collapsed": true
   },
   "outputs": [],
   "source": [
    "  def search_rabin_multi(text, patterns, x=31, p=997):\n",
    "  \"\"\"\n",
    "  text - строка, в которой выполняется поиск\n",
    "  patterns = [pattern_1, pattern_2, ..., pattern_n] - массив паттернов, которые нужно найти в строке text\n",
    "  По аналогии с оригинальным алгоритмом, функция возвращает массив [indices_1, indices_2, ... indices_n]\n",
    "  При этом indices_i - массив индексов [pos_1, pos_2, ... pos_n], с которых начинаетй pattern_i в строке text.\n",
    "  Если pattern_i ни разу не встречается в строке text, ему соотвествует пустой массив, т.е. indices_i = []\n",
    "  \"\"\"\n",
    "    indices = []\n",
    "    hashes = {}\n",
    "    \n",
    "    for p in patterns:\n",
    "        \n",
    "        p_len = len(p)\n",
    "        p_indices = []\n",
    "        \n",
    "        if len(pattern) == 0:\n",
    "            return []\n",
    "\n",
    "        if len(text) < len(pattern):\n",
    "            return []\n",
    "\n",
    "        # precompute hashes\n",
    "        precomputed = [0] * (len(text) - len(pattern) + 1)\n",
    "        precomputed[-1] = poly_hash(text[-len(pattern):], x, p)\n",
    "\n",
    "        factor = 1\n",
    "        for i in range(len(pattern)):\n",
    "            factor = (factor*x + p) % p\n",
    "\n",
    "        for i in range(len(text) - len(pattern)-1, -1, -1):\n",
    "            precomputed[i] = (precomputed[i+1] * x + ord(text[i]) - factor * ord(text[i+len(pattern)]) + p) % p\n",
    "\n",
    "        pattern_hash = poly_hash(pattern, x, p)\n",
    "\n",
    "        for i in range(len(precomputed)):\n",
    "            if precomputed[i] == pattern_hash:\n",
    "                if text[i: i + len(pattern)] == pattern:\n",
    "                    indices.append(i)\n",
    "    \n",
    "    return indices\n",
    "\n"
   ]
  }
 ],
 "metadata": {
  "kernelspec": {
   "display_name": "Python 3",
   "language": "python",
   "name": "python3"
  },
  "language_info": {
   "codemirror_mode": {
    "name": "ipython",
    "version": 3
   },
   "file_extension": ".py",
   "mimetype": "text/x-python",
   "name": "python",
   "nbconvert_exporter": "python",
   "pygments_lexer": "ipython3",
   "version": "3.6.1"
  }
 },
 "nbformat": 4,
 "nbformat_minor": 2
}
