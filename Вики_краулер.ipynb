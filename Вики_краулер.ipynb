{
 "cells": [
  {
   "cell_type": "markdown",
   "metadata": {},
   "source": [
    "# Семинар"
   ]
  },
  {
   "cell_type": "markdown",
   "metadata": {},
   "source": [
    "Ссылки румынской википедии"
   ]
  },
  {
   "cell_type": "code",
   "execution_count": 25,
   "metadata": {
    "collapsed": true
   },
   "outputs": [],
   "source": [
    "import requests\n",
    "from bs4 import BeautifulSoup\n",
    "from IPython.display import HTML, display\n",
    "import tqdm"
   ]
  },
  {
   "cell_type": "code",
   "execution_count": 26,
   "metadata": {},
   "outputs": [],
   "source": [
    "def wiki(url):\n",
    "    \n",
    "    future_links = set()\n",
    "    links_done = set()\n",
    "    \n",
    "    links_left = [url]\n",
    "\n",
    "    while tqdm.tqdm_notebook(links_left):\n",
    "        l = links_left.pop() \n",
    "        if l in links_done:\n",
    "            pass\n",
    "        else: \n",
    "            links_done.add(l)\n",
    "            \n",
    "            req = requests.get(l)\n",
    "            soup = BeautifulSoup(req.text, 'lxml')\n",
    "            \n",
    "            for h in soup.findAll('a', href = True): \n",
    "         \n",
    "                if h['href'].startswith('/wiki/') and ':' not in h['href']:\n",
    "                    \n",
    "                    if h['href'] not in future_links and h['href'] not in links_done:\n",
    "                        future_links.add(('http://mo.wikipedia.org'+ h['href']))\n",
    "                        links_left.append(('http://mo.wikipedia.org' + h['href']))\n",
    "    \n",
    "                                          \n",
    "    return links_done\n",
    "            "
   ]
  },
  {
   "cell_type": "code",
   "execution_count": null,
   "metadata": {},
   "outputs": [
    {
     "data": {
      "application/vnd.jupyter.widget-view+json": {
       "model_id": "b4d222ce47ad4765b09861714af452d4",
       "version_major": 2,
       "version_minor": 0
      },
      "text/plain": [
       "A Jupyter Widget"
      ]
     },
     "metadata": {},
     "output_type": "display_data"
    },
    {
     "name": "stdout",
     "output_type": "stream",
     "text": [
      "\n",
      "http://mo.wikipedia.org/wiki/%D0%92%D0%B8%D0%BA%D0%B8%D0%BF%D0%B5%D0%B4%D0%B8%D1%8F\n",
      "http://mo.wikipedia.org/wiki/%D0%90%D1%80%D1%85%D0%B8%D1%82%D0%B5%D0%BA%D1%82%D1%83%D1%80%D1%8D\n",
      "http://mo.wikipedia.org/wiki/%D0%A4%D0%B8%D0%BB%D0%BC\n",
      "http://mo.wikipedia.org/wiki/%D0%9C%D1%83%D0%B7%D0%B8%D0%BA%D1%8D\n",
      "http://mo.wikipedia.org/wiki/%D0%9A%D0%BE%D0%BC%D1%83%D0%BD%D0%B8%D0%BA%D0%B0%D1%86%D0%B8%D0%B5\n",
      "http://mo.wikipedia.org/wiki/%D0%A1%D0%BE%D0%BB%D0%B4%D0%B0%D1%86%D0%B8%D0%B9\n",
      "http://mo.wikipedia.org/wiki/%D0%9F%D0%BE%D0%BB%D0%B8%D1%82%D0%B8%D0%BA%D1%8D\n",
      "http://mo.wikipedia.org/wiki/%D0%9A%D1%80%D0%B5%D1%88%D1%82%D0%B8%D0%BD%D0%B8%D0%B7%D0%BC\n",
      "http://mo.wikipedia.org/wiki/%D0%98%D1%81%D0%BB%D0%B0%D0%BC%D0%B8%D0%B7%D0%BC\n",
      "http://mo.wikipedia.org/wiki/%D0%9B%D0%B8%D0%BC%D0%B1%D1%8C\n",
      "http://mo.wikipedia.org/wiki/%D0%9B%D0%B8%D0%BD%D0%B3%D0%B2%D0%B8%D1%81%D1%82%D0%B8%D0%BA%D1%8D\n",
      "http://mo.wikipedia.org/wiki/%D0%9A%D0%B8%D0%BC%D0%B8%D0%B5\n",
      "http://mo.wikipedia.org/wiki/%D0%92%D0%B8%D0%BA%D0%B8%D0%BC%D0%B5%D0%B4%D0%B8%D1%8F\n",
      "http://mo.wikipedia.org/wiki/%D0%9F%D0%B0%D3%82%D0%B8%D0%BD%D0%B0_%D0%BF%D1%80%D0%B8%D0%BD%D1%87%D0%B8%D0%BF%D0%B0%D0%BB%D1%8D\n",
      "http://mo.wikipedia.org/wiki/%D0%9F%D0%B0%D3%82%D0%B8%D0%BD%D0%B0_%D0%BF%D1%80%D0%B8%D0%BD%D1%87%D0%B8%D0%BF%D0%B0%D0%BB%D1%8D\n",
      "http://mo.wikipedia.org/wiki/%D0%9F%D0%B0%D3%82%D0%B8%D0%BD%D0%B0_%D0%BF%D1%80%D0%B8%D0%BD%D1%87%D0%B8%D0%BF%D0%B0%D0%BB%D1%8D\n",
      "http://mo.wikipedia.org/wiki/%D0%9F%D0%B0%D3%82%D0%B8%D0%BD%D0%B0_%D0%BF%D1%80%D0%B8%D0%BD%D1%87%D0%B8%D0%BF%D0%B0%D0%BB%D1%8D\n"
     ]
    },
    {
     "data": {
      "application/vnd.jupyter.widget-view+json": {
       "model_id": "49cfcfd74a5d4f95b5aa4d4d7c5a268e",
       "version_major": 2,
       "version_minor": 0
      },
      "text/plain": [
       "A Jupyter Widget"
      ]
     },
     "metadata": {},
     "output_type": "display_data"
    },
    {
     "name": "stdout",
     "output_type": "stream",
     "text": [
      "\n",
      "http://mo.wikipedia.org/wiki/%D0%92%D0%B8%D0%BA%D0%B8%D0%BF%D0%B5%D0%B4%D0%B8%D1%8F\n",
      "http://mo.wikipedia.org/wiki/%D0%90%D1%80%D1%85%D0%B8%D1%82%D0%B5%D0%BA%D1%82%D1%83%D1%80%D1%8D\n",
      "http://mo.wikipedia.org/wiki/%D0%A4%D0%B8%D0%BB%D0%BC\n",
      "http://mo.wikipedia.org/wiki/%D0%9C%D1%83%D0%B7%D0%B8%D0%BA%D1%8D\n",
      "http://mo.wikipedia.org/wiki/%D0%9A%D0%BE%D0%BC%D1%83%D0%BD%D0%B8%D0%BA%D0%B0%D1%86%D0%B8%D0%B5\n",
      "http://mo.wikipedia.org/wiki/%D0%A1%D0%BE%D0%BB%D0%B4%D0%B0%D1%86%D0%B8%D0%B9\n",
      "http://mo.wikipedia.org/wiki/%D0%9F%D0%BE%D0%BB%D0%B8%D1%82%D0%B8%D0%BA%D1%8D\n",
      "http://mo.wikipedia.org/wiki/%D0%9A%D1%80%D0%B5%D1%88%D1%82%D0%B8%D0%BD%D0%B8%D0%B7%D0%BC\n",
      "http://mo.wikipedia.org/wiki/%D0%98%D1%81%D0%BB%D0%B0%D0%BC%D0%B8%D0%B7%D0%BC\n",
      "http://mo.wikipedia.org/wiki/%D0%9B%D0%B8%D0%BC%D0%B1%D1%8C\n",
      "http://mo.wikipedia.org/wiki/%D0%9B%D0%B8%D0%BD%D0%B3%D0%B2%D0%B8%D1%81%D1%82%D0%B8%D0%BA%D1%8D\n",
      "http://mo.wikipedia.org/wiki/%D0%9A%D0%B8%D0%BC%D0%B8%D0%B5\n",
      "http://mo.wikipedia.org/wiki/%D0%92%D0%B8%D0%BA%D0%B8%D0%BC%D0%B5%D0%B4%D0%B8%D1%8F\n",
      "http://mo.wikipedia.org/wiki/%D0%9F%D0%B0%D3%82%D0%B8%D0%BD%D0%B0_%D0%BF%D1%80%D0%B8%D0%BD%D1%87%D0%B8%D0%BF%D0%B0%D0%BB%D1%8D\n",
      "http://mo.wikipedia.org/wiki/%D0%9F%D0%B0%D3%82%D0%B8%D0%BD%D0%B0_%D0%BF%D1%80%D0%B8%D0%BD%D1%87%D0%B8%D0%BF%D0%B0%D0%BB%D1%8D\n",
      "http://mo.wikipedia.org/wiki/%D0%9F%D0%B0%D3%82%D0%B8%D0%BD%D0%B0_%D0%BF%D1%80%D0%B8%D0%BD%D1%87%D0%B8%D0%BF%D0%B0%D0%BB%D1%8D\n",
      "http://mo.wikipedia.org/wiki/%D0%9F%D0%B0%D3%82%D0%B8%D0%BD%D0%B0_%D0%BF%D1%80%D0%B8%D0%BD%D1%87%D0%B8%D0%BF%D0%B0%D0%BB%D1%8D\n"
     ]
    },
    {
     "data": {
      "application/vnd.jupyter.widget-view+json": {
       "model_id": "87ba97c5eea04033a71781de48a7578f",
       "version_major": 2,
       "version_minor": 0
      },
      "text/plain": [
       "A Jupyter Widget"
      ]
     },
     "metadata": {},
     "output_type": "display_data"
    },
    {
     "name": "stdout",
     "output_type": "stream",
     "text": [
      "\n"
     ]
    },
    {
     "data": {
      "application/vnd.jupyter.widget-view+json": {
       "model_id": "9cf40ec5b94a4c92aa96ebad121f7491",
       "version_major": 2,
       "version_minor": 0
      },
      "text/plain": [
       "A Jupyter Widget"
      ]
     },
     "metadata": {},
     "output_type": "display_data"
    },
    {
     "name": "stdout",
     "output_type": "stream",
     "text": [
      "\n"
     ]
    },
    {
     "data": {
      "application/vnd.jupyter.widget-view+json": {
       "model_id": "2d36bb87edf54109bd28fabf02b0c945",
       "version_major": 2,
       "version_minor": 0
      },
      "text/plain": [
       "A Jupyter Widget"
      ]
     },
     "metadata": {},
     "output_type": "display_data"
    },
    {
     "name": "stdout",
     "output_type": "stream",
     "text": [
      "\n"
     ]
    },
    {
     "data": {
      "application/vnd.jupyter.widget-view+json": {
       "model_id": "71985a7316b9430fba7d06b22506def9",
       "version_major": 2,
       "version_minor": 0
      },
      "text/plain": [
       "A Jupyter Widget"
      ]
     },
     "metadata": {},
     "output_type": "display_data"
    },
    {
     "name": "stdout",
     "output_type": "stream",
     "text": [
      "\n"
     ]
    },
    {
     "data": {
      "application/vnd.jupyter.widget-view+json": {
       "model_id": "5f7314c24c804fe2bc9741d944519827",
       "version_major": 2,
       "version_minor": 0
      },
      "text/plain": [
       "A Jupyter Widget"
      ]
     },
     "metadata": {},
     "output_type": "display_data"
    },
    {
     "name": "stdout",
     "output_type": "stream",
     "text": [
      "\n",
      "http://mo.wikipedia.org/wiki/%D0%A1%D1%82%D0%B0%D1%82%D0%B5%D0%BB%D0%B5_%D0%A3%D0%BD%D0%B8%D1%82%D0%B5_%D0%B0%D0%BB%D0%B5_%D0%90%D0%BC%D0%B5%D1%80%D0%B8%D1%87%D0%B8%D0%B9\n",
      "http://mo.wikipedia.org/wiki/2003\n",
      "http://mo.wikipedia.org/wiki/%D0%92%D0%B8%D0%BA%D0%B8%D0%BC%D0%B5%D0%B4%D0%B8%D1%8F\n",
      "http://mo.wikipedia.org/wiki/%D0%92%D0%B8%D0%BA%D0%B8%D0%BC%D0%B5%D0%B4%D0%B8%D1%8F\n",
      "http://mo.wikipedia.org/wiki/%D0%9F%D0%B0%D3%82%D0%B8%D0%BD%D0%B0_%D0%BF%D1%80%D0%B8%D0%BD%D1%87%D0%B8%D0%BF%D0%B0%D0%BB%D1%8D\n",
      "http://mo.wikipedia.org/wiki/%D0%9F%D0%B0%D3%82%D0%B8%D0%BD%D0%B0_%D0%BF%D1%80%D0%B8%D0%BD%D1%87%D0%B8%D0%BF%D0%B0%D0%BB%D1%8D\n"
     ]
    },
    {
     "data": {
      "application/vnd.jupyter.widget-view+json": {
       "model_id": "69eb6b6fe5804ef1985d8c7e0ea34691",
       "version_major": 2,
       "version_minor": 0
      },
      "text/plain": [
       "A Jupyter Widget"
      ]
     },
     "metadata": {},
     "output_type": "display_data"
    },
    {
     "name": "stdout",
     "output_type": "stream",
     "text": [
      "\n"
     ]
    },
    {
     "data": {
      "application/vnd.jupyter.widget-view+json": {
       "model_id": "369f5f9b1e534c09b9523d1716e99204",
       "version_major": 2,
       "version_minor": 0
      },
      "text/plain": [
       "A Jupyter Widget"
      ]
     },
     "metadata": {},
     "output_type": "display_data"
    },
    {
     "name": "stdout",
     "output_type": "stream",
     "text": [
      "\n"
     ]
    },
    {
     "data": {
      "application/vnd.jupyter.widget-view+json": {
       "model_id": "864fd4ad77934a58958b8512fcf2f2f9",
       "version_major": 2,
       "version_minor": 0
      },
      "text/plain": [
       "A Jupyter Widget"
      ]
     },
     "metadata": {},
     "output_type": "display_data"
    },
    {
     "name": "stdout",
     "output_type": "stream",
     "text": [
      "\n"
     ]
    },
    {
     "data": {
      "application/vnd.jupyter.widget-view+json": {
       "model_id": "935a7e2c609f4fa182b840e2a2b8f35c",
       "version_major": 2,
       "version_minor": 0
      },
      "text/plain": [
       "A Jupyter Widget"
      ]
     },
     "metadata": {},
     "output_type": "display_data"
    },
    {
     "name": "stdout",
     "output_type": "stream",
     "text": [
      "\n"
     ]
    },
    {
     "data": {
      "application/vnd.jupyter.widget-view+json": {
       "model_id": "ba39b311c620496598e210a5653d239a",
       "version_major": 2,
       "version_minor": 0
      },
      "text/plain": [
       "A Jupyter Widget"
      ]
     },
     "metadata": {},
     "output_type": "display_data"
    },
    {
     "name": "stdout",
     "output_type": "stream",
     "text": [
      "\n",
      "http://mo.wikipedia.org/wiki/2000\n",
      "http://mo.wikipedia.org/wiki/2001\n",
      "http://mo.wikipedia.org/wiki/2002\n",
      "http://mo.wikipedia.org/wiki/2004\n",
      "http://mo.wikipedia.org/wiki/2005\n",
      "http://mo.wikipedia.org/wiki/2006\n",
      "http://mo.wikipedia.org/wiki/2000\n",
      "http://mo.wikipedia.org/wiki/2001\n",
      "http://mo.wikipedia.org/wiki/2002\n",
      "http://mo.wikipedia.org/wiki/2004\n",
      "http://mo.wikipedia.org/wiki/2005\n",
      "http://mo.wikipedia.org/wiki/2006\n",
      "http://mo.wikipedia.org/wiki/%D0%90%D0%BD%D0%B8%D0%B9_1970\n",
      "http://mo.wikipedia.org/wiki/2003\n",
      "http://mo.wikipedia.org/wiki/2003\n",
      "http://mo.wikipedia.org/wiki/%D0%9F%D0%B0%D3%82%D0%B8%D0%BD%D0%B0_%D0%BF%D1%80%D0%B8%D0%BD%D1%87%D0%B8%D0%BF%D0%B0%D0%BB%D1%8D\n",
      "http://mo.wikipedia.org/wiki/%D0%9F%D0%B0%D3%82%D0%B8%D0%BD%D0%B0_%D0%BF%D1%80%D0%B8%D0%BD%D1%87%D0%B8%D0%BF%D0%B0%D0%BB%D1%8D\n"
     ]
    },
    {
     "data": {
      "application/vnd.jupyter.widget-view+json": {
       "model_id": "59228d7cddd24e0293c5246a750d7224",
       "version_major": 2,
       "version_minor": 0
      },
      "text/plain": [
       "A Jupyter Widget"
      ]
     },
     "metadata": {},
     "output_type": "display_data"
    },
    {
     "name": "stdout",
     "output_type": "stream",
     "text": [
      "\n"
     ]
    },
    {
     "data": {
      "application/vnd.jupyter.widget-view+json": {
       "model_id": "c5c8280c30d047df802e39de06271b81",
       "version_major": 2,
       "version_minor": 0
      },
      "text/plain": [
       "A Jupyter Widget"
      ]
     },
     "metadata": {},
     "output_type": "display_data"
    },
    {
     "name": "stdout",
     "output_type": "stream",
     "text": [
      "\n"
     ]
    },
    {
     "data": {
      "application/vnd.jupyter.widget-view+json": {
       "model_id": "a50c2f5911174857988fd2ee534ca817",
       "version_major": 2,
       "version_minor": 0
      },
      "text/plain": [
       "A Jupyter Widget"
      ]
     },
     "metadata": {},
     "output_type": "display_data"
    },
    {
     "name": "stdout",
     "output_type": "stream",
     "text": [
      "\n"
     ]
    },
    {
     "data": {
      "application/vnd.jupyter.widget-view+json": {
       "model_id": "232dd7f4e3264a8a8760f57fa4a389f0",
       "version_major": 2,
       "version_minor": 0
      },
      "text/plain": [
       "A Jupyter Widget"
      ]
     },
     "metadata": {},
     "output_type": "display_data"
    },
    {
     "name": "stdout",
     "output_type": "stream",
     "text": [
      "\n"
     ]
    },
    {
     "data": {
      "application/vnd.jupyter.widget-view+json": {
       "model_id": "851b16b9bb02424aa602120bb0634070",
       "version_major": 2,
       "version_minor": 0
      },
      "text/plain": [
       "A Jupyter Widget"
      ]
     },
     "metadata": {},
     "output_type": "display_data"
    },
    {
     "name": "stdout",
     "output_type": "stream",
     "text": [
      "\n",
      "http://mo.wikipedia.org/wiki/%D0%90%D0%BD%D0%B8%D0%B9_1970\n",
      "http://mo.wikipedia.org/wiki/%D0%90%D0%BD%D0%B8%D0%B9_1970\n",
      "http://mo.wikipedia.org/wiki/%D0%9F%D0%B0%D3%82%D0%B8%D0%BD%D0%B0_%D0%BF%D1%80%D0%B8%D0%BD%D1%87%D0%B8%D0%BF%D0%B0%D0%BB%D1%8D\n",
      "http://mo.wikipedia.org/wiki/%D0%9F%D0%B0%D3%82%D0%B8%D0%BD%D0%B0_%D0%BF%D1%80%D0%B8%D0%BD%D1%87%D0%B8%D0%BF%D0%B0%D0%BB%D1%8D\n"
     ]
    },
    {
     "data": {
      "application/vnd.jupyter.widget-view+json": {
       "model_id": "ba3dddd8f7204c88bf2246b2c2b1a9e8",
       "version_major": 2,
       "version_minor": 0
      },
      "text/plain": [
       "A Jupyter Widget"
      ]
     },
     "metadata": {},
     "output_type": "display_data"
    },
    {
     "name": "stdout",
     "output_type": "stream",
     "text": [
      "\n"
     ]
    },
    {
     "data": {
      "application/vnd.jupyter.widget-view+json": {
       "model_id": "9881cfac229e4a2f8874028bd19fa987",
       "version_major": 2,
       "version_minor": 0
      },
      "text/plain": [
       "A Jupyter Widget"
      ]
     },
     "metadata": {},
     "output_type": "display_data"
    },
    {
     "name": "stdout",
     "output_type": "stream",
     "text": [
      "\n"
     ]
    },
    {
     "data": {
      "application/vnd.jupyter.widget-view+json": {
       "model_id": "805acb63c49747b99a0c64c280b8365f",
       "version_major": 2,
       "version_minor": 0
      },
      "text/plain": [
       "A Jupyter Widget"
      ]
     },
     "metadata": {},
     "output_type": "display_data"
    },
    {
     "name": "stdout",
     "output_type": "stream",
     "text": [
      "\n"
     ]
    },
    {
     "data": {
      "application/vnd.jupyter.widget-view+json": {
       "model_id": "f64ea582f51e44e785cfa37375e8821c",
       "version_major": 2,
       "version_minor": 0
      },
      "text/plain": [
       "A Jupyter Widget"
      ]
     },
     "metadata": {},
     "output_type": "display_data"
    },
    {
     "name": "stdout",
     "output_type": "stream",
     "text": [
      "\n"
     ]
    },
    {
     "data": {
      "application/vnd.jupyter.widget-view+json": {
       "model_id": "5fd0539867b94c3dad457dae013acc94",
       "version_major": 2,
       "version_minor": 0
      },
      "text/plain": [
       "A Jupyter Widget"
      ]
     },
     "metadata": {},
     "output_type": "display_data"
    },
    {
     "name": "stdout",
     "output_type": "stream",
     "text": [
      "\n",
      "http://mo.wikipedia.org/wiki/2002\n",
      "http://mo.wikipedia.org/wiki/2003\n",
      "http://mo.wikipedia.org/wiki/2004\n",
      "http://mo.wikipedia.org/wiki/2005\n",
      "http://mo.wikipedia.org/wiki/2007\n",
      "http://mo.wikipedia.org/wiki/2008\n",
      "http://mo.wikipedia.org/wiki/2002\n",
      "http://mo.wikipedia.org/wiki/2003\n",
      "http://mo.wikipedia.org/wiki/2004\n",
      "http://mo.wikipedia.org/wiki/2005\n",
      "http://mo.wikipedia.org/wiki/2007\n",
      "http://mo.wikipedia.org/wiki/2008\n",
      "http://mo.wikipedia.org/wiki/%D0%90%D0%BD%D0%B8%D0%B9_1970\n",
      "http://mo.wikipedia.org/wiki/2006\n",
      "http://mo.wikipedia.org/wiki/2006\n",
      "http://mo.wikipedia.org/wiki/%D0%9F%D0%B0%D3%82%D0%B8%D0%BD%D0%B0_%D0%BF%D1%80%D0%B8%D0%BD%D1%87%D0%B8%D0%BF%D0%B0%D0%BB%D1%8D\n",
      "http://mo.wikipedia.org/wiki/%D0%9F%D0%B0%D3%82%D0%B8%D0%BD%D0%B0_%D0%BF%D1%80%D0%B8%D0%BD%D1%87%D0%B8%D0%BF%D0%B0%D0%BB%D1%8D\n"
     ]
    },
    {
     "data": {
      "application/vnd.jupyter.widget-view+json": {
       "model_id": "d27e48ab34324ad5a904b5affd1cefea",
       "version_major": 2,
       "version_minor": 0
      },
      "text/plain": [
       "A Jupyter Widget"
      ]
     },
     "metadata": {},
     "output_type": "display_data"
    },
    {
     "name": "stdout",
     "output_type": "stream",
     "text": [
      "\n"
     ]
    },
    {
     "data": {
      "application/vnd.jupyter.widget-view+json": {
       "model_id": "abf60b35d8ba495ab7f74d0858cd7155",
       "version_major": 2,
       "version_minor": 0
      },
      "text/plain": [
       "A Jupyter Widget"
      ]
     },
     "metadata": {},
     "output_type": "display_data"
    },
    {
     "name": "stdout",
     "output_type": "stream",
     "text": [
      "\n"
     ]
    },
    {
     "data": {
      "application/vnd.jupyter.widget-view+json": {
       "model_id": "dba999d79ef14dbf9619693a97dba616",
       "version_major": 2,
       "version_minor": 0
      },
      "text/plain": [
       "A Jupyter Widget"
      ]
     },
     "metadata": {},
     "output_type": "display_data"
    },
    {
     "name": "stdout",
     "output_type": "stream",
     "text": [
      "\n"
     ]
    },
    {
     "data": {
      "application/vnd.jupyter.widget-view+json": {
       "model_id": "876d943401054cf9ab4f2839b6a64a50",
       "version_major": 2,
       "version_minor": 0
      },
      "text/plain": [
       "A Jupyter Widget"
      ]
     },
     "metadata": {},
     "output_type": "display_data"
    },
    {
     "name": "stdout",
     "output_type": "stream",
     "text": [
      "\n"
     ]
    },
    {
     "data": {
      "application/vnd.jupyter.widget-view+json": {
       "model_id": "246f8407762a46f0a77d2abf18db2b29",
       "version_major": 2,
       "version_minor": 0
      },
      "text/plain": [
       "A Jupyter Widget"
      ]
     },
     "metadata": {},
     "output_type": "display_data"
    },
    {
     "name": "stdout",
     "output_type": "stream",
     "text": [
      "\n"
     ]
    },
    {
     "data": {
      "application/vnd.jupyter.widget-view+json": {
       "model_id": "3bc74afabea2465bb70e2fde667f9dad",
       "version_major": 2,
       "version_minor": 0
      },
      "text/plain": [
       "A Jupyter Widget"
      ]
     },
     "metadata": {},
     "output_type": "display_data"
    },
    {
     "name": "stdout",
     "output_type": "stream",
     "text": [
      "\n",
      "http://mo.wikipedia.org/wiki/2005\n",
      "http://mo.wikipedia.org/wiki/2006\n",
      "http://mo.wikipedia.org/wiki/2007\n",
      "http://mo.wikipedia.org/wiki/2009\n",
      "http://mo.wikipedia.org/wiki/2005\n",
      "http://mo.wikipedia.org/wiki/2006\n",
      "http://mo.wikipedia.org/wiki/2007\n",
      "http://mo.wikipedia.org/wiki/2009\n",
      "http://mo.wikipedia.org/wiki/%D0%90%D0%BD%D0%B8%D0%B9_1970\n",
      "http://mo.wikipedia.org/wiki/2008\n",
      "http://mo.wikipedia.org/wiki/2008\n",
      "http://mo.wikipedia.org/wiki/%D0%9F%D0%B0%D3%82%D0%B8%D0%BD%D0%B0_%D0%BF%D1%80%D0%B8%D0%BD%D1%87%D0%B8%D0%BF%D0%B0%D0%BB%D1%8D\n",
      "http://mo.wikipedia.org/wiki/%D0%9F%D0%B0%D3%82%D0%B8%D0%BD%D0%B0_%D0%BF%D1%80%D0%B8%D0%BD%D1%87%D0%B8%D0%BF%D0%B0%D0%BB%D1%8D\n"
     ]
    },
    {
     "data": {
      "application/vnd.jupyter.widget-view+json": {
       "model_id": "9ecc7c570c8b47d4950d33143706c419",
       "version_major": 2,
       "version_minor": 0
      },
      "text/plain": [
       "A Jupyter Widget"
      ]
     },
     "metadata": {},
     "output_type": "display_data"
    },
    {
     "name": "stdout",
     "output_type": "stream",
     "text": [
      "\n"
     ]
    },
    {
     "data": {
      "application/vnd.jupyter.widget-view+json": {
       "model_id": "e38802d63f2c4aa09c3bc277d4bcf4bb",
       "version_major": 2,
       "version_minor": 0
      },
      "text/plain": [
       "A Jupyter Widget"
      ]
     },
     "metadata": {},
     "output_type": "display_data"
    },
    {
     "name": "stdout",
     "output_type": "stream",
     "text": [
      "\n"
     ]
    },
    {
     "data": {
      "application/vnd.jupyter.widget-view+json": {
       "model_id": "c707300c91c54b8b9ccf4bbe4143eb18",
       "version_major": 2,
       "version_minor": 0
      },
      "text/plain": [
       "A Jupyter Widget"
      ]
     },
     "metadata": {},
     "output_type": "display_data"
    },
    {
     "name": "stdout",
     "output_type": "stream",
     "text": [
      "\n"
     ]
    },
    {
     "data": {
      "application/vnd.jupyter.widget-view+json": {
       "model_id": "77d45b2203614ae1907d1550e31c5a53",
       "version_major": 2,
       "version_minor": 0
      },
      "text/plain": [
       "A Jupyter Widget"
      ]
     },
     "metadata": {},
     "output_type": "display_data"
    },
    {
     "name": "stdout",
     "output_type": "stream",
     "text": [
      "\n"
     ]
    },
    {
     "data": {
      "application/vnd.jupyter.widget-view+json": {
       "model_id": "8b47e1295fae45098d6bf8a5036420ab",
       "version_major": 2,
       "version_minor": 0
      },
      "text/plain": [
       "A Jupyter Widget"
      ]
     },
     "metadata": {},
     "output_type": "display_data"
    },
    {
     "name": "stdout",
     "output_type": "stream",
     "text": [
      "\n"
     ]
    },
    {
     "data": {
      "application/vnd.jupyter.widget-view+json": {
       "model_id": "cdfdea6c96f24e08a72e76744917f5e8",
       "version_major": 2,
       "version_minor": 0
      },
      "text/plain": [
       "A Jupyter Widget"
      ]
     },
     "metadata": {},
     "output_type": "display_data"
    },
    {
     "name": "stdout",
     "output_type": "stream",
     "text": [
      "\n",
      "http://mo.wikipedia.org/wiki/2006\n",
      "http://mo.wikipedia.org/wiki/2007\n",
      "http://mo.wikipedia.org/wiki/2008\n",
      "http://mo.wikipedia.org/wiki/2006\n",
      "http://mo.wikipedia.org/wiki/2007\n",
      "http://mo.wikipedia.org/wiki/2008\n",
      "http://mo.wikipedia.org/wiki/%D0%90%D0%BD%D0%B8%D0%B9_1970\n",
      "http://mo.wikipedia.org/wiki/2009\n",
      "http://mo.wikipedia.org/wiki/2009\n",
      "http://mo.wikipedia.org/wiki/%D0%9F%D0%B0%D3%82%D0%B8%D0%BD%D0%B0_%D0%BF%D1%80%D0%B8%D0%BD%D1%87%D0%B8%D0%BF%D0%B0%D0%BB%D1%8D\n",
      "http://mo.wikipedia.org/wiki/%D0%9F%D0%B0%D3%82%D0%B8%D0%BD%D0%B0_%D0%BF%D1%80%D0%B8%D0%BD%D1%87%D0%B8%D0%BF%D0%B0%D0%BB%D1%8D\n"
     ]
    },
    {
     "data": {
      "application/vnd.jupyter.widget-view+json": {
       "model_id": "b26f36a49581426fbb0d9fb93dd43de8",
       "version_major": 2,
       "version_minor": 0
      },
      "text/plain": [
       "A Jupyter Widget"
      ]
     },
     "metadata": {},
     "output_type": "display_data"
    },
    {
     "name": "stdout",
     "output_type": "stream",
     "text": [
      "\n"
     ]
    },
    {
     "data": {
      "application/vnd.jupyter.widget-view+json": {
       "model_id": "94aaddf1c5e34ee79ea831e5cd976f77",
       "version_major": 2,
       "version_minor": 0
      },
      "text/plain": [
       "A Jupyter Widget"
      ]
     },
     "metadata": {},
     "output_type": "display_data"
    },
    {
     "name": "stdout",
     "output_type": "stream",
     "text": [
      "\n"
     ]
    },
    {
     "data": {
      "application/vnd.jupyter.widget-view+json": {
       "model_id": "2646cf81a6ca479682ddb449ed6adabe",
       "version_major": 2,
       "version_minor": 0
      },
      "text/plain": [
       "A Jupyter Widget"
      ]
     },
     "metadata": {},
     "output_type": "display_data"
    },
    {
     "name": "stdout",
     "output_type": "stream",
     "text": [
      "\n"
     ]
    },
    {
     "data": {
      "application/vnd.jupyter.widget-view+json": {
       "model_id": "4e33a0dc989845ebb351a603348c85e9",
       "version_major": 2,
       "version_minor": 0
      },
      "text/plain": [
       "A Jupyter Widget"
      ]
     },
     "metadata": {},
     "output_type": "display_data"
    },
    {
     "name": "stdout",
     "output_type": "stream",
     "text": [
      "\n"
     ]
    },
    {
     "data": {
      "application/vnd.jupyter.widget-view+json": {
       "model_id": "89c0271f73e6444ea936f3f264039cf9",
       "version_major": 2,
       "version_minor": 0
      },
      "text/plain": [
       "A Jupyter Widget"
      ]
     },
     "metadata": {},
     "output_type": "display_data"
    },
    {
     "name": "stdout",
     "output_type": "stream",
     "text": [
      "\n"
     ]
    },
    {
     "data": {
      "application/vnd.jupyter.widget-view+json": {
       "model_id": "172f8fdf15104f70b3db43123690445b",
       "version_major": 2,
       "version_minor": 0
      },
      "text/plain": [
       "A Jupyter Widget"
      ]
     },
     "metadata": {},
     "output_type": "display_data"
    },
    {
     "name": "stdout",
     "output_type": "stream",
     "text": [
      "\n"
     ]
    },
    {
     "data": {
      "application/vnd.jupyter.widget-view+json": {
       "model_id": "2f4580b14f6e4104aa6ace1f605735ce",
       "version_major": 2,
       "version_minor": 0
      },
      "text/plain": [
       "A Jupyter Widget"
      ]
     },
     "metadata": {},
     "output_type": "display_data"
    },
    {
     "name": "stdout",
     "output_type": "stream",
     "text": [
      "\n",
      "http://mo.wikipedia.org/wiki/2004\n",
      "http://mo.wikipedia.org/wiki/2005\n",
      "http://mo.wikipedia.org/wiki/2006\n",
      "http://mo.wikipedia.org/wiki/2008\n",
      "http://mo.wikipedia.org/wiki/2009\n",
      "http://mo.wikipedia.org/wiki/2004\n",
      "http://mo.wikipedia.org/wiki/2005\n",
      "http://mo.wikipedia.org/wiki/2006\n",
      "http://mo.wikipedia.org/wiki/2008\n",
      "http://mo.wikipedia.org/wiki/2009\n",
      "http://mo.wikipedia.org/wiki/%D0%90%D0%BD%D0%B8%D0%B9_1970\n",
      "http://mo.wikipedia.org/wiki/2007\n",
      "http://mo.wikipedia.org/wiki/2007\n",
      "http://mo.wikipedia.org/wiki/%D0%9F%D0%B0%D3%82%D0%B8%D0%BD%D0%B0_%D0%BF%D1%80%D0%B8%D0%BD%D1%87%D0%B8%D0%BF%D0%B0%D0%BB%D1%8D\n",
      "http://mo.wikipedia.org/wiki/%D0%9F%D0%B0%D3%82%D0%B8%D0%BD%D0%B0_%D0%BF%D1%80%D0%B8%D0%BD%D1%87%D0%B8%D0%BF%D0%B0%D0%BB%D1%8D\n"
     ]
    },
    {
     "data": {
      "application/vnd.jupyter.widget-view+json": {
       "model_id": "092402cb66cc492aa177b18cf7b626a0",
       "version_major": 2,
       "version_minor": 0
      },
      "text/plain": [
       "A Jupyter Widget"
      ]
     },
     "metadata": {},
     "output_type": "display_data"
    },
    {
     "name": "stdout",
     "output_type": "stream",
     "text": [
      "\n"
     ]
    },
    {
     "data": {
      "application/vnd.jupyter.widget-view+json": {
       "model_id": "7e866eacd453483388a53ef7709a3380",
       "version_major": 2,
       "version_minor": 0
      },
      "text/plain": [
       "A Jupyter Widget"
      ]
     },
     "metadata": {},
     "output_type": "display_data"
    },
    {
     "name": "stdout",
     "output_type": "stream",
     "text": [
      "\n"
     ]
    },
    {
     "data": {
      "application/vnd.jupyter.widget-view+json": {
       "model_id": "b9488cd744574417901b87b6638322a0",
       "version_major": 2,
       "version_minor": 0
      },
      "text/plain": [
       "A Jupyter Widget"
      ]
     },
     "metadata": {},
     "output_type": "display_data"
    },
    {
     "name": "stdout",
     "output_type": "stream",
     "text": [
      "\n"
     ]
    },
    {
     "data": {
      "application/vnd.jupyter.widget-view+json": {
       "model_id": "d1088cee84494d2cac1e42eac5e0caf2",
       "version_major": 2,
       "version_minor": 0
      },
      "text/plain": [
       "A Jupyter Widget"
      ]
     },
     "metadata": {},
     "output_type": "display_data"
    },
    {
     "name": "stdout",
     "output_type": "stream",
     "text": [
      "\n"
     ]
    },
    {
     "data": {
      "application/vnd.jupyter.widget-view+json": {
       "model_id": "ede543a5cc5e494883fe10ff5035f66b",
       "version_major": 2,
       "version_minor": 0
      },
      "text/plain": [
       "A Jupyter Widget"
      ]
     },
     "metadata": {},
     "output_type": "display_data"
    },
    {
     "name": "stdout",
     "output_type": "stream",
     "text": [
      "\n"
     ]
    },
    {
     "data": {
      "application/vnd.jupyter.widget-view+json": {
       "model_id": "951ae3963f734632bb5bd246be9b03e6",
       "version_major": 2,
       "version_minor": 0
      },
      "text/plain": [
       "A Jupyter Widget"
      ]
     },
     "metadata": {},
     "output_type": "display_data"
    },
    {
     "name": "stdout",
     "output_type": "stream",
     "text": [
      "\n"
     ]
    },
    {
     "data": {
      "application/vnd.jupyter.widget-view+json": {
       "model_id": "a6db663140df45b18c619f4d75feb8de",
       "version_major": 2,
       "version_minor": 0
      },
      "text/plain": [
       "A Jupyter Widget"
      ]
     },
     "metadata": {},
     "output_type": "display_data"
    },
    {
     "name": "stdout",
     "output_type": "stream",
     "text": [
      "\n"
     ]
    },
    {
     "data": {
      "application/vnd.jupyter.widget-view+json": {
       "model_id": "353bcc23dfe54a65a47dffc31d40ffa8",
       "version_major": 2,
       "version_minor": 0
      },
      "text/plain": [
       "A Jupyter Widget"
      ]
     },
     "metadata": {},
     "output_type": "display_data"
    },
    {
     "name": "stdout",
     "output_type": "stream",
     "text": [
      "\n"
     ]
    },
    {
     "data": {
      "application/vnd.jupyter.widget-view+json": {
       "model_id": "a1c83f5e38304a8bad0a94c160c5a323",
       "version_major": 2,
       "version_minor": 0
      },
      "text/plain": [
       "A Jupyter Widget"
      ]
     },
     "metadata": {},
     "output_type": "display_data"
    },
    {
     "name": "stdout",
     "output_type": "stream",
     "text": [
      "\n",
      "http://mo.wikipedia.org/wiki/1999\n",
      "http://mo.wikipedia.org/wiki/2000\n",
      "http://mo.wikipedia.org/wiki/2001\n",
      "http://mo.wikipedia.org/wiki/2002\n",
      "http://mo.wikipedia.org/wiki/2003\n",
      "http://mo.wikipedia.org/wiki/2004\n",
      "http://mo.wikipedia.org/wiki/2006\n",
      "http://mo.wikipedia.org/wiki/2007\n",
      "http://mo.wikipedia.org/wiki/2008\n",
      "http://mo.wikipedia.org/wiki/2009\n",
      "http://mo.wikipedia.org/wiki/%D0%90%D0%BD%D0%B8%D0%B9_1970\n",
      "http://mo.wikipedia.org/wiki/2004\n",
      "http://mo.wikipedia.org/wiki/%D0%A3%D0%BA%D1%80%D0%B0%D0%B8%D0%BD%D0%B0\n",
      "http://mo.wikipedia.org/wiki/%D0%96%D0%B0%D0%BF%D0%BE%D0%BD%D0%B8%D1%8F\n",
      "http://mo.wikipedia.org/wiki/%D0%98%D0%BE%D0%B0%D0%BD_%D0%9F%D0%B0%D1%83%D0%BB_%D0%B0%D0%BB_II-%D0%BB%D1%8F\n",
      "http://mo.wikipedia.org/wiki/%D3%81%D0%B5%D1%80%D0%BC%D0%B0%D0%BD%D0%B8%D1%8F\n",
      "http://mo.wikipedia.org/wiki/%D0%A4%D1%80%D0%B0%D0%BD%D1%86%D0%B0\n",
      "http://mo.wikipedia.org/wiki/%D0%A4%D1%80%D0%B0%D0%BD%D1%86%D0%B0\n",
      "http://mo.wikipedia.org/wiki/%D0%98%D1%80%D0%B0%D0%BA\n",
      "http://mo.wikipedia.org/wiki/%D3%81%D0%B5%D0%BE%D1%80%D3%82%D0%B8%D1%8F\n",
      "http://mo.wikipedia.org/wiki/%D0%A1%D0%A3%D0%90\n",
      "http://mo.wikipedia.org/wiki/%D0%98%D0%BE%D0%B0%D0%BD_%D0%9F%D0%B0%D1%83%D0%BB_%D0%B0%D0%BB_II-%D0%BB%D1%8F\n",
      "http://mo.wikipedia.org/wiki/%D0%A1%D0%A3%D0%90\n",
      "http://mo.wikipedia.org/wiki/2005\n",
      "http://mo.wikipedia.org/wiki/2005\n",
      "http://mo.wikipedia.org/wiki/%D0%9F%D0%B0%D3%82%D0%B8%D0%BD%D0%B0_%D0%BF%D1%80%D0%B8%D0%BD%D1%87%D0%B8%D0%BF%D0%B0%D0%BB%D1%8D\n",
      "http://mo.wikipedia.org/wiki/%D0%9F%D0%B0%D3%82%D0%B8%D0%BD%D0%B0_%D0%BF%D1%80%D0%B8%D0%BD%D1%87%D0%B8%D0%BF%D0%B0%D0%BB%D1%8D\n"
     ]
    },
    {
     "data": {
      "application/vnd.jupyter.widget-view+json": {
       "model_id": "f2bf6f9ab22a4b338bd35fb61ba20a3b",
       "version_major": 2,
       "version_minor": 0
      },
      "text/plain": [
       "A Jupyter Widget"
      ]
     },
     "metadata": {},
     "output_type": "display_data"
    },
    {
     "name": "stdout",
     "output_type": "stream",
     "text": [
      "\n"
     ]
    },
    {
     "data": {
      "application/vnd.jupyter.widget-view+json": {
       "model_id": "d74bb6859415405e9bee4aae640d20df",
       "version_major": 2,
       "version_minor": 0
      },
      "text/plain": [
       "A Jupyter Widget"
      ]
     },
     "metadata": {},
     "output_type": "display_data"
    },
    {
     "name": "stdout",
     "output_type": "stream",
     "text": [
      "\n"
     ]
    },
    {
     "data": {
      "application/vnd.jupyter.widget-view+json": {
       "model_id": "be0a3eb1c6674ed4a6f20e860b551d81",
       "version_major": 2,
       "version_minor": 0
      },
      "text/plain": [
       "A Jupyter Widget"
      ]
     },
     "metadata": {},
     "output_type": "display_data"
    },
    {
     "name": "stdout",
     "output_type": "stream",
     "text": [
      "\n"
     ]
    },
    {
     "data": {
      "application/vnd.jupyter.widget-view+json": {
       "model_id": "06c959ba1d1440eb87b527a08c59aee4",
       "version_major": 2,
       "version_minor": 0
      },
      "text/plain": [
       "A Jupyter Widget"
      ]
     },
     "metadata": {},
     "output_type": "display_data"
    },
    {
     "name": "stdout",
     "output_type": "stream",
     "text": [
      "\n"
     ]
    },
    {
     "data": {
      "application/vnd.jupyter.widget-view+json": {
       "model_id": "96873e6638d84d598427c24ec90afeba",
       "version_major": 2,
       "version_minor": 0
      },
      "text/plain": [
       "A Jupyter Widget"
      ]
     },
     "metadata": {},
     "output_type": "display_data"
    },
    {
     "name": "stdout",
     "output_type": "stream",
     "text": [
      "\n",
      "http://mo.wikipedia.org/wiki/%D0%9B%D0%B8%D0%BC%D0%B1%D1%8D_%D0%BE%D1%84%D0%B8%D1%87%D0%B8%D0%B0%D0%BB%D1%8D\n",
      "http://mo.wikipedia.org/wiki/%D0%9A%D0%B0%D0%BF%D0%B8%D1%82%D0%B0%D0%BB%D1%8D\n",
      "http://mo.wikipedia.org/wiki/%D0%A1%D0%B8%D1%81%D1%82%D0%B5%D0%BC_%D0%BF%D0%BE%D0%BB%D0%B8%D1%82%D0%B8%D0%BA\n",
      "http://mo.wikipedia.org/wiki/%D0%A1%D1%83%D0%BF%D1%80%D0%B0%D1%84%D0%B0%D1%86%D1%8D\n",
      "http://mo.wikipedia.org/wiki/%D0%9F%D0%BE%D0%BF%D1%83%D0%BB%D0%B0%D1%86%D0%B8%D0%B5\n",
      "http://mo.wikipedia.org/wiki/%D0%94%D0%B5%D0%BD%D1%81%D0%B8%D1%82%D0%B0%D1%82%D1%8F_%D0%BF%D0%BE%D0%BF%D1%83%D0%BB%D0%B0%D1%86%D0%B8%D0%B5%D0%B9\n",
      "http://mo.wikipedia.org/wiki/2000\n",
      "http://mo.wikipedia.org/wiki/%D0%9F%D1%80%D0%BE%D0%B4%D1%83%D1%81_%D0%B8%D0%BD%D1%82%D0%B5%D1%80%D0%BD_%D0%B1%D1%80%D1%83%D1%82\n",
      "http://mo.wikipedia.org/wiki/%D0%9C%D0%BE%D0%BD%D0%B5%D0%B4%D1%8D\n",
      "http://mo.wikipedia.org/wiki/%D0%A4%D1%83%D1%81_%D0%BE%D1%80%D0%B0%D1%80\n",
      "http://mo.wikipedia.org/wiki/%D0%98%D0%BC%D0%BD_%D0%BD%D0%B0%D1%86%D0%B8%D0%BE%D0%BD%D0%B0%D0%BB\n",
      "http://mo.wikipedia.org/wiki/%D0%94%D0%BE%D0%BC%D0%B5%D0%BD%D0%B8%D1%83_%D0%BD%D0%B0%D1%86%D0%B8%D0%BE%D0%BD%D0%B0%D0%BB_%D0%B4%D0%B5_%D0%BD%D0%B8%D0%B2%D0%B5%D0%BB_%D1%81%D1%83%D0%BF%D0%B5%D1%80%D0%B8%D0%BE%D1%80\n",
      "http://mo.wikipedia.org/wiki/%D0%A1%D1%82%D0%B0%D1%82%D0%B5%D0%BB%D0%B5_%D0%A3%D0%BD%D0%B8%D1%82%D0%B5_%D0%B0%D0%BB%D0%B5_%D0%90%D0%BC%D0%B5%D1%80%D0%B8%D1%87%D0%B8%D0%B9\n",
      "http://mo.wikipedia.org/wiki/%D0%A1%D1%82%D0%B0%D1%82%D0%B5%D0%BB%D0%B5_%D0%A3%D0%BD%D0%B8%D1%82%D0%B5_%D0%B0%D0%BB%D0%B5_%D0%90%D0%BC%D0%B5%D1%80%D0%B8%D1%87%D0%B8%D0%B9\n",
      "http://mo.wikipedia.org/wiki/%D0%9F%D0%B0%D3%82%D0%B8%D0%BD%D0%B0_%D0%BF%D1%80%D0%B8%D0%BD%D1%87%D0%B8%D0%BF%D0%B0%D0%BB%D1%8D\n",
      "http://mo.wikipedia.org/wiki/%D0%9F%D0%B0%D3%82%D0%B8%D0%BD%D0%B0_%D0%BF%D1%80%D0%B8%D0%BD%D1%87%D0%B8%D0%BF%D0%B0%D0%BB%D1%8D\n"
     ]
    },
    {
     "data": {
      "application/vnd.jupyter.widget-view+json": {
       "model_id": "24df90363b444e0d86938137e84ec090",
       "version_major": 2,
       "version_minor": 0
      },
      "text/plain": [
       "A Jupyter Widget"
      ]
     },
     "metadata": {},
     "output_type": "display_data"
    },
    {
     "name": "stdout",
     "output_type": "stream",
     "text": [
      "\n"
     ]
    },
    {
     "data": {
      "application/vnd.jupyter.widget-view+json": {
       "model_id": "2b83ecfb7f674db2b5ee8e5b45bf6dc8",
       "version_major": 2,
       "version_minor": 0
      },
      "text/plain": [
       "A Jupyter Widget"
      ]
     },
     "metadata": {},
     "output_type": "display_data"
    },
    {
     "name": "stdout",
     "output_type": "stream",
     "text": [
      "\n"
     ]
    },
    {
     "data": {
      "application/vnd.jupyter.widget-view+json": {
       "model_id": "79d293ee0b8c4193a4e6320dafb9391e",
       "version_major": 2,
       "version_minor": 0
      },
      "text/plain": [
       "A Jupyter Widget"
      ]
     },
     "metadata": {},
     "output_type": "display_data"
    },
    {
     "name": "stdout",
     "output_type": "stream",
     "text": [
      "\n",
      "http://mo.wikipedia.org/wiki/%D0%9B%D0%B8%D0%BC%D0%B1%D1%8D_%D0%BE%D1%84%D0%B8%D1%87%D0%B8%D0%B0%D0%BB%D1%8D\n",
      "http://mo.wikipedia.org/wiki/%D0%9A%D0%B0%D0%BF%D0%B8%D1%82%D0%B0%D0%BB%D1%8D\n",
      "http://mo.wikipedia.org/wiki/%D0%A1%D0%B8%D1%81%D1%82%D0%B5%D0%BC_%D0%BF%D0%BE%D0%BB%D0%B8%D1%82%D0%B8%D0%BA\n",
      "http://mo.wikipedia.org/wiki/%D0%A1%D1%83%D0%BF%D1%80%D0%B0%D1%84%D0%B0%D1%86%D1%8D\n",
      "http://mo.wikipedia.org/wiki/%D0%9F%D0%BE%D0%BF%D1%83%D0%BB%D0%B0%D1%86%D0%B8%D0%B5\n",
      "http://mo.wikipedia.org/wiki/%D0%94%D0%B5%D0%BD%D1%81%D0%B8%D1%82%D0%B0%D1%82%D1%8F_%D0%BF%D0%BE%D0%BF%D1%83%D0%BB%D0%B0%D1%86%D0%B8%D0%B5%D0%B9\n",
      "http://mo.wikipedia.org/wiki/2000\n",
      "http://mo.wikipedia.org/wiki/%D0%9F%D1%80%D0%BE%D0%B4%D1%83%D1%81_%D0%B8%D0%BD%D1%82%D0%B5%D1%80%D0%BD_%D0%B1%D1%80%D1%83%D1%82\n",
      "http://mo.wikipedia.org/wiki/%D0%9C%D0%BE%D0%BD%D0%B5%D0%B4%D1%8D\n",
      "http://mo.wikipedia.org/wiki/%D0%A4%D1%83%D1%81_%D0%BE%D1%80%D0%B0%D1%80\n",
      "http://mo.wikipedia.org/wiki/%D0%98%D0%BC%D0%BD_%D0%BD%D0%B0%D1%86%D0%B8%D0%BE%D0%BD%D0%B0%D0%BB\n",
      "http://mo.wikipedia.org/wiki/%D0%94%D0%BE%D0%BC%D0%B5%D0%BD%D0%B8%D1%83_%D0%BD%D0%B0%D1%86%D0%B8%D0%BE%D0%BD%D0%B0%D0%BB_%D0%B4%D0%B5_%D0%BD%D0%B8%D0%B2%D0%B5%D0%BB_%D1%81%D1%83%D0%BF%D0%B5%D1%80%D0%B8%D0%BE%D1%80\n",
      "http://mo.wikipedia.org/wiki/%D0%A1%D1%82%D0%B0%D1%82%D0%B5%D0%BB%D0%B5_%D0%A3%D0%BD%D0%B8%D1%82%D0%B5_%D0%B0%D0%BB%D0%B5_%D0%90%D0%BC%D0%B5%D1%80%D0%B8%D1%87%D0%B8%D0%B9\n",
      "http://mo.wikipedia.org/wiki/%D0%A1%D1%82%D0%B0%D1%82%D0%B5%D0%BB%D0%B5_%D0%A3%D0%BD%D0%B8%D1%82%D0%B5_%D0%B0%D0%BB%D0%B5_%D0%90%D0%BC%D0%B5%D1%80%D0%B8%D1%87%D0%B8%D0%B9\n",
      "http://mo.wikipedia.org/wiki/%D0%9F%D0%B0%D3%82%D0%B8%D0%BD%D0%B0_%D0%BF%D1%80%D0%B8%D0%BD%D1%87%D0%B8%D0%BF%D0%B0%D0%BB%D1%8D\n",
      "http://mo.wikipedia.org/wiki/%D0%9F%D0%B0%D3%82%D0%B8%D0%BD%D0%B0_%D0%BF%D1%80%D0%B8%D0%BD%D1%87%D0%B8%D0%BF%D0%B0%D0%BB%D1%8D\n"
     ]
    },
    {
     "data": {
      "application/vnd.jupyter.widget-view+json": {
       "model_id": "4a617b1315f841518c1f3e3ec68d7ecc",
       "version_major": 2,
       "version_minor": 0
      },
      "text/plain": [
       "A Jupyter Widget"
      ]
     },
     "metadata": {},
     "output_type": "display_data"
    },
    {
     "name": "stdout",
     "output_type": "stream",
     "text": [
      "\n"
     ]
    },
    {
     "data": {
      "application/vnd.jupyter.widget-view+json": {
       "model_id": "cc31bd3e1d82484c8ca9a27d8ef7040a",
       "version_major": 2,
       "version_minor": 0
      },
      "text/plain": [
       "A Jupyter Widget"
      ]
     },
     "metadata": {},
     "output_type": "display_data"
    },
    {
     "name": "stdout",
     "output_type": "stream",
     "text": [
      "\n"
     ]
    },
    {
     "data": {
      "application/vnd.jupyter.widget-view+json": {
       "model_id": "afb656655d9242af84c5b7d7615a7b8e",
       "version_major": 2,
       "version_minor": 0
      },
      "text/plain": [
       "A Jupyter Widget"
      ]
     },
     "metadata": {},
     "output_type": "display_data"
    },
    {
     "name": "stdout",
     "output_type": "stream",
     "text": [
      "\n"
     ]
    },
    {
     "data": {
      "application/vnd.jupyter.widget-view+json": {
       "model_id": "b66048235a75453baaf5dc920015d0b2",
       "version_major": 2,
       "version_minor": 0
      },
      "text/plain": [
       "A Jupyter Widget"
      ]
     },
     "metadata": {},
     "output_type": "display_data"
    },
    {
     "name": "stdout",
     "output_type": "stream",
     "text": [
      "\n"
     ]
    },
    {
     "data": {
      "application/vnd.jupyter.widget-view+json": {
       "model_id": "fd3d47fb246640e492cbdf2db26e98cd",
       "version_major": 2,
       "version_minor": 0
      },
      "text/plain": [
       "A Jupyter Widget"
      ]
     },
     "metadata": {},
     "output_type": "display_data"
    },
    {
     "name": "stdout",
     "output_type": "stream",
     "text": [
      "\n",
      "http://mo.wikipedia.org/wiki/%D0%94%D0%BE%D0%BC%D0%B5%D0%BD%D0%B8%D1%83_%D0%BD%D0%B0%D1%86%D0%B8%D0%BE%D0%BD%D0%B0%D0%BB_%D0%B4%D0%B5_%D0%BD%D0%B8%D0%B2%D0%B5%D0%BB_%D1%81%D1%83%D0%BF%D0%B5%D1%80%D0%B8%D0%BE%D1%80\n",
      "http://mo.wikipedia.org/wiki/%D0%94%D0%BE%D0%BC%D0%B5%D0%BD%D0%B8%D1%83_%D0%BD%D0%B0%D1%86%D0%B8%D0%BE%D0%BD%D0%B0%D0%BB_%D0%B4%D0%B5_%D0%BD%D0%B8%D0%B2%D0%B5%D0%BB_%D1%81%D1%83%D0%BF%D0%B5%D1%80%D0%B8%D0%BE%D1%80\n",
      "http://mo.wikipedia.org/wiki/%D0%9F%D0%B0%D3%82%D0%B8%D0%BD%D0%B0_%D0%BF%D1%80%D0%B8%D0%BD%D1%87%D0%B8%D0%BF%D0%B0%D0%BB%D1%8D\n",
      "http://mo.wikipedia.org/wiki/%D0%9F%D0%B0%D3%82%D0%B8%D0%BD%D0%B0_%D0%BF%D1%80%D0%B8%D0%BD%D1%87%D0%B8%D0%BF%D0%B0%D0%BB%D1%8D\n"
     ]
    },
    {
     "data": {
      "application/vnd.jupyter.widget-view+json": {
       "model_id": "cc9903985fdd4b5383e1e32c5bf52930",
       "version_major": 2,
       "version_minor": 0
      },
      "text/plain": [
       "A Jupyter Widget"
      ]
     },
     "metadata": {},
     "output_type": "display_data"
    },
    {
     "name": "stdout",
     "output_type": "stream",
     "text": [
      "\n"
     ]
    },
    {
     "data": {
      "application/vnd.jupyter.widget-view+json": {
       "model_id": "71808219687244b9be0fc4bbb565108a",
       "version_major": 2,
       "version_minor": 0
      },
      "text/plain": [
       "A Jupyter Widget"
      ]
     },
     "metadata": {},
     "output_type": "display_data"
    },
    {
     "name": "stdout",
     "output_type": "stream",
     "text": [
      "\n"
     ]
    },
    {
     "data": {
      "application/vnd.jupyter.widget-view+json": {
       "model_id": "dd92bf9b77c847a19408e143b605195b",
       "version_major": 2,
       "version_minor": 0
      },
      "text/plain": [
       "A Jupyter Widget"
      ]
     },
     "metadata": {},
     "output_type": "display_data"
    },
    {
     "name": "stdout",
     "output_type": "stream",
     "text": [
      "\n"
     ]
    },
    {
     "data": {
      "application/vnd.jupyter.widget-view+json": {
       "model_id": "5ad2d31601684048bb02eb7ea328acd1",
       "version_major": 2,
       "version_minor": 0
      },
      "text/plain": [
       "A Jupyter Widget"
      ]
     },
     "metadata": {},
     "output_type": "display_data"
    },
    {
     "name": "stdout",
     "output_type": "stream",
     "text": [
      "\n"
     ]
    },
    {
     "data": {
      "application/vnd.jupyter.widget-view+json": {
       "model_id": "e6ae43449b844ca99c57d1b82c52d43f",
       "version_major": 2,
       "version_minor": 0
      },
      "text/plain": [
       "A Jupyter Widget"
      ]
     },
     "metadata": {},
     "output_type": "display_data"
    },
    {
     "name": "stdout",
     "output_type": "stream",
     "text": [
      "\n",
      "http://mo.wikipedia.org/wiki/%D0%98%D0%BC%D0%BD_%D0%BD%D0%B0%D1%86%D0%B8%D0%BE%D0%BD%D0%B0%D0%BB\n",
      "http://mo.wikipedia.org/wiki/%D0%98%D0%BC%D0%BD_%D0%BD%D0%B0%D1%86%D0%B8%D0%BE%D0%BD%D0%B0%D0%BB\n",
      "http://mo.wikipedia.org/wiki/%D0%9F%D0%B0%D3%82%D0%B8%D0%BD%D0%B0_%D0%BF%D1%80%D0%B8%D0%BD%D1%87%D0%B8%D0%BF%D0%B0%D0%BB%D1%8D\n",
      "http://mo.wikipedia.org/wiki/%D0%9F%D0%B0%D3%82%D0%B8%D0%BD%D0%B0_%D0%BF%D1%80%D0%B8%D0%BD%D1%87%D0%B8%D0%BF%D0%B0%D0%BB%D1%8D\n"
     ]
    },
    {
     "data": {
      "application/vnd.jupyter.widget-view+json": {
       "model_id": "47ebafd888ca45869ff1cdeaebb279c6",
       "version_major": 2,
       "version_minor": 0
      },
      "text/plain": [
       "A Jupyter Widget"
      ]
     },
     "metadata": {},
     "output_type": "display_data"
    },
    {
     "name": "stdout",
     "output_type": "stream",
     "text": [
      "\n"
     ]
    },
    {
     "data": {
      "application/vnd.jupyter.widget-view+json": {
       "model_id": "4f8ba7873b3f401a813396737ef5905d",
       "version_major": 2,
       "version_minor": 0
      },
      "text/plain": [
       "A Jupyter Widget"
      ]
     },
     "metadata": {},
     "output_type": "display_data"
    },
    {
     "name": "stdout",
     "output_type": "stream",
     "text": [
      "\n"
     ]
    },
    {
     "data": {
      "application/vnd.jupyter.widget-view+json": {
       "model_id": "b7a38b42cc04429883ad3fa2e35f254a",
       "version_major": 2,
       "version_minor": 0
      },
      "text/plain": [
       "A Jupyter Widget"
      ]
     },
     "metadata": {},
     "output_type": "display_data"
    },
    {
     "name": "stdout",
     "output_type": "stream",
     "text": [
      "\n"
     ]
    },
    {
     "data": {
      "application/vnd.jupyter.widget-view+json": {
       "model_id": "8d990c5e289743979522dd1c715bf4fc",
       "version_major": 2,
       "version_minor": 0
      },
      "text/plain": [
       "A Jupyter Widget"
      ]
     },
     "metadata": {},
     "output_type": "display_data"
    },
    {
     "name": "stdout",
     "output_type": "stream",
     "text": [
      "\n"
     ]
    },
    {
     "data": {
      "application/vnd.jupyter.widget-view+json": {
       "model_id": "1dd525feaa2b4842b07c2104541e0e02",
       "version_major": 2,
       "version_minor": 0
      },
      "text/plain": [
       "A Jupyter Widget"
      ]
     },
     "metadata": {},
     "output_type": "display_data"
    },
    {
     "name": "stdout",
     "output_type": "stream",
     "text": [
      "\n",
      "http://mo.wikipedia.org/wiki/%D0%9F%D1%8D%D0%BC%D1%8B%D0%BD%D1%82\n",
      "http://mo.wikipedia.org/wiki/%D0%9A%D0%B0%D0%BB%D0%B8%D1%84%D0%BE%D1%80%D0%BD%D0%B8%D1%8F\n",
      "http://mo.wikipedia.org/wiki/%D0%A1%D1%82%D0%B0%D1%82%D0%B5%D0%BB%D0%B5_%D0%A3%D0%BD%D0%B8%D1%82%D0%B5_%D0%B0%D0%BB%D0%B5_%D0%90%D0%BC%D0%B5%D1%80%D0%B8%D1%87%D0%B8%D0%B9\n",
      "http://mo.wikipedia.org/wiki/%D0%A1%D1%83%D0%B5%D0%B4%D0%B8%D1%8F\n",
      "http://mo.wikipedia.org/wiki/%D0%A2%D1%83%D1%80%D1%87%D0%B8%D1%8F\n",
      "http://mo.wikipedia.org/wiki/%D0%98%D0%BD%D0%B4%D0%B8%D1%8F\n",
      "http://mo.wikipedia.org/wiki/%D0%96%D0%B0%D0%BF%D0%BE%D0%BD%D0%B8%D1%8F\n",
      "http://mo.wikipedia.org/wiki/%D0%A1%D1%82%D0%B0%D1%82%D0%B5%D0%BB%D0%B5_%D0%A3%D0%BD%D0%B8%D1%82%D0%B5_%D0%B0%D0%BB%D0%B5_%D0%90%D0%BC%D0%B5%D1%80%D0%B8%D1%87%D0%B8%D0%B9\n",
      "http://mo.wikipedia.org/wiki/%D0%A4%D1%83%D1%81_%D0%BE%D1%80%D0%B0%D1%80\n",
      "http://mo.wikipedia.org/wiki/%D0%A4%D1%83%D1%81_%D0%BE%D1%80%D0%B0%D1%80\n",
      "http://mo.wikipedia.org/wiki/%D0%9F%D0%B0%D3%82%D0%B8%D0%BD%D0%B0_%D0%BF%D1%80%D0%B8%D0%BD%D1%87%D0%B8%D0%BF%D0%B0%D0%BB%D1%8D\n",
      "http://mo.wikipedia.org/wiki/%D0%9F%D0%B0%D3%82%D0%B8%D0%BD%D0%B0_%D0%BF%D1%80%D0%B8%D0%BD%D1%87%D0%B8%D0%BF%D0%B0%D0%BB%D1%8D\n"
     ]
    },
    {
     "data": {
      "application/vnd.jupyter.widget-view+json": {
       "model_id": "27cbec9d2fe44f2faa26b6a6a4d32f17",
       "version_major": 2,
       "version_minor": 0
      },
      "text/plain": [
       "A Jupyter Widget"
      ]
     },
     "metadata": {},
     "output_type": "display_data"
    },
    {
     "name": "stdout",
     "output_type": "stream",
     "text": [
      "\n"
     ]
    },
    {
     "data": {
      "application/vnd.jupyter.widget-view+json": {
       "model_id": "6eeee88dd773479d980559d5661b7843",
       "version_major": 2,
       "version_minor": 0
      },
      "text/plain": [
       "A Jupyter Widget"
      ]
     },
     "metadata": {},
     "output_type": "display_data"
    },
    {
     "name": "stdout",
     "output_type": "stream",
     "text": [
      "\n"
     ]
    },
    {
     "data": {
      "application/vnd.jupyter.widget-view+json": {
       "model_id": "521c7da7eaac4c0fa5755fe2537d0186",
       "version_major": 2,
       "version_minor": 0
      },
      "text/plain": [
       "A Jupyter Widget"
      ]
     },
     "metadata": {},
     "output_type": "display_data"
    },
    {
     "name": "stdout",
     "output_type": "stream",
     "text": [
      "\n"
     ]
    },
    {
     "data": {
      "application/vnd.jupyter.widget-view+json": {
       "model_id": "401c1221f93c433eb69df225bd19ee23",
       "version_major": 2,
       "version_minor": 0
      },
      "text/plain": [
       "A Jupyter Widget"
      ]
     },
     "metadata": {},
     "output_type": "display_data"
    },
    {
     "name": "stdout",
     "output_type": "stream",
     "text": [
      "\n"
     ]
    },
    {
     "data": {
      "application/vnd.jupyter.widget-view+json": {
       "model_id": "5fcae0b8864147309bfd22ed249b6459",
       "version_major": 2,
       "version_minor": 0
      },
      "text/plain": [
       "A Jupyter Widget"
      ]
     },
     "metadata": {},
     "output_type": "display_data"
    },
    {
     "name": "stdout",
     "output_type": "stream",
     "text": [
      "\n"
     ]
    },
    {
     "data": {
      "application/vnd.jupyter.widget-view+json": {
       "model_id": "03621ea114714f98820d3d370040add1",
       "version_major": 2,
       "version_minor": 0
      },
      "text/plain": [
       "A Jupyter Widget"
      ]
     },
     "metadata": {},
     "output_type": "display_data"
    },
    {
     "name": "stdout",
     "output_type": "stream",
     "text": [
      "\n",
      "http://mo.wikipedia.org/wiki/%D0%96%D0%B0%D0%BF%D0%BE%D0%BD%D0%B8%D1%8F\n",
      "http://mo.wikipedia.org/wiki/%D0%96%D0%B0%D0%BF%D0%BE%D0%BD%D0%B8%D1%8F\n",
      "http://mo.wikipedia.org/wiki/%D0%9F%D0%B0%D3%82%D0%B8%D0%BD%D0%B0_%D0%BF%D1%80%D0%B8%D0%BD%D1%87%D0%B8%D0%BF%D0%B0%D0%BB%D1%8D\n",
      "http://mo.wikipedia.org/wiki/%D0%9F%D0%B0%D3%82%D0%B8%D0%BD%D0%B0_%D0%BF%D1%80%D0%B8%D0%BD%D1%87%D0%B8%D0%BF%D0%B0%D0%BB%D1%8D\n"
     ]
    },
    {
     "data": {
      "application/vnd.jupyter.widget-view+json": {
       "model_id": "12ef61f589ed48bc9eecbdee74996e01",
       "version_major": 2,
       "version_minor": 0
      },
      "text/plain": [
       "A Jupyter Widget"
      ]
     },
     "metadata": {},
     "output_type": "display_data"
    },
    {
     "name": "stdout",
     "output_type": "stream",
     "text": [
      "\n"
     ]
    },
    {
     "data": {
      "application/vnd.jupyter.widget-view+json": {
       "model_id": "6ab7d4af9add41a2b74e4d1767a0a881",
       "version_major": 2,
       "version_minor": 0
      },
      "text/plain": [
       "A Jupyter Widget"
      ]
     },
     "metadata": {},
     "output_type": "display_data"
    },
    {
     "name": "stdout",
     "output_type": "stream",
     "text": [
      "\n"
     ]
    },
    {
     "data": {
      "application/vnd.jupyter.widget-view+json": {
       "model_id": "45466e6b343c4dbc9d230d0edcd84eb1",
       "version_major": 2,
       "version_minor": 0
      },
      "text/plain": [
       "A Jupyter Widget"
      ]
     },
     "metadata": {},
     "output_type": "display_data"
    },
    {
     "name": "stdout",
     "output_type": "stream",
     "text": [
      "\n"
     ]
    },
    {
     "data": {
      "application/vnd.jupyter.widget-view+json": {
       "model_id": "18cc67e0569b4079ac1deb7815fe42a2",
       "version_major": 2,
       "version_minor": 0
      },
      "text/plain": [
       "A Jupyter Widget"
      ]
     },
     "metadata": {},
     "output_type": "display_data"
    },
    {
     "name": "stdout",
     "output_type": "stream",
     "text": [
      "\n"
     ]
    },
    {
     "data": {
      "application/vnd.jupyter.widget-view+json": {
       "model_id": "a0143eb1379d44989afc5bbac89fd586",
       "version_major": 2,
       "version_minor": 0
      },
      "text/plain": [
       "A Jupyter Widget"
      ]
     },
     "metadata": {},
     "output_type": "display_data"
    },
    {
     "name": "stdout",
     "output_type": "stream",
     "text": [
      "\n",
      "http://mo.wikipedia.org/wiki/%D0%9B%D0%B8%D0%BC%D0%B1%D1%8D_%D0%BE%D1%84%D0%B8%D1%87%D0%B8%D0%B0%D0%BB%D1%8D\n",
      "http://mo.wikipedia.org/wiki/%D0%9A%D0%B0%D0%BF%D0%B8%D1%82%D0%B0%D0%BB%D1%8D\n",
      "http://mo.wikipedia.org/wiki/%D0%A1%D0%B8%D1%81%D1%82%D0%B5%D0%BC_%D0%BF%D0%BE%D0%BB%D0%B8%D1%82%D0%B8%D0%BA\n",
      "http://mo.wikipedia.org/wiki/%D0%A1%D1%83%D0%BF%D1%80%D0%B0%D1%84%D0%B0%D1%86%D1%8D\n",
      "http://mo.wikipedia.org/wiki/%D0%9F%D0%BE%D0%BF%D1%83%D0%BB%D0%B0%D1%86%D0%B8%D0%B5\n",
      "http://mo.wikipedia.org/wiki/%D0%94%D0%B5%D0%BD%D1%81%D0%B8%D1%82%D0%B0%D1%82%D1%8F_%D0%BF%D0%BE%D0%BF%D1%83%D0%BB%D0%B0%D1%86%D0%B8%D0%B5%D0%B9\n",
      "http://mo.wikipedia.org/wiki/%D0%9F%D1%80%D0%BE%D0%B4%D1%83%D1%81_%D0%B8%D0%BD%D1%82%D0%B5%D1%80%D0%BD_%D0%B1%D1%80%D1%83%D1%82\n",
      "http://mo.wikipedia.org/wiki/%D0%9C%D0%BE%D0%BD%D0%B5%D0%B4%D1%8D\n",
      "http://mo.wikipedia.org/wiki/%D0%A4%D1%83%D1%81_%D0%BE%D1%80%D0%B0%D1%80\n",
      "http://mo.wikipedia.org/wiki/%D0%98%D0%BC%D0%BD_%D0%BD%D0%B0%D1%86%D0%B8%D0%BE%D0%BD%D0%B0%D0%BB\n",
      "http://mo.wikipedia.org/wiki/%D0%94%D0%BE%D0%BC%D0%B5%D0%BD%D0%B8%D1%83_%D0%BD%D0%B0%D1%86%D0%B8%D0%BE%D0%BD%D0%B0%D0%BB_%D0%B4%D0%B5_%D0%BD%D0%B8%D0%B2%D0%B5%D0%BB_%D1%81%D1%83%D0%BF%D0%B5%D1%80%D0%B8%D0%BE%D1%80\n",
      "http://mo.wikipedia.org/wiki/%D0%98%D0%BD%D0%B4%D0%B8%D1%8F\n",
      "http://mo.wikipedia.org/wiki/%D0%98%D0%BD%D0%B4%D0%B8%D1%8F\n",
      "http://mo.wikipedia.org/wiki/%D0%9F%D0%B0%D3%82%D0%B8%D0%BD%D0%B0_%D0%BF%D1%80%D0%B8%D0%BD%D1%87%D0%B8%D0%BF%D0%B0%D0%BB%D1%8D\n",
      "http://mo.wikipedia.org/wiki/%D0%9F%D0%B0%D3%82%D0%B8%D0%BD%D0%B0_%D0%BF%D1%80%D0%B8%D0%BD%D1%87%D0%B8%D0%BF%D0%B0%D0%BB%D1%8D\n"
     ]
    },
    {
     "data": {
      "application/vnd.jupyter.widget-view+json": {
       "model_id": "978455577092403ebfa0eccc2600460b",
       "version_major": 2,
       "version_minor": 0
      },
      "text/plain": [
       "A Jupyter Widget"
      ]
     },
     "metadata": {},
     "output_type": "display_data"
    },
    {
     "name": "stdout",
     "output_type": "stream",
     "text": [
      "\n"
     ]
    },
    {
     "data": {
      "application/vnd.jupyter.widget-view+json": {
       "model_id": "dff9b99fc80d4175a90dcd63900a99d0",
       "version_major": 2,
       "version_minor": 0
      },
      "text/plain": [
       "A Jupyter Widget"
      ]
     },
     "metadata": {},
     "output_type": "display_data"
    },
    {
     "name": "stdout",
     "output_type": "stream",
     "text": [
      "\n"
     ]
    },
    {
     "data": {
      "application/vnd.jupyter.widget-view+json": {
       "model_id": "4649d5b889b8459084711e6e39eb3e6c",
       "version_major": 2,
       "version_minor": 0
      },
      "text/plain": [
       "A Jupyter Widget"
      ]
     },
     "metadata": {},
     "output_type": "display_data"
    },
    {
     "name": "stdout",
     "output_type": "stream",
     "text": [
      "\n"
     ]
    },
    {
     "data": {
      "application/vnd.jupyter.widget-view+json": {
       "model_id": "b6674da572ee4916a847d48665268db7",
       "version_major": 2,
       "version_minor": 0
      },
      "text/plain": [
       "A Jupyter Widget"
      ]
     },
     "metadata": {},
     "output_type": "display_data"
    },
    {
     "name": "stdout",
     "output_type": "stream",
     "text": [
      "\n"
     ]
    },
    {
     "data": {
      "application/vnd.jupyter.widget-view+json": {
       "model_id": "140d1d3171ff4c96a12846e688162c68",
       "version_major": 2,
       "version_minor": 0
      },
      "text/plain": [
       "A Jupyter Widget"
      ]
     },
     "metadata": {},
     "output_type": "display_data"
    },
    {
     "name": "stdout",
     "output_type": "stream",
     "text": [
      "\n"
     ]
    },
    {
     "data": {
      "application/vnd.jupyter.widget-view+json": {
       "model_id": "229bbf879c6a4b6e8ecc5f45b0163b2a",
       "version_major": 2,
       "version_minor": 0
      },
      "text/plain": [
       "A Jupyter Widget"
      ]
     },
     "metadata": {},
     "output_type": "display_data"
    },
    {
     "name": "stdout",
     "output_type": "stream",
     "text": [
      "\n"
     ]
    },
    {
     "data": {
      "application/vnd.jupyter.widget-view+json": {
       "model_id": "1f9a6223dd9d44a8af06fd9daa1f1268",
       "version_major": 2,
       "version_minor": 0
      },
      "text/plain": [
       "A Jupyter Widget"
      ]
     },
     "metadata": {},
     "output_type": "display_data"
    },
    {
     "name": "stdout",
     "output_type": "stream",
     "text": [
      "\n"
     ]
    },
    {
     "data": {
      "application/vnd.jupyter.widget-view+json": {
       "model_id": "96141a61882848dfbfd98d424b14a380",
       "version_major": 2,
       "version_minor": 0
      },
      "text/plain": [
       "A Jupyter Widget"
      ]
     },
     "metadata": {},
     "output_type": "display_data"
    },
    {
     "name": "stdout",
     "output_type": "stream",
     "text": [
      "\n",
      "http://mo.wikipedia.org/wiki/%D0%9C%D0%BE%D0%BD%D0%B5%D0%B4%D1%8D\n",
      "http://mo.wikipedia.org/wiki/%D0%9C%D0%BE%D0%BD%D0%B5%D0%B4%D1%8D\n",
      "http://mo.wikipedia.org/wiki/%D0%9F%D0%B0%D3%82%D0%B8%D0%BD%D0%B0_%D0%BF%D1%80%D0%B8%D0%BD%D1%87%D0%B8%D0%BF%D0%B0%D0%BB%D1%8D\n",
      "http://mo.wikipedia.org/wiki/%D0%9F%D0%B0%D3%82%D0%B8%D0%BD%D0%B0_%D0%BF%D1%80%D0%B8%D0%BD%D1%87%D0%B8%D0%BF%D0%B0%D0%BB%D1%8D\n"
     ]
    },
    {
     "data": {
      "application/vnd.jupyter.widget-view+json": {
       "model_id": "fafcf82472c74621a5537e947978508d",
       "version_major": 2,
       "version_minor": 0
      },
      "text/plain": [
       "A Jupyter Widget"
      ]
     },
     "metadata": {},
     "output_type": "display_data"
    },
    {
     "name": "stdout",
     "output_type": "stream",
     "text": [
      "\n"
     ]
    },
    {
     "data": {
      "application/vnd.jupyter.widget-view+json": {
       "model_id": "45f6f1e79f544ed7995bda178dda1804",
       "version_major": 2,
       "version_minor": 0
      },
      "text/plain": [
       "A Jupyter Widget"
      ]
     },
     "metadata": {},
     "output_type": "display_data"
    },
    {
     "name": "stdout",
     "output_type": "stream",
     "text": [
      "\n"
     ]
    },
    {
     "data": {
      "application/vnd.jupyter.widget-view+json": {
       "model_id": "53ea421706434ac08fa8bcc79d15bbda",
       "version_major": 2,
       "version_minor": 0
      },
      "text/plain": [
       "A Jupyter Widget"
      ]
     },
     "metadata": {},
     "output_type": "display_data"
    },
    {
     "name": "stdout",
     "output_type": "stream",
     "text": [
      "\n"
     ]
    },
    {
     "data": {
      "application/vnd.jupyter.widget-view+json": {
       "model_id": "6de0a56298d14518ab3d19b902df2809",
       "version_major": 2,
       "version_minor": 0
      },
      "text/plain": [
       "A Jupyter Widget"
      ]
     },
     "metadata": {},
     "output_type": "display_data"
    },
    {
     "name": "stdout",
     "output_type": "stream",
     "text": [
      "\n"
     ]
    },
    {
     "data": {
      "application/vnd.jupyter.widget-view+json": {
       "model_id": "e6b9fa7ad70f400aa34842907bd667cb",
       "version_major": 2,
       "version_minor": 0
      },
      "text/plain": [
       "A Jupyter Widget"
      ]
     },
     "metadata": {},
     "output_type": "display_data"
    },
    {
     "name": "stdout",
     "output_type": "stream",
     "text": [
      "\n",
      "http://mo.wikipedia.org/wiki/%D0%9F%D1%80%D0%BE%D0%B4%D1%83%D1%81_%D0%B8%D0%BD%D1%82%D0%B5%D1%80%D0%BD_%D0%B1%D1%80%D1%83%D1%82\n",
      "http://mo.wikipedia.org/wiki/%D0%9F%D1%80%D0%BE%D0%B4%D1%83%D1%81_%D0%B8%D0%BD%D1%82%D0%B5%D1%80%D0%BD_%D0%B1%D1%80%D1%83%D1%82\n",
      "http://mo.wikipedia.org/wiki/%D0%9F%D0%B0%D3%82%D0%B8%D0%BD%D0%B0_%D0%BF%D1%80%D0%B8%D0%BD%D1%87%D0%B8%D0%BF%D0%B0%D0%BB%D1%8D\n",
      "http://mo.wikipedia.org/wiki/%D0%9F%D0%B0%D3%82%D0%B8%D0%BD%D0%B0_%D0%BF%D1%80%D0%B8%D0%BD%D1%87%D0%B8%D0%BF%D0%B0%D0%BB%D1%8D\n"
     ]
    },
    {
     "data": {
      "application/vnd.jupyter.widget-view+json": {
       "model_id": "b3497c383e754dc5a9ddc74d6b9e2e42",
       "version_major": 2,
       "version_minor": 0
      },
      "text/plain": [
       "A Jupyter Widget"
      ]
     },
     "metadata": {},
     "output_type": "display_data"
    },
    {
     "name": "stdout",
     "output_type": "stream",
     "text": [
      "\n"
     ]
    },
    {
     "data": {
      "application/vnd.jupyter.widget-view+json": {
       "model_id": "e363b2158e9a4880af1e690eb97e8ed2",
       "version_major": 2,
       "version_minor": 0
      },
      "text/plain": [
       "A Jupyter Widget"
      ]
     },
     "metadata": {},
     "output_type": "display_data"
    },
    {
     "name": "stdout",
     "output_type": "stream",
     "text": [
      "\n"
     ]
    },
    {
     "data": {
      "application/vnd.jupyter.widget-view+json": {
       "model_id": "5f8bfb9633e14b53a0cd4080a7df4c72",
       "version_major": 2,
       "version_minor": 0
      },
      "text/plain": [
       "A Jupyter Widget"
      ]
     },
     "metadata": {},
     "output_type": "display_data"
    },
    {
     "name": "stdout",
     "output_type": "stream",
     "text": [
      "\n"
     ]
    },
    {
     "data": {
      "application/vnd.jupyter.widget-view+json": {
       "model_id": "c74f24b2f0cc4b509ee605e8afea556d",
       "version_major": 2,
       "version_minor": 0
      },
      "text/plain": [
       "A Jupyter Widget"
      ]
     },
     "metadata": {},
     "output_type": "display_data"
    },
    {
     "name": "stdout",
     "output_type": "stream",
     "text": [
      "\n"
     ]
    },
    {
     "data": {
      "application/vnd.jupyter.widget-view+json": {
       "model_id": "d10b3e7b06bc4a2eb99eab472e391cac",
       "version_major": 2,
       "version_minor": 0
      },
      "text/plain": [
       "A Jupyter Widget"
      ]
     },
     "metadata": {},
     "output_type": "display_data"
    },
    {
     "name": "stdout",
     "output_type": "stream",
     "text": [
      "\n",
      "http://mo.wikipedia.org/wiki/%D0%9F%D1%8D%D0%BC%D1%8B%D0%BD%D1%82\n",
      "http://mo.wikipedia.org/wiki/%D0%94%D0%B5%D0%BD%D1%81%D0%B8%D1%82%D0%B0%D1%82%D1%8F_%D0%BF%D0%BE%D0%BF%D1%83%D0%BB%D0%B0%D1%86%D0%B8%D0%B5%D0%B9\n",
      "http://mo.wikipedia.org/wiki/%D0%94%D0%B5%D0%BD%D1%81%D0%B8%D1%82%D0%B0%D1%82%D1%8F_%D0%BF%D0%BE%D0%BF%D1%83%D0%BB%D0%B0%D1%86%D0%B8%D0%B5%D0%B9\n",
      "http://mo.wikipedia.org/wiki/%D0%9F%D0%B0%D3%82%D0%B8%D0%BD%D0%B0_%D0%BF%D1%80%D0%B8%D0%BD%D1%87%D0%B8%D0%BF%D0%B0%D0%BB%D1%8D\n",
      "http://mo.wikipedia.org/wiki/%D0%9F%D0%B0%D3%82%D0%B8%D0%BD%D0%B0_%D0%BF%D1%80%D0%B8%D0%BD%D1%87%D0%B8%D0%BF%D0%B0%D0%BB%D1%8D\n"
     ]
    },
    {
     "data": {
      "application/vnd.jupyter.widget-view+json": {
       "model_id": "e683ed6fdb9241c79f2dc3b4c3aa866e",
       "version_major": 2,
       "version_minor": 0
      },
      "text/plain": [
       "A Jupyter Widget"
      ]
     },
     "metadata": {},
     "output_type": "display_data"
    },
    {
     "name": "stdout",
     "output_type": "stream",
     "text": [
      "\n"
     ]
    },
    {
     "data": {
      "application/vnd.jupyter.widget-view+json": {
       "model_id": "772bb4bbdb4b4597a72c8951349aae47",
       "version_major": 2,
       "version_minor": 0
      },
      "text/plain": [
       "A Jupyter Widget"
      ]
     },
     "metadata": {},
     "output_type": "display_data"
    },
    {
     "name": "stdout",
     "output_type": "stream",
     "text": [
      "\n"
     ]
    },
    {
     "data": {
      "application/vnd.jupyter.widget-view+json": {
       "model_id": "3cfc76f58f9848dcb4dba067708e84f8",
       "version_major": 2,
       "version_minor": 0
      },
      "text/plain": [
       "A Jupyter Widget"
      ]
     },
     "metadata": {},
     "output_type": "display_data"
    },
    {
     "name": "stdout",
     "output_type": "stream",
     "text": [
      "\n"
     ]
    },
    {
     "data": {
      "application/vnd.jupyter.widget-view+json": {
       "model_id": "2efe406282714ac297dac421b9054c95",
       "version_major": 2,
       "version_minor": 0
      },
      "text/plain": [
       "A Jupyter Widget"
      ]
     },
     "metadata": {},
     "output_type": "display_data"
    },
    {
     "name": "stdout",
     "output_type": "stream",
     "text": [
      "\n"
     ]
    },
    {
     "data": {
      "application/vnd.jupyter.widget-view+json": {
       "model_id": "a39155aa41424ead9cdd0e763f307676",
       "version_major": 2,
       "version_minor": 0
      },
      "text/plain": [
       "A Jupyter Widget"
      ]
     },
     "metadata": {},
     "output_type": "display_data"
    },
    {
     "name": "stdout",
     "output_type": "stream",
     "text": [
      "\n",
      "http://mo.wikipedia.org/wiki/%D0%9F%D1%8D%D0%BC%D1%8B%D0%BD%D1%82\n",
      "http://mo.wikipedia.org/wiki/%D0%9F%D1%8D%D0%BC%D1%8B%D0%BD%D1%82\n",
      "http://mo.wikipedia.org/wiki/%D0%9F%D0%B0%D3%82%D0%B8%D0%BD%D0%B0_%D0%BF%D1%80%D0%B8%D0%BD%D1%87%D0%B8%D0%BF%D0%B0%D0%BB%D1%8D\n",
      "http://mo.wikipedia.org/wiki/%D0%9F%D0%B0%D3%82%D0%B8%D0%BD%D0%B0_%D0%BF%D1%80%D0%B8%D0%BD%D1%87%D0%B8%D0%BF%D0%B0%D0%BB%D1%8D\n"
     ]
    },
    {
     "data": {
      "application/vnd.jupyter.widget-view+json": {
       "model_id": "b3298b4548b942c5abd506934e02690f",
       "version_major": 2,
       "version_minor": 0
      },
      "text/plain": [
       "A Jupyter Widget"
      ]
     },
     "metadata": {},
     "output_type": "display_data"
    },
    {
     "name": "stdout",
     "output_type": "stream",
     "text": [
      "\n"
     ]
    },
    {
     "data": {
      "application/vnd.jupyter.widget-view+json": {
       "model_id": "12f5955a486842e28abf45c650c45771",
       "version_major": 2,
       "version_minor": 0
      },
      "text/plain": [
       "A Jupyter Widget"
      ]
     },
     "metadata": {},
     "output_type": "display_data"
    },
    {
     "name": "stdout",
     "output_type": "stream",
     "text": [
      "\n"
     ]
    },
    {
     "data": {
      "application/vnd.jupyter.widget-view+json": {
       "model_id": "dc2398fc66404eb181bb6f50be4af502",
       "version_major": 2,
       "version_minor": 0
      },
      "text/plain": [
       "A Jupyter Widget"
      ]
     },
     "metadata": {},
     "output_type": "display_data"
    },
    {
     "name": "stdout",
     "output_type": "stream",
     "text": [
      "\n"
     ]
    },
    {
     "data": {
      "application/vnd.jupyter.widget-view+json": {
       "model_id": "b0be49ae5e8f4d3db171301a7e0b9fe9",
       "version_major": 2,
       "version_minor": 0
      },
      "text/plain": [
       "A Jupyter Widget"
      ]
     },
     "metadata": {},
     "output_type": "display_data"
    },
    {
     "name": "stdout",
     "output_type": "stream",
     "text": [
      "\n"
     ]
    },
    {
     "data": {
      "application/vnd.jupyter.widget-view+json": {
       "model_id": "d1bb6db3eee84db2897cfa209328760e",
       "version_major": 2,
       "version_minor": 0
      },
      "text/plain": [
       "A Jupyter Widget"
      ]
     },
     "metadata": {},
     "output_type": "display_data"
    },
    {
     "name": "stdout",
     "output_type": "stream",
     "text": [
      "\n",
      "http://mo.wikipedia.org/wiki/%D0%9A%D1%83%D0%BB%D1%82%D1%83%D1%80%D1%8D\n",
      "http://mo.wikipedia.org/wiki/%D0%9F%D0%BE%D0%BF%D1%83%D0%BB%D0%B0%D1%86%D0%B8%D0%B5\n",
      "http://mo.wikipedia.org/wiki/%D0%9F%D0%BE%D0%BF%D1%83%D0%BB%D0%B0%D1%86%D0%B8%D0%B5\n",
      "http://mo.wikipedia.org/wiki/%D0%9F%D0%B0%D3%82%D0%B8%D0%BD%D0%B0_%D0%BF%D1%80%D0%B8%D0%BD%D1%87%D0%B8%D0%BF%D0%B0%D0%BB%D1%8D\n",
      "http://mo.wikipedia.org/wiki/%D0%9F%D0%B0%D3%82%D0%B8%D0%BD%D0%B0_%D0%BF%D1%80%D0%B8%D0%BD%D1%87%D0%B8%D0%BF%D0%B0%D0%BB%D1%8D\n"
     ]
    },
    {
     "data": {
      "application/vnd.jupyter.widget-view+json": {
       "model_id": "6c38f04606454a6094828ff3ac573126",
       "version_major": 2,
       "version_minor": 0
      },
      "text/plain": [
       "A Jupyter Widget"
      ]
     },
     "metadata": {},
     "output_type": "display_data"
    },
    {
     "name": "stdout",
     "output_type": "stream",
     "text": [
      "\n"
     ]
    },
    {
     "data": {
      "application/vnd.jupyter.widget-view+json": {
       "model_id": "24faafc400674438aee8203cd3557b18",
       "version_major": 2,
       "version_minor": 0
      },
      "text/plain": [
       "A Jupyter Widget"
      ]
     },
     "metadata": {},
     "output_type": "display_data"
    },
    {
     "name": "stdout",
     "output_type": "stream",
     "text": [
      "\n"
     ]
    },
    {
     "data": {
      "application/vnd.jupyter.widget-view+json": {
       "model_id": "3ee778254216426085e2b85709c1261f",
       "version_major": 2,
       "version_minor": 0
      },
      "text/plain": [
       "A Jupyter Widget"
      ]
     },
     "metadata": {},
     "output_type": "display_data"
    },
    {
     "name": "stdout",
     "output_type": "stream",
     "text": [
      "\n"
     ]
    },
    {
     "data": {
      "application/vnd.jupyter.widget-view+json": {
       "model_id": "753b2fb646714c2ba7a95a89139f0b53",
       "version_major": 2,
       "version_minor": 0
      },
      "text/plain": [
       "A Jupyter Widget"
      ]
     },
     "metadata": {},
     "output_type": "display_data"
    },
    {
     "name": "stdout",
     "output_type": "stream",
     "text": [
      "\n"
     ]
    },
    {
     "data": {
      "application/vnd.jupyter.widget-view+json": {
       "model_id": "511f750ccebe4fda8223a79c51332129",
       "version_major": 2,
       "version_minor": 0
      },
      "text/plain": [
       "A Jupyter Widget"
      ]
     },
     "metadata": {},
     "output_type": "display_data"
    },
    {
     "name": "stdout",
     "output_type": "stream",
     "text": [
      "\n",
      "http://mo.wikipedia.org/wiki/%D0%9C%D1%83%D0%B7%D0%B8%D0%BA%D1%8D\n",
      "http://mo.wikipedia.org/wiki/%D0%9A%D1%83%D0%BB%D1%82%D1%83%D1%80%D1%8D\n",
      "http://mo.wikipedia.org/wiki/%D0%9A%D1%83%D0%BB%D1%82%D1%83%D1%80%D1%8D\n",
      "http://mo.wikipedia.org/wiki/%D0%9F%D0%B0%D3%82%D0%B8%D0%BD%D0%B0_%D0%BF%D1%80%D0%B8%D0%BD%D1%87%D0%B8%D0%BF%D0%B0%D0%BB%D1%8D\n",
      "http://mo.wikipedia.org/wiki/%D0%9F%D0%B0%D3%82%D0%B8%D0%BD%D0%B0_%D0%BF%D1%80%D0%B8%D0%BD%D1%87%D0%B8%D0%BF%D0%B0%D0%BB%D1%8D\n"
     ]
    },
    {
     "data": {
      "application/vnd.jupyter.widget-view+json": {
       "model_id": "46f7114e8bd149669b2d456ae562119b",
       "version_major": 2,
       "version_minor": 0
      },
      "text/plain": [
       "A Jupyter Widget"
      ]
     },
     "metadata": {},
     "output_type": "display_data"
    },
    {
     "name": "stdout",
     "output_type": "stream",
     "text": [
      "\n"
     ]
    },
    {
     "data": {
      "application/vnd.jupyter.widget-view+json": {
       "model_id": "13eb3d76cccf4a6e97379140e0536f8a",
       "version_major": 2,
       "version_minor": 0
      },
      "text/plain": [
       "A Jupyter Widget"
      ]
     },
     "metadata": {},
     "output_type": "display_data"
    },
    {
     "name": "stdout",
     "output_type": "stream",
     "text": [
      "\n"
     ]
    },
    {
     "data": {
      "application/vnd.jupyter.widget-view+json": {
       "model_id": "5286e6d36ce1431ebff33559b178ea2e",
       "version_major": 2,
       "version_minor": 0
      },
      "text/plain": [
       "A Jupyter Widget"
      ]
     },
     "metadata": {},
     "output_type": "display_data"
    },
    {
     "name": "stdout",
     "output_type": "stream",
     "text": [
      "\n"
     ]
    },
    {
     "data": {
      "application/vnd.jupyter.widget-view+json": {
       "model_id": "5e155aa4573345d49090ec6a67fb1344",
       "version_major": 2,
       "version_minor": 0
      },
      "text/plain": [
       "A Jupyter Widget"
      ]
     },
     "metadata": {},
     "output_type": "display_data"
    },
    {
     "name": "stdout",
     "output_type": "stream",
     "text": [
      "\n"
     ]
    },
    {
     "data": {
      "application/vnd.jupyter.widget-view+json": {
       "model_id": "14164e1f3c304bbea477b990b2b05638",
       "version_major": 2,
       "version_minor": 0
      },
      "text/plain": [
       "A Jupyter Widget"
      ]
     },
     "metadata": {},
     "output_type": "display_data"
    },
    {
     "name": "stdout",
     "output_type": "stream",
     "text": [
      "\n",
      "http://mo.wikipedia.org/wiki/%D0%9C%D1%83%D0%B7%D0%B8%D0%BA%D1%8D\n",
      "http://mo.wikipedia.org/wiki/%D0%9C%D1%83%D0%B7%D0%B8%D0%BA%D1%8D\n",
      "http://mo.wikipedia.org/wiki/%D0%9F%D0%B0%D3%82%D0%B8%D0%BD%D0%B0_%D0%BF%D1%80%D0%B8%D0%BD%D1%87%D0%B8%D0%BF%D0%B0%D0%BB%D1%8D\n",
      "http://mo.wikipedia.org/wiki/%D0%9F%D0%B0%D3%82%D0%B8%D0%BD%D0%B0_%D0%BF%D1%80%D0%B8%D0%BD%D1%87%D0%B8%D0%BF%D0%B0%D0%BB%D1%8D\n"
     ]
    },
    {
     "data": {
      "application/vnd.jupyter.widget-view+json": {
       "model_id": "ac16360dc76340baafe031fe91ab7ab3",
       "version_major": 2,
       "version_minor": 0
      },
      "text/plain": [
       "A Jupyter Widget"
      ]
     },
     "metadata": {},
     "output_type": "display_data"
    },
    {
     "name": "stdout",
     "output_type": "stream",
     "text": [
      "\n"
     ]
    },
    {
     "data": {
      "application/vnd.jupyter.widget-view+json": {
       "model_id": "b029b7a6fd874bafa633906e37cb2f76",
       "version_major": 2,
       "version_minor": 0
      },
      "text/plain": [
       "A Jupyter Widget"
      ]
     },
     "metadata": {},
     "output_type": "display_data"
    },
    {
     "name": "stdout",
     "output_type": "stream",
     "text": [
      "\n"
     ]
    },
    {
     "data": {
      "application/vnd.jupyter.widget-view+json": {
       "model_id": "dec7ac9c548d4b05a717bc847faa3284",
       "version_major": 2,
       "version_minor": 0
      },
      "text/plain": [
       "A Jupyter Widget"
      ]
     },
     "metadata": {},
     "output_type": "display_data"
    },
    {
     "name": "stdout",
     "output_type": "stream",
     "text": [
      "\n"
     ]
    },
    {
     "data": {
      "application/vnd.jupyter.widget-view+json": {
       "model_id": "f5aa68d4f8a94f9ebd2bf1cfdc637153",
       "version_major": 2,
       "version_minor": 0
      },
      "text/plain": [
       "A Jupyter Widget"
      ]
     },
     "metadata": {},
     "output_type": "display_data"
    },
    {
     "name": "stdout",
     "output_type": "stream",
     "text": [
      "\n"
     ]
    },
    {
     "data": {
      "application/vnd.jupyter.widget-view+json": {
       "model_id": "b34151e5dc614f4d87f9de1404ef5926",
       "version_major": 2,
       "version_minor": 0
      },
      "text/plain": [
       "A Jupyter Widget"
      ]
     },
     "metadata": {},
     "output_type": "display_data"
    },
    {
     "name": "stdout",
     "output_type": "stream",
     "text": [
      "\n",
      "http://mo.wikipedia.org/wiki/%D0%A1%D1%83%D0%BF%D1%80%D0%B0%D1%84%D0%B0%D1%86%D1%8D\n",
      "http://mo.wikipedia.org/wiki/%D0%A1%D1%83%D0%BF%D1%80%D0%B0%D1%84%D0%B0%D1%86%D1%8D\n",
      "http://mo.wikipedia.org/wiki/%D0%9F%D0%B0%D3%82%D0%B8%D0%BD%D0%B0_%D0%BF%D1%80%D0%B8%D0%BD%D1%87%D0%B8%D0%BF%D0%B0%D0%BB%D1%8D\n",
      "http://mo.wikipedia.org/wiki/%D0%9F%D0%B0%D3%82%D0%B8%D0%BD%D0%B0_%D0%BF%D1%80%D0%B8%D0%BD%D1%87%D0%B8%D0%BF%D0%B0%D0%BB%D1%8D\n"
     ]
    },
    {
     "data": {
      "application/vnd.jupyter.widget-view+json": {
       "model_id": "01f63dd352db4ceab80b4508476bcf92",
       "version_major": 2,
       "version_minor": 0
      },
      "text/plain": [
       "A Jupyter Widget"
      ]
     },
     "metadata": {},
     "output_type": "display_data"
    },
    {
     "name": "stdout",
     "output_type": "stream",
     "text": [
      "\n"
     ]
    },
    {
     "data": {
      "application/vnd.jupyter.widget-view+json": {
       "model_id": "1da686fba1144ba3a394195126388e79",
       "version_major": 2,
       "version_minor": 0
      },
      "text/plain": [
       "A Jupyter Widget"
      ]
     },
     "metadata": {},
     "output_type": "display_data"
    },
    {
     "name": "stdout",
     "output_type": "stream",
     "text": [
      "\n"
     ]
    },
    {
     "data": {
      "application/vnd.jupyter.widget-view+json": {
       "model_id": "ff603530e53b402596336d915825a0c2",
       "version_major": 2,
       "version_minor": 0
      },
      "text/plain": [
       "A Jupyter Widget"
      ]
     },
     "metadata": {},
     "output_type": "display_data"
    },
    {
     "name": "stdout",
     "output_type": "stream",
     "text": [
      "\n"
     ]
    },
    {
     "data": {
      "application/vnd.jupyter.widget-view+json": {
       "model_id": "6b72d55089c648918d51a094da11da01",
       "version_major": 2,
       "version_minor": 0
      },
      "text/plain": [
       "A Jupyter Widget"
      ]
     },
     "metadata": {},
     "output_type": "display_data"
    },
    {
     "name": "stdout",
     "output_type": "stream",
     "text": [
      "\n"
     ]
    },
    {
     "data": {
      "application/vnd.jupyter.widget-view+json": {
       "model_id": "42ed420c67ff481fbf49f9ee59e17441",
       "version_major": 2,
       "version_minor": 0
      },
      "text/plain": [
       "A Jupyter Widget"
      ]
     },
     "metadata": {},
     "output_type": "display_data"
    },
    {
     "name": "stdout",
     "output_type": "stream",
     "text": [
      "\n",
      "http://mo.wikipedia.org/wiki/%D0%9F%D0%BE%D0%BB%D0%B8%D1%82%D0%B8%D0%BA%D1%8D\n",
      "http://mo.wikipedia.org/wiki/%D0%93%D1%83%D0%B2%D0%B5%D1%80%D0%BD\n",
      "http://mo.wikipedia.org/wiki/%D0%9F%D0%B0%D1%80%D1%82%D0%B8%D0%B4_%D0%BF%D0%BE%D0%BB%D0%B8%D1%82%D0%B8%D0%BA\n",
      "http://mo.wikipedia.org/wiki/%D0%A1%D0%B8%D1%81%D1%82%D0%B5%D0%BC_%D0%BF%D0%BE%D0%BB%D0%B8%D1%82%D0%B8%D0%BA\n",
      "http://mo.wikipedia.org/wiki/%D0%A1%D0%B8%D1%81%D1%82%D0%B5%D0%BC_%D0%BF%D0%BE%D0%BB%D0%B8%D1%82%D0%B8%D0%BA\n",
      "http://mo.wikipedia.org/wiki/%D0%9F%D0%B0%D3%82%D0%B8%D0%BD%D0%B0_%D0%BF%D1%80%D0%B8%D0%BD%D1%87%D0%B8%D0%BF%D0%B0%D0%BB%D1%8D\n",
      "http://mo.wikipedia.org/wiki/%D0%9F%D0%B0%D3%82%D0%B8%D0%BD%D0%B0_%D0%BF%D1%80%D0%B8%D0%BD%D1%87%D0%B8%D0%BF%D0%B0%D0%BB%D1%8D\n"
     ]
    },
    {
     "data": {
      "application/vnd.jupyter.widget-view+json": {
       "model_id": "66d5be2fa7f84a07bf4ca831ec079e2e",
       "version_major": 2,
       "version_minor": 0
      },
      "text/plain": [
       "A Jupyter Widget"
      ]
     },
     "metadata": {},
     "output_type": "display_data"
    },
    {
     "name": "stdout",
     "output_type": "stream",
     "text": [
      "\n"
     ]
    },
    {
     "data": {
      "application/vnd.jupyter.widget-view+json": {
       "model_id": "97a0f3a64b71440fa5249846a5959ab4",
       "version_major": 2,
       "version_minor": 0
      },
      "text/plain": [
       "A Jupyter Widget"
      ]
     },
     "metadata": {},
     "output_type": "display_data"
    },
    {
     "name": "stdout",
     "output_type": "stream",
     "text": [
      "\n"
     ]
    },
    {
     "data": {
      "application/vnd.jupyter.widget-view+json": {
       "model_id": "974df2f2d6604220a42177adb483fde3",
       "version_major": 2,
       "version_minor": 0
      },
      "text/plain": [
       "A Jupyter Widget"
      ]
     },
     "metadata": {},
     "output_type": "display_data"
    },
    {
     "name": "stdout",
     "output_type": "stream",
     "text": [
      "\n"
     ]
    },
    {
     "data": {
      "application/vnd.jupyter.widget-view+json": {
       "model_id": "c5bde070b9ea4174822d167070f72fa1",
       "version_major": 2,
       "version_minor": 0
      },
      "text/plain": [
       "A Jupyter Widget"
      ]
     },
     "metadata": {},
     "output_type": "display_data"
    },
    {
     "name": "stdout",
     "output_type": "stream",
     "text": [
      "\n"
     ]
    },
    {
     "data": {
      "application/vnd.jupyter.widget-view+json": {
       "model_id": "a487e36229114775a676d42ead95cb71",
       "version_major": 2,
       "version_minor": 0
      },
      "text/plain": [
       "A Jupyter Widget"
      ]
     },
     "metadata": {},
     "output_type": "display_data"
    },
    {
     "name": "stdout",
     "output_type": "stream",
     "text": [
      "\n",
      "http://mo.wikipedia.org/wiki/%D0%93%D1%83%D0%B2%D0%B5%D1%80%D0%BD\n",
      "http://mo.wikipedia.org/wiki/%D0%9F%D0%B0%D1%80%D1%82%D0%B8%D0%B4_%D0%BF%D0%BE%D0%BB%D0%B8%D1%82%D0%B8%D0%BA\n",
      "http://mo.wikipedia.org/wiki/%D0%9F%D0%B0%D1%80%D1%82%D0%B8%D0%B4_%D0%BF%D0%BE%D0%BB%D0%B8%D1%82%D0%B8%D0%BA\n",
      "http://mo.wikipedia.org/wiki/%D0%9F%D0%B0%D3%82%D0%B8%D0%BD%D0%B0_%D0%BF%D1%80%D0%B8%D0%BD%D1%87%D0%B8%D0%BF%D0%B0%D0%BB%D1%8D\n",
      "http://mo.wikipedia.org/wiki/%D0%9F%D0%B0%D3%82%D0%B8%D0%BD%D0%B0_%D0%BF%D1%80%D0%B8%D0%BD%D1%87%D0%B8%D0%BF%D0%B0%D0%BB%D1%8D\n"
     ]
    },
    {
     "data": {
      "application/vnd.jupyter.widget-view+json": {
       "model_id": "4ac6a80e5bfb436bb7669145ba1ffa99",
       "version_major": 2,
       "version_minor": 0
      },
      "text/plain": [
       "A Jupyter Widget"
      ]
     },
     "metadata": {},
     "output_type": "display_data"
    },
    {
     "name": "stdout",
     "output_type": "stream",
     "text": [
      "\n"
     ]
    },
    {
     "data": {
      "application/vnd.jupyter.widget-view+json": {
       "model_id": "d9eef64a52fc4055b7e3649e5ef977c0",
       "version_major": 2,
       "version_minor": 0
      },
      "text/plain": [
       "A Jupyter Widget"
      ]
     },
     "metadata": {},
     "output_type": "display_data"
    },
    {
     "name": "stdout",
     "output_type": "stream",
     "text": [
      "\n"
     ]
    },
    {
     "data": {
      "application/vnd.jupyter.widget-view+json": {
       "model_id": "66282c14dd0a4b6cb622e639e4a11a5e",
       "version_major": 2,
       "version_minor": 0
      },
      "text/plain": [
       "A Jupyter Widget"
      ]
     },
     "metadata": {},
     "output_type": "display_data"
    },
    {
     "name": "stdout",
     "output_type": "stream",
     "text": [
      "\n"
     ]
    },
    {
     "data": {
      "application/vnd.jupyter.widget-view+json": {
       "model_id": "c8da8956bdb3458a8c37a742ede54504",
       "version_major": 2,
       "version_minor": 0
      },
      "text/plain": [
       "A Jupyter Widget"
      ]
     },
     "metadata": {},
     "output_type": "display_data"
    },
    {
     "name": "stdout",
     "output_type": "stream",
     "text": [
      "\n"
     ]
    },
    {
     "data": {
      "application/vnd.jupyter.widget-view+json": {
       "model_id": "27135190896549b8b191a16cc0206983",
       "version_major": 2,
       "version_minor": 0
      },
      "text/plain": [
       "A Jupyter Widget"
      ]
     },
     "metadata": {},
     "output_type": "display_data"
    },
    {
     "name": "stdout",
     "output_type": "stream",
     "text": [
      "\n",
      "http://mo.wikipedia.org/wiki/%D0%91%D1%83%D0%BB%D0%B3%D0%B0%D1%80%D0%B8%D1%8F\n",
      "http://mo.wikipedia.org/wiki/%D0%A2%D1%83%D1%80%D1%87%D0%B8%D1%8F\n",
      "http://mo.wikipedia.org/wiki/%D0%9C%D0%BE%D0%BB%D0%B4%D0%BE%D0%B2%D0%B0\n",
      "http://mo.wikipedia.org/wiki/%D0%A0%D1%83%D1%81%D0%B8%D1%8F\n",
      "http://mo.wikipedia.org/wiki/%D0%A3%D0%BA%D1%80%D0%B0%D0%B8%D0%BD%D0%B0\n",
      "http://mo.wikipedia.org/wiki/%D0%91%D0%B5%D0%BB%D0%B0%D1%80%D1%83%D1%81\n",
      "http://mo.wikipedia.org/wiki/%D0%93%D1%83%D0%B2%D0%B5%D1%80%D0%BD\n",
      "http://mo.wikipedia.org/wiki/%D0%93%D1%83%D0%B2%D0%B5%D1%80%D0%BD\n",
      "http://mo.wikipedia.org/wiki/%D0%9F%D0%B0%D3%82%D0%B8%D0%BD%D0%B0_%D0%BF%D1%80%D0%B8%D0%BD%D1%87%D0%B8%D0%BF%D0%B0%D0%BB%D1%8D\n",
      "http://mo.wikipedia.org/wiki/%D0%9F%D0%B0%D3%82%D0%B8%D0%BD%D0%B0_%D0%BF%D1%80%D0%B8%D0%BD%D1%87%D0%B8%D0%BF%D0%B0%D0%BB%D1%8D\n"
     ]
    },
    {
     "data": {
      "application/vnd.jupyter.widget-view+json": {
       "model_id": "19ddf7dbebb84ce9a3006d2ba2537a9c",
       "version_major": 2,
       "version_minor": 0
      },
      "text/plain": [
       "A Jupyter Widget"
      ]
     },
     "metadata": {},
     "output_type": "display_data"
    },
    {
     "name": "stdout",
     "output_type": "stream",
     "text": [
      "\n"
     ]
    },
    {
     "data": {
      "application/vnd.jupyter.widget-view+json": {
       "model_id": "dec805a272884a9f90d1e848059ed075",
       "version_major": 2,
       "version_minor": 0
      },
      "text/plain": [
       "A Jupyter Widget"
      ]
     },
     "metadata": {},
     "output_type": "display_data"
    },
    {
     "name": "stdout",
     "output_type": "stream",
     "text": [
      "\n"
     ]
    },
    {
     "data": {
      "application/vnd.jupyter.widget-view+json": {
       "model_id": "8fb84d60c9b94ba08179858bafc82964",
       "version_major": 2,
       "version_minor": 0
      },
      "text/plain": [
       "A Jupyter Widget"
      ]
     },
     "metadata": {},
     "output_type": "display_data"
    },
    {
     "name": "stdout",
     "output_type": "stream",
     "text": [
      "\n"
     ]
    },
    {
     "data": {
      "application/vnd.jupyter.widget-view+json": {
       "model_id": "1b45cf9fbfb941cc8b7f5cf7088a0f3b",
       "version_major": 2,
       "version_minor": 0
      },
      "text/plain": [
       "A Jupyter Widget"
      ]
     },
     "metadata": {},
     "output_type": "display_data"
    },
    {
     "name": "stdout",
     "output_type": "stream",
     "text": [
      "\n"
     ]
    },
    {
     "data": {
      "application/vnd.jupyter.widget-view+json": {
       "model_id": "d31e9d030631498a8efb905d23aa5cff",
       "version_major": 2,
       "version_minor": 0
      },
      "text/plain": [
       "A Jupyter Widget"
      ]
     },
     "metadata": {},
     "output_type": "display_data"
    },
    {
     "name": "stdout",
     "output_type": "stream",
     "text": [
      "\n",
      "http://mo.wikipedia.org/wiki/%D0%95%D1%83%D1%80%D0%BE%D0%BF%D0%B0\n",
      "http://mo.wikipedia.org/wiki/%D0%A0%D1%83%D1%81%D0%B8%D1%8F\n",
      "http://mo.wikipedia.org/wiki/%D0%9B%D0%B5%D1%82%D0%BE%D0%BD%D0%B8%D1%8F\n",
      "http://mo.wikipedia.org/wiki/%D0%9B%D0%B8%D1%82%D1%83%D0%B0%D0%BD%D0%B8%D1%8F\n",
      "http://mo.wikipedia.org/wiki/%D0%9F%D0%BE%D0%BB%D0%BE%D0%BD%D0%B8%D1%8F\n",
      "http://mo.wikipedia.org/wiki/%D0%A3%D0%BA%D1%80%D0%B0%D0%B8%D0%BD%D0%B0\n",
      "http://mo.wikipedia.org/wiki/%D0%9B%D0%B8%D0%BC%D0%B1%D1%8D_%D0%BE%D1%84%D0%B8%D1%87%D0%B8%D0%B0%D0%BB%D1%8D\n",
      "http://mo.wikipedia.org/wiki/%D0%9B%D0%B8%D0%BC%D0%B1%D0%B0_%D1%80%D1%83%D1%81%D1%8D\n",
      "http://mo.wikipedia.org/wiki/%D0%9A%D0%B0%D0%BF%D0%B8%D1%82%D0%B0%D0%BB%D1%8D\n",
      "http://mo.wikipedia.org/wiki/%D0%9C%D0%B8%D0%BD%D1%81%D0%BA\n",
      "http://mo.wikipedia.org/wiki/%D0%9C%D0%B8%D0%BD%D1%81%D0%BA\n",
      "http://mo.wikipedia.org/wiki/%D0%A1%D0%B8%D1%81%D1%82%D0%B5%D0%BC_%D0%BF%D0%BE%D0%BB%D0%B8%D1%82%D0%B8%D0%BA\n",
      "http://mo.wikipedia.org/wiki/%D0%A1%D1%83%D0%BF%D1%80%D0%B0%D1%84%D0%B0%D1%86%D1%8D\n",
      "http://mo.wikipedia.org/wiki/%D0%9F%D0%BE%D0%BF%D1%83%D0%BB%D0%B0%D1%86%D0%B8%D0%B5\n",
      "http://mo.wikipedia.org/wiki/%D0%94%D0%B5%D0%BD%D1%81%D0%B8%D1%82%D0%B0%D1%82%D1%8F_%D0%BF%D0%BE%D0%BF%D1%83%D0%BB%D0%B0%D1%86%D0%B8%D0%B5%D0%B9\n",
      "http://mo.wikipedia.org/wiki/%D0%9F%D1%80%D0%BE%D0%B4%D1%83%D1%81_%D0%B8%D0%BD%D1%82%D0%B5%D1%80%D0%BD_%D0%B1%D1%80%D1%83%D1%82\n",
      "http://mo.wikipedia.org/wiki/%D0%9C%D0%BE%D0%BD%D0%B5%D0%B4%D1%8D\n",
      "http://mo.wikipedia.org/wiki/%D0%A4%D1%83%D1%81_%D0%BE%D1%80%D0%B0%D1%80\n",
      "http://mo.wikipedia.org/wiki/%D0%98%D0%BC%D0%BD_%D0%BD%D0%B0%D1%86%D0%B8%D0%BE%D0%BD%D0%B0%D0%BB\n",
      "http://mo.wikipedia.org/wiki/%D0%94%D0%BE%D0%BC%D0%B5%D0%BD%D0%B8%D1%83_%D0%BD%D0%B0%D1%86%D0%B8%D0%BE%D0%BD%D0%B0%D0%BB_%D0%B4%D0%B5_%D0%BD%D0%B8%D0%B2%D0%B5%D0%BB_%D1%81%D1%83%D0%BF%D0%B5%D1%80%D0%B8%D0%BE%D1%80\n",
      "http://mo.wikipedia.org/wiki/%D0%9A%D0%BE%D0%BC%D1%83%D0%BD%D0%B8%D1%82%D0%B0%D1%82%D1%8F_%D0%A1%D1%82%D0%B0%D1%82%D0%B5%D0%BB%D0%BE%D1%80_%D0%98%D0%BD%D0%B4%D0%B5%D0%BF%D0%B5%D0%BD%D0%B4%D0%B5%D0%BD%D1%82%D0%B5\n",
      "http://mo.wikipedia.org/wiki/%D0%90%D1%80%D0%BC%D0%B5%D0%BD%D0%B8%D1%8F\n",
      "http://mo.wikipedia.org/wiki/%D0%90%D0%B7%D0%B5%D1%80%D0%B1%D0%B0%D0%B8%D3%82%D0%B0%D0%BD\n",
      "http://mo.wikipedia.org/wiki/%D3%81%D0%B5%D0%BE%D1%80%D3%82%D0%B8%D1%8F\n",
      "http://mo.wikipedia.org/wiki/%D0%9A%D0%B0%D0%B7%D0%B0%D1%85%D1%81%D1%82%D0%B0%D0%BD\n",
      "http://mo.wikipedia.org/wiki/%D0%9A%D1%8B%D1%80%D0%B3%D1%8B%D0%B7%D1%81%D1%82%D0%B0%D0%BD\n",
      "http://mo.wikipedia.org/wiki/%D0%A0%D0%B5%D0%BF%D1%83%D0%B1%D0%BB%D0%B8%D0%BA%D0%B0_%D0%9C%D0%BE%D0%BB%D0%B4%D0%BE%D0%B2%D0%B0\n",
      "http://mo.wikipedia.org/wiki/%D0%A0%D1%83%D1%81%D0%B8%D1%8F\n",
      "http://mo.wikipedia.org/wiki/%D0%A2%D0%B0%D3%82%D0%B8%D0%BA%D0%B8%D1%81%D1%82%D0%B0%D0%BD\n",
      "http://mo.wikipedia.org/wiki/%D0%A2%D1%83%D1%80%D0%BA%D0%BC%D0%B5%D0%BD%D0%B8%D1%81%D1%82%D0%B0%D0%BD\n",
      "http://mo.wikipedia.org/wiki/%D0%A3%D0%BA%D1%80%D0%B0%D0%B8%D0%BD%D0%B0\n",
      "http://mo.wikipedia.org/wiki/%D0%A3%D0%B7%D0%B1%D0%B5%D0%BA%D0%B8%D1%81%D1%82%D0%B0%D0%BD\n",
      "http://mo.wikipedia.org/wiki/%D0%91%D0%B5%D0%BB%D0%B0%D1%80%D1%83%D1%81\n",
      "http://mo.wikipedia.org/wiki/%D0%91%D0%B5%D0%BB%D0%B0%D1%80%D1%83%D1%81\n",
      "http://mo.wikipedia.org/wiki/%D0%9F%D0%B0%D3%82%D0%B8%D0%BD%D0%B0_%D0%BF%D1%80%D0%B8%D0%BD%D1%87%D0%B8%D0%BF%D0%B0%D0%BB%D1%8D\n",
      "http://mo.wikipedia.org/wiki/%D0%9F%D0%B0%D3%82%D0%B8%D0%BD%D0%B0_%D0%BF%D1%80%D0%B8%D0%BD%D1%87%D0%B8%D0%BF%D0%B0%D0%BB%D1%8D\n"
     ]
    },
    {
     "data": {
      "application/vnd.jupyter.widget-view+json": {
       "model_id": "11838309a2ee4a28887f79a8bd615ae2",
       "version_major": 2,
       "version_minor": 0
      },
      "text/plain": [
       "A Jupyter Widget"
      ]
     },
     "metadata": {},
     "output_type": "display_data"
    },
    {
     "name": "stdout",
     "output_type": "stream",
     "text": [
      "\n"
     ]
    },
    {
     "data": {
      "application/vnd.jupyter.widget-view+json": {
       "model_id": "a138bec673e448209147983b32f71451",
       "version_major": 2,
       "version_minor": 0
      },
      "text/plain": [
       "A Jupyter Widget"
      ]
     },
     "metadata": {},
     "output_type": "display_data"
    },
    {
     "name": "stdout",
     "output_type": "stream",
     "text": [
      "\n"
     ]
    },
    {
     "data": {
      "application/vnd.jupyter.widget-view+json": {
       "model_id": "296f570137d34aeead5e8f5d50a2e8b9",
       "version_major": 2,
       "version_minor": 0
      },
      "text/plain": [
       "A Jupyter Widget"
      ]
     },
     "metadata": {},
     "output_type": "display_data"
    },
    {
     "name": "stdout",
     "output_type": "stream",
     "text": [
      "\n"
     ]
    },
    {
     "data": {
      "application/vnd.jupyter.widget-view+json": {
       "model_id": "5972fe60c4874ed5a58da8adbd762d41",
       "version_major": 2,
       "version_minor": 0
      },
      "text/plain": [
       "A Jupyter Widget"
      ]
     },
     "metadata": {},
     "output_type": "display_data"
    },
    {
     "name": "stdout",
     "output_type": "stream",
     "text": [
      "\n"
     ]
    },
    {
     "data": {
      "application/vnd.jupyter.widget-view+json": {
       "model_id": "0a0a8c021b2a402d9b557bc0537eb804",
       "version_major": 2,
       "version_minor": 0
      },
      "text/plain": [
       "A Jupyter Widget"
      ]
     },
     "metadata": {},
     "output_type": "display_data"
    },
    {
     "name": "stdout",
     "output_type": "stream",
     "text": [
      "\n",
      "http://mo.wikipedia.org/wiki/%D0%9B%D0%B8%D0%BC%D0%B1%D1%8D_%D0%BE%D1%84%D0%B8%D1%87%D0%B8%D0%B0%D0%BB%D1%8D\n",
      "http://mo.wikipedia.org/wiki/%D0%9A%D0%B0%D0%BF%D0%B8%D1%82%D0%B0%D0%BB%D1%8D\n",
      "http://mo.wikipedia.org/wiki/%D0%A1%D0%B8%D1%81%D1%82%D0%B5%D0%BC_%D0%BF%D0%BE%D0%BB%D0%B8%D1%82%D0%B8%D0%BA\n",
      "http://mo.wikipedia.org/wiki/%D0%A1%D1%83%D0%BF%D1%80%D0%B0%D1%84%D0%B0%D1%86%D1%8D\n",
      "http://mo.wikipedia.org/wiki/%D0%9F%D0%BE%D0%BF%D1%83%D0%BB%D0%B0%D1%86%D0%B8%D0%B5\n",
      "http://mo.wikipedia.org/wiki/%D0%94%D0%B5%D0%BD%D1%81%D0%B8%D1%82%D0%B0%D1%82%D1%8F_%D0%BF%D0%BE%D0%BF%D1%83%D0%BB%D0%B0%D1%86%D0%B8%D0%B5%D0%B9\n",
      "http://mo.wikipedia.org/wiki/%D0%9F%D1%80%D0%BE%D0%B4%D1%83%D1%81_%D0%B8%D0%BD%D1%82%D0%B5%D1%80%D0%BD_%D0%B1%D1%80%D1%83%D1%82\n",
      "http://mo.wikipedia.org/wiki/%D0%9C%D0%BE%D0%BD%D0%B5%D0%B4%D1%8D\n",
      "http://mo.wikipedia.org/wiki/%D0%A4%D1%83%D1%81_%D0%BE%D1%80%D0%B0%D1%80\n",
      "http://mo.wikipedia.org/wiki/%D0%98%D0%BC%D0%BD_%D0%BD%D0%B0%D1%86%D0%B8%D0%BE%D0%BD%D0%B0%D0%BB\n",
      "http://mo.wikipedia.org/wiki/%D0%94%D0%BE%D0%BC%D0%B5%D0%BD%D0%B8%D1%83_%D0%BD%D0%B0%D1%86%D0%B8%D0%BE%D0%BD%D0%B0%D0%BB_%D0%B4%D0%B5_%D0%BD%D0%B8%D0%B2%D0%B5%D0%BB_%D1%81%D1%83%D0%BF%D0%B5%D1%80%D0%B8%D0%BE%D1%80\n",
      "http://mo.wikipedia.org/wiki/%D0%90%D1%81%D0%B8%D1%8F\n",
      "http://mo.wikipedia.org/wiki/%D0%9A%D0%BE%D0%BC%D1%83%D0%BD%D0%B8%D1%82%D0%B0%D1%82%D1%8F_%D0%A1%D1%82%D0%B0%D1%82%D0%B5%D0%BB%D0%BE%D1%80_%D0%98%D0%BD%D0%B4%D0%B5%D0%BF%D0%B5%D0%BD%D0%B4%D0%B5%D0%BD%D1%82%D0%B5\n",
      "http://mo.wikipedia.org/wiki/%D0%90%D1%80%D0%BC%D0%B5%D0%BD%D0%B8%D1%8F\n",
      "http://mo.wikipedia.org/wiki/%D0%90%D0%B7%D0%B5%D1%80%D0%B1%D0%B0%D0%B8%D3%82%D0%B0%D0%BD\n",
      "http://mo.wikipedia.org/wiki/%D0%91%D0%B5%D0%BB%D0%B0%D1%80%D1%83%D1%81\n",
      "http://mo.wikipedia.org/wiki/%D3%81%D0%B5%D0%BE%D1%80%D3%82%D0%B8%D1%8F\n",
      "http://mo.wikipedia.org/wiki/%D0%9A%D0%B0%D0%B7%D0%B0%D1%85%D1%81%D1%82%D0%B0%D0%BD\n",
      "http://mo.wikipedia.org/wiki/%D0%9A%D1%8B%D1%80%D0%B3%D1%8B%D0%B7%D1%81%D1%82%D0%B0%D0%BD\n",
      "http://mo.wikipedia.org/wiki/%D0%A0%D0%B5%D0%BF%D1%83%D0%B1%D0%BB%D0%B8%D0%BA%D0%B0_%D0%9C%D0%BE%D0%BB%D0%B4%D0%BE%D0%B2%D0%B0\n",
      "http://mo.wikipedia.org/wiki/%D0%A0%D1%83%D1%81%D0%B8%D1%8F\n",
      "http://mo.wikipedia.org/wiki/%D0%A2%D0%B0%D3%82%D0%B8%D0%BA%D0%B8%D1%81%D1%82%D0%B0%D0%BD\n",
      "http://mo.wikipedia.org/wiki/%D0%A2%D1%83%D1%80%D0%BA%D0%BC%D0%B5%D0%BD%D0%B8%D1%81%D1%82%D0%B0%D0%BD\n",
      "http://mo.wikipedia.org/wiki/%D0%A3%D0%BA%D1%80%D0%B0%D0%B8%D0%BD%D0%B0\n",
      "http://mo.wikipedia.org/wiki/%D0%A3%D0%B7%D0%B1%D0%B5%D0%BA%D0%B8%D1%81%D1%82%D0%B0%D0%BD\n",
      "http://mo.wikipedia.org/wiki/%D0%A3%D0%B7%D0%B1%D0%B5%D0%BA%D0%B8%D1%81%D1%82%D0%B0%D0%BD\n",
      "http://mo.wikipedia.org/wiki/%D0%9F%D0%B0%D3%82%D0%B8%D0%BD%D0%B0_%D0%BF%D1%80%D0%B8%D0%BD%D1%87%D0%B8%D0%BF%D0%B0%D0%BB%D1%8D\n",
      "http://mo.wikipedia.org/wiki/%D0%9F%D0%B0%D3%82%D0%B8%D0%BD%D0%B0_%D0%BF%D1%80%D0%B8%D0%BD%D1%87%D0%B8%D0%BF%D0%B0%D0%BB%D1%8D\n"
     ]
    },
    {
     "data": {
      "application/vnd.jupyter.widget-view+json": {
       "model_id": "a67d25e40bf44fa9a042e74d85daf95f",
       "version_major": 2,
       "version_minor": 0
      },
      "text/plain": [
       "A Jupyter Widget"
      ]
     },
     "metadata": {},
     "output_type": "display_data"
    },
    {
     "name": "stdout",
     "output_type": "stream",
     "text": [
      "\n"
     ]
    },
    {
     "data": {
      "application/vnd.jupyter.widget-view+json": {
       "model_id": "164f55e383e244c09fb0fe6f5e7814db",
       "version_major": 2,
       "version_minor": 0
      },
      "text/plain": [
       "A Jupyter Widget"
      ]
     },
     "metadata": {},
     "output_type": "display_data"
    },
    {
     "name": "stdout",
     "output_type": "stream",
     "text": [
      "\n"
     ]
    },
    {
     "data": {
      "application/vnd.jupyter.widget-view+json": {
       "model_id": "7abe0f858bd1444f846e3553bc531f35",
       "version_major": 2,
       "version_minor": 0
      },
      "text/plain": [
       "A Jupyter Widget"
      ]
     },
     "metadata": {},
     "output_type": "display_data"
    },
    {
     "name": "stdout",
     "output_type": "stream",
     "text": [
      "\n"
     ]
    },
    {
     "data": {
      "application/vnd.jupyter.widget-view+json": {
       "model_id": "ef87593bbb8e4a81a9e24c75959b3ced",
       "version_major": 2,
       "version_minor": 0
      },
      "text/plain": [
       "A Jupyter Widget"
      ]
     },
     "metadata": {},
     "output_type": "display_data"
    },
    {
     "name": "stdout",
     "output_type": "stream",
     "text": [
      "\n"
     ]
    },
    {
     "data": {
      "application/vnd.jupyter.widget-view+json": {
       "model_id": "ed0eb93f78a74dbca68d994467d2d8da",
       "version_major": 2,
       "version_minor": 0
      },
      "text/plain": [
       "A Jupyter Widget"
      ]
     },
     "metadata": {},
     "output_type": "display_data"
    },
    {
     "name": "stdout",
     "output_type": "stream",
     "text": [
      "\n",
      "http://mo.wikipedia.org/wiki/%D0%95%D1%83%D1%80%D0%BE%D0%BF%D0%B0\n",
      "http://mo.wikipedia.org/wiki/%D0%A0%D1%83%D1%81%D0%B8%D1%8F\n",
      "http://mo.wikipedia.org/wiki/%D0%9F%D0%BE%D0%BB%D0%BE%D0%BD%D0%B8%D1%8F\n",
      "http://mo.wikipedia.org/wiki/%D0%A1%D0%BB%D0%BE%D0%B2%D0%B0%D1%87%D0%B8%D1%8F\n",
      "http://mo.wikipedia.org/wiki/%D0%A3%D0%BD%D0%B3%D0%B0%D1%80%D0%B8%D1%8F\n",
      "http://mo.wikipedia.org/wiki/%D0%A0%D0%BE%D0%BC%D1%8B%D0%BD%D0%B8%D1%8F\n",
      "http://mo.wikipedia.org/wiki/%D0%A0%D0%B5%D0%BF%D1%83%D0%B1%D0%BB%D0%B8%D0%BA%D0%B0_%D0%9C%D0%BE%D0%BB%D0%B4%D0%BE%D0%B2%D0%B0\n",
      "http://mo.wikipedia.org/wiki/%D0%9B%D0%B8%D0%BC%D0%B1%D1%8D_%D0%BE%D1%84%D0%B8%D1%87%D0%B8%D0%B0%D0%BB%D1%8D\n",
      "http://mo.wikipedia.org/wiki/%D0%9A%D0%B0%D0%BF%D0%B8%D1%82%D0%B0%D0%BB%D1%8D\n",
      "http://mo.wikipedia.org/wiki/%D0%A1%D0%B8%D1%81%D1%82%D0%B5%D0%BC_%D0%BF%D0%BE%D0%BB%D0%B8%D1%82%D0%B8%D0%BA\n",
      "http://mo.wikipedia.org/wiki/%D0%A1%D1%83%D0%BF%D1%80%D0%B0%D1%84%D0%B0%D1%86%D1%8D\n",
      "http://mo.wikipedia.org/wiki/%D0%9F%D0%BE%D0%BF%D1%83%D0%BB%D0%B0%D1%86%D0%B8%D0%B5\n",
      "http://mo.wikipedia.org/wiki/%D0%94%D0%B5%D0%BD%D1%81%D0%B8%D1%82%D0%B0%D1%82%D1%8F_%D0%BF%D0%BE%D0%BF%D1%83%D0%BB%D0%B0%D1%86%D0%B8%D0%B5%D0%B9\n",
      "http://mo.wikipedia.org/wiki/%D0%9F%D1%80%D0%BE%D0%B4%D1%83%D1%81_%D0%B8%D0%BD%D1%82%D0%B5%D1%80%D0%BD_%D0%B1%D1%80%D1%83%D1%82\n",
      "http://mo.wikipedia.org/wiki/%D0%9C%D0%BE%D0%BD%D0%B5%D0%B4%D1%8D\n",
      "http://mo.wikipedia.org/wiki/%D0%A4%D1%83%D1%81_%D0%BE%D1%80%D0%B0%D1%80\n",
      "http://mo.wikipedia.org/wiki/%D0%98%D0%BC%D0%BD_%D0%BD%D0%B0%D1%86%D0%B8%D0%BE%D0%BD%D0%B0%D0%BB\n",
      "http://mo.wikipedia.org/wiki/%D0%94%D0%BE%D0%BC%D0%B5%D0%BD%D0%B8%D1%83_%D0%BD%D0%B0%D1%86%D0%B8%D0%BE%D0%BD%D0%B0%D0%BB_%D0%B4%D0%B5_%D0%BD%D0%B8%D0%B2%D0%B5%D0%BB_%D1%81%D1%83%D0%BF%D0%B5%D1%80%D0%B8%D0%BE%D1%80\n",
      "http://mo.wikipedia.org/wiki/%D0%9A%D0%B8%D0%B5%D0%B2\n",
      "http://mo.wikipedia.org/wiki/%D0%9E%D0%B4%D0%B5%D1%81%D0%B0\n",
      "http://mo.wikipedia.org/wiki/%D0%9A%D1%80%D0%B8%D0%BC%D0%B5%D1%8F\n",
      "http://mo.wikipedia.org/wiki/%D0%A1%D0%B5%D0%B2%D0%B0%D1%81%D1%82%D0%BE%D0%BF%D0%BE%D0%BB\n",
      "http://mo.wikipedia.org/wiki/%D0%A1%D0%B8%D0%BC%D1%84%D0%B5%D1%80%D0%BE%D0%BF%D0%BE%D0%BB\n",
      "http://mo.wikipedia.org/wiki/%D0%9A%D1%80%D0%B8%D0%BC%D0%B5%D1%8F\n",
      "http://mo.wikipedia.org/wiki/%D0%A7%D0%B5%D1%80%D0%BD%D1%8D%D1%83%D1%86%D1%8C_(%D1%80%D0%B5%D3%82%D0%B8%D1%83%D0%BD%D0%B5)\n",
      "http://mo.wikipedia.org/wiki/%D0%94%D0%BD%D0%B5%D0%BF%D1%80%D0%BE%D0%BF%D0%B5%D1%82%D1%80%D0%BE%D0%B2%D1%81%D0%BA_(%D1%80%D0%B5%D3%82%D0%B8%D1%83%D0%BD%D0%B5)\n",
      "http://mo.wikipedia.org/wiki/%D0%94%D0%BE%D0%BD%D0%B5%D1%86%D0%BA_(%D1%80%D0%B5%D3%82%D0%B8%D1%83%D0%BD%D0%B5)\n",
      "http://mo.wikipedia.org/wiki/%D0%98%D0%B2%D0%B0%D0%BD%D0%BE-%D0%A4%D1%80%D0%B0%D0%BD%D0%BA%D0%BE%D0%B2%D1%81%D0%BA_(%D1%80%D0%B5%D3%82%D0%B8%D1%83%D0%BD%D0%B5)\n",
      "http://mo.wikipedia.org/wiki/%D0%9A%D0%B8%D0%B5%D0%B2\n",
      "http://mo.wikipedia.org/wiki/%D0%9E%D0%B4%D0%B5%D1%81%D1%81%D0%B0_(%D1%80%D0%B5%D3%82%D0%B8%D1%83%D0%BD%D0%B5)\n",
      "http://mo.wikipedia.org/wiki/%D0%A0%D0%B5%D0%BF%D1%83%D0%B1%D0%BB%D0%B8%D0%BA%D0%B0_%D0%9A%D1%80%D0%B8%D0%BC%D0%B5%D1%8F\n",
      "http://mo.wikipedia.org/wiki/%D0%92%D0%B8%D0%BD%D0%BD%D0%B8%D1%86%D0%B0_(%D1%80%D0%B5%D3%82%D0%B8%D1%83%D0%BD%D0%B5)\n",
      "http://mo.wikipedia.org/wiki/%D0%A2%D1%80%D0%B0%D0%BD%D1%81%D0%BA%D0%B0%D1%80%D0%BF%D0%B0%D1%82%D0%B8%D1%8F\n",
      "http://mo.wikipedia.org/wiki/%D0%97%D0%B0%D0%BF%D0%BE%D1%80%D0%BE%D0%B6%D1%8C%D0%B5_(%D1%80%D0%B5%D3%82%D1%8E%D0%BD%D0%B5)\n",
      "http://mo.wikipedia.org/wiki/%D0%9A%D0%BE%D0%BC%D1%83%D0%BD%D0%B8%D1%82%D0%B0%D1%82%D1%8F_%D0%A1%D1%82%D0%B0%D1%82%D0%B5%D0%BB%D0%BE%D1%80_%D0%98%D0%BD%D0%B4%D0%B5%D0%BF%D0%B5%D0%BD%D0%B4%D0%B5%D0%BD%D1%82%D0%B5\n",
      "http://mo.wikipedia.org/wiki/%D0%90%D1%80%D0%BC%D0%B5%D0%BD%D0%B8%D1%8F\n",
      "http://mo.wikipedia.org/wiki/%D0%90%D0%B7%D0%B5%D1%80%D0%B1%D0%B0%D0%B8%D3%82%D0%B0%D0%BD\n",
      "http://mo.wikipedia.org/wiki/%D0%91%D0%B5%D0%BB%D0%B0%D1%80%D1%83%D1%81\n",
      "http://mo.wikipedia.org/wiki/%D3%81%D0%B5%D0%BE%D1%80%D3%82%D0%B8%D1%8F\n",
      "http://mo.wikipedia.org/wiki/%D0%9A%D0%B0%D0%B7%D0%B0%D1%85%D1%81%D1%82%D0%B0%D0%BD\n",
      "http://mo.wikipedia.org/wiki/%D0%9A%D1%8B%D1%80%D0%B3%D1%8B%D0%B7%D1%81%D1%82%D0%B0%D0%BD\n",
      "http://mo.wikipedia.org/wiki/%D0%A0%D0%B5%D0%BF%D1%83%D0%B1%D0%BB%D0%B8%D0%BA%D0%B0_%D0%9C%D0%BE%D0%BB%D0%B4%D0%BE%D0%B2%D0%B0\n",
      "http://mo.wikipedia.org/wiki/%D0%A0%D1%83%D1%81%D0%B8%D1%8F\n",
      "http://mo.wikipedia.org/wiki/%D0%A2%D0%B0%D3%82%D0%B8%D0%BA%D0%B8%D1%81%D1%82%D0%B0%D0%BD\n",
      "http://mo.wikipedia.org/wiki/%D0%A2%D1%83%D1%80%D0%BA%D0%BC%D0%B5%D0%BD%D0%B8%D1%81%D1%82%D0%B0%D0%BD\n",
      "http://mo.wikipedia.org/wiki/%D0%A3%D0%B7%D0%B1%D0%B5%D0%BA%D0%B8%D1%81%D1%82%D0%B0%D0%BD\n",
      "http://mo.wikipedia.org/wiki/%D0%A3%D0%BA%D1%80%D0%B0%D0%B8%D0%BD%D0%B0\n",
      "http://mo.wikipedia.org/wiki/%D0%A3%D0%BA%D1%80%D0%B0%D0%B8%D0%BD%D0%B0\n",
      "http://mo.wikipedia.org/wiki/%D0%9F%D0%B0%D3%82%D0%B8%D0%BD%D0%B0_%D0%BF%D1%80%D0%B8%D0%BD%D1%87%D0%B8%D0%BF%D0%B0%D0%BB%D1%8D\n",
      "http://mo.wikipedia.org/wiki/%D0%9F%D0%B0%D3%82%D0%B8%D0%BD%D0%B0_%D0%BF%D1%80%D0%B8%D0%BD%D1%87%D0%B8%D0%BF%D0%B0%D0%BB%D1%8D\n"
     ]
    },
    {
     "data": {
      "application/vnd.jupyter.widget-view+json": {
       "model_id": "85b8a82393c049778b762c3510f9e051",
       "version_major": 2,
       "version_minor": 0
      },
      "text/plain": [
       "A Jupyter Widget"
      ]
     },
     "metadata": {},
     "output_type": "display_data"
    },
    {
     "name": "stdout",
     "output_type": "stream",
     "text": [
      "\n"
     ]
    },
    {
     "data": {
      "application/vnd.jupyter.widget-view+json": {
       "model_id": "562b3a5a9b2241ce961b2337d935bbd5",
       "version_major": 2,
       "version_minor": 0
      },
      "text/plain": [
       "A Jupyter Widget"
      ]
     },
     "metadata": {},
     "output_type": "display_data"
    },
    {
     "name": "stdout",
     "output_type": "stream",
     "text": [
      "\n"
     ]
    },
    {
     "data": {
      "application/vnd.jupyter.widget-view+json": {
       "model_id": "8458a7ab300c4c92a5e180299855b177",
       "version_major": 2,
       "version_minor": 0
      },
      "text/plain": [
       "A Jupyter Widget"
      ]
     },
     "metadata": {},
     "output_type": "display_data"
    },
    {
     "name": "stdout",
     "output_type": "stream",
     "text": [
      "\n"
     ]
    },
    {
     "data": {
      "application/vnd.jupyter.widget-view+json": {
       "model_id": "ca3e0852265542b7869c637120be6e61",
       "version_major": 2,
       "version_minor": 0
      },
      "text/plain": [
       "A Jupyter Widget"
      ]
     },
     "metadata": {},
     "output_type": "display_data"
    },
    {
     "name": "stdout",
     "output_type": "stream",
     "text": [
      "\n"
     ]
    },
    {
     "data": {
      "application/vnd.jupyter.widget-view+json": {
       "model_id": "0fe69cfafa1a48bb911164ff92c334cd",
       "version_major": 2,
       "version_minor": 0
      },
      "text/plain": [
       "A Jupyter Widget"
      ]
     },
     "metadata": {},
     "output_type": "display_data"
    },
    {
     "name": "stdout",
     "output_type": "stream",
     "text": [
      "\n"
     ]
    },
    {
     "data": {
      "application/vnd.jupyter.widget-view+json": {
       "model_id": "64112032b59849aaa1970b333de606e5",
       "version_major": 2,
       "version_minor": 0
      },
      "text/plain": [
       "A Jupyter Widget"
      ]
     },
     "metadata": {},
     "output_type": "display_data"
    },
    {
     "name": "stdout",
     "output_type": "stream",
     "text": [
      "\n",
      "http://mo.wikipedia.org/wiki/%D0%90%D1%81%D0%B8%D1%8F\n",
      "http://mo.wikipedia.org/wiki/%D0%A2%D1%83%D1%80%D0%BA%D0%BC%D0%B5%D0%BD%D0%B8%D1%81%D1%82%D0%B0%D0%BD\n",
      "http://mo.wikipedia.org/wiki/%D0%A2%D1%83%D1%80%D0%BA%D0%BC%D0%B5%D0%BD%D0%B8%D1%81%D1%82%D0%B0%D0%BD\n",
      "http://mo.wikipedia.org/wiki/%D0%9F%D0%B0%D3%82%D0%B8%D0%BD%D0%B0_%D0%BF%D1%80%D0%B8%D0%BD%D1%87%D0%B8%D0%BF%D0%B0%D0%BB%D1%8D\n",
      "http://mo.wikipedia.org/wiki/%D0%9F%D0%B0%D3%82%D0%B8%D0%BD%D0%B0_%D0%BF%D1%80%D0%B8%D0%BD%D1%87%D0%B8%D0%BF%D0%B0%D0%BB%D1%8D\n"
     ]
    },
    {
     "data": {
      "application/vnd.jupyter.widget-view+json": {
       "model_id": "935d1f14a5f3413e90938d3c8ceaf29d",
       "version_major": 2,
       "version_minor": 0
      },
      "text/plain": [
       "A Jupyter Widget"
      ]
     },
     "metadata": {},
     "output_type": "display_data"
    },
    {
     "name": "stdout",
     "output_type": "stream",
     "text": [
      "\n"
     ]
    },
    {
     "data": {
      "application/vnd.jupyter.widget-view+json": {
       "model_id": "90f5f794f8ff4b8c99866a7fa3f53360",
       "version_major": 2,
       "version_minor": 0
      },
      "text/plain": [
       "A Jupyter Widget"
      ]
     },
     "metadata": {},
     "output_type": "display_data"
    },
    {
     "name": "stdout",
     "output_type": "stream",
     "text": [
      "\n"
     ]
    },
    {
     "data": {
      "application/vnd.jupyter.widget-view+json": {
       "model_id": "e442ce8a91e6442e96bbbc9bc13f8aa1",
       "version_major": 2,
       "version_minor": 0
      },
      "text/plain": [
       "A Jupyter Widget"
      ]
     },
     "metadata": {},
     "output_type": "display_data"
    },
    {
     "name": "stdout",
     "output_type": "stream",
     "text": [
      "\n"
     ]
    },
    {
     "data": {
      "application/vnd.jupyter.widget-view+json": {
       "model_id": "b77868e8e30d4deeba55a6173edffdd1",
       "version_major": 2,
       "version_minor": 0
      },
      "text/plain": [
       "A Jupyter Widget"
      ]
     },
     "metadata": {},
     "output_type": "display_data"
    },
    {
     "name": "stdout",
     "output_type": "stream",
     "text": [
      "\n"
     ]
    },
    {
     "data": {
      "application/vnd.jupyter.widget-view+json": {
       "model_id": "d1a0099d7aef42719f7dea417e98f52a",
       "version_major": 2,
       "version_minor": 0
      },
      "text/plain": [
       "A Jupyter Widget"
      ]
     },
     "metadata": {},
     "output_type": "display_data"
    },
    {
     "name": "stdout",
     "output_type": "stream",
     "text": [
      "\n",
      "http://mo.wikipedia.org/wiki/%D0%9A%D0%BE%D0%BD%D1%82%D0%B8%D0%BD%D0%B5%D0%BD%D1%82\n",
      "http://mo.wikipedia.org/wiki/%D0%9F%D1%8D%D0%BC%D1%8B%D0%BD%D1%82\n",
      "http://mo.wikipedia.org/wiki/%D0%95%D1%83%D1%80%D0%B0%D1%81%D0%B8%D1%8F\n",
      "http://mo.wikipedia.org/wiki/%D0%A0%D1%83%D1%81%D0%B8%D1%8F\n",
      "http://mo.wikipedia.org/wiki/%D0%A1%D0%B8%D0%B1%D0%B5%D1%80%D0%B8%D1%8F\n",
      "http://mo.wikipedia.org/wiki/%D0%9F%D0%BE%D0%BF%D1%83%D0%BB%D0%B0%D1%86%D0%B8%D0%B5\n",
      "http://mo.wikipedia.org/wiki/%D0%9A%D0%B0%D0%B7%D0%B0%D1%85%D1%81%D1%82%D0%B0%D0%BD\n",
      "http://mo.wikipedia.org/wiki/%D0%90%D1%84%D0%B3%D0%B0%D0%BD%D0%B8%D1%81%D1%82%D0%B0%D0%BD\n",
      "http://mo.wikipedia.org/wiki/%D0%9A%D0%B0%D0%B7%D0%B0%D1%85%D1%81%D1%82%D0%B0%D0%BD\n",
      "http://mo.wikipedia.org/wiki/%D0%9A%D1%8B%D1%80%D0%B3%D1%8B%D0%B7%D1%81%D1%82%D0%B0%D0%BD\n",
      "http://mo.wikipedia.org/wiki/%D0%A2%D0%B0%D3%82%D0%B8%D0%BA%D0%B8%D1%81%D1%82%D0%B0%D0%BD\n",
      "http://mo.wikipedia.org/wiki/%D0%A2%D1%83%D1%80%D0%BA%D0%BC%D0%B5%D0%BD%D0%B8%D1%81%D1%82%D0%B0%D0%BD\n",
      "http://mo.wikipedia.org/wiki/%D0%A3%D0%B7%D0%B1%D0%B5%D0%BA%D0%B8%D1%81%D1%82%D0%B0%D0%BD\n",
      "http://mo.wikipedia.org/wiki/%D0%96%D0%B0%D0%BF%D0%BE%D0%BD%D0%B8%D1%8F\n",
      "http://mo.wikipedia.org/wiki/%D0%9A%D0%BE%D1%80%D0%B5%D1%8F_%D0%B4%D0%B5_%D0%A1%D1%83%D0%B4\n",
      "http://mo.wikipedia.org/wiki/%D0%9C%D0%BE%D0%BD%D0%B3%D0%BE%D0%BB%D0%B8%D1%8F\n",
      "http://mo.wikipedia.org/wiki/%D0%98%D0%BD%D0%B4%D0%B8%D1%8F\n",
      "http://mo.wikipedia.org/wiki/%D0%98%D1%80%D0%B0%D0%BA\n",
      "http://mo.wikipedia.org/wiki/%D0%9F%D0%B0%D0%BB%D0%B5%D1%81%D1%82%D0%B8%D0%BD%D0%B0\n",
      "http://mo.wikipedia.org/wiki/%D0%A1%D0%B8%D1%80%D0%B8%D1%8F\n",
      "http://mo.wikipedia.org/wiki/%D0%90%D1%80%D0%BC%D0%B5%D0%BD%D0%B8%D1%8F\n",
      "http://mo.wikipedia.org/wiki/%D0%90%D0%B7%D0%B5%D1%80%D0%B1%D0%B0%D0%B8%D3%82%D0%B0%D0%BD\n",
      "http://mo.wikipedia.org/wiki/%D3%81%D0%B5%D0%BE%D1%80%D3%82%D0%B8%D1%8F\n",
      "http://mo.wikipedia.org/wiki/%D0%A2%D1%83%D1%80%D1%87%D0%B8%D1%8F\n",
      "http://mo.wikipedia.org/wiki/%D0%9A%D0%BE%D0%BD%D1%82%D0%B8%D0%BD%D0%B5%D0%BD%D1%82\n",
      "http://mo.wikipedia.org/wiki/%D0%95%D1%83%D1%80%D0%BE%D0%BF%D0%B0\n",
      "http://mo.wikipedia.org/wiki/%D0%90%D1%81%D0%B8%D1%8F\n",
      "http://mo.wikipedia.org/wiki/%D0%90%D1%81%D0%B8%D1%8F\n",
      "http://mo.wikipedia.org/wiki/%D0%9F%D0%B0%D3%82%D0%B8%D0%BD%D0%B0_%D0%BF%D1%80%D0%B8%D0%BD%D1%87%D0%B8%D0%BF%D0%B0%D0%BB%D1%8D\n",
      "http://mo.wikipedia.org/wiki/%D0%9F%D0%B0%D3%82%D0%B8%D0%BD%D0%B0_%D0%BF%D1%80%D0%B8%D0%BD%D1%87%D0%B8%D0%BF%D0%B0%D0%BB%D1%8D\n"
     ]
    },
    {
     "data": {
      "application/vnd.jupyter.widget-view+json": {
       "model_id": "fcfa5fe2909e4a578c6c0ef8b0d8ea53",
       "version_major": 2,
       "version_minor": 0
      },
      "text/plain": [
       "A Jupyter Widget"
      ]
     },
     "metadata": {},
     "output_type": "display_data"
    },
    {
     "name": "stdout",
     "output_type": "stream",
     "text": [
      "\n"
     ]
    },
    {
     "data": {
      "application/vnd.jupyter.widget-view+json": {
       "model_id": "75675a38ccc6476c959ab9e73d9a914c",
       "version_major": 2,
       "version_minor": 0
      },
      "text/plain": [
       "A Jupyter Widget"
      ]
     },
     "metadata": {},
     "output_type": "display_data"
    },
    {
     "name": "stdout",
     "output_type": "stream",
     "text": [
      "\n"
     ]
    },
    {
     "data": {
      "application/vnd.jupyter.widget-view+json": {
       "model_id": "fe464d5f73f24fd386c270fdbc1aa440",
       "version_major": 2,
       "version_minor": 0
      },
      "text/plain": [
       "A Jupyter Widget"
      ]
     },
     "metadata": {},
     "output_type": "display_data"
    },
    {
     "name": "stdout",
     "output_type": "stream",
     "text": [
      "\n"
     ]
    },
    {
     "data": {
      "application/vnd.jupyter.widget-view+json": {
       "model_id": "951fe4977f8944e3992b914f55f8d6dd",
       "version_major": 2,
       "version_minor": 0
      },
      "text/plain": [
       "A Jupyter Widget"
      ]
     },
     "metadata": {},
     "output_type": "display_data"
    },
    {
     "name": "stdout",
     "output_type": "stream",
     "text": [
      "\n"
     ]
    },
    {
     "data": {
      "application/vnd.jupyter.widget-view+json": {
       "model_id": "5ed224d21df047c79b17856e263d222b",
       "version_major": 2,
       "version_minor": 0
      },
      "text/plain": [
       "A Jupyter Widget"
      ]
     },
     "metadata": {},
     "output_type": "display_data"
    },
    {
     "name": "stdout",
     "output_type": "stream",
     "text": [
      "\n",
      "http://mo.wikipedia.org/wiki/%D0%9A%D0%BE%D0%BD%D1%82%D0%B8%D0%BD%D0%B5%D0%BD%D1%82\n",
      "http://mo.wikipedia.org/wiki/%D0%9C%D0%B0%D1%80%D1%8F_%D0%9D%D1%8F%D0%B3%D1%80%D1%8D\n",
      "http://mo.wikipedia.org/wiki/%D0%90%D1%81%D0%B8%D1%8F\n",
      "http://mo.wikipedia.org/wiki/%D0%95%D1%83%D1%80%D0%B0%D1%81%D0%B8%D1%8F\n",
      "http://mo.wikipedia.org/wiki/%D0%90%D1%81%D0%B8%D1%8F\n",
      "http://mo.wikipedia.org/wiki/%D0%90%D1%83%D1%81%D1%82%D1%80%D0%B8%D1%8F\n",
      "http://mo.wikipedia.org/wiki/%D0%91%D0%B5%D0%BB%D0%B0%D1%80%D1%83%D1%81\n",
      "http://mo.wikipedia.org/wiki/%D0%91%D1%83%D0%BB%D0%B3%D0%B0%D1%80%D0%B8%D1%8F\n",
      "http://mo.wikipedia.org/wiki/%D0%93%D1%80%D0%B5%D1%87%D0%B8%D1%8F\n",
      "http://mo.wikipedia.org/wiki/%D0%95%D1%81%D1%82%D0%BE%D0%BD%D0%B8%D1%8F\n",
      "http://mo.wikipedia.org/wiki/%D3%81%D0%B5%D1%80%D0%BC%D0%B0%D0%BD%D0%B8%D1%8F\n",
      "http://mo.wikipedia.org/wiki/%D0%98%D1%80%D0%BB%D0%B0%D0%BD%D0%B4%D0%B0\n",
      "http://mo.wikipedia.org/wiki/%D0%98%D1%82%D0%B0%D0%BB%D0%B8%D1%8F\n",
      "http://mo.wikipedia.org/wiki/%D0%9A%D1%80%D0%BE%D0%B0%D1%86%D0%B8%D1%8F\n",
      "http://mo.wikipedia.org/wiki/%D0%9B%D0%B5%D1%82%D0%BE%D0%BD%D0%B8%D1%8F\n",
      "http://mo.wikipedia.org/wiki/%D0%9B%D0%B8%D1%82%D1%83%D0%B0%D0%BD%D0%B8%D1%8F\n",
      "http://mo.wikipedia.org/wiki/%D0%9C%D0%BE%D0%BB%D0%B4%D0%BE%D0%B2%D0%B0\n",
      "http://mo.wikipedia.org/wiki/%D0%9F%D0%BE%D0%BB%D0%BE%D0%BD%D0%B8%D1%8F\n",
      "http://mo.wikipedia.org/wiki/%D0%9F%D0%BE%D1%80%D1%82%D1%83%D0%B3%D0%B0%D0%BB%D0%B8%D1%8F\n",
      "http://mo.wikipedia.org/wiki/%D0%A0%D0%BE%D0%BC%D1%8B%D0%BD%D0%B8%D1%8F\n",
      "http://mo.wikipedia.org/wiki/%D0%A0%D1%83%D1%81%D0%B8%D1%8F\n",
      "http://mo.wikipedia.org/wiki/%D0%A1%D0%B5%D1%80%D0%B1%D0%B8%D1%8F\n",
      "http://mo.wikipedia.org/wiki/%D0%A1%D0%BB%D0%BE%D0%B2%D0%B0%D1%87%D0%B8%D1%8F\n",
      "http://mo.wikipedia.org/wiki/%D0%A1%D0%BF%D0%B0%D0%BD%D0%B8%D1%8F\n",
      "http://mo.wikipedia.org/wiki/%D0%A1%D1%83%D0%B5%D0%B4%D0%B8%D1%8F\n",
      "http://mo.wikipedia.org/wiki/%D0%A2%D1%83%D1%80%D1%87%D0%B8%D1%8F\n",
      "http://mo.wikipedia.org/wiki/%D0%A3%D0%BA%D1%80%D0%B0%D0%B8%D0%BD%D0%B0\n",
      "http://mo.wikipedia.org/wiki/%D0%A3%D0%BD%D0%B3%D0%B0%D1%80%D0%B8%D1%8F\n",
      "http://mo.wikipedia.org/wiki/%D0%A4%D1%80%D0%B0%D0%BD%D1%86%D0%B0\n",
      "http://mo.wikipedia.org/wiki/%D0%A3%D0%BD%D0%B8%D1%83%D0%BD%D1%8F_%D0%95%D1%83%D1%80%D0%BE%D0%BF%D1%8F%D0%BD%D1%8D\n",
      "http://mo.wikipedia.org/wiki/%D0%9A%D0%BE%D0%BD%D1%82%D0%B8%D0%BD%D0%B5%D0%BD%D1%82\n",
      "http://mo.wikipedia.org/wiki/%D0%90%D1%81%D0%B8%D1%8F\n",
      "http://mo.wikipedia.org/wiki/%D0%95%D1%83%D1%80%D0%BE%D0%BF%D0%B0\n",
      "http://mo.wikipedia.org/wiki/%D0%95%D1%83%D1%80%D0%BE%D0%BF%D0%B0\n",
      "http://mo.wikipedia.org/wiki/%D0%9F%D0%B0%D3%82%D0%B8%D0%BD%D0%B0_%D0%BF%D1%80%D0%B8%D0%BD%D1%87%D0%B8%D0%BF%D0%B0%D0%BB%D1%8D\n",
      "http://mo.wikipedia.org/wiki/%D0%9F%D0%B0%D3%82%D0%B8%D0%BD%D0%B0_%D0%BF%D1%80%D0%B8%D0%BD%D1%87%D0%B8%D0%BF%D0%B0%D0%BB%D1%8D\n"
     ]
    },
    {
     "data": {
      "application/vnd.jupyter.widget-view+json": {
       "model_id": "81880bbc77884202ac04d5f4ecc323fd",
       "version_major": 2,
       "version_minor": 0
      },
      "text/plain": [
       "A Jupyter Widget"
      ]
     },
     "metadata": {},
     "output_type": "display_data"
    },
    {
     "name": "stdout",
     "output_type": "stream",
     "text": [
      "\n"
     ]
    },
    {
     "data": {
      "application/vnd.jupyter.widget-view+json": {
       "model_id": "2a69db5808374afe91cdccd40f3fd37b",
       "version_major": 2,
       "version_minor": 0
      },
      "text/plain": [
       "A Jupyter Widget"
      ]
     },
     "metadata": {},
     "output_type": "display_data"
    },
    {
     "name": "stdout",
     "output_type": "stream",
     "text": [
      "\n"
     ]
    },
    {
     "data": {
      "application/vnd.jupyter.widget-view+json": {
       "model_id": "bc653e19a59f453e8b1547579486d8cb",
       "version_major": 2,
       "version_minor": 0
      },
      "text/plain": [
       "A Jupyter Widget"
      ]
     },
     "metadata": {},
     "output_type": "display_data"
    },
    {
     "name": "stdout",
     "output_type": "stream",
     "text": [
      "\n"
     ]
    },
    {
     "data": {
      "application/vnd.jupyter.widget-view+json": {
       "model_id": "14416ef17be047d3b586cdde1554de57",
       "version_major": 2,
       "version_minor": 0
      },
      "text/plain": [
       "A Jupyter Widget"
      ]
     },
     "metadata": {},
     "output_type": "display_data"
    },
    {
     "name": "stdout",
     "output_type": "stream",
     "text": [
      "\n"
     ]
    },
    {
     "data": {
      "application/vnd.jupyter.widget-view+json": {
       "model_id": "f1b907f099834dca921089b1d938440e",
       "version_major": 2,
       "version_minor": 0
      },
      "text/plain": [
       "A Jupyter Widget"
      ]
     },
     "metadata": {},
     "output_type": "display_data"
    },
    {
     "name": "stdout",
     "output_type": "stream",
     "text": [
      "\n"
     ]
    },
    {
     "data": {
      "application/vnd.jupyter.widget-view+json": {
       "model_id": "3e9382ad09ec4bf78551fe57381291de",
       "version_major": 2,
       "version_minor": 0
      },
      "text/plain": [
       "A Jupyter Widget"
      ]
     },
     "metadata": {},
     "output_type": "display_data"
    },
    {
     "name": "stdout",
     "output_type": "stream",
     "text": [
      "\n",
      "http://mo.wikipedia.org/wiki/%D0%95%D1%83%D1%80%D0%B0%D1%81%D0%B8%D1%8F\n",
      "http://mo.wikipedia.org/wiki/%D0%95%D1%83%D1%80%D0%BE%D0%BF%D0%B0\n",
      "http://mo.wikipedia.org/wiki/%D0%90%D1%81%D0%B8%D1%8F\n",
      "http://mo.wikipedia.org/wiki/%D0%95%D1%83%D1%80%D0%B0%D1%81%D0%B8%D1%8F\n",
      "http://mo.wikipedia.org/wiki/%D0%95%D1%83%D1%80%D0%BE%D0%BF%D0%B0\n",
      "http://mo.wikipedia.org/wiki/%D0%90%D1%81%D0%B8%D1%8F\n",
      "http://mo.wikipedia.org/wiki/%D0%9A%D0%BE%D0%BD%D1%82%D0%B8%D0%BD%D0%B5%D0%BD%D1%82\n",
      "http://mo.wikipedia.org/wiki/%D0%9A%D0%BE%D0%BD%D1%82%D0%B8%D0%BD%D0%B5%D0%BD%D1%82\n",
      "http://mo.wikipedia.org/wiki/%D0%9F%D0%B0%D3%82%D0%B8%D0%BD%D0%B0_%D0%BF%D1%80%D0%B8%D0%BD%D1%87%D0%B8%D0%BF%D0%B0%D0%BB%D1%8D\n",
      "http://mo.wikipedia.org/wiki/%D0%9F%D0%B0%D3%82%D0%B8%D0%BD%D0%B0_%D0%BF%D1%80%D0%B8%D0%BD%D1%87%D0%B8%D0%BF%D0%B0%D0%BB%D1%8D\n"
     ]
    },
    {
     "data": {
      "application/vnd.jupyter.widget-view+json": {
       "model_id": "d04f331537364d5d8d300568f9f0ae05",
       "version_major": 2,
       "version_minor": 0
      },
      "text/plain": [
       "A Jupyter Widget"
      ]
     },
     "metadata": {},
     "output_type": "display_data"
    },
    {
     "name": "stdout",
     "output_type": "stream",
     "text": [
      "\n"
     ]
    },
    {
     "data": {
      "application/vnd.jupyter.widget-view+json": {
       "model_id": "368e51fa3c46470ebf9ba10f5b961ee1",
       "version_major": 2,
       "version_minor": 0
      },
      "text/plain": [
       "A Jupyter Widget"
      ]
     },
     "metadata": {},
     "output_type": "display_data"
    },
    {
     "name": "stdout",
     "output_type": "stream",
     "text": [
      "\n"
     ]
    },
    {
     "data": {
      "application/vnd.jupyter.widget-view+json": {
       "model_id": "ed8f342d2c0948ebb60918400300ec15",
       "version_major": 2,
       "version_minor": 0
      },
      "text/plain": [
       "A Jupyter Widget"
      ]
     },
     "metadata": {},
     "output_type": "display_data"
    },
    {
     "name": "stdout",
     "output_type": "stream",
     "text": [
      "\n"
     ]
    },
    {
     "data": {
      "application/vnd.jupyter.widget-view+json": {
       "model_id": "3cb51c1cfcb645998b89d8235b81ec94",
       "version_major": 2,
       "version_minor": 0
      },
      "text/plain": [
       "A Jupyter Widget"
      ]
     },
     "metadata": {},
     "output_type": "display_data"
    },
    {
     "name": "stdout",
     "output_type": "stream",
     "text": [
      "\n"
     ]
    },
    {
     "data": {
      "application/vnd.jupyter.widget-view+json": {
       "model_id": "76459a2dc38b4b4491fb91df4074c377",
       "version_major": 2,
       "version_minor": 0
      },
      "text/plain": [
       "A Jupyter Widget"
      ]
     },
     "metadata": {},
     "output_type": "display_data"
    },
    {
     "name": "stdout",
     "output_type": "stream",
     "text": [
      "\n"
     ]
    },
    {
     "data": {
      "application/vnd.jupyter.widget-view+json": {
       "model_id": "a172663e61f3449eb044151dbf3e6dea",
       "version_major": 2,
       "version_minor": 0
      },
      "text/plain": [
       "A Jupyter Widget"
      ]
     },
     "metadata": {},
     "output_type": "display_data"
    },
    {
     "name": "stdout",
     "output_type": "stream",
     "text": [
      "\n"
     ]
    },
    {
     "data": {
      "application/vnd.jupyter.widget-view+json": {
       "model_id": "8e956f51ffea483687e0d27d08e70eca",
       "version_major": 2,
       "version_minor": 0
      },
      "text/plain": [
       "A Jupyter Widget"
      ]
     },
     "metadata": {},
     "output_type": "display_data"
    },
    {
     "name": "stdout",
     "output_type": "stream",
     "text": [
      "\n",
      "http://mo.wikipedia.org/wiki/%D0%95%D1%83%D1%80%D0%BE%D0%BF%D0%B0\n",
      "http://mo.wikipedia.org/wiki/%D0%90%D1%81%D0%B8%D1%8F\n",
      "http://mo.wikipedia.org/wiki/%D0%A0%D1%83%D1%81%D0%B8%D1%8F\n",
      "http://mo.wikipedia.org/wiki/%D0%A3%D0%A0%D0%A1%D0%A1\n",
      "http://mo.wikipedia.org/wiki/%D0%95%D1%83%D1%80%D0%B0%D1%81%D0%B8%D1%8F\n",
      "http://mo.wikipedia.org/wiki/%D0%95%D1%83%D1%80%D0%B0%D1%81%D0%B8%D1%8F\n",
      "http://mo.wikipedia.org/wiki/%D0%9F%D0%B0%D3%82%D0%B8%D0%BD%D0%B0_%D0%BF%D1%80%D0%B8%D0%BD%D1%87%D0%B8%D0%BF%D0%B0%D0%BB%D1%8D\n",
      "http://mo.wikipedia.org/wiki/%D0%9F%D0%B0%D3%82%D0%B8%D0%BD%D0%B0_%D0%BF%D1%80%D0%B8%D0%BD%D1%87%D0%B8%D0%BF%D0%B0%D0%BB%D1%8D\n"
     ]
    },
    {
     "data": {
      "application/vnd.jupyter.widget-view+json": {
       "model_id": "9ac1189d6eb841ccadc75387272e5ec5",
       "version_major": 2,
       "version_minor": 0
      },
      "text/plain": [
       "A Jupyter Widget"
      ]
     },
     "metadata": {},
     "output_type": "display_data"
    },
    {
     "name": "stdout",
     "output_type": "stream",
     "text": [
      "\n"
     ]
    },
    {
     "data": {
      "application/vnd.jupyter.widget-view+json": {
       "model_id": "9cf40d1351964db689779fad1b0faaab",
       "version_major": 2,
       "version_minor": 0
      },
      "text/plain": [
       "A Jupyter Widget"
      ]
     },
     "metadata": {},
     "output_type": "display_data"
    },
    {
     "name": "stdout",
     "output_type": "stream",
     "text": [
      "\n"
     ]
    },
    {
     "data": {
      "application/vnd.jupyter.widget-view+json": {
       "model_id": "b8d4c268d0bc4d37ab49d1adc432c2dd",
       "version_major": 2,
       "version_minor": 0
      },
      "text/plain": [
       "A Jupyter Widget"
      ]
     },
     "metadata": {},
     "output_type": "display_data"
    },
    {
     "name": "stdout",
     "output_type": "stream",
     "text": [
      "\n"
     ]
    },
    {
     "data": {
      "application/vnd.jupyter.widget-view+json": {
       "model_id": "a273d5e8716d47b183b56882d4f1082c",
       "version_major": 2,
       "version_minor": 0
      },
      "text/plain": [
       "A Jupyter Widget"
      ]
     },
     "metadata": {},
     "output_type": "display_data"
    },
    {
     "name": "stdout",
     "output_type": "stream",
     "text": [
      "\n"
     ]
    },
    {
     "data": {
      "application/vnd.jupyter.widget-view+json": {
       "model_id": "7c2c83a581bf4191a10935485ff49298",
       "version_major": 2,
       "version_minor": 0
      },
      "text/plain": [
       "A Jupyter Widget"
      ]
     },
     "metadata": {},
     "output_type": "display_data"
    },
    {
     "name": "stdout",
     "output_type": "stream",
     "text": [
      "\n",
      "http://mo.wikipedia.org/wiki/%D0%9B%D0%B8%D0%BC%D0%B1%D0%B0_%D1%80%D1%83%D1%81%D1%8D\n",
      "http://mo.wikipedia.org/wiki/%D0%9A%D0%B0%D0%BF%D0%B8%D1%82%D0%B0%D0%BB%D0%B0\n",
      "http://mo.wikipedia.org/wiki/%D0%9C%D0%BE%D1%81%D0%BA%D0%BE%D0%B2%D0%B0\n",
      "http://mo.wikipedia.org/wiki/%D0%94%D0%B5%D0%BD%D1%81%D0%B8%D1%82%D0%B0%D1%82%D1%8F_%D0%BF%D0%BE%D0%BF%D1%83%D0%BB%D0%B0%D1%86%D0%B8%D0%B5%D0%B9\n",
      "http://mo.wikipedia.org/wiki/1991\n",
      "http://mo.wikipedia.org/wiki/%D0%A4%D1%83%D1%81_%D0%BE%D1%80%D0%B0%D1%80\n",
      "http://mo.wikipedia.org/wiki/%D0%98%D0%BC%D0%BD_%D0%BD%D0%B0%D1%86%D0%B8%D0%BE%D0%BD%D0%B0%D0%BB\n",
      "http://mo.wikipedia.org/wiki/%D0%9B%D0%B8%D0%BC%D0%B1%D0%B0_%D1%80%D1%83%D1%81%D1%8D\n",
      "http://mo.wikipedia.org/wiki/%D0%95%D1%83%D1%80%D0%B0%D1%81%D0%B8%D1%8F\n",
      "http://mo.wikipedia.org/wiki/1991\n",
      "http://mo.wikipedia.org/wiki/%D0%A0%D1%83%D1%81%D0%B8%D1%8F\n",
      "http://mo.wikipedia.org/wiki/1990\n",
      "http://mo.wikipedia.org/wiki/%D0%9F%D0%BE%D0%BB%D0%BE%D0%BD%D0%B8%D1%8F\n",
      "http://mo.wikipedia.org/wiki/%D0%9F%D0%B0%D1%80%D1%82%D0%B8%D0%B4_%D0%BF%D0%BE%D0%BB%D0%B8%D1%82%D0%B8%D0%BA\n",
      "http://mo.wikipedia.org/wiki/%D0%A0%D1%83%D1%81%D0%B8%D1%8F\n",
      "http://mo.wikipedia.org/wiki/1940\n",
      "http://mo.wikipedia.org/wiki/%D0%A1%D0%A3%D0%90\n",
      "http://mo.wikipedia.org/wiki/%D0%9C%D0%B8%D1%85%D0%B0%D0%B8%D0%BB_%D0%93%D0%BE%D1%80%D0%B1%D0%B0%D1%87%D1%91%D0%B2\n",
      "http://mo.wikipedia.org/wiki/1991\n",
      "http://mo.wikipedia.org/wiki/%D0%9A%D0%BE%D0%BC%D1%83%D0%BD%D0%B8%D1%82%D0%B0%D1%82%D1%8F_%D0%A1%D1%82%D0%B0%D1%82%D0%B5%D0%BB%D0%BE%D1%80_%D0%98%D0%BD%D0%B4%D0%B5%D0%BF%D0%B5%D0%BD%D0%B4%D0%B5%D0%BD%D1%82%D0%B5\n",
      "http://mo.wikipedia.org/wiki/%D0%A0%D0%B5%D0%BF%D1%83%D0%B1%D0%BB%D0%B8%D0%BA%D1%8D\n",
      "http://mo.wikipedia.org/wiki/%D0%9A%D0%BE%D0%BC%D1%83%D0%BD%D0%B8%D1%82%D0%B0%D1%82%D1%8F_%D0%A1%D1%82%D0%B0%D1%82%D0%B5%D0%BB%D0%BE%D1%80_%D0%98%D0%BD%D0%B4%D0%B5%D0%BF%D0%B5%D0%BD%D0%B4%D0%B5%D0%BD%D1%82%D0%B5\n",
      "http://mo.wikipedia.org/wiki/%D0%A0%D0%A1%D0%A1_%D0%9C%D0%BE%D0%BB%D0%B4%D0%BE%D0%B2%D0%B5%D0%BD%D1%8F%D1%81%D0%BA%D1%8D\n",
      "http://mo.wikipedia.org/wiki/%D0%90%D1%80%D0%BC%D0%B5%D0%BD%D0%B8%D1%8F\n",
      "http://mo.wikipedia.org/wiki/%D0%90%D0%B7%D0%B5%D1%80%D0%B1%D0%B0%D0%B8%D3%82%D0%B0%D0%BD\n",
      "http://mo.wikipedia.org/wiki/%D0%91%D0%B5%D0%BB%D0%B0%D1%80%D1%83%D1%81\n",
      "http://mo.wikipedia.org/wiki/%D0%95%D1%81%D1%82%D0%BE%D0%BD%D0%B8%D1%8F\n",
      "http://mo.wikipedia.org/wiki/%D3%81%D0%B5%D0%BE%D1%80%D3%82%D0%B8%D1%8F\n",
      "http://mo.wikipedia.org/wiki/%D0%9A%D0%B0%D0%B7%D0%B0%D1%85%D1%81%D1%82%D0%B0%D0%BD\n",
      "http://mo.wikipedia.org/wiki/%D0%9A%D1%8B%D1%80%D0%B3%D1%8B%D0%B7%D1%81%D1%82%D0%B0%D0%BD\n",
      "http://mo.wikipedia.org/wiki/%D0%9B%D0%B5%D1%82%D0%BE%D0%BD%D0%B8%D1%8F\n",
      "http://mo.wikipedia.org/wiki/%D0%9B%D0%B8%D1%82%D1%83%D0%B0%D0%BD%D0%B8%D1%8F\n",
      "http://mo.wikipedia.org/wiki/%D0%A0%D0%B5%D0%BF%D1%83%D0%B1%D0%BB%D0%B8%D0%BA%D0%B0_%D0%9C%D0%BE%D0%BB%D0%B4%D0%BE%D0%B2%D0%B0\n",
      "http://mo.wikipedia.org/wiki/%D0%A0%D1%83%D1%81%D0%B8%D1%8F\n",
      "http://mo.wikipedia.org/wiki/%D0%A2%D0%B0%D3%82%D0%B8%D0%BA%D0%B8%D1%81%D1%82%D0%B0%D0%BD\n",
      "http://mo.wikipedia.org/wiki/%D0%A2%D1%83%D1%80%D0%BA%D0%BC%D0%B5%D0%BD%D0%B8%D1%81%D1%82%D0%B0%D0%BD\n",
      "http://mo.wikipedia.org/wiki/%D0%A3%D0%BA%D1%80%D0%B0%D0%B8%D0%BD%D0%B0\n",
      "http://mo.wikipedia.org/wiki/%D0%A3%D0%B7%D0%B1%D0%B5%D0%BA%D0%B8%D1%81%D1%82%D0%B0%D0%BD\n",
      "http://mo.wikipedia.org/wiki/1991\n",
      "http://mo.wikipedia.org/wiki/1917\n",
      "http://mo.wikipedia.org/wiki/1918\n",
      "http://mo.wikipedia.org/wiki/1917\n",
      "http://mo.wikipedia.org/wiki/%D0%A3%D0%BD%D0%B8%D1%83%D0%BD%D1%8F_%D0%A1%D0%BE%D0%B2%D0%B8%D0%B5%D1%82%D0%B8%D0%BA%D1%8D\n",
      "http://mo.wikipedia.org/wiki/%D0%A3%D0%BD%D0%B8%D1%83%D0%BD%D1%8F_%D0%A1%D0%BE%D0%B2%D0%B8%D0%B5%D1%82%D0%B8%D0%BA%D1%8D\n",
      "http://mo.wikipedia.org/wiki/%D0%9F%D0%B0%D3%82%D0%B8%D0%BD%D0%B0_%D0%BF%D1%80%D0%B8%D0%BD%D1%87%D0%B8%D0%BF%D0%B0%D0%BB%D1%8D\n",
      "http://mo.wikipedia.org/wiki/%D0%9F%D0%B0%D3%82%D0%B8%D0%BD%D0%B0_%D0%BF%D1%80%D0%B8%D0%BD%D1%87%D0%B8%D0%BF%D0%B0%D0%BB%D1%8D\n"
     ]
    },
    {
     "data": {
      "application/vnd.jupyter.widget-view+json": {
       "model_id": "d13b3dae22534da1b8f6b0459cf64a7f",
       "version_major": 2,
       "version_minor": 0
      },
      "text/plain": [
       "A Jupyter Widget"
      ]
     },
     "metadata": {},
     "output_type": "display_data"
    },
    {
     "name": "stdout",
     "output_type": "stream",
     "text": [
      "\n"
     ]
    },
    {
     "data": {
      "application/vnd.jupyter.widget-view+json": {
       "model_id": "818cf5b8b6104403935d0a67be735790",
       "version_major": 2,
       "version_minor": 0
      },
      "text/plain": [
       "A Jupyter Widget"
      ]
     },
     "metadata": {},
     "output_type": "display_data"
    },
    {
     "name": "stdout",
     "output_type": "stream",
     "text": [
      "\n"
     ]
    },
    {
     "data": {
      "application/vnd.jupyter.widget-view+json": {
       "model_id": "3bcba13aa4f24835aeeff0793e1437c5",
       "version_major": 2,
       "version_minor": 0
      },
      "text/plain": [
       "A Jupyter Widget"
      ]
     },
     "metadata": {},
     "output_type": "display_data"
    },
    {
     "name": "stdout",
     "output_type": "stream",
     "text": [
      "\n",
      "http://mo.wikipedia.org/wiki/%D0%9B%D0%B8%D0%BC%D0%B1%D0%B0_%D1%80%D1%83%D1%81%D1%8D\n",
      "http://mo.wikipedia.org/wiki/%D0%9A%D0%B0%D0%BF%D0%B8%D1%82%D0%B0%D0%BB%D0%B0\n",
      "http://mo.wikipedia.org/wiki/%D0%9C%D0%BE%D1%81%D0%BA%D0%BE%D0%B2%D0%B0\n",
      "http://mo.wikipedia.org/wiki/%D0%94%D0%B5%D0%BD%D1%81%D0%B8%D1%82%D0%B0%D1%82%D1%8F_%D0%BF%D0%BE%D0%BF%D1%83%D0%BB%D0%B0%D1%86%D0%B8%D0%B5%D0%B9\n",
      "http://mo.wikipedia.org/wiki/1991\n",
      "http://mo.wikipedia.org/wiki/%D0%A4%D1%83%D1%81_%D0%BE%D1%80%D0%B0%D1%80\n",
      "http://mo.wikipedia.org/wiki/%D0%98%D0%BC%D0%BD_%D0%BD%D0%B0%D1%86%D0%B8%D0%BE%D0%BD%D0%B0%D0%BB\n",
      "http://mo.wikipedia.org/wiki/%D0%9B%D0%B8%D0%BC%D0%B1%D0%B0_%D1%80%D1%83%D1%81%D1%8D\n",
      "http://mo.wikipedia.org/wiki/%D0%95%D1%83%D1%80%D0%B0%D1%81%D0%B8%D1%8F\n",
      "http://mo.wikipedia.org/wiki/1991\n",
      "http://mo.wikipedia.org/wiki/%D0%A0%D1%83%D1%81%D0%B8%D1%8F\n",
      "http://mo.wikipedia.org/wiki/1990\n",
      "http://mo.wikipedia.org/wiki/%D0%9F%D0%BE%D0%BB%D0%BE%D0%BD%D0%B8%D1%8F\n",
      "http://mo.wikipedia.org/wiki/%D0%9F%D0%B0%D1%80%D1%82%D0%B8%D0%B4_%D0%BF%D0%BE%D0%BB%D0%B8%D1%82%D0%B8%D0%BA\n",
      "http://mo.wikipedia.org/wiki/%D0%A0%D1%83%D1%81%D0%B8%D1%8F\n",
      "http://mo.wikipedia.org/wiki/1940\n",
      "http://mo.wikipedia.org/wiki/%D0%A1%D0%A3%D0%90\n",
      "http://mo.wikipedia.org/wiki/%D0%9C%D0%B8%D1%85%D0%B0%D0%B8%D0%BB_%D0%93%D0%BE%D1%80%D0%B1%D0%B0%D1%87%D1%91%D0%B2\n",
      "http://mo.wikipedia.org/wiki/1991\n",
      "http://mo.wikipedia.org/wiki/%D0%9A%D0%BE%D0%BC%D1%83%D0%BD%D0%B8%D1%82%D0%B0%D1%82%D1%8F_%D0%A1%D1%82%D0%B0%D1%82%D0%B5%D0%BB%D0%BE%D1%80_%D0%98%D0%BD%D0%B4%D0%B5%D0%BF%D0%B5%D0%BD%D0%B4%D0%B5%D0%BD%D1%82%D0%B5\n",
      "http://mo.wikipedia.org/wiki/%D0%A0%D0%B5%D0%BF%D1%83%D0%B1%D0%BB%D0%B8%D0%BA%D1%8D\n",
      "http://mo.wikipedia.org/wiki/%D0%9A%D0%BE%D0%BC%D1%83%D0%BD%D0%B8%D1%82%D0%B0%D1%82%D1%8F_%D0%A1%D1%82%D0%B0%D1%82%D0%B5%D0%BB%D0%BE%D1%80_%D0%98%D0%BD%D0%B4%D0%B5%D0%BF%D0%B5%D0%BD%D0%B4%D0%B5%D0%BD%D1%82%D0%B5\n",
      "http://mo.wikipedia.org/wiki/%D0%A0%D0%A1%D0%A1_%D0%9C%D0%BE%D0%BB%D0%B4%D0%BE%D0%B2%D0%B5%D0%BD%D1%8F%D1%81%D0%BA%D1%8D\n",
      "http://mo.wikipedia.org/wiki/%D0%90%D1%80%D0%BC%D0%B5%D0%BD%D0%B8%D1%8F\n",
      "http://mo.wikipedia.org/wiki/%D0%90%D0%B7%D0%B5%D1%80%D0%B1%D0%B0%D0%B8%D3%82%D0%B0%D0%BD\n",
      "http://mo.wikipedia.org/wiki/%D0%91%D0%B5%D0%BB%D0%B0%D1%80%D1%83%D1%81\n",
      "http://mo.wikipedia.org/wiki/%D0%95%D1%81%D1%82%D0%BE%D0%BD%D0%B8%D1%8F\n",
      "http://mo.wikipedia.org/wiki/%D3%81%D0%B5%D0%BE%D1%80%D3%82%D0%B8%D1%8F\n",
      "http://mo.wikipedia.org/wiki/%D0%9A%D0%B0%D0%B7%D0%B0%D1%85%D1%81%D1%82%D0%B0%D0%BD\n",
      "http://mo.wikipedia.org/wiki/%D0%9A%D1%8B%D1%80%D0%B3%D1%8B%D0%B7%D1%81%D1%82%D0%B0%D0%BD\n",
      "http://mo.wikipedia.org/wiki/%D0%9B%D0%B5%D1%82%D0%BE%D0%BD%D0%B8%D1%8F\n",
      "http://mo.wikipedia.org/wiki/%D0%9B%D0%B8%D1%82%D1%83%D0%B0%D0%BD%D0%B8%D1%8F\n",
      "http://mo.wikipedia.org/wiki/%D0%A0%D0%B5%D0%BF%D1%83%D0%B1%D0%BB%D0%B8%D0%BA%D0%B0_%D0%9C%D0%BE%D0%BB%D0%B4%D0%BE%D0%B2%D0%B0\n",
      "http://mo.wikipedia.org/wiki/%D0%A0%D1%83%D1%81%D0%B8%D1%8F\n",
      "http://mo.wikipedia.org/wiki/%D0%A2%D0%B0%D3%82%D0%B8%D0%BA%D0%B8%D1%81%D1%82%D0%B0%D0%BD\n",
      "http://mo.wikipedia.org/wiki/%D0%A2%D1%83%D1%80%D0%BA%D0%BC%D0%B5%D0%BD%D0%B8%D1%81%D1%82%D0%B0%D0%BD\n",
      "http://mo.wikipedia.org/wiki/%D0%A3%D0%BA%D1%80%D0%B0%D0%B8%D0%BD%D0%B0\n",
      "http://mo.wikipedia.org/wiki/%D0%A3%D0%B7%D0%B1%D0%B5%D0%BA%D0%B8%D1%81%D1%82%D0%B0%D0%BD\n",
      "http://mo.wikipedia.org/wiki/1991\n",
      "http://mo.wikipedia.org/wiki/1917\n",
      "http://mo.wikipedia.org/wiki/1918\n",
      "http://mo.wikipedia.org/wiki/1917\n",
      "http://mo.wikipedia.org/wiki/%D0%A3%D0%BD%D0%B8%D1%83%D0%BD%D1%8F_%D0%A1%D0%BE%D0%B2%D0%B8%D0%B5%D1%82%D0%B8%D0%BA%D1%8D\n",
      "http://mo.wikipedia.org/wiki/%D0%A3%D0%BD%D0%B8%D1%83%D0%BD%D1%8F_%D0%A1%D0%BE%D0%B2%D0%B8%D0%B5%D1%82%D0%B8%D0%BA%D1%8D\n",
      "http://mo.wikipedia.org/wiki/%D0%9F%D0%B0%D3%82%D0%B8%D0%BD%D0%B0_%D0%BF%D1%80%D0%B8%D0%BD%D1%87%D0%B8%D0%BF%D0%B0%D0%BB%D1%8D\n",
      "http://mo.wikipedia.org/wiki/%D0%9F%D0%B0%D3%82%D0%B8%D0%BD%D0%B0_%D0%BF%D1%80%D0%B8%D0%BD%D1%87%D0%B8%D0%BF%D0%B0%D0%BB%D1%8D\n"
     ]
    },
    {
     "data": {
      "application/vnd.jupyter.widget-view+json": {
       "model_id": "1403e5d70e5a43a998ef252be87201fb",
       "version_major": 2,
       "version_minor": 0
      },
      "text/plain": [
       "A Jupyter Widget"
      ]
     },
     "metadata": {},
     "output_type": "display_data"
    },
    {
     "name": "stdout",
     "output_type": "stream",
     "text": [
      "\n"
     ]
    },
    {
     "data": {
      "application/vnd.jupyter.widget-view+json": {
       "model_id": "697738c3bf084940bd568343515d3f36",
       "version_major": 2,
       "version_minor": 0
      },
      "text/plain": [
       "A Jupyter Widget"
      ]
     },
     "metadata": {},
     "output_type": "display_data"
    },
    {
     "name": "stdout",
     "output_type": "stream",
     "text": [
      "\n"
     ]
    },
    {
     "data": {
      "application/vnd.jupyter.widget-view+json": {
       "model_id": "62e0035af0424fabbf08159d4fca9bad",
       "version_major": 2,
       "version_minor": 0
      },
      "text/plain": [
       "A Jupyter Widget"
      ]
     },
     "metadata": {},
     "output_type": "display_data"
    },
    {
     "name": "stdout",
     "output_type": "stream",
     "text": [
      "\n"
     ]
    },
    {
     "data": {
      "application/vnd.jupyter.widget-view+json": {
       "model_id": "5c94886876084dfca5cdb488ea778483",
       "version_major": 2,
       "version_minor": 0
      },
      "text/plain": [
       "A Jupyter Widget"
      ]
     },
     "metadata": {},
     "output_type": "display_data"
    },
    {
     "name": "stdout",
     "output_type": "stream",
     "text": [
      "\n"
     ]
    },
    {
     "data": {
      "application/vnd.jupyter.widget-view+json": {
       "model_id": "230ee8afbc5d4c79835fb02207b9ead6",
       "version_major": 2,
       "version_minor": 0
      },
      "text/plain": [
       "A Jupyter Widget"
      ]
     },
     "metadata": {},
     "output_type": "display_data"
    },
    {
     "name": "stdout",
     "output_type": "stream",
     "text": [
      "\n",
      "http://mo.wikipedia.org/wiki/1918\n",
      "http://mo.wikipedia.org/wiki/1919\n",
      "http://mo.wikipedia.org/wiki/1918\n",
      "http://mo.wikipedia.org/wiki/1919\n",
      "http://mo.wikipedia.org/wiki/1917\n",
      "http://mo.wikipedia.org/wiki/1917\n",
      "http://mo.wikipedia.org/wiki/%D0%9F%D0%B0%D3%82%D0%B8%D0%BD%D0%B0_%D0%BF%D1%80%D0%B8%D0%BD%D1%87%D0%B8%D0%BF%D0%B0%D0%BB%D1%8D\n",
      "http://mo.wikipedia.org/wiki/%D0%9F%D0%B0%D3%82%D0%B8%D0%BD%D0%B0_%D0%BF%D1%80%D0%B8%D0%BD%D1%87%D0%B8%D0%BF%D0%B0%D0%BB%D1%8D\n"
     ]
    },
    {
     "data": {
      "application/vnd.jupyter.widget-view+json": {
       "model_id": "cb858cc1a6294ce48191635bc751cd99",
       "version_major": 2,
       "version_minor": 0
      },
      "text/plain": [
       "A Jupyter Widget"
      ]
     },
     "metadata": {},
     "output_type": "display_data"
    },
    {
     "name": "stdout",
     "output_type": "stream",
     "text": [
      "\n"
     ]
    },
    {
     "data": {
      "application/vnd.jupyter.widget-view+json": {
       "model_id": "81c11afdb067487bba45dc13c1b3817d",
       "version_major": 2,
       "version_minor": 0
      },
      "text/plain": [
       "A Jupyter Widget"
      ]
     },
     "metadata": {},
     "output_type": "display_data"
    },
    {
     "name": "stdout",
     "output_type": "stream",
     "text": [
      "\n"
     ]
    },
    {
     "data": {
      "application/vnd.jupyter.widget-view+json": {
       "model_id": "d7daffeaa5ea42f2974ba6fc48220619",
       "version_major": 2,
       "version_minor": 0
      },
      "text/plain": [
       "A Jupyter Widget"
      ]
     },
     "metadata": {},
     "output_type": "display_data"
    },
    {
     "name": "stdout",
     "output_type": "stream",
     "text": [
      "\n"
     ]
    },
    {
     "data": {
      "application/vnd.jupyter.widget-view+json": {
       "model_id": "e2c5537311fb4706895e71e4a6f9b453",
       "version_major": 2,
       "version_minor": 0
      },
      "text/plain": [
       "A Jupyter Widget"
      ]
     },
     "metadata": {},
     "output_type": "display_data"
    },
    {
     "name": "stdout",
     "output_type": "stream",
     "text": [
      "\n"
     ]
    },
    {
     "data": {
      "application/vnd.jupyter.widget-view+json": {
       "model_id": "3efd40a8a58443e5859f07a0a67b4a07",
       "version_major": 2,
       "version_minor": 0
      },
      "text/plain": [
       "A Jupyter Widget"
      ]
     },
     "metadata": {},
     "output_type": "display_data"
    },
    {
     "name": "stdout",
     "output_type": "stream",
     "text": [
      "\n",
      "http://mo.wikipedia.org/wiki/1917\n",
      "http://mo.wikipedia.org/wiki/1918\n",
      "http://mo.wikipedia.org/wiki/1917\n",
      "http://mo.wikipedia.org/wiki/1918\n",
      "http://mo.wikipedia.org/wiki/1919\n",
      "http://mo.wikipedia.org/wiki/1919\n",
      "http://mo.wikipedia.org/wiki/%D0%9F%D0%B0%D3%82%D0%B8%D0%BD%D0%B0_%D0%BF%D1%80%D0%B8%D0%BD%D1%87%D0%B8%D0%BF%D0%B0%D0%BB%D1%8D\n",
      "http://mo.wikipedia.org/wiki/%D0%9F%D0%B0%D3%82%D0%B8%D0%BD%D0%B0_%D0%BF%D1%80%D0%B8%D0%BD%D1%87%D0%B8%D0%BF%D0%B0%D0%BB%D1%8D\n"
     ]
    },
    {
     "data": {
      "application/vnd.jupyter.widget-view+json": {
       "model_id": "ef6bdc7f3e364322900baa14c9ab93ec",
       "version_major": 2,
       "version_minor": 0
      },
      "text/plain": [
       "A Jupyter Widget"
      ]
     },
     "metadata": {},
     "output_type": "display_data"
    },
    {
     "name": "stdout",
     "output_type": "stream",
     "text": [
      "\n"
     ]
    },
    {
     "data": {
      "application/vnd.jupyter.widget-view+json": {
       "model_id": "869f393fde8c41cd82d8d62a93686e39",
       "version_major": 2,
       "version_minor": 0
      },
      "text/plain": [
       "A Jupyter Widget"
      ]
     },
     "metadata": {},
     "output_type": "display_data"
    },
    {
     "name": "stdout",
     "output_type": "stream",
     "text": [
      "\n"
     ]
    },
    {
     "data": {
      "application/vnd.jupyter.widget-view+json": {
       "model_id": "c1841b0c91b541b4b62c2c5699f59389",
       "version_major": 2,
       "version_minor": 0
      },
      "text/plain": [
       "A Jupyter Widget"
      ]
     },
     "metadata": {},
     "output_type": "display_data"
    },
    {
     "name": "stdout",
     "output_type": "stream",
     "text": [
      "\n"
     ]
    },
    {
     "data": {
      "application/vnd.jupyter.widget-view+json": {
       "model_id": "f600725c74474fc782510eb9339576ab",
       "version_major": 2,
       "version_minor": 0
      },
      "text/plain": [
       "A Jupyter Widget"
      ]
     },
     "metadata": {},
     "output_type": "display_data"
    },
    {
     "name": "stdout",
     "output_type": "stream",
     "text": [
      "\n"
     ]
    },
    {
     "data": {
      "application/vnd.jupyter.widget-view+json": {
       "model_id": "097c6f51c4584df4a9d2025f699120cc",
       "version_major": 2,
       "version_minor": 0
      },
      "text/plain": [
       "A Jupyter Widget"
      ]
     },
     "metadata": {},
     "output_type": "display_data"
    },
    {
     "name": "stdout",
     "output_type": "stream",
     "text": [
      "\n",
      "http://mo.wikipedia.org/wiki/1917\n",
      "http://mo.wikipedia.org/wiki/1919\n",
      "http://mo.wikipedia.org/wiki/1917\n",
      "http://mo.wikipedia.org/wiki/1919\n",
      "http://mo.wikipedia.org/wiki/1918\n",
      "http://mo.wikipedia.org/wiki/1918\n",
      "http://mo.wikipedia.org/wiki/%D0%9F%D0%B0%D3%82%D0%B8%D0%BD%D0%B0_%D0%BF%D1%80%D0%B8%D0%BD%D1%87%D0%B8%D0%BF%D0%B0%D0%BB%D1%8D\n",
      "http://mo.wikipedia.org/wiki/%D0%9F%D0%B0%D3%82%D0%B8%D0%BD%D0%B0_%D0%BF%D1%80%D0%B8%D0%BD%D1%87%D0%B8%D0%BF%D0%B0%D0%BB%D1%8D\n"
     ]
    },
    {
     "data": {
      "application/vnd.jupyter.widget-view+json": {
       "model_id": "ca42b1ddd1e143e593e537f1c458e989",
       "version_major": 2,
       "version_minor": 0
      },
      "text/plain": [
       "A Jupyter Widget"
      ]
     },
     "metadata": {},
     "output_type": "display_data"
    },
    {
     "name": "stdout",
     "output_type": "stream",
     "text": [
      "\n"
     ]
    },
    {
     "data": {
      "application/vnd.jupyter.widget-view+json": {
       "model_id": "8dc33f928a9e4f2cabed1c4ff35d441c",
       "version_major": 2,
       "version_minor": 0
      },
      "text/plain": [
       "A Jupyter Widget"
      ]
     },
     "metadata": {},
     "output_type": "display_data"
    },
    {
     "name": "stdout",
     "output_type": "stream",
     "text": [
      "\n"
     ]
    },
    {
     "data": {
      "application/vnd.jupyter.widget-view+json": {
       "model_id": "3f40077eb931470397173859628d71ef",
       "version_major": 2,
       "version_minor": 0
      },
      "text/plain": [
       "A Jupyter Widget"
      ]
     },
     "metadata": {},
     "output_type": "display_data"
    },
    {
     "name": "stdout",
     "output_type": "stream",
     "text": [
      "\n"
     ]
    },
    {
     "data": {
      "application/vnd.jupyter.widget-view+json": {
       "model_id": "7f275b2ac96a4ce7b265a05a108324fd",
       "version_major": 2,
       "version_minor": 0
      },
      "text/plain": [
       "A Jupyter Widget"
      ]
     },
     "metadata": {},
     "output_type": "display_data"
    },
    {
     "name": "stdout",
     "output_type": "stream",
     "text": [
      "\n"
     ]
    },
    {
     "data": {
      "application/vnd.jupyter.widget-view+json": {
       "model_id": "057be7f9df1d4da5adc05681190fe349",
       "version_major": 2,
       "version_minor": 0
      },
      "text/plain": [
       "A Jupyter Widget"
      ]
     },
     "metadata": {},
     "output_type": "display_data"
    },
    {
     "name": "stdout",
     "output_type": "stream",
     "text": [
      "\n"
     ]
    },
    {
     "data": {
      "application/vnd.jupyter.widget-view+json": {
       "model_id": "d5cf0a504336492c93279cd1338c671f",
       "version_major": 2,
       "version_minor": 0
      },
      "text/plain": [
       "A Jupyter Widget"
      ]
     },
     "metadata": {},
     "output_type": "display_data"
    },
    {
     "name": "stdout",
     "output_type": "stream",
     "text": [
      "\n"
     ]
    },
    {
     "data": {
      "application/vnd.jupyter.widget-view+json": {
       "model_id": "009da33dce2f4ccabb57378e3727e1ba",
       "version_major": 2,
       "version_minor": 0
      },
      "text/plain": [
       "A Jupyter Widget"
      ]
     },
     "metadata": {},
     "output_type": "display_data"
    },
    {
     "name": "stdout",
     "output_type": "stream",
     "text": [
      "\n"
     ]
    },
    {
     "data": {
      "application/vnd.jupyter.widget-view+json": {
       "model_id": "34b7b5d7d7a04e9e9ec6e9bda310a8ad",
       "version_major": 2,
       "version_minor": 0
      },
      "text/plain": [
       "A Jupyter Widget"
      ]
     },
     "metadata": {},
     "output_type": "display_data"
    },
    {
     "name": "stdout",
     "output_type": "stream",
     "text": [
      "\n"
     ]
    },
    {
     "data": {
      "application/vnd.jupyter.widget-view+json": {
       "model_id": "e5181745919746cd833fb003da15b03f",
       "version_major": 2,
       "version_minor": 0
      },
      "text/plain": [
       "A Jupyter Widget"
      ]
     },
     "metadata": {},
     "output_type": "display_data"
    },
    {
     "name": "stdout",
     "output_type": "stream",
     "text": [
      "\n"
     ]
    },
    {
     "data": {
      "application/vnd.jupyter.widget-view+json": {
       "model_id": "334c09d23066481ca10c7b46de97fcd8",
       "version_major": 2,
       "version_minor": 0
      },
      "text/plain": [
       "A Jupyter Widget"
      ]
     },
     "metadata": {},
     "output_type": "display_data"
    },
    {
     "name": "stdout",
     "output_type": "stream",
     "text": [
      "\n"
     ]
    },
    {
     "data": {
      "application/vnd.jupyter.widget-view+json": {
       "model_id": "009d9314390240a5aaf68c22229deee5",
       "version_major": 2,
       "version_minor": 0
      },
      "text/plain": [
       "A Jupyter Widget"
      ]
     },
     "metadata": {},
     "output_type": "display_data"
    },
    {
     "name": "stdout",
     "output_type": "stream",
     "text": [
      "\n"
     ]
    },
    {
     "data": {
      "application/vnd.jupyter.widget-view+json": {
       "model_id": "6dee42b2a6db4a98805fecc9d9d352b0",
       "version_major": 2,
       "version_minor": 0
      },
      "text/plain": [
       "A Jupyter Widget"
      ]
     },
     "metadata": {},
     "output_type": "display_data"
    },
    {
     "name": "stdout",
     "output_type": "stream",
     "text": [
      "\n"
     ]
    },
    {
     "data": {
      "application/vnd.jupyter.widget-view+json": {
       "model_id": "21385a0df6784cef917039e79fb83f63",
       "version_major": 2,
       "version_minor": 0
      },
      "text/plain": [
       "A Jupyter Widget"
      ]
     },
     "metadata": {},
     "output_type": "display_data"
    },
    {
     "name": "stdout",
     "output_type": "stream",
     "text": [
      "\n"
     ]
    },
    {
     "data": {
      "application/vnd.jupyter.widget-view+json": {
       "model_id": "ec2d80731ee64ae79e01b92ea7d8f266",
       "version_major": 2,
       "version_minor": 0
      },
      "text/plain": [
       "A Jupyter Widget"
      ]
     },
     "metadata": {},
     "output_type": "display_data"
    },
    {
     "name": "stdout",
     "output_type": "stream",
     "text": [
      "\n"
     ]
    },
    {
     "data": {
      "application/vnd.jupyter.widget-view+json": {
       "model_id": "6b1153ef5a7d4bb789b8ef6451c2a27e",
       "version_major": 2,
       "version_minor": 0
      },
      "text/plain": [
       "A Jupyter Widget"
      ]
     },
     "metadata": {},
     "output_type": "display_data"
    },
    {
     "name": "stdout",
     "output_type": "stream",
     "text": [
      "\n"
     ]
    },
    {
     "data": {
      "application/vnd.jupyter.widget-view+json": {
       "model_id": "2c6a033d78fe48f39198c60d23dc329e",
       "version_major": 2,
       "version_minor": 0
      },
      "text/plain": [
       "A Jupyter Widget"
      ]
     },
     "metadata": {},
     "output_type": "display_data"
    },
    {
     "name": "stdout",
     "output_type": "stream",
     "text": [
      "\n"
     ]
    },
    {
     "data": {
      "application/vnd.jupyter.widget-view+json": {
       "model_id": "20772ec6369543f4a2afbfb73fe8ef04",
       "version_major": 2,
       "version_minor": 0
      },
      "text/plain": [
       "A Jupyter Widget"
      ]
     },
     "metadata": {},
     "output_type": "display_data"
    },
    {
     "name": "stdout",
     "output_type": "stream",
     "text": [
      "\n",
      "http://mo.wikipedia.org/wiki/1989\n",
      "http://mo.wikipedia.org/wiki/1990\n",
      "http://mo.wikipedia.org/wiki/1989\n",
      "http://mo.wikipedia.org/wiki/1990\n",
      "http://mo.wikipedia.org/wiki/%D0%90%D0%BD%D0%B8%D0%B9_1970\n",
      "http://mo.wikipedia.org/wiki/1991\n",
      "http://mo.wikipedia.org/wiki/1991\n",
      "http://mo.wikipedia.org/wiki/%D0%9F%D0%B0%D3%82%D0%B8%D0%BD%D0%B0_%D0%BF%D1%80%D0%B8%D0%BD%D1%87%D0%B8%D0%BF%D0%B0%D0%BB%D1%8D\n",
      "http://mo.wikipedia.org/wiki/%D0%9F%D0%B0%D3%82%D0%B8%D0%BD%D0%B0_%D0%BF%D1%80%D0%B8%D0%BD%D1%87%D0%B8%D0%BF%D0%B0%D0%BB%D1%8D\n"
     ]
    },
    {
     "data": {
      "application/vnd.jupyter.widget-view+json": {
       "model_id": "209b67a30e2b4e3fa15578897ff31763",
       "version_major": 2,
       "version_minor": 0
      },
      "text/plain": [
       "A Jupyter Widget"
      ]
     },
     "metadata": {},
     "output_type": "display_data"
    },
    {
     "name": "stdout",
     "output_type": "stream",
     "text": [
      "\n"
     ]
    },
    {
     "data": {
      "application/vnd.jupyter.widget-view+json": {
       "model_id": "c455574f12ac43b28485d5685bd1b4a1",
       "version_major": 2,
       "version_minor": 0
      },
      "text/plain": [
       "A Jupyter Widget"
      ]
     },
     "metadata": {},
     "output_type": "display_data"
    },
    {
     "name": "stdout",
     "output_type": "stream",
     "text": [
      "\n"
     ]
    },
    {
     "data": {
      "application/vnd.jupyter.widget-view+json": {
       "model_id": "573231fcaee646b18b90fcd243b23d6a",
       "version_major": 2,
       "version_minor": 0
      },
      "text/plain": [
       "A Jupyter Widget"
      ]
     },
     "metadata": {},
     "output_type": "display_data"
    },
    {
     "name": "stdout",
     "output_type": "stream",
     "text": [
      "\n"
     ]
    },
    {
     "data": {
      "application/vnd.jupyter.widget-view+json": {
       "model_id": "feee14fd74fc412887092af127c8ca59",
       "version_major": 2,
       "version_minor": 0
      },
      "text/plain": [
       "A Jupyter Widget"
      ]
     },
     "metadata": {},
     "output_type": "display_data"
    },
    {
     "name": "stdout",
     "output_type": "stream",
     "text": [
      "\n"
     ]
    },
    {
     "data": {
      "application/vnd.jupyter.widget-view+json": {
       "model_id": "d804de986cf04605ba1701f8300de288",
       "version_major": 2,
       "version_minor": 0
      },
      "text/plain": [
       "A Jupyter Widget"
      ]
     },
     "metadata": {},
     "output_type": "display_data"
    },
    {
     "name": "stdout",
     "output_type": "stream",
     "text": [
      "\n"
     ]
    },
    {
     "data": {
      "application/vnd.jupyter.widget-view+json": {
       "model_id": "e80e3f9066e54222be84109395c19d8a",
       "version_major": 2,
       "version_minor": 0
      },
      "text/plain": [
       "A Jupyter Widget"
      ]
     },
     "metadata": {},
     "output_type": "display_data"
    },
    {
     "name": "stdout",
     "output_type": "stream",
     "text": [
      "\n",
      "http://mo.wikipedia.org/wiki/1989\n",
      "http://mo.wikipedia.org/wiki/1991\n",
      "http://mo.wikipedia.org/wiki/1989\n",
      "http://mo.wikipedia.org/wiki/1991\n",
      "http://mo.wikipedia.org/wiki/%D0%90%D0%BD%D0%B8%D0%B9_1970\n",
      "http://mo.wikipedia.org/wiki/%D0%9C%D0%B8%D1%85%D0%B0%D0%B8%D0%BB_%D0%93%D0%BE%D1%80%D0%B1%D0%B0%D1%87%D0%B5%D0%B2\n",
      "http://mo.wikipedia.org/wiki/1990\n",
      "http://mo.wikipedia.org/wiki/1990\n",
      "http://mo.wikipedia.org/wiki/%D0%9F%D0%B0%D3%82%D0%B8%D0%BD%D0%B0_%D0%BF%D1%80%D0%B8%D0%BD%D1%87%D0%B8%D0%BF%D0%B0%D0%BB%D1%8D\n",
      "http://mo.wikipedia.org/wiki/%D0%9F%D0%B0%D3%82%D0%B8%D0%BD%D0%B0_%D0%BF%D1%80%D0%B8%D0%BD%D1%87%D0%B8%D0%BF%D0%B0%D0%BB%D1%8D\n"
     ]
    },
    {
     "data": {
      "application/vnd.jupyter.widget-view+json": {
       "model_id": "e79ecf8662ec4e9d88ed151af13f475a",
       "version_major": 2,
       "version_minor": 0
      },
      "text/plain": [
       "A Jupyter Widget"
      ]
     },
     "metadata": {},
     "output_type": "display_data"
    },
    {
     "name": "stdout",
     "output_type": "stream",
     "text": [
      "\n"
     ]
    },
    {
     "data": {
      "application/vnd.jupyter.widget-view+json": {
       "model_id": "eb00b53da37849e69a6fdb0f098c827e",
       "version_major": 2,
       "version_minor": 0
      },
      "text/plain": [
       "A Jupyter Widget"
      ]
     },
     "metadata": {},
     "output_type": "display_data"
    },
    {
     "name": "stdout",
     "output_type": "stream",
     "text": [
      "\n"
     ]
    },
    {
     "data": {
      "application/vnd.jupyter.widget-view+json": {
       "model_id": "33120fd99617470fa0d8f8301a1677ec",
       "version_major": 2,
       "version_minor": 0
      },
      "text/plain": [
       "A Jupyter Widget"
      ]
     },
     "metadata": {},
     "output_type": "display_data"
    },
    {
     "name": "stdout",
     "output_type": "stream",
     "text": [
      "\n"
     ]
    },
    {
     "data": {
      "application/vnd.jupyter.widget-view+json": {
       "model_id": "917ef40b1e214e6da4a9a069f22f9a4d",
       "version_major": 2,
       "version_minor": 0
      },
      "text/plain": [
       "A Jupyter Widget"
      ]
     },
     "metadata": {},
     "output_type": "display_data"
    },
    {
     "name": "stdout",
     "output_type": "stream",
     "text": [
      "\n"
     ]
    },
    {
     "data": {
      "application/vnd.jupyter.widget-view+json": {
       "model_id": "f9175a2e86ff4a738695220eb0f8aa51",
       "version_major": 2,
       "version_minor": 0
      },
      "text/plain": [
       "A Jupyter Widget"
      ]
     },
     "metadata": {},
     "output_type": "display_data"
    },
    {
     "name": "stdout",
     "output_type": "stream",
     "text": [
      "\n",
      "http://mo.wikipedia.org/wiki/%D0%A3%D0%BD%D0%B8%D1%83%D0%BD%D1%8F_%D0%A1%D0%BE%D0%B2%D0%B8%D0%B5%D1%82%D0%B8%D0%BA%D1%8D\n",
      "http://mo.wikipedia.org/wiki/1991\n",
      "http://mo.wikipedia.org/wiki/1990\n",
      "http://mo.wikipedia.org/wiki/%D0%A3%D0%A0%D0%A1%D0%A1\n",
      "http://mo.wikipedia.org/wiki/%D0%A1%D0%A3%D0%90\n",
      "http://mo.wikipedia.org/wiki/1991\n",
      "http://mo.wikipedia.org/wiki/%D0%9C%D0%B8%D1%85%D0%B0%D0%B8%D0%BB_%D0%93%D0%BE%D1%80%D0%B1%D0%B0%D1%87%D1%91%D0%B2\n",
      "http://mo.wikipedia.org/wiki/%D0%9C%D0%B8%D1%85%D0%B0%D0%B8%D0%BB_%D0%93%D0%BE%D1%80%D0%B1%D0%B0%D1%87%D1%91%D0%B2\n",
      "http://mo.wikipedia.org/wiki/%D0%9F%D0%B0%D3%82%D0%B8%D0%BD%D0%B0_%D0%BF%D1%80%D0%B8%D0%BD%D1%87%D0%B8%D0%BF%D0%B0%D0%BB%D1%8D\n",
      "http://mo.wikipedia.org/wiki/%D0%9F%D0%B0%D3%82%D0%B8%D0%BD%D0%B0_%D0%BF%D1%80%D0%B8%D0%BD%D1%87%D0%B8%D0%BF%D0%B0%D0%BB%D1%8D\n"
     ]
    },
    {
     "data": {
      "application/vnd.jupyter.widget-view+json": {
       "model_id": "24914a640e6047f59f501b1ba9677a64",
       "version_major": 2,
       "version_minor": 0
      },
      "text/plain": [
       "A Jupyter Widget"
      ]
     },
     "metadata": {},
     "output_type": "display_data"
    },
    {
     "name": "stdout",
     "output_type": "stream",
     "text": [
      "\n"
     ]
    },
    {
     "data": {
      "application/vnd.jupyter.widget-view+json": {
       "model_id": "91ff1f48bae7481599fe2a617ba8bec1",
       "version_major": 2,
       "version_minor": 0
      },
      "text/plain": [
       "A Jupyter Widget"
      ]
     },
     "metadata": {},
     "output_type": "display_data"
    },
    {
     "name": "stdout",
     "output_type": "stream",
     "text": [
      "\n"
     ]
    },
    {
     "data": {
      "application/vnd.jupyter.widget-view+json": {
       "model_id": "bf72a2f8fd4e4748ad15795da17871a3",
       "version_major": 2,
       "version_minor": 0
      },
      "text/plain": [
       "A Jupyter Widget"
      ]
     },
     "metadata": {},
     "output_type": "display_data"
    },
    {
     "name": "stdout",
     "output_type": "stream",
     "text": [
      "\n",
      "http://mo.wikipedia.org/wiki/%D0%A3%D0%BD%D0%B8%D1%83%D0%BD%D1%8F_%D0%A1%D0%BE%D0%B2%D0%B8%D0%B5%D1%82%D0%B8%D0%BA%D1%8D\n",
      "http://mo.wikipedia.org/wiki/1991\n",
      "http://mo.wikipedia.org/wiki/1990\n",
      "http://mo.wikipedia.org/wiki/%D0%A3%D0%A0%D0%A1%D0%A1\n",
      "http://mo.wikipedia.org/wiki/%D0%A1%D0%A3%D0%90\n",
      "http://mo.wikipedia.org/wiki/1991\n",
      "http://mo.wikipedia.org/wiki/%D0%9C%D0%B8%D1%85%D0%B0%D0%B8%D0%BB_%D0%93%D0%BE%D1%80%D0%B1%D0%B0%D1%87%D1%91%D0%B2\n",
      "http://mo.wikipedia.org/wiki/%D0%9C%D0%B8%D1%85%D0%B0%D0%B8%D0%BB_%D0%93%D0%BE%D1%80%D0%B1%D0%B0%D1%87%D1%91%D0%B2\n",
      "http://mo.wikipedia.org/wiki/%D0%9F%D0%B0%D3%82%D0%B8%D0%BD%D0%B0_%D0%BF%D1%80%D0%B8%D0%BD%D1%87%D0%B8%D0%BF%D0%B0%D0%BB%D1%8D\n",
      "http://mo.wikipedia.org/wiki/%D0%9F%D0%B0%D3%82%D0%B8%D0%BD%D0%B0_%D0%BF%D1%80%D0%B8%D0%BD%D1%87%D0%B8%D0%BF%D0%B0%D0%BB%D1%8D\n"
     ]
    },
    {
     "data": {
      "application/vnd.jupyter.widget-view+json": {
       "model_id": "fc17314300474769b2e40c89c7d0cc18",
       "version_major": 2,
       "version_minor": 0
      },
      "text/plain": [
       "A Jupyter Widget"
      ]
     },
     "metadata": {},
     "output_type": "display_data"
    },
    {
     "name": "stdout",
     "output_type": "stream",
     "text": [
      "\n"
     ]
    },
    {
     "data": {
      "application/vnd.jupyter.widget-view+json": {
       "model_id": "5059c7da0e65430893aac79a0cf43c92",
       "version_major": 2,
       "version_minor": 0
      },
      "text/plain": [
       "A Jupyter Widget"
      ]
     },
     "metadata": {},
     "output_type": "display_data"
    },
    {
     "name": "stdout",
     "output_type": "stream",
     "text": [
      "\n"
     ]
    },
    {
     "data": {
      "application/vnd.jupyter.widget-view+json": {
       "model_id": "dcd396bfa8dc4e5e94cdc7041799014c",
       "version_major": 2,
       "version_minor": 0
      },
      "text/plain": [
       "A Jupyter Widget"
      ]
     },
     "metadata": {},
     "output_type": "display_data"
    },
    {
     "name": "stdout",
     "output_type": "stream",
     "text": [
      "\n"
     ]
    },
    {
     "data": {
      "application/vnd.jupyter.widget-view+json": {
       "model_id": "881df49101244a0aa4569a20079c5441",
       "version_major": 2,
       "version_minor": 0
      },
      "text/plain": [
       "A Jupyter Widget"
      ]
     },
     "metadata": {},
     "output_type": "display_data"
    },
    {
     "name": "stdout",
     "output_type": "stream",
     "text": [
      "\n"
     ]
    },
    {
     "data": {
      "application/vnd.jupyter.widget-view+json": {
       "model_id": "f124b5d129374632963683b8eb9b1999",
       "version_major": 2,
       "version_minor": 0
      },
      "text/plain": [
       "A Jupyter Widget"
      ]
     },
     "metadata": {},
     "output_type": "display_data"
    },
    {
     "name": "stdout",
     "output_type": "stream",
     "text": [
      "\n"
     ]
    },
    {
     "data": {
      "application/vnd.jupyter.widget-view+json": {
       "model_id": "8e23083914934145bb235ba06dbd6ab0",
       "version_major": 2,
       "version_minor": 0
      },
      "text/plain": [
       "A Jupyter Widget"
      ]
     },
     "metadata": {},
     "output_type": "display_data"
    },
    {
     "name": "stdout",
     "output_type": "stream",
     "text": [
      "\n"
     ]
    },
    {
     "data": {
      "application/vnd.jupyter.widget-view+json": {
       "model_id": "acf33c0f4a38455db0acb2745d6a37f6",
       "version_major": 2,
       "version_minor": 0
      },
      "text/plain": [
       "A Jupyter Widget"
      ]
     },
     "metadata": {},
     "output_type": "display_data"
    },
    {
     "name": "stdout",
     "output_type": "stream",
     "text": [
      "\n"
     ]
    },
    {
     "data": {
      "application/vnd.jupyter.widget-view+json": {
       "model_id": "b7de4ba5f11d4fb58050bdf77dc88c2c",
       "version_major": 2,
       "version_minor": 0
      },
      "text/plain": [
       "A Jupyter Widget"
      ]
     },
     "metadata": {},
     "output_type": "display_data"
    },
    {
     "name": "stdout",
     "output_type": "stream",
     "text": [
      "\n"
     ]
    },
    {
     "data": {
      "application/vnd.jupyter.widget-view+json": {
       "model_id": "4185331bee8143ebaa53c2800a76eb3b",
       "version_major": 2,
       "version_minor": 0
      },
      "text/plain": [
       "A Jupyter Widget"
      ]
     },
     "metadata": {},
     "output_type": "display_data"
    },
    {
     "name": "stdout",
     "output_type": "stream",
     "text": [
      "\n"
     ]
    },
    {
     "data": {
      "application/vnd.jupyter.widget-view+json": {
       "model_id": "ea33c7fc57eb4577881432c83ba8d8b5",
       "version_major": 2,
       "version_minor": 0
      },
      "text/plain": [
       "A Jupyter Widget"
      ]
     },
     "metadata": {},
     "output_type": "display_data"
    },
    {
     "name": "stdout",
     "output_type": "stream",
     "text": [
      "\n"
     ]
    },
    {
     "data": {
      "application/vnd.jupyter.widget-view+json": {
       "model_id": "ffd65931eec94fd284084383bfee5b8d",
       "version_major": 2,
       "version_minor": 0
      },
      "text/plain": [
       "A Jupyter Widget"
      ]
     },
     "metadata": {},
     "output_type": "display_data"
    },
    {
     "name": "stdout",
     "output_type": "stream",
     "text": [
      "\n"
     ]
    },
    {
     "data": {
      "application/vnd.jupyter.widget-view+json": {
       "model_id": "6abb6b847f344c45b4f00edd89c68e5b",
       "version_major": 2,
       "version_minor": 0
      },
      "text/plain": [
       "A Jupyter Widget"
      ]
     },
     "metadata": {},
     "output_type": "display_data"
    },
    {
     "name": "stdout",
     "output_type": "stream",
     "text": [
      "\n"
     ]
    },
    {
     "data": {
      "application/vnd.jupyter.widget-view+json": {
       "model_id": "e62b3237258a4e6fa75c94c78eadb7d4",
       "version_major": 2,
       "version_minor": 0
      },
      "text/plain": [
       "A Jupyter Widget"
      ]
     },
     "metadata": {},
     "output_type": "display_data"
    },
    {
     "name": "stdout",
     "output_type": "stream",
     "text": [
      "\n"
     ]
    },
    {
     "data": {
      "application/vnd.jupyter.widget-view+json": {
       "model_id": "f07a46e705e84ee98fe7d9b8e0e358ff",
       "version_major": 2,
       "version_minor": 0
      },
      "text/plain": [
       "A Jupyter Widget"
      ]
     },
     "metadata": {},
     "output_type": "display_data"
    },
    {
     "name": "stdout",
     "output_type": "stream",
     "text": [
      "\n"
     ]
    },
    {
     "data": {
      "application/vnd.jupyter.widget-view+json": {
       "model_id": "937cb5c5e5b94684baf61d212abb0412",
       "version_major": 2,
       "version_minor": 0
      },
      "text/plain": [
       "A Jupyter Widget"
      ]
     },
     "metadata": {},
     "output_type": "display_data"
    },
    {
     "name": "stdout",
     "output_type": "stream",
     "text": [
      "\n"
     ]
    },
    {
     "data": {
      "application/vnd.jupyter.widget-view+json": {
       "model_id": "2a3cdd73a6bb4c5d9b78f4a02743e4dd",
       "version_major": 2,
       "version_minor": 0
      },
      "text/plain": [
       "A Jupyter Widget"
      ]
     },
     "metadata": {},
     "output_type": "display_data"
    },
    {
     "name": "stdout",
     "output_type": "stream",
     "text": [
      "\n"
     ]
    },
    {
     "data": {
      "application/vnd.jupyter.widget-view+json": {
       "model_id": "cd63c53be5d54052b7286d15ec95a6f3",
       "version_major": 2,
       "version_minor": 0
      },
      "text/plain": [
       "A Jupyter Widget"
      ]
     },
     "metadata": {},
     "output_type": "display_data"
    },
    {
     "name": "stdout",
     "output_type": "stream",
     "text": [
      "\n"
     ]
    },
    {
     "data": {
      "application/vnd.jupyter.widget-view+json": {
       "model_id": "be7ae515bb384bd3ac1966209ebfda29",
       "version_major": 2,
       "version_minor": 0
      },
      "text/plain": [
       "A Jupyter Widget"
      ]
     },
     "metadata": {},
     "output_type": "display_data"
    },
    {
     "name": "stdout",
     "output_type": "stream",
     "text": [
      "\n"
     ]
    },
    {
     "data": {
      "application/vnd.jupyter.widget-view+json": {
       "model_id": "b0c481e83f2a4d25bd751a9e366cc361",
       "version_major": 2,
       "version_minor": 0
      },
      "text/plain": [
       "A Jupyter Widget"
      ]
     },
     "metadata": {},
     "output_type": "display_data"
    },
    {
     "name": "stdout",
     "output_type": "stream",
     "text": [
      "\n"
     ]
    },
    {
     "data": {
      "application/vnd.jupyter.widget-view+json": {
       "model_id": "4affa464d7ee45248fb8712214987d0a",
       "version_major": 2,
       "version_minor": 0
      },
      "text/plain": [
       "A Jupyter Widget"
      ]
     },
     "metadata": {},
     "output_type": "display_data"
    },
    {
     "name": "stdout",
     "output_type": "stream",
     "text": [
      "\n",
      "http://mo.wikipedia.org/wiki/1990\n",
      "http://mo.wikipedia.org/wiki/1991\n",
      "http://mo.wikipedia.org/wiki/1990\n",
      "http://mo.wikipedia.org/wiki/1991\n",
      "http://mo.wikipedia.org/wiki/%D0%90%D0%BD%D0%B8%D0%B9_1970\n",
      "http://mo.wikipedia.org/wiki/1989\n",
      "http://mo.wikipedia.org/wiki/1989\n",
      "http://mo.wikipedia.org/wiki/%D0%9F%D0%B0%D3%82%D0%B8%D0%BD%D0%B0_%D0%BF%D1%80%D0%B8%D0%BD%D1%87%D0%B8%D0%BF%D0%B0%D0%BB%D1%8D\n",
      "http://mo.wikipedia.org/wiki/%D0%9F%D0%B0%D3%82%D0%B8%D0%BD%D0%B0_%D0%BF%D1%80%D0%B8%D0%BD%D1%87%D0%B8%D0%BF%D0%B0%D0%BB%D1%8D\n"
     ]
    },
    {
     "data": {
      "application/vnd.jupyter.widget-view+json": {
       "model_id": "c9928bfccbb44438b5880c0cddc5d326",
       "version_major": 2,
       "version_minor": 0
      },
      "text/plain": [
       "A Jupyter Widget"
      ]
     },
     "metadata": {},
     "output_type": "display_data"
    },
    {
     "name": "stdout",
     "output_type": "stream",
     "text": [
      "\n"
     ]
    },
    {
     "data": {
      "application/vnd.jupyter.widget-view+json": {
       "model_id": "6b778b29315c426f883073318d853b68",
       "version_major": 2,
       "version_minor": 0
      },
      "text/plain": [
       "A Jupyter Widget"
      ]
     },
     "metadata": {},
     "output_type": "display_data"
    },
    {
     "name": "stdout",
     "output_type": "stream",
     "text": [
      "\n"
     ]
    },
    {
     "data": {
      "application/vnd.jupyter.widget-view+json": {
       "model_id": "cbf651d820854a6cb129b7495e7ac350",
       "version_major": 2,
       "version_minor": 0
      },
      "text/plain": [
       "A Jupyter Widget"
      ]
     },
     "metadata": {},
     "output_type": "display_data"
    },
    {
     "name": "stdout",
     "output_type": "stream",
     "text": [
      "\n"
     ]
    },
    {
     "data": {
      "application/vnd.jupyter.widget-view+json": {
       "model_id": "31844ace4ae045d390f65f0fec9cdb0a",
       "version_major": 2,
       "version_minor": 0
      },
      "text/plain": [
       "A Jupyter Widget"
      ]
     },
     "metadata": {},
     "output_type": "display_data"
    },
    {
     "name": "stdout",
     "output_type": "stream",
     "text": [
      "\n"
     ]
    },
    {
     "data": {
      "application/vnd.jupyter.widget-view+json": {
       "model_id": "3acca8da16e24ae7b361a2fcabade070",
       "version_major": 2,
       "version_minor": 0
      },
      "text/plain": [
       "A Jupyter Widget"
      ]
     },
     "metadata": {},
     "output_type": "display_data"
    },
    {
     "name": "stdout",
     "output_type": "stream",
     "text": [
      "\n"
     ]
    },
    {
     "data": {
      "application/vnd.jupyter.widget-view+json": {
       "model_id": "df55c503eeda4d319cf47dd7479ba70e",
       "version_major": 2,
       "version_minor": 0
      },
      "text/plain": [
       "A Jupyter Widget"
      ]
     },
     "metadata": {},
     "output_type": "display_data"
    },
    {
     "name": "stdout",
     "output_type": "stream",
     "text": [
      "\n"
     ]
    },
    {
     "data": {
      "application/vnd.jupyter.widget-view+json": {
       "model_id": "ff5bd1ebbcb3400391e18308c26efd48",
       "version_major": 2,
       "version_minor": 0
      },
      "text/plain": [
       "A Jupyter Widget"
      ]
     },
     "metadata": {},
     "output_type": "display_data"
    },
    {
     "name": "stdout",
     "output_type": "stream",
     "text": [
      "\n"
     ]
    },
    {
     "data": {
      "application/vnd.jupyter.widget-view+json": {
       "model_id": "9bbfde0945314c189e57964b0b94f663",
       "version_major": 2,
       "version_minor": 0
      },
      "text/plain": [
       "A Jupyter Widget"
      ]
     },
     "metadata": {},
     "output_type": "display_data"
    },
    {
     "name": "stdout",
     "output_type": "stream",
     "text": [
      "\n"
     ]
    },
    {
     "data": {
      "application/vnd.jupyter.widget-view+json": {
       "model_id": "76ce1f06312a4e46847d5d7fc818e5fc",
       "version_major": 2,
       "version_minor": 0
      },
      "text/plain": [
       "A Jupyter Widget"
      ]
     },
     "metadata": {},
     "output_type": "display_data"
    },
    {
     "name": "stdout",
     "output_type": "stream",
     "text": [
      "\n"
     ]
    },
    {
     "data": {
      "application/vnd.jupyter.widget-view+json": {
       "model_id": "7374c3b1ad314c73ae8426bc4e6acd56",
       "version_major": 2,
       "version_minor": 0
      },
      "text/plain": [
       "A Jupyter Widget"
      ]
     },
     "metadata": {},
     "output_type": "display_data"
    },
    {
     "name": "stdout",
     "output_type": "stream",
     "text": [
      "\n"
     ]
    },
    {
     "data": {
      "application/vnd.jupyter.widget-view+json": {
       "model_id": "5a44202fdabb424a83ccd3f6b3df2715",
       "version_major": 2,
       "version_minor": 0
      },
      "text/plain": [
       "A Jupyter Widget"
      ]
     },
     "metadata": {},
     "output_type": "display_data"
    },
    {
     "name": "stdout",
     "output_type": "stream",
     "text": [
      "\n"
     ]
    },
    {
     "data": {
      "application/vnd.jupyter.widget-view+json": {
       "model_id": "1054c755272b4d58a0f6ddb195433223",
       "version_major": 2,
       "version_minor": 0
      },
      "text/plain": [
       "A Jupyter Widget"
      ]
     },
     "metadata": {},
     "output_type": "display_data"
    },
    {
     "name": "stdout",
     "output_type": "stream",
     "text": [
      "\n"
     ]
    },
    {
     "data": {
      "application/vnd.jupyter.widget-view+json": {
       "model_id": "d7659ebbc2f54c07bc74c9c835541276",
       "version_major": 2,
       "version_minor": 0
      },
      "text/plain": [
       "A Jupyter Widget"
      ]
     },
     "metadata": {},
     "output_type": "display_data"
    },
    {
     "name": "stdout",
     "output_type": "stream",
     "text": [
      "\n"
     ]
    },
    {
     "data": {
      "application/vnd.jupyter.widget-view+json": {
       "model_id": "c1198f3e64354fbd99e99db2e330fb2e",
       "version_major": 2,
       "version_minor": 0
      },
      "text/plain": [
       "A Jupyter Widget"
      ]
     },
     "metadata": {},
     "output_type": "display_data"
    },
    {
     "name": "stdout",
     "output_type": "stream",
     "text": [
      "\n"
     ]
    },
    {
     "data": {
      "application/vnd.jupyter.widget-view+json": {
       "model_id": "4f527484a08d49b7bf0baf463bb7a55e",
       "version_major": 2,
       "version_minor": 0
      },
      "text/plain": [
       "A Jupyter Widget"
      ]
     },
     "metadata": {},
     "output_type": "display_data"
    },
    {
     "name": "stdout",
     "output_type": "stream",
     "text": [
      "\n"
     ]
    },
    {
     "data": {
      "application/vnd.jupyter.widget-view+json": {
       "model_id": "d2c0018b7b364830af2f25086b8a0875",
       "version_major": 2,
       "version_minor": 0
      },
      "text/plain": [
       "A Jupyter Widget"
      ]
     },
     "metadata": {},
     "output_type": "display_data"
    },
    {
     "name": "stdout",
     "output_type": "stream",
     "text": [
      "\n"
     ]
    },
    {
     "data": {
      "application/vnd.jupyter.widget-view+json": {
       "model_id": "8544bed1c4d14e3aaf3f6cde287f05ed",
       "version_major": 2,
       "version_minor": 0
      },
      "text/plain": [
       "A Jupyter Widget"
      ]
     },
     "metadata": {},
     "output_type": "display_data"
    },
    {
     "name": "stdout",
     "output_type": "stream",
     "text": [
      "\n"
     ]
    },
    {
     "data": {
      "application/vnd.jupyter.widget-view+json": {
       "model_id": "fe302a9a4a1e43068c8ec8dae6a6df7f",
       "version_major": 2,
       "version_minor": 0
      },
      "text/plain": [
       "A Jupyter Widget"
      ]
     },
     "metadata": {},
     "output_type": "display_data"
    },
    {
     "name": "stdout",
     "output_type": "stream",
     "text": [
      "\n",
      "http://mo.wikipedia.org/wiki/%D0%90%D1%81%D0%B8%D1%8F\n",
      "http://mo.wikipedia.org/wiki/%D0%A2%D0%B0%D3%82%D0%B8%D0%BA%D0%B8%D1%81%D1%82%D0%B0%D0%BD\n",
      "http://mo.wikipedia.org/wiki/%D0%A2%D0%B0%D3%82%D0%B8%D0%BA%D0%B8%D1%81%D1%82%D0%B0%D0%BD\n",
      "http://mo.wikipedia.org/wiki/%D0%9F%D0%B0%D3%82%D0%B8%D0%BD%D0%B0_%D0%BF%D1%80%D0%B8%D0%BD%D1%87%D0%B8%D0%BF%D0%B0%D0%BB%D1%8D\n",
      "http://mo.wikipedia.org/wiki/%D0%9F%D0%B0%D3%82%D0%B8%D0%BD%D0%B0_%D0%BF%D1%80%D0%B8%D0%BD%D1%87%D0%B8%D0%BF%D0%B0%D0%BB%D1%8D\n"
     ]
    },
    {
     "data": {
      "application/vnd.jupyter.widget-view+json": {
       "model_id": "cced9059ee06410fa78244504238de06",
       "version_major": 2,
       "version_minor": 0
      },
      "text/plain": [
       "A Jupyter Widget"
      ]
     },
     "metadata": {},
     "output_type": "display_data"
    },
    {
     "name": "stdout",
     "output_type": "stream",
     "text": [
      "\n"
     ]
    },
    {
     "data": {
      "application/vnd.jupyter.widget-view+json": {
       "model_id": "205c363e906b4db3a1f5aab6288c7c9b",
       "version_major": 2,
       "version_minor": 0
      },
      "text/plain": [
       "A Jupyter Widget"
      ]
     },
     "metadata": {},
     "output_type": "display_data"
    },
    {
     "name": "stdout",
     "output_type": "stream",
     "text": [
      "\n"
     ]
    },
    {
     "data": {
      "application/vnd.jupyter.widget-view+json": {
       "model_id": "388d10e8280f4a57976bb279c35a7412",
       "version_major": 2,
       "version_minor": 0
      },
      "text/plain": [
       "A Jupyter Widget"
      ]
     },
     "metadata": {},
     "output_type": "display_data"
    },
    {
     "name": "stdout",
     "output_type": "stream",
     "text": [
      "\n"
     ]
    },
    {
     "data": {
      "application/vnd.jupyter.widget-view+json": {
       "model_id": "1a4495e880484d02b75b17f7d831bc11",
       "version_major": 2,
       "version_minor": 0
      },
      "text/plain": [
       "A Jupyter Widget"
      ]
     },
     "metadata": {},
     "output_type": "display_data"
    },
    {
     "name": "stdout",
     "output_type": "stream",
     "text": [
      "\n"
     ]
    },
    {
     "data": {
      "application/vnd.jupyter.widget-view+json": {
       "model_id": "9f4e812f839743b2b16be4d2f5bcac2c",
       "version_major": 2,
       "version_minor": 0
      },
      "text/plain": [
       "A Jupyter Widget"
      ]
     },
     "metadata": {},
     "output_type": "display_data"
    },
    {
     "name": "stdout",
     "output_type": "stream",
     "text": [
      "\n"
     ]
    },
    {
     "data": {
      "application/vnd.jupyter.widget-view+json": {
       "model_id": "49de162f85f74d27a97ba94f5787cdc6",
       "version_major": 2,
       "version_minor": 0
      },
      "text/plain": [
       "A Jupyter Widget"
      ]
     },
     "metadata": {},
     "output_type": "display_data"
    },
    {
     "name": "stdout",
     "output_type": "stream",
     "text": [
      "\n",
      "http://mo.wikipedia.org/wiki/%D0%9B%D0%B8%D0%BC%D0%B1%D0%B0_%D1%80%D1%83%D1%81%D1%8D\n",
      "http://mo.wikipedia.org/wiki/%D0%95%D1%83%D1%80%D0%BE%D0%BF%D0%B0\n",
      "http://mo.wikipedia.org/wiki/%D0%90%D1%81%D0%B8%D1%8F\n",
      "http://mo.wikipedia.org/wiki/%D0%A1%D0%B8%D0%B1%D0%B5%D1%80%D0%B8%D1%8F\n",
      "http://mo.wikipedia.org/wiki/%D0%91%D0%B5%D0%BB%D0%B0%D1%80%D1%83%D1%81\n",
      "http://mo.wikipedia.org/wiki/%D0%9F%D0%BE%D0%BB%D0%BE%D0%BD%D0%B8%D1%8F\n",
      "http://mo.wikipedia.org/wiki/%D0%A3%D0%BA%D1%80%D0%B0%D0%B8%D0%BD%D0%B0\n",
      "http://mo.wikipedia.org/wiki/%D0%9A%D0%B0%D0%B7%D0%B0%D1%85%D1%81%D1%82%D0%B0%D0%BD\n",
      "http://mo.wikipedia.org/wiki/%D0%96%D0%B0%D0%BF%D0%BE%D0%BD%D0%B8%D1%8F\n",
      "http://mo.wikipedia.org/wiki/%D0%9C%D0%BE%D0%BD%D0%B3%D0%BE%D0%BB%D0%B8%D1%8F\n",
      "http://mo.wikipedia.org/wiki/%D3%81%D0%B5%D0%BE%D1%80%D3%82%D0%B8%D1%8F\n",
      "http://mo.wikipedia.org/wiki/%D0%A3%D0%A0%D0%A1%D0%A1\n",
      "http://mo.wikipedia.org/wiki/1991\n",
      "http://mo.wikipedia.org/wiki/%D0%9B%D0%B8%D0%BC%D0%B1%D1%8D_%D0%BE%D1%84%D0%B8%D1%87%D0%B8%D0%B0%D0%BB%D1%8D\n",
      "http://mo.wikipedia.org/wiki/%D0%9B%D0%B8%D0%BC%D0%B1%D0%B0_%D1%80%D1%83%D1%81%D1%8D\n",
      "http://mo.wikipedia.org/wiki/%D0%9A%D0%B0%D0%BF%D0%B8%D1%82%D0%B0%D0%BB%D1%8D\n",
      "http://mo.wikipedia.org/wiki/%D0%9C%D0%BE%D1%81%D0%BA%D0%BE%D0%B2%D0%B0\n",
      "http://mo.wikipedia.org/wiki/%D0%9C%D0%BE%D1%81%D0%BA%D0%BE%D0%B2%D0%B0\n",
      "http://mo.wikipedia.org/wiki/%D0%92%D0%BB%D0%B0%D0%B4%D0%B8%D0%BC%D0%B8%D1%80_%D0%9F%D1%83%D1%82%D0%B8%D0%BD\n",
      "http://mo.wikipedia.org/wiki/%D0%A1%D0%B8%D1%81%D1%82%D0%B5%D0%BC_%D0%BF%D0%BE%D0%BB%D0%B8%D1%82%D0%B8%D0%BA\n",
      "http://mo.wikipedia.org/wiki/%D0%A1%D1%83%D0%BF%D1%80%D0%B0%D1%84%D0%B0%D1%86%D1%8D\n",
      "http://mo.wikipedia.org/wiki/%D0%9F%D0%BE%D0%BF%D1%83%D0%BB%D0%B0%D1%86%D0%B8%D0%B5\n",
      "http://mo.wikipedia.org/wiki/%D0%94%D0%B5%D0%BD%D1%81%D0%B8%D1%82%D0%B0%D1%82%D1%8F_%D0%BF%D0%BE%D0%BF%D1%83%D0%BB%D0%B0%D1%86%D0%B8%D0%B5%D0%B9\n",
      "http://mo.wikipedia.org/wiki/1990\n",
      "http://mo.wikipedia.org/wiki/%D0%9F%D1%80%D0%BE%D0%B4%D1%83%D1%81_%D0%B8%D0%BD%D1%82%D0%B5%D1%80%D0%BD_%D0%B1%D1%80%D1%83%D1%82\n",
      "http://mo.wikipedia.org/wiki/%D0%9C%D0%BE%D0%BD%D0%B5%D0%B4%D1%8D\n",
      "http://mo.wikipedia.org/wiki/%D0%A4%D1%83%D1%81_%D0%BE%D1%80%D0%B0%D1%80\n",
      "http://mo.wikipedia.org/wiki/%D0%98%D0%BC%D0%BD_%D0%BD%D0%B0%D1%86%D0%B8%D0%BE%D0%BD%D0%B0%D0%BB\n",
      "http://mo.wikipedia.org/wiki/%D0%94%D0%BE%D0%BC%D0%B5%D0%BD%D0%B8%D1%83_%D0%BD%D0%B0%D1%86%D0%B8%D0%BE%D0%BD%D0%B0%D0%BB_%D0%B4%D0%B5_%D0%BD%D0%B8%D0%B2%D0%B5%D0%BB_%D1%81%D1%83%D0%BF%D0%B5%D1%80%D0%B8%D0%BE%D1%80\n",
      "http://mo.wikipedia.org/wiki/%D0%A0%D0%B5%D0%BF%D1%83%D0%B1%D0%BB%D0%B8%D0%BA%D1%8D\n",
      "http://mo.wikipedia.org/wiki/%D0%9C%D0%BE%D1%81%D0%BA%D0%BE%D0%B2%D0%B0\n",
      "http://mo.wikipedia.org/wiki/%D0%A1%D0%B0%D0%BD%D0%BA%D1%82-%D0%9F%D0%B5%D1%82%D0%B5%D1%80%D0%B1%D1%83%D1%80%D0%B3\n",
      "http://mo.wikipedia.org/wiki/%D0%9A%D0%B0%D0%B7%D0%B0%D0%BD\n",
      "http://mo.wikipedia.org/wiki/%D0%9A%D0%BE%D0%BC%D1%83%D0%BD%D0%B8%D1%82%D0%B0%D1%82%D1%8F_%D0%A1%D1%82%D0%B0%D1%82%D0%B5%D0%BB%D0%BE%D1%80_%D0%98%D0%BD%D0%B4%D0%B5%D0%BF%D0%B5%D0%BD%D0%B4%D0%B5%D0%BD%D1%82%D0%B5\n",
      "http://mo.wikipedia.org/wiki/%D0%90%D1%80%D0%BC%D0%B5%D0%BD%D0%B8%D1%8F\n",
      "http://mo.wikipedia.org/wiki/%D0%90%D0%B7%D0%B5%D1%80%D0%B1%D0%B0%D0%B8%D3%82%D0%B0%D0%BD\n",
      "http://mo.wikipedia.org/wiki/%D0%91%D0%B5%D0%BB%D0%B0%D1%80%D1%83%D1%81\n",
      "http://mo.wikipedia.org/wiki/%D3%81%D0%B5%D0%BE%D1%80%D3%82%D0%B8%D1%8F\n",
      "http://mo.wikipedia.org/wiki/%D0%9A%D0%B0%D0%B7%D0%B0%D1%85%D1%81%D1%82%D0%B0%D0%BD\n",
      "http://mo.wikipedia.org/wiki/%D0%9A%D1%8B%D1%80%D0%B3%D1%8B%D0%B7%D1%81%D1%82%D0%B0%D0%BD\n",
      "http://mo.wikipedia.org/wiki/%D0%A0%D0%B5%D0%BF%D1%83%D0%B1%D0%BB%D0%B8%D0%BA%D0%B0_%D0%9C%D0%BE%D0%BB%D0%B4%D0%BE%D0%B2%D0%B0\n",
      "http://mo.wikipedia.org/wiki/%D0%A2%D0%B0%D3%82%D0%B8%D0%BA%D0%B8%D1%81%D1%82%D0%B0%D0%BD\n",
      "http://mo.wikipedia.org/wiki/%D0%A2%D1%83%D1%80%D0%BA%D0%BC%D0%B5%D0%BD%D0%B8%D1%81%D1%82%D0%B0%D0%BD\n",
      "http://mo.wikipedia.org/wiki/%D0%A3%D0%BA%D1%80%D0%B0%D0%B8%D0%BD%D0%B0\n",
      "http://mo.wikipedia.org/wiki/%D0%A3%D0%B7%D0%B1%D0%B5%D0%BA%D0%B8%D1%81%D1%82%D0%B0%D0%BD\n",
      "http://mo.wikipedia.org/wiki/%D0%A0%D1%83%D1%81%D0%B8%D1%8F\n",
      "http://mo.wikipedia.org/wiki/%D0%A0%D1%83%D1%81%D0%B8%D1%8F\n",
      "http://mo.wikipedia.org/wiki/%D0%9F%D0%B0%D3%82%D0%B8%D0%BD%D0%B0_%D0%BF%D1%80%D0%B8%D0%BD%D1%87%D0%B8%D0%BF%D0%B0%D0%BB%D1%8D\n",
      "http://mo.wikipedia.org/wiki/%D0%9F%D0%B0%D3%82%D0%B8%D0%BD%D0%B0_%D0%BF%D1%80%D0%B8%D0%BD%D1%87%D0%B8%D0%BF%D0%B0%D0%BB%D1%8D\n"
     ]
    },
    {
     "data": {
      "application/vnd.jupyter.widget-view+json": {
       "model_id": "4ead28129e384f7eb633fdf81aa8ee29",
       "version_major": 2,
       "version_minor": 0
      },
      "text/plain": [
       "A Jupyter Widget"
      ]
     },
     "metadata": {},
     "output_type": "display_data"
    },
    {
     "name": "stdout",
     "output_type": "stream",
     "text": [
      "\n"
     ]
    },
    {
     "data": {
      "application/vnd.jupyter.widget-view+json": {
       "model_id": "a65a4733aeff4df8b66adcfbd9c18a18",
       "version_major": 2,
       "version_minor": 0
      },
      "text/plain": [
       "A Jupyter Widget"
      ]
     },
     "metadata": {},
     "output_type": "display_data"
    },
    {
     "name": "stdout",
     "output_type": "stream",
     "text": [
      "\n"
     ]
    },
    {
     "data": {
      "application/vnd.jupyter.widget-view+json": {
       "model_id": "c4f9e14a4f854d59a44f59dc912af1fd",
       "version_major": 2,
       "version_minor": 0
      },
      "text/plain": [
       "A Jupyter Widget"
      ]
     },
     "metadata": {},
     "output_type": "display_data"
    },
    {
     "name": "stdout",
     "output_type": "stream",
     "text": [
      "\n"
     ]
    },
    {
     "data": {
      "application/vnd.jupyter.widget-view+json": {
       "model_id": "e8ddb8a7381f4ca49a2118fd996ff53d",
       "version_major": 2,
       "version_minor": 0
      },
      "text/plain": [
       "A Jupyter Widget"
      ]
     },
     "metadata": {},
     "output_type": "display_data"
    },
    {
     "name": "stdout",
     "output_type": "stream",
     "text": [
      "\n"
     ]
    },
    {
     "data": {
      "application/vnd.jupyter.widget-view+json": {
       "model_id": "18b1305b3f6745829854bda7bd3f16c3",
       "version_major": 2,
       "version_minor": 0
      },
      "text/plain": [
       "A Jupyter Widget"
      ]
     },
     "metadata": {},
     "output_type": "display_data"
    },
    {
     "name": "stdout",
     "output_type": "stream",
     "text": [
      "\n"
     ]
    },
    {
     "data": {
      "application/vnd.jupyter.widget-view+json": {
       "model_id": "7d44fb12fc1545039b974319402adcdc",
       "version_major": 2,
       "version_minor": 0
      },
      "text/plain": [
       "A Jupyter Widget"
      ]
     },
     "metadata": {},
     "output_type": "display_data"
    },
    {
     "name": "stdout",
     "output_type": "stream",
     "text": [
      "\n"
     ]
    },
    {
     "data": {
      "application/vnd.jupyter.widget-view+json": {
       "model_id": "6dc5dc4345204df9a2a58dc9ada4c434",
       "version_major": 2,
       "version_minor": 0
      },
      "text/plain": [
       "A Jupyter Widget"
      ]
     },
     "metadata": {},
     "output_type": "display_data"
    },
    {
     "name": "stdout",
     "output_type": "stream",
     "text": [
      "\n"
     ]
    },
    {
     "data": {
      "application/vnd.jupyter.widget-view+json": {
       "model_id": "0e2ddc9d523e47d9a8547d9e76949666",
       "version_major": 2,
       "version_minor": 0
      },
      "text/plain": [
       "A Jupyter Widget"
      ]
     },
     "metadata": {},
     "output_type": "display_data"
    },
    {
     "name": "stdout",
     "output_type": "stream",
     "text": [
      "\n"
     ]
    },
    {
     "data": {
      "application/vnd.jupyter.widget-view+json": {
       "model_id": "54e8619b744046c6b9895f27403aca2e",
       "version_major": 2,
       "version_minor": 0
      },
      "text/plain": [
       "A Jupyter Widget"
      ]
     },
     "metadata": {},
     "output_type": "display_data"
    },
    {
     "name": "stdout",
     "output_type": "stream",
     "text": [
      "\n",
      "http://mo.wikipedia.org/wiki/%D0%9B%D0%B8%D0%BC%D0%B1%D1%8D_%D0%BE%D1%84%D0%B8%D1%87%D0%B8%D0%B0%D0%BB%D1%8D\n",
      "http://mo.wikipedia.org/wiki/%D0%9B%D0%B8%D0%BC%D0%B1%D0%B0_%D0%BC%D0%BE%D0%BB%D0%B4%D0%BE%D0%B2%D0%B5%D0%BD%D1%8F%D1%81%D0%BA%D1%8D\n",
      "http://mo.wikipedia.org/wiki/%D0%9B%D0%B8%D0%BC%D0%B1%D0%B0_%D1%80%D1%83%D1%81%D1%8D\n",
      "http://mo.wikipedia.org/wiki/%D0%A2%D1%80%D0%B0%D0%BD%D1%81%D0%BD%D0%B8%D1%82%D1%80%D0%B8%D1%8F\n",
      "http://mo.wikipedia.org/wiki/%D0%93%D1%8D%D0%B3%D1%8D%D1%83%D0%B7%D0%B8%D1%8F\n",
      "http://mo.wikipedia.org/wiki/%D0%9B%D0%B8%D0%BC%D0%B1%D0%B0_%D1%83%D0%BA%D1%80%D0%B0%D0%B8%D0%BD%D1%8F%D0%BD%D1%8D\n",
      "http://mo.wikipedia.org/wiki/%D0%A2%D1%80%D0%B0%D0%BD%D1%81%D0%BD%D0%B8%D1%81%D1%82%D1%80%D0%B8%D1%8F\n",
      "http://mo.wikipedia.org/wiki/%D0%93%D1%8D%D0%B3%D1%8D%D1%83%D0%B7%D0%B8%D1%8F\n",
      "http://mo.wikipedia.org/wiki/%D0%9A%D0%B0%D0%BF%D0%B8%D1%82%D0%B0%D0%BB%D1%8D\n",
      "http://mo.wikipedia.org/wiki/%D0%9A%D0%B8%D1%88%D0%B8%D0%BD%D1%8D%D1%83\n",
      "http://mo.wikipedia.org/wiki/%D0%9A%D0%B8%D1%88%D0%B8%D0%BD%D1%8D%D1%83\n",
      "http://mo.wikipedia.org/wiki/%D0%92%D0%BB%D0%B0%D0%B4%D0%B8%D0%BC%D0%B8%D1%80_%D0%92%D0%BE%D1%80%D0%BE%D0%BD%D0%B8%D0%BD\n",
      "http://mo.wikipedia.org/wiki/%D0%92%D0%B0%D1%81%D0%B8%D0%BB%D0%B5_%D0%A2%D0%B0%D1%80%D0%BB%D0%B5%D0%B2\n",
      "http://mo.wikipedia.org/wiki/%D0%A1%D0%B8%D1%81%D1%82%D0%B5%D0%BC_%D0%BF%D0%BE%D0%BB%D0%B8%D1%82%D0%B8%D0%BA\n",
      "http://mo.wikipedia.org/wiki/%D0%A0%D0%B5%D0%BF%D1%83%D0%B1%D0%BB%D0%B8%D0%BA%D1%8D\n",
      "http://mo.wikipedia.org/wiki/%D0%A1%D1%83%D0%BF%D1%80%D0%B0%D1%84%D0%B0%D1%86%D1%8D\n",
      "http://mo.wikipedia.org/wiki/%D0%9F%D0%BE%D0%BF%D1%83%D0%BB%D0%B0%D1%86%D0%B8%D0%B5\n",
      "http://mo.wikipedia.org/wiki/%D0%94%D0%B5%D0%BD%D1%81%D0%B8%D1%82%D0%B0%D1%82%D1%8F_%D0%BF%D0%BE%D0%BF%D1%83%D0%BB%D0%B0%D1%86%D0%B8%D0%B5%D0%B9\n",
      "http://mo.wikipedia.org/wiki/1991\n",
      "http://mo.wikipedia.org/wiki/%D0%A3%D0%BD%D0%B8%D1%83%D0%BD%D1%8F_%D0%A1%D0%BE%D0%B2%D0%B8%D0%B5%D1%82%D0%B8%D0%BA%D1%8D\n",
      "http://mo.wikipedia.org/wiki/%D0%9F%D1%80%D0%BE%D0%B4%D1%83%D1%81_%D0%B8%D0%BD%D1%82%D0%B5%D1%80%D0%BD_%D0%B1%D1%80%D1%83%D1%82\n",
      "http://mo.wikipedia.org/wiki/%D0%9C%D0%BE%D0%BD%D0%B5%D0%B4%D1%8D\n",
      "http://mo.wikipedia.org/wiki/%D0%9B%D0%B5%D1%83_%D0%BC%D0%BE%D0%BB%D0%B4%D0%BE%D0%B2%D0%B5%D0%BD%D0%B5%D1%81%D0%BA\n",
      "http://mo.wikipedia.org/wiki/%D0%A4%D1%83%D1%81_%D0%BE%D1%80%D0%B0%D1%80\n",
      "http://mo.wikipedia.org/wiki/%D0%98%D0%BC%D0%BD_%D0%BD%D0%B0%D1%86%D0%B8%D0%BE%D0%BD%D0%B0%D0%BB\n",
      "http://mo.wikipedia.org/wiki/%D0%9B%D0%B8%D0%BC%D0%B1%D0%B0_%D0%9D%D0%BE%D0%B0%D1%81%D1%82%D1%80%D1%8D\n",
      "http://mo.wikipedia.org/wiki/%D0%94%D0%BE%D0%BC%D0%B5%D0%BD%D0%B8%D1%83_%D0%BD%D0%B0%D1%86%D0%B8%D0%BE%D0%BD%D0%B0%D0%BB_%D0%B4%D0%B5_%D0%BD%D0%B8%D0%B2%D0%B5%D0%BB_%D1%81%D1%83%D0%BF%D0%B5%D1%80%D0%B8%D0%BE%D1%80\n",
      "http://mo.wikipedia.org/wiki/%D0%95%D1%83%D1%80%D0%BE%D0%BF%D0%B0\n",
      "http://mo.wikipedia.org/wiki/%D0%A0%D0%BE%D0%BC%D1%8B%D0%BD%D0%B8%D1%8F\n",
      "http://mo.wikipedia.org/wiki/%D0%A3%D0%BA%D1%80%D0%B0%D0%B8%D0%BD%D0%B0\n",
      "http://mo.wikipedia.org/wiki/%D0%9F%D1%80%D1%83%D1%82\n",
      "http://mo.wikipedia.org/wiki/%D0%94%D0%B0%D1%87%D0%B8%D1%8F\n",
      "http://mo.wikipedia.org/wiki/%D0%90%D1%81%D0%B8%D1%8F\n",
      "http://mo.wikipedia.org/wiki/%D0%95%D1%83%D1%80%D0%BE%D0%BF%D0%B0\n",
      "http://mo.wikipedia.org/wiki/%D0%9C%D0%BE%D0%BD%D0%B3%D0%BE%D0%BB%D0%B8%D1%8F\n",
      "http://mo.wikipedia.org/wiki/%D0%91%D0%B0%D1%81%D0%B0%D1%80%D0%B0%D0%B1%D0%B8%D1%8F\n",
      "http://mo.wikipedia.org/wiki/%D0%A0%D1%83%D1%81%D0%B8%D1%8F\n",
      "http://mo.wikipedia.org/wiki/%D0%A0%D0%BE%D0%BC%D1%8B%D0%BD%D0%B8%D1%8F\n",
      "http://mo.wikipedia.org/wiki/1918\n",
      "http://mo.wikipedia.org/wiki/%D0%A3%D0%A0%D0%A1%D0%A1\n",
      "http://mo.wikipedia.org/wiki/1940\n",
      "http://mo.wikipedia.org/wiki/%D0%A3%D0%BD%D0%B8%D1%83%D0%BD%D1%8F_%D0%A1%D0%BE%D0%B2%D0%B5%D1%82%D0%B8%D0%BA%D1%8D\n",
      "http://mo.wikipedia.org/wiki/%D0%A2%D1%80%D0%B0%D0%BD%D1%81%D0%BD%D0%B8%D1%81%D1%82%D1%80%D0%B8%D1%8F\n",
      "http://mo.wikipedia.org/wiki/%D3%81%D0%B5%D1%80%D0%BC%D0%B0%D0%BD%D0%B8%D1%8F\n",
      "http://mo.wikipedia.org/wiki/%D0%9A%D0%BE%D0%BC%D1%83%D0%BD%D0%B8%D1%82%D0%B0%D1%82%D1%8F_%D0%A1%D1%82%D0%B0%D1%82%D0%B5%D0%BB%D0%BE%D1%80_%D0%98%D0%BD%D0%B4%D0%B5%D0%BF%D0%B5%D0%BD%D0%B4%D0%B5%D0%BD%D1%82%D0%B5\n",
      "http://mo.wikipedia.org/wiki/%D0%9A%D0%B8%D1%88%D0%B8%D0%BD%D1%8D%D1%83\n",
      "http://mo.wikipedia.org/wiki/%D0%90%D0%BD%D0%B5%D0%9D%D0%B8%D0%B9-%D0%9D%D0%BE%D0%B9\n",
      "http://mo.wikipedia.org/wiki/%D0%91%D1%8D%D0%BB%D1%86%D1%8C\n",
      "http://mo.wikipedia.org/wiki/%D0%91%D1%80%D0%B8%D1%87%D0%B5%D0%BD%D1%8C\n",
      "http://mo.wikipedia.org/wiki/%D0%93%D0%BB%D0%BE%D0%B4%D0%B5%D0%BD%D1%8C\n",
      "http://mo.wikipedia.org/wiki/%D0%93%D1%80%D0%B8%D0%B3%D0%BE%D1%80%D0%B8%D0%BE%D0%BF%D0%BE%D0%BB\n",
      "http://mo.wikipedia.org/wiki/%D0%94%D1%80%D0%BE%D0%BA%D0%B8%D1%8F\n",
      "http://mo.wikipedia.org/wiki/%D0%9A%D0%B0%D0%BC%D0%B5%D0%BD%D0%BA%D0%B0\n",
      "http://mo.wikipedia.org/wiki/%D0%9A%D0%B0%D1%85%D1%83%D0%BB\n",
      "http://mo.wikipedia.org/wiki/%D0%9A%D0%BE%D0%BC%D1%80%D0%B0%D1%82\n",
      "http://mo.wikipedia.org/wiki/%D0%9A%D1%80%D0%B8%D1%83%D0%BB%D0%B5%D0%BD%D1%8C\n",
      "http://mo.wikipedia.org/wiki/%D0%9E%D1%80%D1%85%D0%B5%D0%B9\n",
      "http://mo.wikipedia.org/wiki/%D0%A1%D0%BE%D1%80%D0%BE%D0%BA%D0%B0\n",
      "http://mo.wikipedia.org/wiki/%D0%A1%D1%82%D1%80%D1%8D%D1%88%D0%B5%D0%BD%D1%8C\n",
      "http://mo.wikipedia.org/wiki/%D0%A2%D0%B0%D1%80%D0%B0%D0%BA%D0%BB%D0%B8%D1%8F\n",
      "http://mo.wikipedia.org/wiki/%D0%A2%D1%8B%D1%80%D0%BD%D0%BE%D0%B2%D0%B0\n",
      "http://mo.wikipedia.org/wiki/%D0%A2%D0%B8%D0%B3%D0%B8%D0%BD%D0%B0\n",
      "http://mo.wikipedia.org/wiki/%D0%A3%D0%BD%D0%B3%D0%B5%D0%BD%D1%8C\n",
      "http://mo.wikipedia.org/wiki/%D0%A0%D0%B0%D0%B9%D0%BE%D0%B0%D0%BD%D0%B5%D0%BB%D0%B5_%D0%A0%D0%B5%D0%BF%D1%83%D0%B1%D0%BB%D0%B8%D1%87%D0%B8%D0%B9_%D0%9C%D0%BE%D0%BB%D0%B4%D0%BE%D0%B2%D0%B0\n",
      "http://mo.wikipedia.org/wiki/%D0%9A%D0%B8%D1%88%D0%B8%D0%BD%D1%8D%D1%83\n",
      "http://mo.wikipedia.org/wiki/%D0%91%D1%8D%D0%BB%D1%86%D1%8C\n",
      "http://mo.wikipedia.org/wiki/%D0%A2%D0%B8%D0%B3%D0%B8%D0%BD%D0%B0\n",
      "http://mo.wikipedia.org/wiki/%D0%93%D1%8D%D0%B3%D1%8D%D1%83%D0%B7%D0%B8%D1%8F\n",
      "http://mo.wikipedia.org/wiki/%D0%A2%D1%80%D0%B0%D0%BD%D1%81%D0%BD%D0%B8%D1%81%D1%82%D1%80%D0%B8%D1%8F\n",
      "http://mo.wikipedia.org/wiki/%D0%A0%D0%B0%D0%B9%D0%BE%D0%BD%D1%83%D0%BB_%D0%91%D0%B0%D1%81%D0%B0%D1%80%D0%B0%D0%B1%D1%8F%D1%81%D0%BA%D0%B0\n",
      "http://mo.wikipedia.org/wiki/%D0%A0%D0%B0%D0%B9%D0%BE%D0%BD%D1%83%D0%BB_%D0%91%D1%80%D0%B8%D1%87%D0%B5%D0%BD%D1%8C\n",
      "http://mo.wikipedia.org/wiki/%D0%A0%D0%B0%D0%B9%D0%BE%D0%BD%D1%83%D0%BB_%D0%9A%D0%B0%D1%85%D1%83%D0%BB\n",
      "http://mo.wikipedia.org/wiki/%D0%A0%D0%B0%D0%B9%D0%BE%D0%BD%D1%83%D0%BB_%D0%9A%D0%B0%D0%BD%D1%82%D0%B5%D0%BC%D0%B8%D1%80\n",
      "http://mo.wikipedia.org/wiki/%D0%A0%D0%B0%D0%B9%D0%BE%D0%BD%D1%83%D0%BB_%D0%9A%D1%8D%D0%BB%D1%8D%D1%80%D0%B0%D1%88%D1%8C\n",
      "http://mo.wikipedia.org/wiki/%D0%A0%D0%B0%D0%B9%D0%BE%D0%BD%D1%83%D0%BB_%D0%9A%D1%8D%D1%83%D1%88%D0%B5%D0%BD%D1%8C\n",
      "http://mo.wikipedia.org/wiki/%D0%A0%D0%B0%D0%B9%D0%BE%D0%BD%D1%83%D0%BB_%D0%94%D0%BE%D0%BD%D0%B4%D1%83%D1%88%D0%B5%D0%BD%D1%8C\n",
      "http://mo.wikipedia.org/wiki/%D0%A0%D0%B0%D0%B9%D0%BE%D0%BD%D1%83%D0%BB_%D0%94%D1%80%D0%BE%D0%BA%D0%B8%D1%8F\n",
      "http://mo.wikipedia.org/wiki/%D0%A0%D0%B0%D0%B9%D0%BE%D0%BD%D1%83%D0%BB_%D0%94%D1%83%D0%B1%D1%8D%D1%81%D0%B0%D1%80%D1%8C\n",
      "http://mo.wikipedia.org/wiki/%D0%A0%D0%B0%D0%B9%D0%BE%D0%BD%D1%83%D0%BB_%D0%95%D0%B4%D0%B8%D0%BD%D0%B5%D1%86\n",
      "http://mo.wikipedia.org/wiki/%D0%A0%D0%B0%D0%B9%D0%BE%D0%BD%D1%83%D0%BB_%D0%A4%D1%8D%D0%BB%D0%B5%D1%88%D1%82%D1%8C\n",
      "http://mo.wikipedia.org/wiki/%D0%A0%D0%B0%D0%B9%D0%BE%D0%BD%D1%83%D0%BB_%D0%A4%D0%BB%D0%BE%D1%80%D0%B5%D1%88%D1%82%D1%8C\n",
      "http://mo.wikipedia.org/wiki/%D0%A0%D0%B0%D0%B9%D0%BE%D0%BD%D1%83%D0%BB_%D0%93%D0%BB%D0%BE%D0%B4%D0%B5%D0%BD%D1%8C\n",
      "http://mo.wikipedia.org/wiki/%D0%A0%D0%B0%D0%B9%D0%BE%D0%BD%D1%83%D0%BB_%D0%A5%D1%8B%D0%BD%D1%87%D0%B5%D1%88%D1%82%D1%8C\n",
      "http://mo.wikipedia.org/wiki/%D0%A0%D0%B0%D0%B9%D0%BE%D0%BD%D1%83%D0%BB_%D0%AF%D0%BB%D0%BE%D0%B2%D0%B5%D0%BD%D1%8C\n",
      "http://mo.wikipedia.org/wiki/%D0%A0%D0%B0%D0%B9%D0%BE%D0%BD%D1%83%D0%BB_%D0%9B%D0%B5%D0%BE%D0%B2%D0%B0\n",
      "http://mo.wikipedia.org/wiki/%D0%A0%D0%B0%D0%B9%D0%BE%D0%BD%D1%83%D0%BB_%D0%9D%D0%B8%D1%81%D0%BF%D0%BE%D1%80%D0%B5%D0%BD%D1%8C\n",
      "http://mo.wikipedia.org/wiki/%D0%A0%D0%B0%D0%B9%D0%BE%D0%BD%D1%83%D0%BB_%D0%9E%D1%80%D1%85%D0%B5%D0%B9\n",
      "http://mo.wikipedia.org/wiki/%D0%A0%D0%B0%D0%B9%D0%BE%D0%BD%D1%83%D0%BB_%D0%A0%D0%B5%D0%B7%D0%B8%D0%BD%D0%B0\n",
      "http://mo.wikipedia.org/wiki/%D0%A0%D0%B0%D0%B9%D0%BE%D0%BD%D1%83%D0%BB_%D0%A0%D1%8B%D1%88%D0%BA%D0%B0%D0%BD%D1%8C\n",
      "http://mo.wikipedia.org/wiki/%D0%A0%D0%B0%D0%B9%D0%BE%D0%BD%D1%83%D0%BB_%D0%A1%D1%8B%D0%BD%D3%82%D0%B5%D1%80%D0%B5%D0%B9\n",
      "http://mo.wikipedia.org/wiki/%D0%A0%D0%B0%D0%B9%D0%BE%D0%BD%D1%83%D0%BB_%D0%A1%D0%BE%D1%80%D0%BE%D0%BA%D0%B0\n",
      "http://mo.wikipedia.org/wiki/%D0%A0%D0%B0%D0%B9%D0%BE%D0%BD%D1%83%D0%BB_%D0%A1%D1%82%D1%80%D1%8D%D1%88%D0%B5%D0%BD%D1%8C\n",
      "http://mo.wikipedia.org/wiki/%D0%A0%D0%B0%D0%B9%D0%BE%D0%BD%D1%83%D0%BB_%D0%A8%D0%BE%D0%BB%D0%B4%D1%8D%D0%BD%D0%B5%D1%88%D1%82%D1%8C\n",
      "http://mo.wikipedia.org/wiki/%D0%A0%D0%B0%D0%B9%D0%BE%D0%BD%D1%83%D0%BB_%D0%A2%D0%B0%D1%80%D0%B0%D0%BA%D0%BB%D0%B8%D1%8F\n",
      "http://mo.wikipedia.org/wiki/%D0%A0%D0%B0%D0%B9%D0%BE%D0%BD%D1%83%D0%BB_%D0%A2%D0%B5%D0%BB%D0%B5%D0%BD%D0%B5%D1%88%D1%82%D1%8C\n",
      "http://mo.wikipedia.org/wiki/%D0%A0%D0%B0%D0%B9%D0%BE%D0%BD%D1%83%D0%BB_%D0%A3%D0%BD%D0%B3%D0%B5%D0%BD%D1%8C\n",
      "http://mo.wikipedia.org/wiki/%D0%96%D1%83%D0%B4%D0%B5%D1%86%D0%B5%D0%BB%D0%B5_%D0%A0%D0%B5%D0%BF%D1%83%D0%B1%D0%BB%D0%B8%D1%87%D0%B8%D0%B9_%D0%9C%D0%BE%D0%BB%D0%B4%D0%BE%D0%B2%D0%B0\n",
      "http://mo.wikipedia.org/wiki/%D0%96%D1%83%D0%B4%D0%B5%D1%86%D1%83%D0%BB_%D0%91%D1%8D%D0%BB%D1%86%D1%8C\n",
      "http://mo.wikipedia.org/wiki/%D0%96%D1%83%D0%B4%D0%B5%D1%86%D1%83%D0%BB_%D0%9A%D0%B0%D1%85%D1%83%D0%BB\n",
      "http://mo.wikipedia.org/wiki/%D0%9A%D0%B8%D1%88%D0%B8%D0%BD%D1%8D%D1%83\n",
      "http://mo.wikipedia.org/wiki/%D0%96%D1%83%D0%B4%D0%B5%D1%86%D1%83%D0%BB_%D0%9A%D0%B8%D1%88%D0%B8%D0%BD%D1%8D%D1%83\n",
      "http://mo.wikipedia.org/wiki/%D0%96%D1%83%D0%B4%D0%B5%D1%86%D1%83%D0%BB_%D0%95%D0%B4%D0%B8%D0%BD%D0%B5%D1%86\n",
      "http://mo.wikipedia.org/wiki/%D0%93%D1%8D%D0%B3%D1%8D%D1%83%D0%B7%D0%B8%D1%8F\n",
      "http://mo.wikipedia.org/wiki/%D0%96%D1%83%D0%B4%D0%B5%D1%86%D1%83%D0%BB_%D0%9B%D1%8D%D0%BF%D1%83%D1%88%D0%BD%D0%B0\n",
      "http://mo.wikipedia.org/wiki/%D0%96%D1%83%D0%B4%D0%B5%D1%86%D1%83%D0%BB_%D0%9E%D1%80%D1%85%D0%B5%D0%B9\n",
      "http://mo.wikipedia.org/wiki/%D0%96%D1%83%D0%B4%D0%B5%D1%86%D1%83%D0%BB_%D0%A1%D0%BE%D1%80%D0%BE%D0%BA%D0%B0\n",
      "http://mo.wikipedia.org/wiki/%D0%A2%D1%80%D0%B0%D0%BD%D1%81%D0%BD%D0%B8%D1%81%D1%82%D1%80%D0%B8%D1%8F\n",
      "http://mo.wikipedia.org/wiki/%D0%96%D1%83%D0%B4%D0%B5%D1%86%D1%83%D0%BB_%D0%A2%D0%B8%D0%B3%D0%B8%D0%BD%D0%B0\n",
      "http://mo.wikipedia.org/wiki/%D0%96%D1%83%D0%B4%D0%B5%D1%86%D1%83%D0%BB_%D0%A3%D0%BD%D0%B3%D0%B5%D0%BD%D1%8C\n",
      "http://mo.wikipedia.org/wiki/%D0%9D%D0%B8%D1%81%D1%82%D1%80%D1%83\n",
      "http://mo.wikipedia.org/wiki/%D0%A2%D1%80%D0%B0%D0%BD%D1%81%D0%BD%D0%B8%D1%81%D1%82%D1%80%D0%B8%D1%8F\n",
      "http://mo.wikipedia.org/wiki/%D0%A0%D1%83%D1%81%D0%B8%D1%8F\n",
      "http://mo.wikipedia.org/wiki/%D0%A0%D0%BE%D0%BC%D1%8B%D0%BD%D0%B8%D1%8F\n",
      "http://mo.wikipedia.org/wiki/%D0%A3%D0%BA%D1%80%D0%B0%D0%B8%D0%BD%D0%B0\n",
      "http://mo.wikipedia.org/wiki/%D0%9F%D1%80%D1%83%D1%82\n",
      "http://mo.wikipedia.org/wiki/%D0%94%D1%83%D0%BD%D1%8D%D1%80%D0%B5\n",
      "http://mo.wikipedia.org/wiki/%D0%9C%D0%B0%D1%80%D1%8F_%D0%9D%D1%8F%D0%B3%D1%80%D1%8D\n",
      "http://mo.wikipedia.org/wiki/%D0%9D%D0%B8%D1%81%D1%82%D1%80%D1%83\n",
      "http://mo.wikipedia.org/wiki/1990\n",
      "http://mo.wikipedia.org/wiki/%D0%95%D1%83%D1%80%D0%BE%D0%BF%D0%B0\n",
      "http://mo.wikipedia.org/wiki/%D0%A0%D1%83%D1%81%D0%B8%D1%8F\n",
      "http://mo.wikipedia.org/wiki/%D0%9B%D0%B8%D0%BC%D0%B1%D0%B0_%D1%80%D0%BE%D0%BC%D1%8B%D0%BD%D1%8D\n",
      "http://mo.wikipedia.org/wiki/%D0%9B%D0%B8%D0%BC%D0%B1%D0%B0_%D0%BC%D0%BE%D0%BB%D0%B4%D0%BE%D0%B2%D0%B5%D0%BD%D1%8F%D1%81%D0%BA%D1%8D\n",
      "http://mo.wikipedia.org/wiki/%D0%93%D1%8D%D0%B3%D1%8D%D1%83%D0%B7%D0%B8\n",
      "http://mo.wikipedia.org/wiki/%D0%95%D0%B2%D1%80%D0%B5%D0%B9\n",
      "http://mo.wikipedia.org/wiki/%D0%9B%D0%B8%D1%81%D1%82%D1%8D_%D0%B4%D0%B5_%D0%BC%D0%BE%D0%BB%D0%B4%D0%BE%D0%B2%D0%B5%D0%B9\n",
      "http://mo.wikipedia.org/wiki/%D0%9B%D0%B8%D1%81%D1%82%D1%8D_%D0%B4%D0%B5_%D0%BE%D1%80%D0%B0%D1%88%D0%B5_%D0%B4%D0%B8%D0%BD_%D0%A0%D0%B5%D0%BF%D1%83%D0%B1%D0%BB%D0%B8%D0%BA%D0%B0_%D0%9C%D0%BE%D0%BB%D0%B4%D0%BE%D0%B2%D0%B0\n",
      "http://mo.wikipedia.org/wiki/%D0%9A%D0%BE%D0%BC%D1%83%D0%BD%D0%B8%D1%82%D0%B0%D1%82%D1%8F_%D0%A1%D1%82%D0%B0%D1%82%D0%B5%D0%BB%D0%BE%D1%80_%D0%98%D0%BD%D0%B4%D0%B5%D0%BF%D0%B5%D0%BD%D0%B4%D0%B5%D0%BD%D1%82%D0%B5\n",
      "http://mo.wikipedia.org/wiki/%D0%90%D1%80%D0%BC%D0%B5%D0%BD%D0%B8%D1%8F\n",
      "http://mo.wikipedia.org/wiki/%D0%90%D0%B7%D0%B5%D1%80%D0%B1%D0%B0%D0%B8%D3%82%D0%B0%D0%BD\n",
      "http://mo.wikipedia.org/wiki/%D0%91%D0%B5%D0%BB%D0%B0%D1%80%D1%83%D1%81\n",
      "http://mo.wikipedia.org/wiki/%D3%81%D0%B5%D0%BE%D1%80%D3%82%D0%B8%D1%8F\n",
      "http://mo.wikipedia.org/wiki/%D0%9A%D0%B0%D0%B7%D0%B0%D1%85%D1%81%D1%82%D0%B0%D0%BD\n",
      "http://mo.wikipedia.org/wiki/%D0%9A%D1%8B%D1%80%D0%B3%D1%8B%D0%B7%D1%81%D1%82%D0%B0%D0%BD\n",
      "http://mo.wikipedia.org/wiki/%D0%A0%D0%B5%D0%BF%D1%83%D0%B1%D0%BB%D0%B8%D0%BA%D0%B0_%D0%9C%D0%BE%D0%BB%D0%B4%D0%BE%D0%B2%D0%B0\n",
      "http://mo.wikipedia.org/wiki/%D0%A0%D1%83%D1%81%D0%B8%D1%8F\n",
      "http://mo.wikipedia.org/wiki/%D0%A2%D0%B0%D3%82%D0%B8%D0%BA%D0%B8%D1%81%D1%82%D0%B0%D0%BD\n",
      "http://mo.wikipedia.org/wiki/%D0%A2%D1%83%D1%80%D0%BA%D0%BC%D0%B5%D0%BD%D0%B8%D1%81%D1%82%D0%B0%D0%BD\n",
      "http://mo.wikipedia.org/wiki/%D0%A3%D0%BA%D1%80%D0%B0%D0%B8%D0%BD%D0%B0\n",
      "http://mo.wikipedia.org/wiki/%D0%A3%D0%B7%D0%B1%D0%B5%D0%BA%D0%B8%D1%81%D1%82%D0%B0%D0%BD\n",
      "http://mo.wikipedia.org/wiki/%D0%9C%D0%BE%D0%BB%D0%B4%D0%BE%D0%B2%D0%B0\n",
      "http://mo.wikipedia.org/wiki/%D0%9C%D0%BE%D0%BB%D0%B4%D0%BE%D0%B2%D0%B0\n",
      "http://mo.wikipedia.org/wiki/%D0%9F%D0%B0%D3%82%D0%B8%D0%BD%D0%B0_%D0%BF%D1%80%D0%B8%D0%BD%D1%87%D0%B8%D0%BF%D0%B0%D0%BB%D1%8D\n",
      "http://mo.wikipedia.org/wiki/%D0%9F%D0%B0%D3%82%D0%B8%D0%BD%D0%B0_%D0%BF%D1%80%D0%B8%D0%BD%D1%87%D0%B8%D0%BF%D0%B0%D0%BB%D1%8D\n"
     ]
    },
    {
     "data": {
      "application/vnd.jupyter.widget-view+json": {
       "model_id": "9bfef890d2004b58b89d2aa9aded6d54",
       "version_major": 2,
       "version_minor": 0
      },
      "text/plain": [
       "A Jupyter Widget"
      ]
     },
     "metadata": {},
     "output_type": "display_data"
    },
    {
     "name": "stdout",
     "output_type": "stream",
     "text": [
      "\n"
     ]
    },
    {
     "data": {
      "application/vnd.jupyter.widget-view+json": {
       "model_id": "39fbe857757342649d21d24811b561ea",
       "version_major": 2,
       "version_minor": 0
      },
      "text/plain": [
       "A Jupyter Widget"
      ]
     },
     "metadata": {},
     "output_type": "display_data"
    },
    {
     "name": "stdout",
     "output_type": "stream",
     "text": [
      "\n"
     ]
    },
    {
     "data": {
      "application/vnd.jupyter.widget-view+json": {
       "model_id": "47d8f085462947d988b9a4fb86fdd9b2",
       "version_major": 2,
       "version_minor": 0
      },
      "text/plain": [
       "A Jupyter Widget"
      ]
     },
     "metadata": {},
     "output_type": "display_data"
    },
    {
     "name": "stdout",
     "output_type": "stream",
     "text": [
      "\n",
      "http://mo.wikipedia.org/wiki/%D0%9B%D0%B8%D0%BC%D0%B1%D1%8D_%D0%BE%D1%84%D0%B8%D1%87%D0%B8%D0%B0%D0%BB%D1%8D\n",
      "http://mo.wikipedia.org/wiki/%D0%9B%D0%B8%D0%BC%D0%B1%D0%B0_%D0%BC%D0%BE%D0%BB%D0%B4%D0%BE%D0%B2%D0%B5%D0%BD%D1%8F%D1%81%D0%BA%D1%8D\n",
      "http://mo.wikipedia.org/wiki/%D0%9B%D0%B8%D0%BC%D0%B1%D0%B0_%D1%80%D1%83%D1%81%D1%8D\n",
      "http://mo.wikipedia.org/wiki/%D0%A2%D1%80%D0%B0%D0%BD%D1%81%D0%BD%D0%B8%D1%82%D1%80%D0%B8%D1%8F\n",
      "http://mo.wikipedia.org/wiki/%D0%93%D1%8D%D0%B3%D1%8D%D1%83%D0%B7%D0%B8%D1%8F\n",
      "http://mo.wikipedia.org/wiki/%D0%9B%D0%B8%D0%BC%D0%B1%D0%B0_%D1%83%D0%BA%D1%80%D0%B0%D0%B8%D0%BD%D1%8F%D0%BD%D1%8D\n",
      "http://mo.wikipedia.org/wiki/%D0%A2%D1%80%D0%B0%D0%BD%D1%81%D0%BD%D0%B8%D1%81%D1%82%D1%80%D0%B8%D1%8F\n",
      "http://mo.wikipedia.org/wiki/%D0%93%D1%8D%D0%B3%D1%8D%D1%83%D0%B7%D0%B8%D1%8F\n",
      "http://mo.wikipedia.org/wiki/%D0%9A%D0%B0%D0%BF%D0%B8%D1%82%D0%B0%D0%BB%D1%8D\n",
      "http://mo.wikipedia.org/wiki/%D0%9A%D0%B8%D1%88%D0%B8%D0%BD%D1%8D%D1%83\n",
      "http://mo.wikipedia.org/wiki/%D0%9A%D0%B8%D1%88%D0%B8%D0%BD%D1%8D%D1%83\n",
      "http://mo.wikipedia.org/wiki/%D0%92%D0%BB%D0%B0%D0%B4%D0%B8%D0%BC%D0%B8%D1%80_%D0%92%D0%BE%D1%80%D0%BE%D0%BD%D0%B8%D0%BD\n",
      "http://mo.wikipedia.org/wiki/%D0%92%D0%B0%D1%81%D0%B8%D0%BB%D0%B5_%D0%A2%D0%B0%D1%80%D0%BB%D0%B5%D0%B2\n",
      "http://mo.wikipedia.org/wiki/%D0%A1%D0%B8%D1%81%D1%82%D0%B5%D0%BC_%D0%BF%D0%BE%D0%BB%D0%B8%D1%82%D0%B8%D0%BA\n",
      "http://mo.wikipedia.org/wiki/%D0%A0%D0%B5%D0%BF%D1%83%D0%B1%D0%BB%D0%B8%D0%BA%D1%8D\n",
      "http://mo.wikipedia.org/wiki/%D0%A1%D1%83%D0%BF%D1%80%D0%B0%D1%84%D0%B0%D1%86%D1%8D\n",
      "http://mo.wikipedia.org/wiki/%D0%9F%D0%BE%D0%BF%D1%83%D0%BB%D0%B0%D1%86%D0%B8%D0%B5\n",
      "http://mo.wikipedia.org/wiki/%D0%94%D0%B5%D0%BD%D1%81%D0%B8%D1%82%D0%B0%D1%82%D1%8F_%D0%BF%D0%BE%D0%BF%D1%83%D0%BB%D0%B0%D1%86%D0%B8%D0%B5%D0%B9\n",
      "http://mo.wikipedia.org/wiki/1991\n",
      "http://mo.wikipedia.org/wiki/%D0%A3%D0%BD%D0%B8%D1%83%D0%BD%D1%8F_%D0%A1%D0%BE%D0%B2%D0%B8%D0%B5%D1%82%D0%B8%D0%BA%D1%8D\n",
      "http://mo.wikipedia.org/wiki/%D0%9F%D1%80%D0%BE%D0%B4%D1%83%D1%81_%D0%B8%D0%BD%D1%82%D0%B5%D1%80%D0%BD_%D0%B1%D1%80%D1%83%D1%82\n",
      "http://mo.wikipedia.org/wiki/%D0%9C%D0%BE%D0%BD%D0%B5%D0%B4%D1%8D\n",
      "http://mo.wikipedia.org/wiki/%D0%9B%D0%B5%D1%83_%D0%BC%D0%BE%D0%BB%D0%B4%D0%BE%D0%B2%D0%B5%D0%BD%D0%B5%D1%81%D0%BA\n",
      "http://mo.wikipedia.org/wiki/%D0%A4%D1%83%D1%81_%D0%BE%D1%80%D0%B0%D1%80\n",
      "http://mo.wikipedia.org/wiki/%D0%98%D0%BC%D0%BD_%D0%BD%D0%B0%D1%86%D0%B8%D0%BE%D0%BD%D0%B0%D0%BB\n",
      "http://mo.wikipedia.org/wiki/%D0%9B%D0%B8%D0%BC%D0%B1%D0%B0_%D0%9D%D0%BE%D0%B0%D1%81%D1%82%D1%80%D1%8D\n",
      "http://mo.wikipedia.org/wiki/%D0%94%D0%BE%D0%BC%D0%B5%D0%BD%D0%B8%D1%83_%D0%BD%D0%B0%D1%86%D0%B8%D0%BE%D0%BD%D0%B0%D0%BB_%D0%B4%D0%B5_%D0%BD%D0%B8%D0%B2%D0%B5%D0%BB_%D1%81%D1%83%D0%BF%D0%B5%D1%80%D0%B8%D0%BE%D1%80\n",
      "http://mo.wikipedia.org/wiki/%D0%95%D1%83%D1%80%D0%BE%D0%BF%D0%B0\n",
      "http://mo.wikipedia.org/wiki/%D0%A0%D0%BE%D0%BC%D1%8B%D0%BD%D0%B8%D1%8F\n",
      "http://mo.wikipedia.org/wiki/%D0%A3%D0%BA%D1%80%D0%B0%D0%B8%D0%BD%D0%B0\n",
      "http://mo.wikipedia.org/wiki/%D0%9F%D1%80%D1%83%D1%82\n",
      "http://mo.wikipedia.org/wiki/%D0%94%D0%B0%D1%87%D0%B8%D1%8F\n",
      "http://mo.wikipedia.org/wiki/%D0%90%D1%81%D0%B8%D1%8F\n",
      "http://mo.wikipedia.org/wiki/%D0%95%D1%83%D1%80%D0%BE%D0%BF%D0%B0\n",
      "http://mo.wikipedia.org/wiki/%D0%9C%D0%BE%D0%BD%D0%B3%D0%BE%D0%BB%D0%B8%D1%8F\n",
      "http://mo.wikipedia.org/wiki/%D0%91%D0%B0%D1%81%D0%B0%D1%80%D0%B0%D0%B1%D0%B8%D1%8F\n",
      "http://mo.wikipedia.org/wiki/%D0%A0%D1%83%D1%81%D0%B8%D1%8F\n",
      "http://mo.wikipedia.org/wiki/%D0%A0%D0%BE%D0%BC%D1%8B%D0%BD%D0%B8%D1%8F\n",
      "http://mo.wikipedia.org/wiki/1918\n",
      "http://mo.wikipedia.org/wiki/%D0%A3%D0%A0%D0%A1%D0%A1\n",
      "http://mo.wikipedia.org/wiki/1940\n",
      "http://mo.wikipedia.org/wiki/%D0%A3%D0%BD%D0%B8%D1%83%D0%BD%D1%8F_%D0%A1%D0%BE%D0%B2%D0%B5%D1%82%D0%B8%D0%BA%D1%8D\n",
      "http://mo.wikipedia.org/wiki/%D0%A2%D1%80%D0%B0%D0%BD%D1%81%D0%BD%D0%B8%D1%81%D1%82%D1%80%D0%B8%D1%8F\n",
      "http://mo.wikipedia.org/wiki/%D3%81%D0%B5%D1%80%D0%BC%D0%B0%D0%BD%D0%B8%D1%8F\n",
      "http://mo.wikipedia.org/wiki/%D0%9A%D0%BE%D0%BC%D1%83%D0%BD%D0%B8%D1%82%D0%B0%D1%82%D1%8F_%D0%A1%D1%82%D0%B0%D1%82%D0%B5%D0%BB%D0%BE%D1%80_%D0%98%D0%BD%D0%B4%D0%B5%D0%BF%D0%B5%D0%BD%D0%B4%D0%B5%D0%BD%D1%82%D0%B5\n",
      "http://mo.wikipedia.org/wiki/%D0%9A%D0%B8%D1%88%D0%B8%D0%BD%D1%8D%D1%83\n",
      "http://mo.wikipedia.org/wiki/%D0%90%D0%BD%D0%B5%D0%9D%D0%B8%D0%B9-%D0%9D%D0%BE%D0%B9\n",
      "http://mo.wikipedia.org/wiki/%D0%91%D1%8D%D0%BB%D1%86%D1%8C\n",
      "http://mo.wikipedia.org/wiki/%D0%91%D1%80%D0%B8%D1%87%D0%B5%D0%BD%D1%8C\n",
      "http://mo.wikipedia.org/wiki/%D0%93%D0%BB%D0%BE%D0%B4%D0%B5%D0%BD%D1%8C\n",
      "http://mo.wikipedia.org/wiki/%D0%93%D1%80%D0%B8%D0%B3%D0%BE%D1%80%D0%B8%D0%BE%D0%BF%D0%BE%D0%BB\n",
      "http://mo.wikipedia.org/wiki/%D0%94%D1%80%D0%BE%D0%BA%D0%B8%D1%8F\n",
      "http://mo.wikipedia.org/wiki/%D0%9A%D0%B0%D0%BC%D0%B5%D0%BD%D0%BA%D0%B0\n",
      "http://mo.wikipedia.org/wiki/%D0%9A%D0%B0%D1%85%D1%83%D0%BB\n",
      "http://mo.wikipedia.org/wiki/%D0%9A%D0%BE%D0%BC%D1%80%D0%B0%D1%82\n",
      "http://mo.wikipedia.org/wiki/%D0%9A%D1%80%D0%B8%D1%83%D0%BB%D0%B5%D0%BD%D1%8C\n",
      "http://mo.wikipedia.org/wiki/%D0%9E%D1%80%D1%85%D0%B5%D0%B9\n",
      "http://mo.wikipedia.org/wiki/%D0%A1%D0%BE%D1%80%D0%BE%D0%BA%D0%B0\n",
      "http://mo.wikipedia.org/wiki/%D0%A1%D1%82%D1%80%D1%8D%D1%88%D0%B5%D0%BD%D1%8C\n",
      "http://mo.wikipedia.org/wiki/%D0%A2%D0%B0%D1%80%D0%B0%D0%BA%D0%BB%D0%B8%D1%8F\n",
      "http://mo.wikipedia.org/wiki/%D0%A2%D1%8B%D1%80%D0%BD%D0%BE%D0%B2%D0%B0\n",
      "http://mo.wikipedia.org/wiki/%D0%A2%D0%B8%D0%B3%D0%B8%D0%BD%D0%B0\n",
      "http://mo.wikipedia.org/wiki/%D0%A3%D0%BD%D0%B3%D0%B5%D0%BD%D1%8C\n",
      "http://mo.wikipedia.org/wiki/%D0%A0%D0%B0%D0%B9%D0%BE%D0%B0%D0%BD%D0%B5%D0%BB%D0%B5_%D0%A0%D0%B5%D0%BF%D1%83%D0%B1%D0%BB%D0%B8%D1%87%D0%B8%D0%B9_%D0%9C%D0%BE%D0%BB%D0%B4%D0%BE%D0%B2%D0%B0\n",
      "http://mo.wikipedia.org/wiki/%D0%9A%D0%B8%D1%88%D0%B8%D0%BD%D1%8D%D1%83\n",
      "http://mo.wikipedia.org/wiki/%D0%91%D1%8D%D0%BB%D1%86%D1%8C\n",
      "http://mo.wikipedia.org/wiki/%D0%A2%D0%B8%D0%B3%D0%B8%D0%BD%D0%B0\n",
      "http://mo.wikipedia.org/wiki/%D0%93%D1%8D%D0%B3%D1%8D%D1%83%D0%B7%D0%B8%D1%8F\n",
      "http://mo.wikipedia.org/wiki/%D0%A2%D1%80%D0%B0%D0%BD%D1%81%D0%BD%D0%B8%D1%81%D1%82%D1%80%D0%B8%D1%8F\n",
      "http://mo.wikipedia.org/wiki/%D0%A0%D0%B0%D0%B9%D0%BE%D0%BD%D1%83%D0%BB_%D0%91%D0%B0%D1%81%D0%B0%D1%80%D0%B0%D0%B1%D1%8F%D1%81%D0%BA%D0%B0\n",
      "http://mo.wikipedia.org/wiki/%D0%A0%D0%B0%D0%B9%D0%BE%D0%BD%D1%83%D0%BB_%D0%91%D1%80%D0%B8%D1%87%D0%B5%D0%BD%D1%8C\n",
      "http://mo.wikipedia.org/wiki/%D0%A0%D0%B0%D0%B9%D0%BE%D0%BD%D1%83%D0%BB_%D0%9A%D0%B0%D1%85%D1%83%D0%BB\n",
      "http://mo.wikipedia.org/wiki/%D0%A0%D0%B0%D0%B9%D0%BE%D0%BD%D1%83%D0%BB_%D0%9A%D0%B0%D0%BD%D1%82%D0%B5%D0%BC%D0%B8%D1%80\n",
      "http://mo.wikipedia.org/wiki/%D0%A0%D0%B0%D0%B9%D0%BE%D0%BD%D1%83%D0%BB_%D0%9A%D1%8D%D0%BB%D1%8D%D1%80%D0%B0%D1%88%D1%8C\n",
      "http://mo.wikipedia.org/wiki/%D0%A0%D0%B0%D0%B9%D0%BE%D0%BD%D1%83%D0%BB_%D0%9A%D1%8D%D1%83%D1%88%D0%B5%D0%BD%D1%8C\n",
      "http://mo.wikipedia.org/wiki/%D0%A0%D0%B0%D0%B9%D0%BE%D0%BD%D1%83%D0%BB_%D0%94%D0%BE%D0%BD%D0%B4%D1%83%D1%88%D0%B5%D0%BD%D1%8C\n",
      "http://mo.wikipedia.org/wiki/%D0%A0%D0%B0%D0%B9%D0%BE%D0%BD%D1%83%D0%BB_%D0%94%D1%80%D0%BE%D0%BA%D0%B8%D1%8F\n",
      "http://mo.wikipedia.org/wiki/%D0%A0%D0%B0%D0%B9%D0%BE%D0%BD%D1%83%D0%BB_%D0%94%D1%83%D0%B1%D1%8D%D1%81%D0%B0%D1%80%D1%8C\n",
      "http://mo.wikipedia.org/wiki/%D0%A0%D0%B0%D0%B9%D0%BE%D0%BD%D1%83%D0%BB_%D0%95%D0%B4%D0%B8%D0%BD%D0%B5%D1%86\n",
      "http://mo.wikipedia.org/wiki/%D0%A0%D0%B0%D0%B9%D0%BE%D0%BD%D1%83%D0%BB_%D0%A4%D1%8D%D0%BB%D0%B5%D1%88%D1%82%D1%8C\n",
      "http://mo.wikipedia.org/wiki/%D0%A0%D0%B0%D0%B9%D0%BE%D0%BD%D1%83%D0%BB_%D0%A4%D0%BB%D0%BE%D1%80%D0%B5%D1%88%D1%82%D1%8C\n",
      "http://mo.wikipedia.org/wiki/%D0%A0%D0%B0%D0%B9%D0%BE%D0%BD%D1%83%D0%BB_%D0%93%D0%BB%D0%BE%D0%B4%D0%B5%D0%BD%D1%8C\n",
      "http://mo.wikipedia.org/wiki/%D0%A0%D0%B0%D0%B9%D0%BE%D0%BD%D1%83%D0%BB_%D0%A5%D1%8B%D0%BD%D1%87%D0%B5%D1%88%D1%82%D1%8C\n",
      "http://mo.wikipedia.org/wiki/%D0%A0%D0%B0%D0%B9%D0%BE%D0%BD%D1%83%D0%BB_%D0%AF%D0%BB%D0%BE%D0%B2%D0%B5%D0%BD%D1%8C\n",
      "http://mo.wikipedia.org/wiki/%D0%A0%D0%B0%D0%B9%D0%BE%D0%BD%D1%83%D0%BB_%D0%9B%D0%B5%D0%BE%D0%B2%D0%B0\n",
      "http://mo.wikipedia.org/wiki/%D0%A0%D0%B0%D0%B9%D0%BE%D0%BD%D1%83%D0%BB_%D0%9D%D0%B8%D1%81%D0%BF%D0%BE%D1%80%D0%B5%D0%BD%D1%8C\n",
      "http://mo.wikipedia.org/wiki/%D0%A0%D0%B0%D0%B9%D0%BE%D0%BD%D1%83%D0%BB_%D0%9E%D1%80%D1%85%D0%B5%D0%B9\n",
      "http://mo.wikipedia.org/wiki/%D0%A0%D0%B0%D0%B9%D0%BE%D0%BD%D1%83%D0%BB_%D0%A0%D0%B5%D0%B7%D0%B8%D0%BD%D0%B0\n",
      "http://mo.wikipedia.org/wiki/%D0%A0%D0%B0%D0%B9%D0%BE%D0%BD%D1%83%D0%BB_%D0%A0%D1%8B%D1%88%D0%BA%D0%B0%D0%BD%D1%8C\n",
      "http://mo.wikipedia.org/wiki/%D0%A0%D0%B0%D0%B9%D0%BE%D0%BD%D1%83%D0%BB_%D0%A1%D1%8B%D0%BD%D3%82%D0%B5%D1%80%D0%B5%D0%B9\n",
      "http://mo.wikipedia.org/wiki/%D0%A0%D0%B0%D0%B9%D0%BE%D0%BD%D1%83%D0%BB_%D0%A1%D0%BE%D1%80%D0%BE%D0%BA%D0%B0\n",
      "http://mo.wikipedia.org/wiki/%D0%A0%D0%B0%D0%B9%D0%BE%D0%BD%D1%83%D0%BB_%D0%A1%D1%82%D1%80%D1%8D%D1%88%D0%B5%D0%BD%D1%8C\n",
      "http://mo.wikipedia.org/wiki/%D0%A0%D0%B0%D0%B9%D0%BE%D0%BD%D1%83%D0%BB_%D0%A8%D0%BE%D0%BB%D0%B4%D1%8D%D0%BD%D0%B5%D1%88%D1%82%D1%8C\n",
      "http://mo.wikipedia.org/wiki/%D0%A0%D0%B0%D0%B9%D0%BE%D0%BD%D1%83%D0%BB_%D0%A2%D0%B0%D1%80%D0%B0%D0%BA%D0%BB%D0%B8%D1%8F\n",
      "http://mo.wikipedia.org/wiki/%D0%A0%D0%B0%D0%B9%D0%BE%D0%BD%D1%83%D0%BB_%D0%A2%D0%B5%D0%BB%D0%B5%D0%BD%D0%B5%D1%88%D1%82%D1%8C\n",
      "http://mo.wikipedia.org/wiki/%D0%A0%D0%B0%D0%B9%D0%BE%D0%BD%D1%83%D0%BB_%D0%A3%D0%BD%D0%B3%D0%B5%D0%BD%D1%8C\n",
      "http://mo.wikipedia.org/wiki/%D0%96%D1%83%D0%B4%D0%B5%D1%86%D0%B5%D0%BB%D0%B5_%D0%A0%D0%B5%D0%BF%D1%83%D0%B1%D0%BB%D0%B8%D1%87%D0%B8%D0%B9_%D0%9C%D0%BE%D0%BB%D0%B4%D0%BE%D0%B2%D0%B0\n",
      "http://mo.wikipedia.org/wiki/%D0%96%D1%83%D0%B4%D0%B5%D1%86%D1%83%D0%BB_%D0%91%D1%8D%D0%BB%D1%86%D1%8C\n",
      "http://mo.wikipedia.org/wiki/%D0%96%D1%83%D0%B4%D0%B5%D1%86%D1%83%D0%BB_%D0%9A%D0%B0%D1%85%D1%83%D0%BB\n",
      "http://mo.wikipedia.org/wiki/%D0%9A%D0%B8%D1%88%D0%B8%D0%BD%D1%8D%D1%83\n",
      "http://mo.wikipedia.org/wiki/%D0%96%D1%83%D0%B4%D0%B5%D1%86%D1%83%D0%BB_%D0%9A%D0%B8%D1%88%D0%B8%D0%BD%D1%8D%D1%83\n",
      "http://mo.wikipedia.org/wiki/%D0%96%D1%83%D0%B4%D0%B5%D1%86%D1%83%D0%BB_%D0%95%D0%B4%D0%B8%D0%BD%D0%B5%D1%86\n",
      "http://mo.wikipedia.org/wiki/%D0%93%D1%8D%D0%B3%D1%8D%D1%83%D0%B7%D0%B8%D1%8F\n",
      "http://mo.wikipedia.org/wiki/%D0%96%D1%83%D0%B4%D0%B5%D1%86%D1%83%D0%BB_%D0%9B%D1%8D%D0%BF%D1%83%D1%88%D0%BD%D0%B0\n",
      "http://mo.wikipedia.org/wiki/%D0%96%D1%83%D0%B4%D0%B5%D1%86%D1%83%D0%BB_%D0%9E%D1%80%D1%85%D0%B5%D0%B9\n",
      "http://mo.wikipedia.org/wiki/%D0%96%D1%83%D0%B4%D0%B5%D1%86%D1%83%D0%BB_%D0%A1%D0%BE%D1%80%D0%BE%D0%BA%D0%B0\n",
      "http://mo.wikipedia.org/wiki/%D0%A2%D1%80%D0%B0%D0%BD%D1%81%D0%BD%D0%B8%D1%81%D1%82%D1%80%D0%B8%D1%8F\n",
      "http://mo.wikipedia.org/wiki/%D0%96%D1%83%D0%B4%D0%B5%D1%86%D1%83%D0%BB_%D0%A2%D0%B8%D0%B3%D0%B8%D0%BD%D0%B0\n",
      "http://mo.wikipedia.org/wiki/%D0%96%D1%83%D0%B4%D0%B5%D1%86%D1%83%D0%BB_%D0%A3%D0%BD%D0%B3%D0%B5%D0%BD%D1%8C\n",
      "http://mo.wikipedia.org/wiki/%D0%9D%D0%B8%D1%81%D1%82%D1%80%D1%83\n",
      "http://mo.wikipedia.org/wiki/%D0%A2%D1%80%D0%B0%D0%BD%D1%81%D0%BD%D0%B8%D1%81%D1%82%D1%80%D0%B8%D1%8F\n",
      "http://mo.wikipedia.org/wiki/%D0%A0%D1%83%D1%81%D0%B8%D1%8F\n",
      "http://mo.wikipedia.org/wiki/%D0%A0%D0%BE%D0%BC%D1%8B%D0%BD%D0%B8%D1%8F\n",
      "http://mo.wikipedia.org/wiki/%D0%A3%D0%BA%D1%80%D0%B0%D0%B8%D0%BD%D0%B0\n",
      "http://mo.wikipedia.org/wiki/%D0%9F%D1%80%D1%83%D1%82\n",
      "http://mo.wikipedia.org/wiki/%D0%94%D1%83%D0%BD%D1%8D%D1%80%D0%B5\n",
      "http://mo.wikipedia.org/wiki/%D0%9C%D0%B0%D1%80%D1%8F_%D0%9D%D1%8F%D0%B3%D1%80%D1%8D\n",
      "http://mo.wikipedia.org/wiki/%D0%9D%D0%B8%D1%81%D1%82%D1%80%D1%83\n",
      "http://mo.wikipedia.org/wiki/1990\n",
      "http://mo.wikipedia.org/wiki/%D0%95%D1%83%D1%80%D0%BE%D0%BF%D0%B0\n",
      "http://mo.wikipedia.org/wiki/%D0%A0%D1%83%D1%81%D0%B8%D1%8F\n",
      "http://mo.wikipedia.org/wiki/%D0%9B%D0%B8%D0%BC%D0%B1%D0%B0_%D1%80%D0%BE%D0%BC%D1%8B%D0%BD%D1%8D\n",
      "http://mo.wikipedia.org/wiki/%D0%9B%D0%B8%D0%BC%D0%B1%D0%B0_%D0%BC%D0%BE%D0%BB%D0%B4%D0%BE%D0%B2%D0%B5%D0%BD%D1%8F%D1%81%D0%BA%D1%8D\n",
      "http://mo.wikipedia.org/wiki/%D0%93%D1%8D%D0%B3%D1%8D%D1%83%D0%B7%D0%B8\n",
      "http://mo.wikipedia.org/wiki/%D0%95%D0%B2%D1%80%D0%B5%D0%B9\n",
      "http://mo.wikipedia.org/wiki/%D0%9B%D0%B8%D1%81%D1%82%D1%8D_%D0%B4%D0%B5_%D0%BC%D0%BE%D0%BB%D0%B4%D0%BE%D0%B2%D0%B5%D0%B9\n",
      "http://mo.wikipedia.org/wiki/%D0%9B%D0%B8%D1%81%D1%82%D1%8D_%D0%B4%D0%B5_%D0%BE%D1%80%D0%B0%D1%88%D0%B5_%D0%B4%D0%B8%D0%BD_%D0%A0%D0%B5%D0%BF%D1%83%D0%B1%D0%BB%D0%B8%D0%BA%D0%B0_%D0%9C%D0%BE%D0%BB%D0%B4%D0%BE%D0%B2%D0%B0\n",
      "http://mo.wikipedia.org/wiki/%D0%9A%D0%BE%D0%BC%D1%83%D0%BD%D0%B8%D1%82%D0%B0%D1%82%D1%8F_%D0%A1%D1%82%D0%B0%D1%82%D0%B5%D0%BB%D0%BE%D1%80_%D0%98%D0%BD%D0%B4%D0%B5%D0%BF%D0%B5%D0%BD%D0%B4%D0%B5%D0%BD%D1%82%D0%B5\n",
      "http://mo.wikipedia.org/wiki/%D0%90%D1%80%D0%BC%D0%B5%D0%BD%D0%B8%D1%8F\n",
      "http://mo.wikipedia.org/wiki/%D0%90%D0%B7%D0%B5%D1%80%D0%B1%D0%B0%D0%B8%D3%82%D0%B0%D0%BD\n",
      "http://mo.wikipedia.org/wiki/%D0%91%D0%B5%D0%BB%D0%B0%D1%80%D1%83%D1%81\n",
      "http://mo.wikipedia.org/wiki/%D3%81%D0%B5%D0%BE%D1%80%D3%82%D0%B8%D1%8F\n",
      "http://mo.wikipedia.org/wiki/%D0%9A%D0%B0%D0%B7%D0%B0%D1%85%D1%81%D1%82%D0%B0%D0%BD\n",
      "http://mo.wikipedia.org/wiki/%D0%9A%D1%8B%D1%80%D0%B3%D1%8B%D0%B7%D1%81%D1%82%D0%B0%D0%BD\n",
      "http://mo.wikipedia.org/wiki/%D0%A0%D0%B5%D0%BF%D1%83%D0%B1%D0%BB%D0%B8%D0%BA%D0%B0_%D0%9C%D0%BE%D0%BB%D0%B4%D0%BE%D0%B2%D0%B0\n",
      "http://mo.wikipedia.org/wiki/%D0%A0%D1%83%D1%81%D0%B8%D1%8F\n",
      "http://mo.wikipedia.org/wiki/%D0%A2%D0%B0%D3%82%D0%B8%D0%BA%D0%B8%D1%81%D1%82%D0%B0%D0%BD\n",
      "http://mo.wikipedia.org/wiki/%D0%A2%D1%83%D1%80%D0%BA%D0%BC%D0%B5%D0%BD%D0%B8%D1%81%D1%82%D0%B0%D0%BD\n",
      "http://mo.wikipedia.org/wiki/%D0%A3%D0%BA%D1%80%D0%B0%D0%B8%D0%BD%D0%B0\n",
      "http://mo.wikipedia.org/wiki/%D0%A3%D0%B7%D0%B1%D0%B5%D0%BA%D0%B8%D1%81%D1%82%D0%B0%D0%BD\n",
      "http://mo.wikipedia.org/wiki/%D0%9C%D0%BE%D0%BB%D0%B4%D0%BE%D0%B2%D0%B0\n",
      "http://mo.wikipedia.org/wiki/%D0%9C%D0%BE%D0%BB%D0%B4%D0%BE%D0%B2%D0%B0\n",
      "http://mo.wikipedia.org/wiki/%D0%9F%D0%B0%D3%82%D0%B8%D0%BD%D0%B0_%D0%BF%D1%80%D0%B8%D0%BD%D1%87%D0%B8%D0%BF%D0%B0%D0%BB%D1%8D\n",
      "http://mo.wikipedia.org/wiki/%D0%9F%D0%B0%D3%82%D0%B8%D0%BD%D0%B0_%D0%BF%D1%80%D0%B8%D0%BD%D1%87%D0%B8%D0%BF%D0%B0%D0%BB%D1%8D\n"
     ]
    },
    {
     "data": {
      "application/vnd.jupyter.widget-view+json": {
       "model_id": "cd1b5a2e6ca64fd0b368b4ecf2341a46",
       "version_major": 2,
       "version_minor": 0
      },
      "text/plain": [
       "A Jupyter Widget"
      ]
     },
     "metadata": {},
     "output_type": "display_data"
    },
    {
     "name": "stdout",
     "output_type": "stream",
     "text": [
      "\n"
     ]
    },
    {
     "data": {
      "application/vnd.jupyter.widget-view+json": {
       "model_id": "08f2adecc5bb4c12a5cbbad1e8b8b952",
       "version_major": 2,
       "version_minor": 0
      },
      "text/plain": [
       "A Jupyter Widget"
      ]
     },
     "metadata": {},
     "output_type": "display_data"
    },
    {
     "name": "stdout",
     "output_type": "stream",
     "text": [
      "\n"
     ]
    },
    {
     "data": {
      "application/vnd.jupyter.widget-view+json": {
       "model_id": "ae734deb75f243bfb92093c5cd196035",
       "version_major": 2,
       "version_minor": 0
      },
      "text/plain": [
       "A Jupyter Widget"
      ]
     },
     "metadata": {},
     "output_type": "display_data"
    },
    {
     "name": "stdout",
     "output_type": "stream",
     "text": [
      "\n"
     ]
    },
    {
     "data": {
      "application/vnd.jupyter.widget-view+json": {
       "model_id": "5e1fe987f0dc4545bbb1e7adb4865f54",
       "version_major": 2,
       "version_minor": 0
      },
      "text/plain": [
       "A Jupyter Widget"
      ]
     },
     "metadata": {},
     "output_type": "display_data"
    },
    {
     "name": "stdout",
     "output_type": "stream",
     "text": [
      "\n"
     ]
    },
    {
     "data": {
      "application/vnd.jupyter.widget-view+json": {
       "model_id": "e2be202e0d5147d3a37a0e5905eb101e",
       "version_major": 2,
       "version_minor": 0
      },
      "text/plain": [
       "A Jupyter Widget"
      ]
     },
     "metadata": {},
     "output_type": "display_data"
    },
    {
     "name": "stdout",
     "output_type": "stream",
     "text": [
      "\n"
     ]
    },
    {
     "data": {
      "application/vnd.jupyter.widget-view+json": {
       "model_id": "e9558e2731914fd58565e007799e239d",
       "version_major": 2,
       "version_minor": 0
      },
      "text/plain": [
       "A Jupyter Widget"
      ]
     },
     "metadata": {},
     "output_type": "display_data"
    },
    {
     "name": "stdout",
     "output_type": "stream",
     "text": [
      "\n"
     ]
    },
    {
     "data": {
      "application/vnd.jupyter.widget-view+json": {
       "model_id": "f063ca8393644ccfa3ccae7380a2bbe8",
       "version_major": 2,
       "version_minor": 0
      },
      "text/plain": [
       "A Jupyter Widget"
      ]
     },
     "metadata": {},
     "output_type": "display_data"
    },
    {
     "name": "stdout",
     "output_type": "stream",
     "text": [
      "\n"
     ]
    },
    {
     "data": {
      "application/vnd.jupyter.widget-view+json": {
       "model_id": "0c1e789ec65c40189395690d181bd508",
       "version_major": 2,
       "version_minor": 0
      },
      "text/plain": [
       "A Jupyter Widget"
      ]
     },
     "metadata": {},
     "output_type": "display_data"
    },
    {
     "name": "stdout",
     "output_type": "stream",
     "text": [
      "\n"
     ]
    },
    {
     "data": {
      "application/vnd.jupyter.widget-view+json": {
       "model_id": "d1065e2aa8f14c3f8ee2f8b20b1c8f55",
       "version_major": 2,
       "version_minor": 0
      },
      "text/plain": [
       "A Jupyter Widget"
      ]
     },
     "metadata": {},
     "output_type": "display_data"
    },
    {
     "name": "stdout",
     "output_type": "stream",
     "text": [
      "\n"
     ]
    },
    {
     "data": {
      "application/vnd.jupyter.widget-view+json": {
       "model_id": "1b5695f1c44143f5af46b1f64f34c62b",
       "version_major": 2,
       "version_minor": 0
      },
      "text/plain": [
       "A Jupyter Widget"
      ]
     },
     "metadata": {},
     "output_type": "display_data"
    },
    {
     "name": "stdout",
     "output_type": "stream",
     "text": [
      "\n"
     ]
    },
    {
     "data": {
      "application/vnd.jupyter.widget-view+json": {
       "model_id": "1e8829715f2a4f2f9bdfbf6325b4b850",
       "version_major": 2,
       "version_minor": 0
      },
      "text/plain": [
       "A Jupyter Widget"
      ]
     },
     "metadata": {},
     "output_type": "display_data"
    },
    {
     "name": "stdout",
     "output_type": "stream",
     "text": [
      "\n",
      "http://mo.wikipedia.org/wiki/%D0%9B%D0%B8%D0%BC%D0%B1%D1%8D_%D0%BE%D1%84%D0%B8%D1%87%D0%B8%D0%B0%D0%BB%D1%8D\n",
      "http://mo.wikipedia.org/wiki/%D0%9B%D0%B8%D0%BC%D0%B1%D0%B0_%D1%80%D1%83%D1%81%D1%8D\n",
      "http://mo.wikipedia.org/wiki/%D0%9A%D0%B0%D0%BF%D0%B8%D1%82%D0%B0%D0%BB%D1%8D\n",
      "http://mo.wikipedia.org/wiki/%D0%A1%D0%B8%D1%81%D1%82%D0%B5%D0%BC_%D0%BF%D0%BE%D0%BB%D0%B8%D1%82%D0%B8%D0%BA\n",
      "http://mo.wikipedia.org/wiki/%D0%A1%D1%83%D0%BF%D1%80%D0%B0%D1%84%D0%B0%D1%86%D1%8D\n",
      "http://mo.wikipedia.org/wiki/%D0%9F%D0%BE%D0%BF%D1%83%D0%BB%D0%B0%D1%86%D0%B8%D0%B5\n",
      "http://mo.wikipedia.org/wiki/%D0%94%D0%B5%D0%BD%D1%81%D0%B8%D1%82%D0%B0%D1%82%D1%8F_%D0%BF%D0%BE%D0%BF%D1%83%D0%BB%D0%B0%D1%86%D0%B8%D0%B5%D0%B9\n",
      "http://mo.wikipedia.org/wiki/%D0%9F%D1%80%D0%BE%D0%B4%D1%83%D1%81_%D0%B8%D0%BD%D1%82%D0%B5%D1%80%D0%BD_%D0%B1%D1%80%D1%83%D1%82\n",
      "http://mo.wikipedia.org/wiki/%D0%9C%D0%BE%D0%BD%D0%B5%D0%B4%D1%8D\n",
      "http://mo.wikipedia.org/wiki/%D0%A4%D1%83%D1%81_%D0%BE%D1%80%D0%B0%D1%80\n",
      "http://mo.wikipedia.org/wiki/%D0%98%D0%BC%D0%BD_%D0%BD%D0%B0%D1%86%D0%B8%D0%BE%D0%BD%D0%B0%D0%BB\n",
      "http://mo.wikipedia.org/wiki/%D0%94%D0%BE%D0%BC%D0%B5%D0%BD%D0%B8%D1%83_%D0%BD%D0%B0%D1%86%D0%B8%D0%BE%D0%BD%D0%B0%D0%BB_%D0%B4%D0%B5_%D0%BD%D0%B8%D0%B2%D0%B5%D0%BB_%D1%81%D1%83%D0%BF%D0%B5%D1%80%D0%B8%D0%BE%D1%80\n",
      "http://mo.wikipedia.org/wiki/%D0%9A%D0%B0%D0%B7%D0%B0%D1%85%D1%81%D1%82%D0%B0%D0%BD\n",
      "http://mo.wikipedia.org/wiki/%D0%A2%D0%B0%D3%82%D0%B8%D0%BA%D0%B8%D1%81%D1%82%D0%B0%D0%BD\n",
      "http://mo.wikipedia.org/wiki/%D0%A3%D0%B7%D0%B1%D0%B5%D0%BA%D0%B8%D1%81%D1%82%D0%B0%D0%BD\n",
      "http://mo.wikipedia.org/wiki/%D0%9A%D0%BE%D0%BC%D1%83%D0%BD%D0%B8%D1%82%D0%B0%D1%82%D1%8F_%D0%A1%D1%82%D0%B0%D1%82%D0%B5%D0%BB%D0%BE%D1%80_%D0%98%D0%BD%D0%B4%D0%B5%D0%BF%D0%B5%D0%BD%D0%B4%D0%B5%D0%BD%D1%82%D0%B5\n",
      "http://mo.wikipedia.org/wiki/%D0%90%D1%80%D0%BC%D0%B5%D0%BD%D0%B8%D1%8F\n",
      "http://mo.wikipedia.org/wiki/%D0%90%D0%B7%D0%B5%D1%80%D0%B1%D0%B0%D0%B8%D3%82%D0%B0%D0%BD\n",
      "http://mo.wikipedia.org/wiki/%D0%91%D0%B5%D0%BB%D0%B0%D1%80%D1%83%D1%81\n",
      "http://mo.wikipedia.org/wiki/%D3%81%D0%B5%D0%BE%D1%80%D3%82%D0%B8%D1%8F\n",
      "http://mo.wikipedia.org/wiki/%D0%9A%D0%B0%D0%B7%D0%B0%D1%85%D1%81%D1%82%D0%B0%D0%BD\n",
      "http://mo.wikipedia.org/wiki/%D0%A0%D0%B5%D0%BF%D1%83%D0%B1%D0%BB%D0%B8%D0%BA%D0%B0_%D0%9C%D0%BE%D0%BB%D0%B4%D0%BE%D0%B2%D0%B0\n",
      "http://mo.wikipedia.org/wiki/%D0%A0%D1%83%D1%81%D0%B8%D1%8F\n",
      "http://mo.wikipedia.org/wiki/%D0%A2%D0%B0%D3%82%D0%B8%D0%BA%D0%B8%D1%81%D1%82%D0%B0%D0%BD\n",
      "http://mo.wikipedia.org/wiki/%D0%A2%D1%83%D1%80%D0%BA%D0%BC%D0%B5%D0%BD%D0%B8%D1%81%D1%82%D0%B0%D0%BD\n",
      "http://mo.wikipedia.org/wiki/%D0%A3%D0%BA%D1%80%D0%B0%D0%B8%D0%BD%D0%B0\n",
      "http://mo.wikipedia.org/wiki/%D0%A3%D0%B7%D0%B1%D0%B5%D0%BA%D0%B8%D1%81%D1%82%D0%B0%D0%BD\n",
      "http://mo.wikipedia.org/wiki/%D0%9A%D1%8B%D1%80%D0%B3%D1%8B%D0%B7%D1%81%D1%82%D0%B0%D0%BD\n",
      "http://mo.wikipedia.org/wiki/%D0%9A%D1%8B%D1%80%D0%B3%D1%8B%D0%B7%D1%81%D1%82%D0%B0%D0%BD\n",
      "http://mo.wikipedia.org/wiki/%D0%9F%D0%B0%D3%82%D0%B8%D0%BD%D0%B0_%D0%BF%D1%80%D0%B8%D0%BD%D1%87%D0%B8%D0%BF%D0%B0%D0%BB%D1%8D\n",
      "http://mo.wikipedia.org/wiki/%D0%9F%D0%B0%D3%82%D0%B8%D0%BD%D0%B0_%D0%BF%D1%80%D0%B8%D0%BD%D1%87%D0%B8%D0%BF%D0%B0%D0%BB%D1%8D\n"
     ]
    },
    {
     "data": {
      "application/vnd.jupyter.widget-view+json": {
       "model_id": "631945fbbce348d7be44076a263cb44f",
       "version_major": 2,
       "version_minor": 0
      },
      "text/plain": [
       "A Jupyter Widget"
      ]
     },
     "metadata": {},
     "output_type": "display_data"
    },
    {
     "name": "stdout",
     "output_type": "stream",
     "text": [
      "\n"
     ]
    },
    {
     "data": {
      "application/vnd.jupyter.widget-view+json": {
       "model_id": "2ed8c928edd04d988d578e28612eb1c9",
       "version_major": 2,
       "version_minor": 0
      },
      "text/plain": [
       "A Jupyter Widget"
      ]
     },
     "metadata": {},
     "output_type": "display_data"
    },
    {
     "name": "stdout",
     "output_type": "stream",
     "text": [
      "\n"
     ]
    },
    {
     "data": {
      "application/vnd.jupyter.widget-view+json": {
       "model_id": "199b2b5d0b1844719b7c50c32e1c638d",
       "version_major": 2,
       "version_minor": 0
      },
      "text/plain": [
       "A Jupyter Widget"
      ]
     },
     "metadata": {},
     "output_type": "display_data"
    },
    {
     "name": "stdout",
     "output_type": "stream",
     "text": [
      "\n"
     ]
    },
    {
     "data": {
      "application/vnd.jupyter.widget-view+json": {
       "model_id": "2a000937d26d49369c2c497e0c19b3af",
       "version_major": 2,
       "version_minor": 0
      },
      "text/plain": [
       "A Jupyter Widget"
      ]
     },
     "metadata": {},
     "output_type": "display_data"
    },
    {
     "name": "stdout",
     "output_type": "stream",
     "text": [
      "\n"
     ]
    },
    {
     "data": {
      "application/vnd.jupyter.widget-view+json": {
       "model_id": "3517371893534d9dbf21aba0baed8187",
       "version_major": 2,
       "version_minor": 0
      },
      "text/plain": [
       "A Jupyter Widget"
      ]
     },
     "metadata": {},
     "output_type": "display_data"
    },
    {
     "name": "stdout",
     "output_type": "stream",
     "text": [
      "\n"
     ]
    },
    {
     "data": {
      "application/vnd.jupyter.widget-view+json": {
       "model_id": "78934edc734c422c83c546c883854659",
       "version_major": 2,
       "version_minor": 0
      },
      "text/plain": [
       "A Jupyter Widget"
      ]
     },
     "metadata": {},
     "output_type": "display_data"
    },
    {
     "name": "stdout",
     "output_type": "stream",
     "text": [
      "\n"
     ]
    },
    {
     "data": {
      "application/vnd.jupyter.widget-view+json": {
       "model_id": "3905b04812864030b7c4c088fc057993",
       "version_major": 2,
       "version_minor": 0
      },
      "text/plain": [
       "A Jupyter Widget"
      ]
     },
     "metadata": {},
     "output_type": "display_data"
    },
    {
     "name": "stdout",
     "output_type": "stream",
     "text": [
      "\n"
     ]
    },
    {
     "data": {
      "application/vnd.jupyter.widget-view+json": {
       "model_id": "057efb55566644fd85255f0d82b397e0",
       "version_major": 2,
       "version_minor": 0
      },
      "text/plain": [
       "A Jupyter Widget"
      ]
     },
     "metadata": {},
     "output_type": "display_data"
    },
    {
     "name": "stdout",
     "output_type": "stream",
     "text": [
      "\n"
     ]
    },
    {
     "data": {
      "application/vnd.jupyter.widget-view+json": {
       "model_id": "39c8454c53f141ea869b9f1961e0f8e0",
       "version_major": 2,
       "version_minor": 0
      },
      "text/plain": [
       "A Jupyter Widget"
      ]
     },
     "metadata": {},
     "output_type": "display_data"
    },
    {
     "name": "stdout",
     "output_type": "stream",
     "text": [
      "\n"
     ]
    },
    {
     "data": {
      "application/vnd.jupyter.widget-view+json": {
       "model_id": "7e66283178524c59abdf2944af1f49dc",
       "version_major": 2,
       "version_minor": 0
      },
      "text/plain": [
       "A Jupyter Widget"
      ]
     },
     "metadata": {},
     "output_type": "display_data"
    },
    {
     "name": "stdout",
     "output_type": "stream",
     "text": [
      "\n"
     ]
    },
    {
     "data": {
      "application/vnd.jupyter.widget-view+json": {
       "model_id": "861bbc58e3e344c8941b2b1625b91335",
       "version_major": 2,
       "version_minor": 0
      },
      "text/plain": [
       "A Jupyter Widget"
      ]
     },
     "metadata": {},
     "output_type": "display_data"
    },
    {
     "name": "stdout",
     "output_type": "stream",
     "text": [
      "\n",
      "http://mo.wikipedia.org/wiki/%D0%9B%D0%B8%D0%BC%D0%B1%D1%8D_%D0%BE%D1%84%D0%B8%D1%87%D0%B8%D0%B0%D0%BB%D1%8D\n",
      "http://mo.wikipedia.org/wiki/%D0%9B%D0%B8%D0%BC%D0%B1%D0%B0_%D1%80%D1%83%D1%81%D1%8D\n",
      "http://mo.wikipedia.org/wiki/%D0%9A%D0%B0%D0%BF%D0%B8%D1%82%D0%B0%D0%BB%D1%8D\n",
      "http://mo.wikipedia.org/wiki/%D0%A1%D0%B8%D1%81%D1%82%D0%B5%D0%BC_%D0%BF%D0%BE%D0%BB%D0%B8%D1%82%D0%B8%D0%BA\n",
      "http://mo.wikipedia.org/wiki/%D0%A1%D1%83%D0%BF%D1%80%D0%B0%D1%84%D0%B0%D1%86%D1%8D\n",
      "http://mo.wikipedia.org/wiki/%D0%9F%D0%BE%D0%BF%D1%83%D0%BB%D0%B0%D1%86%D0%B8%D0%B5\n",
      "http://mo.wikipedia.org/wiki/%D0%94%D0%B5%D0%BD%D1%81%D0%B8%D1%82%D0%B0%D1%82%D1%8F_%D0%BF%D0%BE%D0%BF%D1%83%D0%BB%D0%B0%D1%86%D0%B8%D0%B5%D0%B9\n",
      "http://mo.wikipedia.org/wiki/%D0%9F%D1%80%D0%BE%D0%B4%D1%83%D1%81_%D0%B8%D0%BD%D1%82%D0%B5%D1%80%D0%BD_%D0%B1%D1%80%D1%83%D1%82\n",
      "http://mo.wikipedia.org/wiki/%D0%9C%D0%BE%D0%BD%D0%B5%D0%B4%D1%8D\n",
      "http://mo.wikipedia.org/wiki/%D0%A4%D1%83%D1%81_%D0%BE%D1%80%D0%B0%D1%80\n",
      "http://mo.wikipedia.org/wiki/%D0%98%D0%BC%D0%BD_%D0%BD%D0%B0%D1%86%D0%B8%D0%BE%D0%BD%D0%B0%D0%BB\n",
      "http://mo.wikipedia.org/wiki/%D0%94%D0%BE%D0%BC%D0%B5%D0%BD%D0%B8%D1%83_%D0%BD%D0%B0%D1%86%D0%B8%D0%BE%D0%BD%D0%B0%D0%BB_%D0%B4%D0%B5_%D0%BD%D0%B8%D0%B2%D0%B5%D0%BB_%D1%81%D1%83%D0%BF%D0%B5%D1%80%D0%B8%D0%BE%D1%80\n",
      "http://mo.wikipedia.org/wiki/%D0%90%D1%81%D0%B8%D1%8F\n",
      "http://mo.wikipedia.org/wiki/%D0%9A%D0%BE%D0%BC%D1%83%D0%BD%D0%B8%D1%82%D0%B0%D1%82%D1%8F_%D0%A1%D1%82%D0%B0%D1%82%D0%B5%D0%BB%D0%BE%D1%80_%D0%98%D0%BD%D0%B4%D0%B5%D0%BF%D0%B5%D0%BD%D0%B4%D0%B5%D0%BD%D1%82%D0%B5\n",
      "http://mo.wikipedia.org/wiki/%D0%90%D1%80%D0%BC%D0%B5%D0%BD%D0%B8%D1%8F\n",
      "http://mo.wikipedia.org/wiki/%D0%90%D0%B7%D0%B5%D1%80%D0%B1%D0%B0%D0%B8%D3%82%D0%B0%D0%BD\n",
      "http://mo.wikipedia.org/wiki/%D0%91%D0%B5%D0%BB%D0%B0%D1%80%D1%83%D1%81\n",
      "http://mo.wikipedia.org/wiki/%D3%81%D0%B5%D0%BE%D1%80%D3%82%D0%B8%D1%8F\n",
      "http://mo.wikipedia.org/wiki/%D0%9A%D1%8B%D1%80%D0%B3%D1%8B%D0%B7%D1%81%D1%82%D0%B0%D0%BD\n",
      "http://mo.wikipedia.org/wiki/%D0%A0%D0%B5%D0%BF%D1%83%D0%B1%D0%BB%D0%B8%D0%BA%D0%B0_%D0%9C%D0%BE%D0%BB%D0%B4%D0%BE%D0%B2%D0%B0\n",
      "http://mo.wikipedia.org/wiki/%D0%A0%D1%83%D1%81%D0%B8%D1%8F\n",
      "http://mo.wikipedia.org/wiki/%D0%A2%D0%B0%D3%82%D0%B8%D0%BA%D0%B8%D1%81%D1%82%D0%B0%D0%BD\n",
      "http://mo.wikipedia.org/wiki/%D0%A2%D1%83%D1%80%D0%BA%D0%BC%D0%B5%D0%BD%D0%B8%D1%81%D1%82%D0%B0%D0%BD\n",
      "http://mo.wikipedia.org/wiki/%D0%A3%D0%BA%D1%80%D0%B0%D0%B8%D0%BD%D0%B0\n",
      "http://mo.wikipedia.org/wiki/%D0%A3%D0%B7%D0%B1%D0%B5%D0%BA%D0%B8%D1%81%D1%82%D0%B0%D0%BD\n",
      "http://mo.wikipedia.org/wiki/%D0%9A%D0%B0%D0%B7%D0%B0%D1%85%D1%81%D1%82%D0%B0%D0%BD\n",
      "http://mo.wikipedia.org/wiki/%D0%9A%D0%B0%D0%B7%D0%B0%D1%85%D1%81%D1%82%D0%B0%D0%BD\n",
      "http://mo.wikipedia.org/wiki/%D0%9F%D0%B0%D3%82%D0%B8%D0%BD%D0%B0_%D0%BF%D1%80%D0%B8%D0%BD%D1%87%D0%B8%D0%BF%D0%B0%D0%BB%D1%8D\n",
      "http://mo.wikipedia.org/wiki/%D0%9F%D0%B0%D3%82%D0%B8%D0%BD%D0%B0_%D0%BF%D1%80%D0%B8%D0%BD%D1%87%D0%B8%D0%BF%D0%B0%D0%BB%D1%8D\n"
     ]
    },
    {
     "data": {
      "application/vnd.jupyter.widget-view+json": {
       "model_id": "44aed7b19b1c49c4bb17fe41b1143706",
       "version_major": 2,
       "version_minor": 0
      },
      "text/plain": [
       "A Jupyter Widget"
      ]
     },
     "metadata": {},
     "output_type": "display_data"
    },
    {
     "name": "stdout",
     "output_type": "stream",
     "text": [
      "\n"
     ]
    },
    {
     "data": {
      "application/vnd.jupyter.widget-view+json": {
       "model_id": "e908665d988648d384b8b228e0d668f6",
       "version_major": 2,
       "version_minor": 0
      },
      "text/plain": [
       "A Jupyter Widget"
      ]
     },
     "metadata": {},
     "output_type": "display_data"
    },
    {
     "name": "stdout",
     "output_type": "stream",
     "text": [
      "\n"
     ]
    },
    {
     "data": {
      "application/vnd.jupyter.widget-view+json": {
       "model_id": "2c963c5ffb964a3f8403f4c36833473e",
       "version_major": 2,
       "version_minor": 0
      },
      "text/plain": [
       "A Jupyter Widget"
      ]
     },
     "metadata": {},
     "output_type": "display_data"
    },
    {
     "name": "stdout",
     "output_type": "stream",
     "text": [
      "\n"
     ]
    },
    {
     "data": {
      "application/vnd.jupyter.widget-view+json": {
       "model_id": "95319973a7934d1ebb72bdde4dde5e9e",
       "version_major": 2,
       "version_minor": 0
      },
      "text/plain": [
       "A Jupyter Widget"
      ]
     },
     "metadata": {},
     "output_type": "display_data"
    },
    {
     "name": "stdout",
     "output_type": "stream",
     "text": [
      "\n"
     ]
    },
    {
     "data": {
      "application/vnd.jupyter.widget-view+json": {
       "model_id": "672929ade3b4433691b229157fadcff8",
       "version_major": 2,
       "version_minor": 0
      },
      "text/plain": [
       "A Jupyter Widget"
      ]
     },
     "metadata": {},
     "output_type": "display_data"
    },
    {
     "name": "stdout",
     "output_type": "stream",
     "text": [
      "\n"
     ]
    },
    {
     "data": {
      "application/vnd.jupyter.widget-view+json": {
       "model_id": "6a87fe4155384ffba688e5e5c96aa237",
       "version_major": 2,
       "version_minor": 0
      },
      "text/plain": [
       "A Jupyter Widget"
      ]
     },
     "metadata": {},
     "output_type": "display_data"
    },
    {
     "name": "stdout",
     "output_type": "stream",
     "text": [
      "\n"
     ]
    },
    {
     "data": {
      "application/vnd.jupyter.widget-view+json": {
       "model_id": "6e4ab1d35c524b4cb5369bb4fee7c377",
       "version_major": 2,
       "version_minor": 0
      },
      "text/plain": [
       "A Jupyter Widget"
      ]
     },
     "metadata": {},
     "output_type": "display_data"
    },
    {
     "name": "stdout",
     "output_type": "stream",
     "text": [
      "\n"
     ]
    },
    {
     "data": {
      "application/vnd.jupyter.widget-view+json": {
       "model_id": "cb0eb53572574d8d9e58256f8f7f6371",
       "version_major": 2,
       "version_minor": 0
      },
      "text/plain": [
       "A Jupyter Widget"
      ]
     },
     "metadata": {},
     "output_type": "display_data"
    },
    {
     "name": "stdout",
     "output_type": "stream",
     "text": [
      "\n"
     ]
    },
    {
     "data": {
      "application/vnd.jupyter.widget-view+json": {
       "model_id": "85aa0473ee3746ae9ad24ef33e8a0332",
       "version_major": 2,
       "version_minor": 0
      },
      "text/plain": [
       "A Jupyter Widget"
      ]
     },
     "metadata": {},
     "output_type": "display_data"
    },
    {
     "name": "stdout",
     "output_type": "stream",
     "text": [
      "\n"
     ]
    },
    {
     "data": {
      "application/vnd.jupyter.widget-view+json": {
       "model_id": "ac7bc99d1402456a95a35eababbcfb10",
       "version_major": 2,
       "version_minor": 0
      },
      "text/plain": [
       "A Jupyter Widget"
      ]
     },
     "metadata": {},
     "output_type": "display_data"
    },
    {
     "name": "stdout",
     "output_type": "stream",
     "text": [
      "\n"
     ]
    },
    {
     "data": {
      "application/vnd.jupyter.widget-view+json": {
       "model_id": "9150605188dc4a1b99586cbcdf4d7953",
       "version_major": 2,
       "version_minor": 0
      },
      "text/plain": [
       "A Jupyter Widget"
      ]
     },
     "metadata": {},
     "output_type": "display_data"
    },
    {
     "name": "stdout",
     "output_type": "stream",
     "text": [
      "\n"
     ]
    },
    {
     "data": {
      "application/vnd.jupyter.widget-view+json": {
       "model_id": "1714b94f8a8b40529c5aeba33af595ec",
       "version_major": 2,
       "version_minor": 0
      },
      "text/plain": [
       "A Jupyter Widget"
      ]
     },
     "metadata": {},
     "output_type": "display_data"
    },
    {
     "name": "stdout",
     "output_type": "stream",
     "text": [
      "\n",
      "http://mo.wikipedia.org/wiki/%D0%9B%D0%B8%D0%BC%D0%B1%D1%8D_%D0%BE%D1%84%D0%B8%D1%87%D0%B8%D0%B0%D0%BB%D1%8D\n",
      "http://mo.wikipedia.org/wiki/%D0%9A%D0%B0%D0%BF%D0%B8%D1%82%D0%B0%D0%BB%D1%8D\n",
      "http://mo.wikipedia.org/wiki/%D0%A2%D0%B1%D0%B8%D0%BB%D0%B8%D1%81%D0%B8\n",
      "http://mo.wikipedia.org/wiki/%D0%A2%D0%B1%D0%B8%D0%BB%D0%B8%D1%81%D0%B8\n",
      "http://mo.wikipedia.org/wiki/%D0%A1%D0%B8%D1%81%D1%82%D0%B5%D0%BC_%D0%BF%D0%BE%D0%BB%D0%B8%D1%82%D0%B8%D0%BA\n",
      "http://mo.wikipedia.org/wiki/%D0%A1%D1%83%D0%BF%D1%80%D0%B0%D1%84%D0%B0%D1%86%D1%8D\n",
      "http://mo.wikipedia.org/wiki/%D0%9F%D0%BE%D0%BF%D1%83%D0%BB%D0%B0%D1%86%D0%B8%D0%B5\n",
      "http://mo.wikipedia.org/wiki/%D0%94%D0%B5%D0%BD%D1%81%D0%B8%D1%82%D0%B0%D1%82%D1%8F_%D0%BF%D0%BE%D0%BF%D1%83%D0%BB%D0%B0%D1%86%D0%B8%D0%B5%D0%B9\n",
      "http://mo.wikipedia.org/wiki/1991\n",
      "http://mo.wikipedia.org/wiki/%D0%A3%D0%BD%D0%B8%D1%83%D0%BD%D1%8F_%D0%A1%D0%BE%D0%B2%D0%B8%D0%B5%D1%82%D0%B8%D0%BA%D1%8D\n",
      "http://mo.wikipedia.org/wiki/%D0%9F%D1%80%D0%BE%D0%B4%D1%83%D1%81_%D0%B8%D0%BD%D1%82%D0%B5%D1%80%D0%BD_%D0%B1%D1%80%D1%83%D1%82\n",
      "http://mo.wikipedia.org/wiki/%D0%9C%D0%BE%D0%BD%D0%B5%D0%B4%D1%8D\n",
      "http://mo.wikipedia.org/wiki/%D0%A4%D1%83%D1%81_%D0%BE%D1%80%D0%B0%D1%80\n",
      "http://mo.wikipedia.org/wiki/%D0%98%D0%BC%D0%BD_%D0%BD%D0%B0%D1%86%D0%B8%D0%BE%D0%BD%D0%B0%D0%BB\n",
      "http://mo.wikipedia.org/wiki/%D0%94%D0%BE%D0%BC%D0%B5%D0%BD%D0%B8%D1%83_%D0%BD%D0%B0%D1%86%D0%B8%D0%BE%D0%BD%D0%B0%D0%BB_%D0%B4%D0%B5_%D0%BD%D0%B8%D0%B2%D0%B5%D0%BB_%D1%81%D1%83%D0%BF%D0%B5%D1%80%D0%B8%D0%BE%D1%80\n",
      "http://mo.wikipedia.org/wiki/%D0%A2%D0%B1%D0%B8%D0%BB%D0%B8%D1%81%D0%B8\n",
      "http://mo.wikipedia.org/wiki/%D0%9A%D0%BE%D0%BC%D1%83%D0%BD%D0%B8%D1%82%D0%B0%D1%82%D1%8F_%D0%A1%D1%82%D0%B0%D1%82%D0%B5%D0%BB%D0%BE%D1%80_%D0%98%D0%BD%D0%B4%D0%B5%D0%BF%D0%B5%D0%BD%D0%B4%D0%B5%D0%BD%D1%82%D0%B5\n",
      "http://mo.wikipedia.org/wiki/%D0%90%D1%80%D0%BC%D0%B5%D0%BD%D0%B8%D1%8F\n",
      "http://mo.wikipedia.org/wiki/%D0%90%D0%B7%D0%B5%D1%80%D0%B1%D0%B0%D0%B8%D3%82%D0%B0%D0%BD\n",
      "http://mo.wikipedia.org/wiki/%D0%91%D0%B5%D0%BB%D0%B0%D1%80%D1%83%D1%81\n",
      "http://mo.wikipedia.org/wiki/%D0%9A%D0%B0%D0%B7%D0%B0%D1%85%D1%81%D1%82%D0%B0%D0%BD\n",
      "http://mo.wikipedia.org/wiki/%D0%9A%D1%8B%D1%80%D0%B3%D1%8B%D0%B7%D1%81%D1%82%D0%B0%D0%BD\n",
      "http://mo.wikipedia.org/wiki/%D0%A0%D0%B5%D0%BF%D1%83%D0%B1%D0%BB%D0%B8%D0%BA%D0%B0_%D0%9C%D0%BE%D0%BB%D0%B4%D0%BE%D0%B2%D0%B0\n",
      "http://mo.wikipedia.org/wiki/%D0%A0%D1%83%D1%81%D0%B8%D1%8F\n",
      "http://mo.wikipedia.org/wiki/%D0%A2%D0%B0%D3%82%D0%B8%D0%BA%D0%B8%D1%81%D1%82%D0%B0%D0%BD\n",
      "http://mo.wikipedia.org/wiki/%D0%A2%D1%83%D1%80%D0%BA%D0%BC%D0%B5%D0%BD%D0%B8%D1%81%D1%82%D0%B0%D0%BD\n",
      "http://mo.wikipedia.org/wiki/%D0%A3%D0%BA%D1%80%D0%B0%D0%B8%D0%BD%D0%B0\n",
      "http://mo.wikipedia.org/wiki/%D0%A3%D0%B7%D0%B1%D0%B5%D0%BA%D0%B8%D1%81%D1%82%D0%B0%D0%BD\n",
      "http://mo.wikipedia.org/wiki/%D3%81%D0%B5%D0%BE%D1%80%D3%82%D0%B8%D1%8F\n",
      "http://mo.wikipedia.org/wiki/%D3%81%D0%B5%D0%BE%D1%80%D3%82%D0%B8%D1%8F\n",
      "http://mo.wikipedia.org/wiki/%D0%9F%D0%B0%D3%82%D0%B8%D0%BD%D0%B0_%D0%BF%D1%80%D0%B8%D0%BD%D1%87%D0%B8%D0%BF%D0%B0%D0%BB%D1%8D\n",
      "http://mo.wikipedia.org/wiki/%D0%9F%D0%B0%D3%82%D0%B8%D0%BD%D0%B0_%D0%BF%D1%80%D0%B8%D0%BD%D1%87%D0%B8%D0%BF%D0%B0%D0%BB%D1%8D\n"
     ]
    },
    {
     "data": {
      "application/vnd.jupyter.widget-view+json": {
       "model_id": "1a9aa07a3713402eaae09ea071abd637",
       "version_major": 2,
       "version_minor": 0
      },
      "text/plain": [
       "A Jupyter Widget"
      ]
     },
     "metadata": {},
     "output_type": "display_data"
    },
    {
     "name": "stdout",
     "output_type": "stream",
     "text": [
      "\n"
     ]
    },
    {
     "data": {
      "application/vnd.jupyter.widget-view+json": {
       "model_id": "9e6bb5ab39244a47b136330adecf1671",
       "version_major": 2,
       "version_minor": 0
      },
      "text/plain": [
       "A Jupyter Widget"
      ]
     },
     "metadata": {},
     "output_type": "display_data"
    },
    {
     "name": "stdout",
     "output_type": "stream",
     "text": [
      "\n"
     ]
    },
    {
     "data": {
      "application/vnd.jupyter.widget-view+json": {
       "model_id": "41d9a62e0e684fd19fe0ba087976d151",
       "version_major": 2,
       "version_minor": 0
      },
      "text/plain": [
       "A Jupyter Widget"
      ]
     },
     "metadata": {},
     "output_type": "display_data"
    },
    {
     "name": "stdout",
     "output_type": "stream",
     "text": [
      "\n"
     ]
    },
    {
     "data": {
      "application/vnd.jupyter.widget-view+json": {
       "model_id": "51698eab8d1a4196a142b1dd857379ad",
       "version_major": 2,
       "version_minor": 0
      },
      "text/plain": [
       "A Jupyter Widget"
      ]
     },
     "metadata": {},
     "output_type": "display_data"
    },
    {
     "name": "stdout",
     "output_type": "stream",
     "text": [
      "\n"
     ]
    },
    {
     "data": {
      "application/vnd.jupyter.widget-view+json": {
       "model_id": "c9e332cc08ad4030801b8fac3b0e85cf",
       "version_major": 2,
       "version_minor": 0
      },
      "text/plain": [
       "A Jupyter Widget"
      ]
     },
     "metadata": {},
     "output_type": "display_data"
    },
    {
     "name": "stdout",
     "output_type": "stream",
     "text": [
      "\n"
     ]
    },
    {
     "data": {
      "application/vnd.jupyter.widget-view+json": {
       "model_id": "4871b700bb6d413fb1929a430a5e5b8b",
       "version_major": 2,
       "version_minor": 0
      },
      "text/plain": [
       "A Jupyter Widget"
      ]
     },
     "metadata": {},
     "output_type": "display_data"
    },
    {
     "name": "stdout",
     "output_type": "stream",
     "text": [
      "\n"
     ]
    },
    {
     "data": {
      "application/vnd.jupyter.widget-view+json": {
       "model_id": "7c1827d9c3cd4ebf8904cdf685877bb2",
       "version_major": 2,
       "version_minor": 0
      },
      "text/plain": [
       "A Jupyter Widget"
      ]
     },
     "metadata": {},
     "output_type": "display_data"
    },
    {
     "name": "stdout",
     "output_type": "stream",
     "text": [
      "\n"
     ]
    },
    {
     "data": {
      "application/vnd.jupyter.widget-view+json": {
       "model_id": "05e1264caabb4b7da80106e88b984272",
       "version_major": 2,
       "version_minor": 0
      },
      "text/plain": [
       "A Jupyter Widget"
      ]
     },
     "metadata": {},
     "output_type": "display_data"
    },
    {
     "name": "stdout",
     "output_type": "stream",
     "text": [
      "\n"
     ]
    },
    {
     "data": {
      "application/vnd.jupyter.widget-view+json": {
       "model_id": "40553b80bee04c309407defef371e8af",
       "version_major": 2,
       "version_minor": 0
      },
      "text/plain": [
       "A Jupyter Widget"
      ]
     },
     "metadata": {},
     "output_type": "display_data"
    },
    {
     "name": "stdout",
     "output_type": "stream",
     "text": [
      "\n"
     ]
    },
    {
     "data": {
      "application/vnd.jupyter.widget-view+json": {
       "model_id": "8930b67e872d4e3b9b685eb4dde26e33",
       "version_major": 2,
       "version_minor": 0
      },
      "text/plain": [
       "A Jupyter Widget"
      ]
     },
     "metadata": {},
     "output_type": "display_data"
    },
    {
     "name": "stdout",
     "output_type": "stream",
     "text": [
      "\n"
     ]
    },
    {
     "data": {
      "application/vnd.jupyter.widget-view+json": {
       "model_id": "ee1b173c3c6f483aa10516285351454b",
       "version_major": 2,
       "version_minor": 0
      },
      "text/plain": [
       "A Jupyter Widget"
      ]
     },
     "metadata": {},
     "output_type": "display_data"
    },
    {
     "name": "stdout",
     "output_type": "stream",
     "text": [
      "\n"
     ]
    },
    {
     "data": {
      "application/vnd.jupyter.widget-view+json": {
       "model_id": "726f8d9f14e34ec082dbbed652acf162",
       "version_major": 2,
       "version_minor": 0
      },
      "text/plain": [
       "A Jupyter Widget"
      ]
     },
     "metadata": {},
     "output_type": "display_data"
    },
    {
     "name": "stdout",
     "output_type": "stream",
     "text": [
      "\n"
     ]
    },
    {
     "data": {
      "application/vnd.jupyter.widget-view+json": {
       "model_id": "1a65739fb6bd474e810ef32cdb2e446f",
       "version_major": 2,
       "version_minor": 0
      },
      "text/plain": [
       "A Jupyter Widget"
      ]
     },
     "metadata": {},
     "output_type": "display_data"
    },
    {
     "name": "stdout",
     "output_type": "stream",
     "text": [
      "\n"
     ]
    },
    {
     "data": {
      "application/vnd.jupyter.widget-view+json": {
       "model_id": "b0c13ae637dd42b39919d2425f585884",
       "version_major": 2,
       "version_minor": 0
      },
      "text/plain": [
       "A Jupyter Widget"
      ]
     },
     "metadata": {},
     "output_type": "display_data"
    },
    {
     "name": "stdout",
     "output_type": "stream",
     "text": [
      "\n",
      "http://mo.wikipedia.org/wiki/%D0%95%D1%83%D1%80%D0%BE%D0%BF%D0%B0\n",
      "http://mo.wikipedia.org/wiki/%D0%90%D1%81%D0%B8%D1%8F\n",
      "http://mo.wikipedia.org/wiki/%D0%90%D0%B7%D0%B5%D1%80%D0%B1%D0%B0%D0%B8%D3%82%D0%B0%D0%BD\n",
      "http://mo.wikipedia.org/wiki/%D0%90%D0%B7%D0%B5%D1%80%D0%B1%D0%B0%D0%B8%D3%82%D0%B0%D0%BD\n",
      "http://mo.wikipedia.org/wiki/%D0%9F%D0%B0%D3%82%D0%B8%D0%BD%D0%B0_%D0%BF%D1%80%D0%B8%D0%BD%D1%87%D0%B8%D0%BF%D0%B0%D0%BB%D1%8D\n",
      "http://mo.wikipedia.org/wiki/%D0%9F%D0%B0%D3%82%D0%B8%D0%BD%D0%B0_%D0%BF%D1%80%D0%B8%D0%BD%D1%87%D0%B8%D0%BF%D0%B0%D0%BB%D1%8D\n"
     ]
    },
    {
     "data": {
      "application/vnd.jupyter.widget-view+json": {
       "model_id": "16aebdde734d4c29bc46342346dcd1a0",
       "version_major": 2,
       "version_minor": 0
      },
      "text/plain": [
       "A Jupyter Widget"
      ]
     },
     "metadata": {},
     "output_type": "display_data"
    },
    {
     "name": "stdout",
     "output_type": "stream",
     "text": [
      "\n"
     ]
    },
    {
     "data": {
      "application/vnd.jupyter.widget-view+json": {
       "model_id": "b4f65bf954fb4722bab813069167cd18",
       "version_major": 2,
       "version_minor": 0
      },
      "text/plain": [
       "A Jupyter Widget"
      ]
     },
     "metadata": {},
     "output_type": "display_data"
    },
    {
     "name": "stdout",
     "output_type": "stream",
     "text": [
      "\n"
     ]
    },
    {
     "data": {
      "application/vnd.jupyter.widget-view+json": {
       "model_id": "b1aeb899edf749689a5c8d593e7aea3d",
       "version_major": 2,
       "version_minor": 0
      },
      "text/plain": [
       "A Jupyter Widget"
      ]
     },
     "metadata": {},
     "output_type": "display_data"
    },
    {
     "name": "stdout",
     "output_type": "stream",
     "text": [
      "\n"
     ]
    },
    {
     "data": {
      "application/vnd.jupyter.widget-view+json": {
       "model_id": "8e6eec17c852440b8982c551561847ce",
       "version_major": 2,
       "version_minor": 0
      },
      "text/plain": [
       "A Jupyter Widget"
      ]
     },
     "metadata": {},
     "output_type": "display_data"
    },
    {
     "name": "stdout",
     "output_type": "stream",
     "text": [
      "\n"
     ]
    },
    {
     "data": {
      "application/vnd.jupyter.widget-view+json": {
       "model_id": "c621bd55b7f345a6abd3241edc1d454a",
       "version_major": 2,
       "version_minor": 0
      },
      "text/plain": [
       "A Jupyter Widget"
      ]
     },
     "metadata": {},
     "output_type": "display_data"
    },
    {
     "name": "stdout",
     "output_type": "stream",
     "text": [
      "\n"
     ]
    },
    {
     "data": {
      "application/vnd.jupyter.widget-view+json": {
       "model_id": "8a7896a144cb4f6aa83e001fd31f08f7",
       "version_major": 2,
       "version_minor": 0
      },
      "text/plain": [
       "A Jupyter Widget"
      ]
     },
     "metadata": {},
     "output_type": "display_data"
    },
    {
     "name": "stdout",
     "output_type": "stream",
     "text": [
      "\n"
     ]
    },
    {
     "data": {
      "application/vnd.jupyter.widget-view+json": {
       "model_id": "4dacb2854124435686297db80399ebe7",
       "version_major": 2,
       "version_minor": 0
      },
      "text/plain": [
       "A Jupyter Widget"
      ]
     },
     "metadata": {},
     "output_type": "display_data"
    },
    {
     "name": "stdout",
     "output_type": "stream",
     "text": [
      "\n",
      "http://mo.wikipedia.org/wiki/%D0%9B%D0%B8%D0%BC%D0%B1%D1%8D_%D0%BE%D1%84%D0%B8%D1%87%D0%B8%D0%B0%D0%BB%D1%8D\n",
      "http://mo.wikipedia.org/wiki/%D0%9A%D0%B0%D0%BF%D0%B8%D1%82%D0%B0%D0%BB%D1%8D\n",
      "http://mo.wikipedia.org/wiki/%D0%A1%D0%B8%D1%81%D1%82%D0%B5%D0%BC_%D0%BF%D0%BE%D0%BB%D0%B8%D1%82%D0%B8%D0%BA\n",
      "http://mo.wikipedia.org/wiki/%D0%A1%D1%83%D0%BF%D1%80%D0%B0%D1%84%D0%B0%D1%86%D1%8D\n",
      "http://mo.wikipedia.org/wiki/%D0%9F%D0%BE%D0%BF%D1%83%D0%BB%D0%B0%D1%86%D0%B8%D0%B5\n",
      "http://mo.wikipedia.org/wiki/%D0%94%D0%B5%D0%BD%D1%81%D0%B8%D1%82%D0%B0%D1%82%D1%8F_%D0%BF%D0%BE%D0%BF%D1%83%D0%BB%D0%B0%D1%86%D0%B8%D0%B5%D0%B9\n",
      "http://mo.wikipedia.org/wiki/%D0%9F%D1%80%D0%BE%D0%B4%D1%83%D1%81_%D0%B8%D0%BD%D1%82%D0%B5%D1%80%D0%BD_%D0%B1%D1%80%D1%83%D1%82\n",
      "http://mo.wikipedia.org/wiki/%D0%9C%D0%BE%D0%BD%D0%B5%D0%B4%D1%8D\n",
      "http://mo.wikipedia.org/wiki/%D0%A4%D1%83%D1%81_%D0%BE%D1%80%D0%B0%D1%80\n",
      "http://mo.wikipedia.org/wiki/%D0%98%D0%BC%D0%BD_%D0%BD%D0%B0%D1%86%D0%B8%D0%BE%D0%BD%D0%B0%D0%BB\n",
      "http://mo.wikipedia.org/wiki/%D0%94%D0%BE%D0%BC%D0%B5%D0%BD%D0%B8%D1%83_%D0%BD%D0%B0%D1%86%D0%B8%D0%BE%D0%BD%D0%B0%D0%BB_%D0%B4%D0%B5_%D0%BD%D0%B8%D0%B2%D0%B5%D0%BB_%D1%81%D1%83%D0%BF%D0%B5%D1%80%D0%B8%D0%BE%D1%80\n",
      "http://mo.wikipedia.org/wiki/%D0%9A%D0%BE%D0%BC%D1%83%D0%BD%D0%B8%D1%82%D0%B0%D1%82%D1%8F_%D0%A1%D1%82%D0%B0%D1%82%D0%B5%D0%BB%D0%BE%D1%80_%D0%98%D0%BD%D0%B4%D0%B5%D0%BF%D0%B5%D0%BD%D0%B4%D0%B5%D0%BD%D1%82%D0%B5\n",
      "http://mo.wikipedia.org/wiki/%D0%90%D0%B7%D0%B5%D1%80%D0%B1%D0%B0%D0%B8%D3%82%D0%B0%D0%BD\n",
      "http://mo.wikipedia.org/wiki/%D0%91%D0%B5%D0%BB%D0%B0%D1%80%D1%83%D1%81\n",
      "http://mo.wikipedia.org/wiki/%D3%81%D0%B5%D0%BE%D1%80%D3%82%D0%B8%D1%8F\n",
      "http://mo.wikipedia.org/wiki/%D0%9A%D0%B0%D0%B7%D0%B0%D1%85%D1%81%D1%82%D0%B0%D0%BD\n",
      "http://mo.wikipedia.org/wiki/%D0%9A%D1%8B%D1%80%D0%B3%D1%8B%D0%B7%D1%81%D1%82%D0%B0%D0%BD\n",
      "http://mo.wikipedia.org/wiki/%D0%A0%D0%B5%D0%BF%D1%83%D0%B1%D0%BB%D0%B8%D0%BA%D0%B0_%D0%9C%D0%BE%D0%BB%D0%B4%D0%BE%D0%B2%D0%B0\n",
      "http://mo.wikipedia.org/wiki/%D0%A0%D1%83%D1%81%D0%B8%D1%8F\n",
      "http://mo.wikipedia.org/wiki/%D0%A2%D0%B0%D3%82%D0%B8%D0%BA%D0%B8%D1%81%D1%82%D0%B0%D0%BD\n",
      "http://mo.wikipedia.org/wiki/%D0%A2%D1%83%D1%80%D0%BA%D0%BC%D0%B5%D0%BD%D0%B8%D1%81%D1%82%D0%B0%D0%BD\n",
      "http://mo.wikipedia.org/wiki/%D0%A3%D0%BA%D1%80%D0%B0%D0%B8%D0%BD%D0%B0\n",
      "http://mo.wikipedia.org/wiki/%D0%A3%D0%B7%D0%B1%D0%B5%D0%BA%D0%B8%D1%81%D1%82%D0%B0%D0%BD\n",
      "http://mo.wikipedia.org/wiki/%D0%90%D1%80%D0%BC%D0%B5%D0%BD%D0%B8%D1%8F\n",
      "http://mo.wikipedia.org/wiki/%D0%90%D1%80%D0%BC%D0%B5%D0%BD%D0%B8%D1%8F\n",
      "http://mo.wikipedia.org/wiki/%D0%9F%D0%B0%D3%82%D0%B8%D0%BD%D0%B0_%D0%BF%D1%80%D0%B8%D0%BD%D1%87%D0%B8%D0%BF%D0%B0%D0%BB%D1%8D\n",
      "http://mo.wikipedia.org/wiki/%D0%9F%D0%B0%D3%82%D0%B8%D0%BD%D0%B0_%D0%BF%D1%80%D0%B8%D0%BD%D1%87%D0%B8%D0%BF%D0%B0%D0%BB%D1%8D\n"
     ]
    },
    {
     "data": {
      "application/vnd.jupyter.widget-view+json": {
       "model_id": "accbd198a6ab48f08ea35d0b889562b2",
       "version_major": 2,
       "version_minor": 0
      },
      "text/plain": [
       "A Jupyter Widget"
      ]
     },
     "metadata": {},
     "output_type": "display_data"
    },
    {
     "name": "stdout",
     "output_type": "stream",
     "text": [
      "\n"
     ]
    },
    {
     "data": {
      "application/vnd.jupyter.widget-view+json": {
       "model_id": "6a0b4e5e375348f7a9380b5e019d7c85",
       "version_major": 2,
       "version_minor": 0
      },
      "text/plain": [
       "A Jupyter Widget"
      ]
     },
     "metadata": {},
     "output_type": "display_data"
    },
    {
     "name": "stdout",
     "output_type": "stream",
     "text": [
      "\n"
     ]
    },
    {
     "data": {
      "application/vnd.jupyter.widget-view+json": {
       "model_id": "e6ac2f21a25944ec9a0507799f758ef1",
       "version_major": 2,
       "version_minor": 0
      },
      "text/plain": [
       "A Jupyter Widget"
      ]
     },
     "metadata": {},
     "output_type": "display_data"
    },
    {
     "name": "stdout",
     "output_type": "stream",
     "text": [
      "\n"
     ]
    },
    {
     "data": {
      "application/vnd.jupyter.widget-view+json": {
       "model_id": "405f4e2691bb42df9944ba841d7c83f7",
       "version_major": 2,
       "version_minor": 0
      },
      "text/plain": [
       "A Jupyter Widget"
      ]
     },
     "metadata": {},
     "output_type": "display_data"
    },
    {
     "name": "stdout",
     "output_type": "stream",
     "text": [
      "\n"
     ]
    },
    {
     "data": {
      "application/vnd.jupyter.widget-view+json": {
       "model_id": "71eea5dadde64bb0aab0f662c7dc0d23",
       "version_major": 2,
       "version_minor": 0
      },
      "text/plain": [
       "A Jupyter Widget"
      ]
     },
     "metadata": {},
     "output_type": "display_data"
    },
    {
     "name": "stdout",
     "output_type": "stream",
     "text": [
      "\n"
     ]
    },
    {
     "data": {
      "application/vnd.jupyter.widget-view+json": {
       "model_id": "d62f29594c82410faf5bf7dff635ff97",
       "version_major": 2,
       "version_minor": 0
      },
      "text/plain": [
       "A Jupyter Widget"
      ]
     },
     "metadata": {},
     "output_type": "display_data"
    },
    {
     "name": "stdout",
     "output_type": "stream",
     "text": [
      "\n"
     ]
    },
    {
     "data": {
      "application/vnd.jupyter.widget-view+json": {
       "model_id": "8dafe0ce7bc846b086deb44023ea48c2",
       "version_major": 2,
       "version_minor": 0
      },
      "text/plain": [
       "A Jupyter Widget"
      ]
     },
     "metadata": {},
     "output_type": "display_data"
    },
    {
     "name": "stdout",
     "output_type": "stream",
     "text": [
      "\n"
     ]
    },
    {
     "data": {
      "application/vnd.jupyter.widget-view+json": {
       "model_id": "a1ced61c911e4a3d9bd71b18aa438d85",
       "version_major": 2,
       "version_minor": 0
      },
      "text/plain": [
       "A Jupyter Widget"
      ]
     },
     "metadata": {},
     "output_type": "display_data"
    },
    {
     "name": "stdout",
     "output_type": "stream",
     "text": [
      "\n"
     ]
    },
    {
     "data": {
      "application/vnd.jupyter.widget-view+json": {
       "model_id": "bfbffbe1b63b44a7820bdd8a2aedd6f5",
       "version_major": 2,
       "version_minor": 0
      },
      "text/plain": [
       "A Jupyter Widget"
      ]
     },
     "metadata": {},
     "output_type": "display_data"
    },
    {
     "name": "stdout",
     "output_type": "stream",
     "text": [
      "\n"
     ]
    },
    {
     "data": {
      "application/vnd.jupyter.widget-view+json": {
       "model_id": "49a8a5089dbf48c2ab9a9f027f9fd78e",
       "version_major": 2,
       "version_minor": 0
      },
      "text/plain": [
       "A Jupyter Widget"
      ]
     },
     "metadata": {},
     "output_type": "display_data"
    },
    {
     "name": "stdout",
     "output_type": "stream",
     "text": [
      "\n"
     ]
    },
    {
     "data": {
      "application/vnd.jupyter.widget-view+json": {
       "model_id": "8196e334670b4ec397572e13ea8d78d1",
       "version_major": 2,
       "version_minor": 0
      },
      "text/plain": [
       "A Jupyter Widget"
      ]
     },
     "metadata": {},
     "output_type": "display_data"
    },
    {
     "name": "stdout",
     "output_type": "stream",
     "text": [
      "\n"
     ]
    },
    {
     "data": {
      "application/vnd.jupyter.widget-view+json": {
       "model_id": "ee454e78db3a41a8968fc0233f17ee5f",
       "version_major": 2,
       "version_minor": 0
      },
      "text/plain": [
       "A Jupyter Widget"
      ]
     },
     "metadata": {},
     "output_type": "display_data"
    },
    {
     "name": "stdout",
     "output_type": "stream",
     "text": [
      "\n"
     ]
    },
    {
     "data": {
      "application/vnd.jupyter.widget-view+json": {
       "model_id": "146221a4435f4fca8bc9babfeeef19ad",
       "version_major": 2,
       "version_minor": 0
      },
      "text/plain": [
       "A Jupyter Widget"
      ]
     },
     "metadata": {},
     "output_type": "display_data"
    },
    {
     "name": "stdout",
     "output_type": "stream",
     "text": [
      "\n"
     ]
    },
    {
     "data": {
      "application/vnd.jupyter.widget-view+json": {
       "model_id": "a62409ddedba4ffe95b7b9eb38ec1059",
       "version_major": 2,
       "version_minor": 0
      },
      "text/plain": [
       "A Jupyter Widget"
      ]
     },
     "metadata": {},
     "output_type": "display_data"
    },
    {
     "name": "stdout",
     "output_type": "stream",
     "text": [
      "\n"
     ]
    },
    {
     "data": {
      "application/vnd.jupyter.widget-view+json": {
       "model_id": "6fab6981b2d24d1abe8473274f9dafe6",
       "version_major": 2,
       "version_minor": 0
      },
      "text/plain": [
       "A Jupyter Widget"
      ]
     },
     "metadata": {},
     "output_type": "display_data"
    },
    {
     "name": "stdout",
     "output_type": "stream",
     "text": [
      "\n"
     ]
    },
    {
     "data": {
      "application/vnd.jupyter.widget-view+json": {
       "model_id": "a0e93ece389c46a69d7b2f239cb7659e",
       "version_major": 2,
       "version_minor": 0
      },
      "text/plain": [
       "A Jupyter Widget"
      ]
     },
     "metadata": {},
     "output_type": "display_data"
    },
    {
     "name": "stdout",
     "output_type": "stream",
     "text": [
      "\n",
      "http://mo.wikipedia.org/wiki/%D0%A3%D0%BD%D0%B8%D1%83%D0%BD%D1%8F_%D0%A1%D0%BE%D0%B2%D0%B8%D0%B5%D1%82%D0%B8%D0%BA%D1%8D\n",
      "http://mo.wikipedia.org/wiki/%D0%95%D1%81%D1%82%D0%BE%D0%BD%D0%B8%D1%8F\n",
      "http://mo.wikipedia.org/wiki/%D0%9B%D0%B5%D1%82%D0%BE%D0%BD%D0%B8%D1%8F\n",
      "http://mo.wikipedia.org/wiki/%D0%9B%D0%B8%D1%82%D1%83%D0%B0%D0%BD%D0%B8%D1%8F\n",
      "http://mo.wikipedia.org/wiki/%D0%A3%D0%BD%D0%B8%D1%83%D0%BD%D1%8F_%D0%A1%D0%BE%D0%B2%D0%B8%D0%B5%D1%82%D0%B8%D0%BA%D1%8D\n",
      "http://mo.wikipedia.org/wiki/%D0%90%D1%80%D0%BC%D0%B5%D0%BD%D0%B8%D1%8F\n",
      "http://mo.wikipedia.org/wiki/%D0%90%D0%B7%D0%B5%D1%80%D0%B1%D0%B0%D0%B8%D3%82%D0%B0%D0%BD\n",
      "http://mo.wikipedia.org/wiki/%D0%91%D0%B5%D0%BB%D0%B0%D1%80%D1%83%D1%81\n",
      "http://mo.wikipedia.org/wiki/%D0%9A%D0%B0%D0%B7%D0%B0%D1%85%D1%81%D1%82%D0%B0%D0%BD\n",
      "http://mo.wikipedia.org/wiki/%D0%9A%D1%8B%D1%80%D0%B3%D1%8B%D0%B7%D1%81%D1%82%D0%B0%D0%BD\n",
      "http://mo.wikipedia.org/wiki/%D0%A0%D0%B5%D0%BF%D1%83%D0%B1%D0%BB%D0%B8%D0%BA%D0%B0_%D0%9C%D0%BE%D0%BB%D0%B4%D0%BE%D0%B2%D0%B0\n",
      "http://mo.wikipedia.org/wiki/%D0%A0%D1%83%D1%81%D0%B8%D1%8F\n",
      "http://mo.wikipedia.org/wiki/%D0%A2%D0%B0%D3%82%D0%B8%D0%BA%D0%B8%D1%81%D1%82%D0%B0%D0%BD\n",
      "http://mo.wikipedia.org/wiki/%D0%A2%D1%83%D1%80%D0%BA%D0%BC%D0%B5%D0%BD%D0%B8%D1%81%D1%82%D0%B0%D0%BD\n",
      "http://mo.wikipedia.org/wiki/%D0%A3%D0%BA%D1%80%D0%B0%D0%B8%D0%BD%D0%B0\n",
      "http://mo.wikipedia.org/wiki/%D0%A3%D0%B7%D0%B1%D0%B5%D0%BA%D0%B8%D1%81%D1%82%D0%B0%D0%BD\n",
      "http://mo.wikipedia.org/wiki/%D3%81%D0%B5%D0%BE%D1%80%D3%82%D0%B8%D1%8F\n",
      "http://mo.wikipedia.org/wiki/%D3%81%D0%B5%D0%BE%D1%80%D3%82%D0%B8%D1%8F\n",
      "http://mo.wikipedia.org/wiki/%D0%A3%D0%BA%D1%80%D0%B0%D0%B8%D0%BD%D0%B0\n",
      "http://mo.wikipedia.org/wiki/%D0%A0%D0%B5%D0%BF%D1%83%D0%B1%D0%BB%D0%B8%D0%BA%D0%B0_%D0%9C%D0%BE%D0%BB%D0%B4%D0%BE%D0%B2%D0%B0\n",
      "http://mo.wikipedia.org/wiki/%D0%A3%D0%B7%D0%B1%D0%B5%D0%BA%D0%B8%D1%81%D1%82%D0%B0%D0%BD\n",
      "http://mo.wikipedia.org/wiki/%D0%90%D1%80%D0%BC%D0%B5%D0%BD%D0%B8%D1%8F\n",
      "http://mo.wikipedia.org/wiki/%D0%90%D0%B7%D0%B5%D1%80%D0%B1%D0%B0%D0%B8%D3%82%D0%B0%D0%BD\n",
      "http://mo.wikipedia.org/wiki/%D0%91%D0%B5%D0%BB%D0%B0%D1%80%D1%83%D1%81\n",
      "http://mo.wikipedia.org/wiki/%D3%81%D0%B5%D0%BE%D1%80%D3%82%D0%B8%D1%8F\n",
      "http://mo.wikipedia.org/wiki/%D0%9A%D0%B0%D0%B7%D0%B0%D1%85%D1%81%D1%82%D0%B0%D0%BD\n",
      "http://mo.wikipedia.org/wiki/%D0%9A%D1%8B%D1%80%D0%B3%D1%8B%D0%B7%D1%81%D1%82%D0%B0%D0%BD\n",
      "http://mo.wikipedia.org/wiki/%D0%A0%D0%B5%D0%BF%D1%83%D0%B1%D0%BB%D0%B8%D0%BA%D0%B0_%D0%9C%D0%BE%D0%BB%D0%B4%D0%BE%D0%B2%D0%B0\n",
      "http://mo.wikipedia.org/wiki/%D0%A0%D1%83%D1%81%D0%B8%D1%8F\n",
      "http://mo.wikipedia.org/wiki/%D0%A2%D0%B0%D3%82%D0%B8%D0%BA%D0%B8%D1%81%D1%82%D0%B0%D0%BD\n",
      "http://mo.wikipedia.org/wiki/%D0%A2%D1%83%D1%80%D0%BA%D0%BC%D0%B5%D0%BD%D0%B8%D1%81%D1%82%D0%B0%D0%BD\n",
      "http://mo.wikipedia.org/wiki/%D0%A3%D0%BA%D1%80%D0%B0%D0%B8%D0%BD%D0%B0\n",
      "http://mo.wikipedia.org/wiki/%D0%A3%D0%B7%D0%B1%D0%B5%D0%BA%D0%B8%D1%81%D1%82%D0%B0%D0%BD\n",
      "http://mo.wikipedia.org/wiki/%D0%9A%D0%BE%D0%BC%D1%83%D0%BD%D0%B8%D1%82%D0%B0%D1%82%D1%8F_%D0%A1%D1%82%D0%B0%D1%82%D0%B5%D0%BB%D0%BE%D1%80_%D0%98%D0%BD%D0%B4%D0%B5%D0%BF%D0%B5%D0%BD%D0%B4%D0%B5%D0%BD%D1%82%D0%B5\n",
      "http://mo.wikipedia.org/wiki/%D0%9A%D0%BE%D0%BC%D1%83%D0%BD%D0%B8%D1%82%D0%B0%D1%82%D1%8F_%D0%A1%D1%82%D0%B0%D1%82%D0%B5%D0%BB%D0%BE%D1%80_%D0%98%D0%BD%D0%B4%D0%B5%D0%BF%D0%B5%D0%BD%D0%B4%D0%B5%D0%BD%D1%82%D0%B5\n",
      "http://mo.wikipedia.org/wiki/%D0%9F%D0%B0%D3%82%D0%B8%D0%BD%D0%B0_%D0%BF%D1%80%D0%B8%D0%BD%D1%87%D0%B8%D0%BF%D0%B0%D0%BB%D1%8D\n",
      "http://mo.wikipedia.org/wiki/%D0%9F%D0%B0%D3%82%D0%B8%D0%BD%D0%B0_%D0%BF%D1%80%D0%B8%D0%BD%D1%87%D0%B8%D0%BF%D0%B0%D0%BB%D1%8D\n"
     ]
    },
    {
     "data": {
      "application/vnd.jupyter.widget-view+json": {
       "model_id": "247c27689a3d4613b7225c82f042c881",
       "version_major": 2,
       "version_minor": 0
      },
      "text/plain": [
       "A Jupyter Widget"
      ]
     },
     "metadata": {},
     "output_type": "display_data"
    },
    {
     "name": "stdout",
     "output_type": "stream",
     "text": [
      "\n"
     ]
    },
    {
     "data": {
      "application/vnd.jupyter.widget-view+json": {
       "model_id": "71f81bd0bfac49ada2d364765c5ebd36",
       "version_major": 2,
       "version_minor": 0
      },
      "text/plain": [
       "A Jupyter Widget"
      ]
     },
     "metadata": {},
     "output_type": "display_data"
    },
    {
     "name": "stdout",
     "output_type": "stream",
     "text": [
      "\n"
     ]
    },
    {
     "data": {
      "application/vnd.jupyter.widget-view+json": {
       "model_id": "6053f1bbc5d74b55991bbdf3d5ee7ff2",
       "version_major": 2,
       "version_minor": 0
      },
      "text/plain": [
       "A Jupyter Widget"
      ]
     },
     "metadata": {},
     "output_type": "display_data"
    },
    {
     "name": "stdout",
     "output_type": "stream",
     "text": [
      "\n"
     ]
    },
    {
     "data": {
      "application/vnd.jupyter.widget-view+json": {
       "model_id": "0f6321a7790843a2b9d45493105b10cb",
       "version_major": 2,
       "version_minor": 0
      },
      "text/plain": [
       "A Jupyter Widget"
      ]
     },
     "metadata": {},
     "output_type": "display_data"
    },
    {
     "name": "stdout",
     "output_type": "stream",
     "text": [
      "\n"
     ]
    },
    {
     "data": {
      "application/vnd.jupyter.widget-view+json": {
       "model_id": "f1dd3be19c124c559313305004bf3f2e",
       "version_major": 2,
       "version_minor": 0
      },
      "text/plain": [
       "A Jupyter Widget"
      ]
     },
     "metadata": {},
     "output_type": "display_data"
    },
    {
     "name": "stdout",
     "output_type": "stream",
     "text": [
      "\n"
     ]
    },
    {
     "data": {
      "application/vnd.jupyter.widget-view+json": {
       "model_id": "ac9a22c19e534aacae543274e41c2a2c",
       "version_major": 2,
       "version_minor": 0
      },
      "text/plain": [
       "A Jupyter Widget"
      ]
     },
     "metadata": {},
     "output_type": "display_data"
    },
    {
     "name": "stdout",
     "output_type": "stream",
     "text": [
      "\n"
     ]
    },
    {
     "data": {
      "application/vnd.jupyter.widget-view+json": {
       "model_id": "d4d26e1c97484220863a871223fbee42",
       "version_major": 2,
       "version_minor": 0
      },
      "text/plain": [
       "A Jupyter Widget"
      ]
     },
     "metadata": {},
     "output_type": "display_data"
    },
    {
     "name": "stdout",
     "output_type": "stream",
     "text": [
      "\n"
     ]
    },
    {
     "data": {
      "application/vnd.jupyter.widget-view+json": {
       "model_id": "02bad75cbd584d429522421b84db4116",
       "version_major": 2,
       "version_minor": 0
      },
      "text/plain": [
       "A Jupyter Widget"
      ]
     },
     "metadata": {},
     "output_type": "display_data"
    },
    {
     "name": "stdout",
     "output_type": "stream",
     "text": [
      "\n"
     ]
    },
    {
     "data": {
      "application/vnd.jupyter.widget-view+json": {
       "model_id": "4323fb17fe544ae09a1ddacf6589d8ff",
       "version_major": 2,
       "version_minor": 0
      },
      "text/plain": [
       "A Jupyter Widget"
      ]
     },
     "metadata": {},
     "output_type": "display_data"
    },
    {
     "name": "stdout",
     "output_type": "stream",
     "text": [
      "\n"
     ]
    },
    {
     "data": {
      "application/vnd.jupyter.widget-view+json": {
       "model_id": "5e646cd5c66c45fdbfef561afda3298b",
       "version_major": 2,
       "version_minor": 0
      },
      "text/plain": [
       "A Jupyter Widget"
      ]
     },
     "metadata": {},
     "output_type": "display_data"
    },
    {
     "name": "stdout",
     "output_type": "stream",
     "text": [
      "\n"
     ]
    },
    {
     "data": {
      "application/vnd.jupyter.widget-view+json": {
       "model_id": "283396c04b7f4aac8d54e1ebcb28ad5f",
       "version_major": 2,
       "version_minor": 0
      },
      "text/plain": [
       "A Jupyter Widget"
      ]
     },
     "metadata": {},
     "output_type": "display_data"
    },
    {
     "name": "stdout",
     "output_type": "stream",
     "text": [
      "\n"
     ]
    },
    {
     "data": {
      "application/vnd.jupyter.widget-view+json": {
       "model_id": "0d79a79a7b504e7f93ef8b03c159c012",
       "version_major": 2,
       "version_minor": 0
      },
      "text/plain": [
       "A Jupyter Widget"
      ]
     },
     "metadata": {},
     "output_type": "display_data"
    },
    {
     "name": "stdout",
     "output_type": "stream",
     "text": [
      "\n"
     ]
    },
    {
     "data": {
      "application/vnd.jupyter.widget-view+json": {
       "model_id": "c999b2b78f7e417fadf22b0328677e1b",
       "version_major": 2,
       "version_minor": 0
      },
      "text/plain": [
       "A Jupyter Widget"
      ]
     },
     "metadata": {},
     "output_type": "display_data"
    },
    {
     "name": "stdout",
     "output_type": "stream",
     "text": [
      "\n"
     ]
    },
    {
     "data": {
      "application/vnd.jupyter.widget-view+json": {
       "model_id": "12a963e173b6440d9837ea4d62e89748",
       "version_major": 2,
       "version_minor": 0
      },
      "text/plain": [
       "A Jupyter Widget"
      ]
     },
     "metadata": {},
     "output_type": "display_data"
    },
    {
     "name": "stdout",
     "output_type": "stream",
     "text": [
      "\n"
     ]
    },
    {
     "data": {
      "application/vnd.jupyter.widget-view+json": {
       "model_id": "af70dd56156d4c38a2be2711c4706b7b",
       "version_major": 2,
       "version_minor": 0
      },
      "text/plain": [
       "A Jupyter Widget"
      ]
     },
     "metadata": {},
     "output_type": "display_data"
    },
    {
     "name": "stdout",
     "output_type": "stream",
     "text": [
      "\n"
     ]
    },
    {
     "data": {
      "application/vnd.jupyter.widget-view+json": {
       "model_id": "5d282dd990b14cf8984cfe5c0a160796",
       "version_major": 2,
       "version_minor": 0
      },
      "text/plain": [
       "A Jupyter Widget"
      ]
     },
     "metadata": {},
     "output_type": "display_data"
    },
    {
     "name": "stdout",
     "output_type": "stream",
     "text": [
      "\n"
     ]
    },
    {
     "data": {
      "application/vnd.jupyter.widget-view+json": {
       "model_id": "d5b51ec89c994267b19a968e0e5a6203",
       "version_major": 2,
       "version_minor": 0
      },
      "text/plain": [
       "A Jupyter Widget"
      ]
     },
     "metadata": {},
     "output_type": "display_data"
    },
    {
     "name": "stdout",
     "output_type": "stream",
     "text": [
      "\n"
     ]
    },
    {
     "data": {
      "application/vnd.jupyter.widget-view+json": {
       "model_id": "5e44fe2e0d844598be4f316817e66eee",
       "version_major": 2,
       "version_minor": 0
      },
      "text/plain": [
       "A Jupyter Widget"
      ]
     },
     "metadata": {},
     "output_type": "display_data"
    },
    {
     "name": "stdout",
     "output_type": "stream",
     "text": [
      "\n"
     ]
    },
    {
     "data": {
      "application/vnd.jupyter.widget-view+json": {
       "model_id": "cd93307ea9cf47938ce50cb31711b443",
       "version_major": 2,
       "version_minor": 0
      },
      "text/plain": [
       "A Jupyter Widget"
      ]
     },
     "metadata": {},
     "output_type": "display_data"
    },
    {
     "name": "stdout",
     "output_type": "stream",
     "text": [
      "\n"
     ]
    },
    {
     "data": {
      "application/vnd.jupyter.widget-view+json": {
       "model_id": "b30e2fb4fc2d4bf89d6a3e03f6e3d878",
       "version_major": 2,
       "version_minor": 0
      },
      "text/plain": [
       "A Jupyter Widget"
      ]
     },
     "metadata": {},
     "output_type": "display_data"
    },
    {
     "name": "stdout",
     "output_type": "stream",
     "text": [
      "\n"
     ]
    },
    {
     "data": {
      "application/vnd.jupyter.widget-view+json": {
       "model_id": "bb8ac3106c7b4b2c9c69cb678f9921b6",
       "version_major": 2,
       "version_minor": 0
      },
      "text/plain": [
       "A Jupyter Widget"
      ]
     },
     "metadata": {},
     "output_type": "display_data"
    },
    {
     "name": "stdout",
     "output_type": "stream",
     "text": [
      "\n"
     ]
    },
    {
     "data": {
      "application/vnd.jupyter.widget-view+json": {
       "model_id": "698a3cfcb5644cbb91bdc2af901e2caf",
       "version_major": 2,
       "version_minor": 0
      },
      "text/plain": [
       "A Jupyter Widget"
      ]
     },
     "metadata": {},
     "output_type": "display_data"
    },
    {
     "name": "stdout",
     "output_type": "stream",
     "text": [
      "\n"
     ]
    },
    {
     "data": {
      "application/vnd.jupyter.widget-view+json": {
       "model_id": "ec646c6498734f409461f00fa1e54e3c",
       "version_major": 2,
       "version_minor": 0
      },
      "text/plain": [
       "A Jupyter Widget"
      ]
     },
     "metadata": {},
     "output_type": "display_data"
    },
    {
     "name": "stdout",
     "output_type": "stream",
     "text": [
      "\n"
     ]
    },
    {
     "data": {
      "application/vnd.jupyter.widget-view+json": {
       "model_id": "2c453ccbf70f4a8dbf23e61d5cf882fd",
       "version_major": 2,
       "version_minor": 0
      },
      "text/plain": [
       "A Jupyter Widget"
      ]
     },
     "metadata": {},
     "output_type": "display_data"
    },
    {
     "name": "stdout",
     "output_type": "stream",
     "text": [
      "\n"
     ]
    },
    {
     "data": {
      "application/vnd.jupyter.widget-view+json": {
       "model_id": "326b4a4c88bf48f7a3ccb37c1e09b0de",
       "version_major": 2,
       "version_minor": 0
      },
      "text/plain": [
       "A Jupyter Widget"
      ]
     },
     "metadata": {},
     "output_type": "display_data"
    },
    {
     "name": "stdout",
     "output_type": "stream",
     "text": [
      "\n"
     ]
    },
    {
     "data": {
      "application/vnd.jupyter.widget-view+json": {
       "model_id": "46affe1e6679463ebc3b80e46f0a216b",
       "version_major": 2,
       "version_minor": 0
      },
      "text/plain": [
       "A Jupyter Widget"
      ]
     },
     "metadata": {},
     "output_type": "display_data"
    },
    {
     "name": "stdout",
     "output_type": "stream",
     "text": [
      "\n"
     ]
    },
    {
     "data": {
      "application/vnd.jupyter.widget-view+json": {
       "model_id": "109f3a8339f4438488280007cc0a7047",
       "version_major": 2,
       "version_minor": 0
      },
      "text/plain": [
       "A Jupyter Widget"
      ]
     },
     "metadata": {},
     "output_type": "display_data"
    },
    {
     "name": "stdout",
     "output_type": "stream",
     "text": [
      "\n"
     ]
    },
    {
     "data": {
      "application/vnd.jupyter.widget-view+json": {
       "model_id": "5f70530f0d8a414d8cfab3373a48995c",
       "version_major": 2,
       "version_minor": 0
      },
      "text/plain": [
       "A Jupyter Widget"
      ]
     },
     "metadata": {},
     "output_type": "display_data"
    },
    {
     "name": "stdout",
     "output_type": "stream",
     "text": [
      "\n"
     ]
    },
    {
     "data": {
      "application/vnd.jupyter.widget-view+json": {
       "model_id": "76cecbf463ac434aa948af92779601d9",
       "version_major": 2,
       "version_minor": 0
      },
      "text/plain": [
       "A Jupyter Widget"
      ]
     },
     "metadata": {},
     "output_type": "display_data"
    },
    {
     "name": "stdout",
     "output_type": "stream",
     "text": [
      "\n"
     ]
    },
    {
     "data": {
      "application/vnd.jupyter.widget-view+json": {
       "model_id": "b15bdbfb1dc54c809c0e9790279fabd7",
       "version_major": 2,
       "version_minor": 0
      },
      "text/plain": [
       "A Jupyter Widget"
      ]
     },
     "metadata": {},
     "output_type": "display_data"
    },
    {
     "name": "stdout",
     "output_type": "stream",
     "text": [
      "\n"
     ]
    },
    {
     "data": {
      "application/vnd.jupyter.widget-view+json": {
       "model_id": "e682c0d27bca4f0bb2eb303552cc5a13",
       "version_major": 2,
       "version_minor": 0
      },
      "text/plain": [
       "A Jupyter Widget"
      ]
     },
     "metadata": {},
     "output_type": "display_data"
    },
    {
     "name": "stdout",
     "output_type": "stream",
     "text": [
      "\n"
     ]
    },
    {
     "data": {
      "application/vnd.jupyter.widget-view+json": {
       "model_id": "bb2f3922c2034a19bdef9e4d006df9b0",
       "version_major": 2,
       "version_minor": 0
      },
      "text/plain": [
       "A Jupyter Widget"
      ]
     },
     "metadata": {},
     "output_type": "display_data"
    },
    {
     "name": "stdout",
     "output_type": "stream",
     "text": [
      "\n"
     ]
    },
    {
     "data": {
      "application/vnd.jupyter.widget-view+json": {
       "model_id": "adfdcc9ec3634ac4a503cd57a3c44663",
       "version_major": 2,
       "version_minor": 0
      },
      "text/plain": [
       "A Jupyter Widget"
      ]
     },
     "metadata": {},
     "output_type": "display_data"
    },
    {
     "name": "stdout",
     "output_type": "stream",
     "text": [
      "\n"
     ]
    },
    {
     "data": {
      "application/vnd.jupyter.widget-view+json": {
       "model_id": "cf39342c89124f32a4f524efca1c29a3",
       "version_major": 2,
       "version_minor": 0
      },
      "text/plain": [
       "A Jupyter Widget"
      ]
     },
     "metadata": {},
     "output_type": "display_data"
    },
    {
     "name": "stdout",
     "output_type": "stream",
     "text": [
      "\n",
      "http://mo.wikipedia.org/wiki/%D0%9B%D0%B8%D0%BC%D0%B1%D1%8D_%D0%BE%D1%84%D0%B8%D1%87%D0%B8%D0%B0%D0%BB%D1%8D\n",
      "http://mo.wikipedia.org/wiki/%D0%9A%D0%B0%D0%BF%D0%B8%D1%82%D0%B0%D0%BB%D1%8D\n",
      "http://mo.wikipedia.org/wiki/%D0%92%D0%B8%D0%BB%D1%8C%D0%BD%D1%8E%D1%81\n",
      "http://mo.wikipedia.org/wiki/%D0%A1%D0%B8%D1%81%D1%82%D0%B5%D0%BC_%D0%BF%D0%BE%D0%BB%D0%B8%D1%82%D0%B8%D0%BA\n",
      "http://mo.wikipedia.org/wiki/%D0%A1%D1%83%D0%BF%D1%80%D0%B0%D1%84%D0%B0%D1%86%D1%8D\n",
      "http://mo.wikipedia.org/wiki/%D0%9F%D0%BE%D0%BF%D1%83%D0%BB%D0%B0%D1%86%D0%B8%D0%B5\n",
      "http://mo.wikipedia.org/wiki/%D0%94%D0%B5%D0%BD%D1%81%D0%B8%D1%82%D0%B0%D1%82%D1%8F_%D0%BF%D0%BE%D0%BF%D1%83%D0%BB%D0%B0%D1%86%D0%B8%D0%B5%D0%B9\n",
      "http://mo.wikipedia.org/wiki/%D0%9F%D1%80%D0%BE%D0%B4%D1%83%D1%81_%D0%B8%D0%BD%D1%82%D0%B5%D1%80%D0%BD_%D0%B1%D1%80%D1%83%D1%82\n",
      "http://mo.wikipedia.org/wiki/%D0%9C%D0%BE%D0%BD%D0%B5%D0%B4%D1%8D\n",
      "http://mo.wikipedia.org/wiki/%D0%A4%D1%83%D1%81_%D0%BE%D1%80%D0%B0%D1%80\n",
      "http://mo.wikipedia.org/wiki/%D0%98%D0%BC%D0%BD_%D0%BD%D0%B0%D1%86%D0%B8%D0%BE%D0%BD%D0%B0%D0%BB\n",
      "http://mo.wikipedia.org/wiki/%D0%94%D0%BE%D0%BC%D0%B5%D0%BD%D0%B8%D1%83_%D0%BD%D0%B0%D1%86%D0%B8%D0%BE%D0%BD%D0%B0%D0%BB_%D0%B4%D0%B5_%D0%BD%D0%B8%D0%B2%D0%B5%D0%BB_%D1%81%D1%83%D0%BF%D0%B5%D1%80%D0%B8%D0%BE%D1%80\n",
      "http://mo.wikipedia.org/wiki/2004\n",
      "http://mo.wikipedia.org/wiki/1918\n",
      "http://mo.wikipedia.org/wiki/1991\n",
      "http://mo.wikipedia.org/wiki/%D0%95%D1%83%D1%80%D0%BE%D0%BF%D0%B0\n",
      "http://mo.wikipedia.org/wiki/%D0%92%D0%B8%D0%BB%D1%8C%D0%BD%D1%8E%D1%81\n",
      "http://mo.wikipedia.org/wiki/%D0%9B%D0%B5%D1%82%D0%BE%D0%BD%D0%B8%D1%8F\n",
      "http://mo.wikipedia.org/wiki/%D0%9F%D0%BE%D0%BB%D0%BE%D0%BD%D0%B8%D1%8F\n",
      "http://mo.wikipedia.org/wiki/%D0%91%D0%B5%D0%BB%D0%B0%D1%80%D1%83%D1%81\n",
      "http://mo.wikipedia.org/wiki/%D0%A0%D1%83%D1%81%D0%B8%D1%8F\n",
      "http://mo.wikipedia.org/wiki/%D0%92%D0%B8%D0%BB%D1%8C%D0%BD%D1%8E%D1%81\n",
      "http://mo.wikipedia.org/wiki/%D0%9A%D0%BB%D0%B0%D0%B9%D0%BF%D0%B5%D0%B4%D0%B0\n",
      "http://mo.wikipedia.org/wiki/%D0%A8%D1%8F%D1%83%D0%BB%D1%8F%D0%B9\n",
      "http://mo.wikipedia.org/wiki/%D0%9B%D0%B8%D1%82%D1%83%D0%B0%D0%BD%D0%B8%D1%8F\n",
      "http://mo.wikipedia.org/wiki/%D0%9B%D0%B8%D1%82%D1%83%D0%B0%D0%BD%D0%B8%D1%8F\n",
      "http://mo.wikipedia.org/wiki/%D0%9F%D0%B0%D3%82%D0%B8%D0%BD%D0%B0_%D0%BF%D1%80%D0%B8%D0%BD%D1%87%D0%B8%D0%BF%D0%B0%D0%BB%D1%8D\n",
      "http://mo.wikipedia.org/wiki/%D0%9F%D0%B0%D3%82%D0%B8%D0%BD%D0%B0_%D0%BF%D1%80%D0%B8%D0%BD%D1%87%D0%B8%D0%BF%D0%B0%D0%BB%D1%8D\n"
     ]
    },
    {
     "data": {
      "application/vnd.jupyter.widget-view+json": {
       "model_id": "69b8aeb58ff740338a21a0eb75168925",
       "version_major": 2,
       "version_minor": 0
      },
      "text/plain": [
       "A Jupyter Widget"
      ]
     },
     "metadata": {},
     "output_type": "display_data"
    },
    {
     "name": "stdout",
     "output_type": "stream",
     "text": [
      "\n"
     ]
    },
    {
     "data": {
      "application/vnd.jupyter.widget-view+json": {
       "model_id": "37669cb12ad941a7ae0e523d5923a974",
       "version_major": 2,
       "version_minor": 0
      },
      "text/plain": [
       "A Jupyter Widget"
      ]
     },
     "metadata": {},
     "output_type": "display_data"
    },
    {
     "name": "stdout",
     "output_type": "stream",
     "text": [
      "\n"
     ]
    },
    {
     "data": {
      "application/vnd.jupyter.widget-view+json": {
       "model_id": "efcd5690b6914d2aa118e7f062a59d85",
       "version_major": 2,
       "version_minor": 0
      },
      "text/plain": [
       "A Jupyter Widget"
      ]
     },
     "metadata": {},
     "output_type": "display_data"
    },
    {
     "name": "stdout",
     "output_type": "stream",
     "text": [
      "\n"
     ]
    },
    {
     "data": {
      "application/vnd.jupyter.widget-view+json": {
       "model_id": "9b99b54a4b5d4b22914d3cc099517c96",
       "version_major": 2,
       "version_minor": 0
      },
      "text/plain": [
       "A Jupyter Widget"
      ]
     },
     "metadata": {},
     "output_type": "display_data"
    },
    {
     "name": "stdout",
     "output_type": "stream",
     "text": [
      "\n"
     ]
    },
    {
     "data": {
      "application/vnd.jupyter.widget-view+json": {
       "model_id": "6a9b63dd93a641158f713636da75293f",
       "version_major": 2,
       "version_minor": 0
      },
      "text/plain": [
       "A Jupyter Widget"
      ]
     },
     "metadata": {},
     "output_type": "display_data"
    },
    {
     "name": "stdout",
     "output_type": "stream",
     "text": [
      "\n",
      "http://mo.wikipedia.org/wiki/%D0%96%D1%83%D0%B4%D0%B5%D1%86%D1%83%D0%BB_%D0%A8%D1%8F%D1%83%D0%BB%D1%8F%D0%B9\n",
      "http://mo.wikipedia.org/wiki/%D0%9B%D0%B8%D1%82%D1%83%D0%B0%D0%BD%D0%B8%D1%8F\n",
      "http://mo.wikipedia.org/wiki/%D0%A8%D1%8F%D1%83%D0%BB%D1%8F%D0%B9\n",
      "http://mo.wikipedia.org/wiki/%D0%A8%D1%8F%D1%83%D0%BB%D1%8F%D0%B9\n",
      "http://mo.wikipedia.org/wiki/%D0%9F%D0%B0%D3%82%D0%B8%D0%BD%D0%B0_%D0%BF%D1%80%D0%B8%D0%BD%D1%87%D0%B8%D0%BF%D0%B0%D0%BB%D1%8D\n",
      "http://mo.wikipedia.org/wiki/%D0%9F%D0%B0%D3%82%D0%B8%D0%BD%D0%B0_%D0%BF%D1%80%D0%B8%D0%BD%D1%87%D0%B8%D0%BF%D0%B0%D0%BB%D1%8D\n"
     ]
    },
    {
     "data": {
      "application/vnd.jupyter.widget-view+json": {
       "model_id": "7636ab1bc1a443ee9e6ccc44fa520edc",
       "version_major": 2,
       "version_minor": 0
      },
      "text/plain": [
       "A Jupyter Widget"
      ]
     },
     "metadata": {},
     "output_type": "display_data"
    },
    {
     "name": "stdout",
     "output_type": "stream",
     "text": [
      "\n"
     ]
    },
    {
     "data": {
      "application/vnd.jupyter.widget-view+json": {
       "model_id": "cee1add2135b49a0939e4cdb7c46d345",
       "version_major": 2,
       "version_minor": 0
      },
      "text/plain": [
       "A Jupyter Widget"
      ]
     },
     "metadata": {},
     "output_type": "display_data"
    },
    {
     "name": "stdout",
     "output_type": "stream",
     "text": [
      "\n"
     ]
    },
    {
     "data": {
      "application/vnd.jupyter.widget-view+json": {
       "model_id": "72ebaf06b4d9473b8df6e4800ae90e41",
       "version_major": 2,
       "version_minor": 0
      },
      "text/plain": [
       "A Jupyter Widget"
      ]
     },
     "metadata": {},
     "output_type": "display_data"
    },
    {
     "name": "stdout",
     "output_type": "stream",
     "text": [
      "\n"
     ]
    },
    {
     "data": {
      "application/vnd.jupyter.widget-view+json": {
       "model_id": "237ce5b410f5401cb9f161dbb33d26c8",
       "version_major": 2,
       "version_minor": 0
      },
      "text/plain": [
       "A Jupyter Widget"
      ]
     },
     "metadata": {},
     "output_type": "display_data"
    },
    {
     "name": "stdout",
     "output_type": "stream",
     "text": [
      "\n"
     ]
    },
    {
     "data": {
      "application/vnd.jupyter.widget-view+json": {
       "model_id": "ceabbd4586d245eaa58af4202617d5be",
       "version_major": 2,
       "version_minor": 0
      },
      "text/plain": [
       "A Jupyter Widget"
      ]
     },
     "metadata": {},
     "output_type": "display_data"
    },
    {
     "name": "stdout",
     "output_type": "stream",
     "text": [
      "\n"
     ]
    },
    {
     "data": {
      "application/vnd.jupyter.widget-view+json": {
       "model_id": "a34eca3b713740f9bc4d858589764477",
       "version_major": 2,
       "version_minor": 0
      },
      "text/plain": [
       "A Jupyter Widget"
      ]
     },
     "metadata": {},
     "output_type": "display_data"
    },
    {
     "name": "stdout",
     "output_type": "stream",
     "text": [
      "\n",
      "http://mo.wikipedia.org/wiki/%D0%A8%D1%8F%D1%83%D0%BB%D1%8F%D0%B9\n",
      "http://mo.wikipedia.org/wiki/2001\n",
      "http://mo.wikipedia.org/wiki/%D0%9B%D0%B8%D1%82%D1%83%D0%B0%D0%BD%D0%B8%D1%8F\n",
      "http://mo.wikipedia.org/wiki/%D0%96%D1%83%D0%B4%D0%B5%D1%86%D1%83%D0%BB_%D0%A8%D1%8F%D1%83%D0%BB%D1%8F%D0%B9\n",
      "http://mo.wikipedia.org/wiki/%D0%96%D1%83%D0%B4%D0%B5%D1%86%D1%83%D0%BB_%D0%A8%D1%8F%D1%83%D0%BB%D1%8F%D0%B9\n",
      "http://mo.wikipedia.org/wiki/%D0%9F%D0%B0%D3%82%D0%B8%D0%BD%D0%B0_%D0%BF%D1%80%D0%B8%D0%BD%D1%87%D0%B8%D0%BF%D0%B0%D0%BB%D1%8D\n",
      "http://mo.wikipedia.org/wiki/%D0%9F%D0%B0%D3%82%D0%B8%D0%BD%D0%B0_%D0%BF%D1%80%D0%B8%D0%BD%D1%87%D0%B8%D0%BF%D0%B0%D0%BB%D1%8D\n"
     ]
    },
    {
     "data": {
      "application/vnd.jupyter.widget-view+json": {
       "model_id": "65cfeeb1f13a47198c1a3043d37f6e3d",
       "version_major": 2,
       "version_minor": 0
      },
      "text/plain": [
       "A Jupyter Widget"
      ]
     },
     "metadata": {},
     "output_type": "display_data"
    },
    {
     "name": "stdout",
     "output_type": "stream",
     "text": [
      "\n"
     ]
    },
    {
     "data": {
      "application/vnd.jupyter.widget-view+json": {
       "model_id": "61491f7931cc43d49d5ae40a9a1f1b3d",
       "version_major": 2,
       "version_minor": 0
      },
      "text/plain": [
       "A Jupyter Widget"
      ]
     },
     "metadata": {},
     "output_type": "display_data"
    },
    {
     "name": "stdout",
     "output_type": "stream",
     "text": [
      "\n"
     ]
    },
    {
     "data": {
      "application/vnd.jupyter.widget-view+json": {
       "model_id": "d98722d1888148ae90e7f3e37e6ab5e9",
       "version_major": 2,
       "version_minor": 0
      },
      "text/plain": [
       "A Jupyter Widget"
      ]
     },
     "metadata": {},
     "output_type": "display_data"
    },
    {
     "name": "stdout",
     "output_type": "stream",
     "text": [
      "\n"
     ]
    },
    {
     "data": {
      "application/vnd.jupyter.widget-view+json": {
       "model_id": "d548df489f5a4db39efabdd2c6b9bcb6",
       "version_major": 2,
       "version_minor": 0
      },
      "text/plain": [
       "A Jupyter Widget"
      ]
     },
     "metadata": {},
     "output_type": "display_data"
    },
    {
     "name": "stdout",
     "output_type": "stream",
     "text": [
      "\n"
     ]
    },
    {
     "data": {
      "application/vnd.jupyter.widget-view+json": {
       "model_id": "06c4b47c4138494aa7e638d4e749bb74",
       "version_major": 2,
       "version_minor": 0
      },
      "text/plain": [
       "A Jupyter Widget"
      ]
     },
     "metadata": {},
     "output_type": "display_data"
    },
    {
     "name": "stdout",
     "output_type": "stream",
     "text": [
      "\n"
     ]
    },
    {
     "data": {
      "application/vnd.jupyter.widget-view+json": {
       "model_id": "7a15071b80ef472a9c82498ddc77cfe7",
       "version_major": 2,
       "version_minor": 0
      },
      "text/plain": [
       "A Jupyter Widget"
      ]
     },
     "metadata": {},
     "output_type": "display_data"
    },
    {
     "name": "stdout",
     "output_type": "stream",
     "text": [
      "\n",
      "http://mo.wikipedia.org/wiki/1998\n",
      "http://mo.wikipedia.org/wiki/1999\n",
      "http://mo.wikipedia.org/wiki/2000\n",
      "http://mo.wikipedia.org/wiki/2002\n",
      "http://mo.wikipedia.org/wiki/2003\n",
      "http://mo.wikipedia.org/wiki/2004\n",
      "http://mo.wikipedia.org/wiki/1998\n",
      "http://mo.wikipedia.org/wiki/1999\n",
      "http://mo.wikipedia.org/wiki/2000\n",
      "http://mo.wikipedia.org/wiki/2002\n",
      "http://mo.wikipedia.org/wiki/2003\n",
      "http://mo.wikipedia.org/wiki/2004\n",
      "http://mo.wikipedia.org/wiki/%D0%90%D0%BD%D0%B8%D0%B9_1970\n",
      "http://mo.wikipedia.org/wiki/2001\n",
      "http://mo.wikipedia.org/wiki/2001\n",
      "http://mo.wikipedia.org/wiki/%D0%9F%D0%B0%D3%82%D0%B8%D0%BD%D0%B0_%D0%BF%D1%80%D0%B8%D0%BD%D1%87%D0%B8%D0%BF%D0%B0%D0%BB%D1%8D\n",
      "http://mo.wikipedia.org/wiki/%D0%9F%D0%B0%D3%82%D0%B8%D0%BD%D0%B0_%D0%BF%D1%80%D0%B8%D0%BD%D1%87%D0%B8%D0%BF%D0%B0%D0%BB%D1%8D\n"
     ]
    },
    {
     "data": {
      "application/vnd.jupyter.widget-view+json": {
       "model_id": "6e073942aa4a4053b1cb1757c37c6871",
       "version_major": 2,
       "version_minor": 0
      },
      "text/plain": [
       "A Jupyter Widget"
      ]
     },
     "metadata": {},
     "output_type": "display_data"
    },
    {
     "name": "stdout",
     "output_type": "stream",
     "text": [
      "\n"
     ]
    },
    {
     "data": {
      "application/vnd.jupyter.widget-view+json": {
       "model_id": "58327a531ce444d6aebf09d30f1b830c",
       "version_major": 2,
       "version_minor": 0
      },
      "text/plain": [
       "A Jupyter Widget"
      ]
     },
     "metadata": {},
     "output_type": "display_data"
    },
    {
     "name": "stdout",
     "output_type": "stream",
     "text": [
      "\n"
     ]
    },
    {
     "data": {
      "application/vnd.jupyter.widget-view+json": {
       "model_id": "a699709244d744c4a32345cf7b4f78a5",
       "version_major": 2,
       "version_minor": 0
      },
      "text/plain": [
       "A Jupyter Widget"
      ]
     },
     "metadata": {},
     "output_type": "display_data"
    },
    {
     "name": "stdout",
     "output_type": "stream",
     "text": [
      "\n"
     ]
    },
    {
     "data": {
      "application/vnd.jupyter.widget-view+json": {
       "model_id": "351e95208b7e4c1b9a8f830667e34247",
       "version_major": 2,
       "version_minor": 0
      },
      "text/plain": [
       "A Jupyter Widget"
      ]
     },
     "metadata": {},
     "output_type": "display_data"
    },
    {
     "name": "stdout",
     "output_type": "stream",
     "text": [
      "\n"
     ]
    },
    {
     "data": {
      "application/vnd.jupyter.widget-view+json": {
       "model_id": "644184df080340ffab3b4399086a03da",
       "version_major": 2,
       "version_minor": 0
      },
      "text/plain": [
       "A Jupyter Widget"
      ]
     },
     "metadata": {},
     "output_type": "display_data"
    },
    {
     "name": "stdout",
     "output_type": "stream",
     "text": [
      "\n"
     ]
    },
    {
     "data": {
      "application/vnd.jupyter.widget-view+json": {
       "model_id": "ae804922dab942d9a0cdd392018b3e42",
       "version_major": 2,
       "version_minor": 0
      },
      "text/plain": [
       "A Jupyter Widget"
      ]
     },
     "metadata": {},
     "output_type": "display_data"
    },
    {
     "name": "stdout",
     "output_type": "stream",
     "text": [
      "\n",
      "http://mo.wikipedia.org/wiki/2001\n",
      "http://mo.wikipedia.org/wiki/2002\n",
      "http://mo.wikipedia.org/wiki/2003\n",
      "http://mo.wikipedia.org/wiki/2005\n",
      "http://mo.wikipedia.org/wiki/2006\n",
      "http://mo.wikipedia.org/wiki/2007\n",
      "http://mo.wikipedia.org/wiki/2001\n",
      "http://mo.wikipedia.org/wiki/2002\n",
      "http://mo.wikipedia.org/wiki/2003\n",
      "http://mo.wikipedia.org/wiki/2005\n",
      "http://mo.wikipedia.org/wiki/2006\n",
      "http://mo.wikipedia.org/wiki/2007\n",
      "http://mo.wikipedia.org/wiki/%D0%90%D0%BD%D0%B8%D0%B9_1970\n",
      "http://mo.wikipedia.org/wiki/2004\n",
      "http://mo.wikipedia.org/wiki/2004\n",
      "http://mo.wikipedia.org/wiki/%D0%9F%D0%B0%D3%82%D0%B8%D0%BD%D0%B0_%D0%BF%D1%80%D0%B8%D0%BD%D1%87%D0%B8%D0%BF%D0%B0%D0%BB%D1%8D\n",
      "http://mo.wikipedia.org/wiki/%D0%9F%D0%B0%D3%82%D0%B8%D0%BD%D0%B0_%D0%BF%D1%80%D0%B8%D0%BD%D1%87%D0%B8%D0%BF%D0%B0%D0%BB%D1%8D\n"
     ]
    },
    {
     "data": {
      "application/vnd.jupyter.widget-view+json": {
       "model_id": "855ecefbc23c4d6f91bbcd3fd353b359",
       "version_major": 2,
       "version_minor": 0
      },
      "text/plain": [
       "A Jupyter Widget"
      ]
     },
     "metadata": {},
     "output_type": "display_data"
    },
    {
     "name": "stdout",
     "output_type": "stream",
     "text": [
      "\n"
     ]
    },
    {
     "data": {
      "application/vnd.jupyter.widget-view+json": {
       "model_id": "8a42204c16b346a09933e0ab9acf65a4",
       "version_major": 2,
       "version_minor": 0
      },
      "text/plain": [
       "A Jupyter Widget"
      ]
     },
     "metadata": {},
     "output_type": "display_data"
    },
    {
     "name": "stdout",
     "output_type": "stream",
     "text": [
      "\n"
     ]
    },
    {
     "data": {
      "application/vnd.jupyter.widget-view+json": {
       "model_id": "ba7a9ae831704493a22c96f8705cbdb9",
       "version_major": 2,
       "version_minor": 0
      },
      "text/plain": [
       "A Jupyter Widget"
      ]
     },
     "metadata": {},
     "output_type": "display_data"
    },
    {
     "name": "stdout",
     "output_type": "stream",
     "text": [
      "\n"
     ]
    },
    {
     "data": {
      "application/vnd.jupyter.widget-view+json": {
       "model_id": "3973c8989849412d8557c7e900aaac26",
       "version_major": 2,
       "version_minor": 0
      },
      "text/plain": [
       "A Jupyter Widget"
      ]
     },
     "metadata": {},
     "output_type": "display_data"
    },
    {
     "name": "stdout",
     "output_type": "stream",
     "text": [
      "\n"
     ]
    },
    {
     "data": {
      "application/vnd.jupyter.widget-view+json": {
       "model_id": "6b987714f0ff4088a30dd92c169668ee",
       "version_major": 2,
       "version_minor": 0
      },
      "text/plain": [
       "A Jupyter Widget"
      ]
     },
     "metadata": {},
     "output_type": "display_data"
    },
    {
     "name": "stdout",
     "output_type": "stream",
     "text": [
      "\n"
     ]
    },
    {
     "data": {
      "application/vnd.jupyter.widget-view+json": {
       "model_id": "fb5de1270d63449fbbe0377ad3f0d0dc",
       "version_major": 2,
       "version_minor": 0
      },
      "text/plain": [
       "A Jupyter Widget"
      ]
     },
     "metadata": {},
     "output_type": "display_data"
    },
    {
     "name": "stdout",
     "output_type": "stream",
     "text": [
      "\n"
     ]
    },
    {
     "data": {
      "application/vnd.jupyter.widget-view+json": {
       "model_id": "740b856e348b497abc8f11e747196e3e",
       "version_major": 2,
       "version_minor": 0
      },
      "text/plain": [
       "A Jupyter Widget"
      ]
     },
     "metadata": {},
     "output_type": "display_data"
    },
    {
     "name": "stdout",
     "output_type": "stream",
     "text": [
      "\n"
     ]
    },
    {
     "data": {
      "application/vnd.jupyter.widget-view+json": {
       "model_id": "c101f41487964e2f8aaa0979b31b8be7",
       "version_major": 2,
       "version_minor": 0
      },
      "text/plain": [
       "A Jupyter Widget"
      ]
     },
     "metadata": {},
     "output_type": "display_data"
    },
    {
     "name": "stdout",
     "output_type": "stream",
     "text": [
      "\n"
     ]
    },
    {
     "data": {
      "application/vnd.jupyter.widget-view+json": {
       "model_id": "66eca9efdf384ee68614580b74a925ff",
       "version_major": 2,
       "version_minor": 0
      },
      "text/plain": [
       "A Jupyter Widget"
      ]
     },
     "metadata": {},
     "output_type": "display_data"
    },
    {
     "name": "stdout",
     "output_type": "stream",
     "text": [
      "\n"
     ]
    },
    {
     "data": {
      "application/vnd.jupyter.widget-view+json": {
       "model_id": "cc0be44014ed4ac2b13fdb897515cd3b",
       "version_major": 2,
       "version_minor": 0
      },
      "text/plain": [
       "A Jupyter Widget"
      ]
     },
     "metadata": {},
     "output_type": "display_data"
    },
    {
     "name": "stdout",
     "output_type": "stream",
     "text": [
      "\n",
      "http://mo.wikipedia.org/wiki/1999\n",
      "http://mo.wikipedia.org/wiki/2000\n",
      "http://mo.wikipedia.org/wiki/2001\n",
      "http://mo.wikipedia.org/wiki/2003\n",
      "http://mo.wikipedia.org/wiki/2004\n",
      "http://mo.wikipedia.org/wiki/2005\n",
      "http://mo.wikipedia.org/wiki/1999\n",
      "http://mo.wikipedia.org/wiki/2000\n",
      "http://mo.wikipedia.org/wiki/2001\n",
      "http://mo.wikipedia.org/wiki/2003\n",
      "http://mo.wikipedia.org/wiki/2004\n",
      "http://mo.wikipedia.org/wiki/2005\n",
      "http://mo.wikipedia.org/wiki/%D0%90%D0%BD%D0%B8%D0%B9_1970\n",
      "http://mo.wikipedia.org/wiki/%D0%A3%D0%BD%D0%B8%D1%83%D0%BD%D1%8F_%D0%95%D1%83%D1%80%D0%BE%D0%BF%D1%8F%D0%BD%D1%8D\n",
      "http://mo.wikipedia.org/wiki/%D0%A0%D0%BE%D0%BC%D1%8B%D0%BD%D0%B8%D1%8F\n",
      "http://mo.wikipedia.org/wiki/%D0%A2%D0%B0%D0%BB%D0%B8%D0%BD\n",
      "http://mo.wikipedia.org/wiki/%D0%95%D1%81%D1%82%D0%BE%D0%BD%D0%B8%D1%8F\n",
      "http://mo.wikipedia.org/wiki/%D0%91%D1%83%D0%BB%D0%B3%D0%B0%D1%80%D0%B8%D1%8F\n",
      "http://mo.wikipedia.org/wiki/%D0%95%D1%81%D1%82%D0%BE%D0%BD%D0%B8%D1%8F\n",
      "http://mo.wikipedia.org/wiki/%D0%9B%D0%B5%D1%82%D0%BE%D0%BD%D0%B8%D1%8F\n",
      "http://mo.wikipedia.org/wiki/%D0%9B%D0%B8%D1%82%D1%83%D0%B0%D0%BD%D0%B8%D1%8F\n",
      "http://mo.wikipedia.org/wiki/%D0%A0%D0%BE%D0%BC%D1%8B%D0%BD%D0%B8%D1%8F\n",
      "http://mo.wikipedia.org/wiki/2004\n",
      "http://mo.wikipedia.org/wiki/2002\n",
      "http://mo.wikipedia.org/wiki/2002\n",
      "http://mo.wikipedia.org/wiki/%D0%9F%D0%B0%D3%82%D0%B8%D0%BD%D0%B0_%D0%BF%D1%80%D0%B8%D0%BD%D1%87%D0%B8%D0%BF%D0%B0%D0%BB%D1%8D\n",
      "http://mo.wikipedia.org/wiki/%D0%9F%D0%B0%D3%82%D0%B8%D0%BD%D0%B0_%D0%BF%D1%80%D0%B8%D0%BD%D1%87%D0%B8%D0%BF%D0%B0%D0%BB%D1%8D\n"
     ]
    },
    {
     "data": {
      "application/vnd.jupyter.widget-view+json": {
       "model_id": "2cae21d03865470e96bc5ffd006d2d83",
       "version_major": 2,
       "version_minor": 0
      },
      "text/plain": [
       "A Jupyter Widget"
      ]
     },
     "metadata": {},
     "output_type": "display_data"
    },
    {
     "name": "stdout",
     "output_type": "stream",
     "text": [
      "\n"
     ]
    },
    {
     "data": {
      "application/vnd.jupyter.widget-view+json": {
       "model_id": "894d1549919a4a9eb9f2278c2807f8a9",
       "version_major": 2,
       "version_minor": 0
      },
      "text/plain": [
       "A Jupyter Widget"
      ]
     },
     "metadata": {},
     "output_type": "display_data"
    },
    {
     "name": "stdout",
     "output_type": "stream",
     "text": [
      "\n"
     ]
    },
    {
     "data": {
      "application/vnd.jupyter.widget-view+json": {
       "model_id": "b098cf7755c24eb3bcbecda3ad4302a3",
       "version_major": 2,
       "version_minor": 0
      },
      "text/plain": [
       "A Jupyter Widget"
      ]
     },
     "metadata": {},
     "output_type": "display_data"
    },
    {
     "name": "stdout",
     "output_type": "stream",
     "text": [
      "\n"
     ]
    },
    {
     "data": {
      "application/vnd.jupyter.widget-view+json": {
       "model_id": "b52bd2b62d9345c2bfd32ce22d138d94",
       "version_major": 2,
       "version_minor": 0
      },
      "text/plain": [
       "A Jupyter Widget"
      ]
     },
     "metadata": {},
     "output_type": "display_data"
    },
    {
     "name": "stdout",
     "output_type": "stream",
     "text": [
      "\n"
     ]
    },
    {
     "data": {
      "application/vnd.jupyter.widget-view+json": {
       "model_id": "c3ac58a03b694ff48565f91dc0b23f2e",
       "version_major": 2,
       "version_minor": 0
      },
      "text/plain": [
       "A Jupyter Widget"
      ]
     },
     "metadata": {},
     "output_type": "display_data"
    },
    {
     "name": "stdout",
     "output_type": "stream",
     "text": [
      "\n"
     ]
    },
    {
     "data": {
      "application/vnd.jupyter.widget-view+json": {
       "model_id": "f4f1746cb56b4befa83b43531a0c258e",
       "version_major": 2,
       "version_minor": 0
      },
      "text/plain": [
       "A Jupyter Widget"
      ]
     },
     "metadata": {},
     "output_type": "display_data"
    },
    {
     "name": "stdout",
     "output_type": "stream",
     "text": [
      "\n",
      "http://mo.wikipedia.org/wiki/%D0%95%D1%83%D1%80%D0%BE%D0%BF%D0%B0\n",
      "http://mo.wikipedia.org/wiki/%D0%A3%D0%BD%D0%B3%D0%B0%D1%80%D0%B8%D1%8F\n",
      "http://mo.wikipedia.org/wiki/%D0%91%D1%83%D0%BB%D0%B3%D0%B0%D1%80%D0%B8%D1%8F\n",
      "http://mo.wikipedia.org/wiki/%D0%A3%D0%BA%D1%80%D0%B0%D0%B8%D0%BD%D0%B0\n",
      "http://mo.wikipedia.org/wiki/%D0%A1%D0%B5%D1%80%D0%B1%D0%B8%D1%8F\n",
      "http://mo.wikipedia.org/wiki/%D0%9C%D0%BE%D0%BB%D0%B4%D0%BE%D0%B2%D0%B0\n",
      "http://mo.wikipedia.org/wiki/%D0%9F%D1%80%D1%83%D1%82\n",
      "http://mo.wikipedia.org/wiki/%D0%A0%D0%BE%D0%BC%D1%8B%D0%BD%D0%B8%D1%8F\n",
      "http://mo.wikipedia.org/wiki/%D0%A0%D0%BE%D0%BC%D1%8B%D0%BD%D0%B8%D1%8F\n",
      "http://mo.wikipedia.org/wiki/%D0%9F%D0%B0%D3%82%D0%B8%D0%BD%D0%B0_%D0%BF%D1%80%D0%B8%D0%BD%D1%87%D0%B8%D0%BF%D0%B0%D0%BB%D1%8D\n",
      "http://mo.wikipedia.org/wiki/%D0%9F%D0%B0%D3%82%D0%B8%D0%BD%D0%B0_%D0%BF%D1%80%D0%B8%D0%BD%D1%87%D0%B8%D0%BF%D0%B0%D0%BB%D1%8D\n"
     ]
    },
    {
     "data": {
      "application/vnd.jupyter.widget-view+json": {
       "model_id": "cd076681e8f641e8aaa83348027a4006",
       "version_major": 2,
       "version_minor": 0
      },
      "text/plain": [
       "A Jupyter Widget"
      ]
     },
     "metadata": {},
     "output_type": "display_data"
    },
    {
     "name": "stdout",
     "output_type": "stream",
     "text": [
      "\n"
     ]
    },
    {
     "data": {
      "application/vnd.jupyter.widget-view+json": {
       "model_id": "d809e4f60505417583957478d9ab1ef5",
       "version_major": 2,
       "version_minor": 0
      },
      "text/plain": [
       "A Jupyter Widget"
      ]
     },
     "metadata": {},
     "output_type": "display_data"
    },
    {
     "name": "stdout",
     "output_type": "stream",
     "text": [
      "\n"
     ]
    },
    {
     "data": {
      "application/vnd.jupyter.widget-view+json": {
       "model_id": "85ad07ebbb0045f19abc6e730769be39",
       "version_major": 2,
       "version_minor": 0
      },
      "text/plain": [
       "A Jupyter Widget"
      ]
     },
     "metadata": {},
     "output_type": "display_data"
    },
    {
     "name": "stdout",
     "output_type": "stream",
     "text": [
      "\n"
     ]
    },
    {
     "data": {
      "application/vnd.jupyter.widget-view+json": {
       "model_id": "7e9357ca05234c50bd24171bd3393862",
       "version_major": 2,
       "version_minor": 0
      },
      "text/plain": [
       "A Jupyter Widget"
      ]
     },
     "metadata": {},
     "output_type": "display_data"
    },
    {
     "name": "stdout",
     "output_type": "stream",
     "text": [
      "\n"
     ]
    },
    {
     "data": {
      "application/vnd.jupyter.widget-view+json": {
       "model_id": "6f0468b62f104cf2bc6f245db10c7fea",
       "version_major": 2,
       "version_minor": 0
      },
      "text/plain": [
       "A Jupyter Widget"
      ]
     },
     "metadata": {},
     "output_type": "display_data"
    },
    {
     "name": "stdout",
     "output_type": "stream",
     "text": [
      "\n",
      "http://mo.wikipedia.org/wiki/%D0%9A%D0%B8%D0%BB%D0%BE%D0%BC%D0%B5%D1%82%D1%80%D1%83_%D0%BF%D1%8D%D1%82%D1%80%D0%B0%D1%82\n",
      "http://mo.wikipedia.org/wiki/%D0%A3%D0%BA%D1%80%D0%B0%D0%B8%D0%BD%D0%B0\n",
      "http://mo.wikipedia.org/wiki/%D0%94%D1%83%D0%BD%D1%8D%D1%80%D0%B5\n",
      "http://mo.wikipedia.org/wiki/%D0%A0%D0%B5%D0%BD%D1%8C\n",
      "http://mo.wikipedia.org/wiki/%D0%A0%D0%BE%D0%BC%D1%8B%D0%BD%D0%B8%D1%8F\n",
      "http://mo.wikipedia.org/wiki/%D0%A0%D0%B5%D0%BF%D1%83%D0%B1%D0%BB%D0%B8%D0%BA%D0%B0_%D0%9C%D0%BE%D0%BB%D0%B4%D0%BE%D0%B2%D0%B0\n",
      "http://mo.wikipedia.org/wiki/%D0%A7%D0%B5%D1%80%D0%BD%D1%8D%D1%83%D1%86%D1%8C\n",
      "http://mo.wikipedia.org/wiki/%D0%A3%D0%BA%D1%80%D0%B0%D0%B8%D0%BD%D0%B0\n",
      "http://mo.wikipedia.org/wiki/%D0%A0%D0%BE%D0%BC%D1%8B%D0%BD%D0%B8%D1%8F\n",
      "http://mo.wikipedia.org/wiki/%D0%A3%D0%BD%D0%B3%D0%B5%D0%BD%D1%8C\n",
      "http://mo.wikipedia.org/wiki/%D0%9A%D0%B0%D1%85%D1%83%D0%BB\n",
      "http://mo.wikipedia.org/wiki/%D0%9C%D0%BE%D0%BB%D0%B4%D0%BE%D0%B2%D0%B0\n",
      "http://mo.wikipedia.org/wiki/%D0%9F%D1%80%D1%83%D1%82\n",
      "http://mo.wikipedia.org/wiki/%D0%9F%D1%80%D1%83%D1%82\n",
      "http://mo.wikipedia.org/wiki/%D0%9F%D0%B0%D3%82%D0%B8%D0%BD%D0%B0_%D0%BF%D1%80%D0%B8%D0%BD%D1%87%D0%B8%D0%BF%D0%B0%D0%BB%D1%8D\n",
      "http://mo.wikipedia.org/wiki/%D0%9F%D0%B0%D3%82%D0%B8%D0%BD%D0%B0_%D0%BF%D1%80%D0%B8%D0%BD%D1%87%D0%B8%D0%BF%D0%B0%D0%BB%D1%8D\n"
     ]
    },
    {
     "data": {
      "application/vnd.jupyter.widget-view+json": {
       "model_id": "953705939c364f8f93e27b0bba15420e",
       "version_major": 2,
       "version_minor": 0
      },
      "text/plain": [
       "A Jupyter Widget"
      ]
     },
     "metadata": {},
     "output_type": "display_data"
    },
    {
     "name": "stdout",
     "output_type": "stream",
     "text": [
      "\n"
     ]
    },
    {
     "data": {
      "application/vnd.jupyter.widget-view+json": {
       "model_id": "8b98f6a06c62410eae30b780ef21d028",
       "version_major": 2,
       "version_minor": 0
      },
      "text/plain": [
       "A Jupyter Widget"
      ]
     },
     "metadata": {},
     "output_type": "display_data"
    },
    {
     "name": "stdout",
     "output_type": "stream",
     "text": [
      "\n"
     ]
    },
    {
     "data": {
      "application/vnd.jupyter.widget-view+json": {
       "model_id": "055790f13d9d43ae8f0af37efc228d74",
       "version_major": 2,
       "version_minor": 0
      },
      "text/plain": [
       "A Jupyter Widget"
      ]
     },
     "metadata": {},
     "output_type": "display_data"
    },
    {
     "name": "stdout",
     "output_type": "stream",
     "text": [
      "\n"
     ]
    },
    {
     "data": {
      "application/vnd.jupyter.widget-view+json": {
       "model_id": "b38a5617f8cd445b9d8a35741bf09c8e",
       "version_major": 2,
       "version_minor": 0
      },
      "text/plain": [
       "A Jupyter Widget"
      ]
     },
     "metadata": {},
     "output_type": "display_data"
    },
    {
     "name": "stdout",
     "output_type": "stream",
     "text": [
      "\n"
     ]
    },
    {
     "data": {
      "application/vnd.jupyter.widget-view+json": {
       "model_id": "7e89df8a0de640069785d0456a340755",
       "version_major": 2,
       "version_minor": 0
      },
      "text/plain": [
       "A Jupyter Widget"
      ]
     },
     "metadata": {},
     "output_type": "display_data"
    },
    {
     "name": "stdout",
     "output_type": "stream",
     "text": [
      "\n"
     ]
    },
    {
     "data": {
      "application/vnd.jupyter.widget-view+json": {
       "model_id": "5a153cb9d9c24c6e8cfa848b4eb8c5a1",
       "version_major": 2,
       "version_minor": 0
      },
      "text/plain": [
       "A Jupyter Widget"
      ]
     },
     "metadata": {},
     "output_type": "display_data"
    },
    {
     "name": "stdout",
     "output_type": "stream",
     "text": [
      "\n",
      "http://mo.wikipedia.org/wiki/%D0%A0%D0%B5%D0%BF%D1%83%D0%B1%D0%BB%D0%B8%D0%BA%D0%B0_%D0%9C%D0%BE%D0%BB%D0%B4%D0%BE%D0%B2%D0%B0\n",
      "http://mo.wikipedia.org/wiki/%D0%9F%D1%80%D1%83%D1%82\n",
      "http://mo.wikipedia.org/wiki/%D0%9A%D0%B0%D1%85%D1%83%D0%BB\n",
      "http://mo.wikipedia.org/wiki/%D0%9A%D0%B0%D1%85%D1%83%D0%BB\n",
      "http://mo.wikipedia.org/wiki/%D0%9F%D0%B0%D3%82%D0%B8%D0%BD%D0%B0_%D0%BF%D1%80%D0%B8%D0%BD%D1%87%D0%B8%D0%BF%D0%B0%D0%BB%D1%8D\n",
      "http://mo.wikipedia.org/wiki/%D0%9F%D0%B0%D3%82%D0%B8%D0%BD%D0%B0_%D0%BF%D1%80%D0%B8%D0%BD%D1%87%D0%B8%D0%BF%D0%B0%D0%BB%D1%8D\n"
     ]
    },
    {
     "data": {
      "application/vnd.jupyter.widget-view+json": {
       "model_id": "8c2a02cb41464c2ead6789e4a575b439",
       "version_major": 2,
       "version_minor": 0
      },
      "text/plain": [
       "A Jupyter Widget"
      ]
     },
     "metadata": {},
     "output_type": "display_data"
    },
    {
     "name": "stdout",
     "output_type": "stream",
     "text": [
      "\n"
     ]
    },
    {
     "data": {
      "application/vnd.jupyter.widget-view+json": {
       "model_id": "5dec1ddb96804d71a33ffc66689add5b",
       "version_major": 2,
       "version_minor": 0
      },
      "text/plain": [
       "A Jupyter Widget"
      ]
     },
     "metadata": {},
     "output_type": "display_data"
    },
    {
     "name": "stdout",
     "output_type": "stream",
     "text": [
      "\n"
     ]
    },
    {
     "data": {
      "application/vnd.jupyter.widget-view+json": {
       "model_id": "bd0526fe507f444a9a0f2cd4de2916d1",
       "version_major": 2,
       "version_minor": 0
      },
      "text/plain": [
       "A Jupyter Widget"
      ]
     },
     "metadata": {},
     "output_type": "display_data"
    },
    {
     "name": "stdout",
     "output_type": "stream",
     "text": [
      "\n"
     ]
    },
    {
     "data": {
      "application/vnd.jupyter.widget-view+json": {
       "model_id": "d6902e6b5b914eaaa8ec03fba17ae4d6",
       "version_major": 2,
       "version_minor": 0
      },
      "text/plain": [
       "A Jupyter Widget"
      ]
     },
     "metadata": {},
     "output_type": "display_data"
    },
    {
     "name": "stdout",
     "output_type": "stream",
     "text": [
      "\n"
     ]
    },
    {
     "data": {
      "application/vnd.jupyter.widget-view+json": {
       "model_id": "19cab4eff0b34437ac6897fd352f8b7e",
       "version_major": 2,
       "version_minor": 0
      },
      "text/plain": [
       "A Jupyter Widget"
      ]
     },
     "metadata": {},
     "output_type": "display_data"
    },
    {
     "name": "stdout",
     "output_type": "stream",
     "text": [
      "\n"
     ]
    },
    {
     "data": {
      "application/vnd.jupyter.widget-view+json": {
       "model_id": "a868e0fcec734808ba34f84bbb34e61a",
       "version_major": 2,
       "version_minor": 0
      },
      "text/plain": [
       "A Jupyter Widget"
      ]
     },
     "metadata": {},
     "output_type": "display_data"
    },
    {
     "name": "stdout",
     "output_type": "stream",
     "text": [
      "\n"
     ]
    },
    {
     "data": {
      "application/vnd.jupyter.widget-view+json": {
       "model_id": "3a374e92406a41dfa11cbcae8903828f",
       "version_major": 2,
       "version_minor": 0
      },
      "text/plain": [
       "A Jupyter Widget"
      ]
     },
     "metadata": {},
     "output_type": "display_data"
    },
    {
     "name": "stdout",
     "output_type": "stream",
     "text": [
      "\n",
      "http://mo.wikipedia.org/wiki/%D0%A0%D0%B5%D0%BF%D1%83%D0%B1%D0%BB%D0%B8%D0%BA%D0%B0_%D0%9C%D0%BE%D0%BB%D0%B4%D0%BE%D0%B2%D0%B0\n",
      "http://mo.wikipedia.org/wiki/%D0%9B%D0%B8%D1%81%D1%82%D1%8D_%D0%B4%D0%B5_%D0%BE%D1%80%D0%B0%D1%88%D0%B5_%D0%B4%D0%B8%D0%BD_%D0%A0%D0%B5%D0%BF%D1%83%D0%B1%D0%BB%D0%B8%D0%BA%D0%B0_%D0%9C%D0%BE%D0%BB%D0%B4%D0%BE%D0%B2%D0%B0\n",
      "http://mo.wikipedia.org/wiki/%D0%A3%D0%BD%D0%B3%D0%B5%D0%BD%D1%8C\n",
      "http://mo.wikipedia.org/wiki/%D0%A3%D0%BD%D0%B3%D0%B5%D0%BD%D1%8C\n",
      "http://mo.wikipedia.org/wiki/%D0%9F%D0%B0%D3%82%D0%B8%D0%BD%D0%B0_%D0%BF%D1%80%D0%B8%D0%BD%D1%87%D0%B8%D0%BF%D0%B0%D0%BB%D1%8D\n",
      "http://mo.wikipedia.org/wiki/%D0%9F%D0%B0%D3%82%D0%B8%D0%BD%D0%B0_%D0%BF%D1%80%D0%B8%D0%BD%D1%87%D0%B8%D0%BF%D0%B0%D0%BB%D1%8D\n"
     ]
    },
    {
     "data": {
      "application/vnd.jupyter.widget-view+json": {
       "model_id": "5735f65f353f4f1b8f1a9b47e413c1ec",
       "version_major": 2,
       "version_minor": 0
      },
      "text/plain": [
       "A Jupyter Widget"
      ]
     },
     "metadata": {},
     "output_type": "display_data"
    },
    {
     "name": "stdout",
     "output_type": "stream",
     "text": [
      "\n"
     ]
    },
    {
     "data": {
      "application/vnd.jupyter.widget-view+json": {
       "model_id": "86923c0a7c34485a86d66941f3060379",
       "version_major": 2,
       "version_minor": 0
      },
      "text/plain": [
       "A Jupyter Widget"
      ]
     },
     "metadata": {},
     "output_type": "display_data"
    },
    {
     "name": "stdout",
     "output_type": "stream",
     "text": [
      "\n"
     ]
    },
    {
     "data": {
      "application/vnd.jupyter.widget-view+json": {
       "model_id": "b4bcf2487a464ff0823e0f15baf4a404",
       "version_major": 2,
       "version_minor": 0
      },
      "text/plain": [
       "A Jupyter Widget"
      ]
     },
     "metadata": {},
     "output_type": "display_data"
    },
    {
     "name": "stdout",
     "output_type": "stream",
     "text": [
      "\n"
     ]
    },
    {
     "data": {
      "application/vnd.jupyter.widget-view+json": {
       "model_id": "c5d05a9c9c4944db834c14a04400fbf3",
       "version_major": 2,
       "version_minor": 0
      },
      "text/plain": [
       "A Jupyter Widget"
      ]
     },
     "metadata": {},
     "output_type": "display_data"
    },
    {
     "name": "stdout",
     "output_type": "stream",
     "text": [
      "\n"
     ]
    },
    {
     "data": {
      "application/vnd.jupyter.widget-view+json": {
       "model_id": "7f303b109c9c4d829d912d35c8090630",
       "version_major": 2,
       "version_minor": 0
      },
      "text/plain": [
       "A Jupyter Widget"
      ]
     },
     "metadata": {},
     "output_type": "display_data"
    },
    {
     "name": "stdout",
     "output_type": "stream",
     "text": [
      "\n",
      "http://mo.wikipedia.org/wiki/Republica_Moldova\n",
      "http://mo.wikipedia.org/wiki/Anenii_Noi\n",
      "http://mo.wikipedia.org/wiki/Chi%C5%9Fin%C4%83u\n",
      "http://mo.wikipedia.org/wiki/Ungheni\n",
      "http://mo.wikipedia.org/wiki/List%C4%83_de_ora%C5%9Fe_din_Republica_Moldova\n",
      "http://mo.wikipedia.org/wiki/List%C4%83_de_ora%C5%9Fe_din_Republica_Moldova\n",
      "http://mo.wikipedia.org/wiki/%D0%9F%D0%B0%D3%82%D0%B8%D0%BD%D0%B0_%D0%BF%D1%80%D0%B8%D0%BD%D1%87%D0%B8%D0%BF%D0%B0%D0%BB%D1%8D\n",
      "http://mo.wikipedia.org/wiki/%D0%9F%D0%B0%D3%82%D0%B8%D0%BD%D0%B0_%D0%BF%D1%80%D0%B8%D0%BD%D1%87%D0%B8%D0%BF%D0%B0%D0%BB%D1%8D\n"
     ]
    },
    {
     "data": {
      "application/vnd.jupyter.widget-view+json": {
       "model_id": "d404438cdffb440f992574a2b4c5edcf",
       "version_major": 2,
       "version_minor": 0
      },
      "text/plain": [
       "A Jupyter Widget"
      ]
     },
     "metadata": {},
     "output_type": "display_data"
    },
    {
     "name": "stdout",
     "output_type": "stream",
     "text": [
      "\n"
     ]
    },
    {
     "data": {
      "application/vnd.jupyter.widget-view+json": {
       "model_id": "f3cad8a146f64ebf97c2ae8a4bff0551",
       "version_major": 2,
       "version_minor": 0
      },
      "text/plain": [
       "A Jupyter Widget"
      ]
     },
     "metadata": {},
     "output_type": "display_data"
    },
    {
     "name": "stdout",
     "output_type": "stream",
     "text": [
      "\n"
     ]
    },
    {
     "data": {
      "application/vnd.jupyter.widget-view+json": {
       "model_id": "fcc6ecd715a24a3eaae6c526f492efed",
       "version_major": 2,
       "version_minor": 0
      },
      "text/plain": [
       "A Jupyter Widget"
      ]
     },
     "metadata": {},
     "output_type": "display_data"
    },
    {
     "name": "stdout",
     "output_type": "stream",
     "text": [
      "\n",
      "http://mo.wikipedia.org/wiki/Republica_Moldova\n",
      "http://mo.wikipedia.org/wiki/Anenii_Noi\n",
      "http://mo.wikipedia.org/wiki/Chi%C5%9Fin%C4%83u\n",
      "http://mo.wikipedia.org/wiki/Ungheni\n",
      "http://mo.wikipedia.org/wiki/List%C4%83_de_ora%C5%9Fe_din_Republica_Moldova\n",
      "http://mo.wikipedia.org/wiki/List%C4%83_de_ora%C5%9Fe_din_Republica_Moldova\n",
      "http://mo.wikipedia.org/wiki/%D0%9F%D0%B0%D3%82%D0%B8%D0%BD%D0%B0_%D0%BF%D1%80%D0%B8%D0%BD%D1%87%D0%B8%D0%BF%D0%B0%D0%BB%D1%8D\n",
      "http://mo.wikipedia.org/wiki/%D0%9F%D0%B0%D3%82%D0%B8%D0%BD%D0%B0_%D0%BF%D1%80%D0%B8%D0%BD%D1%87%D0%B8%D0%BF%D0%B0%D0%BB%D1%8D\n"
     ]
    },
    {
     "data": {
      "application/vnd.jupyter.widget-view+json": {
       "model_id": "dabb7a95e57b4384928a3eae8dc5883f",
       "version_major": 2,
       "version_minor": 0
      },
      "text/plain": [
       "A Jupyter Widget"
      ]
     },
     "metadata": {},
     "output_type": "display_data"
    },
    {
     "name": "stdout",
     "output_type": "stream",
     "text": [
      "\n"
     ]
    },
    {
     "data": {
      "application/vnd.jupyter.widget-view+json": {
       "model_id": "6365412b27dc4eb785531d6d6f96e33b",
       "version_major": 2,
       "version_minor": 0
      },
      "text/plain": [
       "A Jupyter Widget"
      ]
     },
     "metadata": {},
     "output_type": "display_data"
    },
    {
     "name": "stdout",
     "output_type": "stream",
     "text": [
      "\n"
     ]
    },
    {
     "data": {
      "application/vnd.jupyter.widget-view+json": {
       "model_id": "e1a49dbccc674295a4a9165821010fea",
       "version_major": 2,
       "version_minor": 0
      },
      "text/plain": [
       "A Jupyter Widget"
      ]
     },
     "metadata": {},
     "output_type": "display_data"
    },
    {
     "name": "stdout",
     "output_type": "stream",
     "text": [
      "\n"
     ]
    },
    {
     "data": {
      "application/vnd.jupyter.widget-view+json": {
       "model_id": "9240171b99474d3eb2d054a80e20fefe",
       "version_major": 2,
       "version_minor": 0
      },
      "text/plain": [
       "A Jupyter Widget"
      ]
     },
     "metadata": {},
     "output_type": "display_data"
    },
    {
     "name": "stdout",
     "output_type": "stream",
     "text": [
      "\n"
     ]
    },
    {
     "data": {
      "application/vnd.jupyter.widget-view+json": {
       "model_id": "6d3e08e6969f4de4ae8b8720783186ec",
       "version_major": 2,
       "version_minor": 0
      },
      "text/plain": [
       "A Jupyter Widget"
      ]
     },
     "metadata": {},
     "output_type": "display_data"
    },
    {
     "name": "stdout",
     "output_type": "stream",
     "text": [
      "\n",
      "http://mo.wikipedia.org/wiki/%D0%A0%D0%B5%D0%BF%D1%83%D0%B1%D0%BB%D0%B8%D0%BA%D0%B0_%D0%9C%D0%BE%D0%BB%D0%B4%D0%BE%D0%B2%D0%B0\n",
      "http://mo.wikipedia.org/wiki/%D0%9B%D0%B8%D1%81%D1%82%D1%8D_%D0%B4%D0%B5_%D0%BE%D1%80%D0%B0%D1%88%D0%B5_%D0%B4%D0%B8%D0%BD_%D0%A0%D0%B5%D0%BF%D1%83%D0%B1%D0%BB%D0%B8%D0%BA%D0%B0_%D0%9C%D0%BE%D0%BB%D0%B4%D0%BE%D0%B2%D0%B0\n",
      "http://mo.wikipedia.org/wiki/%D0%A3%D0%BD%D0%B3%D0%B5%D0%BD%D1%8C\n",
      "http://mo.wikipedia.org/wiki/%D0%A3%D0%BD%D0%B3%D0%B5%D0%BD%D1%8C\n",
      "http://mo.wikipedia.org/wiki/%D0%9F%D0%B0%D3%82%D0%B8%D0%BD%D0%B0_%D0%BF%D1%80%D0%B8%D0%BD%D1%87%D0%B8%D0%BF%D0%B0%D0%BB%D1%8D\n",
      "http://mo.wikipedia.org/wiki/%D0%9F%D0%B0%D3%82%D0%B8%D0%BD%D0%B0_%D0%BF%D1%80%D0%B8%D0%BD%D1%87%D0%B8%D0%BF%D0%B0%D0%BB%D1%8D\n"
     ]
    },
    {
     "data": {
      "application/vnd.jupyter.widget-view+json": {
       "model_id": "59d265ffec4f45cbabf45cfe97339e8e",
       "version_major": 2,
       "version_minor": 0
      },
      "text/plain": [
       "A Jupyter Widget"
      ]
     },
     "metadata": {},
     "output_type": "display_data"
    },
    {
     "name": "stdout",
     "output_type": "stream",
     "text": [
      "\n"
     ]
    },
    {
     "data": {
      "application/vnd.jupyter.widget-view+json": {
       "model_id": "0e60c4312d894e58b1591888f239d35d",
       "version_major": 2,
       "version_minor": 0
      },
      "text/plain": [
       "A Jupyter Widget"
      ]
     },
     "metadata": {},
     "output_type": "display_data"
    },
    {
     "name": "stdout",
     "output_type": "stream",
     "text": [
      "\n"
     ]
    },
    {
     "data": {
      "application/vnd.jupyter.widget-view+json": {
       "model_id": "fe1e72cd4fe343ebb65ed427a61396b7",
       "version_major": 2,
       "version_minor": 0
      },
      "text/plain": [
       "A Jupyter Widget"
      ]
     },
     "metadata": {},
     "output_type": "display_data"
    },
    {
     "name": "stdout",
     "output_type": "stream",
     "text": [
      "\n"
     ]
    },
    {
     "data": {
      "application/vnd.jupyter.widget-view+json": {
       "model_id": "45ca6c7b984f4d8e94a3f11c86791a37",
       "version_major": 2,
       "version_minor": 0
      },
      "text/plain": [
       "A Jupyter Widget"
      ]
     },
     "metadata": {},
     "output_type": "display_data"
    },
    {
     "name": "stdout",
     "output_type": "stream",
     "text": [
      "\n"
     ]
    },
    {
     "data": {
      "application/vnd.jupyter.widget-view+json": {
       "model_id": "6276401dc59143009e4cc1da7c251a4d",
       "version_major": 2,
       "version_minor": 0
      },
      "text/plain": [
       "A Jupyter Widget"
      ]
     },
     "metadata": {},
     "output_type": "display_data"
    },
    {
     "name": "stdout",
     "output_type": "stream",
     "text": [
      "\n"
     ]
    },
    {
     "data": {
      "application/vnd.jupyter.widget-view+json": {
       "model_id": "f83ddbf831fa4e03b8116f37a3140f96",
       "version_major": 2,
       "version_minor": 0
      },
      "text/plain": [
       "A Jupyter Widget"
      ]
     },
     "metadata": {},
     "output_type": "display_data"
    },
    {
     "name": "stdout",
     "output_type": "stream",
     "text": [
      "\n"
     ]
    },
    {
     "data": {
      "application/vnd.jupyter.widget-view+json": {
       "model_id": "2375642e1a92475589065ad484ae0ba4",
       "version_major": 2,
       "version_minor": 0
      },
      "text/plain": [
       "A Jupyter Widget"
      ]
     },
     "metadata": {},
     "output_type": "display_data"
    },
    {
     "name": "stdout",
     "output_type": "stream",
     "text": [
      "\n",
      "http://mo.wikipedia.org/wiki/%D0%A0%D0%B5%D0%BF%D1%83%D0%B1%D0%BB%D0%B8%D0%BA%D0%B0_%D0%9C%D0%BE%D0%BB%D0%B4%D0%BE%D0%B2%D0%B0\n",
      "http://mo.wikipedia.org/wiki/%D0%9C%D0%BE%D0%BB%D0%B4%D0%BE%D0%B2%D1%8F%D0%BD\n",
      "http://mo.wikipedia.org/wiki/%D0%A0%D1%83%D1%81%D0%B8%D1%8F\n",
      "http://mo.wikipedia.org/wiki/1918\n",
      "http://mo.wikipedia.org/wiki/1940\n",
      "http://mo.wikipedia.org/wiki/%D0%A3%D0%A0%D0%A1%D0%A1\n",
      "http://mo.wikipedia.org/wiki/1991\n",
      "http://mo.wikipedia.org/wiki/%D0%A0%D0%B5%D0%BF%D1%83%D0%B1%D0%BB%D0%B8%D0%BA%D0%B0_%D0%9C%D0%BE%D0%BB%D0%B4%D0%BE%D0%B2%D0%B0\n",
      "http://mo.wikipedia.org/wiki/%D0%A0%D0%B0%D0%B9%D0%BE%D0%B0%D0%BD%D0%B5%D0%BB%D0%B5_%D0%A0%D0%B5%D0%BF%D1%83%D0%B1%D0%BB%D0%B8%D1%87%D0%B8%D0%B9_%D0%9C%D0%BE%D0%BB%D0%B4%D0%BE%D0%B2%D0%B0\n",
      "http://mo.wikipedia.org/wiki/%D0%96%D1%83%D0%B4%D0%B5%D1%86%D0%B5%D0%BB%D0%B5_%D0%A0%D0%B5%D0%BF%D1%83%D0%B1%D0%BB%D0%B8%D1%87%D0%B8%D0%B9_%D0%9C%D0%BE%D0%BB%D0%B4%D0%BE%D0%B2%D0%B0\n",
      "http://mo.wikipedia.org/wiki/%D0%A0%D0%B0%D0%B9%D0%BE%D0%BD%D1%83%D0%BB_%D0%90%D0%BD%D0%B5%D0%9D%D0%B8%D0%B9-%D0%9D%D0%BE%D0%B9\n",
      "http://mo.wikipedia.org/wiki/%D0%A0%D0%B0%D0%B9%D0%BE%D0%BD%D1%83%D0%BB_%D0%91%D0%B0%D1%81%D0%B0%D1%80%D0%B0%D0%B1%D1%8F%D1%81%D0%BA%D0%B0\n",
      "http://mo.wikipedia.org/wiki/%D0%A0%D0%B0%D0%B9%D0%BE%D0%BD%D1%83%D0%BB_%D0%91%D1%80%D0%B8%D1%87%D0%B5%D0%BD%D1%8C\n",
      "http://mo.wikipedia.org/wiki/%D0%A0%D0%B0%D0%B9%D0%BE%D0%BD%D1%83%D0%BB_%D0%9A%D0%B0%D1%85%D1%83%D0%BB\n",
      "http://mo.wikipedia.org/wiki/%D0%A0%D0%B0%D0%B9%D0%BE%D0%BD%D1%83%D0%BB_%D0%9A%D0%B0%D0%BD%D1%82%D0%B5%D0%BC%D0%B8%D1%80\n",
      "http://mo.wikipedia.org/wiki/%D0%A0%D0%B0%D0%B9%D0%BE%D0%BD%D1%83%D0%BB_%D0%9A%D1%8D%D0%BB%D1%8D%D1%80%D0%B0%D1%88%D1%8C\n",
      "http://mo.wikipedia.org/wiki/%D0%A0%D0%B0%D0%B9%D0%BE%D0%BD%D1%83%D0%BB_%D0%9A%D1%8D%D1%83%D1%88%D0%B5%D0%BD%D1%8C\n",
      "http://mo.wikipedia.org/wiki/%D0%A0%D0%B0%D0%B9%D0%BE%D0%BD%D1%83%D0%BB_%D0%A7%D0%B8%D0%BC%D0%B8%D1%88%D0%BB%D0%B8%D1%8F\n",
      "http://mo.wikipedia.org/wiki/%D0%A0%D0%B0%D0%B9%D0%BE%D0%BD%D1%83%D0%BB_%D0%9A%D1%80%D1%8E%D0%BB%D0%B5%D0%BD%D1%8C\n",
      "http://mo.wikipedia.org/wiki/%D0%A0%D0%B0%D0%B9%D0%BE%D0%BD%D1%83%D0%BB_%D0%94%D0%BE%D0%BD%D0%B4%D1%83%D1%88%D0%B5%D0%BD%D1%8C\n",
      "http://mo.wikipedia.org/wiki/%D0%A0%D0%B0%D0%B9%D0%BE%D0%BD%D1%83%D0%BB_%D0%94%D1%80%D0%BE%D0%BA%D0%B8%D1%8F\n",
      "http://mo.wikipedia.org/wiki/%D0%A0%D0%B0%D0%B9%D0%BE%D0%BD%D1%83%D0%BB_%D0%94%D1%83%D0%B1%D1%8D%D1%81%D0%B0%D1%80%D1%8C\n",
      "http://mo.wikipedia.org/wiki/%D0%A0%D0%B0%D0%B9%D0%BE%D0%BD%D1%83%D0%BB_%D0%95%D0%B4%D0%B8%D0%BD%D0%B5%D1%86\n",
      "http://mo.wikipedia.org/wiki/%D0%A0%D0%B0%D0%B9%D0%BE%D0%BD%D1%83%D0%BB_%D0%A4%D1%8D%D0%BB%D0%B5%D1%88%D1%82%D1%8C\n",
      "http://mo.wikipedia.org/wiki/%D0%A0%D0%B0%D0%B9%D0%BE%D0%BD%D1%83%D0%BB_%D0%A4%D0%BB%D0%BE%D1%80%D0%B5%D1%88%D1%82%D1%8C\n",
      "http://mo.wikipedia.org/wiki/%D0%A0%D0%B0%D0%B9%D0%BE%D0%BD%D1%83%D0%BB_%D0%93%D0%BB%D0%BE%D0%B4%D0%B5%D0%BD%D1%8C\n",
      "http://mo.wikipedia.org/wiki/%D0%A0%D0%B0%D0%B9%D0%BE%D0%BD%D1%83%D0%BB_%D0%A5%D1%8B%D0%BD%D1%87%D0%B5%D1%88%D1%82%D1%8C\n",
      "http://mo.wikipedia.org/wiki/%D0%A0%D0%B0%D0%B9%D0%BE%D0%BD%D1%83%D0%BB_%D0%AF%D0%BB%D0%BE%D0%B2%D0%B5%D0%BD%D1%8C\n",
      "http://mo.wikipedia.org/wiki/%D0%A0%D0%B0%D0%B9%D0%BE%D0%BD%D1%83%D0%BB_%D0%9B%D0%B5%D0%BE%D0%B2%D0%B0\n",
      "http://mo.wikipedia.org/wiki/%D0%A0%D0%B0%D0%B9%D0%BE%D0%BD%D1%83%D0%BB_%D0%9D%D0%B8%D1%81%D0%BF%D0%BE%D1%80%D0%B5%D0%BD%D1%8C\n",
      "http://mo.wikipedia.org/wiki/%D0%A0%D0%B0%D0%B9%D0%BE%D0%BD%D1%83%D0%BB_%D0%9E%D0%BA%D0%BD%D0%B8%D1%86%D1%8F\n",
      "http://mo.wikipedia.org/wiki/%D0%A0%D0%B0%D0%B9%D0%BE%D0%BD%D1%83%D0%BB_%D0%9E%D1%80%D1%85%D0%B5%D0%B9\n",
      "http://mo.wikipedia.org/wiki/%D0%A0%D0%B0%D0%B9%D0%BE%D0%BD%D1%83%D0%BB_%D0%A0%D0%B5%D0%B7%D0%B8%D0%BD%D0%B0\n",
      "http://mo.wikipedia.org/wiki/%D0%A0%D0%B0%D0%B9%D0%BE%D0%BD%D1%83%D0%BB_%D0%A0%D1%8B%D1%88%D0%BA%D0%B0%D0%BD%D1%8C\n",
      "http://mo.wikipedia.org/wiki/%D0%A0%D0%B0%D0%B9%D0%BE%D0%BD%D1%83%D0%BB_%D0%A1%D1%8B%D0%BD%D3%82%D0%B5%D1%80%D0%B5%D0%B9\n",
      "http://mo.wikipedia.org/wiki/%D0%A0%D0%B0%D0%B9%D0%BE%D0%BD%D1%83%D0%BB_%D0%A1%D0%BE%D1%80%D0%BE%D0%BA%D0%B0\n",
      "http://mo.wikipedia.org/wiki/%D0%A0%D0%B0%D0%B9%D0%BE%D0%BD%D1%83%D0%BB_%D0%A1%D1%82%D1%80%D1%8D%D1%88%D0%B5%D0%BD%D1%8C\n",
      "http://mo.wikipedia.org/wiki/%D0%A0%D0%B0%D0%B9%D0%BE%D0%BD%D1%83%D0%BB_%D0%A8%D0%BE%D0%BB%D0%B4%D1%8D%D0%BD%D0%B5%D1%88%D1%82%D1%8C\n",
      "http://mo.wikipedia.org/wiki/%D0%A0%D0%B0%D0%B9%D0%BE%D0%BD%D1%83%D0%BB_%D0%A8%D1%82%D0%B5%D1%84%D0%B0%D0%BD_%D0%92%D0%BE%D0%B4%D1%8D\n",
      "http://mo.wikipedia.org/wiki/%D0%A0%D0%B0%D0%B9%D0%BE%D0%BD%D1%83%D0%BB_%D0%A2%D0%B0%D1%80%D0%B0%D0%BA%D0%BB%D0%B8%D1%8F\n",
      "http://mo.wikipedia.org/wiki/%D0%A0%D0%B0%D0%B9%D0%BE%D0%BD%D1%83%D0%BB_%D0%A2%D0%B5%D0%BB%D0%B5%D0%BD%D0%B5%D1%88%D1%82%D1%8C\n",
      "http://mo.wikipedia.org/wiki/%D0%A0%D0%B0%D0%B9%D0%BE%D0%BD%D1%83%D0%BB_%D0%A3%D0%BD%D0%B3%D0%B5%D0%BD%D1%8C\n",
      "http://mo.wikipedia.org/wiki/%D0%93%D1%8D%D0%B3%D1%8D%D1%83%D0%B7%D0%B8%D1%8F\n",
      "http://mo.wikipedia.org/wiki/%D0%A2%D1%80%D0%B0%D0%BD%D1%81%D0%BD%D0%B8%D1%81%D1%82%D1%80%D0%B8%D1%8F\n",
      "http://mo.wikipedia.org/wiki/%D0%91%D1%8D%D0%BB%D1%86%D1%8C\n",
      "http://mo.wikipedia.org/wiki/%D0%A2%D0%B8%D0%B3%D0%B8%D0%BD%D0%B0\n",
      "http://mo.wikipedia.org/wiki/%D0%9A%D0%B8%D1%88%D0%B8%D0%BD%D1%8D%D1%83\n",
      "http://mo.wikipedia.org/wiki/%D0%9A%D0%B8%D1%88%D0%B8%D0%BD%D1%8D%D1%83\n",
      "http://mo.wikipedia.org/wiki/%D0%9F%D0%B0%D3%82%D0%B8%D0%BD%D0%B0_%D0%BF%D1%80%D0%B8%D0%BD%D1%87%D0%B8%D0%BF%D0%B0%D0%BB%D1%8D\n",
      "http://mo.wikipedia.org/wiki/%D0%9F%D0%B0%D3%82%D0%B8%D0%BD%D0%B0_%D0%BF%D1%80%D0%B8%D0%BD%D1%87%D0%B8%D0%BF%D0%B0%D0%BB%D1%8D\n"
     ]
    },
    {
     "data": {
      "application/vnd.jupyter.widget-view+json": {
       "model_id": "f4ab4dfc9f7044aa88bf96c182129287",
       "version_major": 2,
       "version_minor": 0
      },
      "text/plain": [
       "A Jupyter Widget"
      ]
     },
     "metadata": {},
     "output_type": "display_data"
    },
    {
     "name": "stdout",
     "output_type": "stream",
     "text": [
      "\n"
     ]
    },
    {
     "data": {
      "application/vnd.jupyter.widget-view+json": {
       "model_id": "399fb55e0e9b4b0e86ec0d1d4018f443",
       "version_major": 2,
       "version_minor": 0
      },
      "text/plain": [
       "A Jupyter Widget"
      ]
     },
     "metadata": {},
     "output_type": "display_data"
    },
    {
     "name": "stdout",
     "output_type": "stream",
     "text": [
      "\n"
     ]
    },
    {
     "data": {
      "application/vnd.jupyter.widget-view+json": {
       "model_id": "69875b1db7ad43ec9b157c2572da1f85",
       "version_major": 2,
       "version_minor": 0
      },
      "text/plain": [
       "A Jupyter Widget"
      ]
     },
     "metadata": {},
     "output_type": "display_data"
    },
    {
     "name": "stdout",
     "output_type": "stream",
     "text": [
      "\n",
      "http://mo.wikipedia.org/wiki/%D0%A0%D0%B5%D0%BF%D1%83%D0%B1%D0%BB%D0%B8%D0%BA%D0%B0_%D0%9C%D0%BE%D0%BB%D0%B4%D0%BE%D0%B2%D0%B0\n",
      "http://mo.wikipedia.org/wiki/%D0%9C%D0%BE%D0%BB%D0%B4%D0%BE%D0%B2%D1%8F%D0%BD\n",
      "http://mo.wikipedia.org/wiki/%D0%A0%D1%83%D1%81%D0%B8%D1%8F\n",
      "http://mo.wikipedia.org/wiki/1918\n",
      "http://mo.wikipedia.org/wiki/1940\n",
      "http://mo.wikipedia.org/wiki/%D0%A3%D0%A0%D0%A1%D0%A1\n",
      "http://mo.wikipedia.org/wiki/1991\n",
      "http://mo.wikipedia.org/wiki/%D0%A0%D0%B5%D0%BF%D1%83%D0%B1%D0%BB%D0%B8%D0%BA%D0%B0_%D0%9C%D0%BE%D0%BB%D0%B4%D0%BE%D0%B2%D0%B0\n",
      "http://mo.wikipedia.org/wiki/%D0%A0%D0%B0%D0%B9%D0%BE%D0%B0%D0%BD%D0%B5%D0%BB%D0%B5_%D0%A0%D0%B5%D0%BF%D1%83%D0%B1%D0%BB%D0%B8%D1%87%D0%B8%D0%B9_%D0%9C%D0%BE%D0%BB%D0%B4%D0%BE%D0%B2%D0%B0\n",
      "http://mo.wikipedia.org/wiki/%D0%96%D1%83%D0%B4%D0%B5%D1%86%D0%B5%D0%BB%D0%B5_%D0%A0%D0%B5%D0%BF%D1%83%D0%B1%D0%BB%D0%B8%D1%87%D0%B8%D0%B9_%D0%9C%D0%BE%D0%BB%D0%B4%D0%BE%D0%B2%D0%B0\n",
      "http://mo.wikipedia.org/wiki/%D0%A0%D0%B0%D0%B9%D0%BE%D0%BD%D1%83%D0%BB_%D0%90%D0%BD%D0%B5%D0%9D%D0%B8%D0%B9-%D0%9D%D0%BE%D0%B9\n",
      "http://mo.wikipedia.org/wiki/%D0%A0%D0%B0%D0%B9%D0%BE%D0%BD%D1%83%D0%BB_%D0%91%D0%B0%D1%81%D0%B0%D1%80%D0%B0%D0%B1%D1%8F%D1%81%D0%BA%D0%B0\n",
      "http://mo.wikipedia.org/wiki/%D0%A0%D0%B0%D0%B9%D0%BE%D0%BD%D1%83%D0%BB_%D0%91%D1%80%D0%B8%D1%87%D0%B5%D0%BD%D1%8C\n",
      "http://mo.wikipedia.org/wiki/%D0%A0%D0%B0%D0%B9%D0%BE%D0%BD%D1%83%D0%BB_%D0%9A%D0%B0%D1%85%D1%83%D0%BB\n",
      "http://mo.wikipedia.org/wiki/%D0%A0%D0%B0%D0%B9%D0%BE%D0%BD%D1%83%D0%BB_%D0%9A%D0%B0%D0%BD%D1%82%D0%B5%D0%BC%D0%B8%D1%80\n",
      "http://mo.wikipedia.org/wiki/%D0%A0%D0%B0%D0%B9%D0%BE%D0%BD%D1%83%D0%BB_%D0%9A%D1%8D%D0%BB%D1%8D%D1%80%D0%B0%D1%88%D1%8C\n",
      "http://mo.wikipedia.org/wiki/%D0%A0%D0%B0%D0%B9%D0%BE%D0%BD%D1%83%D0%BB_%D0%9A%D1%8D%D1%83%D1%88%D0%B5%D0%BD%D1%8C\n",
      "http://mo.wikipedia.org/wiki/%D0%A0%D0%B0%D0%B9%D0%BE%D0%BD%D1%83%D0%BB_%D0%A7%D0%B8%D0%BC%D0%B8%D1%88%D0%BB%D0%B8%D1%8F\n",
      "http://mo.wikipedia.org/wiki/%D0%A0%D0%B0%D0%B9%D0%BE%D0%BD%D1%83%D0%BB_%D0%9A%D1%80%D1%8E%D0%BB%D0%B5%D0%BD%D1%8C\n",
      "http://mo.wikipedia.org/wiki/%D0%A0%D0%B0%D0%B9%D0%BE%D0%BD%D1%83%D0%BB_%D0%94%D0%BE%D0%BD%D0%B4%D1%83%D1%88%D0%B5%D0%BD%D1%8C\n",
      "http://mo.wikipedia.org/wiki/%D0%A0%D0%B0%D0%B9%D0%BE%D0%BD%D1%83%D0%BB_%D0%94%D1%80%D0%BE%D0%BA%D0%B8%D1%8F\n",
      "http://mo.wikipedia.org/wiki/%D0%A0%D0%B0%D0%B9%D0%BE%D0%BD%D1%83%D0%BB_%D0%94%D1%83%D0%B1%D1%8D%D1%81%D0%B0%D1%80%D1%8C\n",
      "http://mo.wikipedia.org/wiki/%D0%A0%D0%B0%D0%B9%D0%BE%D0%BD%D1%83%D0%BB_%D0%95%D0%B4%D0%B8%D0%BD%D0%B5%D1%86\n",
      "http://mo.wikipedia.org/wiki/%D0%A0%D0%B0%D0%B9%D0%BE%D0%BD%D1%83%D0%BB_%D0%A4%D1%8D%D0%BB%D0%B5%D1%88%D1%82%D1%8C\n",
      "http://mo.wikipedia.org/wiki/%D0%A0%D0%B0%D0%B9%D0%BE%D0%BD%D1%83%D0%BB_%D0%A4%D0%BB%D0%BE%D1%80%D0%B5%D1%88%D1%82%D1%8C\n",
      "http://mo.wikipedia.org/wiki/%D0%A0%D0%B0%D0%B9%D0%BE%D0%BD%D1%83%D0%BB_%D0%93%D0%BB%D0%BE%D0%B4%D0%B5%D0%BD%D1%8C\n",
      "http://mo.wikipedia.org/wiki/%D0%A0%D0%B0%D0%B9%D0%BE%D0%BD%D1%83%D0%BB_%D0%A5%D1%8B%D0%BD%D1%87%D0%B5%D1%88%D1%82%D1%8C\n",
      "http://mo.wikipedia.org/wiki/%D0%A0%D0%B0%D0%B9%D0%BE%D0%BD%D1%83%D0%BB_%D0%AF%D0%BB%D0%BE%D0%B2%D0%B5%D0%BD%D1%8C\n",
      "http://mo.wikipedia.org/wiki/%D0%A0%D0%B0%D0%B9%D0%BE%D0%BD%D1%83%D0%BB_%D0%9B%D0%B5%D0%BE%D0%B2%D0%B0\n",
      "http://mo.wikipedia.org/wiki/%D0%A0%D0%B0%D0%B9%D0%BE%D0%BD%D1%83%D0%BB_%D0%9D%D0%B8%D1%81%D0%BF%D0%BE%D1%80%D0%B5%D0%BD%D1%8C\n",
      "http://mo.wikipedia.org/wiki/%D0%A0%D0%B0%D0%B9%D0%BE%D0%BD%D1%83%D0%BB_%D0%9E%D0%BA%D0%BD%D0%B8%D1%86%D1%8F\n",
      "http://mo.wikipedia.org/wiki/%D0%A0%D0%B0%D0%B9%D0%BE%D0%BD%D1%83%D0%BB_%D0%9E%D1%80%D1%85%D0%B5%D0%B9\n",
      "http://mo.wikipedia.org/wiki/%D0%A0%D0%B0%D0%B9%D0%BE%D0%BD%D1%83%D0%BB_%D0%A0%D0%B5%D0%B7%D0%B8%D0%BD%D0%B0\n",
      "http://mo.wikipedia.org/wiki/%D0%A0%D0%B0%D0%B9%D0%BE%D0%BD%D1%83%D0%BB_%D0%A0%D1%8B%D1%88%D0%BA%D0%B0%D0%BD%D1%8C\n",
      "http://mo.wikipedia.org/wiki/%D0%A0%D0%B0%D0%B9%D0%BE%D0%BD%D1%83%D0%BB_%D0%A1%D1%8B%D0%BD%D3%82%D0%B5%D1%80%D0%B5%D0%B9\n",
      "http://mo.wikipedia.org/wiki/%D0%A0%D0%B0%D0%B9%D0%BE%D0%BD%D1%83%D0%BB_%D0%A1%D0%BE%D1%80%D0%BE%D0%BA%D0%B0\n",
      "http://mo.wikipedia.org/wiki/%D0%A0%D0%B0%D0%B9%D0%BE%D0%BD%D1%83%D0%BB_%D0%A1%D1%82%D1%80%D1%8D%D1%88%D0%B5%D0%BD%D1%8C\n",
      "http://mo.wikipedia.org/wiki/%D0%A0%D0%B0%D0%B9%D0%BE%D0%BD%D1%83%D0%BB_%D0%A8%D0%BE%D0%BB%D0%B4%D1%8D%D0%BD%D0%B5%D1%88%D1%82%D1%8C\n",
      "http://mo.wikipedia.org/wiki/%D0%A0%D0%B0%D0%B9%D0%BE%D0%BD%D1%83%D0%BB_%D0%A8%D1%82%D0%B5%D1%84%D0%B0%D0%BD_%D0%92%D0%BE%D0%B4%D1%8D\n",
      "http://mo.wikipedia.org/wiki/%D0%A0%D0%B0%D0%B9%D0%BE%D0%BD%D1%83%D0%BB_%D0%A2%D0%B0%D1%80%D0%B0%D0%BA%D0%BB%D0%B8%D1%8F\n",
      "http://mo.wikipedia.org/wiki/%D0%A0%D0%B0%D0%B9%D0%BE%D0%BD%D1%83%D0%BB_%D0%A2%D0%B5%D0%BB%D0%B5%D0%BD%D0%B5%D1%88%D1%82%D1%8C\n",
      "http://mo.wikipedia.org/wiki/%D0%A0%D0%B0%D0%B9%D0%BE%D0%BD%D1%83%D0%BB_%D0%A3%D0%BD%D0%B3%D0%B5%D0%BD%D1%8C\n",
      "http://mo.wikipedia.org/wiki/%D0%93%D1%8D%D0%B3%D1%8D%D1%83%D0%B7%D0%B8%D1%8F\n",
      "http://mo.wikipedia.org/wiki/%D0%A2%D1%80%D0%B0%D0%BD%D1%81%D0%BD%D0%B8%D1%81%D1%82%D1%80%D0%B8%D1%8F\n",
      "http://mo.wikipedia.org/wiki/%D0%91%D1%8D%D0%BB%D1%86%D1%8C\n",
      "http://mo.wikipedia.org/wiki/%D0%A2%D0%B8%D0%B3%D0%B8%D0%BD%D0%B0\n",
      "http://mo.wikipedia.org/wiki/%D0%9A%D0%B8%D1%88%D0%B8%D0%BD%D1%8D%D1%83\n",
      "http://mo.wikipedia.org/wiki/%D0%9A%D0%B8%D1%88%D0%B8%D0%BD%D1%8D%D1%83\n",
      "http://mo.wikipedia.org/wiki/%D0%9F%D0%B0%D3%82%D0%B8%D0%BD%D0%B0_%D0%BF%D1%80%D0%B8%D0%BD%D1%87%D0%B8%D0%BF%D0%B0%D0%BB%D1%8D\n",
      "http://mo.wikipedia.org/wiki/%D0%9F%D0%B0%D3%82%D0%B8%D0%BD%D0%B0_%D0%BF%D1%80%D0%B8%D0%BD%D1%87%D0%B8%D0%BF%D0%B0%D0%BB%D1%8D\n"
     ]
    },
    {
     "data": {
      "application/vnd.jupyter.widget-view+json": {
       "model_id": "0dea6eb6ca1f472ebd4cbec378773d93",
       "version_major": 2,
       "version_minor": 0
      },
      "text/plain": [
       "A Jupyter Widget"
      ]
     },
     "metadata": {},
     "output_type": "display_data"
    },
    {
     "name": "stdout",
     "output_type": "stream",
     "text": [
      "\n"
     ]
    },
    {
     "data": {
      "application/vnd.jupyter.widget-view+json": {
       "model_id": "a47a3b2344ae4ea1994a4dde8da0d8b8",
       "version_major": 2,
       "version_minor": 0
      },
      "text/plain": [
       "A Jupyter Widget"
      ]
     },
     "metadata": {},
     "output_type": "display_data"
    },
    {
     "name": "stdout",
     "output_type": "stream",
     "text": [
      "\n"
     ]
    },
    {
     "data": {
      "application/vnd.jupyter.widget-view+json": {
       "model_id": "bf8f433733b343408a10ea8c6dcc30ae",
       "version_major": 2,
       "version_minor": 0
      },
      "text/plain": [
       "A Jupyter Widget"
      ]
     },
     "metadata": {},
     "output_type": "display_data"
    },
    {
     "name": "stdout",
     "output_type": "stream",
     "text": [
      "\n"
     ]
    },
    {
     "data": {
      "application/vnd.jupyter.widget-view+json": {
       "model_id": "9e85ce33434143b9a3f5312f141abc6f",
       "version_major": 2,
       "version_minor": 0
      },
      "text/plain": [
       "A Jupyter Widget"
      ]
     },
     "metadata": {},
     "output_type": "display_data"
    },
    {
     "name": "stdout",
     "output_type": "stream",
     "text": [
      "\n"
     ]
    },
    {
     "data": {
      "application/vnd.jupyter.widget-view+json": {
       "model_id": "154b972ef2214a75a5acd900bb15a3c8",
       "version_major": 2,
       "version_minor": 0
      },
      "text/plain": [
       "A Jupyter Widget"
      ]
     },
     "metadata": {},
     "output_type": "display_data"
    },
    {
     "name": "stdout",
     "output_type": "stream",
     "text": [
      "\n",
      "http://mo.wikipedia.org/wiki/%D0%A0%D0%B5%D0%BF%D1%83%D0%B1%D0%BB%D0%B8%D0%BA%D0%B0_%D0%9C%D0%BE%D0%BB%D0%B4%D0%BE%D0%B2%D0%B5%D0%BD%D1%8F%D1%81%D0%BA%D1%8D_%D0%9D%D0%B8%D1%81%D1%82%D1%80%D1%8F%D0%BD%D1%8D\n",
      "http://mo.wikipedia.org/wiki/%D0%A0%D0%B5%D0%BF%D1%83%D0%B1%D0%BB%D0%B8%D0%BA%D0%B0_%D0%9C%D0%BE%D0%BB%D0%B4%D0%BE%D0%B2%D0%B5%D0%BD%D1%8F%D1%81%D0%BA%D1%8D_%D0%9D%D0%B8%D1%81%D1%82%D1%80%D1%8F%D0%BD%D1%8D\n",
      "http://mo.wikipedia.org/wiki/%D0%9C%D0%BE%D0%BB%D0%B4%D0%BE%D0%B2%D0%B0\n",
      "http://mo.wikipedia.org/wiki/%D0%A2%D1%83%D1%80%D1%87%D0%B8%D1%8F\n",
      "http://mo.wikipedia.org/wiki/%D0%A0%D1%83%D1%81%D0%B8%D1%8F\n",
      "http://mo.wikipedia.org/wiki/%D0%A0%D0%BE%D0%BC%D1%8B%D0%BD%D0%B8%D1%8F\n",
      "http://mo.wikipedia.org/wiki/%D0%A0%D1%83%D1%81%D0%B8%D1%8F\n",
      "http://mo.wikipedia.org/wiki/%D0%A0%D0%B5%D0%BF%D1%83%D0%B1%D0%BB%D0%B8%D0%BA%D0%B0_%D0%9C%D0%BE%D0%BB%D0%B4%D0%BE%D0%B2%D0%B0\n",
      "http://mo.wikipedia.org/wiki/%D0%A0%D0%B0%D0%B9%D0%BE%D0%B0%D0%BD%D0%B5%D0%BB%D0%B5_%D0%A0%D0%B5%D0%BF%D1%83%D0%B1%D0%BB%D0%B8%D1%87%D0%B8%D0%B9_%D0%9C%D0%BE%D0%BB%D0%B4%D0%BE%D0%B2%D0%B0\n",
      "http://mo.wikipedia.org/wiki/%D0%96%D1%83%D0%B4%D0%B5%D1%86%D0%B5%D0%BB%D0%B5_%D0%A0%D0%B5%D0%BF%D1%83%D0%B1%D0%BB%D0%B8%D1%87%D0%B8%D0%B9_%D0%9C%D0%BE%D0%BB%D0%B4%D0%BE%D0%B2%D0%B0\n",
      "http://mo.wikipedia.org/wiki/%D0%A0%D0%B0%D0%B9%D0%BE%D0%BD%D1%83%D0%BB_%D0%90%D0%BD%D0%B5%D0%9D%D0%B8%D0%B9-%D0%9D%D0%BE%D0%B9\n",
      "http://mo.wikipedia.org/wiki/%D0%A0%D0%B0%D0%B9%D0%BE%D0%BD%D1%83%D0%BB_%D0%91%D0%B0%D1%81%D0%B0%D1%80%D0%B0%D0%B1%D1%8F%D1%81%D0%BA%D0%B0\n",
      "http://mo.wikipedia.org/wiki/%D0%A0%D0%B0%D0%B9%D0%BE%D0%BD%D1%83%D0%BB_%D0%91%D1%80%D0%B8%D1%87%D0%B5%D0%BD%D1%8C\n",
      "http://mo.wikipedia.org/wiki/%D0%A0%D0%B0%D0%B9%D0%BE%D0%BD%D1%83%D0%BB_%D0%9A%D0%B0%D1%85%D1%83%D0%BB\n",
      "http://mo.wikipedia.org/wiki/%D0%A0%D0%B0%D0%B9%D0%BE%D0%BD%D1%83%D0%BB_%D0%9A%D0%B0%D0%BD%D1%82%D0%B5%D0%BC%D0%B8%D1%80\n",
      "http://mo.wikipedia.org/wiki/%D0%A0%D0%B0%D0%B9%D0%BE%D0%BD%D1%83%D0%BB_%D0%9A%D1%8D%D0%BB%D1%8D%D1%80%D0%B0%D1%88%D1%8C\n",
      "http://mo.wikipedia.org/wiki/%D0%A0%D0%B0%D0%B9%D0%BE%D0%BD%D1%83%D0%BB_%D0%9A%D1%8D%D1%83%D1%88%D0%B5%D0%BD%D1%8C\n",
      "http://mo.wikipedia.org/wiki/%D0%A0%D0%B0%D0%B9%D0%BE%D0%BD%D1%83%D0%BB_%D0%A7%D0%B8%D0%BC%D0%B8%D1%88%D0%BB%D0%B8%D1%8F\n",
      "http://mo.wikipedia.org/wiki/%D0%A0%D0%B0%D0%B9%D0%BE%D0%BD%D1%83%D0%BB_%D0%9A%D1%80%D1%8E%D0%BB%D0%B5%D0%BD%D1%8C\n",
      "http://mo.wikipedia.org/wiki/%D0%A0%D0%B0%D0%B9%D0%BE%D0%BD%D1%83%D0%BB_%D0%94%D0%BE%D0%BD%D0%B4%D1%83%D1%88%D0%B5%D0%BD%D1%8C\n",
      "http://mo.wikipedia.org/wiki/%D0%A0%D0%B0%D0%B9%D0%BE%D0%BD%D1%83%D0%BB_%D0%94%D1%80%D0%BE%D0%BA%D0%B8%D1%8F\n",
      "http://mo.wikipedia.org/wiki/%D0%A0%D0%B0%D0%B9%D0%BE%D0%BD%D1%83%D0%BB_%D0%94%D1%83%D0%B1%D1%8D%D1%81%D0%B0%D1%80%D1%8C\n",
      "http://mo.wikipedia.org/wiki/%D0%A0%D0%B0%D0%B9%D0%BE%D0%BD%D1%83%D0%BB_%D0%95%D0%B4%D0%B8%D0%BD%D0%B5%D1%86\n",
      "http://mo.wikipedia.org/wiki/%D0%A0%D0%B0%D0%B9%D0%BE%D0%BD%D1%83%D0%BB_%D0%A4%D1%8D%D0%BB%D0%B5%D1%88%D1%82%D1%8C\n",
      "http://mo.wikipedia.org/wiki/%D0%A0%D0%B0%D0%B9%D0%BE%D0%BD%D1%83%D0%BB_%D0%A4%D0%BB%D0%BE%D1%80%D0%B5%D1%88%D1%82%D1%8C\n",
      "http://mo.wikipedia.org/wiki/%D0%A0%D0%B0%D0%B9%D0%BE%D0%BD%D1%83%D0%BB_%D0%93%D0%BB%D0%BE%D0%B4%D0%B5%D0%BD%D1%8C\n",
      "http://mo.wikipedia.org/wiki/%D0%A0%D0%B0%D0%B9%D0%BE%D0%BD%D1%83%D0%BB_%D0%A5%D1%8B%D0%BD%D1%87%D0%B5%D1%88%D1%82%D1%8C\n",
      "http://mo.wikipedia.org/wiki/%D0%A0%D0%B0%D0%B9%D0%BE%D0%BD%D1%83%D0%BB_%D0%AF%D0%BB%D0%BE%D0%B2%D0%B5%D0%BD%D1%8C\n",
      "http://mo.wikipedia.org/wiki/%D0%A0%D0%B0%D0%B9%D0%BE%D0%BD%D1%83%D0%BB_%D0%9B%D0%B5%D0%BE%D0%B2%D0%B0\n",
      "http://mo.wikipedia.org/wiki/%D0%A0%D0%B0%D0%B9%D0%BE%D0%BD%D1%83%D0%BB_%D0%9D%D0%B8%D1%81%D0%BF%D0%BE%D1%80%D0%B5%D0%BD%D1%8C\n",
      "http://mo.wikipedia.org/wiki/%D0%A0%D0%B0%D0%B9%D0%BE%D0%BD%D1%83%D0%BB_%D0%9E%D0%BA%D0%BD%D0%B8%D1%86%D1%8F\n",
      "http://mo.wikipedia.org/wiki/%D0%A0%D0%B0%D0%B9%D0%BE%D0%BD%D1%83%D0%BB_%D0%9E%D1%80%D1%85%D0%B5%D0%B9\n",
      "http://mo.wikipedia.org/wiki/%D0%A0%D0%B0%D0%B9%D0%BE%D0%BD%D1%83%D0%BB_%D0%A0%D0%B5%D0%B7%D0%B8%D0%BD%D0%B0\n",
      "http://mo.wikipedia.org/wiki/%D0%A0%D0%B0%D0%B9%D0%BE%D0%BD%D1%83%D0%BB_%D0%A0%D1%8B%D1%88%D0%BA%D0%B0%D0%BD%D1%8C\n",
      "http://mo.wikipedia.org/wiki/%D0%A0%D0%B0%D0%B9%D0%BE%D0%BD%D1%83%D0%BB_%D0%A1%D1%8B%D0%BD%D3%82%D0%B5%D1%80%D0%B5%D0%B9\n",
      "http://mo.wikipedia.org/wiki/%D0%A0%D0%B0%D0%B9%D0%BE%D0%BD%D1%83%D0%BB_%D0%A1%D0%BE%D1%80%D0%BE%D0%BA%D0%B0\n",
      "http://mo.wikipedia.org/wiki/%D0%A0%D0%B0%D0%B9%D0%BE%D0%BD%D1%83%D0%BB_%D0%A1%D1%82%D1%80%D1%8D%D1%88%D0%B5%D0%BD%D1%8C\n",
      "http://mo.wikipedia.org/wiki/%D0%A0%D0%B0%D0%B9%D0%BE%D0%BD%D1%83%D0%BB_%D0%A8%D0%BE%D0%BB%D0%B4%D1%8D%D0%BD%D0%B5%D1%88%D1%82%D1%8C\n",
      "http://mo.wikipedia.org/wiki/%D0%A0%D0%B0%D0%B9%D0%BE%D0%BD%D1%83%D0%BB_%D0%A8%D1%82%D0%B5%D1%84%D0%B0%D0%BD_%D0%92%D0%BE%D0%B4%D1%8D\n",
      "http://mo.wikipedia.org/wiki/%D0%A0%D0%B0%D0%B9%D0%BE%D0%BD%D1%83%D0%BB_%D0%A2%D0%B0%D1%80%D0%B0%D0%BA%D0%BB%D0%B8%D1%8F\n",
      "http://mo.wikipedia.org/wiki/%D0%A0%D0%B0%D0%B9%D0%BE%D0%BD%D1%83%D0%BB_%D0%A2%D0%B5%D0%BB%D0%B5%D0%BD%D0%B5%D1%88%D1%82%D1%8C\n",
      "http://mo.wikipedia.org/wiki/%D0%A0%D0%B0%D0%B9%D0%BE%D0%BD%D1%83%D0%BB_%D0%A3%D0%BD%D0%B3%D0%B5%D0%BD%D1%8C\n",
      "http://mo.wikipedia.org/wiki/%D0%93%D1%8D%D0%B3%D1%8D%D1%83%D0%B7%D0%B8%D1%8F\n",
      "http://mo.wikipedia.org/wiki/%D0%A2%D1%80%D0%B0%D0%BD%D1%81%D0%BD%D0%B8%D1%81%D1%82%D1%80%D0%B8%D1%8F\n",
      "http://mo.wikipedia.org/wiki/%D0%9A%D0%B8%D1%88%D0%B8%D0%BD%D1%8D%D1%83\n",
      "http://mo.wikipedia.org/wiki/%D0%91%D1%8D%D0%BB%D1%86%D1%8C\n",
      "http://mo.wikipedia.org/wiki/%D0%A2%D0%B8%D0%B3%D0%B8%D0%BD%D0%B0\n",
      "http://mo.wikipedia.org/wiki/%D0%A2%D0%B8%D0%B3%D0%B8%D0%BD%D0%B0\n",
      "http://mo.wikipedia.org/wiki/%D0%9F%D0%B0%D3%82%D0%B8%D0%BD%D0%B0_%D0%BF%D1%80%D0%B8%D0%BD%D1%87%D0%B8%D0%BF%D0%B0%D0%BB%D1%8D\n",
      "http://mo.wikipedia.org/wiki/%D0%9F%D0%B0%D3%82%D0%B8%D0%BD%D0%B0_%D0%BF%D1%80%D0%B8%D0%BD%D1%87%D0%B8%D0%BF%D0%B0%D0%BB%D1%8D\n"
     ]
    },
    {
     "data": {
      "application/vnd.jupyter.widget-view+json": {
       "model_id": "c4da813eb1a945b08437e3fe98f50f47",
       "version_major": 2,
       "version_minor": 0
      },
      "text/plain": [
       "A Jupyter Widget"
      ]
     },
     "metadata": {},
     "output_type": "display_data"
    },
    {
     "name": "stdout",
     "output_type": "stream",
     "text": [
      "\n"
     ]
    },
    {
     "data": {
      "application/vnd.jupyter.widget-view+json": {
       "model_id": "82bfe25e169945dc823da719e6660e1e",
       "version_major": 2,
       "version_minor": 0
      },
      "text/plain": [
       "A Jupyter Widget"
      ]
     },
     "metadata": {},
     "output_type": "display_data"
    },
    {
     "name": "stdout",
     "output_type": "stream",
     "text": [
      "\n"
     ]
    },
    {
     "data": {
      "application/vnd.jupyter.widget-view+json": {
       "model_id": "4c2bbae1b31e4098a6cc9851b1ed294a",
       "version_major": 2,
       "version_minor": 0
      },
      "text/plain": [
       "A Jupyter Widget"
      ]
     },
     "metadata": {},
     "output_type": "display_data"
    },
    {
     "name": "stdout",
     "output_type": "stream",
     "text": [
      "\n"
     ]
    },
    {
     "data": {
      "application/vnd.jupyter.widget-view+json": {
       "model_id": "09e3ab27910c44f4aac60338948b3bc1",
       "version_major": 2,
       "version_minor": 0
      },
      "text/plain": [
       "A Jupyter Widget"
      ]
     },
     "metadata": {},
     "output_type": "display_data"
    },
    {
     "name": "stdout",
     "output_type": "stream",
     "text": [
      "\n"
     ]
    },
    {
     "data": {
      "application/vnd.jupyter.widget-view+json": {
       "model_id": "71fb6c699f824bb5b46b19271f08f0b4",
       "version_major": 2,
       "version_minor": 0
      },
      "text/plain": [
       "A Jupyter Widget"
      ]
     },
     "metadata": {},
     "output_type": "display_data"
    },
    {
     "name": "stdout",
     "output_type": "stream",
     "text": [
      "\n",
      "http://mo.wikipedia.org/wiki/%D0%A0%D0%B5%D0%BF%D1%83%D0%B1%D0%BB%D0%B8%D0%BA%D0%B0_%D0%9C%D0%BE%D0%BB%D0%B4%D0%BE%D0%B2%D0%B0\n",
      "http://mo.wikipedia.org/wiki/%D0%A0%D0%B5%D0%BF%D1%83%D0%B1%D0%BB%D0%B8%D0%BA%D0%B0_%D0%9C%D0%BE%D0%BB%D0%B4%D0%BE%D0%B2%D0%B0\n",
      "http://mo.wikipedia.org/wiki/%D0%A0%D0%B0%D0%B9%D0%BE%D0%B0%D0%BD%D0%B5%D0%BB%D0%B5_%D0%A0%D0%B5%D0%BF%D1%83%D0%B1%D0%BB%D0%B8%D1%87%D0%B8%D0%B9_%D0%9C%D0%BE%D0%BB%D0%B4%D0%BE%D0%B2%D0%B0\n",
      "http://mo.wikipedia.org/wiki/%D0%96%D1%83%D0%B4%D0%B5%D1%86%D0%B5%D0%BB%D0%B5_%D0%A0%D0%B5%D0%BF%D1%83%D0%B1%D0%BB%D0%B8%D1%87%D0%B8%D0%B9_%D0%9C%D0%BE%D0%BB%D0%B4%D0%BE%D0%B2%D0%B0\n",
      "http://mo.wikipedia.org/wiki/%D0%A0%D0%B0%D0%B9%D0%BE%D0%BD%D1%83%D0%BB_%D0%90%D0%BD%D0%B5%D0%9D%D0%B8%D0%B9-%D0%9D%D0%BE%D0%B9\n",
      "http://mo.wikipedia.org/wiki/%D0%A0%D0%B0%D0%B9%D0%BE%D0%BD%D1%83%D0%BB_%D0%91%D0%B0%D1%81%D0%B0%D1%80%D0%B0%D0%B1%D1%8F%D1%81%D0%BA%D0%B0\n",
      "http://mo.wikipedia.org/wiki/%D0%A0%D0%B0%D0%B9%D0%BE%D0%BD%D1%83%D0%BB_%D0%91%D1%80%D0%B8%D1%87%D0%B5%D0%BD%D1%8C\n",
      "http://mo.wikipedia.org/wiki/%D0%A0%D0%B0%D0%B9%D0%BE%D0%BD%D1%83%D0%BB_%D0%9A%D0%B0%D1%85%D1%83%D0%BB\n",
      "http://mo.wikipedia.org/wiki/%D0%A0%D0%B0%D0%B9%D0%BE%D0%BD%D1%83%D0%BB_%D0%9A%D0%B0%D0%BD%D1%82%D0%B5%D0%BC%D0%B8%D1%80\n",
      "http://mo.wikipedia.org/wiki/%D0%A0%D0%B0%D0%B9%D0%BE%D0%BD%D1%83%D0%BB_%D0%9A%D1%8D%D0%BB%D1%8D%D1%80%D0%B0%D1%88%D1%8C\n",
      "http://mo.wikipedia.org/wiki/%D0%A0%D0%B0%D0%B9%D0%BE%D0%BD%D1%83%D0%BB_%D0%9A%D1%8D%D1%83%D1%88%D0%B5%D0%BD%D1%8C\n",
      "http://mo.wikipedia.org/wiki/%D0%A0%D0%B0%D0%B9%D0%BE%D0%BD%D1%83%D0%BB_%D0%A7%D0%B8%D0%BC%D0%B8%D1%88%D0%BB%D0%B8%D1%8F\n",
      "http://mo.wikipedia.org/wiki/%D0%A0%D0%B0%D0%B9%D0%BE%D0%BD%D1%83%D0%BB_%D0%9A%D1%80%D1%8E%D0%BB%D0%B5%D0%BD%D1%8C\n",
      "http://mo.wikipedia.org/wiki/%D0%A0%D0%B0%D0%B9%D0%BE%D0%BD%D1%83%D0%BB_%D0%94%D0%BE%D0%BD%D0%B4%D1%83%D1%88%D0%B5%D0%BD%D1%8C\n",
      "http://mo.wikipedia.org/wiki/%D0%A0%D0%B0%D0%B9%D0%BE%D0%BD%D1%83%D0%BB_%D0%94%D1%80%D0%BE%D0%BA%D0%B8%D1%8F\n",
      "http://mo.wikipedia.org/wiki/%D0%A0%D0%B0%D0%B9%D0%BE%D0%BD%D1%83%D0%BB_%D0%94%D1%83%D0%B1%D1%8D%D1%81%D0%B0%D1%80%D1%8C\n",
      "http://mo.wikipedia.org/wiki/%D0%A0%D0%B0%D0%B9%D0%BE%D0%BD%D1%83%D0%BB_%D0%95%D0%B4%D0%B8%D0%BD%D0%B5%D1%86\n",
      "http://mo.wikipedia.org/wiki/%D0%A0%D0%B0%D0%B9%D0%BE%D0%BD%D1%83%D0%BB_%D0%A4%D1%8D%D0%BB%D0%B5%D1%88%D1%82%D1%8C\n",
      "http://mo.wikipedia.org/wiki/%D0%A0%D0%B0%D0%B9%D0%BE%D0%BD%D1%83%D0%BB_%D0%A4%D0%BB%D0%BE%D1%80%D0%B5%D1%88%D1%82%D1%8C\n",
      "http://mo.wikipedia.org/wiki/%D0%A0%D0%B0%D0%B9%D0%BE%D0%BD%D1%83%D0%BB_%D0%93%D0%BB%D0%BE%D0%B4%D0%B5%D0%BD%D1%8C\n",
      "http://mo.wikipedia.org/wiki/%D0%A0%D0%B0%D0%B9%D0%BE%D0%BD%D1%83%D0%BB_%D0%A5%D1%8B%D0%BD%D1%87%D0%B5%D1%88%D1%82%D1%8C\n",
      "http://mo.wikipedia.org/wiki/%D0%A0%D0%B0%D0%B9%D0%BE%D0%BD%D1%83%D0%BB_%D0%AF%D0%BB%D0%BE%D0%B2%D0%B5%D0%BD%D1%8C\n",
      "http://mo.wikipedia.org/wiki/%D0%A0%D0%B0%D0%B9%D0%BE%D0%BD%D1%83%D0%BB_%D0%9B%D0%B5%D0%BE%D0%B2%D0%B0\n",
      "http://mo.wikipedia.org/wiki/%D0%A0%D0%B0%D0%B9%D0%BE%D0%BD%D1%83%D0%BB_%D0%9D%D0%B8%D1%81%D0%BF%D0%BE%D1%80%D0%B5%D0%BD%D1%8C\n",
      "http://mo.wikipedia.org/wiki/%D0%A0%D0%B0%D0%B9%D0%BE%D0%BD%D1%83%D0%BB_%D0%9E%D0%BA%D0%BD%D0%B8%D1%86%D1%8F\n",
      "http://mo.wikipedia.org/wiki/%D0%A0%D0%B0%D0%B9%D0%BE%D0%BD%D1%83%D0%BB_%D0%9E%D1%80%D1%85%D0%B5%D0%B9\n",
      "http://mo.wikipedia.org/wiki/%D0%A0%D0%B0%D0%B9%D0%BE%D0%BD%D1%83%D0%BB_%D0%A0%D0%B5%D0%B7%D0%B8%D0%BD%D0%B0\n",
      "http://mo.wikipedia.org/wiki/%D0%A0%D0%B0%D0%B9%D0%BE%D0%BD%D1%83%D0%BB_%D0%A0%D1%8B%D1%88%D0%BA%D0%B0%D0%BD%D1%8C\n",
      "http://mo.wikipedia.org/wiki/%D0%A0%D0%B0%D0%B9%D0%BE%D0%BD%D1%83%D0%BB_%D0%A1%D1%8B%D0%BD%D3%82%D0%B5%D1%80%D0%B5%D0%B9\n",
      "http://mo.wikipedia.org/wiki/%D0%A0%D0%B0%D0%B9%D0%BE%D0%BD%D1%83%D0%BB_%D0%A1%D0%BE%D1%80%D0%BE%D0%BA%D0%B0\n",
      "http://mo.wikipedia.org/wiki/%D0%A0%D0%B0%D0%B9%D0%BE%D0%BD%D1%83%D0%BB_%D0%A1%D1%82%D1%80%D1%8D%D1%88%D0%B5%D0%BD%D1%8C\n",
      "http://mo.wikipedia.org/wiki/%D0%A0%D0%B0%D0%B9%D0%BE%D0%BD%D1%83%D0%BB_%D0%A8%D0%BE%D0%BB%D0%B4%D1%8D%D0%BD%D0%B5%D1%88%D1%82%D1%8C\n",
      "http://mo.wikipedia.org/wiki/%D0%A0%D0%B0%D0%B9%D0%BE%D0%BD%D1%83%D0%BB_%D0%A8%D1%82%D0%B5%D1%84%D0%B0%D0%BD_%D0%92%D0%BE%D0%B4%D1%8D\n",
      "http://mo.wikipedia.org/wiki/%D0%A0%D0%B0%D0%B9%D0%BE%D0%BD%D1%83%D0%BB_%D0%A2%D0%B0%D1%80%D0%B0%D0%BA%D0%BB%D0%B8%D1%8F\n",
      "http://mo.wikipedia.org/wiki/%D0%A0%D0%B0%D0%B9%D0%BE%D0%BD%D1%83%D0%BB_%D0%A2%D0%B5%D0%BB%D0%B5%D0%BD%D0%B5%D1%88%D1%82%D1%8C\n",
      "http://mo.wikipedia.org/wiki/%D0%A0%D0%B0%D0%B9%D0%BE%D0%BD%D1%83%D0%BB_%D0%A3%D0%BD%D0%B3%D0%B5%D0%BD%D1%8C\n",
      "http://mo.wikipedia.org/wiki/%D0%93%D1%8D%D0%B3%D1%8D%D1%83%D0%B7%D0%B8%D1%8F\n",
      "http://mo.wikipedia.org/wiki/%D0%A2%D1%80%D0%B0%D0%BD%D1%81%D0%BD%D0%B8%D1%81%D1%82%D1%80%D0%B8%D1%8F\n",
      "http://mo.wikipedia.org/wiki/%D0%9A%D0%B8%D1%88%D0%B8%D0%BD%D1%8D%D1%83\n",
      "http://mo.wikipedia.org/wiki/%D0%A2%D0%B8%D0%B3%D0%B8%D0%BD%D0%B0\n",
      "http://mo.wikipedia.org/wiki/%D0%91%D1%8D%D0%BB%D1%86%D1%8C\n",
      "http://mo.wikipedia.org/wiki/%D0%91%D1%8D%D0%BB%D1%86%D1%8C\n",
      "http://mo.wikipedia.org/wiki/%D0%9F%D0%B0%D3%82%D0%B8%D0%BD%D0%B0_%D0%BF%D1%80%D0%B8%D0%BD%D1%87%D0%B8%D0%BF%D0%B0%D0%BB%D1%8D\n",
      "http://mo.wikipedia.org/wiki/%D0%9F%D0%B0%D3%82%D0%B8%D0%BD%D0%B0_%D0%BF%D1%80%D0%B8%D0%BD%D1%87%D0%B8%D0%BF%D0%B0%D0%BB%D1%8D\n"
     ]
    },
    {
     "data": {
      "application/vnd.jupyter.widget-view+json": {
       "model_id": "f4b29332039f42d2ad064951e706fae5",
       "version_major": 2,
       "version_minor": 0
      },
      "text/plain": [
       "A Jupyter Widget"
      ]
     },
     "metadata": {},
     "output_type": "display_data"
    },
    {
     "name": "stdout",
     "output_type": "stream",
     "text": [
      "\n"
     ]
    },
    {
     "data": {
      "application/vnd.jupyter.widget-view+json": {
       "model_id": "ec2fc0e480224bec89d7bac29e2adba8",
       "version_major": 2,
       "version_minor": 0
      },
      "text/plain": [
       "A Jupyter Widget"
      ]
     },
     "metadata": {},
     "output_type": "display_data"
    },
    {
     "name": "stdout",
     "output_type": "stream",
     "text": [
      "\n"
     ]
    },
    {
     "data": {
      "application/vnd.jupyter.widget-view+json": {
       "model_id": "babbcee2961f46768fd62a7e1c208ee3",
       "version_major": 2,
       "version_minor": 0
      },
      "text/plain": [
       "A Jupyter Widget"
      ]
     },
     "metadata": {},
     "output_type": "display_data"
    },
    {
     "name": "stdout",
     "output_type": "stream",
     "text": [
      "\n"
     ]
    },
    {
     "data": {
      "application/vnd.jupyter.widget-view+json": {
       "model_id": "e0b305275edf40bc9b55a557f02590e7",
       "version_major": 2,
       "version_minor": 0
      },
      "text/plain": [
       "A Jupyter Widget"
      ]
     },
     "metadata": {},
     "output_type": "display_data"
    },
    {
     "name": "stdout",
     "output_type": "stream",
     "text": [
      "\n"
     ]
    },
    {
     "data": {
      "application/vnd.jupyter.widget-view+json": {
       "model_id": "08365833ed4741e6becd6db3d40d324a",
       "version_major": 2,
       "version_minor": 0
      },
      "text/plain": [
       "A Jupyter Widget"
      ]
     },
     "metadata": {},
     "output_type": "display_data"
    },
    {
     "name": "stdout",
     "output_type": "stream",
     "text": [
      "\n"
     ]
    },
    {
     "data": {
      "application/vnd.jupyter.widget-view+json": {
       "model_id": "af0ba3033b7b48e3969048ee9a7ab1b8",
       "version_major": 2,
       "version_minor": 0
      },
      "text/plain": [
       "A Jupyter Widget"
      ]
     },
     "metadata": {},
     "output_type": "display_data"
    },
    {
     "name": "stdout",
     "output_type": "stream",
     "text": [
      "\n"
     ]
    },
    {
     "data": {
      "application/vnd.jupyter.widget-view+json": {
       "model_id": "2f746d5c8fae4815a120ccd2905d5ef7",
       "version_major": 2,
       "version_minor": 0
      },
      "text/plain": [
       "A Jupyter Widget"
      ]
     },
     "metadata": {},
     "output_type": "display_data"
    },
    {
     "name": "stdout",
     "output_type": "stream",
     "text": [
      "\n",
      "http://mo.wikipedia.org/wiki/%D0%9B%D0%B8%D0%BC%D0%B1%D1%8D_%D0%BE%D1%84%D0%B8%D1%87%D0%B8%D0%B0%D0%BB%D1%8D\n",
      "http://mo.wikipedia.org/wiki/%D0%9B%D0%B8%D0%BC%D0%B1%D0%B0_%D0%BC%D0%BE%D0%BB%D0%B4%D0%BE%D0%B2%D0%B5%D0%BD%D1%8F%D1%81%D0%BA%D1%8D\n",
      "http://mo.wikipedia.org/wiki/%D0%9B%D0%B8%D0%BC%D0%B1%D0%B0_%D1%80%D1%83%D1%81%D1%8D\n",
      "http://mo.wikipedia.org/wiki/%D0%9B%D0%B8%D0%BC%D0%B1%D0%B0_%D1%83%D0%BA%D1%80%D0%B0%D0%B8%D0%BD%D1%8F%D0%BD%D1%8D\n",
      "http://mo.wikipedia.org/wiki/%D0%9A%D0%B0%D0%BF%D0%B8%D1%82%D0%B0%D0%BB%D1%8D\n",
      "http://mo.wikipedia.org/wiki/%D0%A2%D0%B8%D1%80%D0%B0%D1%81%D0%BF%D0%BE%D0%BB\n",
      "http://mo.wikipedia.org/wiki/%D0%A2%D0%B8%D0%B3%D0%B8%D0%BD%D0%B0\n",
      "http://mo.wikipedia.org/wiki/%D0%98%D0%B3%D0%BE%D1%80_%D0%A1%D0%BC%D0%B8%D1%80%D0%BD%D0%BE%D0%B2\n",
      "http://mo.wikipedia.org/wiki/%D0%A1%D0%B8%D1%81%D1%82%D0%B5%D0%BC_%D0%BF%D0%BE%D0%BB%D0%B8%D1%82%D0%B8%D0%BA\n",
      "http://mo.wikipedia.org/wiki/%D0%A0%D0%B5%D0%BF%D1%83%D0%B1%D0%BB%D0%B8%D0%BA%D1%8D\n",
      "http://mo.wikipedia.org/wiki/%D0%A1%D1%83%D0%BF%D1%80%D0%B0%D1%84%D0%B0%D1%86%D1%8D\n",
      "http://mo.wikipedia.org/wiki/2001\n",
      "http://mo.wikipedia.org/wiki/%D0%9F%D0%BE%D0%BF%D1%83%D0%BB%D0%B0%D1%86%D0%B8%D0%B5\n",
      "http://mo.wikipedia.org/wiki/%D0%94%D0%B5%D0%BD%D1%81%D0%B8%D1%82%D0%B0%D1%82%D1%8F_%D0%BF%D0%BE%D0%BF%D1%83%D0%BB%D0%B0%D1%86%D0%B8%D0%B5%D0%B9\n",
      "http://mo.wikipedia.org/wiki/1990\n",
      "http://mo.wikipedia.org/wiki/%D0%9F%D1%80%D0%BE%D0%B4%D1%83%D1%81_%D0%B8%D0%BD%D1%82%D0%B5%D1%80%D0%BD_%D0%B1%D1%80%D1%83%D1%82\n",
      "http://mo.wikipedia.org/wiki/%D0%9C%D0%BE%D0%BD%D0%B5%D0%B4%D1%8D\n",
      "http://mo.wikipedia.org/wiki/%D0%A0%D1%83%D0%B1%D0%BB%D1%8D_%D0%A2%D1%80%D0%B0%D0%BD%D1%81%D0%BD%D0%B8%D1%81%D1%82%D1%80%D1%8F%D0%BD%D1%8D\n",
      "http://mo.wikipedia.org/wiki/%D0%A4%D1%83%D1%81_%D0%BE%D1%80%D0%B0%D1%80\n",
      "http://mo.wikipedia.org/wiki/%D0%98%D0%BC%D0%BD_%D0%BD%D0%B0%D1%86%D0%B8%D0%BE%D0%BD%D0%B0%D0%BB\n",
      "http://mo.wikipedia.org/wiki/%D0%94%D0%BE%D0%BC%D0%B5%D0%BD%D0%B8%D1%83_%D0%BD%D0%B0%D1%86%D0%B8%D0%BE%D0%BD%D0%B0%D0%BB_%D0%B4%D0%B5_%D0%BD%D0%B8%D0%B2%D0%B5%D0%BB_%D1%81%D1%83%D0%BF%D0%B5%D1%80%D0%B8%D0%BE%D1%80\n",
      "http://mo.wikipedia.org/wiki/%D0%95%D1%83%D1%80%D0%BE%D0%BF%D0%B0\n",
      "http://mo.wikipedia.org/wiki/%D0%A3%D0%BA%D1%80%D0%B0%D0%B8%D0%BD%D0%B0\n",
      "http://mo.wikipedia.org/wiki/%D0%A0%D0%B5%D0%BF%D1%83%D0%B1%D0%BB%D0%B8%D0%BA%D0%B0_%D0%9C%D0%BE%D0%BB%D0%B4%D0%BE%D0%B2%D0%B0\n",
      "http://mo.wikipedia.org/wiki/%D0%9D%D0%B8%D1%81%D1%82%D1%80%D1%83\n",
      "http://mo.wikipedia.org/wiki/%D0%A2%D0%B8%D1%80%D0%B0%D1%81%D0%BF%D0%BE%D0%BB\n",
      "http://mo.wikipedia.org/wiki/%D0%A2%D0%B8%D0%B3%D0%B8%D0%BD%D0%B0\n",
      "http://mo.wikipedia.org/wiki/%D0%A0%D0%B5%D0%BF%D1%83%D0%B1%D0%BB%D0%B8%D0%BA%D0%B0_%D0%9C%D0%BE%D0%BB%D0%B4%D0%BE%D0%B2%D0%B5%D0%BD%D1%8F%D1%81%D0%BA%D1%8D_%D0%9D%D0%B8%D1%81%D1%82%D1%80%D1%8F%D0%BD%D1%8D\n",
      "http://mo.wikipedia.org/wiki/%D0%A0%D0%B5%D0%BF%D1%83%D0%B1%D0%BB%D0%B8%D0%BA%D0%B0_%D0%9C%D0%BE%D0%BB%D0%B4%D0%BE%D0%B2%D0%B5%D0%BD%D1%8F%D1%81%D0%BA%D1%8D_%D0%9D%D0%B8%D1%81%D1%82%D1%80%D1%8F%D0%BD%D1%8D\n",
      "http://mo.wikipedia.org/wiki/%D0%9F%D0%B0%D3%82%D0%B8%D0%BD%D0%B0_%D0%BF%D1%80%D0%B8%D0%BD%D1%87%D0%B8%D0%BF%D0%B0%D0%BB%D1%8D\n",
      "http://mo.wikipedia.org/wiki/%D0%9F%D0%B0%D3%82%D0%B8%D0%BD%D0%B0_%D0%BF%D1%80%D0%B8%D0%BD%D1%87%D0%B8%D0%BF%D0%B0%D0%BB%D1%8D\n"
     ]
    },
    {
     "data": {
      "application/vnd.jupyter.widget-view+json": {
       "model_id": "a6f9c95a969049a9b54a86da6ae94038",
       "version_major": 2,
       "version_minor": 0
      },
      "text/plain": [
       "A Jupyter Widget"
      ]
     },
     "metadata": {},
     "output_type": "display_data"
    },
    {
     "name": "stdout",
     "output_type": "stream",
     "text": [
      "\n"
     ]
    },
    {
     "data": {
      "application/vnd.jupyter.widget-view+json": {
       "model_id": "555ab085925b4d38816c668b01d9d937",
       "version_major": 2,
       "version_minor": 0
      },
      "text/plain": [
       "A Jupyter Widget"
      ]
     },
     "metadata": {},
     "output_type": "display_data"
    },
    {
     "name": "stdout",
     "output_type": "stream",
     "text": [
      "\n"
     ]
    },
    {
     "data": {
      "application/vnd.jupyter.widget-view+json": {
       "model_id": "87184c70710e4e36b0114a928637953f",
       "version_major": 2,
       "version_minor": 0
      },
      "text/plain": [
       "A Jupyter Widget"
      ]
     },
     "metadata": {},
     "output_type": "display_data"
    },
    {
     "name": "stdout",
     "output_type": "stream",
     "text": [
      "\n",
      "http://mo.wikipedia.org/wiki/%D0%9B%D0%B8%D0%BC%D0%B1%D1%8D_%D0%BE%D1%84%D0%B8%D1%87%D0%B8%D0%B0%D0%BB%D1%8D\n",
      "http://mo.wikipedia.org/wiki/%D0%9B%D0%B8%D0%BC%D0%B1%D0%B0_%D0%BC%D0%BE%D0%BB%D0%B4%D0%BE%D0%B2%D0%B5%D0%BD%D1%8F%D1%81%D0%BA%D1%8D\n",
      "http://mo.wikipedia.org/wiki/%D0%9B%D0%B8%D0%BC%D0%B1%D0%B0_%D1%80%D1%83%D1%81%D1%8D\n",
      "http://mo.wikipedia.org/wiki/%D0%9B%D0%B8%D0%BC%D0%B1%D0%B0_%D1%83%D0%BA%D1%80%D0%B0%D0%B8%D0%BD%D1%8F%D0%BD%D1%8D\n",
      "http://mo.wikipedia.org/wiki/%D0%9A%D0%B0%D0%BF%D0%B8%D1%82%D0%B0%D0%BB%D1%8D\n",
      "http://mo.wikipedia.org/wiki/%D0%A2%D0%B8%D1%80%D0%B0%D1%81%D0%BF%D0%BE%D0%BB\n",
      "http://mo.wikipedia.org/wiki/%D0%A2%D0%B8%D0%B3%D0%B8%D0%BD%D0%B0\n",
      "http://mo.wikipedia.org/wiki/%D0%98%D0%B3%D0%BE%D1%80_%D0%A1%D0%BC%D0%B8%D1%80%D0%BD%D0%BE%D0%B2\n",
      "http://mo.wikipedia.org/wiki/%D0%A1%D0%B8%D1%81%D1%82%D0%B5%D0%BC_%D0%BF%D0%BE%D0%BB%D0%B8%D1%82%D0%B8%D0%BA\n",
      "http://mo.wikipedia.org/wiki/%D0%A0%D0%B5%D0%BF%D1%83%D0%B1%D0%BB%D0%B8%D0%BA%D1%8D\n",
      "http://mo.wikipedia.org/wiki/%D0%A1%D1%83%D0%BF%D1%80%D0%B0%D1%84%D0%B0%D1%86%D1%8D\n",
      "http://mo.wikipedia.org/wiki/2001\n",
      "http://mo.wikipedia.org/wiki/%D0%9F%D0%BE%D0%BF%D1%83%D0%BB%D0%B0%D1%86%D0%B8%D0%B5\n",
      "http://mo.wikipedia.org/wiki/%D0%94%D0%B5%D0%BD%D1%81%D0%B8%D1%82%D0%B0%D1%82%D1%8F_%D0%BF%D0%BE%D0%BF%D1%83%D0%BB%D0%B0%D1%86%D0%B8%D0%B5%D0%B9\n",
      "http://mo.wikipedia.org/wiki/1990\n",
      "http://mo.wikipedia.org/wiki/%D0%9F%D1%80%D0%BE%D0%B4%D1%83%D1%81_%D0%B8%D0%BD%D1%82%D0%B5%D1%80%D0%BD_%D0%B1%D1%80%D1%83%D1%82\n",
      "http://mo.wikipedia.org/wiki/%D0%9C%D0%BE%D0%BD%D0%B5%D0%B4%D1%8D\n",
      "http://mo.wikipedia.org/wiki/%D0%A0%D1%83%D0%B1%D0%BB%D1%8D_%D0%A2%D1%80%D0%B0%D0%BD%D1%81%D0%BD%D0%B8%D1%81%D1%82%D1%80%D1%8F%D0%BD%D1%8D\n",
      "http://mo.wikipedia.org/wiki/%D0%A4%D1%83%D1%81_%D0%BE%D1%80%D0%B0%D1%80\n",
      "http://mo.wikipedia.org/wiki/%D0%98%D0%BC%D0%BD_%D0%BD%D0%B0%D1%86%D0%B8%D0%BE%D0%BD%D0%B0%D0%BB\n",
      "http://mo.wikipedia.org/wiki/%D0%94%D0%BE%D0%BC%D0%B5%D0%BD%D0%B8%D1%83_%D0%BD%D0%B0%D1%86%D0%B8%D0%BE%D0%BD%D0%B0%D0%BB_%D0%B4%D0%B5_%D0%BD%D0%B8%D0%B2%D0%B5%D0%BB_%D1%81%D1%83%D0%BF%D0%B5%D1%80%D0%B8%D0%BE%D1%80\n",
      "http://mo.wikipedia.org/wiki/%D0%95%D1%83%D1%80%D0%BE%D0%BF%D0%B0\n",
      "http://mo.wikipedia.org/wiki/%D0%A3%D0%BA%D1%80%D0%B0%D0%B8%D0%BD%D0%B0\n",
      "http://mo.wikipedia.org/wiki/%D0%A0%D0%B5%D0%BF%D1%83%D0%B1%D0%BB%D0%B8%D0%BA%D0%B0_%D0%9C%D0%BE%D0%BB%D0%B4%D0%BE%D0%B2%D0%B0\n",
      "http://mo.wikipedia.org/wiki/%D0%9D%D0%B8%D1%81%D1%82%D1%80%D1%83\n",
      "http://mo.wikipedia.org/wiki/%D0%A2%D0%B8%D1%80%D0%B0%D1%81%D0%BF%D0%BE%D0%BB\n",
      "http://mo.wikipedia.org/wiki/%D0%A2%D0%B8%D0%B3%D0%B8%D0%BD%D0%B0\n",
      "http://mo.wikipedia.org/wiki/%D0%A0%D0%B5%D0%BF%D1%83%D0%B1%D0%BB%D0%B8%D0%BA%D0%B0_%D0%9C%D0%BE%D0%BB%D0%B4%D0%BE%D0%B2%D0%B5%D0%BD%D1%8F%D1%81%D0%BA%D1%8D_%D0%9D%D0%B8%D1%81%D1%82%D1%80%D1%8F%D0%BD%D1%8D\n",
      "http://mo.wikipedia.org/wiki/%D0%A0%D0%B5%D0%BF%D1%83%D0%B1%D0%BB%D0%B8%D0%BA%D0%B0_%D0%9C%D0%BE%D0%BB%D0%B4%D0%BE%D0%B2%D0%B5%D0%BD%D1%8F%D1%81%D0%BA%D1%8D_%D0%9D%D0%B8%D1%81%D1%82%D1%80%D1%8F%D0%BD%D1%8D\n",
      "http://mo.wikipedia.org/wiki/%D0%9F%D0%B0%D3%82%D0%B8%D0%BD%D0%B0_%D0%BF%D1%80%D0%B8%D0%BD%D1%87%D0%B8%D0%BF%D0%B0%D0%BB%D1%8D\n",
      "http://mo.wikipedia.org/wiki/%D0%9F%D0%B0%D3%82%D0%B8%D0%BD%D0%B0_%D0%BF%D1%80%D0%B8%D0%BD%D1%87%D0%B8%D0%BF%D0%B0%D0%BB%D1%8D\n"
     ]
    },
    {
     "data": {
      "application/vnd.jupyter.widget-view+json": {
       "model_id": "82f9feb5b833495f9182459acd6ef22e",
       "version_major": 2,
       "version_minor": 0
      },
      "text/plain": [
       "A Jupyter Widget"
      ]
     },
     "metadata": {},
     "output_type": "display_data"
    },
    {
     "name": "stdout",
     "output_type": "stream",
     "text": [
      "\n"
     ]
    },
    {
     "data": {
      "application/vnd.jupyter.widget-view+json": {
       "model_id": "4335fefaf4d94088aee8bd803cffbd43",
       "version_major": 2,
       "version_minor": 0
      },
      "text/plain": [
       "A Jupyter Widget"
      ]
     },
     "metadata": {},
     "output_type": "display_data"
    },
    {
     "name": "stdout",
     "output_type": "stream",
     "text": [
      "\n"
     ]
    },
    {
     "data": {
      "application/vnd.jupyter.widget-view+json": {
       "model_id": "b56056380f134bce89cca8fdccbf2185",
       "version_major": 2,
       "version_minor": 0
      },
      "text/plain": [
       "A Jupyter Widget"
      ]
     },
     "metadata": {},
     "output_type": "display_data"
    },
    {
     "name": "stdout",
     "output_type": "stream",
     "text": [
      "\n"
     ]
    },
    {
     "data": {
      "application/vnd.jupyter.widget-view+json": {
       "model_id": "cfda24d7104c4259be3482e628c36be0",
       "version_major": 2,
       "version_minor": 0
      },
      "text/plain": [
       "A Jupyter Widget"
      ]
     },
     "metadata": {},
     "output_type": "display_data"
    },
    {
     "name": "stdout",
     "output_type": "stream",
     "text": [
      "\n"
     ]
    },
    {
     "data": {
      "application/vnd.jupyter.widget-view+json": {
       "model_id": "fdd8d11619d4404bbb995f01bf69b381",
       "version_major": 2,
       "version_minor": 0
      },
      "text/plain": [
       "A Jupyter Widget"
      ]
     },
     "metadata": {},
     "output_type": "display_data"
    },
    {
     "name": "stdout",
     "output_type": "stream",
     "text": [
      "\n"
     ]
    },
    {
     "data": {
      "application/vnd.jupyter.widget-view+json": {
       "model_id": "32c8b62e19e14a56b9d91c4d8896295e",
       "version_major": 2,
       "version_minor": 0
      },
      "text/plain": [
       "A Jupyter Widget"
      ]
     },
     "metadata": {},
     "output_type": "display_data"
    },
    {
     "name": "stdout",
     "output_type": "stream",
     "text": [
      "\n",
      "http://mo.wikipedia.org/wiki/%D0%A0%D0%B5%D0%BF%D1%83%D0%B1%D0%BB%D0%B8%D0%BA%D0%B0_%D0%9C%D0%BE%D0%BB%D0%B4%D0%BE%D0%B2%D0%B5%D0%BD%D1%8F%D1%81%D0%BA%D1%8D_%D0%9D%D0%B8%D1%81%D1%82%D1%80%D1%8F%D0%BD%D1%8D\n",
      "http://mo.wikipedia.org/wiki/%D0%A0%D0%B5%D0%BF%D1%83%D0%B1%D0%BB%D0%B8%D0%BA%D0%B0_%D0%9C%D0%BE%D0%BB%D0%B4%D0%BE%D0%B2%D0%B5%D0%BD%D1%8F%D1%81%D0%BA%D1%8D_%D0%9D%D0%B8%D1%81%D1%82%D1%80%D1%8F%D0%BD%D1%8D\n",
      "http://mo.wikipedia.org/wiki/%D0%9D%D0%B8%D1%81%D1%82%D1%80%D1%83\n",
      "http://mo.wikipedia.org/wiki/%D0%A0%D1%83%D1%88%D1%8C\n",
      "http://mo.wikipedia.org/wiki/%D0%A2%D0%B8%D1%80%D0%B0%D1%81%D0%BF%D0%BE%D0%BB\n",
      "http://mo.wikipedia.org/wiki/%D0%A2%D0%B8%D1%80%D0%B0%D1%81%D0%BF%D0%BE%D0%BB\n",
      "http://mo.wikipedia.org/wiki/%D0%9F%D0%B0%D3%82%D0%B8%D0%BD%D0%B0_%D0%BF%D1%80%D0%B8%D0%BD%D1%87%D0%B8%D0%BF%D0%B0%D0%BB%D1%8D\n",
      "http://mo.wikipedia.org/wiki/%D0%9F%D0%B0%D3%82%D0%B8%D0%BD%D0%B0_%D0%BF%D1%80%D0%B8%D0%BD%D1%87%D0%B8%D0%BF%D0%B0%D0%BB%D1%8D\n"
     ]
    },
    {
     "data": {
      "application/vnd.jupyter.widget-view+json": {
       "model_id": "88b795a3dcff473c8f4df9e425250c69",
       "version_major": 2,
       "version_minor": 0
      },
      "text/plain": [
       "A Jupyter Widget"
      ]
     },
     "metadata": {},
     "output_type": "display_data"
    },
    {
     "name": "stdout",
     "output_type": "stream",
     "text": [
      "\n"
     ]
    },
    {
     "data": {
      "application/vnd.jupyter.widget-view+json": {
       "model_id": "d619e00684414726a3f1b27584762d9f",
       "version_major": 2,
       "version_minor": 0
      },
      "text/plain": [
       "A Jupyter Widget"
      ]
     },
     "metadata": {},
     "output_type": "display_data"
    },
    {
     "name": "stdout",
     "output_type": "stream",
     "text": [
      "\n"
     ]
    },
    {
     "data": {
      "application/vnd.jupyter.widget-view+json": {
       "model_id": "db29153c44c44e72b345e180772d5848",
       "version_major": 2,
       "version_minor": 0
      },
      "text/plain": [
       "A Jupyter Widget"
      ]
     },
     "metadata": {},
     "output_type": "display_data"
    },
    {
     "name": "stdout",
     "output_type": "stream",
     "text": [
      "\n"
     ]
    },
    {
     "data": {
      "application/vnd.jupyter.widget-view+json": {
       "model_id": "1d77e6d89bcf40e88f0e16ae01a75709",
       "version_major": 2,
       "version_minor": 0
      },
      "text/plain": [
       "A Jupyter Widget"
      ]
     },
     "metadata": {},
     "output_type": "display_data"
    },
    {
     "name": "stdout",
     "output_type": "stream",
     "text": [
      "\n"
     ]
    },
    {
     "data": {
      "application/vnd.jupyter.widget-view+json": {
       "model_id": "883f50fbfdae42178df42f44e6962793",
       "version_major": 2,
       "version_minor": 0
      },
      "text/plain": [
       "A Jupyter Widget"
      ]
     },
     "metadata": {},
     "output_type": "display_data"
    },
    {
     "name": "stdout",
     "output_type": "stream",
     "text": [
      "\n",
      "http://mo.wikipedia.org/wiki/%D0%A1%D0%BB%D0%B0%D0%B2%D1%8C\n",
      "http://mo.wikipedia.org/wiki/%D0%95%D1%83%D1%80%D0%BE%D0%BF%D0%B0\n",
      "http://mo.wikipedia.org/wiki/%D0%90%D1%81%D0%B8%D1%8F\n",
      "http://mo.wikipedia.org/wiki/%D0%9B%D0%B8%D0%BC%D0%B1%D0%B0_%D1%80%D1%83%D1%81%D1%8D\n",
      "http://mo.wikipedia.org/wiki/%D0%A0%D1%83%D1%88%D1%8C\n",
      "http://mo.wikipedia.org/wiki/%D0%A0%D1%83%D1%88%D1%8C\n",
      "http://mo.wikipedia.org/wiki/%D0%9F%D0%B0%D3%82%D0%B8%D0%BD%D0%B0_%D0%BF%D1%80%D0%B8%D0%BD%D1%87%D0%B8%D0%BF%D0%B0%D0%BB%D1%8D\n",
      "http://mo.wikipedia.org/wiki/%D0%9F%D0%B0%D3%82%D0%B8%D0%BD%D0%B0_%D0%BF%D1%80%D0%B8%D0%BD%D1%87%D0%B8%D0%BF%D0%B0%D0%BB%D1%8D\n"
     ]
    },
    {
     "data": {
      "application/vnd.jupyter.widget-view+json": {
       "model_id": "de8ee6a156bc4909b3a8bf2b31c5ed19",
       "version_major": 2,
       "version_minor": 0
      },
      "text/plain": [
       "A Jupyter Widget"
      ]
     },
     "metadata": {},
     "output_type": "display_data"
    },
    {
     "name": "stdout",
     "output_type": "stream",
     "text": [
      "\n"
     ]
    },
    {
     "data": {
      "application/vnd.jupyter.widget-view+json": {
       "model_id": "6aa1bb5af7704647ab87a35a0800ab02",
       "version_major": 2,
       "version_minor": 0
      },
      "text/plain": [
       "A Jupyter Widget"
      ]
     },
     "metadata": {},
     "output_type": "display_data"
    },
    {
     "name": "stdout",
     "output_type": "stream",
     "text": [
      "\n"
     ]
    },
    {
     "data": {
      "application/vnd.jupyter.widget-view+json": {
       "model_id": "c4c40d46a9a94922a3d748f768c0dec6",
       "version_major": 2,
       "version_minor": 0
      },
      "text/plain": [
       "A Jupyter Widget"
      ]
     },
     "metadata": {},
     "output_type": "display_data"
    },
    {
     "name": "stdout",
     "output_type": "stream",
     "text": [
      "\n"
     ]
    },
    {
     "data": {
      "application/vnd.jupyter.widget-view+json": {
       "model_id": "6930dca2843f442f962c315daa6ab27c",
       "version_major": 2,
       "version_minor": 0
      },
      "text/plain": [
       "A Jupyter Widget"
      ]
     },
     "metadata": {},
     "output_type": "display_data"
    },
    {
     "name": "stdout",
     "output_type": "stream",
     "text": [
      "\n"
     ]
    },
    {
     "data": {
      "application/vnd.jupyter.widget-view+json": {
       "model_id": "13c4af91e5de4117bf6a34c8f071582e",
       "version_major": 2,
       "version_minor": 0
      },
      "text/plain": [
       "A Jupyter Widget"
      ]
     },
     "metadata": {},
     "output_type": "display_data"
    },
    {
     "name": "stdout",
     "output_type": "stream",
     "text": [
      "\n",
      "http://mo.wikipedia.org/wiki/%D0%9B%D0%B8%D0%BC%D0%B1%D1%8D\n",
      "http://mo.wikipedia.org/wiki/%D0%A0%D1%83%D1%81%D0%B8%D1%8F\n",
      "http://mo.wikipedia.org/wiki/%D0%9B%D0%B8%D0%BC%D0%B1%D0%B0_%D1%80%D1%83%D1%81%D1%8D\n",
      "http://mo.wikipedia.org/wiki/%D0%9B%D0%B8%D0%BC%D0%B1%D0%B0_%D1%80%D1%83%D1%81%D1%8D\n",
      "http://mo.wikipedia.org/wiki/%D0%9F%D0%B0%D3%82%D0%B8%D0%BD%D0%B0_%D0%BF%D1%80%D0%B8%D0%BD%D1%87%D0%B8%D0%BF%D0%B0%D0%BB%D1%8D\n",
      "http://mo.wikipedia.org/wiki/%D0%9F%D0%B0%D3%82%D0%B8%D0%BD%D0%B0_%D0%BF%D1%80%D0%B8%D0%BD%D1%87%D0%B8%D0%BF%D0%B0%D0%BB%D1%8D\n"
     ]
    },
    {
     "data": {
      "application/vnd.jupyter.widget-view+json": {
       "model_id": "e57ce0b3dbef42aa942126c939776432",
       "version_major": 2,
       "version_minor": 0
      },
      "text/plain": [
       "A Jupyter Widget"
      ]
     },
     "metadata": {},
     "output_type": "display_data"
    },
    {
     "name": "stdout",
     "output_type": "stream",
     "text": [
      "\n"
     ]
    },
    {
     "data": {
      "application/vnd.jupyter.widget-view+json": {
       "model_id": "d519b7bf8651462086f5c75e70b7e511",
       "version_major": 2,
       "version_minor": 0
      },
      "text/plain": [
       "A Jupyter Widget"
      ]
     },
     "metadata": {},
     "output_type": "display_data"
    },
    {
     "name": "stdout",
     "output_type": "stream",
     "text": [
      "\n"
     ]
    },
    {
     "data": {
      "application/vnd.jupyter.widget-view+json": {
       "model_id": "0ea253226ce3437b920b50bce18930e6",
       "version_major": 2,
       "version_minor": 0
      },
      "text/plain": [
       "A Jupyter Widget"
      ]
     },
     "metadata": {},
     "output_type": "display_data"
    },
    {
     "name": "stdout",
     "output_type": "stream",
     "text": [
      "\n"
     ]
    },
    {
     "data": {
      "application/vnd.jupyter.widget-view+json": {
       "model_id": "7da08ec768b84640bf22fafb8185a822",
       "version_major": 2,
       "version_minor": 0
      },
      "text/plain": [
       "A Jupyter Widget"
      ]
     },
     "metadata": {},
     "output_type": "display_data"
    },
    {
     "name": "stdout",
     "output_type": "stream",
     "text": [
      "\n"
     ]
    },
    {
     "data": {
      "application/vnd.jupyter.widget-view+json": {
       "model_id": "658e420d504a4ec998f0889fe379e1dc",
       "version_major": 2,
       "version_minor": 0
      },
      "text/plain": [
       "A Jupyter Widget"
      ]
     },
     "metadata": {},
     "output_type": "display_data"
    },
    {
     "name": "stdout",
     "output_type": "stream",
     "text": [
      "\n"
     ]
    },
    {
     "data": {
      "application/vnd.jupyter.widget-view+json": {
       "model_id": "6ba5c127619d4ef8b41a5e6c90af660a",
       "version_major": 2,
       "version_minor": 0
      },
      "text/plain": [
       "A Jupyter Widget"
      ]
     },
     "metadata": {},
     "output_type": "display_data"
    },
    {
     "name": "stdout",
     "output_type": "stream",
     "text": [
      "\n",
      "http://mo.wikipedia.org/wiki/%D0%9B%D0%B8%D0%BC%D0%B1%D1%8D\n",
      "http://mo.wikipedia.org/wiki/%D0%9B%D0%B8%D0%BC%D0%B1%D1%8D\n",
      "http://mo.wikipedia.org/wiki/%D0%9F%D0%B0%D3%82%D0%B8%D0%BD%D0%B0_%D0%BF%D1%80%D0%B8%D0%BD%D1%87%D0%B8%D0%BF%D0%B0%D0%BB%D1%8D\n",
      "http://mo.wikipedia.org/wiki/%D0%9F%D0%B0%D3%82%D0%B8%D0%BD%D0%B0_%D0%BF%D1%80%D0%B8%D0%BD%D1%87%D0%B8%D0%BF%D0%B0%D0%BB%D1%8D\n"
     ]
    },
    {
     "data": {
      "application/vnd.jupyter.widget-view+json": {
       "model_id": "4f410a1c8ae24bdb9ebb3b099178b52a",
       "version_major": 2,
       "version_minor": 0
      },
      "text/plain": [
       "A Jupyter Widget"
      ]
     },
     "metadata": {},
     "output_type": "display_data"
    },
    {
     "name": "stdout",
     "output_type": "stream",
     "text": [
      "\n"
     ]
    },
    {
     "data": {
      "application/vnd.jupyter.widget-view+json": {
       "model_id": "c0862494138e483ab75a43ea8bc70d30",
       "version_major": 2,
       "version_minor": 0
      },
      "text/plain": [
       "A Jupyter Widget"
      ]
     },
     "metadata": {},
     "output_type": "display_data"
    },
    {
     "name": "stdout",
     "output_type": "stream",
     "text": [
      "\n"
     ]
    },
    {
     "data": {
      "application/vnd.jupyter.widget-view+json": {
       "model_id": "90be2468c1484896a1c6e41c1bc492e1",
       "version_major": 2,
       "version_minor": 0
      },
      "text/plain": [
       "A Jupyter Widget"
      ]
     },
     "metadata": {},
     "output_type": "display_data"
    },
    {
     "name": "stdout",
     "output_type": "stream",
     "text": [
      "\n"
     ]
    },
    {
     "data": {
      "application/vnd.jupyter.widget-view+json": {
       "model_id": "5cd67fee14ab4c6991a8f9cf1444ce58",
       "version_major": 2,
       "version_minor": 0
      },
      "text/plain": [
       "A Jupyter Widget"
      ]
     },
     "metadata": {},
     "output_type": "display_data"
    },
    {
     "name": "stdout",
     "output_type": "stream",
     "text": [
      "\n"
     ]
    },
    {
     "data": {
      "application/vnd.jupyter.widget-view+json": {
       "model_id": "0ef6664d6f0640bfb44b830ebedb2e99",
       "version_major": 2,
       "version_minor": 0
      },
      "text/plain": [
       "A Jupyter Widget"
      ]
     },
     "metadata": {},
     "output_type": "display_data"
    },
    {
     "name": "stdout",
     "output_type": "stream",
     "text": [
      "\n"
     ]
    },
    {
     "data": {
      "application/vnd.jupyter.widget-view+json": {
       "model_id": "796d39594e104a8981e437478cf3435e",
       "version_major": 2,
       "version_minor": 0
      },
      "text/plain": [
       "A Jupyter Widget"
      ]
     },
     "metadata": {},
     "output_type": "display_data"
    },
    {
     "name": "stdout",
     "output_type": "stream",
     "text": [
      "\n"
     ]
    },
    {
     "data": {
      "application/vnd.jupyter.widget-view+json": {
       "model_id": "f36d145f7abb479a93e9ead907e57b67",
       "version_major": 2,
       "version_minor": 0
      },
      "text/plain": [
       "A Jupyter Widget"
      ]
     },
     "metadata": {},
     "output_type": "display_data"
    },
    {
     "name": "stdout",
     "output_type": "stream",
     "text": [
      "\n",
      "http://mo.wikipedia.org/wiki/%D0%A0%D1%83%D1%88%D1%8C\n",
      "http://mo.wikipedia.org/wiki/%D0%A1%D0%BB%D0%B0%D0%B2%D1%8C\n",
      "http://mo.wikipedia.org/wiki/%D0%A1%D0%BB%D0%B0%D0%B2%D1%8C\n",
      "http://mo.wikipedia.org/wiki/%D0%9F%D0%B0%D3%82%D0%B8%D0%BD%D0%B0_%D0%BF%D1%80%D0%B8%D0%BD%D1%87%D0%B8%D0%BF%D0%B0%D0%BB%D1%8D\n",
      "http://mo.wikipedia.org/wiki/%D0%9F%D0%B0%D3%82%D0%B8%D0%BD%D0%B0_%D0%BF%D1%80%D0%B8%D0%BD%D1%87%D0%B8%D0%BF%D0%B0%D0%BB%D1%8D\n"
     ]
    },
    {
     "data": {
      "application/vnd.jupyter.widget-view+json": {
       "model_id": "24a81268c6dd46b390dc4eacc68bd117",
       "version_major": 2,
       "version_minor": 0
      },
      "text/plain": [
       "A Jupyter Widget"
      ]
     },
     "metadata": {},
     "output_type": "display_data"
    },
    {
     "name": "stdout",
     "output_type": "stream",
     "text": [
      "\n"
     ]
    },
    {
     "data": {
      "application/vnd.jupyter.widget-view+json": {
       "model_id": "b1a1cdbf9b6945f48ed25ca1d9d6a686",
       "version_major": 2,
       "version_minor": 0
      },
      "text/plain": [
       "A Jupyter Widget"
      ]
     },
     "metadata": {},
     "output_type": "display_data"
    },
    {
     "name": "stdout",
     "output_type": "stream",
     "text": [
      "\n"
     ]
    },
    {
     "data": {
      "application/vnd.jupyter.widget-view+json": {
       "model_id": "c06a33abe56540289a94c0b262605a89",
       "version_major": 2,
       "version_minor": 0
      },
      "text/plain": [
       "A Jupyter Widget"
      ]
     },
     "metadata": {},
     "output_type": "display_data"
    },
    {
     "name": "stdout",
     "output_type": "stream",
     "text": [
      "\n"
     ]
    },
    {
     "data": {
      "application/vnd.jupyter.widget-view+json": {
       "model_id": "1da545acd5374675b74a00fb004df0bd",
       "version_major": 2,
       "version_minor": 0
      },
      "text/plain": [
       "A Jupyter Widget"
      ]
     },
     "metadata": {},
     "output_type": "display_data"
    },
    {
     "name": "stdout",
     "output_type": "stream",
     "text": [
      "\n"
     ]
    },
    {
     "data": {
      "application/vnd.jupyter.widget-view+json": {
       "model_id": "62d5eca5f51e42efb49fa20ceb5884b5",
       "version_major": 2,
       "version_minor": 0
      },
      "text/plain": [
       "A Jupyter Widget"
      ]
     },
     "metadata": {},
     "output_type": "display_data"
    },
    {
     "name": "stdout",
     "output_type": "stream",
     "text": [
      "\n"
     ]
    },
    {
     "data": {
      "application/vnd.jupyter.widget-view+json": {
       "model_id": "dfb9cec9421a4fcc85e376393367fb51",
       "version_major": 2,
       "version_minor": 0
      },
      "text/plain": [
       "A Jupyter Widget"
      ]
     },
     "metadata": {},
     "output_type": "display_data"
    },
    {
     "name": "stdout",
     "output_type": "stream",
     "text": [
      "\n",
      "http://mo.wikipedia.org/wiki/%D0%9D%D0%B8%D1%81%D1%82%D1%80%D1%83_(%D0%B4%D0%B5%D0%B7%D0%B0%D0%BC%D0%B1%D0%B8%D0%B3%D1%83%D0%B8%D0%B7%D0%B0%D1%80%D0%B5)\n",
      "http://mo.wikipedia.org/wiki/%D0%A3%D0%BA%D1%80%D0%B0%D0%B8%D0%BD%D0%B0\n",
      "http://mo.wikipedia.org/wiki/%D0%9C%D0%BE%D0%BB%D0%B4%D0%BE%D0%B2%D0%B0\n",
      "http://mo.wikipedia.org/wiki/%D0%A2%D1%80%D0%B0%D0%BD%D1%81%D0%BD%D0%B8%D1%81%D1%82%D1%80%D0%B8%D1%8F\n",
      "http://mo.wikipedia.org/wiki/%D0%9D%D0%B8%D1%81%D1%82%D1%80%D1%83_(%D1%80%D1%8B%D1%83)\n",
      "http://mo.wikipedia.org/wiki/%D0%9D%D0%B8%D1%81%D1%82%D1%80%D1%83_(%D1%80%D1%8B%D1%83)\n",
      "http://mo.wikipedia.org/wiki/%D0%9F%D0%B0%D3%82%D0%B8%D0%BD%D0%B0_%D0%BF%D1%80%D0%B8%D0%BD%D1%87%D0%B8%D0%BF%D0%B0%D0%BB%D1%8D\n",
      "http://mo.wikipedia.org/wiki/%D0%9F%D0%B0%D3%82%D0%B8%D0%BD%D0%B0_%D0%BF%D1%80%D0%B8%D0%BD%D1%87%D0%B8%D0%BF%D0%B0%D0%BB%D1%8D\n"
     ]
    },
    {
     "data": {
      "application/vnd.jupyter.widget-view+json": {
       "model_id": "3842490cbfea4ddaa3a159bedb7961bc",
       "version_major": 2,
       "version_minor": 0
      },
      "text/plain": [
       "A Jupyter Widget"
      ]
     },
     "metadata": {},
     "output_type": "display_data"
    },
    {
     "name": "stdout",
     "output_type": "stream",
     "text": [
      "\n"
     ]
    },
    {
     "data": {
      "application/vnd.jupyter.widget-view+json": {
       "model_id": "c66f439fcb0d498890d973576b22b55d",
       "version_major": 2,
       "version_minor": 0
      },
      "text/plain": [
       "A Jupyter Widget"
      ]
     },
     "metadata": {},
     "output_type": "display_data"
    },
    {
     "name": "stdout",
     "output_type": "stream",
     "text": [
      "\n"
     ]
    },
    {
     "data": {
      "application/vnd.jupyter.widget-view+json": {
       "model_id": "88bd09a4f441423197da17af0ca54e0f",
       "version_major": 2,
       "version_minor": 0
      },
      "text/plain": [
       "A Jupyter Widget"
      ]
     },
     "metadata": {},
     "output_type": "display_data"
    },
    {
     "name": "stdout",
     "output_type": "stream",
     "text": [
      "\n",
      "http://mo.wikipedia.org/wiki/%D0%9D%D0%B8%D1%81%D1%82%D1%80%D1%83_(%D0%B4%D0%B5%D0%B7%D0%B0%D0%BC%D0%B1%D0%B8%D0%B3%D1%83%D0%B8%D0%B7%D0%B0%D1%80%D0%B5)\n",
      "http://mo.wikipedia.org/wiki/%D0%A3%D0%BA%D1%80%D0%B0%D0%B8%D0%BD%D0%B0\n",
      "http://mo.wikipedia.org/wiki/%D0%9C%D0%BE%D0%BB%D0%B4%D0%BE%D0%B2%D0%B0\n",
      "http://mo.wikipedia.org/wiki/%D0%A2%D1%80%D0%B0%D0%BD%D1%81%D0%BD%D0%B8%D1%81%D1%82%D1%80%D0%B8%D1%8F\n",
      "http://mo.wikipedia.org/wiki/%D0%9D%D0%B8%D1%81%D1%82%D1%80%D1%83_(%D1%80%D1%8B%D1%83)\n",
      "http://mo.wikipedia.org/wiki/%D0%9D%D0%B8%D1%81%D1%82%D1%80%D1%83_(%D1%80%D1%8B%D1%83)\n",
      "http://mo.wikipedia.org/wiki/%D0%9F%D0%B0%D3%82%D0%B8%D0%BD%D0%B0_%D0%BF%D1%80%D0%B8%D0%BD%D1%87%D0%B8%D0%BF%D0%B0%D0%BB%D1%8D\n",
      "http://mo.wikipedia.org/wiki/%D0%9F%D0%B0%D3%82%D0%B8%D0%BD%D0%B0_%D0%BF%D1%80%D0%B8%D0%BD%D1%87%D0%B8%D0%BF%D0%B0%D0%BB%D1%8D\n"
     ]
    },
    {
     "data": {
      "application/vnd.jupyter.widget-view+json": {
       "model_id": "07c8628ad08b4bf2a21c52e1cb4a9a7a",
       "version_major": 2,
       "version_minor": 0
      },
      "text/plain": [
       "A Jupyter Widget"
      ]
     },
     "metadata": {},
     "output_type": "display_data"
    },
    {
     "name": "stdout",
     "output_type": "stream",
     "text": [
      "\n"
     ]
    },
    {
     "data": {
      "application/vnd.jupyter.widget-view+json": {
       "model_id": "09d5e249ebcb4feea7f102437ee05f10",
       "version_major": 2,
       "version_minor": 0
      },
      "text/plain": [
       "A Jupyter Widget"
      ]
     },
     "metadata": {},
     "output_type": "display_data"
    },
    {
     "name": "stdout",
     "output_type": "stream",
     "text": [
      "\n"
     ]
    },
    {
     "data": {
      "application/vnd.jupyter.widget-view+json": {
       "model_id": "04cf4f0687334dabbc97c45aecfc7b81",
       "version_major": 2,
       "version_minor": 0
      },
      "text/plain": [
       "A Jupyter Widget"
      ]
     },
     "metadata": {},
     "output_type": "display_data"
    },
    {
     "name": "stdout",
     "output_type": "stream",
     "text": [
      "\n"
     ]
    },
    {
     "data": {
      "application/vnd.jupyter.widget-view+json": {
       "model_id": "47b85a0021a64d94acb66d494db87f56",
       "version_major": 2,
       "version_minor": 0
      },
      "text/plain": [
       "A Jupyter Widget"
      ]
     },
     "metadata": {},
     "output_type": "display_data"
    },
    {
     "name": "stdout",
     "output_type": "stream",
     "text": [
      "\n"
     ]
    },
    {
     "data": {
      "application/vnd.jupyter.widget-view+json": {
       "model_id": "5b20e7c75fa94148b46e525ca7ffd6e5",
       "version_major": 2,
       "version_minor": 0
      },
      "text/plain": [
       "A Jupyter Widget"
      ]
     },
     "metadata": {},
     "output_type": "display_data"
    },
    {
     "name": "stdout",
     "output_type": "stream",
     "text": [
      "\n"
     ]
    },
    {
     "data": {
      "application/vnd.jupyter.widget-view+json": {
       "model_id": "9c97bb293fcd45319f9ffb738eae17f0",
       "version_major": 2,
       "version_minor": 0
      },
      "text/plain": [
       "A Jupyter Widget"
      ]
     },
     "metadata": {},
     "output_type": "display_data"
    },
    {
     "name": "stdout",
     "output_type": "stream",
     "text": [
      "\n"
     ]
    },
    {
     "data": {
      "application/vnd.jupyter.widget-view+json": {
       "model_id": "e14241c9dda542069ee4920688f5d252",
       "version_major": 2,
       "version_minor": 0
      },
      "text/plain": [
       "A Jupyter Widget"
      ]
     },
     "metadata": {},
     "output_type": "display_data"
    },
    {
     "name": "stdout",
     "output_type": "stream",
     "text": [
      "\n"
     ]
    },
    {
     "data": {
      "application/vnd.jupyter.widget-view+json": {
       "model_id": "3b08258a22ba4363b4fdfb15f867613e",
       "version_major": 2,
       "version_minor": 0
      },
      "text/plain": [
       "A Jupyter Widget"
      ]
     },
     "metadata": {},
     "output_type": "display_data"
    },
    {
     "name": "stdout",
     "output_type": "stream",
     "text": [
      "\n",
      "http://mo.wikipedia.org/wiki/%D0%A4%D0%BE%D1%82%D0%B1%D0%B0%D0%BB\n",
      "http://mo.wikipedia.org/wiki/%D0%9D%D0%B8%D1%81%D1%82%D1%80%D1%83_(%D1%80%D1%8B%D1%83)\n",
      "http://mo.wikipedia.org/wiki/%D0%9D%D0%B8%D1%81%D1%82%D1%80%D1%83_(%D0%B4%D0%B5%D0%B7%D0%B0%D0%BC%D0%B1%D0%B8%D0%B3%D1%83%D0%B8%D0%B7%D0%B0%D1%80%D0%B5)\n",
      "http://mo.wikipedia.org/wiki/%D0%9D%D0%B8%D1%81%D1%82%D1%80%D1%83_(%D0%B4%D0%B5%D0%B7%D0%B0%D0%BC%D0%B1%D0%B8%D0%B3%D1%83%D0%B8%D0%B7%D0%B0%D1%80%D0%B5)\n",
      "http://mo.wikipedia.org/wiki/%D0%9F%D0%B0%D3%82%D0%B8%D0%BD%D0%B0_%D0%BF%D1%80%D0%B8%D0%BD%D1%87%D0%B8%D0%BF%D0%B0%D0%BB%D1%8D\n",
      "http://mo.wikipedia.org/wiki/%D0%9F%D0%B0%D3%82%D0%B8%D0%BD%D0%B0_%D0%BF%D1%80%D0%B8%D0%BD%D1%87%D0%B8%D0%BF%D0%B0%D0%BB%D1%8D\n"
     ]
    },
    {
     "data": {
      "application/vnd.jupyter.widget-view+json": {
       "model_id": "200e4c3818154ce5b0bd790919222ea5",
       "version_major": 2,
       "version_minor": 0
      },
      "text/plain": [
       "A Jupyter Widget"
      ]
     },
     "metadata": {},
     "output_type": "display_data"
    },
    {
     "name": "stdout",
     "output_type": "stream",
     "text": [
      "\n"
     ]
    },
    {
     "data": {
      "application/vnd.jupyter.widget-view+json": {
       "model_id": "52e31c1cd0f64637a87486c417434394",
       "version_major": 2,
       "version_minor": 0
      },
      "text/plain": [
       "A Jupyter Widget"
      ]
     },
     "metadata": {},
     "output_type": "display_data"
    },
    {
     "name": "stdout",
     "output_type": "stream",
     "text": [
      "\n"
     ]
    },
    {
     "data": {
      "application/vnd.jupyter.widget-view+json": {
       "model_id": "12507caa66b74cfdb8cca48a9408e937",
       "version_major": 2,
       "version_minor": 0
      },
      "text/plain": [
       "A Jupyter Widget"
      ]
     },
     "metadata": {},
     "output_type": "display_data"
    },
    {
     "name": "stdout",
     "output_type": "stream",
     "text": [
      "\n"
     ]
    },
    {
     "data": {
      "application/vnd.jupyter.widget-view+json": {
       "model_id": "417d323911ac4135b5d43110c39c28b0",
       "version_major": 2,
       "version_minor": 0
      },
      "text/plain": [
       "A Jupyter Widget"
      ]
     },
     "metadata": {},
     "output_type": "display_data"
    },
    {
     "name": "stdout",
     "output_type": "stream",
     "text": [
      "\n"
     ]
    },
    {
     "data": {
      "application/vnd.jupyter.widget-view+json": {
       "model_id": "3d4da44c75484460a8b59321cfe74f41",
       "version_major": 2,
       "version_minor": 0
      },
      "text/plain": [
       "A Jupyter Widget"
      ]
     },
     "metadata": {},
     "output_type": "display_data"
    },
    {
     "name": "stdout",
     "output_type": "stream",
     "text": [
      "\n"
     ]
    },
    {
     "data": {
      "application/vnd.jupyter.widget-view+json": {
       "model_id": "7ed2e986d5a14d82b695eed59d7c8a19",
       "version_major": 2,
       "version_minor": 0
      },
      "text/plain": [
       "A Jupyter Widget"
      ]
     },
     "metadata": {},
     "output_type": "display_data"
    },
    {
     "name": "stdout",
     "output_type": "stream",
     "text": [
      "\n",
      "http://mo.wikipedia.org/wiki/%D0%A4%D0%BE%D1%82%D0%B1%D0%B0%D0%BB\n",
      "http://mo.wikipedia.org/wiki/%D0%A4%D0%BE%D1%82%D0%B1%D0%B0%D0%BB\n",
      "http://mo.wikipedia.org/wiki/%D0%9F%D0%B0%D3%82%D0%B8%D0%BD%D0%B0_%D0%BF%D1%80%D0%B8%D0%BD%D1%87%D0%B8%D0%BF%D0%B0%D0%BB%D1%8D\n",
      "http://mo.wikipedia.org/wiki/%D0%9F%D0%B0%D3%82%D0%B8%D0%BD%D0%B0_%D0%BF%D1%80%D0%B8%D0%BD%D1%87%D0%B8%D0%BF%D0%B0%D0%BB%D1%8D\n"
     ]
    },
    {
     "data": {
      "application/vnd.jupyter.widget-view+json": {
       "model_id": "443850a942d2486ab0c6ba6101706d32",
       "version_major": 2,
       "version_minor": 0
      },
      "text/plain": [
       "A Jupyter Widget"
      ]
     },
     "metadata": {},
     "output_type": "display_data"
    },
    {
     "name": "stdout",
     "output_type": "stream",
     "text": [
      "\n"
     ]
    },
    {
     "data": {
      "application/vnd.jupyter.widget-view+json": {
       "model_id": "43729756b1c84500948edcb9aba9ed1a",
       "version_major": 2,
       "version_minor": 0
      },
      "text/plain": [
       "A Jupyter Widget"
      ]
     },
     "metadata": {},
     "output_type": "display_data"
    },
    {
     "name": "stdout",
     "output_type": "stream",
     "text": [
      "\n"
     ]
    },
    {
     "data": {
      "application/vnd.jupyter.widget-view+json": {
       "model_id": "7484ba501bd049eabb9b6cbfb06d7ba8",
       "version_major": 2,
       "version_minor": 0
      },
      "text/plain": [
       "A Jupyter Widget"
      ]
     },
     "metadata": {},
     "output_type": "display_data"
    },
    {
     "name": "stdout",
     "output_type": "stream",
     "text": [
      "\n"
     ]
    },
    {
     "data": {
      "application/vnd.jupyter.widget-view+json": {
       "model_id": "7e005ebecb66473c8d3701194cc2be3f",
       "version_major": 2,
       "version_minor": 0
      },
      "text/plain": [
       "A Jupyter Widget"
      ]
     },
     "metadata": {},
     "output_type": "display_data"
    },
    {
     "name": "stdout",
     "output_type": "stream",
     "text": [
      "\n"
     ]
    },
    {
     "data": {
      "application/vnd.jupyter.widget-view+json": {
       "model_id": "c9c8e15a297c46f99caee84d77709f38",
       "version_major": 2,
       "version_minor": 0
      },
      "text/plain": [
       "A Jupyter Widget"
      ]
     },
     "metadata": {},
     "output_type": "display_data"
    },
    {
     "name": "stdout",
     "output_type": "stream",
     "text": [
      "\n"
     ]
    },
    {
     "data": {
      "application/vnd.jupyter.widget-view+json": {
       "model_id": "f11b0024c8d9466298eb2e5d1524d4d7",
       "version_major": 2,
       "version_minor": 0
      },
      "text/plain": [
       "A Jupyter Widget"
      ]
     },
     "metadata": {},
     "output_type": "display_data"
    },
    {
     "name": "stdout",
     "output_type": "stream",
     "text": [
      "\n"
     ]
    },
    {
     "data": {
      "application/vnd.jupyter.widget-view+json": {
       "model_id": "15450c98997a4861bd7372892dbcd09b",
       "version_major": 2,
       "version_minor": 0
      },
      "text/plain": [
       "A Jupyter Widget"
      ]
     },
     "metadata": {},
     "output_type": "display_data"
    },
    {
     "name": "stdout",
     "output_type": "stream",
     "text": [
      "\n"
     ]
    },
    {
     "data": {
      "application/vnd.jupyter.widget-view+json": {
       "model_id": "12edc0174cfb415abaea30d34be71762",
       "version_major": 2,
       "version_minor": 0
      },
      "text/plain": [
       "A Jupyter Widget"
      ]
     },
     "metadata": {},
     "output_type": "display_data"
    },
    {
     "name": "stdout",
     "output_type": "stream",
     "text": [
      "\n"
     ]
    },
    {
     "data": {
      "application/vnd.jupyter.widget-view+json": {
       "model_id": "d69e27f90d0549d2a690742bc788bdb1",
       "version_major": 2,
       "version_minor": 0
      },
      "text/plain": [
       "A Jupyter Widget"
      ]
     },
     "metadata": {},
     "output_type": "display_data"
    },
    {
     "name": "stdout",
     "output_type": "stream",
     "text": [
      "\n"
     ]
    },
    {
     "data": {
      "application/vnd.jupyter.widget-view+json": {
       "model_id": "a5f333b08a134df6bfc0325e4b02caa7",
       "version_major": 2,
       "version_minor": 0
      },
      "text/plain": [
       "A Jupyter Widget"
      ]
     },
     "metadata": {},
     "output_type": "display_data"
    },
    {
     "name": "stdout",
     "output_type": "stream",
     "text": [
      "\n"
     ]
    },
    {
     "data": {
      "application/vnd.jupyter.widget-view+json": {
       "model_id": "fa2935ddfbaa4ab999b6645331291e02",
       "version_major": 2,
       "version_minor": 0
      },
      "text/plain": [
       "A Jupyter Widget"
      ]
     },
     "metadata": {},
     "output_type": "display_data"
    },
    {
     "name": "stdout",
     "output_type": "stream",
     "text": [
      "\n"
     ]
    },
    {
     "data": {
      "application/vnd.jupyter.widget-view+json": {
       "model_id": "026d872d0aa147b0b3cf1705f83a0dbc",
       "version_major": 2,
       "version_minor": 0
      },
      "text/plain": [
       "A Jupyter Widget"
      ]
     },
     "metadata": {},
     "output_type": "display_data"
    },
    {
     "name": "stdout",
     "output_type": "stream",
     "text": [
      "\n"
     ]
    },
    {
     "data": {
      "application/vnd.jupyter.widget-view+json": {
       "model_id": "864eb9dfe08b4421b2580baeee91cd75",
       "version_major": 2,
       "version_minor": 0
      },
      "text/plain": [
       "A Jupyter Widget"
      ]
     },
     "metadata": {},
     "output_type": "display_data"
    },
    {
     "name": "stdout",
     "output_type": "stream",
     "text": [
      "\n"
     ]
    },
    {
     "data": {
      "application/vnd.jupyter.widget-view+json": {
       "model_id": "add7c7a0713f42e9aa542ad998dbefc3",
       "version_major": 2,
       "version_minor": 0
      },
      "text/plain": [
       "A Jupyter Widget"
      ]
     },
     "metadata": {},
     "output_type": "display_data"
    },
    {
     "name": "stdout",
     "output_type": "stream",
     "text": [
      "\n"
     ]
    },
    {
     "data": {
      "application/vnd.jupyter.widget-view+json": {
       "model_id": "c10d61a30ae94ac7bd6656f68440eef4",
       "version_major": 2,
       "version_minor": 0
      },
      "text/plain": [
       "A Jupyter Widget"
      ]
     },
     "metadata": {},
     "output_type": "display_data"
    },
    {
     "name": "stdout",
     "output_type": "stream",
     "text": [
      "\n"
     ]
    },
    {
     "data": {
      "application/vnd.jupyter.widget-view+json": {
       "model_id": "80573ef880e947008b682dfe20f47c06",
       "version_major": 2,
       "version_minor": 0
      },
      "text/plain": [
       "A Jupyter Widget"
      ]
     },
     "metadata": {},
     "output_type": "display_data"
    },
    {
     "name": "stdout",
     "output_type": "stream",
     "text": [
      "\n"
     ]
    },
    {
     "data": {
      "application/vnd.jupyter.widget-view+json": {
       "model_id": "236b1ebf53d1433eb0d1d2df0e5356cc",
       "version_major": 2,
       "version_minor": 0
      },
      "text/plain": [
       "A Jupyter Widget"
      ]
     },
     "metadata": {},
     "output_type": "display_data"
    },
    {
     "name": "stdout",
     "output_type": "stream",
     "text": [
      "\n"
     ]
    },
    {
     "data": {
      "application/vnd.jupyter.widget-view+json": {
       "model_id": "e5a3f2ed3e4041839e7ba76a0279f138",
       "version_major": 2,
       "version_minor": 0
      },
      "text/plain": [
       "A Jupyter Widget"
      ]
     },
     "metadata": {},
     "output_type": "display_data"
    },
    {
     "name": "stdout",
     "output_type": "stream",
     "text": [
      "\n"
     ]
    },
    {
     "data": {
      "application/vnd.jupyter.widget-view+json": {
       "model_id": "931d1ea8fa1a48d4bb1ae5d193c7e0d8",
       "version_major": 2,
       "version_minor": 0
      },
      "text/plain": [
       "A Jupyter Widget"
      ]
     },
     "metadata": {},
     "output_type": "display_data"
    },
    {
     "name": "stdout",
     "output_type": "stream",
     "text": [
      "\n",
      "http://mo.wikipedia.org/wiki/%D0%A2%D1%80%D0%B0%D0%BD%D1%81%D0%BD%D0%B8%D1%81%D1%82%D1%80%D0%B8%D1%8F\n",
      "http://mo.wikipedia.org/wiki/%D0%9A%D0%B8%D1%88%D0%B8%D0%BD%D1%8D%D1%83\n",
      "http://mo.wikipedia.org/wiki/%D0%A0%D1%83%D0%B1%D0%BB%D1%8D_%D0%A2%D1%80%D0%B0%D0%BD%D1%81%D0%BD%D0%B8%D1%81%D1%82%D1%80%D1%8F%D0%BD%D1%8D\n",
      "http://mo.wikipedia.org/wiki/%D0%A0%D1%83%D0%B1%D0%BB%D1%8D_%D0%A2%D1%80%D0%B0%D0%BD%D1%81%D0%BD%D0%B8%D1%81%D1%82%D1%80%D1%8F%D0%BD%D1%8D\n",
      "http://mo.wikipedia.org/wiki/%D0%9F%D0%B0%D3%82%D0%B8%D0%BD%D0%B0_%D0%BF%D1%80%D0%B8%D0%BD%D1%87%D0%B8%D0%BF%D0%B0%D0%BB%D1%8D\n",
      "http://mo.wikipedia.org/wiki/%D0%9F%D0%B0%D3%82%D0%B8%D0%BD%D0%B0_%D0%BF%D1%80%D0%B8%D0%BD%D1%87%D0%B8%D0%BF%D0%B0%D0%BB%D1%8D\n"
     ]
    },
    {
     "data": {
      "application/vnd.jupyter.widget-view+json": {
       "model_id": "5a131b719c0d43898723189f63ed4aef",
       "version_major": 2,
       "version_minor": 0
      },
      "text/plain": [
       "A Jupyter Widget"
      ]
     },
     "metadata": {},
     "output_type": "display_data"
    },
    {
     "name": "stdout",
     "output_type": "stream",
     "text": [
      "\n"
     ]
    },
    {
     "data": {
      "application/vnd.jupyter.widget-view+json": {
       "model_id": "bc74874cafcc4f75a62ef41260b26dd0",
       "version_major": 2,
       "version_minor": 0
      },
      "text/plain": [
       "A Jupyter Widget"
      ]
     },
     "metadata": {},
     "output_type": "display_data"
    },
    {
     "name": "stdout",
     "output_type": "stream",
     "text": [
      "\n"
     ]
    },
    {
     "data": {
      "application/vnd.jupyter.widget-view+json": {
       "model_id": "a177f99bca7645dd941bc6438dc3db8f",
       "version_major": 2,
       "version_minor": 0
      },
      "text/plain": [
       "A Jupyter Widget"
      ]
     },
     "metadata": {},
     "output_type": "display_data"
    },
    {
     "name": "stdout",
     "output_type": "stream",
     "text": [
      "\n"
     ]
    },
    {
     "data": {
      "application/vnd.jupyter.widget-view+json": {
       "model_id": "b987e7c1d7e14a09a44e0e7325864163",
       "version_major": 2,
       "version_minor": 0
      },
      "text/plain": [
       "A Jupyter Widget"
      ]
     },
     "metadata": {},
     "output_type": "display_data"
    },
    {
     "name": "stdout",
     "output_type": "stream",
     "text": [
      "\n"
     ]
    },
    {
     "data": {
      "application/vnd.jupyter.widget-view+json": {
       "model_id": "97941d46cf504df9a9c611a2fe41b4b4",
       "version_major": 2,
       "version_minor": 0
      },
      "text/plain": [
       "A Jupyter Widget"
      ]
     },
     "metadata": {},
     "output_type": "display_data"
    },
    {
     "name": "stdout",
     "output_type": "stream",
     "text": [
      "\n"
     ]
    },
    {
     "data": {
      "application/vnd.jupyter.widget-view+json": {
       "model_id": "96c49c0c6be5453fbadd725c108d776d",
       "version_major": 2,
       "version_minor": 0
      },
      "text/plain": [
       "A Jupyter Widget"
      ]
     },
     "metadata": {},
     "output_type": "display_data"
    },
    {
     "name": "stdout",
     "output_type": "stream",
     "text": [
      "\n"
     ]
    },
    {
     "data": {
      "application/vnd.jupyter.widget-view+json": {
       "model_id": "20f8923df122403584cf61c0a3c7311e",
       "version_major": 2,
       "version_minor": 0
      },
      "text/plain": [
       "A Jupyter Widget"
      ]
     },
     "metadata": {},
     "output_type": "display_data"
    },
    {
     "name": "stdout",
     "output_type": "stream",
     "text": [
      "\n"
     ]
    },
    {
     "data": {
      "application/vnd.jupyter.widget-view+json": {
       "model_id": "4cd8dbe5dd324e05979fd884851ca22e",
       "version_major": 2,
       "version_minor": 0
      },
      "text/plain": [
       "A Jupyter Widget"
      ]
     },
     "metadata": {},
     "output_type": "display_data"
    },
    {
     "name": "stdout",
     "output_type": "stream",
     "text": [
      "\n"
     ]
    },
    {
     "data": {
      "application/vnd.jupyter.widget-view+json": {
       "model_id": "f406939179b34d7ba91b2e52e9f8765f",
       "version_major": 2,
       "version_minor": 0
      },
      "text/plain": [
       "A Jupyter Widget"
      ]
     },
     "metadata": {},
     "output_type": "display_data"
    },
    {
     "name": "stdout",
     "output_type": "stream",
     "text": [
      "\n"
     ]
    },
    {
     "data": {
      "application/vnd.jupyter.widget-view+json": {
       "model_id": "55bfd4738df8464ea12b2f9e492d760c",
       "version_major": 2,
       "version_minor": 0
      },
      "text/plain": [
       "A Jupyter Widget"
      ]
     },
     "metadata": {},
     "output_type": "display_data"
    },
    {
     "name": "stdout",
     "output_type": "stream",
     "text": [
      "\n"
     ]
    },
    {
     "data": {
      "application/vnd.jupyter.widget-view+json": {
       "model_id": "1ed31ecd0c674ee6955dddc5300e30df",
       "version_major": 2,
       "version_minor": 0
      },
      "text/plain": [
       "A Jupyter Widget"
      ]
     },
     "metadata": {},
     "output_type": "display_data"
    },
    {
     "name": "stdout",
     "output_type": "stream",
     "text": [
      "\n"
     ]
    },
    {
     "data": {
      "application/vnd.jupyter.widget-view+json": {
       "model_id": "3f34a840bc6549a099f9d7072799181d",
       "version_major": 2,
       "version_minor": 0
      },
      "text/plain": [
       "A Jupyter Widget"
      ]
     },
     "metadata": {},
     "output_type": "display_data"
    },
    {
     "name": "stdout",
     "output_type": "stream",
     "text": [
      "\n"
     ]
    },
    {
     "data": {
      "application/vnd.jupyter.widget-view+json": {
       "model_id": "bf567d677d6d46c887789b2b375f119d",
       "version_major": 2,
       "version_minor": 0
      },
      "text/plain": [
       "A Jupyter Widget"
      ]
     },
     "metadata": {},
     "output_type": "display_data"
    },
    {
     "name": "stdout",
     "output_type": "stream",
     "text": [
      "\n"
     ]
    },
    {
     "data": {
      "application/vnd.jupyter.widget-view+json": {
       "model_id": "bce83cb16f2c4233978b025adf739263",
       "version_major": 2,
       "version_minor": 0
      },
      "text/plain": [
       "A Jupyter Widget"
      ]
     },
     "metadata": {},
     "output_type": "display_data"
    },
    {
     "name": "stdout",
     "output_type": "stream",
     "text": [
      "\n",
      "http://mo.wikipedia.org/wiki/%D0%A0%D0%B5%D0%BF%D1%83%D0%B1%D0%BB%D0%B8%D0%BA%D1%8D\n",
      "http://mo.wikipedia.org/wiki/%D0%A0%D0%B5%D0%BF%D1%83%D0%B1%D0%BB%D0%B8%D0%BA%D1%8D\n",
      "http://mo.wikipedia.org/wiki/%D0%9F%D0%B0%D3%82%D0%B8%D0%BD%D0%B0_%D0%BF%D1%80%D0%B8%D0%BD%D1%87%D0%B8%D0%BF%D0%B0%D0%BB%D1%8D\n",
      "http://mo.wikipedia.org/wiki/%D0%9F%D0%B0%D3%82%D0%B8%D0%BD%D0%B0_%D0%BF%D1%80%D0%B8%D0%BD%D1%87%D0%B8%D0%BF%D0%B0%D0%BB%D1%8D\n"
     ]
    },
    {
     "data": {
      "application/vnd.jupyter.widget-view+json": {
       "model_id": "a07e7c11d37d458a8eacff885f10ce59",
       "version_major": 2,
       "version_minor": 0
      },
      "text/plain": [
       "A Jupyter Widget"
      ]
     },
     "metadata": {},
     "output_type": "display_data"
    },
    {
     "name": "stdout",
     "output_type": "stream",
     "text": [
      "\n"
     ]
    },
    {
     "data": {
      "application/vnd.jupyter.widget-view+json": {
       "model_id": "6d3e69efb0614dd888534573726baf65",
       "version_major": 2,
       "version_minor": 0
      },
      "text/plain": [
       "A Jupyter Widget"
      ]
     },
     "metadata": {},
     "output_type": "display_data"
    },
    {
     "name": "stdout",
     "output_type": "stream",
     "text": [
      "\n"
     ]
    },
    {
     "data": {
      "application/vnd.jupyter.widget-view+json": {
       "model_id": "02ab26717cc34e7aa5c4ec11c9120131",
       "version_major": 2,
       "version_minor": 0
      },
      "text/plain": [
       "A Jupyter Widget"
      ]
     },
     "metadata": {},
     "output_type": "display_data"
    },
    {
     "name": "stdout",
     "output_type": "stream",
     "text": [
      "\n"
     ]
    },
    {
     "data": {
      "application/vnd.jupyter.widget-view+json": {
       "model_id": "672d9f1187f5402585f87e2de02eebf0",
       "version_major": 2,
       "version_minor": 0
      },
      "text/plain": [
       "A Jupyter Widget"
      ]
     },
     "metadata": {},
     "output_type": "display_data"
    },
    {
     "name": "stdout",
     "output_type": "stream",
     "text": [
      "\n"
     ]
    },
    {
     "data": {
      "application/vnd.jupyter.widget-view+json": {
       "model_id": "819823652dd74f248c89cf4f7bfe896e",
       "version_major": 2,
       "version_minor": 0
      },
      "text/plain": [
       "A Jupyter Widget"
      ]
     },
     "metadata": {},
     "output_type": "display_data"
    },
    {
     "name": "stdout",
     "output_type": "stream",
     "text": [
      "\n"
     ]
    },
    {
     "data": {
      "application/vnd.jupyter.widget-view+json": {
       "model_id": "f543be37d61e4cc68cd3fd03201b8ed7",
       "version_major": 2,
       "version_minor": 0
      },
      "text/plain": [
       "A Jupyter Widget"
      ]
     },
     "metadata": {},
     "output_type": "display_data"
    },
    {
     "name": "stdout",
     "output_type": "stream",
     "text": [
      "\n",
      "http://mo.wikipedia.org/wiki/%D0%A2%D1%80%D0%B0%D0%BD%D1%81%D0%BD%D0%B8%D1%81%D1%82%D1%80%D0%B8%D1%8F\n",
      "http://mo.wikipedia.org/wiki/%D0%A0%D1%83%D1%81%D0%B8%D1%8F\n",
      "http://mo.wikipedia.org/wiki/%D0%A0%D0%A1%D0%A1_%D0%9C%D0%BE%D0%BB%D0%B4%D0%BE%D0%B2%D0%B5%D0%BD%D1%8F%D1%81%D0%BA%D1%8D\n",
      "http://mo.wikipedia.org/wiki/1990\n",
      "http://mo.wikipedia.org/wiki/%D0%98%D0%B3%D0%BE%D1%80_%D0%A1%D0%BC%D0%B8%D1%80%D0%BD%D0%BE%D0%B2\n",
      "http://mo.wikipedia.org/wiki/%D0%98%D0%B3%D0%BE%D1%80_%D0%A1%D0%BC%D0%B8%D1%80%D0%BD%D0%BE%D0%B2\n",
      "http://mo.wikipedia.org/wiki/%D0%9F%D0%B0%D3%82%D0%B8%D0%BD%D0%B0_%D0%BF%D1%80%D0%B8%D0%BD%D1%87%D0%B8%D0%BF%D0%B0%D0%BB%D1%8D\n",
      "http://mo.wikipedia.org/wiki/%D0%9F%D0%B0%D3%82%D0%B8%D0%BD%D0%B0_%D0%BF%D1%80%D0%B8%D0%BD%D1%87%D0%B8%D0%BF%D0%B0%D0%BB%D1%8D\n"
     ]
    },
    {
     "data": {
      "application/vnd.jupyter.widget-view+json": {
       "model_id": "369abd9f21fa4b81adfe0ed3722b02f0",
       "version_major": 2,
       "version_minor": 0
      },
      "text/plain": [
       "A Jupyter Widget"
      ]
     },
     "metadata": {},
     "output_type": "display_data"
    },
    {
     "name": "stdout",
     "output_type": "stream",
     "text": [
      "\n"
     ]
    },
    {
     "data": {
      "application/vnd.jupyter.widget-view+json": {
       "model_id": "f3a524396ab64eebad230cfb0af1e337",
       "version_major": 2,
       "version_minor": 0
      },
      "text/plain": [
       "A Jupyter Widget"
      ]
     },
     "metadata": {},
     "output_type": "display_data"
    },
    {
     "name": "stdout",
     "output_type": "stream",
     "text": [
      "\n"
     ]
    },
    {
     "data": {
      "application/vnd.jupyter.widget-view+json": {
       "model_id": "bb743ef69066441e8d517ff167035f43",
       "version_major": 2,
       "version_minor": 0
      },
      "text/plain": [
       "A Jupyter Widget"
      ]
     },
     "metadata": {},
     "output_type": "display_data"
    },
    {
     "name": "stdout",
     "output_type": "stream",
     "text": [
      "\n"
     ]
    },
    {
     "data": {
      "application/vnd.jupyter.widget-view+json": {
       "model_id": "6f2f1b4d90f64fc1ad668a10d2200e69",
       "version_major": 2,
       "version_minor": 0
      },
      "text/plain": [
       "A Jupyter Widget"
      ]
     },
     "metadata": {},
     "output_type": "display_data"
    },
    {
     "name": "stdout",
     "output_type": "stream",
     "text": [
      "\n"
     ]
    },
    {
     "data": {
      "application/vnd.jupyter.widget-view+json": {
       "model_id": "4d31fa1115984921b1d36fbeee25e850",
       "version_major": 2,
       "version_minor": 0
      },
      "text/plain": [
       "A Jupyter Widget"
      ]
     },
     "metadata": {},
     "output_type": "display_data"
    },
    {
     "name": "stdout",
     "output_type": "stream",
     "text": [
      "\n"
     ]
    },
    {
     "data": {
      "application/vnd.jupyter.widget-view+json": {
       "model_id": "b40fe97b80bb4c7a97092149019d6adf",
       "version_major": 2,
       "version_minor": 0
      },
      "text/plain": [
       "A Jupyter Widget"
      ]
     },
     "metadata": {},
     "output_type": "display_data"
    },
    {
     "name": "stdout",
     "output_type": "stream",
     "text": [
      "\n",
      "http://mo.wikipedia.org/wiki/%D0%9B%D0%B8%D0%BC%D0%B1%D0%B0_%D1%80%D1%83%D1%81%D1%8D\n",
      "http://mo.wikipedia.org/wiki/%D0%9A%D0%B8%D1%88%D0%B8%D0%BD%D1%8D%D1%83\n",
      "http://mo.wikipedia.org/wiki/%D0%A0%D0%B5%D0%BF%D1%83%D0%B1%D0%BB%D0%B8%D0%BA%D0%B0_%D0%9C%D0%BE%D0%BB%D0%B4%D0%BE%D0%B2%D0%B0\n",
      "http://mo.wikipedia.org/wiki/%D0%A0%D0%B5%D0%BF%D1%83%D0%B1%D0%BB%D0%B8%D0%BA%D0%B0_%D0%A1%D0%BE%D0%B2%D0%B5%D1%82%D0%B8%D0%BA%D1%8D_%D0%A1%D0%BE%D1%87%D0%B8%D0%B0%D0%BB%D0%B8%D1%81%D1%82%D1%8D_%D0%9C%D0%BE%D0%BB%D0%B4%D0%BE%D0%B2%D0%B5%D0%BD%D1%8F%D1%81%D0%BA%D1%8D\n",
      "http://mo.wikipedia.org/wiki/%D0%A0%D0%B5%D0%BF%D1%83%D0%B1%D0%BB%D0%B8%D0%BA%D0%B0_%D0%A1%D0%BE%D0%B2%D0%B5%D1%82%D0%B8%D0%BA%D1%8D_%D0%A1%D0%BE%D1%87%D0%B8%D0%B0%D0%BB%D0%B8%D1%81%D1%82%D1%8D_%D0%9C%D0%BE%D0%BB%D0%B4%D0%BE%D0%B2%D0%B5%D0%BD%D1%8F%D1%81%D0%BA%D1%8D\n",
      "http://mo.wikipedia.org/wiki/%D0%9F%D0%B0%D3%82%D0%B8%D0%BD%D0%B0_%D0%BF%D1%80%D0%B8%D0%BD%D1%87%D0%B8%D0%BF%D0%B0%D0%BB%D1%8D\n",
      "http://mo.wikipedia.org/wiki/%D0%9F%D0%B0%D3%82%D0%B8%D0%BD%D0%B0_%D0%BF%D1%80%D0%B8%D0%BD%D1%87%D0%B8%D0%BF%D0%B0%D0%BB%D1%8D\n"
     ]
    },
    {
     "data": {
      "application/vnd.jupyter.widget-view+json": {
       "model_id": "009218c7556340b68d4bc45355f48f64",
       "version_major": 2,
       "version_minor": 0
      },
      "text/plain": [
       "A Jupyter Widget"
      ]
     },
     "metadata": {},
     "output_type": "display_data"
    },
    {
     "name": "stdout",
     "output_type": "stream",
     "text": [
      "\n"
     ]
    },
    {
     "data": {
      "application/vnd.jupyter.widget-view+json": {
       "model_id": "0c8a6bc6f1934a6497fbfd0b4d5850f9",
       "version_major": 2,
       "version_minor": 0
      },
      "text/plain": [
       "A Jupyter Widget"
      ]
     },
     "metadata": {},
     "output_type": "display_data"
    },
    {
     "name": "stdout",
     "output_type": "stream",
     "text": [
      "\n"
     ]
    },
    {
     "data": {
      "application/vnd.jupyter.widget-view+json": {
       "model_id": "f170ab903bb34fd4b111fd8b4aa1ae42",
       "version_major": 2,
       "version_minor": 0
      },
      "text/plain": [
       "A Jupyter Widget"
      ]
     },
     "metadata": {},
     "output_type": "display_data"
    },
    {
     "name": "stdout",
     "output_type": "stream",
     "text": [
      "\n",
      "http://mo.wikipedia.org/wiki/%D0%9B%D0%B8%D0%BC%D0%B1%D0%B0_%D1%80%D1%83%D1%81%D1%8D\n",
      "http://mo.wikipedia.org/wiki/%D0%9A%D0%B8%D1%88%D0%B8%D0%BD%D1%8D%D1%83\n",
      "http://mo.wikipedia.org/wiki/%D0%A0%D0%B5%D0%BF%D1%83%D0%B1%D0%BB%D0%B8%D0%BA%D0%B0_%D0%9C%D0%BE%D0%BB%D0%B4%D0%BE%D0%B2%D0%B0\n",
      "http://mo.wikipedia.org/wiki/%D0%A0%D0%B5%D0%BF%D1%83%D0%B1%D0%BB%D0%B8%D0%BA%D0%B0_%D0%A1%D0%BE%D0%B2%D0%B5%D1%82%D0%B8%D0%BA%D1%8D_%D0%A1%D0%BE%D1%87%D0%B8%D0%B0%D0%BB%D0%B8%D1%81%D1%82%D1%8D_%D0%9C%D0%BE%D0%BB%D0%B4%D0%BE%D0%B2%D0%B5%D0%BD%D1%8F%D1%81%D0%BA%D1%8D\n",
      "http://mo.wikipedia.org/wiki/%D0%A0%D0%B5%D0%BF%D1%83%D0%B1%D0%BB%D0%B8%D0%BA%D0%B0_%D0%A1%D0%BE%D0%B2%D0%B5%D1%82%D0%B8%D0%BA%D1%8D_%D0%A1%D0%BE%D1%87%D0%B8%D0%B0%D0%BB%D0%B8%D1%81%D1%82%D1%8D_%D0%9C%D0%BE%D0%BB%D0%B4%D0%BE%D0%B2%D0%B5%D0%BD%D1%8F%D1%81%D0%BA%D1%8D\n",
      "http://mo.wikipedia.org/wiki/%D0%9F%D0%B0%D3%82%D0%B8%D0%BD%D0%B0_%D0%BF%D1%80%D0%B8%D0%BD%D1%87%D0%B8%D0%BF%D0%B0%D0%BB%D1%8D\n",
      "http://mo.wikipedia.org/wiki/%D0%9F%D0%B0%D3%82%D0%B8%D0%BD%D0%B0_%D0%BF%D1%80%D0%B8%D0%BD%D1%87%D0%B8%D0%BF%D0%B0%D0%BB%D1%8D\n"
     ]
    },
    {
     "data": {
      "application/vnd.jupyter.widget-view+json": {
       "model_id": "7fc0abfd730b4191a33defb1f73bd455",
       "version_major": 2,
       "version_minor": 0
      },
      "text/plain": [
       "A Jupyter Widget"
      ]
     },
     "metadata": {},
     "output_type": "display_data"
    },
    {
     "name": "stdout",
     "output_type": "stream",
     "text": [
      "\n"
     ]
    },
    {
     "data": {
      "application/vnd.jupyter.widget-view+json": {
       "model_id": "101411cf86cf42038ef22fabb1e23388",
       "version_major": 2,
       "version_minor": 0
      },
      "text/plain": [
       "A Jupyter Widget"
      ]
     },
     "metadata": {},
     "output_type": "display_data"
    },
    {
     "name": "stdout",
     "output_type": "stream",
     "text": [
      "\n"
     ]
    },
    {
     "data": {
      "application/vnd.jupyter.widget-view+json": {
       "model_id": "0115f105c84b460a8d2628942734287c",
       "version_major": 2,
       "version_minor": 0
      },
      "text/plain": [
       "A Jupyter Widget"
      ]
     },
     "metadata": {},
     "output_type": "display_data"
    },
    {
     "name": "stdout",
     "output_type": "stream",
     "text": [
      "\n"
     ]
    },
    {
     "data": {
      "application/vnd.jupyter.widget-view+json": {
       "model_id": "aa3151c6689148b28b4ac0707ec9beaa",
       "version_major": 2,
       "version_minor": 0
      },
      "text/plain": [
       "A Jupyter Widget"
      ]
     },
     "metadata": {},
     "output_type": "display_data"
    },
    {
     "name": "stdout",
     "output_type": "stream",
     "text": [
      "\n"
     ]
    },
    {
     "data": {
      "application/vnd.jupyter.widget-view+json": {
       "model_id": "0d7f3b38735b4c0fa6809e8215680e9d",
       "version_major": 2,
       "version_minor": 0
      },
      "text/plain": [
       "A Jupyter Widget"
      ]
     },
     "metadata": {},
     "output_type": "display_data"
    },
    {
     "name": "stdout",
     "output_type": "stream",
     "text": [
      "\n"
     ]
    },
    {
     "data": {
      "application/vnd.jupyter.widget-view+json": {
       "model_id": "6ef018db8b19441ea79b6b41b5ec78c0",
       "version_major": 2,
       "version_minor": 0
      },
      "text/plain": [
       "A Jupyter Widget"
      ]
     },
     "metadata": {},
     "output_type": "display_data"
    },
    {
     "name": "stdout",
     "output_type": "stream",
     "text": [
      "\n"
     ]
    },
    {
     "data": {
      "application/vnd.jupyter.widget-view+json": {
       "model_id": "96552db8ab0d4953b362f2dbe72bc2cf",
       "version_major": 2,
       "version_minor": 0
      },
      "text/plain": [
       "A Jupyter Widget"
      ]
     },
     "metadata": {},
     "output_type": "display_data"
    },
    {
     "name": "stdout",
     "output_type": "stream",
     "text": [
      "\n"
     ]
    },
    {
     "data": {
      "application/vnd.jupyter.widget-view+json": {
       "model_id": "4eeee17ce0cf487bb2759f26853cc094",
       "version_major": 2,
       "version_minor": 0
      },
      "text/plain": [
       "A Jupyter Widget"
      ]
     },
     "metadata": {},
     "output_type": "display_data"
    },
    {
     "name": "stdout",
     "output_type": "stream",
     "text": [
      "\n"
     ]
    },
    {
     "data": {
      "application/vnd.jupyter.widget-view+json": {
       "model_id": "629d0ae148d747faa7e299ef5c448a4a",
       "version_major": 2,
       "version_minor": 0
      },
      "text/plain": [
       "A Jupyter Widget"
      ]
     },
     "metadata": {},
     "output_type": "display_data"
    },
    {
     "name": "stdout",
     "output_type": "stream",
     "text": [
      "\n"
     ]
    },
    {
     "data": {
      "application/vnd.jupyter.widget-view+json": {
       "model_id": "53cd608517c84950ac15abfc575b6cdb",
       "version_major": 2,
       "version_minor": 0
      },
      "text/plain": [
       "A Jupyter Widget"
      ]
     },
     "metadata": {},
     "output_type": "display_data"
    },
    {
     "name": "stdout",
     "output_type": "stream",
     "text": [
      "\n"
     ]
    },
    {
     "data": {
      "application/vnd.jupyter.widget-view+json": {
       "model_id": "402808b8ed394311b70ca3ad8cb90832",
       "version_major": 2,
       "version_minor": 0
      },
      "text/plain": [
       "A Jupyter Widget"
      ]
     },
     "metadata": {},
     "output_type": "display_data"
    },
    {
     "name": "stdout",
     "output_type": "stream",
     "text": [
      "\n"
     ]
    },
    {
     "data": {
      "application/vnd.jupyter.widget-view+json": {
       "model_id": "0a561d038b074f2c8f6295e24e79a609",
       "version_major": 2,
       "version_minor": 0
      },
      "text/plain": [
       "A Jupyter Widget"
      ]
     },
     "metadata": {},
     "output_type": "display_data"
    },
    {
     "name": "stdout",
     "output_type": "stream",
     "text": [
      "\n"
     ]
    },
    {
     "data": {
      "application/vnd.jupyter.widget-view+json": {
       "model_id": "6aada8eadf5d41229975c014e4f5a7a5",
       "version_major": 2,
       "version_minor": 0
      },
      "text/plain": [
       "A Jupyter Widget"
      ]
     },
     "metadata": {},
     "output_type": "display_data"
    },
    {
     "name": "stdout",
     "output_type": "stream",
     "text": [
      "\n"
     ]
    },
    {
     "data": {
      "application/vnd.jupyter.widget-view+json": {
       "model_id": "08f9de197f504fd495012efcf7fee8b8",
       "version_major": 2,
       "version_minor": 0
      },
      "text/plain": [
       "A Jupyter Widget"
      ]
     },
     "metadata": {},
     "output_type": "display_data"
    },
    {
     "name": "stdout",
     "output_type": "stream",
     "text": [
      "\n"
     ]
    },
    {
     "data": {
      "application/vnd.jupyter.widget-view+json": {
       "model_id": "77595f47db724613a84f7ba1713f9668",
       "version_major": 2,
       "version_minor": 0
      },
      "text/plain": [
       "A Jupyter Widget"
      ]
     },
     "metadata": {},
     "output_type": "display_data"
    },
    {
     "name": "stdout",
     "output_type": "stream",
     "text": [
      "\n"
     ]
    },
    {
     "data": {
      "application/vnd.jupyter.widget-view+json": {
       "model_id": "a5c707b0b3f24022a016d55542339f1d",
       "version_major": 2,
       "version_minor": 0
      },
      "text/plain": [
       "A Jupyter Widget"
      ]
     },
     "metadata": {},
     "output_type": "display_data"
    },
    {
     "name": "stdout",
     "output_type": "stream",
     "text": [
      "\n",
      "http://mo.wikipedia.org/wiki/%D0%9B%D0%B8%D1%81%D1%82%D1%8D_%D0%B4%D0%B5_%D0%BA%D0%B0%D0%BF%D0%B8%D1%82%D0%B0%D0%BB%D0%B5_%D0%BD%D0%B0%D1%86%D0%B8%D0%BE%D0%BD%D0%B0%D0%BB%D0%B5\n",
      "http://mo.wikipedia.org/wiki/%D0%9A%D0%B0%D0%BF%D0%B8%D1%82%D0%B0%D0%BB%D1%8D\n",
      "http://mo.wikipedia.org/wiki/%D0%9A%D0%B0%D0%BF%D0%B8%D1%82%D0%B0%D0%BB%D1%8D\n",
      "http://mo.wikipedia.org/wiki/%D0%9F%D0%B0%D3%82%D0%B8%D0%BD%D0%B0_%D0%BF%D1%80%D0%B8%D0%BD%D1%87%D0%B8%D0%BF%D0%B0%D0%BB%D1%8D\n",
      "http://mo.wikipedia.org/wiki/%D0%9F%D0%B0%D3%82%D0%B8%D0%BD%D0%B0_%D0%BF%D1%80%D0%B8%D0%BD%D1%87%D0%B8%D0%BF%D0%B0%D0%BB%D1%8D\n"
     ]
    },
    {
     "data": {
      "application/vnd.jupyter.widget-view+json": {
       "model_id": "f0c2637d67ea4bdc93c64b9727e8f00a",
       "version_major": 2,
       "version_minor": 0
      },
      "text/plain": [
       "A Jupyter Widget"
      ]
     },
     "metadata": {},
     "output_type": "display_data"
    },
    {
     "name": "stdout",
     "output_type": "stream",
     "text": [
      "\n"
     ]
    },
    {
     "data": {
      "application/vnd.jupyter.widget-view+json": {
       "model_id": "3f0fc02b5cbc4a7c9c8d39354089dff6",
       "version_major": 2,
       "version_minor": 0
      },
      "text/plain": [
       "A Jupyter Widget"
      ]
     },
     "metadata": {},
     "output_type": "display_data"
    },
    {
     "name": "stdout",
     "output_type": "stream",
     "text": [
      "\n"
     ]
    },
    {
     "data": {
      "application/vnd.jupyter.widget-view+json": {
       "model_id": "e48b5b5da6384d899a02603ba0aaf222",
       "version_major": 2,
       "version_minor": 0
      },
      "text/plain": [
       "A Jupyter Widget"
      ]
     },
     "metadata": {},
     "output_type": "display_data"
    },
    {
     "name": "stdout",
     "output_type": "stream",
     "text": [
      "\n"
     ]
    },
    {
     "data": {
      "application/vnd.jupyter.widget-view+json": {
       "model_id": "8383c2d9b9484e7eb7f7975660854934",
       "version_major": 2,
       "version_minor": 0
      },
      "text/plain": [
       "A Jupyter Widget"
      ]
     },
     "metadata": {},
     "output_type": "display_data"
    },
    {
     "name": "stdout",
     "output_type": "stream",
     "text": [
      "\n"
     ]
    },
    {
     "data": {
      "application/vnd.jupyter.widget-view+json": {
       "model_id": "8cbb38f090bb4c6dba06c877b2739449",
       "version_major": 2,
       "version_minor": 0
      },
      "text/plain": [
       "A Jupyter Widget"
      ]
     },
     "metadata": {},
     "output_type": "display_data"
    },
    {
     "name": "stdout",
     "output_type": "stream",
     "text": [
      "\n",
      "http://mo.wikipedia.org/wiki/%D0%9A%D0%B0%D0%BF%D0%B8%D1%82%D0%B0%D0%BB%D1%8D\n",
      "http://mo.wikipedia.org/wiki/%D0%A2%D1%83%D1%80%D1%87%D0%B8%D1%8F\n",
      "http://mo.wikipedia.org/wiki/%D0%A2%D1%83%D1%80%D0%BA%D0%BC%D0%B5%D0%BD%D0%B8%D1%81%D1%82%D0%B0%D0%BD\n",
      "http://mo.wikipedia.org/wiki/%D0%9A%D0%B0%D0%B7%D0%B0%D1%85%D1%81%D1%82%D0%B0%D0%BD\n",
      "http://mo.wikipedia.org/wiki/%D0%93%D1%80%D0%B5%D1%87%D0%B8%D1%8F\n",
      "http://mo.wikipedia.org/wiki/%D0%9B%D0%B8%D1%81%D1%82%D1%8D_%D0%B4%D0%B5_%D0%BA%D0%B0%D0%BF%D0%B8%D1%82%D0%B0%D0%BB%D0%B5_%D0%BD%D0%B0%D1%86%D0%B8%D0%BE%D0%BD%D0%B0%D0%BB%D0%B5\n",
      "http://mo.wikipedia.org/wiki/%D0%9B%D0%B8%D1%81%D1%82%D1%8D_%D0%B4%D0%B5_%D0%BA%D0%B0%D0%BF%D0%B8%D1%82%D0%B0%D0%BB%D0%B5_%D0%BD%D0%B0%D1%86%D0%B8%D0%BE%D0%BD%D0%B0%D0%BB%D0%B5\n",
      "http://mo.wikipedia.org/wiki/%D0%9F%D0%B0%D3%82%D0%B8%D0%BD%D0%B0_%D0%BF%D1%80%D0%B8%D0%BD%D1%87%D0%B8%D0%BF%D0%B0%D0%BB%D1%8D\n",
      "http://mo.wikipedia.org/wiki/%D0%9F%D0%B0%D3%82%D0%B8%D0%BD%D0%B0_%D0%BF%D1%80%D0%B8%D0%BD%D1%87%D0%B8%D0%BF%D0%B0%D0%BB%D1%8D\n"
     ]
    },
    {
     "data": {
      "application/vnd.jupyter.widget-view+json": {
       "model_id": "f9a1c93186344172a437149c59aa74d6",
       "version_major": 2,
       "version_minor": 0
      },
      "text/plain": [
       "A Jupyter Widget"
      ]
     },
     "metadata": {},
     "output_type": "display_data"
    },
    {
     "name": "stdout",
     "output_type": "stream",
     "text": [
      "\n"
     ]
    },
    {
     "data": {
      "application/vnd.jupyter.widget-view+json": {
       "model_id": "eb2e213c01a84806bb94513aa6864ea2",
       "version_major": 2,
       "version_minor": 0
      },
      "text/plain": [
       "A Jupyter Widget"
      ]
     },
     "metadata": {},
     "output_type": "display_data"
    },
    {
     "name": "stdout",
     "output_type": "stream",
     "text": [
      "\n"
     ]
    },
    {
     "data": {
      "application/vnd.jupyter.widget-view+json": {
       "model_id": "d051f2ba436b4cdda2521248d859581e",
       "version_major": 2,
       "version_minor": 0
      },
      "text/plain": [
       "A Jupyter Widget"
      ]
     },
     "metadata": {},
     "output_type": "display_data"
    },
    {
     "name": "stdout",
     "output_type": "stream",
     "text": [
      "\n"
     ]
    },
    {
     "data": {
      "application/vnd.jupyter.widget-view+json": {
       "model_id": "20c4273646214a17a08ba6bebd37f395",
       "version_major": 2,
       "version_minor": 0
      },
      "text/plain": [
       "A Jupyter Widget"
      ]
     },
     "metadata": {},
     "output_type": "display_data"
    },
    {
     "name": "stdout",
     "output_type": "stream",
     "text": [
      "\n"
     ]
    },
    {
     "data": {
      "application/vnd.jupyter.widget-view+json": {
       "model_id": "62696e02a3a24e4c9d575e28c95e57db",
       "version_major": 2,
       "version_minor": 0
      },
      "text/plain": [
       "A Jupyter Widget"
      ]
     },
     "metadata": {},
     "output_type": "display_data"
    },
    {
     "name": "stdout",
     "output_type": "stream",
     "text": [
      "\n",
      "http://mo.wikipedia.org/wiki/%D0%95%D1%83%D1%80%D0%BE%D0%BF%D0%B0\n",
      "http://mo.wikipedia.org/wiki/%D0%A3%D0%BD%D0%B8%D1%83%D0%BD%D1%8F_%D0%95%D1%83%D1%80%D0%BE%D0%BF%D1%8F%D0%BD%D1%8D\n",
      "http://mo.wikipedia.org/wiki/%D0%91%D1%83%D0%BB%D0%B3%D0%B0%D1%80%D0%B8%D1%8F\n",
      "http://mo.wikipedia.org/wiki/%D0%A2%D1%83%D1%80%D1%87%D0%B8%D1%8F\n",
      "http://mo.wikipedia.org/wiki/%D0%9B%D0%B8%D0%BC%D0%B1%D1%8D_%D0%BE%D1%84%D0%B8%D1%87%D0%B8%D0%B0%D0%BB%D1%8D\n",
      "http://mo.wikipedia.org/wiki/%D0%9A%D0%B0%D0%BF%D0%B8%D1%82%D0%B0%D0%BB%D1%8D\n",
      "http://mo.wikipedia.org/wiki/%D0%A1%D0%B8%D1%81%D1%82%D0%B5%D0%BC_%D0%BF%D0%BE%D0%BB%D0%B8%D1%82%D0%B8%D0%BA\n",
      "http://mo.wikipedia.org/wiki/%D0%A0%D0%B5%D0%BF%D1%83%D0%B1%D0%BB%D0%B8%D0%BA%D1%8D\n",
      "http://mo.wikipedia.org/wiki/%D0%A1%D1%83%D0%BF%D1%80%D0%B0%D1%84%D0%B0%D1%86%D1%8D\n",
      "http://mo.wikipedia.org/wiki/%D0%9F%D0%BE%D0%BF%D1%83%D0%BB%D0%B0%D1%86%D0%B8%D0%B5\n",
      "http://mo.wikipedia.org/wiki/2004\n",
      "http://mo.wikipedia.org/wiki/Densitatea_popula%C5%A3iei\n",
      "http://mo.wikipedia.org/wiki/%D0%9C%D0%BE%D0%BD%D0%B5%D0%B4%D1%8D\n",
      "http://mo.wikipedia.org/wiki/%D0%A4%D1%83%D1%81_%D0%BE%D1%80%D0%B0%D1%80\n",
      "http://mo.wikipedia.org/wiki/%D0%98%D0%BC%D0%BD_%D0%BD%D0%B0%D1%86%D0%B8%D0%BE%D0%BD%D0%B0%D0%BB\n",
      "http://mo.wikipedia.org/wiki/2001\n",
      "http://mo.wikipedia.org/wiki/%D0%94%D1%80%D0%B0%D1%85%D0%BC%D1%8D\n",
      "http://mo.wikipedia.org/wiki/%D0%95%D1%83%D1%80%D0%BE%D0%BF%D0%B0\n",
      "http://mo.wikipedia.org/wiki/%D0%98%D0%BC%D0%BF%D0%B5%D1%80%D0%B8%D1%83%D0%BB_%D0%A0%D0%BE%D0%BC%D0%B0%D0%BD\n",
      "http://mo.wikipedia.org/wiki/%D0%98%D0%BC%D0%BF%D0%B5%D1%80%D0%B8%D1%83%D0%BB_%D0%A0%D0%BE%D0%BC%D0%B0%D0%BD\n",
      "http://mo.wikipedia.org/wiki/%D0%A0%D0%B5%D0%BF%D1%83%D0%B1%D0%BB%D0%B8%D0%BA%D1%8D\n",
      "http://mo.wikipedia.org/wiki/%D0%A3%D0%BD%D0%B8%D1%83%D0%BD%D1%8F_%D0%95%D1%83%D1%80%D0%BE%D0%BF%D1%8F%D0%BD%D1%8D\n",
      "http://mo.wikipedia.org/wiki/2001\n",
      "http://mo.wikipedia.org/wiki/1999\n",
      "http://mo.wikipedia.org/wiki/%D0%9B%D0%B8%D0%BC%D0%B1%D1%8C\n",
      "http://mo.wikipedia.org/wiki/%D0%98%D1%81%D0%BB%D0%B0%D0%BC%D0%B8%D0%B7%D0%BC\n",
      "http://mo.wikipedia.org/wiki/%D0%93%D1%80%D0%B5%D1%87%D0%B8%D1%8F\n",
      "http://mo.wikipedia.org/wiki/%D0%93%D1%80%D0%B5%D1%87%D0%B8%D1%8F\n",
      "http://mo.wikipedia.org/wiki/%D0%9F%D0%B0%D3%82%D0%B8%D0%BD%D0%B0_%D0%BF%D1%80%D0%B8%D0%BD%D1%87%D0%B8%D0%BF%D0%B0%D0%BB%D1%8D\n",
      "http://mo.wikipedia.org/wiki/%D0%9F%D0%B0%D3%82%D0%B8%D0%BD%D0%B0_%D0%BF%D1%80%D0%B8%D0%BD%D1%87%D0%B8%D0%BF%D0%B0%D0%BB%D1%8D\n"
     ]
    },
    {
     "data": {
      "application/vnd.jupyter.widget-view+json": {
       "model_id": "f507c2e733a64b68805eed456aadd2c5",
       "version_major": 2,
       "version_minor": 0
      },
      "text/plain": [
       "A Jupyter Widget"
      ]
     },
     "metadata": {},
     "output_type": "display_data"
    },
    {
     "name": "stdout",
     "output_type": "stream",
     "text": [
      "\n"
     ]
    },
    {
     "data": {
      "application/vnd.jupyter.widget-view+json": {
       "model_id": "2ad58730c40a4102bf92e74e9d6f94aa",
       "version_major": 2,
       "version_minor": 0
      },
      "text/plain": [
       "A Jupyter Widget"
      ]
     },
     "metadata": {},
     "output_type": "display_data"
    },
    {
     "name": "stdout",
     "output_type": "stream",
     "text": [
      "\n"
     ]
    },
    {
     "data": {
      "application/vnd.jupyter.widget-view+json": {
       "model_id": "62aaa479ee85478e81ab871ebcbaf437",
       "version_major": 2,
       "version_minor": 0
      },
      "text/plain": [
       "A Jupyter Widget"
      ]
     },
     "metadata": {},
     "output_type": "display_data"
    },
    {
     "name": "stdout",
     "output_type": "stream",
     "text": [
      "\n"
     ]
    },
    {
     "data": {
      "application/vnd.jupyter.widget-view+json": {
       "model_id": "4c414a8b2d14410d839c6e8dbbdf24ad",
       "version_major": 2,
       "version_minor": 0
      },
      "text/plain": [
       "A Jupyter Widget"
      ]
     },
     "metadata": {},
     "output_type": "display_data"
    },
    {
     "name": "stdout",
     "output_type": "stream",
     "text": [
      "\n"
     ]
    },
    {
     "data": {
      "application/vnd.jupyter.widget-view+json": {
       "model_id": "b18e24943e47410284996398c062c4ee",
       "version_major": 2,
       "version_minor": 0
      },
      "text/plain": [
       "A Jupyter Widget"
      ]
     },
     "metadata": {},
     "output_type": "display_data"
    },
    {
     "name": "stdout",
     "output_type": "stream",
     "text": [
      "\n",
      "http://mo.wikipedia.org/wiki/%D0%98%D1%81%D0%BB%D0%B0%D0%BC\n",
      "http://mo.wikipedia.org/wiki/%D0%98%D1%81%D0%BB%D0%B0%D0%BC\n",
      "http://mo.wikipedia.org/wiki/%D0%9F%D0%B0%D3%82%D0%B8%D0%BD%D0%B0_%D0%BF%D1%80%D0%B8%D0%BD%D1%87%D0%B8%D0%BF%D0%B0%D0%BB%D1%8D\n",
      "http://mo.wikipedia.org/wiki/%D0%9F%D0%B0%D3%82%D0%B8%D0%BD%D0%B0_%D0%BF%D1%80%D0%B8%D0%BD%D1%87%D0%B8%D0%BF%D0%B0%D0%BB%D1%8D\n"
     ]
    },
    {
     "data": {
      "application/vnd.jupyter.widget-view+json": {
       "model_id": "f863f50f55264963aaf91943369380fb",
       "version_major": 2,
       "version_minor": 0
      },
      "text/plain": [
       "A Jupyter Widget"
      ]
     },
     "metadata": {},
     "output_type": "display_data"
    },
    {
     "name": "stdout",
     "output_type": "stream",
     "text": [
      "\n"
     ]
    },
    {
     "data": {
      "application/vnd.jupyter.widget-view+json": {
       "model_id": "3948c4db6c2a4681a65cbc373c09f2f7",
       "version_major": 2,
       "version_minor": 0
      },
      "text/plain": [
       "A Jupyter Widget"
      ]
     },
     "metadata": {},
     "output_type": "display_data"
    },
    {
     "name": "stdout",
     "output_type": "stream",
     "text": [
      "\n"
     ]
    },
    {
     "data": {
      "application/vnd.jupyter.widget-view+json": {
       "model_id": "a4abaff591c44b0e9e1d4458ac26644d",
       "version_major": 2,
       "version_minor": 0
      },
      "text/plain": [
       "A Jupyter Widget"
      ]
     },
     "metadata": {},
     "output_type": "display_data"
    },
    {
     "name": "stdout",
     "output_type": "stream",
     "text": [
      "\n",
      "http://mo.wikipedia.org/wiki/%D0%98%D1%81%D0%BB%D0%B0%D0%BC\n",
      "http://mo.wikipedia.org/wiki/%D0%98%D1%81%D0%BB%D0%B0%D0%BC\n",
      "http://mo.wikipedia.org/wiki/%D0%9F%D0%B0%D3%82%D0%B8%D0%BD%D0%B0_%D0%BF%D1%80%D0%B8%D0%BD%D1%87%D0%B8%D0%BF%D0%B0%D0%BB%D1%8D\n",
      "http://mo.wikipedia.org/wiki/%D0%9F%D0%B0%D3%82%D0%B8%D0%BD%D0%B0_%D0%BF%D1%80%D0%B8%D0%BD%D1%87%D0%B8%D0%BF%D0%B0%D0%BB%D1%8D\n"
     ]
    },
    {
     "data": {
      "application/vnd.jupyter.widget-view+json": {
       "model_id": "d1b3fa3d0ed74f649424e61405786a93",
       "version_major": 2,
       "version_minor": 0
      },
      "text/plain": [
       "A Jupyter Widget"
      ]
     },
     "metadata": {},
     "output_type": "display_data"
    },
    {
     "name": "stdout",
     "output_type": "stream",
     "text": [
      "\n"
     ]
    },
    {
     "data": {
      "application/vnd.jupyter.widget-view+json": {
       "model_id": "baad3cc420674827a521edebebd3ba9a",
       "version_major": 2,
       "version_minor": 0
      },
      "text/plain": [
       "A Jupyter Widget"
      ]
     },
     "metadata": {},
     "output_type": "display_data"
    },
    {
     "name": "stdout",
     "output_type": "stream",
     "text": [
      "\n"
     ]
    },
    {
     "data": {
      "application/vnd.jupyter.widget-view+json": {
       "model_id": "1c3f92df630b40de948e6e2669420515",
       "version_major": 2,
       "version_minor": 0
      },
      "text/plain": [
       "A Jupyter Widget"
      ]
     },
     "metadata": {},
     "output_type": "display_data"
    },
    {
     "name": "stdout",
     "output_type": "stream",
     "text": [
      "\n"
     ]
    },
    {
     "data": {
      "application/vnd.jupyter.widget-view+json": {
       "model_id": "0e8758cd9c464c24b01779f187ff89df",
       "version_major": 2,
       "version_minor": 0
      },
      "text/plain": [
       "A Jupyter Widget"
      ]
     },
     "metadata": {},
     "output_type": "display_data"
    },
    {
     "name": "stdout",
     "output_type": "stream",
     "text": [
      "\n"
     ]
    },
    {
     "data": {
      "application/vnd.jupyter.widget-view+json": {
       "model_id": "0ed4ef1eb0ec4d26b69dc642053f6696",
       "version_major": 2,
       "version_minor": 0
      },
      "text/plain": [
       "A Jupyter Widget"
      ]
     },
     "metadata": {},
     "output_type": "display_data"
    },
    {
     "name": "stdout",
     "output_type": "stream",
     "text": [
      "\n"
     ]
    },
    {
     "data": {
      "application/vnd.jupyter.widget-view+json": {
       "model_id": "d39a2b8656314f938595b668c0133c1a",
       "version_major": 2,
       "version_minor": 0
      },
      "text/plain": [
       "A Jupyter Widget"
      ]
     },
     "metadata": {},
     "output_type": "display_data"
    },
    {
     "name": "stdout",
     "output_type": "stream",
     "text": [
      "\n",
      "http://mo.wikipedia.org/wiki/%D0%9B%D0%B8%D0%BC%D0%B1%D1%8C\n",
      "http://mo.wikipedia.org/wiki/%D0%9B%D0%B8%D0%BC%D0%B1%D1%8C\n",
      "http://mo.wikipedia.org/wiki/%D0%9F%D0%B0%D3%82%D0%B8%D0%BD%D0%B0_%D0%BF%D1%80%D0%B8%D0%BD%D1%87%D0%B8%D0%BF%D0%B0%D0%BB%D1%8D\n",
      "http://mo.wikipedia.org/wiki/%D0%9F%D0%B0%D3%82%D0%B8%D0%BD%D0%B0_%D0%BF%D1%80%D0%B8%D0%BD%D1%87%D0%B8%D0%BF%D0%B0%D0%BB%D1%8D\n"
     ]
    },
    {
     "data": {
      "application/vnd.jupyter.widget-view+json": {
       "model_id": "d16f86de8ea64a76b931e015778cc9fb",
       "version_major": 2,
       "version_minor": 0
      },
      "text/plain": [
       "A Jupyter Widget"
      ]
     },
     "metadata": {},
     "output_type": "display_data"
    },
    {
     "name": "stdout",
     "output_type": "stream",
     "text": [
      "\n"
     ]
    },
    {
     "data": {
      "application/vnd.jupyter.widget-view+json": {
       "model_id": "0e04cb328d6e41c99740e148728535ea",
       "version_major": 2,
       "version_minor": 0
      },
      "text/plain": [
       "A Jupyter Widget"
      ]
     },
     "metadata": {},
     "output_type": "display_data"
    },
    {
     "name": "stdout",
     "output_type": "stream",
     "text": [
      "\n"
     ]
    },
    {
     "data": {
      "application/vnd.jupyter.widget-view+json": {
       "model_id": "a341e5a90f1f4e1d8fb6d4445660eff4",
       "version_major": 2,
       "version_minor": 0
      },
      "text/plain": [
       "A Jupyter Widget"
      ]
     },
     "metadata": {},
     "output_type": "display_data"
    },
    {
     "name": "stdout",
     "output_type": "stream",
     "text": [
      "\n"
     ]
    },
    {
     "data": {
      "application/vnd.jupyter.widget-view+json": {
       "model_id": "c223f5070cfe48d2ad6db66498232042",
       "version_major": 2,
       "version_minor": 0
      },
      "text/plain": [
       "A Jupyter Widget"
      ]
     },
     "metadata": {},
     "output_type": "display_data"
    },
    {
     "name": "stdout",
     "output_type": "stream",
     "text": [
      "\n"
     ]
    },
    {
     "data": {
      "application/vnd.jupyter.widget-view+json": {
       "model_id": "4cc3e52c1ae0455d895dc5ac08ec284a",
       "version_major": 2,
       "version_minor": 0
      },
      "text/plain": [
       "A Jupyter Widget"
      ]
     },
     "metadata": {},
     "output_type": "display_data"
    },
    {
     "name": "stdout",
     "output_type": "stream",
     "text": [
      "\n",
      "http://mo.wikipedia.org/wiki/1999\n",
      "http://mo.wikipedia.org/wiki/1999\n",
      "http://mo.wikipedia.org/wiki/%D0%9F%D0%B0%D3%82%D0%B8%D0%BD%D0%B0_%D0%BF%D1%80%D0%B8%D0%BD%D1%87%D0%B8%D0%BF%D0%B0%D0%BB%D1%8D\n",
      "http://mo.wikipedia.org/wiki/%D0%9F%D0%B0%D3%82%D0%B8%D0%BD%D0%B0_%D0%BF%D1%80%D0%B8%D0%BD%D1%87%D0%B8%D0%BF%D0%B0%D0%BB%D1%8D\n"
     ]
    },
    {
     "data": {
      "application/vnd.jupyter.widget-view+json": {
       "model_id": "ebf91226aea14973a22533f64d502199",
       "version_major": 2,
       "version_minor": 0
      },
      "text/plain": [
       "A Jupyter Widget"
      ]
     },
     "metadata": {},
     "output_type": "display_data"
    },
    {
     "name": "stdout",
     "output_type": "stream",
     "text": [
      "\n"
     ]
    },
    {
     "data": {
      "application/vnd.jupyter.widget-view+json": {
       "model_id": "b463f0cfef9841e7b1018f9a28127121",
       "version_major": 2,
       "version_minor": 0
      },
      "text/plain": [
       "A Jupyter Widget"
      ]
     },
     "metadata": {},
     "output_type": "display_data"
    },
    {
     "name": "stdout",
     "output_type": "stream",
     "text": [
      "\n"
     ]
    },
    {
     "data": {
      "application/vnd.jupyter.widget-view+json": {
       "model_id": "71083332c56b4cdea4645a4dc9aa6b08",
       "version_major": 2,
       "version_minor": 0
      },
      "text/plain": [
       "A Jupyter Widget"
      ]
     },
     "metadata": {},
     "output_type": "display_data"
    },
    {
     "name": "stdout",
     "output_type": "stream",
     "text": [
      "\n"
     ]
    },
    {
     "data": {
      "application/vnd.jupyter.widget-view+json": {
       "model_id": "c37cffbe7a124b18b1732efe457af05b",
       "version_major": 2,
       "version_minor": 0
      },
      "text/plain": [
       "A Jupyter Widget"
      ]
     },
     "metadata": {},
     "output_type": "display_data"
    },
    {
     "name": "stdout",
     "output_type": "stream",
     "text": [
      "\n"
     ]
    },
    {
     "data": {
      "application/vnd.jupyter.widget-view+json": {
       "model_id": "1ba54fb9daca4ac498b93e1beda03d08",
       "version_major": 2,
       "version_minor": 0
      },
      "text/plain": [
       "A Jupyter Widget"
      ]
     },
     "metadata": {},
     "output_type": "display_data"
    },
    {
     "name": "stdout",
     "output_type": "stream",
     "text": [
      "\n"
     ]
    },
    {
     "data": {
      "application/vnd.jupyter.widget-view+json": {
       "model_id": "a01e027e55e74775a5138b5f25247333",
       "version_major": 2,
       "version_minor": 0
      },
      "text/plain": [
       "A Jupyter Widget"
      ]
     },
     "metadata": {},
     "output_type": "display_data"
    },
    {
     "name": "stdout",
     "output_type": "stream",
     "text": [
      "\n",
      "http://mo.wikipedia.org/wiki/%D0%95%D1%83%D1%80%D0%BE%D0%BF%D0%B0\n",
      "http://mo.wikipedia.org/wiki/%D0%A4%D1%80%D0%B0%D0%BD%D1%86%D0%B0\n",
      "http://mo.wikipedia.org/wiki/%D3%81%D0%B5%D1%80%D0%BC%D0%B0%D0%BD%D0%B8%D1%8F\n",
      "http://mo.wikipedia.org/wiki/%D0%98%D1%82%D0%B0%D0%BB%D0%B8%D1%8F\n",
      "http://mo.wikipedia.org/wiki/%D0%98%D1%80%D0%BB%D0%B0%D0%BD%D0%B4%D0%B0\n",
      "http://mo.wikipedia.org/wiki/%D0%A1%D0%BF%D0%B0%D0%BD%D0%B8%D1%8F\n",
      "http://mo.wikipedia.org/wiki/%D0%9F%D0%BE%D1%80%D1%82%D1%83%D0%B3%D0%B0%D0%BB%D0%B8%D1%8F\n",
      "http://mo.wikipedia.org/wiki/%D0%A1%D1%83%D0%B5%D0%B4%D0%B8%D1%8F\n",
      "http://mo.wikipedia.org/wiki/%D0%90%D1%83%D1%81%D1%82%D1%80%D0%B8%D1%8F\n",
      "http://mo.wikipedia.org/wiki/2002\n",
      "http://mo.wikipedia.org/wiki/2004\n",
      "http://mo.wikipedia.org/wiki/%D0%9F%D0%BE%D0%BB%D0%BE%D0%BD%D0%B8%D1%8F\n",
      "http://mo.wikipedia.org/wiki/%D0%A3%D0%BD%D0%B3%D0%B0%D1%80%D0%B8%D1%8F\n",
      "http://mo.wikipedia.org/wiki/%D0%9B%D0%B5%D1%82%D0%BE%D0%BD%D0%B8%D1%8F\n",
      "http://mo.wikipedia.org/wiki/%D0%95%D1%81%D1%82%D0%BE%D0%BD%D0%B8%D1%8F\n",
      "http://mo.wikipedia.org/wiki/%D0%9B%D0%B8%D1%82%D1%83%D0%B0%D0%BD%D0%B8%D1%8F\n",
      "http://mo.wikipedia.org/wiki/%D0%91%D1%83%D0%BB%D0%B3%D0%B0%D1%80%D0%B8%D1%8F\n",
      "http://mo.wikipedia.org/wiki/%D0%A0%D0%BE%D0%BC%D1%8B%D0%BD%D0%B8%D1%8F\n",
      "http://mo.wikipedia.org/wiki/%D0%9A%D1%80%D0%BE%D0%B0%D1%86%D0%B8%D1%8F\n",
      "http://mo.wikipedia.org/wiki/%D0%A2%D1%83%D1%80%D1%87%D0%B8%D1%8F\n",
      "http://mo.wikipedia.org/wiki/2007\n",
      "http://mo.wikipedia.org/wiki/%D0%A2%D1%83%D1%80%D1%87%D0%B8%D1%8F\n",
      "http://mo.wikipedia.org/wiki/%D0%9A%D1%80%D0%BE%D0%B0%D1%86%D0%B8%D1%8F\n",
      "http://mo.wikipedia.org/wiki/%D0%A4%D1%80%D0%B0%D0%BD%D1%86%D0%B0\n",
      "http://mo.wikipedia.org/wiki/%D3%81%D0%B5%D1%80%D0%BC%D0%B0%D0%BD%D0%B8%D1%8F\n",
      "http://mo.wikipedia.org/wiki/1990\n",
      "http://mo.wikipedia.org/wiki/2003\n",
      "http://mo.wikipedia.org/wiki/%D0%95%D1%83%D1%80%D0%BE%D0%BF%D0%B0\n",
      "http://mo.wikipedia.org/wiki/%D0%A3%D0%BD%D0%B8%D1%83%D0%BD%D1%8F_%D0%95%D1%83%D1%80%D0%BE%D0%BF%D1%8F%D0%BD%D1%8D\n",
      "http://mo.wikipedia.org/wiki/%D0%A3%D0%BD%D0%B8%D1%83%D0%BD%D1%8F_%D0%95%D1%83%D1%80%D0%BE%D0%BF%D1%8F%D0%BD%D1%8D\n",
      "http://mo.wikipedia.org/wiki/%D0%9F%D0%B0%D3%82%D0%B8%D0%BD%D0%B0_%D0%BF%D1%80%D0%B8%D0%BD%D1%87%D0%B8%D0%BF%D0%B0%D0%BB%D1%8D\n",
      "http://mo.wikipedia.org/wiki/%D0%9F%D0%B0%D3%82%D0%B8%D0%BD%D0%B0_%D0%BF%D1%80%D0%B8%D0%BD%D1%87%D0%B8%D0%BF%D0%B0%D0%BB%D1%8D\n"
     ]
    },
    {
     "data": {
      "application/vnd.jupyter.widget-view+json": {
       "model_id": "62e9952b3f0c45038b8a3e52280a5d05",
       "version_major": 2,
       "version_minor": 0
      },
      "text/plain": [
       "A Jupyter Widget"
      ]
     },
     "metadata": {},
     "output_type": "display_data"
    },
    {
     "name": "stdout",
     "output_type": "stream",
     "text": [
      "\n"
     ]
    },
    {
     "data": {
      "application/vnd.jupyter.widget-view+json": {
       "model_id": "2173e9f95f5e4415ac0be2c9bf682836",
       "version_major": 2,
       "version_minor": 0
      },
      "text/plain": [
       "A Jupyter Widget"
      ]
     },
     "metadata": {},
     "output_type": "display_data"
    },
    {
     "name": "stdout",
     "output_type": "stream",
     "text": [
      "\n"
     ]
    },
    {
     "data": {
      "application/vnd.jupyter.widget-view+json": {
       "model_id": "ac777f697a7b42e09c4b1bfb9781fad3",
       "version_major": 2,
       "version_minor": 0
      },
      "text/plain": [
       "A Jupyter Widget"
      ]
     },
     "metadata": {},
     "output_type": "display_data"
    },
    {
     "name": "stdout",
     "output_type": "stream",
     "text": [
      "\n"
     ]
    },
    {
     "data": {
      "application/vnd.jupyter.widget-view+json": {
       "model_id": "0c4ae63af2e64ad78966363ad996d11f",
       "version_major": 2,
       "version_minor": 0
      },
      "text/plain": [
       "A Jupyter Widget"
      ]
     },
     "metadata": {},
     "output_type": "display_data"
    },
    {
     "name": "stdout",
     "output_type": "stream",
     "text": [
      "\n"
     ]
    },
    {
     "data": {
      "application/vnd.jupyter.widget-view+json": {
       "model_id": "84f15af6daec4a6ea6dc06aba5965255",
       "version_major": 2,
       "version_minor": 0
      },
      "text/plain": [
       "A Jupyter Widget"
      ]
     },
     "metadata": {},
     "output_type": "display_data"
    },
    {
     "name": "stdout",
     "output_type": "stream",
     "text": [
      "\n"
     ]
    },
    {
     "data": {
      "application/vnd.jupyter.widget-view+json": {
       "model_id": "6d359d44d8fe413eb57864aef73d620c",
       "version_major": 2,
       "version_minor": 0
      },
      "text/plain": [
       "A Jupyter Widget"
      ]
     },
     "metadata": {},
     "output_type": "display_data"
    },
    {
     "name": "stdout",
     "output_type": "stream",
     "text": [
      "\n"
     ]
    },
    {
     "data": {
      "application/vnd.jupyter.widget-view+json": {
       "model_id": "5a3ac6c24e2e44309b379d2e6a323add",
       "version_major": 2,
       "version_minor": 0
      },
      "text/plain": [
       "A Jupyter Widget"
      ]
     },
     "metadata": {},
     "output_type": "display_data"
    },
    {
     "name": "stdout",
     "output_type": "stream",
     "text": [
      "\n"
     ]
    },
    {
     "data": {
      "application/vnd.jupyter.widget-view+json": {
       "model_id": "9d68298ea8764ad6bd635090ec1f511f",
       "version_major": 2,
       "version_minor": 0
      },
      "text/plain": [
       "A Jupyter Widget"
      ]
     },
     "metadata": {},
     "output_type": "display_data"
    },
    {
     "name": "stdout",
     "output_type": "stream",
     "text": [
      "\n",
      "http://mo.wikipedia.org/wiki/%D0%9B%D0%B8%D0%BC%D0%B1%D1%8D_%D0%BE%D1%84%D0%B8%D1%87%D0%B8%D0%B0%D0%BB%D1%8D\n",
      "http://mo.wikipedia.org/wiki/%D0%9B%D0%B8%D0%BC%D0%B1%D0%B0_%D3%82%D0%B5%D1%80%D0%BC%D0%B0%D0%BD%D1%8D\n",
      "http://mo.wikipedia.org/wiki/%D0%9A%D0%B0%D0%BF%D0%B8%D1%82%D0%B0%D0%BB%D1%8D\n",
      "http://mo.wikipedia.org/wiki/%D0%A1%D0%B8%D1%81%D1%82%D0%B5%D0%BC_%D0%BF%D0%BE%D0%BB%D0%B8%D1%82%D0%B8%D0%BA\n",
      "http://mo.wikipedia.org/wiki/%D0%A1%D1%83%D0%BF%D1%80%D0%B0%D1%84%D0%B0%D1%86%D1%8D\n",
      "http://mo.wikipedia.org/wiki/%D0%9F%D0%BE%D0%BF%D1%83%D0%BB%D0%B0%D1%86%D0%B8%D0%B5\n",
      "http://mo.wikipedia.org/wiki/%D0%94%D0%B5%D0%BD%D1%81%D0%B8%D1%82%D0%B0%D1%82%D1%8F_%D0%BF%D0%BE%D0%BF%D1%83%D0%BB%D0%B0%D1%86%D0%B8%D0%B5%D0%B9\n",
      "http://mo.wikipedia.org/wiki/1990\n",
      "http://mo.wikipedia.org/wiki/%D0%9F%D1%80%D0%BE%D0%B4%D1%83%D1%81_%D0%B8%D0%BD%D1%82%D0%B5%D1%80%D0%BD_%D0%B1%D1%80%D1%83%D1%82\n",
      "http://mo.wikipedia.org/wiki/%D0%9C%D0%BE%D0%BD%D0%B5%D0%B4%D1%8D\n",
      "http://mo.wikipedia.org/wiki/%D0%A4%D1%83%D1%81_%D0%BE%D1%80%D0%B0%D1%80\n",
      "http://mo.wikipedia.org/wiki/%D0%98%D0%BC%D0%BD_%D0%BD%D0%B0%D1%86%D0%B8%D0%BE%D0%BD%D0%B0%D0%BB\n",
      "http://mo.wikipedia.org/wiki/%D0%94%D0%BE%D0%BC%D0%B5%D0%BD%D0%B8%D1%83_%D0%BD%D0%B0%D1%86%D0%B8%D0%BE%D0%BD%D0%B0%D0%BB_%D0%B4%D0%B5_%D0%BD%D0%B8%D0%B2%D0%B5%D0%BB_%D1%81%D1%83%D0%BF%D0%B5%D1%80%D0%B8%D0%BE%D1%80\n",
      "http://mo.wikipedia.org/wiki/1999\n",
      "http://mo.wikipedia.org/wiki/%D0%A3%D0%BD%D0%B8%D1%83%D0%BD%D1%8F_%D0%95%D1%83%D1%80%D0%BE%D0%BF%D1%8F%D0%BD%D1%8D\n",
      "http://mo.wikipedia.org/wiki/1989\n",
      "http://mo.wikipedia.org/wiki/1990\n",
      "http://mo.wikipedia.org/wiki/1990\n",
      "http://mo.wikipedia.org/wiki/%D0%9B%D0%B8%D0%BC%D0%B1%D0%B0_%D3%82%D0%B5%D1%80%D0%BC%D0%B0%D0%BD%D1%8D\n",
      "http://mo.wikipedia.org/wiki/%D0%90%D1%83%D1%81%D1%82%D1%80%D0%B8%D1%8F\n",
      "http://mo.wikipedia.org/wiki/%D0%95%D1%83%D1%80%D0%BE%D0%BF%D0%B0\n",
      "http://mo.wikipedia.org/wiki/%D0%A4%D1%80%D0%B0%D0%BD%D1%86%D0%B0\n",
      "http://mo.wikipedia.org/wiki/1918\n",
      "http://mo.wikipedia.org/wiki/1919\n",
      "http://mo.wikipedia.org/wiki/%D0%95%D1%83%D1%80%D0%BE%D0%BF%D0%B0\n",
      "http://mo.wikipedia.org/wiki/%D0%95%D1%83%D1%80%D0%BE%D0%BF%D0%B0\n",
      "http://mo.wikipedia.org/wiki/%D0%A3%D0%A0%D0%A1%D0%A1\n",
      "http://mo.wikipedia.org/wiki/1941\n",
      "http://mo.wikipedia.org/wiki/%D0%A5%D0%BE%D0%BB%D0%BE%D0%BA%D0%B0%D1%83%D1%81%D1%82\n",
      "http://mo.wikipedia.org/wiki/%D0%95%D0%B2%D1%80%D0%B5%D0%B9\n",
      "http://mo.wikipedia.org/wiki/1942\n",
      "http://mo.wikipedia.org/wiki/%D0%A3%D0%A0%D0%A1%D0%A1\n",
      "http://mo.wikipedia.org/wiki/%D0%9F%D0%BE%D0%BB%D0%BE%D0%BD%D0%B8%D1%8F\n",
      "http://mo.wikipedia.org/wiki/%D0%A3%D0%A0%D0%A1%D0%A1\n",
      "http://mo.wikipedia.org/wiki/%D0%A4%D1%80%D0%B0%D0%BD%D1%86%D0%B0\n",
      "http://mo.wikipedia.org/wiki/%D0%A3%D0%A0%D0%A1%D0%A1\n",
      "http://mo.wikipedia.org/wiki/%D0%A1%D1%82%D0%B0%D1%82%D0%B5%D0%BB%D0%B5_%D0%A3%D0%BD%D0%B8%D1%82%D0%B5\n",
      "http://mo.wikipedia.org/wiki/%D0%A3%D0%A0%D0%A1%D0%A1\n",
      "http://mo.wikipedia.org/wiki/1990\n",
      "http://mo.wikipedia.org/wiki/%D0%A3%D0%BD%D0%B8%D1%83%D0%BD%D1%8F_%D0%95%D1%83%D1%80%D0%BE%D0%BF%D1%8F%D0%BD%D1%8D\n",
      "http://mo.wikipedia.org/wiki/%D0%A4%D1%80%D0%B0%D0%BD%D1%86%D0%B0\n",
      "http://mo.wikipedia.org/wiki/%D0%90%D1%83%D1%81%D1%82%D1%80%D0%B8%D1%8F\n",
      "http://mo.wikipedia.org/wiki/%D0%9F%D0%BE%D0%BB%D0%BE%D0%BD%D0%B8%D1%8F\n",
      "http://mo.wikipedia.org/wiki/%D0%9C%D0%B0%D1%80%D1%8F_%D0%91%D0%B0%D0%BB%D1%82%D0%B8%D0%BA%D1%8D\n",
      "http://mo.wikipedia.org/wiki/%D0%A3%D0%BD%D0%B8%D1%83%D0%BD%D1%8F_%D0%95%D1%83%D1%80%D0%BE%D0%BF%D1%8F%D0%BD%D1%8D\n",
      "http://mo.wikipedia.org/wiki/%D0%90%D1%83%D1%81%D1%82%D1%80%D0%B8%D1%8F\n",
      "http://mo.wikipedia.org/wiki/%D0%95%D1%81%D1%82%D0%BE%D0%BD%D0%B8%D1%8F\n",
      "http://mo.wikipedia.org/wiki/%D0%A4%D1%80%D0%B0%D0%BD%D1%86%D0%B0\n",
      "http://mo.wikipedia.org/wiki/%D0%93%D1%80%D0%B5%D1%87%D0%B8%D1%8F\n",
      "http://mo.wikipedia.org/wiki/%D0%98%D1%80%D0%BB%D0%B0%D0%BD%D0%B4%D0%B0\n",
      "http://mo.wikipedia.org/wiki/%D0%98%D1%82%D0%B0%D0%BB%D0%B8%D1%8F\n",
      "http://mo.wikipedia.org/wiki/%D0%9B%D0%B5%D1%82%D0%BE%D0%BD%D0%B8%D1%8F\n",
      "http://mo.wikipedia.org/wiki/%D0%9B%D0%B8%D1%82%D1%83%D0%B0%D0%BD%D0%B8%D1%8F\n",
      "http://mo.wikipedia.org/wiki/%D0%9F%D0%BE%D0%BB%D0%BE%D0%BD%D0%B8%D1%8F\n",
      "http://mo.wikipedia.org/wiki/%D0%9F%D0%BE%D1%80%D1%82%D1%83%D0%B3%D0%B0%D0%BB%D0%B8%D1%8F\n",
      "http://mo.wikipedia.org/wiki/%D0%A1%D0%BB%D0%BE%D0%B2%D0%B0%D1%87%D0%B8%D1%8F\n",
      "http://mo.wikipedia.org/wiki/%D0%A1%D0%BF%D0%B0%D0%BD%D0%B8%D1%8F\n",
      "http://mo.wikipedia.org/wiki/%D0%A1%D1%83%D0%B5%D0%B4%D0%B8%D1%8F\n",
      "http://mo.wikipedia.org/wiki/%D0%A3%D0%BD%D0%B3%D0%B0%D1%80%D0%B8%D1%8F\n",
      "http://mo.wikipedia.org/wiki/2007\n",
      "http://mo.wikipedia.org/wiki/%D0%91%D1%83%D0%BB%D0%B3%D0%B0%D1%80%D0%B8%D1%8F\n",
      "http://mo.wikipedia.org/wiki/%D0%A0%D0%BE%D0%BC%D1%8B%D0%BD%D0%B8%D1%8F\n",
      "http://mo.wikipedia.org/wiki/%D0%9A%D1%80%D0%BE%D0%B0%D1%86%D0%B8%D1%8F\n",
      "http://mo.wikipedia.org/wiki/%D0%A2%D1%83%D1%80%D1%87%D0%B8%D1%8F\n",
      "http://mo.wikipedia.org/wiki/%D3%81%D0%B5%D1%80%D0%BC%D0%B0%D0%BD%D0%B8%D1%8F\n",
      "http://mo.wikipedia.org/wiki/%D3%81%D0%B5%D1%80%D0%BC%D0%B0%D0%BD%D0%B8%D1%8F\n",
      "http://mo.wikipedia.org/wiki/%D0%9F%D0%B0%D3%82%D0%B8%D0%BD%D0%B0_%D0%BF%D1%80%D0%B8%D0%BD%D1%87%D0%B8%D0%BF%D0%B0%D0%BB%D1%8D\n",
      "http://mo.wikipedia.org/wiki/%D0%9F%D0%B0%D3%82%D0%B8%D0%BD%D0%B0_%D0%BF%D1%80%D0%B8%D0%BD%D1%87%D0%B8%D0%BF%D0%B0%D0%BB%D1%8D\n"
     ]
    },
    {
     "data": {
      "application/vnd.jupyter.widget-view+json": {
       "model_id": "46bb3f4fdbee43ea8afd9bd47eca12c2",
       "version_major": 2,
       "version_minor": 0
      },
      "text/plain": [
       "A Jupyter Widget"
      ]
     },
     "metadata": {},
     "output_type": "display_data"
    },
    {
     "name": "stdout",
     "output_type": "stream",
     "text": [
      "\n"
     ]
    },
    {
     "data": {
      "application/vnd.jupyter.widget-view+json": {
       "model_id": "dec6dd51fc264362aa0df0f991c5bb46",
       "version_major": 2,
       "version_minor": 0
      },
      "text/plain": [
       "A Jupyter Widget"
      ]
     },
     "metadata": {},
     "output_type": "display_data"
    },
    {
     "name": "stdout",
     "output_type": "stream",
     "text": [
      "\n"
     ]
    },
    {
     "data": {
      "application/vnd.jupyter.widget-view+json": {
       "model_id": "719df936c7a042a89cdc2caa392a2d02",
       "version_major": 2,
       "version_minor": 0
      },
      "text/plain": [
       "A Jupyter Widget"
      ]
     },
     "metadata": {},
     "output_type": "display_data"
    },
    {
     "name": "stdout",
     "output_type": "stream",
     "text": [
      "\n"
     ]
    },
    {
     "data": {
      "application/vnd.jupyter.widget-view+json": {
       "model_id": "c7b8e5b451b343bc92c3702977fc5872",
       "version_major": 2,
       "version_minor": 0
      },
      "text/plain": [
       "A Jupyter Widget"
      ]
     },
     "metadata": {},
     "output_type": "display_data"
    },
    {
     "name": "stdout",
     "output_type": "stream",
     "text": [
      "\n"
     ]
    },
    {
     "data": {
      "application/vnd.jupyter.widget-view+json": {
       "model_id": "749ccd1b1741470fa1ef003a610deb8f",
       "version_major": 2,
       "version_minor": 0
      },
      "text/plain": [
       "A Jupyter Widget"
      ]
     },
     "metadata": {},
     "output_type": "display_data"
    },
    {
     "name": "stdout",
     "output_type": "stream",
     "text": [
      "\n",
      "http://mo.wikipedia.org/wiki/%D0%95%D1%83%D1%80%D0%BE%D0%BF%D0%B0\n",
      "http://mo.wikipedia.org/wiki/%D0%90%D1%81%D0%B8%D1%8F\n",
      "http://mo.wikipedia.org/wiki/%D0%A2%D1%83%D1%80%D1%87%D0%B8%D1%8F\n",
      "http://mo.wikipedia.org/wiki/%D0%A2%D1%83%D1%80%D1%87%D0%B8%D1%8F\n",
      "http://mo.wikipedia.org/wiki/%D0%9F%D0%B0%D3%82%D0%B8%D0%BD%D0%B0_%D0%BF%D1%80%D0%B8%D0%BD%D1%87%D0%B8%D0%BF%D0%B0%D0%BB%D1%8D\n",
      "http://mo.wikipedia.org/wiki/%D0%9F%D0%B0%D3%82%D0%B8%D0%BD%D0%B0_%D0%BF%D1%80%D0%B8%D0%BD%D1%87%D0%B8%D0%BF%D0%B0%D0%BB%D1%8D\n"
     ]
    },
    {
     "data": {
      "application/vnd.jupyter.widget-view+json": {
       "model_id": "5110bc9747f640a582061daf28df13d7",
       "version_major": 2,
       "version_minor": 0
      },
      "text/plain": [
       "A Jupyter Widget"
      ]
     },
     "metadata": {},
     "output_type": "display_data"
    },
    {
     "name": "stdout",
     "output_type": "stream",
     "text": [
      "\n"
     ]
    },
    {
     "data": {
      "application/vnd.jupyter.widget-view+json": {
       "model_id": "1cf8d1c7df074ec0b06f599b6275c7e8",
       "version_major": 2,
       "version_minor": 0
      },
      "text/plain": [
       "A Jupyter Widget"
      ]
     },
     "metadata": {},
     "output_type": "display_data"
    },
    {
     "name": "stdout",
     "output_type": "stream",
     "text": [
      "\n"
     ]
    },
    {
     "data": {
      "application/vnd.jupyter.widget-view+json": {
       "model_id": "651344fd6f0a43b2bed9449a80c39c7a",
       "version_major": 2,
       "version_minor": 0
      },
      "text/plain": [
       "A Jupyter Widget"
      ]
     },
     "metadata": {},
     "output_type": "display_data"
    },
    {
     "name": "stdout",
     "output_type": "stream",
     "text": [
      "\n"
     ]
    },
    {
     "data": {
      "application/vnd.jupyter.widget-view+json": {
       "model_id": "6c713367b82a49048489878d36bb45ff",
       "version_major": 2,
       "version_minor": 0
      },
      "text/plain": [
       "A Jupyter Widget"
      ]
     },
     "metadata": {},
     "output_type": "display_data"
    },
    {
     "name": "stdout",
     "output_type": "stream",
     "text": [
      "\n"
     ]
    },
    {
     "data": {
      "application/vnd.jupyter.widget-view+json": {
       "model_id": "f159c027cf8c45cc9c9ba3dc8fb98c82",
       "version_major": 2,
       "version_minor": 0
      },
      "text/plain": [
       "A Jupyter Widget"
      ]
     },
     "metadata": {},
     "output_type": "display_data"
    },
    {
     "name": "stdout",
     "output_type": "stream",
     "text": [
      "\n"
     ]
    },
    {
     "data": {
      "application/vnd.jupyter.widget-view+json": {
       "model_id": "69b41a5b0b0547c5acb2a89c86581ea5",
       "version_major": 2,
       "version_minor": 0
      },
      "text/plain": [
       "A Jupyter Widget"
      ]
     },
     "metadata": {},
     "output_type": "display_data"
    },
    {
     "name": "stdout",
     "output_type": "stream",
     "text": [
      "\n"
     ]
    },
    {
     "data": {
      "application/vnd.jupyter.widget-view+json": {
       "model_id": "2589af1bf72d46d79e9b1405cefb3289",
       "version_major": 2,
       "version_minor": 0
      },
      "text/plain": [
       "A Jupyter Widget"
      ]
     },
     "metadata": {},
     "output_type": "display_data"
    },
    {
     "name": "stdout",
     "output_type": "stream",
     "text": [
      "\n",
      "http://mo.wikipedia.org/wiki/%D0%9C%D0%BE%D0%BB%D0%B4%D0%BE%D0%B2%D0%B0\n",
      "http://mo.wikipedia.org/wiki/%D0%9A%D1%80%D0%BE%D0%B0%D1%86%D0%B8%D1%8F\n",
      "http://mo.wikipedia.org/wiki/%D0%9A%D1%80%D0%BE%D0%B0%D1%86%D0%B8%D1%8F\n",
      "http://mo.wikipedia.org/wiki/%D0%9F%D0%B0%D3%82%D0%B8%D0%BD%D0%B0_%D0%BF%D1%80%D0%B8%D0%BD%D1%87%D0%B8%D0%BF%D0%B0%D0%BB%D1%8D\n",
      "http://mo.wikipedia.org/wiki/%D0%9F%D0%B0%D3%82%D0%B8%D0%BD%D0%B0_%D0%BF%D1%80%D0%B8%D0%BD%D1%87%D0%B8%D0%BF%D0%B0%D0%BB%D1%8D\n"
     ]
    },
    {
     "data": {
      "application/vnd.jupyter.widget-view+json": {
       "model_id": "cb2c5c57cf4c409eba10450aa790c108",
       "version_major": 2,
       "version_minor": 0
      },
      "text/plain": [
       "A Jupyter Widget"
      ]
     },
     "metadata": {},
     "output_type": "display_data"
    },
    {
     "name": "stdout",
     "output_type": "stream",
     "text": [
      "\n"
     ]
    },
    {
     "data": {
      "application/vnd.jupyter.widget-view+json": {
       "model_id": "28a1dd9e52454980aea0076650f6ccbf",
       "version_major": 2,
       "version_minor": 0
      },
      "text/plain": [
       "A Jupyter Widget"
      ]
     },
     "metadata": {},
     "output_type": "display_data"
    },
    {
     "name": "stdout",
     "output_type": "stream",
     "text": [
      "\n"
     ]
    },
    {
     "data": {
      "application/vnd.jupyter.widget-view+json": {
       "model_id": "e895dcb382ff4762bcfca22405a36464",
       "version_major": 2,
       "version_minor": 0
      },
      "text/plain": [
       "A Jupyter Widget"
      ]
     },
     "metadata": {},
     "output_type": "display_data"
    },
    {
     "name": "stdout",
     "output_type": "stream",
     "text": [
      "\n"
     ]
    },
    {
     "data": {
      "application/vnd.jupyter.widget-view+json": {
       "model_id": "f27a9525bdcb447eb137015203613a47",
       "version_major": 2,
       "version_minor": 0
      },
      "text/plain": [
       "A Jupyter Widget"
      ]
     },
     "metadata": {},
     "output_type": "display_data"
    },
    {
     "name": "stdout",
     "output_type": "stream",
     "text": [
      "\n"
     ]
    },
    {
     "data": {
      "application/vnd.jupyter.widget-view+json": {
       "model_id": "1f96da11296e4f78b4f897ae3aee3078",
       "version_major": 2,
       "version_minor": 0
      },
      "text/plain": [
       "A Jupyter Widget"
      ]
     },
     "metadata": {},
     "output_type": "display_data"
    },
    {
     "name": "stdout",
     "output_type": "stream",
     "text": [
      "\n"
     ]
    },
    {
     "data": {
      "application/vnd.jupyter.widget-view+json": {
       "model_id": "e3d92df9dac1414cb3569e6f1977c0cc",
       "version_major": 2,
       "version_minor": 0
      },
      "text/plain": [
       "A Jupyter Widget"
      ]
     },
     "metadata": {},
     "output_type": "display_data"
    },
    {
     "name": "stdout",
     "output_type": "stream",
     "text": [
      "\n"
     ]
    },
    {
     "data": {
      "application/vnd.jupyter.widget-view+json": {
       "model_id": "a22d3e3b2c984f7496035157792fe374",
       "version_major": 2,
       "version_minor": 0
      },
      "text/plain": [
       "A Jupyter Widget"
      ]
     },
     "metadata": {},
     "output_type": "display_data"
    },
    {
     "name": "stdout",
     "output_type": "stream",
     "text": [
      "\n",
      "http://mo.wikipedia.org/wiki/%D0%9B%D0%B8%D0%BC%D0%B1%D1%8D_%D0%BE%D1%84%D0%B8%D1%87%D0%B8%D0%B0%D0%BB%D1%8D\n",
      "http://mo.wikipedia.org/wiki/%D0%9A%D0%B0%D0%BF%D0%B8%D1%82%D0%B0%D0%BB%D1%8D\n",
      "http://mo.wikipedia.org/wiki/%D0%A1%D0%BE%D1%84%D0%B8%D1%8F\n",
      "http://mo.wikipedia.org/wiki/%D0%A1%D0%BE%D1%84%D0%B8%D1%8F\n",
      "http://mo.wikipedia.org/wiki/%D0%A1%D0%B8%D1%81%D1%82%D0%B5%D0%BC_%D0%BF%D0%BE%D0%BB%D0%B8%D1%82%D0%B8%D0%BA\n",
      "http://mo.wikipedia.org/wiki/%D0%A1%D1%83%D0%BF%D1%80%D0%B0%D1%84%D0%B0%D1%86%D1%8D\n",
      "http://mo.wikipedia.org/wiki/%D0%9F%D0%BE%D0%BF%D1%83%D0%BB%D0%B0%D1%86%D0%B8%D0%B5\n",
      "http://mo.wikipedia.org/wiki/%D0%94%D0%B5%D0%BD%D1%81%D0%B8%D1%82%D0%B0%D1%82%D1%8F_%D0%BF%D0%BE%D0%BF%D1%83%D0%BB%D0%B0%D1%86%D0%B8%D0%B5%D0%B9\n",
      "http://mo.wikipedia.org/wiki/%D0%9F%D1%80%D0%BE%D0%B4%D1%83%D1%81_%D0%B8%D0%BD%D1%82%D0%B5%D1%80%D0%BD_%D0%B1%D1%80%D1%83%D1%82\n",
      "http://mo.wikipedia.org/wiki/%D0%9C%D0%BE%D0%BD%D0%B5%D0%B4%D1%8D\n",
      "http://mo.wikipedia.org/wiki/%D0%A4%D1%83%D1%81_%D0%BE%D1%80%D0%B0%D1%80\n",
      "http://mo.wikipedia.org/wiki/%D0%98%D0%BC%D0%BD_%D0%BD%D0%B0%D1%86%D0%B8%D0%BE%D0%BD%D0%B0%D0%BB\n",
      "http://mo.wikipedia.org/wiki/%D0%94%D0%BE%D0%BC%D0%B5%D0%BD%D0%B8%D1%83_%D0%BD%D0%B0%D1%86%D0%B8%D0%BE%D0%BD%D0%B0%D0%BB_%D0%B4%D0%B5_%D0%BD%D0%B8%D0%B2%D0%B5%D0%BB_%D1%81%D1%83%D0%BF%D0%B5%D1%80%D0%B8%D0%BE%D1%80\n",
      "http://mo.wikipedia.org/wiki/%D0%95%D1%83%D1%80%D0%BE%D0%BF%D0%B0\n",
      "http://mo.wikipedia.org/wiki/%D0%9C%D0%B0%D1%80%D1%8F_%D0%9D%D1%8F%D0%B3%D1%80%D1%8D\n",
      "http://mo.wikipedia.org/wiki/%D0%93%D1%80%D0%B5%D1%87%D0%B8%D1%8F\n",
      "http://mo.wikipedia.org/wiki/%D0%A2%D1%83%D1%80%D1%87%D0%B8%D1%8F\n",
      "http://mo.wikipedia.org/wiki/%D0%A0%D0%BE%D0%BC%D1%8B%D0%BD%D0%B8%D1%8F\n",
      "http://mo.wikipedia.org/wiki/%D0%94%D1%83%D0%BD%D1%8D%D1%80%D0%B5\n",
      "http://mo.wikipedia.org/wiki/%D0%90%D1%81%D0%B8%D1%8F\n",
      "http://mo.wikipedia.org/wiki/%D0%A1%D0%BB%D0%B0%D0%B2%D1%8C\n",
      "http://mo.wikipedia.org/wiki/%D0%A3%D0%A0%D0%A1%D0%A1\n",
      "http://mo.wikipedia.org/wiki/1990\n",
      "http://mo.wikipedia.org/wiki/2004\n",
      "http://mo.wikipedia.org/wiki/%D0%A3%D0%BD%D0%B8%D1%83%D0%BD%D1%8F_%D0%95%D1%83%D1%80%D0%BE%D0%BF%D1%8F%D0%BD%D1%8D\n",
      "http://mo.wikipedia.org/wiki/2007\n",
      "http://mo.wikipedia.org/wiki/%D0%A1%D0%BE%D1%84%D0%B8%D1%8F\n",
      "http://mo.wikipedia.org/wiki/%D0%A1%D0%B5%D1%80%D0%B1%D0%B8%D1%8F\n",
      "http://mo.wikipedia.org/wiki/1989\n",
      "http://mo.wikipedia.org/wiki/%D0%A3%D0%BD%D0%B8%D1%83%D0%BD%D1%8F_%D0%A1%D0%BE%D0%B2%D0%B8%D0%B5%D1%82%D0%B8%D0%BA%D1%8D\n",
      "http://mo.wikipedia.org/wiki/%D0%98%D1%80%D0%B0%D0%BA\n",
      "http://mo.wikipedia.org/wiki/2001\n",
      "http://mo.wikipedia.org/wiki/1997\n",
      "http://mo.wikipedia.org/wiki/2002\n",
      "http://mo.wikipedia.org/wiki/2003\n",
      "http://mo.wikipedia.org/wiki/%D0%A3%D0%BD%D0%B8%D1%83%D0%BD%D1%8F_%D0%95%D1%83%D1%80%D0%BE%D0%BF%D1%8F%D0%BD%D1%8D\n",
      "http://mo.wikipedia.org/wiki/2007\n",
      "http://mo.wikipedia.org/wiki/%D0%A2%D1%83%D1%80%D1%87%D0%B8%D1%8F\n",
      "http://mo.wikipedia.org/wiki/%D0%A0%D1%83%D1%88%D1%8C\n",
      "http://mo.wikipedia.org/wiki/%D0%95%D0%B2%D1%80%D0%B5%D0%B9\n",
      "http://mo.wikipedia.org/wiki/%D0%98%D1%81%D0%BB%D0%B0%D0%BC\n",
      "http://mo.wikipedia.org/wiki/%D0%91%D1%83%D0%BB%D0%B3%D0%B0%D1%80%D0%B8%D1%8F\n",
      "http://mo.wikipedia.org/wiki/%D0%91%D1%83%D0%BB%D0%B3%D0%B0%D1%80%D0%B8%D1%8F\n",
      "http://mo.wikipedia.org/wiki/%D0%9F%D0%B0%D3%82%D0%B8%D0%BD%D0%B0_%D0%BF%D1%80%D0%B8%D0%BD%D1%87%D0%B8%D0%BF%D0%B0%D0%BB%D1%8D\n",
      "http://mo.wikipedia.org/wiki/%D0%9F%D0%B0%D3%82%D0%B8%D0%BD%D0%B0_%D0%BF%D1%80%D0%B8%D0%BD%D1%87%D0%B8%D0%BF%D0%B0%D0%BB%D1%8D\n"
     ]
    },
    {
     "data": {
      "application/vnd.jupyter.widget-view+json": {
       "model_id": "75b539490fcd48a1947b4f49550a5156",
       "version_major": 2,
       "version_minor": 0
      },
      "text/plain": [
       "A Jupyter Widget"
      ]
     },
     "metadata": {},
     "output_type": "display_data"
    },
    {
     "name": "stdout",
     "output_type": "stream",
     "text": [
      "\n"
     ]
    },
    {
     "data": {
      "application/vnd.jupyter.widget-view+json": {
       "model_id": "cbadefbb2d404f6282576a4cd056f8a0",
       "version_major": 2,
       "version_minor": 0
      },
      "text/plain": [
       "A Jupyter Widget"
      ]
     },
     "metadata": {},
     "output_type": "display_data"
    },
    {
     "name": "stdout",
     "output_type": "stream",
     "text": [
      "\n"
     ]
    },
    {
     "data": {
      "application/vnd.jupyter.widget-view+json": {
       "model_id": "a9f28f6e58894602b2009d936bacce28",
       "version_major": 2,
       "version_minor": 0
      },
      "text/plain": [
       "A Jupyter Widget"
      ]
     },
     "metadata": {},
     "output_type": "display_data"
    },
    {
     "name": "stdout",
     "output_type": "stream",
     "text": [
      "\n"
     ]
    },
    {
     "data": {
      "application/vnd.jupyter.widget-view+json": {
       "model_id": "754c5e2a4c844b349a9460dade4c5419",
       "version_major": 2,
       "version_minor": 0
      },
      "text/plain": [
       "A Jupyter Widget"
      ]
     },
     "metadata": {},
     "output_type": "display_data"
    },
    {
     "name": "stdout",
     "output_type": "stream",
     "text": [
      "\n"
     ]
    },
    {
     "data": {
      "application/vnd.jupyter.widget-view+json": {
       "model_id": "b08e7e79a6a442efb4d282bb8242807a",
       "version_major": 2,
       "version_minor": 0
      },
      "text/plain": [
       "A Jupyter Widget"
      ]
     },
     "metadata": {},
     "output_type": "display_data"
    },
    {
     "name": "stdout",
     "output_type": "stream",
     "text": [
      "\n"
     ]
    },
    {
     "data": {
      "application/vnd.jupyter.widget-view+json": {
       "model_id": "b7f1ccf1dbc140a2b7c7268822870105",
       "version_major": 2,
       "version_minor": 0
      },
      "text/plain": [
       "A Jupyter Widget"
      ]
     },
     "metadata": {},
     "output_type": "display_data"
    },
    {
     "name": "stdout",
     "output_type": "stream",
     "text": [
      "\n",
      "http://mo.wikipedia.org/wiki/%D0%95%D0%B2%D1%80%D0%B5%D0%B9\n",
      "http://mo.wikipedia.org/wiki/%D0%95%D0%B2%D1%80%D0%B5%D0%B9\n",
      "http://mo.wikipedia.org/wiki/%D0%9F%D0%B0%D3%82%D0%B8%D0%BD%D0%B0_%D0%BF%D1%80%D0%B8%D0%BD%D1%87%D0%B8%D0%BF%D0%B0%D0%BB%D1%8D\n",
      "http://mo.wikipedia.org/wiki/%D0%9F%D0%B0%D3%82%D0%B8%D0%BD%D0%B0_%D0%BF%D1%80%D0%B8%D0%BD%D1%87%D0%B8%D0%BF%D0%B0%D0%BB%D1%8D\n"
     ]
    },
    {
     "data": {
      "application/vnd.jupyter.widget-view+json": {
       "model_id": "627f05a1adfd4c7787c35872e685873e",
       "version_major": 2,
       "version_minor": 0
      },
      "text/plain": [
       "A Jupyter Widget"
      ]
     },
     "metadata": {},
     "output_type": "display_data"
    },
    {
     "name": "stdout",
     "output_type": "stream",
     "text": [
      "\n"
     ]
    },
    {
     "data": {
      "application/vnd.jupyter.widget-view+json": {
       "model_id": "bcc9e44393914fa4aaf3f98ed0553e46",
       "version_major": 2,
       "version_minor": 0
      },
      "text/plain": [
       "A Jupyter Widget"
      ]
     },
     "metadata": {},
     "output_type": "display_data"
    },
    {
     "name": "stdout",
     "output_type": "stream",
     "text": [
      "\n"
     ]
    },
    {
     "data": {
      "application/vnd.jupyter.widget-view+json": {
       "model_id": "9b2d406c86e048f09ba3613029825c22",
       "version_major": 2,
       "version_minor": 0
      },
      "text/plain": [
       "A Jupyter Widget"
      ]
     },
     "metadata": {},
     "output_type": "display_data"
    },
    {
     "name": "stdout",
     "output_type": "stream",
     "text": [
      "\n"
     ]
    },
    {
     "data": {
      "application/vnd.jupyter.widget-view+json": {
       "model_id": "a776b9579c424294bea78601ddee0a87",
       "version_major": 2,
       "version_minor": 0
      },
      "text/plain": [
       "A Jupyter Widget"
      ]
     },
     "metadata": {},
     "output_type": "display_data"
    },
    {
     "name": "stdout",
     "output_type": "stream",
     "text": [
      "\n"
     ]
    },
    {
     "data": {
      "application/vnd.jupyter.widget-view+json": {
       "model_id": "d54d970aa9fb407dad19135c0c684558",
       "version_major": 2,
       "version_minor": 0
      },
      "text/plain": [
       "A Jupyter Widget"
      ]
     },
     "metadata": {},
     "output_type": "display_data"
    },
    {
     "name": "stdout",
     "output_type": "stream",
     "text": [
      "\n"
     ]
    },
    {
     "data": {
      "application/vnd.jupyter.widget-view+json": {
       "model_id": "540613cbf92c44e1b456e7ab640bc940",
       "version_major": 2,
       "version_minor": 0
      },
      "text/plain": [
       "A Jupyter Widget"
      ]
     },
     "metadata": {},
     "output_type": "display_data"
    },
    {
     "name": "stdout",
     "output_type": "stream",
     "text": [
      "\n"
     ]
    },
    {
     "data": {
      "application/vnd.jupyter.widget-view+json": {
       "model_id": "5bb991e164264fde99b5c6ea7331a1d2",
       "version_major": 2,
       "version_minor": 0
      },
      "text/plain": [
       "A Jupyter Widget"
      ]
     },
     "metadata": {},
     "output_type": "display_data"
    },
    {
     "name": "stdout",
     "output_type": "stream",
     "text": [
      "\n"
     ]
    },
    {
     "data": {
      "application/vnd.jupyter.widget-view+json": {
       "model_id": "8f738f91d4cd48a6bfaa35ff721c1cb8",
       "version_major": 2,
       "version_minor": 0
      },
      "text/plain": [
       "A Jupyter Widget"
      ]
     },
     "metadata": {},
     "output_type": "display_data"
    },
    {
     "name": "stdout",
     "output_type": "stream",
     "text": [
      "\n"
     ]
    },
    {
     "data": {
      "application/vnd.jupyter.widget-view+json": {
       "model_id": "6659f09ec7a04e65bd04b6fec5803419",
       "version_major": 2,
       "version_minor": 0
      },
      "text/plain": [
       "A Jupyter Widget"
      ]
     },
     "metadata": {},
     "output_type": "display_data"
    },
    {
     "name": "stdout",
     "output_type": "stream",
     "text": [
      "\n"
     ]
    },
    {
     "data": {
      "application/vnd.jupyter.widget-view+json": {
       "model_id": "f05b5cdcf66f4d3986fe4c03f2da9e1f",
       "version_major": 2,
       "version_minor": 0
      },
      "text/plain": [
       "A Jupyter Widget"
      ]
     },
     "metadata": {},
     "output_type": "display_data"
    },
    {
     "name": "stdout",
     "output_type": "stream",
     "text": [
      "\n"
     ]
    },
    {
     "data": {
      "application/vnd.jupyter.widget-view+json": {
       "model_id": "192d9630cb714923a02b53031351c096",
       "version_major": 2,
       "version_minor": 0
      },
      "text/plain": [
       "A Jupyter Widget"
      ]
     },
     "metadata": {},
     "output_type": "display_data"
    },
    {
     "name": "stdout",
     "output_type": "stream",
     "text": [
      "\n",
      "http://mo.wikipedia.org/wiki/1998\n",
      "http://mo.wikipedia.org/wiki/1999\n",
      "http://mo.wikipedia.org/wiki/2000\n",
      "http://mo.wikipedia.org/wiki/1998\n",
      "http://mo.wikipedia.org/wiki/1999\n",
      "http://mo.wikipedia.org/wiki/2000\n",
      "http://mo.wikipedia.org/wiki/%D0%90%D0%BD%D0%B8%D0%B9_1970\n",
      "http://mo.wikipedia.org/wiki/1997\n",
      "http://mo.wikipedia.org/wiki/1997\n",
      "http://mo.wikipedia.org/wiki/%D0%9F%D0%B0%D3%82%D0%B8%D0%BD%D0%B0_%D0%BF%D1%80%D0%B8%D0%BD%D1%87%D0%B8%D0%BF%D0%B0%D0%BB%D1%8D\n",
      "http://mo.wikipedia.org/wiki/%D0%9F%D0%B0%D3%82%D0%B8%D0%BD%D0%B0_%D0%BF%D1%80%D0%B8%D0%BD%D1%87%D0%B8%D0%BF%D0%B0%D0%BB%D1%8D\n"
     ]
    },
    {
     "data": {
      "application/vnd.jupyter.widget-view+json": {
       "model_id": "23cda7f9513c4c73b5915b3fb7389fe0",
       "version_major": 2,
       "version_minor": 0
      },
      "text/plain": [
       "A Jupyter Widget"
      ]
     },
     "metadata": {},
     "output_type": "display_data"
    },
    {
     "name": "stdout",
     "output_type": "stream",
     "text": [
      "\n"
     ]
    },
    {
     "data": {
      "application/vnd.jupyter.widget-view+json": {
       "model_id": "c0bc13593775457cb839f7079ea5aa68",
       "version_major": 2,
       "version_minor": 0
      },
      "text/plain": [
       "A Jupyter Widget"
      ]
     },
     "metadata": {},
     "output_type": "display_data"
    },
    {
     "name": "stdout",
     "output_type": "stream",
     "text": [
      "\n"
     ]
    },
    {
     "data": {
      "application/vnd.jupyter.widget-view+json": {
       "model_id": "54e63106547045abba6b12d64056f427",
       "version_major": 2,
       "version_minor": 0
      },
      "text/plain": [
       "A Jupyter Widget"
      ]
     },
     "metadata": {},
     "output_type": "display_data"
    },
    {
     "name": "stdout",
     "output_type": "stream",
     "text": [
      "\n"
     ]
    },
    {
     "data": {
      "application/vnd.jupyter.widget-view+json": {
       "model_id": "118961ee1b2243b9a1b7d2f338d89cb6",
       "version_major": 2,
       "version_minor": 0
      },
      "text/plain": [
       "A Jupyter Widget"
      ]
     },
     "metadata": {},
     "output_type": "display_data"
    },
    {
     "name": "stdout",
     "output_type": "stream",
     "text": [
      "\n"
     ]
    },
    {
     "data": {
      "application/vnd.jupyter.widget-view+json": {
       "model_id": "77a477f8c54b409da987ef936b5cf760",
       "version_major": 2,
       "version_minor": 0
      },
      "text/plain": [
       "A Jupyter Widget"
      ]
     },
     "metadata": {},
     "output_type": "display_data"
    },
    {
     "name": "stdout",
     "output_type": "stream",
     "text": [
      "\n"
     ]
    },
    {
     "data": {
      "application/vnd.jupyter.widget-view+json": {
       "model_id": "5b663d2292374c6e9536bc6f8a2b40c1",
       "version_major": 2,
       "version_minor": 0
      },
      "text/plain": [
       "A Jupyter Widget"
      ]
     },
     "metadata": {},
     "output_type": "display_data"
    },
    {
     "name": "stdout",
     "output_type": "stream",
     "text": [
      "\n",
      "http://mo.wikipedia.org/wiki/1997\n",
      "http://mo.wikipedia.org/wiki/1998\n",
      "http://mo.wikipedia.org/wiki/1999\n",
      "http://mo.wikipedia.org/wiki/2001\n",
      "http://mo.wikipedia.org/wiki/2002\n",
      "http://mo.wikipedia.org/wiki/2003\n",
      "http://mo.wikipedia.org/wiki/1997\n",
      "http://mo.wikipedia.org/wiki/1998\n",
      "http://mo.wikipedia.org/wiki/1999\n",
      "http://mo.wikipedia.org/wiki/2001\n",
      "http://mo.wikipedia.org/wiki/2002\n",
      "http://mo.wikipedia.org/wiki/2003\n",
      "http://mo.wikipedia.org/wiki/%D0%90%D0%BD%D0%B8%D0%B9_1970\n",
      "http://mo.wikipedia.org/wiki/2000\n",
      "http://mo.wikipedia.org/wiki/2000\n",
      "http://mo.wikipedia.org/wiki/%D0%9F%D0%B0%D3%82%D0%B8%D0%BD%D0%B0_%D0%BF%D1%80%D0%B8%D0%BD%D1%87%D0%B8%D0%BF%D0%B0%D0%BB%D1%8D\n",
      "http://mo.wikipedia.org/wiki/%D0%9F%D0%B0%D3%82%D0%B8%D0%BD%D0%B0_%D0%BF%D1%80%D0%B8%D0%BD%D1%87%D0%B8%D0%BF%D0%B0%D0%BB%D1%8D\n"
     ]
    },
    {
     "data": {
      "application/vnd.jupyter.widget-view+json": {
       "model_id": "5e205a806dae46ca9bc950b22ef3a12f",
       "version_major": 2,
       "version_minor": 0
      },
      "text/plain": [
       "A Jupyter Widget"
      ]
     },
     "metadata": {},
     "output_type": "display_data"
    },
    {
     "name": "stdout",
     "output_type": "stream",
     "text": [
      "\n"
     ]
    },
    {
     "data": {
      "application/vnd.jupyter.widget-view+json": {
       "model_id": "e5694361135b4708976063adcae8151a",
       "version_major": 2,
       "version_minor": 0
      },
      "text/plain": [
       "A Jupyter Widget"
      ]
     },
     "metadata": {},
     "output_type": "display_data"
    },
    {
     "name": "stdout",
     "output_type": "stream",
     "text": [
      "\n"
     ]
    },
    {
     "data": {
      "application/vnd.jupyter.widget-view+json": {
       "model_id": "677005312db84135b8d9434d7906eef7",
       "version_major": 2,
       "version_minor": 0
      },
      "text/plain": [
       "A Jupyter Widget"
      ]
     },
     "metadata": {},
     "output_type": "display_data"
    },
    {
     "name": "stdout",
     "output_type": "stream",
     "text": [
      "\n"
     ]
    },
    {
     "data": {
      "application/vnd.jupyter.widget-view+json": {
       "model_id": "411d050be6cc430982e7220546af0fec",
       "version_major": 2,
       "version_minor": 0
      },
      "text/plain": [
       "A Jupyter Widget"
      ]
     },
     "metadata": {},
     "output_type": "display_data"
    },
    {
     "name": "stdout",
     "output_type": "stream",
     "text": [
      "\n"
     ]
    },
    {
     "data": {
      "application/vnd.jupyter.widget-view+json": {
       "model_id": "298eb1223e2740a397b6fe89be12266c",
       "version_major": 2,
       "version_minor": 0
      },
      "text/plain": [
       "A Jupyter Widget"
      ]
     },
     "metadata": {},
     "output_type": "display_data"
    },
    {
     "name": "stdout",
     "output_type": "stream",
     "text": [
      "\n"
     ]
    },
    {
     "data": {
      "application/vnd.jupyter.widget-view+json": {
       "model_id": "755a92a2e85d4a1ca239e27426cd22e0",
       "version_major": 2,
       "version_minor": 0
      },
      "text/plain": [
       "A Jupyter Widget"
      ]
     },
     "metadata": {},
     "output_type": "display_data"
    },
    {
     "name": "stdout",
     "output_type": "stream",
     "text": [
      "\n"
     ]
    },
    {
     "data": {
      "application/vnd.jupyter.widget-view+json": {
       "model_id": "1ae6583bec44441c9a07d6cb0ad5472f",
       "version_major": 2,
       "version_minor": 0
      },
      "text/plain": [
       "A Jupyter Widget"
      ]
     },
     "metadata": {},
     "output_type": "display_data"
    },
    {
     "name": "stdout",
     "output_type": "stream",
     "text": [
      "\n"
     ]
    },
    {
     "data": {
      "application/vnd.jupyter.widget-view+json": {
       "model_id": "0ef72e9950204d35b9bc2ab89d4f8795",
       "version_major": 2,
       "version_minor": 0
      },
      "text/plain": [
       "A Jupyter Widget"
      ]
     },
     "metadata": {},
     "output_type": "display_data"
    },
    {
     "name": "stdout",
     "output_type": "stream",
     "text": [
      "\n"
     ]
    },
    {
     "data": {
      "application/vnd.jupyter.widget-view+json": {
       "model_id": "f43f8e820e1b461dbb198d926cc910c5",
       "version_major": 2,
       "version_minor": 0
      },
      "text/plain": [
       "A Jupyter Widget"
      ]
     },
     "metadata": {},
     "output_type": "display_data"
    },
    {
     "name": "stdout",
     "output_type": "stream",
     "text": [
      "\n"
     ]
    },
    {
     "data": {
      "application/vnd.jupyter.widget-view+json": {
       "model_id": "a268568f07c74619971398914cd42983",
       "version_major": 2,
       "version_minor": 0
      },
      "text/plain": [
       "A Jupyter Widget"
      ]
     },
     "metadata": {},
     "output_type": "display_data"
    },
    {
     "name": "stdout",
     "output_type": "stream",
     "text": [
      "\n",
      "http://mo.wikipedia.org/wiki/1997\n",
      "http://mo.wikipedia.org/wiki/1999\n",
      "http://mo.wikipedia.org/wiki/2000\n",
      "http://mo.wikipedia.org/wiki/2001\n",
      "http://mo.wikipedia.org/wiki/1997\n",
      "http://mo.wikipedia.org/wiki/1999\n",
      "http://mo.wikipedia.org/wiki/2000\n",
      "http://mo.wikipedia.org/wiki/2001\n",
      "http://mo.wikipedia.org/wiki/%D0%90%D0%BD%D0%B8%D0%B9_1970\n",
      "http://mo.wikipedia.org/wiki/1998\n",
      "http://mo.wikipedia.org/wiki/1998\n",
      "http://mo.wikipedia.org/wiki/%D0%9F%D0%B0%D3%82%D0%B8%D0%BD%D0%B0_%D0%BF%D1%80%D0%B8%D0%BD%D1%87%D0%B8%D0%BF%D0%B0%D0%BB%D1%8D\n",
      "http://mo.wikipedia.org/wiki/%D0%9F%D0%B0%D3%82%D0%B8%D0%BD%D0%B0_%D0%BF%D1%80%D0%B8%D0%BD%D1%87%D0%B8%D0%BF%D0%B0%D0%BB%D1%8D\n"
     ]
    },
    {
     "data": {
      "application/vnd.jupyter.widget-view+json": {
       "model_id": "ea5025447ddb487e9087fe5048bf2d39",
       "version_major": 2,
       "version_minor": 0
      },
      "text/plain": [
       "A Jupyter Widget"
      ]
     },
     "metadata": {},
     "output_type": "display_data"
    },
    {
     "name": "stdout",
     "output_type": "stream",
     "text": [
      "\n"
     ]
    },
    {
     "data": {
      "application/vnd.jupyter.widget-view+json": {
       "model_id": "cdaf4bef779a431789f91eb6567b164d",
       "version_major": 2,
       "version_minor": 0
      },
      "text/plain": [
       "A Jupyter Widget"
      ]
     },
     "metadata": {},
     "output_type": "display_data"
    },
    {
     "name": "stdout",
     "output_type": "stream",
     "text": [
      "\n"
     ]
    },
    {
     "data": {
      "application/vnd.jupyter.widget-view+json": {
       "model_id": "35a4083bd8564174b60cb5b1ec311838",
       "version_major": 2,
       "version_minor": 0
      },
      "text/plain": [
       "A Jupyter Widget"
      ]
     },
     "metadata": {},
     "output_type": "display_data"
    },
    {
     "name": "stdout",
     "output_type": "stream",
     "text": [
      "\n"
     ]
    },
    {
     "data": {
      "application/vnd.jupyter.widget-view+json": {
       "model_id": "a149020acfb54792a8a146a8298cbcf9",
       "version_major": 2,
       "version_minor": 0
      },
      "text/plain": [
       "A Jupyter Widget"
      ]
     },
     "metadata": {},
     "output_type": "display_data"
    },
    {
     "name": "stdout",
     "output_type": "stream",
     "text": [
      "\n"
     ]
    },
    {
     "data": {
      "application/vnd.jupyter.widget-view+json": {
       "model_id": "26d6576275274292b26da2e745579530",
       "version_major": 2,
       "version_minor": 0
      },
      "text/plain": [
       "A Jupyter Widget"
      ]
     },
     "metadata": {},
     "output_type": "display_data"
    },
    {
     "name": "stdout",
     "output_type": "stream",
     "text": [
      "\n"
     ]
    },
    {
     "data": {
      "application/vnd.jupyter.widget-view+json": {
       "model_id": "c74f4435bd8144e28a8c25b53336ff7c",
       "version_major": 2,
       "version_minor": 0
      },
      "text/plain": [
       "A Jupyter Widget"
      ]
     },
     "metadata": {},
     "output_type": "display_data"
    },
    {
     "name": "stdout",
     "output_type": "stream",
     "text": [
      "\n"
     ]
    },
    {
     "data": {
      "application/vnd.jupyter.widget-view+json": {
       "model_id": "62f96dd3dd4a48c2b0e3ad628a4fcdba",
       "version_major": 2,
       "version_minor": 0
      },
      "text/plain": [
       "A Jupyter Widget"
      ]
     },
     "metadata": {},
     "output_type": "display_data"
    },
    {
     "name": "stdout",
     "output_type": "stream",
     "text": [
      "\n"
     ]
    },
    {
     "data": {
      "application/vnd.jupyter.widget-view+json": {
       "model_id": "c773566c072a48fe9038c690adcca3e9",
       "version_major": 2,
       "version_minor": 0
      },
      "text/plain": [
       "A Jupyter Widget"
      ]
     },
     "metadata": {},
     "output_type": "display_data"
    },
    {
     "name": "stdout",
     "output_type": "stream",
     "text": [
      "\n"
     ]
    },
    {
     "data": {
      "application/vnd.jupyter.widget-view+json": {
       "model_id": "3773f223b0034ea1a40f2478cf0909cb",
       "version_major": 2,
       "version_minor": 0
      },
      "text/plain": [
       "A Jupyter Widget"
      ]
     },
     "metadata": {},
     "output_type": "display_data"
    },
    {
     "name": "stdout",
     "output_type": "stream",
     "text": [
      "\n"
     ]
    },
    {
     "data": {
      "application/vnd.jupyter.widget-view+json": {
       "model_id": "604db181ef354e709405bbdfcfa5dcbb",
       "version_major": 2,
       "version_minor": 0
      },
      "text/plain": [
       "A Jupyter Widget"
      ]
     },
     "metadata": {},
     "output_type": "display_data"
    },
    {
     "name": "stdout",
     "output_type": "stream",
     "text": [
      "\n"
     ]
    },
    {
     "data": {
      "application/vnd.jupyter.widget-view+json": {
       "model_id": "9a2614005969409fbe9ec4f065160308",
       "version_major": 2,
       "version_minor": 0
      },
      "text/plain": [
       "A Jupyter Widget"
      ]
     },
     "metadata": {},
     "output_type": "display_data"
    },
    {
     "name": "stdout",
     "output_type": "stream",
     "text": [
      "\n"
     ]
    },
    {
     "data": {
      "application/vnd.jupyter.widget-view+json": {
       "model_id": "05ec67ddaf904fdd9937b3d083357ae6",
       "version_major": 2,
       "version_minor": 0
      },
      "text/plain": [
       "A Jupyter Widget"
      ]
     },
     "metadata": {},
     "output_type": "display_data"
    },
    {
     "name": "stdout",
     "output_type": "stream",
     "text": [
      "\n"
     ]
    },
    {
     "data": {
      "application/vnd.jupyter.widget-view+json": {
       "model_id": "d51c9a164c214c03b07b524f34e5236e",
       "version_major": 2,
       "version_minor": 0
      },
      "text/plain": [
       "A Jupyter Widget"
      ]
     },
     "metadata": {},
     "output_type": "display_data"
    },
    {
     "name": "stdout",
     "output_type": "stream",
     "text": [
      "\n"
     ]
    },
    {
     "data": {
      "application/vnd.jupyter.widget-view+json": {
       "model_id": "af09c46e1493403b929389482914d561",
       "version_major": 2,
       "version_minor": 0
      },
      "text/plain": [
       "A Jupyter Widget"
      ]
     },
     "metadata": {},
     "output_type": "display_data"
    },
    {
     "name": "stdout",
     "output_type": "stream",
     "text": [
      "\n"
     ]
    },
    {
     "data": {
      "application/vnd.jupyter.widget-view+json": {
       "model_id": "c99bcea7b9f5484cb368ad7c4a3f8e8a",
       "version_major": 2,
       "version_minor": 0
      },
      "text/plain": [
       "A Jupyter Widget"
      ]
     },
     "metadata": {},
     "output_type": "display_data"
    },
    {
     "name": "stdout",
     "output_type": "stream",
     "text": [
      "\n"
     ]
    },
    {
     "data": {
      "application/vnd.jupyter.widget-view+json": {
       "model_id": "acf382599e584a99b82d55fc9bc9899c",
       "version_major": 2,
       "version_minor": 0
      },
      "text/plain": [
       "A Jupyter Widget"
      ]
     },
     "metadata": {},
     "output_type": "display_data"
    },
    {
     "name": "stdout",
     "output_type": "stream",
     "text": [
      "\n"
     ]
    },
    {
     "data": {
      "application/vnd.jupyter.widget-view+json": {
       "model_id": "3b7b3743b0ea44259d8cbe813c5f53b7",
       "version_major": 2,
       "version_minor": 0
      },
      "text/plain": [
       "A Jupyter Widget"
      ]
     },
     "metadata": {},
     "output_type": "display_data"
    },
    {
     "name": "stdout",
     "output_type": "stream",
     "text": [
      "\n"
     ]
    },
    {
     "data": {
      "application/vnd.jupyter.widget-view+json": {
       "model_id": "5f7d92d086d34f55a154d6638c616416",
       "version_major": 2,
       "version_minor": 0
      },
      "text/plain": [
       "A Jupyter Widget"
      ]
     },
     "metadata": {},
     "output_type": "display_data"
    },
    {
     "name": "stdout",
     "output_type": "stream",
     "text": [
      "\n"
     ]
    },
    {
     "data": {
      "application/vnd.jupyter.widget-view+json": {
       "model_id": "5792b58322c045ab9856cd9948f6505e",
       "version_major": 2,
       "version_minor": 0
      },
      "text/plain": [
       "A Jupyter Widget"
      ]
     },
     "metadata": {},
     "output_type": "display_data"
    },
    {
     "name": "stdout",
     "output_type": "stream",
     "text": [
      "\n"
     ]
    },
    {
     "data": {
      "application/vnd.jupyter.widget-view+json": {
       "model_id": "ef76242cc3c44c5a890d13e4a24ab220",
       "version_major": 2,
       "version_minor": 0
      },
      "text/plain": [
       "A Jupyter Widget"
      ]
     },
     "metadata": {},
     "output_type": "display_data"
    },
    {
     "name": "stdout",
     "output_type": "stream",
     "text": [
      "\n"
     ]
    },
    {
     "data": {
      "application/vnd.jupyter.widget-view+json": {
       "model_id": "b4dab30a562543e696c91e0a67b250a0",
       "version_major": 2,
       "version_minor": 0
      },
      "text/plain": [
       "A Jupyter Widget"
      ]
     },
     "metadata": {},
     "output_type": "display_data"
    },
    {
     "name": "stdout",
     "output_type": "stream",
     "text": [
      "\n"
     ]
    },
    {
     "data": {
      "application/vnd.jupyter.widget-view+json": {
       "model_id": "16d3b996bc794ea0a4463c4b75945be5",
       "version_major": 2,
       "version_minor": 0
      },
      "text/plain": [
       "A Jupyter Widget"
      ]
     },
     "metadata": {},
     "output_type": "display_data"
    },
    {
     "name": "stdout",
     "output_type": "stream",
     "text": [
      "\n"
     ]
    },
    {
     "data": {
      "application/vnd.jupyter.widget-view+json": {
       "model_id": "adb84664058a477f90b8d13e0d21f5d6",
       "version_major": 2,
       "version_minor": 0
      },
      "text/plain": [
       "A Jupyter Widget"
      ]
     },
     "metadata": {},
     "output_type": "display_data"
    },
    {
     "name": "stdout",
     "output_type": "stream",
     "text": [
      "\n"
     ]
    },
    {
     "data": {
      "application/vnd.jupyter.widget-view+json": {
       "model_id": "8a911a1c58aa45338df551029ddeede4",
       "version_major": 2,
       "version_minor": 0
      },
      "text/plain": [
       "A Jupyter Widget"
      ]
     },
     "metadata": {},
     "output_type": "display_data"
    },
    {
     "name": "stdout",
     "output_type": "stream",
     "text": [
      "\n"
     ]
    },
    {
     "data": {
      "application/vnd.jupyter.widget-view+json": {
       "model_id": "90a10cb04eb54bb99d8936909faa63ef",
       "version_major": 2,
       "version_minor": 0
      },
      "text/plain": [
       "A Jupyter Widget"
      ]
     },
     "metadata": {},
     "output_type": "display_data"
    },
    {
     "name": "stdout",
     "output_type": "stream",
     "text": [
      "\n"
     ]
    },
    {
     "data": {
      "application/vnd.jupyter.widget-view+json": {
       "model_id": "eb6766bd9c4a453dbdd8628a14e55fbe",
       "version_major": 2,
       "version_minor": 0
      },
      "text/plain": [
       "A Jupyter Widget"
      ]
     },
     "metadata": {},
     "output_type": "display_data"
    },
    {
     "name": "stdout",
     "output_type": "stream",
     "text": [
      "\n"
     ]
    },
    {
     "data": {
      "application/vnd.jupyter.widget-view+json": {
       "model_id": "b356129afae6485584d9c2987af24f40",
       "version_major": 2,
       "version_minor": 0
      },
      "text/plain": [
       "A Jupyter Widget"
      ]
     },
     "metadata": {},
     "output_type": "display_data"
    },
    {
     "name": "stdout",
     "output_type": "stream",
     "text": [
      "\n",
      "http://mo.wikipedia.org/wiki/%D0%A1%D0%B8%D1%80%D0%B8%D1%8F\n",
      "http://mo.wikipedia.org/wiki/%D0%A2%D1%83%D1%80%D1%87%D0%B8%D1%8F\n",
      "http://mo.wikipedia.org/wiki/%D0%9F%D1%8D%D0%BC%D1%8B%D0%BD%D1%82\n",
      "http://mo.wikipedia.org/wiki/2003\n",
      "http://mo.wikipedia.org/wiki/%D0%A1%D0%A3%D0%90\n",
      "http://mo.wikipedia.org/wiki/%D0%98%D1%80%D0%B0%D0%BA\n",
      "http://mo.wikipedia.org/wiki/%D0%98%D1%80%D0%B0%D0%BA\n",
      "http://mo.wikipedia.org/wiki/%D0%9F%D0%B0%D3%82%D0%B8%D0%BD%D0%B0_%D0%BF%D1%80%D0%B8%D0%BD%D1%87%D0%B8%D0%BF%D0%B0%D0%BB%D1%8D\n",
      "http://mo.wikipedia.org/wiki/%D0%9F%D0%B0%D3%82%D0%B8%D0%BD%D0%B0_%D0%BF%D1%80%D0%B8%D0%BD%D1%87%D0%B8%D0%BF%D0%B0%D0%BB%D1%8D\n"
     ]
    },
    {
     "data": {
      "application/vnd.jupyter.widget-view+json": {
       "model_id": "14332861d7df4f9b9ee5ea65f1f9b348",
       "version_major": 2,
       "version_minor": 0
      },
      "text/plain": [
       "A Jupyter Widget"
      ]
     },
     "metadata": {},
     "output_type": "display_data"
    },
    {
     "name": "stdout",
     "output_type": "stream",
     "text": [
      "\n"
     ]
    },
    {
     "data": {
      "application/vnd.jupyter.widget-view+json": {
       "model_id": "a32729f166534fa2886720895773fcc0",
       "version_major": 2,
       "version_minor": 0
      },
      "text/plain": [
       "A Jupyter Widget"
      ]
     },
     "metadata": {},
     "output_type": "display_data"
    },
    {
     "name": "stdout",
     "output_type": "stream",
     "text": [
      "\n"
     ]
    },
    {
     "data": {
      "application/vnd.jupyter.widget-view+json": {
       "model_id": "ce305fa817314112a90934494edcc950",
       "version_major": 2,
       "version_minor": 0
      },
      "text/plain": [
       "A Jupyter Widget"
      ]
     },
     "metadata": {},
     "output_type": "display_data"
    },
    {
     "name": "stdout",
     "output_type": "stream",
     "text": [
      "\n"
     ]
    },
    {
     "data": {
      "application/vnd.jupyter.widget-view+json": {
       "model_id": "76ab8955c0f44191a5e476762c90be67",
       "version_major": 2,
       "version_minor": 0
      },
      "text/plain": [
       "A Jupyter Widget"
      ]
     },
     "metadata": {},
     "output_type": "display_data"
    },
    {
     "name": "stdout",
     "output_type": "stream",
     "text": [
      "\n"
     ]
    },
    {
     "data": {
      "application/vnd.jupyter.widget-view+json": {
       "model_id": "a33473046f64427ca7292b3964416adb",
       "version_major": 2,
       "version_minor": 0
      },
      "text/plain": [
       "A Jupyter Widget"
      ]
     },
     "metadata": {},
     "output_type": "display_data"
    },
    {
     "name": "stdout",
     "output_type": "stream",
     "text": [
      "\n"
     ]
    },
    {
     "data": {
      "application/vnd.jupyter.widget-view+json": {
       "model_id": "716fb7be7bec4369862286592b602c5f",
       "version_major": 2,
       "version_minor": 0
      },
      "text/plain": [
       "A Jupyter Widget"
      ]
     },
     "metadata": {},
     "output_type": "display_data"
    },
    {
     "name": "stdout",
     "output_type": "stream",
     "text": [
      "\n"
     ]
    },
    {
     "data": {
      "application/vnd.jupyter.widget-view+json": {
       "model_id": "2cc298edeea24c78839e429d52373ecf",
       "version_major": 2,
       "version_minor": 0
      },
      "text/plain": [
       "A Jupyter Widget"
      ]
     },
     "metadata": {},
     "output_type": "display_data"
    },
    {
     "name": "stdout",
     "output_type": "stream",
     "text": [
      "\n"
     ]
    },
    {
     "data": {
      "application/vnd.jupyter.widget-view+json": {
       "model_id": "80585c18d59a4b29a26d2393175489da",
       "version_major": 2,
       "version_minor": 0
      },
      "text/plain": [
       "A Jupyter Widget"
      ]
     },
     "metadata": {},
     "output_type": "display_data"
    },
    {
     "name": "stdout",
     "output_type": "stream",
     "text": [
      "\n"
     ]
    },
    {
     "data": {
      "application/vnd.jupyter.widget-view+json": {
       "model_id": "d2dd72a7c4e1435d948a04de9cb2c032",
       "version_major": 2,
       "version_minor": 0
      },
      "text/plain": [
       "A Jupyter Widget"
      ]
     },
     "metadata": {},
     "output_type": "display_data"
    },
    {
     "name": "stdout",
     "output_type": "stream",
     "text": [
      "\n",
      "http://mo.wikipedia.org/wiki/%D0%90%D1%81%D0%B8%D1%8F\n",
      "http://mo.wikipedia.org/wiki/%D0%A1%D0%B8%D1%80%D0%B8%D1%8F\n",
      "http://mo.wikipedia.org/wiki/%D0%A1%D0%B8%D1%80%D0%B8%D1%8F\n",
      "http://mo.wikipedia.org/wiki/%D0%9F%D0%B0%D3%82%D0%B8%D0%BD%D0%B0_%D0%BF%D1%80%D0%B8%D0%BD%D1%87%D0%B8%D0%BF%D0%B0%D0%BB%D1%8D\n",
      "http://mo.wikipedia.org/wiki/%D0%9F%D0%B0%D3%82%D0%B8%D0%BD%D0%B0_%D0%BF%D1%80%D0%B8%D0%BD%D1%87%D0%B8%D0%BF%D0%B0%D0%BB%D1%8D\n"
     ]
    },
    {
     "data": {
      "application/vnd.jupyter.widget-view+json": {
       "model_id": "4e2825e4ddb84a1f8af3eda784c495d4",
       "version_major": 2,
       "version_minor": 0
      },
      "text/plain": [
       "A Jupyter Widget"
      ]
     },
     "metadata": {},
     "output_type": "display_data"
    },
    {
     "name": "stdout",
     "output_type": "stream",
     "text": [
      "\n"
     ]
    },
    {
     "data": {
      "application/vnd.jupyter.widget-view+json": {
       "model_id": "a60f7d27a1f8485da18a00eccdf71d98",
       "version_major": 2,
       "version_minor": 0
      },
      "text/plain": [
       "A Jupyter Widget"
      ]
     },
     "metadata": {},
     "output_type": "display_data"
    },
    {
     "name": "stdout",
     "output_type": "stream",
     "text": [
      "\n"
     ]
    },
    {
     "data": {
      "application/vnd.jupyter.widget-view+json": {
       "model_id": "076d9d0f7c5d457ba1087cbc69db0564",
       "version_major": 2,
       "version_minor": 0
      },
      "text/plain": [
       "A Jupyter Widget"
      ]
     },
     "metadata": {},
     "output_type": "display_data"
    },
    {
     "name": "stdout",
     "output_type": "stream",
     "text": [
      "\n"
     ]
    },
    {
     "data": {
      "application/vnd.jupyter.widget-view+json": {
       "model_id": "8ffdf5ddf413476295cd77d6af94149c",
       "version_major": 2,
       "version_minor": 0
      },
      "text/plain": [
       "A Jupyter Widget"
      ]
     },
     "metadata": {},
     "output_type": "display_data"
    },
    {
     "name": "stdout",
     "output_type": "stream",
     "text": [
      "\n"
     ]
    },
    {
     "data": {
      "application/vnd.jupyter.widget-view+json": {
       "model_id": "21eb139419944263b4a17a47559d62b4",
       "version_major": 2,
       "version_minor": 0
      },
      "text/plain": [
       "A Jupyter Widget"
      ]
     },
     "metadata": {},
     "output_type": "display_data"
    },
    {
     "name": "stdout",
     "output_type": "stream",
     "text": [
      "\n"
     ]
    },
    {
     "data": {
      "application/vnd.jupyter.widget-view+json": {
       "model_id": "7e856c57d71d421dbec98f9075275bbe",
       "version_major": 2,
       "version_minor": 0
      },
      "text/plain": [
       "A Jupyter Widget"
      ]
     },
     "metadata": {},
     "output_type": "display_data"
    },
    {
     "name": "stdout",
     "output_type": "stream",
     "text": [
      "\n"
     ]
    },
    {
     "data": {
      "application/vnd.jupyter.widget-view+json": {
       "model_id": "3956ea64e1cb43659fed2205bbdb9255",
       "version_major": 2,
       "version_minor": 0
      },
      "text/plain": [
       "A Jupyter Widget"
      ]
     },
     "metadata": {},
     "output_type": "display_data"
    },
    {
     "name": "stdout",
     "output_type": "stream",
     "text": [
      "\n"
     ]
    },
    {
     "data": {
      "application/vnd.jupyter.widget-view+json": {
       "model_id": "b1765eff04b34a27bf10c8bea127240d",
       "version_major": 2,
       "version_minor": 0
      },
      "text/plain": [
       "A Jupyter Widget"
      ]
     },
     "metadata": {},
     "output_type": "display_data"
    },
    {
     "name": "stdout",
     "output_type": "stream",
     "text": [
      "\n",
      "http://mo.wikipedia.org/wiki/%D0%95%D1%83%D1%80%D0%BE%D0%BF%D0%B0\n",
      "http://mo.wikipedia.org/wiki/%D0%A1%D0%B5%D1%80%D0%B1%D0%B8%D1%8F\n",
      "http://mo.wikipedia.org/wiki/%D0%A1%D0%B5%D1%80%D0%B1%D0%B8%D1%8F\n",
      "http://mo.wikipedia.org/wiki/%D0%9F%D0%B0%D3%82%D0%B8%D0%BD%D0%B0_%D0%BF%D1%80%D0%B8%D0%BD%D1%87%D0%B8%D0%BF%D0%B0%D0%BB%D1%8D\n",
      "http://mo.wikipedia.org/wiki/%D0%9F%D0%B0%D3%82%D0%B8%D0%BD%D0%B0_%D0%BF%D1%80%D0%B8%D0%BD%D1%87%D0%B8%D0%BF%D0%B0%D0%BB%D1%8D\n"
     ]
    },
    {
     "data": {
      "application/vnd.jupyter.widget-view+json": {
       "model_id": "099a013741514dd9bdf1ea638e03c106",
       "version_major": 2,
       "version_minor": 0
      },
      "text/plain": [
       "A Jupyter Widget"
      ]
     },
     "metadata": {},
     "output_type": "display_data"
    },
    {
     "name": "stdout",
     "output_type": "stream",
     "text": [
      "\n"
     ]
    },
    {
     "data": {
      "application/vnd.jupyter.widget-view+json": {
       "model_id": "e8518a07bce244da9af355af9d19bc3e",
       "version_major": 2,
       "version_minor": 0
      },
      "text/plain": [
       "A Jupyter Widget"
      ]
     },
     "metadata": {},
     "output_type": "display_data"
    },
    {
     "name": "stdout",
     "output_type": "stream",
     "text": [
      "\n"
     ]
    },
    {
     "data": {
      "application/vnd.jupyter.widget-view+json": {
       "model_id": "c4b7f33fd8b646b583f1dca08acdc1a7",
       "version_major": 2,
       "version_minor": 0
      },
      "text/plain": [
       "A Jupyter Widget"
      ]
     },
     "metadata": {},
     "output_type": "display_data"
    },
    {
     "name": "stdout",
     "output_type": "stream",
     "text": [
      "\n"
     ]
    },
    {
     "data": {
      "application/vnd.jupyter.widget-view+json": {
       "model_id": "eca87ce6b4ed429db11b8ea228bb4de9",
       "version_major": 2,
       "version_minor": 0
      },
      "text/plain": [
       "A Jupyter Widget"
      ]
     },
     "metadata": {},
     "output_type": "display_data"
    },
    {
     "name": "stdout",
     "output_type": "stream",
     "text": [
      "\n"
     ]
    },
    {
     "data": {
      "application/vnd.jupyter.widget-view+json": {
       "model_id": "19f9791e3f24488591ad863656390c4d",
       "version_major": 2,
       "version_minor": 0
      },
      "text/plain": [
       "A Jupyter Widget"
      ]
     },
     "metadata": {},
     "output_type": "display_data"
    },
    {
     "name": "stdout",
     "output_type": "stream",
     "text": [
      "\n"
     ]
    },
    {
     "data": {
      "application/vnd.jupyter.widget-view+json": {
       "model_id": "ddcb92fed8f14a188be372e354ebc3cc",
       "version_major": 2,
       "version_minor": 0
      },
      "text/plain": [
       "A Jupyter Widget"
      ]
     },
     "metadata": {},
     "output_type": "display_data"
    },
    {
     "name": "stdout",
     "output_type": "stream",
     "text": [
      "\n",
      "http://mo.wikipedia.org/wiki/2001\n",
      "http://mo.wikipedia.org/wiki/%D0%91%D1%83%D0%BB%D0%B3%D0%B0%D1%80%D0%B8%D1%8F\n",
      "http://mo.wikipedia.org/wiki/%D0%95%D1%83%D1%80%D0%BE%D0%BF%D0%B0\n",
      "http://mo.wikipedia.org/wiki/%D0%91%D1%83%D0%BB%D0%B3%D0%B0%D1%80%D0%B8%D1%8F\n",
      "http://mo.wikipedia.org/wiki/%D0%A1%D0%BE%D1%84%D0%B8%D1%8F\n",
      "http://mo.wikipedia.org/wiki/%D0%A1%D0%BE%D1%84%D0%B8%D1%8F\n",
      "http://mo.wikipedia.org/wiki/%D0%9F%D0%B0%D3%82%D0%B8%D0%BD%D0%B0_%D0%BF%D1%80%D0%B8%D0%BD%D1%87%D0%B8%D0%BF%D0%B0%D0%BB%D1%8D\n",
      "http://mo.wikipedia.org/wiki/%D0%9F%D0%B0%D3%82%D0%B8%D0%BD%D0%B0_%D0%BF%D1%80%D0%B8%D0%BD%D1%87%D0%B8%D0%BF%D0%B0%D0%BB%D1%8D\n"
     ]
    },
    {
     "data": {
      "application/vnd.jupyter.widget-view+json": {
       "model_id": "7cc3f0a0a6b54dde8b49252d43516f77",
       "version_major": 2,
       "version_minor": 0
      },
      "text/plain": [
       "A Jupyter Widget"
      ]
     },
     "metadata": {},
     "output_type": "display_data"
    },
    {
     "name": "stdout",
     "output_type": "stream",
     "text": [
      "\n"
     ]
    },
    {
     "data": {
      "application/vnd.jupyter.widget-view+json": {
       "model_id": "5f0014f181b04e8b9205d6810963a20e",
       "version_major": 2,
       "version_minor": 0
      },
      "text/plain": [
       "A Jupyter Widget"
      ]
     },
     "metadata": {},
     "output_type": "display_data"
    },
    {
     "name": "stdout",
     "output_type": "stream",
     "text": [
      "\n"
     ]
    },
    {
     "data": {
      "application/vnd.jupyter.widget-view+json": {
       "model_id": "2aa2fcfac338454ca5798d749f5163c5",
       "version_major": 2,
       "version_minor": 0
      },
      "text/plain": [
       "A Jupyter Widget"
      ]
     },
     "metadata": {},
     "output_type": "display_data"
    },
    {
     "name": "stdout",
     "output_type": "stream",
     "text": [
      "\n"
     ]
    },
    {
     "data": {
      "application/vnd.jupyter.widget-view+json": {
       "model_id": "bdd468f924654c3ebbf83cdc52055a8c",
       "version_major": 2,
       "version_minor": 0
      },
      "text/plain": [
       "A Jupyter Widget"
      ]
     },
     "metadata": {},
     "output_type": "display_data"
    },
    {
     "name": "stdout",
     "output_type": "stream",
     "text": [
      "\n"
     ]
    },
    {
     "data": {
      "application/vnd.jupyter.widget-view+json": {
       "model_id": "e60f98555f154a22af765ef7ef111bff",
       "version_major": 2,
       "version_minor": 0
      },
      "text/plain": [
       "A Jupyter Widget"
      ]
     },
     "metadata": {},
     "output_type": "display_data"
    },
    {
     "name": "stdout",
     "output_type": "stream",
     "text": [
      "\n"
     ]
    },
    {
     "data": {
      "application/vnd.jupyter.widget-view+json": {
       "model_id": "29fa9dd55b05436db770871fa74faf6f",
       "version_major": 2,
       "version_minor": 0
      },
      "text/plain": [
       "A Jupyter Widget"
      ]
     },
     "metadata": {},
     "output_type": "display_data"
    },
    {
     "name": "stdout",
     "output_type": "stream",
     "text": [
      "\n"
     ]
    },
    {
     "data": {
      "application/vnd.jupyter.widget-view+json": {
       "model_id": "d4ecd34ca9594459b432ed0fbaa7d4ae",
       "version_major": 2,
       "version_minor": 0
      },
      "text/plain": [
       "A Jupyter Widget"
      ]
     },
     "metadata": {},
     "output_type": "display_data"
    },
    {
     "name": "stdout",
     "output_type": "stream",
     "text": [
      "\n"
     ]
    },
    {
     "data": {
      "application/vnd.jupyter.widget-view+json": {
       "model_id": "f2ad421c68a84120ae87f84b90c58494",
       "version_major": 2,
       "version_minor": 0
      },
      "text/plain": [
       "A Jupyter Widget"
      ]
     },
     "metadata": {},
     "output_type": "display_data"
    },
    {
     "name": "stdout",
     "output_type": "stream",
     "text": [
      "\n"
     ]
    },
    {
     "data": {
      "application/vnd.jupyter.widget-view+json": {
       "model_id": "effec046373e479e8197d1a28aaaf240",
       "version_major": 2,
       "version_minor": 0
      },
      "text/plain": [
       "A Jupyter Widget"
      ]
     },
     "metadata": {},
     "output_type": "display_data"
    },
    {
     "name": "stdout",
     "output_type": "stream",
     "text": [
      "\n"
     ]
    },
    {
     "data": {
      "application/vnd.jupyter.widget-view+json": {
       "model_id": "2d7e8d0f2e0f4657ac5ae1683cfd1746",
       "version_major": 2,
       "version_minor": 0
      },
      "text/plain": [
       "A Jupyter Widget"
      ]
     },
     "metadata": {},
     "output_type": "display_data"
    },
    {
     "name": "stdout",
     "output_type": "stream",
     "text": [
      "\n"
     ]
    },
    {
     "data": {
      "application/vnd.jupyter.widget-view+json": {
       "model_id": "364b4ef5dc9f4de99476869960650c9e",
       "version_major": 2,
       "version_minor": 0
      },
      "text/plain": [
       "A Jupyter Widget"
      ]
     },
     "metadata": {},
     "output_type": "display_data"
    },
    {
     "name": "stdout",
     "output_type": "stream",
     "text": [
      "\n"
     ]
    },
    {
     "data": {
      "application/vnd.jupyter.widget-view+json": {
       "model_id": "92378a0d55df459197d59d12e1fdddc8",
       "version_major": 2,
       "version_minor": 0
      },
      "text/plain": [
       "A Jupyter Widget"
      ]
     },
     "metadata": {},
     "output_type": "display_data"
    },
    {
     "name": "stdout",
     "output_type": "stream",
     "text": [
      "\n"
     ]
    },
    {
     "data": {
      "application/vnd.jupyter.widget-view+json": {
       "model_id": "63ed84d10fda49c19ab9d015988386d4",
       "version_major": 2,
       "version_minor": 0
      },
      "text/plain": [
       "A Jupyter Widget"
      ]
     },
     "metadata": {},
     "output_type": "display_data"
    },
    {
     "name": "stdout",
     "output_type": "stream",
     "text": [
      "\n"
     ]
    },
    {
     "data": {
      "application/vnd.jupyter.widget-view+json": {
       "model_id": "f2be8869aa0440ba9f4aa3693fb5fa1e",
       "version_major": 2,
       "version_minor": 0
      },
      "text/plain": [
       "A Jupyter Widget"
      ]
     },
     "metadata": {},
     "output_type": "display_data"
    },
    {
     "name": "stdout",
     "output_type": "stream",
     "text": [
      "\n"
     ]
    },
    {
     "data": {
      "application/vnd.jupyter.widget-view+json": {
       "model_id": "6bd091792e2345989ae41a880370691f",
       "version_major": 2,
       "version_minor": 0
      },
      "text/plain": [
       "A Jupyter Widget"
      ]
     },
     "metadata": {},
     "output_type": "display_data"
    },
    {
     "name": "stdout",
     "output_type": "stream",
     "text": [
      "\n"
     ]
    },
    {
     "data": {
      "application/vnd.jupyter.widget-view+json": {
       "model_id": "69a4030b9ed04d8e829e45ef34a405a8",
       "version_major": 2,
       "version_minor": 0
      },
      "text/plain": [
       "A Jupyter Widget"
      ]
     },
     "metadata": {},
     "output_type": "display_data"
    },
    {
     "name": "stdout",
     "output_type": "stream",
     "text": [
      "\n",
      "http://mo.wikipedia.org/wiki/%D3%81%D0%B5%D1%80%D0%BC%D0%B0%D0%BD%D0%B8%D1%8F\n",
      "http://mo.wikipedia.org/wiki/%D0%94%D1%83%D0%BD%D1%8D%D1%80%D0%B5\n",
      "http://mo.wikipedia.org/wiki/%D0%94%D1%83%D0%BD%D1%8D%D1%80%D0%B5\n",
      "http://mo.wikipedia.org/wiki/%D0%9F%D0%B0%D3%82%D0%B8%D0%BD%D0%B0_%D0%BF%D1%80%D0%B8%D0%BD%D1%87%D0%B8%D0%BF%D0%B0%D0%BB%D1%8D\n",
      "http://mo.wikipedia.org/wiki/%D0%9F%D0%B0%D3%82%D0%B8%D0%BD%D0%B0_%D0%BF%D1%80%D0%B8%D0%BD%D1%87%D0%B8%D0%BF%D0%B0%D0%BB%D1%8D\n"
     ]
    },
    {
     "data": {
      "application/vnd.jupyter.widget-view+json": {
       "model_id": "51b718131da1494a9fcb307254b9fca7",
       "version_major": 2,
       "version_minor": 0
      },
      "text/plain": [
       "A Jupyter Widget"
      ]
     },
     "metadata": {},
     "output_type": "display_data"
    },
    {
     "name": "stdout",
     "output_type": "stream",
     "text": [
      "\n"
     ]
    },
    {
     "data": {
      "application/vnd.jupyter.widget-view+json": {
       "model_id": "302b269e99d4423284d02890b7e81c3e",
       "version_major": 2,
       "version_minor": 0
      },
      "text/plain": [
       "A Jupyter Widget"
      ]
     },
     "metadata": {},
     "output_type": "display_data"
    },
    {
     "name": "stdout",
     "output_type": "stream",
     "text": [
      "\n"
     ]
    },
    {
     "data": {
      "application/vnd.jupyter.widget-view+json": {
       "model_id": "f380cd38cf93465189a4e4dfb8d8d555",
       "version_major": 2,
       "version_minor": 0
      },
      "text/plain": [
       "A Jupyter Widget"
      ]
     },
     "metadata": {},
     "output_type": "display_data"
    },
    {
     "name": "stdout",
     "output_type": "stream",
     "text": [
      "\n"
     ]
    },
    {
     "data": {
      "application/vnd.jupyter.widget-view+json": {
       "model_id": "551fd3c0571e496ba60060d8c3c49b34",
       "version_major": 2,
       "version_minor": 0
      },
      "text/plain": [
       "A Jupyter Widget"
      ]
     },
     "metadata": {},
     "output_type": "display_data"
    },
    {
     "name": "stdout",
     "output_type": "stream",
     "text": [
      "\n"
     ]
    },
    {
     "data": {
      "application/vnd.jupyter.widget-view+json": {
       "model_id": "e81874510849413f885ee82ba4b532ac",
       "version_major": 2,
       "version_minor": 0
      },
      "text/plain": [
       "A Jupyter Widget"
      ]
     },
     "metadata": {},
     "output_type": "display_data"
    },
    {
     "name": "stdout",
     "output_type": "stream",
     "text": [
      "\n"
     ]
    },
    {
     "data": {
      "application/vnd.jupyter.widget-view+json": {
       "model_id": "58c487a6724a463cb2c64faef2ef1dd6",
       "version_major": 2,
       "version_minor": 0
      },
      "text/plain": [
       "A Jupyter Widget"
      ]
     },
     "metadata": {},
     "output_type": "display_data"
    },
    {
     "name": "stdout",
     "output_type": "stream",
     "text": [
      "\n"
     ]
    },
    {
     "data": {
      "application/vnd.jupyter.widget-view+json": {
       "model_id": "d29f8775203d4ff3803b507a5a9e3130",
       "version_major": 2,
       "version_minor": 0
      },
      "text/plain": [
       "A Jupyter Widget"
      ]
     },
     "metadata": {},
     "output_type": "display_data"
    },
    {
     "name": "stdout",
     "output_type": "stream",
     "text": [
      "\n"
     ]
    },
    {
     "data": {
      "application/vnd.jupyter.widget-view+json": {
       "model_id": "95898df4509c470d81d2b9d3d513c852",
       "version_major": 2,
       "version_minor": 0
      },
      "text/plain": [
       "A Jupyter Widget"
      ]
     },
     "metadata": {},
     "output_type": "display_data"
    },
    {
     "name": "stdout",
     "output_type": "stream",
     "text": [
      "\n"
     ]
    },
    {
     "data": {
      "application/vnd.jupyter.widget-view+json": {
       "model_id": "a2e1dcae5fc2414488cfc127719f9a9f",
       "version_major": 2,
       "version_minor": 0
      },
      "text/plain": [
       "A Jupyter Widget"
      ]
     },
     "metadata": {},
     "output_type": "display_data"
    },
    {
     "name": "stdout",
     "output_type": "stream",
     "text": [
      "\n",
      "http://mo.wikipedia.org/wiki/%D0%95%D1%83%D1%80%D0%BE%D0%BF%D0%B0\n",
      "http://mo.wikipedia.org/wiki/%D0%90%D1%81%D0%B8%D1%8F\n",
      "http://mo.wikipedia.org/wiki/%D0%A0%D1%83%D1%81%D0%B8%D1%8F\n",
      "http://mo.wikipedia.org/wiki/%D0%A3%D0%BA%D1%80%D0%B0%D0%B8%D0%BD%D0%B0\n",
      "http://mo.wikipedia.org/wiki/%D0%91%D1%83%D0%BB%D0%B3%D0%B0%D1%80%D0%B8%D1%8F\n",
      "http://mo.wikipedia.org/wiki/%D0%A2%D1%83%D1%80%D1%87%D0%B8%D1%8F\n",
      "http://mo.wikipedia.org/wiki/%D3%81%D0%B5%D0%BE%D1%80%D3%82%D0%B8%D1%8F\n",
      "http://mo.wikipedia.org/wiki/%D0%9A%D0%B8%D0%BB%D0%BE%D0%BC%D0%B5%D1%82%D1%80%D1%83_%D0%BF%D1%8D%D1%82%D1%80%D0%B0%D1%82\n",
      "http://mo.wikipedia.org/wiki/%D0%94%D1%83%D0%BD%D1%8D%D1%80%D0%B5\n",
      "http://mo.wikipedia.org/wiki/%D0%9D%D0%B8%D1%81%D1%82%D1%80%D1%83\n",
      "http://mo.wikipedia.org/wiki/%D0%9E%D0%B4%D0%B5%D1%81%D0%B0\n",
      "http://mo.wikipedia.org/wiki/%D0%A1%D0%B5%D0%B2%D0%B0%D1%81%D1%82%D0%BE%D0%BF%D0%BE%D0%BB\n",
      "http://mo.wikipedia.org/wiki/%D0%98%D0%BC%D0%BF%D0%B5%D1%80%D0%B8%D1%83%D0%BB_%D0%A0%D0%BE%D0%BC%D0%B0%D0%BD\n",
      "http://mo.wikipedia.org/wiki/%D0%9C%D0%B0%D1%80%D1%8F_%D0%9D%D1%8F%D0%B3%D1%80%D1%8D\n",
      "http://mo.wikipedia.org/wiki/%D0%9C%D0%B0%D1%80%D1%8F_%D0%9D%D1%8F%D0%B3%D1%80%D1%8D\n",
      "http://mo.wikipedia.org/wiki/%D0%9F%D0%B0%D3%82%D0%B8%D0%BD%D0%B0_%D0%BF%D1%80%D0%B8%D0%BD%D1%87%D0%B8%D0%BF%D0%B0%D0%BB%D1%8D\n",
      "http://mo.wikipedia.org/wiki/%D0%9F%D0%B0%D3%82%D0%B8%D0%BD%D0%B0_%D0%BF%D1%80%D0%B8%D0%BD%D1%87%D0%B8%D0%BF%D0%B0%D0%BB%D1%8D\n"
     ]
    },
    {
     "data": {
      "application/vnd.jupyter.widget-view+json": {
       "model_id": "282f77fc9a0341fc8abbea3b8f1a1dea",
       "version_major": 2,
       "version_minor": 0
      },
      "text/plain": [
       "A Jupyter Widget"
      ]
     },
     "metadata": {},
     "output_type": "display_data"
    },
    {
     "name": "stdout",
     "output_type": "stream",
     "text": [
      "\n"
     ]
    },
    {
     "data": {
      "application/vnd.jupyter.widget-view+json": {
       "model_id": "5611009fdc134444993cf405247e90f4",
       "version_major": 2,
       "version_minor": 0
      },
      "text/plain": [
       "A Jupyter Widget"
      ]
     },
     "metadata": {},
     "output_type": "display_data"
    },
    {
     "name": "stdout",
     "output_type": "stream",
     "text": [
      "\n"
     ]
    },
    {
     "data": {
      "application/vnd.jupyter.widget-view+json": {
       "model_id": "eedd332c9bcc4ab3b2fbc4da660e654c",
       "version_major": 2,
       "version_minor": 0
      },
      "text/plain": [
       "A Jupyter Widget"
      ]
     },
     "metadata": {},
     "output_type": "display_data"
    },
    {
     "name": "stdout",
     "output_type": "stream",
     "text": [
      "\n"
     ]
    },
    {
     "data": {
      "application/vnd.jupyter.widget-view+json": {
       "model_id": "dcbd52deaeb7437188912eb9365339f0",
       "version_major": 2,
       "version_minor": 0
      },
      "text/plain": [
       "A Jupyter Widget"
      ]
     },
     "metadata": {},
     "output_type": "display_data"
    },
    {
     "name": "stdout",
     "output_type": "stream",
     "text": [
      "\n"
     ]
    },
    {
     "data": {
      "application/vnd.jupyter.widget-view+json": {
       "model_id": "bb09a4c834984dcf958aadc0b3cf2158",
       "version_major": 2,
       "version_minor": 0
      },
      "text/plain": [
       "A Jupyter Widget"
      ]
     },
     "metadata": {},
     "output_type": "display_data"
    },
    {
     "name": "stdout",
     "output_type": "stream",
     "text": [
      "\n",
      "http://mo.wikipedia.org/wiki/%D0%98%D0%BC%D0%BF%D0%B5%D1%80%D0%B8%D1%83%D0%BB_%D0%A0%D0%BE%D0%BC%D0%B0%D0%BD\n",
      "http://mo.wikipedia.org/wiki/%D0%98%D0%BC%D0%BF%D0%B5%D1%80%D0%B8%D1%83%D0%BB_%D0%A0%D0%BE%D0%BC%D0%B0%D0%BD\n",
      "http://mo.wikipedia.org/wiki/%D0%9F%D0%B0%D3%82%D0%B8%D0%BD%D0%B0_%D0%BF%D1%80%D0%B8%D0%BD%D1%87%D0%B8%D0%BF%D0%B0%D0%BB%D1%8D\n",
      "http://mo.wikipedia.org/wiki/%D0%9F%D0%B0%D3%82%D0%B8%D0%BD%D0%B0_%D0%BF%D1%80%D0%B8%D0%BD%D1%87%D0%B8%D0%BF%D0%B0%D0%BB%D1%8D\n"
     ]
    },
    {
     "data": {
      "application/vnd.jupyter.widget-view+json": {
       "model_id": "1253ec345a9643c7b6a4d20f76dafcee",
       "version_major": 2,
       "version_minor": 0
      },
      "text/plain": [
       "A Jupyter Widget"
      ]
     },
     "metadata": {},
     "output_type": "display_data"
    },
    {
     "name": "stdout",
     "output_type": "stream",
     "text": [
      "\n"
     ]
    },
    {
     "data": {
      "application/vnd.jupyter.widget-view+json": {
       "model_id": "dcd55c95512847cd819210fe5cbcad9b",
       "version_major": 2,
       "version_minor": 0
      },
      "text/plain": [
       "A Jupyter Widget"
      ]
     },
     "metadata": {},
     "output_type": "display_data"
    },
    {
     "name": "stdout",
     "output_type": "stream",
     "text": [
      "\n"
     ]
    },
    {
     "data": {
      "application/vnd.jupyter.widget-view+json": {
       "model_id": "14ada34dc6454f97a59b5a8824569977",
       "version_major": 2,
       "version_minor": 0
      },
      "text/plain": [
       "A Jupyter Widget"
      ]
     },
     "metadata": {},
     "output_type": "display_data"
    },
    {
     "name": "stdout",
     "output_type": "stream",
     "text": [
      "\n"
     ]
    },
    {
     "data": {
      "application/vnd.jupyter.widget-view+json": {
       "model_id": "a0451f4825af4891ac0c5357ef50f8ab",
       "version_major": 2,
       "version_minor": 0
      },
      "text/plain": [
       "A Jupyter Widget"
      ]
     },
     "metadata": {},
     "output_type": "display_data"
    },
    {
     "name": "stdout",
     "output_type": "stream",
     "text": [
      "\n"
     ]
    },
    {
     "data": {
      "application/vnd.jupyter.widget-view+json": {
       "model_id": "ec78a3fd31a94ba49a7e075320145253",
       "version_major": 2,
       "version_minor": 0
      },
      "text/plain": [
       "A Jupyter Widget"
      ]
     },
     "metadata": {},
     "output_type": "display_data"
    },
    {
     "name": "stdout",
     "output_type": "stream",
     "text": [
      "\n",
      "http://mo.wikipedia.org/wiki/%D0%A3%D0%BA%D1%80%D0%B0%D0%B8%D0%BD%D0%B0\n",
      "http://mo.wikipedia.org/wiki/%D0%9C%D0%B0%D1%80%D1%8F_%D0%9D%D1%8F%D0%B3%D1%80%D1%8D\n",
      "http://mo.wikipedia.org/wiki/2004\n",
      "http://mo.wikipedia.org/wiki/%D0%A1%D0%B5%D0%B2%D0%B0%D1%81%D1%82%D0%BE%D0%BF%D0%BE%D0%BB\n",
      "http://mo.wikipedia.org/wiki/%D0%A1%D0%B5%D0%B2%D0%B0%D1%81%D1%82%D0%BE%D0%BF%D0%BE%D0%BB\n",
      "http://mo.wikipedia.org/wiki/%D0%9F%D0%B0%D3%82%D0%B8%D0%BD%D0%B0_%D0%BF%D1%80%D0%B8%D0%BD%D1%87%D0%B8%D0%BF%D0%B0%D0%BB%D1%8D\n",
      "http://mo.wikipedia.org/wiki/%D0%9F%D0%B0%D3%82%D0%B8%D0%BD%D0%B0_%D0%BF%D1%80%D0%B8%D0%BD%D1%87%D0%B8%D0%BF%D0%B0%D0%BB%D1%8D\n"
     ]
    },
    {
     "data": {
      "application/vnd.jupyter.widget-view+json": {
       "model_id": "59a036c27f1a47b0ae385e118b937acf",
       "version_major": 2,
       "version_minor": 0
      },
      "text/plain": [
       "A Jupyter Widget"
      ]
     },
     "metadata": {},
     "output_type": "display_data"
    },
    {
     "name": "stdout",
     "output_type": "stream",
     "text": [
      "\n"
     ]
    },
    {
     "data": {
      "application/vnd.jupyter.widget-view+json": {
       "model_id": "b9f529c44f264aa0a302a545910a4171",
       "version_major": 2,
       "version_minor": 0
      },
      "text/plain": [
       "A Jupyter Widget"
      ]
     },
     "metadata": {},
     "output_type": "display_data"
    },
    {
     "name": "stdout",
     "output_type": "stream",
     "text": [
      "\n"
     ]
    },
    {
     "data": {
      "application/vnd.jupyter.widget-view+json": {
       "model_id": "0ca277f6a0984df59336098019f153da",
       "version_major": 2,
       "version_minor": 0
      },
      "text/plain": [
       "A Jupyter Widget"
      ]
     },
     "metadata": {},
     "output_type": "display_data"
    },
    {
     "name": "stdout",
     "output_type": "stream",
     "text": [
      "\n"
     ]
    },
    {
     "data": {
      "application/vnd.jupyter.widget-view+json": {
       "model_id": "5722f7cbd5ea4a529976f178cd44ca2f",
       "version_major": 2,
       "version_minor": 0
      },
      "text/plain": [
       "A Jupyter Widget"
      ]
     },
     "metadata": {},
     "output_type": "display_data"
    },
    {
     "name": "stdout",
     "output_type": "stream",
     "text": [
      "\n"
     ]
    },
    {
     "data": {
      "application/vnd.jupyter.widget-view+json": {
       "model_id": "87eb8659bc624afb8aae33cb1cdf1a32",
       "version_major": 2,
       "version_minor": 0
      },
      "text/plain": [
       "A Jupyter Widget"
      ]
     },
     "metadata": {},
     "output_type": "display_data"
    },
    {
     "name": "stdout",
     "output_type": "stream",
     "text": [
      "\n"
     ]
    },
    {
     "data": {
      "application/vnd.jupyter.widget-view+json": {
       "model_id": "e14370ea05f347139a3d36c290f506dd",
       "version_major": 2,
       "version_minor": 0
      },
      "text/plain": [
       "A Jupyter Widget"
      ]
     },
     "metadata": {},
     "output_type": "display_data"
    },
    {
     "name": "stdout",
     "output_type": "stream",
     "text": [
      "\n"
     ]
    },
    {
     "data": {
      "application/vnd.jupyter.widget-view+json": {
       "model_id": "46527aa2a2ea4f2aac825f5c856aa47b",
       "version_major": 2,
       "version_minor": 0
      },
      "text/plain": [
       "A Jupyter Widget"
      ]
     },
     "metadata": {},
     "output_type": "display_data"
    },
    {
     "name": "stdout",
     "output_type": "stream",
     "text": [
      "\n"
     ]
    },
    {
     "data": {
      "application/vnd.jupyter.widget-view+json": {
       "model_id": "97a84d7d93bd4f2a8565b3da03ade567",
       "version_major": 2,
       "version_minor": 0
      },
      "text/plain": [
       "A Jupyter Widget"
      ]
     },
     "metadata": {},
     "output_type": "display_data"
    },
    {
     "name": "stdout",
     "output_type": "stream",
     "text": [
      "\n",
      "http://mo.wikipedia.org/wiki/%D0%9B%D0%B8%D0%BC%D0%B1%D0%B0_%D1%83%D0%BA%D1%80%D0%B0%D0%B8%D0%BD%D1%8F%D0%BD%D1%8D\n",
      "http://mo.wikipedia.org/wiki/%D0%A3%D0%BA%D1%80%D0%B0%D0%B8%D0%BD%D0%B0\n",
      "http://mo.wikipedia.org/wiki/%D0%9C%D0%B0%D1%80%D1%8F_%D0%9D%D1%8F%D0%B3%D1%80%D1%8D\n",
      "http://mo.wikipedia.org/wiki/2004\n",
      "http://mo.wikipedia.org/wiki/%D0%9E%D0%B4%D0%B5%D1%81%D0%B0\n",
      "http://mo.wikipedia.org/wiki/%D0%9E%D0%B4%D0%B5%D1%81%D0%B0\n",
      "http://mo.wikipedia.org/wiki/%D0%9F%D0%B0%D3%82%D0%B8%D0%BD%D0%B0_%D0%BF%D1%80%D0%B8%D0%BD%D1%87%D0%B8%D0%BF%D0%B0%D0%BB%D1%8D\n",
      "http://mo.wikipedia.org/wiki/%D0%9F%D0%B0%D3%82%D0%B8%D0%BD%D0%B0_%D0%BF%D1%80%D0%B8%D0%BD%D1%87%D0%B8%D0%BF%D0%B0%D0%BB%D1%8D\n"
     ]
    },
    {
     "data": {
      "application/vnd.jupyter.widget-view+json": {
       "model_id": "18f6618e1ce44e46afad52428f271f2f",
       "version_major": 2,
       "version_minor": 0
      },
      "text/plain": [
       "A Jupyter Widget"
      ]
     },
     "metadata": {},
     "output_type": "display_data"
    },
    {
     "name": "stdout",
     "output_type": "stream",
     "text": [
      "\n"
     ]
    },
    {
     "data": {
      "application/vnd.jupyter.widget-view+json": {
       "model_id": "7df19385e43c4fd18560d8b6bc20d452",
       "version_major": 2,
       "version_minor": 0
      },
      "text/plain": [
       "A Jupyter Widget"
      ]
     },
     "metadata": {},
     "output_type": "display_data"
    },
    {
     "name": "stdout",
     "output_type": "stream",
     "text": [
      "\n"
     ]
    },
    {
     "data": {
      "application/vnd.jupyter.widget-view+json": {
       "model_id": "7cf01c9b094f471ca7a375cb433d7af1",
       "version_major": 2,
       "version_minor": 0
      },
      "text/plain": [
       "A Jupyter Widget"
      ]
     },
     "metadata": {},
     "output_type": "display_data"
    },
    {
     "name": "stdout",
     "output_type": "stream",
     "text": [
      "\n"
     ]
    },
    {
     "data": {
      "application/vnd.jupyter.widget-view+json": {
       "model_id": "9c84d070f77e4050a352dd050a110639",
       "version_major": 2,
       "version_minor": 0
      },
      "text/plain": [
       "A Jupyter Widget"
      ]
     },
     "metadata": {},
     "output_type": "display_data"
    },
    {
     "name": "stdout",
     "output_type": "stream",
     "text": [
      "\n"
     ]
    },
    {
     "data": {
      "application/vnd.jupyter.widget-view+json": {
       "model_id": "04df5e75812347f7a6aac6aaf2db2604",
       "version_major": 2,
       "version_minor": 0
      },
      "text/plain": [
       "A Jupyter Widget"
      ]
     },
     "metadata": {},
     "output_type": "display_data"
    },
    {
     "name": "stdout",
     "output_type": "stream",
     "text": [
      "\n"
     ]
    },
    {
     "data": {
      "application/vnd.jupyter.widget-view+json": {
       "model_id": "4181ac493b4e471fbe591a802e01ebc2",
       "version_major": 2,
       "version_minor": 0
      },
      "text/plain": [
       "A Jupyter Widget"
      ]
     },
     "metadata": {},
     "output_type": "display_data"
    },
    {
     "name": "stdout",
     "output_type": "stream",
     "text": [
      "\n"
     ]
    },
    {
     "data": {
      "application/vnd.jupyter.widget-view+json": {
       "model_id": "12f2d62c10a6495da84c1031ef79376c",
       "version_major": 2,
       "version_minor": 0
      },
      "text/plain": [
       "A Jupyter Widget"
      ]
     },
     "metadata": {},
     "output_type": "display_data"
    },
    {
     "name": "stdout",
     "output_type": "stream",
     "text": [
      "\n"
     ]
    },
    {
     "data": {
      "application/vnd.jupyter.widget-view+json": {
       "model_id": "4eba82cc984d4ae099c08a8d8edae07c",
       "version_major": 2,
       "version_minor": 0
      },
      "text/plain": [
       "A Jupyter Widget"
      ]
     },
     "metadata": {},
     "output_type": "display_data"
    },
    {
     "name": "stdout",
     "output_type": "stream",
     "text": [
      "\n",
      "http://mo.wikipedia.org/wiki/%D0%9C%D0%B5%D1%82%D1%80%D0%BE%D1%83%D0%BB_%D0%B4%D0%B8%D0%BD_%D0%9A%D0%B8%D0%B5%D0%B2\n",
      "http://mo.wikipedia.org/wiki/%D0%A3%D0%BA%D1%80%D0%B0%D0%B8%D0%BD%D0%B0\n",
      "http://mo.wikipedia.org/wiki/%D0%A0%D1%83%D1%81%D0%B8%D1%8F\n",
      "http://mo.wikipedia.org/wiki/%D0%9A%D0%B0%D0%B7%D0%B0%D1%85%D1%81%D1%82%D0%B0%D0%BD\n",
      "http://mo.wikipedia.org/wiki/%D0%A1%D0%A3%D0%90\n",
      "http://mo.wikipedia.org/wiki/%D0%9C%D0%BE%D0%BB%D0%B4%D0%BE%D0%B2%D0%B0\n",
      "http://mo.wikipedia.org/wiki/%D0%9B%D0%B8%D0%BC%D0%B1%D0%B0_%D1%83%D0%BA%D1%80%D0%B0%D0%B8%D0%BD%D1%8F%D0%BD%D1%8D\n",
      "http://mo.wikipedia.org/wiki/%D0%9B%D0%B8%D0%BC%D0%B1%D0%B0_%D1%83%D0%BA%D1%80%D0%B0%D0%B8%D0%BD%D1%8F%D0%BD%D1%8D\n",
      "http://mo.wikipedia.org/wiki/%D0%9F%D0%B0%D3%82%D0%B8%D0%BD%D0%B0_%D0%BF%D1%80%D0%B8%D0%BD%D1%87%D0%B8%D0%BF%D0%B0%D0%BB%D1%8D\n",
      "http://mo.wikipedia.org/wiki/%D0%9F%D0%B0%D3%82%D0%B8%D0%BD%D0%B0_%D0%BF%D1%80%D0%B8%D0%BD%D1%87%D0%B8%D0%BF%D0%B0%D0%BB%D1%8D\n"
     ]
    },
    {
     "data": {
      "application/vnd.jupyter.widget-view+json": {
       "model_id": "b5b2310fc2c944e7b87208f8592dd07f",
       "version_major": 2,
       "version_minor": 0
      },
      "text/plain": [
       "A Jupyter Widget"
      ]
     },
     "metadata": {},
     "output_type": "display_data"
    },
    {
     "name": "stdout",
     "output_type": "stream",
     "text": [
      "\n"
     ]
    },
    {
     "data": {
      "application/vnd.jupyter.widget-view+json": {
       "model_id": "0a4485ae9ff24f19b930237ed67c6f84",
       "version_major": 2,
       "version_minor": 0
      },
      "text/plain": [
       "A Jupyter Widget"
      ]
     },
     "metadata": {},
     "output_type": "display_data"
    },
    {
     "name": "stdout",
     "output_type": "stream",
     "text": [
      "\n"
     ]
    },
    {
     "data": {
      "application/vnd.jupyter.widget-view+json": {
       "model_id": "730a01cb8df24ce080e9d4194e2730f8",
       "version_major": 2,
       "version_minor": 0
      },
      "text/plain": [
       "A Jupyter Widget"
      ]
     },
     "metadata": {},
     "output_type": "display_data"
    },
    {
     "name": "stdout",
     "output_type": "stream",
     "text": [
      "\n"
     ]
    },
    {
     "data": {
      "application/vnd.jupyter.widget-view+json": {
       "model_id": "982d355020a647f8844c1cc189b91b8a",
       "version_major": 2,
       "version_minor": 0
      },
      "text/plain": [
       "A Jupyter Widget"
      ]
     },
     "metadata": {},
     "output_type": "display_data"
    },
    {
     "name": "stdout",
     "output_type": "stream",
     "text": [
      "\n"
     ]
    },
    {
     "data": {
      "application/vnd.jupyter.widget-view+json": {
       "model_id": "833f02babc8845e796fc0588ad8d5dde",
       "version_major": 2,
       "version_minor": 0
      },
      "text/plain": [
       "A Jupyter Widget"
      ]
     },
     "metadata": {},
     "output_type": "display_data"
    },
    {
     "name": "stdout",
     "output_type": "stream",
     "text": [
      "\n"
     ]
    },
    {
     "data": {
      "application/vnd.jupyter.widget-view+json": {
       "model_id": "e0c278fdf227435f9fdf86422577e4cd",
       "version_major": 2,
       "version_minor": 0
      },
      "text/plain": [
       "A Jupyter Widget"
      ]
     },
     "metadata": {},
     "output_type": "display_data"
    },
    {
     "name": "stdout",
     "output_type": "stream",
     "text": [
      "\n"
     ]
    },
    {
     "data": {
      "application/vnd.jupyter.widget-view+json": {
       "model_id": "207a0b64f8c14df6b9a215a2cb0f50dc",
       "version_major": 2,
       "version_minor": 0
      },
      "text/plain": [
       "A Jupyter Widget"
      ]
     },
     "metadata": {},
     "output_type": "display_data"
    },
    {
     "name": "stdout",
     "output_type": "stream",
     "text": [
      "\n"
     ]
    },
    {
     "data": {
      "application/vnd.jupyter.widget-view+json": {
       "model_id": "ac8989910a90416f8f6c427937a5fcfc",
       "version_major": 2,
       "version_minor": 0
      },
      "text/plain": [
       "A Jupyter Widget"
      ]
     },
     "metadata": {},
     "output_type": "display_data"
    },
    {
     "name": "stdout",
     "output_type": "stream",
     "text": [
      "\n"
     ]
    },
    {
     "data": {
      "application/vnd.jupyter.widget-view+json": {
       "model_id": "da3c06ff2712498abcb711daefbf8b4d",
       "version_major": 2,
       "version_minor": 0
      },
      "text/plain": [
       "A Jupyter Widget"
      ]
     },
     "metadata": {},
     "output_type": "display_data"
    },
    {
     "name": "stdout",
     "output_type": "stream",
     "text": [
      "\n"
     ]
    },
    {
     "data": {
      "application/vnd.jupyter.widget-view+json": {
       "model_id": "1cd220a3788e44568ff024db976e83eb",
       "version_major": 2,
       "version_minor": 0
      },
      "text/plain": [
       "A Jupyter Widget"
      ]
     },
     "metadata": {},
     "output_type": "display_data"
    },
    {
     "name": "stdout",
     "output_type": "stream",
     "text": [
      "\n",
      "http://mo.wikipedia.org/wiki/%D0%9A%D0%B8%D0%B5%D0%B2\n",
      "http://mo.wikipedia.org/wiki/%D0%9C%D0%B5%D1%82%D1%80%D0%BE%D1%83%D0%BB_%D0%B4%D0%B8%D0%BD_%D0%9A%D0%B8%D0%B5%D0%B2\n",
      "http://mo.wikipedia.org/wiki/%D0%9C%D0%B5%D1%82%D1%80%D0%BE%D1%83%D0%BB_%D0%B4%D0%B8%D0%BD_%D0%9A%D0%B8%D0%B5%D0%B2\n",
      "http://mo.wikipedia.org/wiki/%D0%9F%D0%B0%D3%82%D0%B8%D0%BD%D0%B0_%D0%BF%D1%80%D0%B8%D0%BD%D1%87%D0%B8%D0%BF%D0%B0%D0%BB%D1%8D\n",
      "http://mo.wikipedia.org/wiki/%D0%9F%D0%B0%D3%82%D0%B8%D0%BD%D0%B0_%D0%BF%D1%80%D0%B8%D0%BD%D1%87%D0%B8%D0%BF%D0%B0%D0%BB%D1%8D\n"
     ]
    },
    {
     "data": {
      "application/vnd.jupyter.widget-view+json": {
       "model_id": "66a48a8145e34858b8856a6b4fd8d231",
       "version_major": 2,
       "version_minor": 0
      },
      "text/plain": [
       "A Jupyter Widget"
      ]
     },
     "metadata": {},
     "output_type": "display_data"
    },
    {
     "name": "stdout",
     "output_type": "stream",
     "text": [
      "\n"
     ]
    },
    {
     "data": {
      "application/vnd.jupyter.widget-view+json": {
       "model_id": "32d83ee7b1b042deb0969886f2c90e1e",
       "version_major": 2,
       "version_minor": 0
      },
      "text/plain": [
       "A Jupyter Widget"
      ]
     },
     "metadata": {},
     "output_type": "display_data"
    },
    {
     "name": "stdout",
     "output_type": "stream",
     "text": [
      "\n"
     ]
    },
    {
     "data": {
      "application/vnd.jupyter.widget-view+json": {
       "model_id": "44d2f7fa225241c08ebec679301f0363",
       "version_major": 2,
       "version_minor": 0
      },
      "text/plain": [
       "A Jupyter Widget"
      ]
     },
     "metadata": {},
     "output_type": "display_data"
    },
    {
     "name": "stdout",
     "output_type": "stream",
     "text": [
      "\n"
     ]
    },
    {
     "data": {
      "application/vnd.jupyter.widget-view+json": {
       "model_id": "2bd4858871c0496792e764840b9463c5",
       "version_major": 2,
       "version_minor": 0
      },
      "text/plain": [
       "A Jupyter Widget"
      ]
     },
     "metadata": {},
     "output_type": "display_data"
    },
    {
     "name": "stdout",
     "output_type": "stream",
     "text": [
      "\n"
     ]
    },
    {
     "data": {
      "application/vnd.jupyter.widget-view+json": {
       "model_id": "9790261bcbd94950800b3c96e80b517f",
       "version_major": 2,
       "version_minor": 0
      },
      "text/plain": [
       "A Jupyter Widget"
      ]
     },
     "metadata": {},
     "output_type": "display_data"
    },
    {
     "name": "stdout",
     "output_type": "stream",
     "text": [
      "\n",
      "http://mo.wikipedia.org/wiki/%D0%9B%D0%B8%D0%BC%D0%B1%D0%B0_%D1%80%D1%83%D1%81%D1%8D\n",
      "http://mo.wikipedia.org/wiki/%D0%A3%D0%BA%D1%80%D0%B0%D0%B8%D0%BD%D0%B0\n",
      "http://mo.wikipedia.org/wiki/%D0%9A%D0%B8%D0%B5%D0%B2\n",
      "http://mo.wikipedia.org/wiki/%D0%9A%D0%B8%D0%B5%D0%B2\n",
      "http://mo.wikipedia.org/wiki/%D0%9F%D0%B0%D3%82%D0%B8%D0%BD%D0%B0_%D0%BF%D1%80%D0%B8%D0%BD%D1%87%D0%B8%D0%BF%D0%B0%D0%BB%D1%8D\n",
      "http://mo.wikipedia.org/wiki/%D0%9F%D0%B0%D3%82%D0%B8%D0%BD%D0%B0_%D0%BF%D1%80%D0%B8%D0%BD%D1%87%D0%B8%D0%BF%D0%B0%D0%BB%D1%8D\n"
     ]
    },
    {
     "data": {
      "application/vnd.jupyter.widget-view+json": {
       "model_id": "702ce1bc95044ca6adcb5ff4e1aaad70",
       "version_major": 2,
       "version_minor": 0
      },
      "text/plain": [
       "A Jupyter Widget"
      ]
     },
     "metadata": {},
     "output_type": "display_data"
    },
    {
     "name": "stdout",
     "output_type": "stream",
     "text": [
      "\n"
     ]
    },
    {
     "data": {
      "application/vnd.jupyter.widget-view+json": {
       "model_id": "3b37cec5b9b84de8974bc26de84c9ef6",
       "version_major": 2,
       "version_minor": 0
      },
      "text/plain": [
       "A Jupyter Widget"
      ]
     },
     "metadata": {},
     "output_type": "display_data"
    },
    {
     "name": "stdout",
     "output_type": "stream",
     "text": [
      "\n"
     ]
    },
    {
     "data": {
      "application/vnd.jupyter.widget-view+json": {
       "model_id": "242492e1803946bd95117afc7beb92ad",
       "version_major": 2,
       "version_minor": 0
      },
      "text/plain": [
       "A Jupyter Widget"
      ]
     },
     "metadata": {},
     "output_type": "display_data"
    },
    {
     "name": "stdout",
     "output_type": "stream",
     "text": [
      "\n"
     ]
    },
    {
     "data": {
      "application/vnd.jupyter.widget-view+json": {
       "model_id": "5b71c2d61a0245fd99c0554565e6c85c",
       "version_major": 2,
       "version_minor": 0
      },
      "text/plain": [
       "A Jupyter Widget"
      ]
     },
     "metadata": {},
     "output_type": "display_data"
    },
    {
     "name": "stdout",
     "output_type": "stream",
     "text": [
      "\n"
     ]
    },
    {
     "data": {
      "application/vnd.jupyter.widget-view+json": {
       "model_id": "48bdeb8fdf304082a718806a7494af30",
       "version_major": 2,
       "version_minor": 0
      },
      "text/plain": [
       "A Jupyter Widget"
      ]
     },
     "metadata": {},
     "output_type": "display_data"
    },
    {
     "name": "stdout",
     "output_type": "stream",
     "text": [
      "\n"
     ]
    },
    {
     "data": {
      "application/vnd.jupyter.widget-view+json": {
       "model_id": "bdb76e449e584a98b9fff13f8a288804",
       "version_major": 2,
       "version_minor": 0
      },
      "text/plain": [
       "A Jupyter Widget"
      ]
     },
     "metadata": {},
     "output_type": "display_data"
    },
    {
     "name": "stdout",
     "output_type": "stream",
     "text": [
      "\n"
     ]
    },
    {
     "data": {
      "application/vnd.jupyter.widget-view+json": {
       "model_id": "82c58f97deac4521b4a2c0cf0ae006c6",
       "version_major": 2,
       "version_minor": 0
      },
      "text/plain": [
       "A Jupyter Widget"
      ]
     },
     "metadata": {},
     "output_type": "display_data"
    },
    {
     "name": "stdout",
     "output_type": "stream",
     "text": [
      "\n"
     ]
    },
    {
     "data": {
      "application/vnd.jupyter.widget-view+json": {
       "model_id": "e2b5585d3e024a488f52d483198b55e9",
       "version_major": 2,
       "version_minor": 0
      },
      "text/plain": [
       "A Jupyter Widget"
      ]
     },
     "metadata": {},
     "output_type": "display_data"
    },
    {
     "name": "stdout",
     "output_type": "stream",
     "text": [
      "\n"
     ]
    },
    {
     "data": {
      "application/vnd.jupyter.widget-view+json": {
       "model_id": "44187069ddde43f895efa4b0b46d3d66",
       "version_major": 2,
       "version_minor": 0
      },
      "text/plain": [
       "A Jupyter Widget"
      ]
     },
     "metadata": {},
     "output_type": "display_data"
    },
    {
     "name": "stdout",
     "output_type": "stream",
     "text": [
      "\n",
      "http://mo.wikipedia.org/wiki/%D0%9A%D0%B8%D0%BB%D0%BE%D0%BC%D0%B5%D1%82%D1%80%D1%83_%D0%BF%D1%8D%D1%82%D1%80%D0%B0%D1%82\n",
      "http://mo.wikipedia.org/wiki/%D0%9A%D0%B8%D0%BB%D0%BE%D0%BC%D0%B5%D1%82%D1%80%D1%83_%D0%BF%D1%8D%D1%82%D1%80%D0%B0%D1%82\n",
      "http://mo.wikipedia.org/wiki/%D0%9F%D0%B0%D3%82%D0%B8%D0%BD%D0%B0_%D0%BF%D1%80%D0%B8%D0%BD%D1%87%D0%B8%D0%BF%D0%B0%D0%BB%D1%8D\n",
      "http://mo.wikipedia.org/wiki/%D0%9F%D0%B0%D3%82%D0%B8%D0%BD%D0%B0_%D0%BF%D1%80%D0%B8%D0%BD%D1%87%D0%B8%D0%BF%D0%B0%D0%BB%D1%8D\n"
     ]
    },
    {
     "data": {
      "application/vnd.jupyter.widget-view+json": {
       "model_id": "b6ae6a6ef2cc46558eaa0690821f90e3",
       "version_major": 2,
       "version_minor": 0
      },
      "text/plain": [
       "A Jupyter Widget"
      ]
     },
     "metadata": {},
     "output_type": "display_data"
    },
    {
     "name": "stdout",
     "output_type": "stream",
     "text": [
      "\n"
     ]
    },
    {
     "data": {
      "application/vnd.jupyter.widget-view+json": {
       "model_id": "2779183cf8704701bb88ed98d3aef593",
       "version_major": 2,
       "version_minor": 0
      },
      "text/plain": [
       "A Jupyter Widget"
      ]
     },
     "metadata": {},
     "output_type": "display_data"
    },
    {
     "name": "stdout",
     "output_type": "stream",
     "text": [
      "\n"
     ]
    },
    {
     "data": {
      "application/vnd.jupyter.widget-view+json": {
       "model_id": "e478a67ae00646da9d7eb58a22b809b0",
       "version_major": 2,
       "version_minor": 0
      },
      "text/plain": [
       "A Jupyter Widget"
      ]
     },
     "metadata": {},
     "output_type": "display_data"
    },
    {
     "name": "stdout",
     "output_type": "stream",
     "text": [
      "\n"
     ]
    },
    {
     "data": {
      "application/vnd.jupyter.widget-view+json": {
       "model_id": "a0af513116a04ba785812d8b7700afc0",
       "version_major": 2,
       "version_minor": 0
      },
      "text/plain": [
       "A Jupyter Widget"
      ]
     },
     "metadata": {},
     "output_type": "display_data"
    },
    {
     "name": "stdout",
     "output_type": "stream",
     "text": [
      "\n"
     ]
    },
    {
     "data": {
      "application/vnd.jupyter.widget-view+json": {
       "model_id": "fdf921d98fc54af88879f5b553b63005",
       "version_major": 2,
       "version_minor": 0
      },
      "text/plain": [
       "A Jupyter Widget"
      ]
     },
     "metadata": {},
     "output_type": "display_data"
    },
    {
     "name": "stdout",
     "output_type": "stream",
     "text": [
      "\n"
     ]
    },
    {
     "data": {
      "application/vnd.jupyter.widget-view+json": {
       "model_id": "6704f95e65b04cacbc6828393b41d247",
       "version_major": 2,
       "version_minor": 0
      },
      "text/plain": [
       "A Jupyter Widget"
      ]
     },
     "metadata": {},
     "output_type": "display_data"
    },
    {
     "name": "stdout",
     "output_type": "stream",
     "text": [
      "\n"
     ]
    },
    {
     "data": {
      "application/vnd.jupyter.widget-view+json": {
       "model_id": "4c9b9810c1204847a23086938b354efb",
       "version_major": 2,
       "version_minor": 0
      },
      "text/plain": [
       "A Jupyter Widget"
      ]
     },
     "metadata": {},
     "output_type": "display_data"
    },
    {
     "name": "stdout",
     "output_type": "stream",
     "text": [
      "\n"
     ]
    },
    {
     "data": {
      "application/vnd.jupyter.widget-view+json": {
       "model_id": "685e5f28f1984cffbaf05bcd67f052de",
       "version_major": 2,
       "version_minor": 0
      },
      "text/plain": [
       "A Jupyter Widget"
      ]
     },
     "metadata": {},
     "output_type": "display_data"
    },
    {
     "name": "stdout",
     "output_type": "stream",
     "text": [
      "\n"
     ]
    },
    {
     "data": {
      "application/vnd.jupyter.widget-view+json": {
       "model_id": "de47d83cf7464c8382cb15dd8f3c3ccf",
       "version_major": 2,
       "version_minor": 0
      },
      "text/plain": [
       "A Jupyter Widget"
      ]
     },
     "metadata": {},
     "output_type": "display_data"
    },
    {
     "name": "stdout",
     "output_type": "stream",
     "text": [
      "\n"
     ]
    },
    {
     "data": {
      "application/vnd.jupyter.widget-view+json": {
       "model_id": "cd122485758b4d779a5667b6ef7da2b7",
       "version_major": 2,
       "version_minor": 0
      },
      "text/plain": [
       "A Jupyter Widget"
      ]
     },
     "metadata": {},
     "output_type": "display_data"
    },
    {
     "name": "stdout",
     "output_type": "stream",
     "text": [
      "\n"
     ]
    },
    {
     "data": {
      "application/vnd.jupyter.widget-view+json": {
       "model_id": "637c937cac9b4b839f6fbc148eaf731d",
       "version_major": 2,
       "version_minor": 0
      },
      "text/plain": [
       "A Jupyter Widget"
      ]
     },
     "metadata": {},
     "output_type": "display_data"
    },
    {
     "name": "stdout",
     "output_type": "stream",
     "text": [
      "\n"
     ]
    },
    {
     "data": {
      "application/vnd.jupyter.widget-view+json": {
       "model_id": "2a8c2066b1c64f689b9ad1ba9019b183",
       "version_major": 2,
       "version_minor": 0
      },
      "text/plain": [
       "A Jupyter Widget"
      ]
     },
     "metadata": {},
     "output_type": "display_data"
    },
    {
     "name": "stdout",
     "output_type": "stream",
     "text": [
      "\n"
     ]
    },
    {
     "data": {
      "application/vnd.jupyter.widget-view+json": {
       "model_id": "496c6e6986074bf08f26c54e45d6f52f",
       "version_major": 2,
       "version_minor": 0
      },
      "text/plain": [
       "A Jupyter Widget"
      ]
     },
     "metadata": {},
     "output_type": "display_data"
    },
    {
     "name": "stdout",
     "output_type": "stream",
     "text": [
      "\n"
     ]
    },
    {
     "data": {
      "application/vnd.jupyter.widget-view+json": {
       "model_id": "926d74e15f4f4455bbf58094fee6e670",
       "version_major": 2,
       "version_minor": 0
      },
      "text/plain": [
       "A Jupyter Widget"
      ]
     },
     "metadata": {},
     "output_type": "display_data"
    },
    {
     "name": "stdout",
     "output_type": "stream",
     "text": [
      "\n"
     ]
    },
    {
     "data": {
      "application/vnd.jupyter.widget-view+json": {
       "model_id": "f113831617714147bd2fe7fb6515669b",
       "version_major": 2,
       "version_minor": 0
      },
      "text/plain": [
       "A Jupyter Widget"
      ]
     },
     "metadata": {},
     "output_type": "display_data"
    },
    {
     "name": "stdout",
     "output_type": "stream",
     "text": [
      "\n"
     ]
    },
    {
     "data": {
      "application/vnd.jupyter.widget-view+json": {
       "model_id": "1b8f624c1a6a48849b59f3cfa286d30c",
       "version_major": 2,
       "version_minor": 0
      },
      "text/plain": [
       "A Jupyter Widget"
      ]
     },
     "metadata": {},
     "output_type": "display_data"
    },
    {
     "name": "stdout",
     "output_type": "stream",
     "text": [
      "\n"
     ]
    },
    {
     "data": {
      "application/vnd.jupyter.widget-view+json": {
       "model_id": "1d8c939b68894216bf8e4f532f5725e9",
       "version_major": 2,
       "version_minor": 0
      },
      "text/plain": [
       "A Jupyter Widget"
      ]
     },
     "metadata": {},
     "output_type": "display_data"
    },
    {
     "name": "stdout",
     "output_type": "stream",
     "text": [
      "\n"
     ]
    },
    {
     "data": {
      "application/vnd.jupyter.widget-view+json": {
       "model_id": "95f1eb74d3514d14b6c04032dda5535a",
       "version_major": 2,
       "version_minor": 0
      },
      "text/plain": [
       "A Jupyter Widget"
      ]
     },
     "metadata": {},
     "output_type": "display_data"
    },
    {
     "name": "stdout",
     "output_type": "stream",
     "text": [
      "\n"
     ]
    },
    {
     "data": {
      "application/vnd.jupyter.widget-view+json": {
       "model_id": "5e6ab999cd304f9a9cff68294af4e0af",
       "version_major": 2,
       "version_minor": 0
      },
      "text/plain": [
       "A Jupyter Widget"
      ]
     },
     "metadata": {},
     "output_type": "display_data"
    },
    {
     "name": "stdout",
     "output_type": "stream",
     "text": [
      "\n"
     ]
    },
    {
     "data": {
      "application/vnd.jupyter.widget-view+json": {
       "model_id": "d35c979cb0844b599274c83c5a092fbc",
       "version_major": 2,
       "version_minor": 0
      },
      "text/plain": [
       "A Jupyter Widget"
      ]
     },
     "metadata": {},
     "output_type": "display_data"
    },
    {
     "name": "stdout",
     "output_type": "stream",
     "text": [
      "\n"
     ]
    },
    {
     "data": {
      "application/vnd.jupyter.widget-view+json": {
       "model_id": "8ccd6c631aae46e497e34e216fcf5549",
       "version_major": 2,
       "version_minor": 0
      },
      "text/plain": [
       "A Jupyter Widget"
      ]
     },
     "metadata": {},
     "output_type": "display_data"
    },
    {
     "name": "stdout",
     "output_type": "stream",
     "text": [
      "\n"
     ]
    },
    {
     "data": {
      "application/vnd.jupyter.widget-view+json": {
       "model_id": "583477130a6e4250892251cd2bdbafdb",
       "version_major": 2,
       "version_minor": 0
      },
      "text/plain": [
       "A Jupyter Widget"
      ]
     },
     "metadata": {},
     "output_type": "display_data"
    },
    {
     "name": "stdout",
     "output_type": "stream",
     "text": [
      "\n"
     ]
    },
    {
     "data": {
      "application/vnd.jupyter.widget-view+json": {
       "model_id": "cbcff925ad4f4eccb7ff537ff90573ed",
       "version_major": 2,
       "version_minor": 0
      },
      "text/plain": [
       "A Jupyter Widget"
      ]
     },
     "metadata": {},
     "output_type": "display_data"
    },
    {
     "name": "stdout",
     "output_type": "stream",
     "text": [
      "\n"
     ]
    },
    {
     "data": {
      "application/vnd.jupyter.widget-view+json": {
       "model_id": "fbee025bc6ed4a6187101e1079a11e00",
       "version_major": 2,
       "version_minor": 0
      },
      "text/plain": [
       "A Jupyter Widget"
      ]
     },
     "metadata": {},
     "output_type": "display_data"
    },
    {
     "name": "stdout",
     "output_type": "stream",
     "text": [
      "\n"
     ]
    },
    {
     "data": {
      "application/vnd.jupyter.widget-view+json": {
       "model_id": "e1af5a46f3fa4dd98f6deb17ef6850e7",
       "version_major": 2,
       "version_minor": 0
      },
      "text/plain": [
       "A Jupyter Widget"
      ]
     },
     "metadata": {},
     "output_type": "display_data"
    },
    {
     "name": "stdout",
     "output_type": "stream",
     "text": [
      "\n",
      "http://mo.wikipedia.org/wiki/%D0%9B%D0%B8%D0%BC%D0%B1%D1%8D_%D0%BE%D1%84%D0%B8%D1%87%D0%B8%D0%B0%D0%BB%D1%8D\n",
      "http://mo.wikipedia.org/wiki/%D0%9B%D0%B8%D0%BC%D0%B1%D1%8D_%D0%BE%D1%84%D0%B8%D1%87%D0%B8%D0%B0%D0%BB%D1%8D\n",
      "http://mo.wikipedia.org/wiki/%D0%9F%D0%B0%D3%82%D0%B8%D0%BD%D0%B0_%D0%BF%D1%80%D0%B8%D0%BD%D1%87%D0%B8%D0%BF%D0%B0%D0%BB%D1%8D\n",
      "http://mo.wikipedia.org/wiki/%D0%9F%D0%B0%D3%82%D0%B8%D0%BD%D0%B0_%D0%BF%D1%80%D0%B8%D0%BD%D1%87%D0%B8%D0%BF%D0%B0%D0%BB%D1%8D\n"
     ]
    },
    {
     "data": {
      "application/vnd.jupyter.widget-view+json": {
       "model_id": "86d31bd48740466c98846bd961a90ba1",
       "version_major": 2,
       "version_minor": 0
      },
      "text/plain": [
       "A Jupyter Widget"
      ]
     },
     "metadata": {},
     "output_type": "display_data"
    },
    {
     "name": "stdout",
     "output_type": "stream",
     "text": [
      "\n"
     ]
    },
    {
     "data": {
      "application/vnd.jupyter.widget-view+json": {
       "model_id": "6008c77bce004f3fba5b45e2732005c6",
       "version_major": 2,
       "version_minor": 0
      },
      "text/plain": [
       "A Jupyter Widget"
      ]
     },
     "metadata": {},
     "output_type": "display_data"
    },
    {
     "name": "stdout",
     "output_type": "stream",
     "text": [
      "\n"
     ]
    },
    {
     "data": {
      "application/vnd.jupyter.widget-view+json": {
       "model_id": "c2904d40cf3a43f29b750174093a9701",
       "version_major": 2,
       "version_minor": 0
      },
      "text/plain": [
       "A Jupyter Widget"
      ]
     },
     "metadata": {},
     "output_type": "display_data"
    },
    {
     "name": "stdout",
     "output_type": "stream",
     "text": [
      "\n"
     ]
    },
    {
     "data": {
      "application/vnd.jupyter.widget-view+json": {
       "model_id": "c247791fb79e4daeb654180320a36008",
       "version_major": 2,
       "version_minor": 0
      },
      "text/plain": [
       "A Jupyter Widget"
      ]
     },
     "metadata": {},
     "output_type": "display_data"
    },
    {
     "name": "stdout",
     "output_type": "stream",
     "text": [
      "\n"
     ]
    },
    {
     "data": {
      "application/vnd.jupyter.widget-view+json": {
       "model_id": "2d9c9dfdd03840d8a6002ea5b98af77c",
       "version_major": 2,
       "version_minor": 0
      },
      "text/plain": [
       "A Jupyter Widget"
      ]
     },
     "metadata": {},
     "output_type": "display_data"
    },
    {
     "name": "stdout",
     "output_type": "stream",
     "text": [
      "\n"
     ]
    },
    {
     "data": {
      "application/vnd.jupyter.widget-view+json": {
       "model_id": "0bcb49fc2ae241f5bc539e1202bf0757",
       "version_major": 2,
       "version_minor": 0
      },
      "text/plain": [
       "A Jupyter Widget"
      ]
     },
     "metadata": {},
     "output_type": "display_data"
    },
    {
     "name": "stdout",
     "output_type": "stream",
     "text": [
      "\n",
      "http://mo.wikipedia.org/wiki/%D0%9B%D0%B8%D0%BC%D0%B1%D1%8D_%D0%BE%D1%84%D0%B8%D1%87%D0%B8%D0%B0%D0%BB%D1%8D\n",
      "http://mo.wikipedia.org/wiki/%D0%9A%D0%B0%D0%BF%D0%B8%D1%82%D0%B0%D0%BB%D1%8D\n",
      "http://mo.wikipedia.org/wiki/%D0%A1%D0%B8%D1%81%D1%82%D0%B5%D0%BC_%D0%BF%D0%BE%D0%BB%D0%B8%D1%82%D0%B8%D0%BA\n",
      "http://mo.wikipedia.org/wiki/%D0%A1%D1%83%D0%BF%D1%80%D0%B0%D1%84%D0%B0%D1%86%D1%8D\n",
      "http://mo.wikipedia.org/wiki/%D0%9F%D0%BE%D0%BF%D1%83%D0%BB%D0%B0%D1%86%D0%B8%D0%B5\n",
      "http://mo.wikipedia.org/wiki/%D0%94%D0%B5%D0%BD%D1%81%D0%B8%D1%82%D0%B0%D1%82%D1%8F_%D0%BF%D0%BE%D0%BF%D1%83%D0%BB%D0%B0%D1%86%D0%B8%D0%B5%D0%B9\n",
      "http://mo.wikipedia.org/wiki/%D0%9F%D1%80%D0%BE%D0%B4%D1%83%D1%81_%D0%B8%D0%BD%D1%82%D0%B5%D1%80%D0%BD_%D0%B1%D1%80%D1%83%D1%82\n",
      "http://mo.wikipedia.org/wiki/%D0%9C%D0%BE%D0%BD%D0%B5%D0%B4%D1%8D\n",
      "http://mo.wikipedia.org/wiki/%D0%A4%D1%83%D1%81_%D0%BE%D1%80%D0%B0%D1%80\n",
      "http://mo.wikipedia.org/wiki/%D0%98%D0%BC%D0%BD_%D0%BD%D0%B0%D1%86%D0%B8%D0%BE%D0%BD%D0%B0%D0%BB\n",
      "http://mo.wikipedia.org/wiki/%D0%94%D0%BE%D0%BC%D0%B5%D0%BD%D0%B8%D1%83_%D0%BD%D0%B0%D1%86%D0%B8%D0%BE%D0%BD%D0%B0%D0%BB_%D0%B4%D0%B5_%D0%BD%D0%B8%D0%B2%D0%B5%D0%BB_%D1%81%D1%83%D0%BF%D0%B5%D1%80%D0%B8%D0%BE%D1%80\n",
      "http://mo.wikipedia.org/wiki/%D0%90%D1%83%D1%81%D1%82%D1%80%D0%B8%D1%8F\n",
      "http://mo.wikipedia.org/wiki/%D0%A1%D0%BB%D0%BE%D0%B2%D0%B0%D1%87%D0%B8%D1%8F\n",
      "http://mo.wikipedia.org/wiki/%D0%A3%D0%BA%D1%80%D0%B0%D0%B8%D0%BD%D0%B0\n",
      "http://mo.wikipedia.org/wiki/%D0%A0%D0%BE%D0%BC%D1%8B%D0%BD%D0%B8%D1%8F\n",
      "http://mo.wikipedia.org/wiki/%D0%A1%D0%B5%D1%80%D0%B1%D0%B8%D1%8F\n",
      "http://mo.wikipedia.org/wiki/%D0%9A%D1%80%D0%BE%D0%B0%D1%86%D0%B8%D1%8F\n",
      "http://mo.wikipedia.org/wiki/%D0%9F%D0%BE%D0%BB%D0%BE%D0%BD%D0%B8%D1%8F\n",
      "http://mo.wikipedia.org/wiki/%D0%A1%D0%BB%D0%BE%D0%B2%D0%B0%D1%87%D0%B8%D1%8F\n",
      "http://mo.wikipedia.org/wiki/%D0%A3%D0%BD%D0%B3%D0%B0%D1%80%D0%B8%D1%8F\n",
      "http://mo.wikipedia.org/wiki/%D0%A3%D0%BD%D0%B3%D0%B0%D1%80%D0%B8%D1%8F\n",
      "http://mo.wikipedia.org/wiki/%D0%9F%D0%B0%D3%82%D0%B8%D0%BD%D0%B0_%D0%BF%D1%80%D0%B8%D0%BD%D1%87%D0%B8%D0%BF%D0%B0%D0%BB%D1%8D\n",
      "http://mo.wikipedia.org/wiki/%D0%9F%D0%B0%D3%82%D0%B8%D0%BD%D0%B0_%D0%BF%D1%80%D0%B8%D0%BD%D1%87%D0%B8%D0%BF%D0%B0%D0%BB%D1%8D\n"
     ]
    },
    {
     "data": {
      "application/vnd.jupyter.widget-view+json": {
       "model_id": "9139b9f8ab5d46539aa904d3514bd776",
       "version_major": 2,
       "version_minor": 0
      },
      "text/plain": [
       "A Jupyter Widget"
      ]
     },
     "metadata": {},
     "output_type": "display_data"
    },
    {
     "name": "stdout",
     "output_type": "stream",
     "text": [
      "\n"
     ]
    },
    {
     "data": {
      "application/vnd.jupyter.widget-view+json": {
       "model_id": "625eb5f4e24047928f9cfc822c7c5c1e",
       "version_major": 2,
       "version_minor": 0
      },
      "text/plain": [
       "A Jupyter Widget"
      ]
     },
     "metadata": {},
     "output_type": "display_data"
    },
    {
     "name": "stdout",
     "output_type": "stream",
     "text": [
      "\n"
     ]
    },
    {
     "data": {
      "application/vnd.jupyter.widget-view+json": {
       "model_id": "f40b7cf9b4334fb3a60f5d19905beb9a",
       "version_major": 2,
       "version_minor": 0
      },
      "text/plain": [
       "A Jupyter Widget"
      ]
     },
     "metadata": {},
     "output_type": "display_data"
    },
    {
     "name": "stdout",
     "output_type": "stream",
     "text": [
      "\n"
     ]
    },
    {
     "data": {
      "application/vnd.jupyter.widget-view+json": {
       "model_id": "a3eeaddab05442a09843a34699b8eb68",
       "version_major": 2,
       "version_minor": 0
      },
      "text/plain": [
       "A Jupyter Widget"
      ]
     },
     "metadata": {},
     "output_type": "display_data"
    },
    {
     "name": "stdout",
     "output_type": "stream",
     "text": [
      "\n"
     ]
    },
    {
     "data": {
      "application/vnd.jupyter.widget-view+json": {
       "model_id": "3eb47da74829488f8e1e026c2c684c84",
       "version_major": 2,
       "version_minor": 0
      },
      "text/plain": [
       "A Jupyter Widget"
      ]
     },
     "metadata": {},
     "output_type": "display_data"
    },
    {
     "name": "stdout",
     "output_type": "stream",
     "text": [
      "\n",
      "http://mo.wikipedia.org/wiki/%D0%9B%D0%B8%D0%BC%D0%B1%D1%8D_%D0%BE%D1%84%D0%B8%D1%87%D0%B8%D0%B0%D0%BB%D1%8D\n",
      "http://mo.wikipedia.org/wiki/%D0%9A%D0%B0%D0%BF%D0%B8%D1%82%D0%B0%D0%BB%D1%8D\n",
      "http://mo.wikipedia.org/wiki/%D0%A1%D0%B8%D1%81%D1%82%D0%B5%D0%BC_%D0%BF%D0%BE%D0%BB%D0%B8%D1%82%D0%B8%D0%BA\n",
      "http://mo.wikipedia.org/wiki/%D0%A0%D0%B5%D0%BF%D1%83%D0%B1%D0%BB%D0%B8%D0%BA%D1%8D\n",
      "http://mo.wikipedia.org/wiki/%D0%A1%D1%83%D0%BF%D1%80%D0%B0%D1%84%D0%B0%D1%86%D1%8D\n",
      "http://mo.wikipedia.org/wiki/%D0%9F%D0%BE%D0%BF%D1%83%D0%BB%D0%B0%D1%86%D0%B8%D0%B5\n",
      "http://mo.wikipedia.org/wiki/%D0%94%D0%B5%D0%BD%D1%81%D0%B8%D1%82%D0%B0%D1%82%D1%8F_%D0%BF%D0%BE%D0%BF%D1%83%D0%BB%D0%B0%D1%86%D0%B8%D0%B5%D0%B9\n",
      "http://mo.wikipedia.org/wiki/%D0%9F%D1%80%D0%BE%D0%B4%D1%83%D1%81_%D0%B8%D0%BD%D1%82%D0%B5%D1%80%D0%BD_%D0%B1%D1%80%D1%83%D1%82\n",
      "http://mo.wikipedia.org/wiki/%D0%9C%D0%BE%D0%BD%D0%B5%D0%B4%D1%8D\n",
      "http://mo.wikipedia.org/wiki/%D0%A4%D1%83%D1%81_%D0%BE%D1%80%D0%B0%D1%80\n",
      "http://mo.wikipedia.org/wiki/%D0%98%D0%BC%D0%BD_%D0%BD%D0%B0%D1%86%D0%B8%D0%BE%D0%BD%D0%B0%D0%BB\n",
      "http://mo.wikipedia.org/wiki/%D0%94%D0%BE%D0%BC%D0%B5%D0%BD%D0%B8%D1%83_%D0%BD%D0%B0%D1%86%D0%B8%D0%BE%D0%BD%D0%B0%D0%BB_%D0%B4%D0%B5_%D0%BD%D0%B8%D0%B2%D0%B5%D0%BB_%D1%81%D1%83%D0%BF%D0%B5%D1%80%D0%B8%D0%BE%D1%80\n",
      "http://mo.wikipedia.org/wiki/%D0%95%D1%83%D1%80%D0%BE%D0%BF%D0%B0\n",
      "http://mo.wikipedia.org/wiki/%D0%A3%D0%BA%D1%80%D0%B0%D0%B8%D0%BD%D0%B0\n",
      "http://mo.wikipedia.org/wiki/%D0%9F%D0%BE%D0%BB%D0%BE%D0%BD%D0%B8%D1%8F\n",
      "http://mo.wikipedia.org/wiki/%D0%A3%D0%BD%D0%B3%D0%B0%D1%80%D0%B8%D1%8F\n",
      "http://mo.wikipedia.org/wiki/1918\n",
      "http://mo.wikipedia.org/wiki/%D0%A3%D0%BD%D0%B8%D1%83%D0%BD%D1%8F_%D0%95%D1%83%D1%80%D0%BE%D0%BF%D1%8F%D0%BD%D1%8D\n",
      "http://mo.wikipedia.org/wiki/2004\n",
      "http://mo.wikipedia.org/wiki/%D0%93%D1%83%D0%B2%D0%B5%D1%80%D0%BD\n",
      "http://mo.wikipedia.org/wiki/%D0%94%D1%83%D0%BD%D1%8D%D1%80%D0%B5\n",
      "http://mo.wikipedia.org/wiki/%D0%94%D1%83%D0%BD%D1%8D%D1%80%D0%B5\n",
      "http://mo.wikipedia.org/wiki/%D0%90%D1%83%D1%81%D1%82%D1%80%D0%B8%D1%8F\n",
      "http://mo.wikipedia.org/wiki/%D0%A3%D0%BD%D0%B3%D0%B0%D1%80%D0%B8%D1%8F\n",
      "http://mo.wikipedia.org/wiki/%D0%A3%D0%BA%D1%80%D0%B0%D0%B8%D0%BD%D0%B0\n",
      "http://mo.wikipedia.org/wiki/2001\n",
      "http://mo.wikipedia.org/wiki/%D0%A1%D0%BB%D0%BE%D0%B2%D0%B0%D1%87%D0%B8%D1%8F\n",
      "http://mo.wikipedia.org/wiki/%D0%A1%D0%BB%D0%BE%D0%B2%D0%B0%D1%87%D0%B8%D1%8F\n",
      "http://mo.wikipedia.org/wiki/%D0%9F%D0%B0%D3%82%D0%B8%D0%BD%D0%B0_%D0%BF%D1%80%D0%B8%D0%BD%D1%87%D0%B8%D0%BF%D0%B0%D0%BB%D1%8D\n",
      "http://mo.wikipedia.org/wiki/%D0%9F%D0%B0%D3%82%D0%B8%D0%BD%D0%B0_%D0%BF%D1%80%D0%B8%D0%BD%D1%87%D0%B8%D0%BF%D0%B0%D0%BB%D1%8D\n"
     ]
    },
    {
     "data": {
      "application/vnd.jupyter.widget-view+json": {
       "model_id": "39d1a2c02c9a468a8877952a6b53689e",
       "version_major": 2,
       "version_minor": 0
      },
      "text/plain": [
       "A Jupyter Widget"
      ]
     },
     "metadata": {},
     "output_type": "display_data"
    },
    {
     "name": "stdout",
     "output_type": "stream",
     "text": [
      "\n"
     ]
    },
    {
     "data": {
      "application/vnd.jupyter.widget-view+json": {
       "model_id": "e7d8ddbf7d984f46af10dc87be882786",
       "version_major": 2,
       "version_minor": 0
      },
      "text/plain": [
       "A Jupyter Widget"
      ]
     },
     "metadata": {},
     "output_type": "display_data"
    },
    {
     "name": "stdout",
     "output_type": "stream",
     "text": [
      "\n"
     ]
    },
    {
     "data": {
      "application/vnd.jupyter.widget-view+json": {
       "model_id": "44498b3630b048858fa8ec9ae724fb59",
       "version_major": 2,
       "version_minor": 0
      },
      "text/plain": [
       "A Jupyter Widget"
      ]
     },
     "metadata": {},
     "output_type": "display_data"
    },
    {
     "name": "stdout",
     "output_type": "stream",
     "text": [
      "\n"
     ]
    },
    {
     "data": {
      "application/vnd.jupyter.widget-view+json": {
       "model_id": "312439b7e3124b7f848ff01717b065d4",
       "version_major": 2,
       "version_minor": 0
      },
      "text/plain": [
       "A Jupyter Widget"
      ]
     },
     "metadata": {},
     "output_type": "display_data"
    },
    {
     "name": "stdout",
     "output_type": "stream",
     "text": [
      "\n"
     ]
    },
    {
     "data": {
      "application/vnd.jupyter.widget-view+json": {
       "model_id": "d484063bf0f64c4ebf18273c7e79fb64",
       "version_major": 2,
       "version_minor": 0
      },
      "text/plain": [
       "A Jupyter Widget"
      ]
     },
     "metadata": {},
     "output_type": "display_data"
    },
    {
     "name": "stdout",
     "output_type": "stream",
     "text": [
      "\n"
     ]
    },
    {
     "data": {
      "application/vnd.jupyter.widget-view+json": {
       "model_id": "9b54d5e0cfb94e0bbed5181391ff8e1c",
       "version_major": 2,
       "version_minor": 0
      },
      "text/plain": [
       "A Jupyter Widget"
      ]
     },
     "metadata": {},
     "output_type": "display_data"
    },
    {
     "name": "stdout",
     "output_type": "stream",
     "text": [
      "\n"
     ]
    },
    {
     "data": {
      "application/vnd.jupyter.widget-view+json": {
       "model_id": "8acb1cae647e4e13ba2929d95a0d08bf",
       "version_major": 2,
       "version_minor": 0
      },
      "text/plain": [
       "A Jupyter Widget"
      ]
     },
     "metadata": {},
     "output_type": "display_data"
    },
    {
     "name": "stdout",
     "output_type": "stream",
     "text": [
      "\n"
     ]
    },
    {
     "data": {
      "application/vnd.jupyter.widget-view+json": {
       "model_id": "54220f6b46f941cc9c9a1dbc1694e031",
       "version_major": 2,
       "version_minor": 0
      },
      "text/plain": [
       "A Jupyter Widget"
      ]
     },
     "metadata": {},
     "output_type": "display_data"
    },
    {
     "name": "stdout",
     "output_type": "stream",
     "text": [
      "\n",
      "http://mo.wikipedia.org/wiki/%D0%95%D1%83%D1%80%D0%BE%D0%BF%D0%B0\n",
      "http://mo.wikipedia.org/wiki/%D0%90%D1%83%D1%81%D1%82%D1%80%D0%B8%D1%8F\n",
      "http://mo.wikipedia.org/wiki/%D0%90%D1%83%D1%81%D1%82%D1%80%D0%B8%D1%8F\n",
      "http://mo.wikipedia.org/wiki/%D0%9F%D0%B0%D3%82%D0%B8%D0%BD%D0%B0_%D0%BF%D1%80%D0%B8%D0%BD%D1%87%D0%B8%D0%BF%D0%B0%D0%BB%D1%8D\n",
      "http://mo.wikipedia.org/wiki/%D0%9F%D0%B0%D3%82%D0%B8%D0%BD%D0%B0_%D0%BF%D1%80%D0%B8%D0%BD%D1%87%D0%B8%D0%BF%D0%B0%D0%BB%D1%8D\n"
     ]
    },
    {
     "data": {
      "application/vnd.jupyter.widget-view+json": {
       "model_id": "20bdf1a36c9349f2a8b1b262f430a5b0",
       "version_major": 2,
       "version_minor": 0
      },
      "text/plain": [
       "A Jupyter Widget"
      ]
     },
     "metadata": {},
     "output_type": "display_data"
    },
    {
     "name": "stdout",
     "output_type": "stream",
     "text": [
      "\n"
     ]
    },
    {
     "data": {
      "application/vnd.jupyter.widget-view+json": {
       "model_id": "bfa811cb8d1646568156769e83ea2b68",
       "version_major": 2,
       "version_minor": 0
      },
      "text/plain": [
       "A Jupyter Widget"
      ]
     },
     "metadata": {},
     "output_type": "display_data"
    },
    {
     "name": "stdout",
     "output_type": "stream",
     "text": [
      "\n"
     ]
    },
    {
     "data": {
      "application/vnd.jupyter.widget-view+json": {
       "model_id": "12444bdafbe3469fbfb0741c9d99c2cd",
       "version_major": 2,
       "version_minor": 0
      },
      "text/plain": [
       "A Jupyter Widget"
      ]
     },
     "metadata": {},
     "output_type": "display_data"
    },
    {
     "name": "stdout",
     "output_type": "stream",
     "text": [
      "\n"
     ]
    },
    {
     "data": {
      "application/vnd.jupyter.widget-view+json": {
       "model_id": "5c8807e571b24c3cbdc0de1a3197191c",
       "version_major": 2,
       "version_minor": 0
      },
      "text/plain": [
       "A Jupyter Widget"
      ]
     },
     "metadata": {},
     "output_type": "display_data"
    },
    {
     "name": "stdout",
     "output_type": "stream",
     "text": [
      "\n"
     ]
    },
    {
     "data": {
      "application/vnd.jupyter.widget-view+json": {
       "model_id": "95f42c953ba74b9b809515ee1de2ea85",
       "version_major": 2,
       "version_minor": 0
      },
      "text/plain": [
       "A Jupyter Widget"
      ]
     },
     "metadata": {},
     "output_type": "display_data"
    },
    {
     "name": "stdout",
     "output_type": "stream",
     "text": [
      "\n"
     ]
    },
    {
     "data": {
      "application/vnd.jupyter.widget-view+json": {
       "model_id": "088f764e145d420cadc04b3cb01f8b36",
       "version_major": 2,
       "version_minor": 0
      },
      "text/plain": [
       "A Jupyter Widget"
      ]
     },
     "metadata": {},
     "output_type": "display_data"
    },
    {
     "name": "stdout",
     "output_type": "stream",
     "text": [
      "\n"
     ]
    },
    {
     "data": {
      "application/vnd.jupyter.widget-view+json": {
       "model_id": "e5b01860a27e4b7e8b65f07d8fd32206",
       "version_major": 2,
       "version_minor": 0
      },
      "text/plain": [
       "A Jupyter Widget"
      ]
     },
     "metadata": {},
     "output_type": "display_data"
    },
    {
     "name": "stdout",
     "output_type": "stream",
     "text": [
      "\n"
     ]
    },
    {
     "data": {
      "application/vnd.jupyter.widget-view+json": {
       "model_id": "ba2995393e3f4e0db9d89f13eecaecbe",
       "version_major": 2,
       "version_minor": 0
      },
      "text/plain": [
       "A Jupyter Widget"
      ]
     },
     "metadata": {},
     "output_type": "display_data"
    },
    {
     "name": "stdout",
     "output_type": "stream",
     "text": [
      "\n"
     ]
    },
    {
     "data": {
      "application/vnd.jupyter.widget-view+json": {
       "model_id": "b15a2e3286484e419d2ff3acb006f23a",
       "version_major": 2,
       "version_minor": 0
      },
      "text/plain": [
       "A Jupyter Widget"
      ]
     },
     "metadata": {},
     "output_type": "display_data"
    },
    {
     "name": "stdout",
     "output_type": "stream",
     "text": [
      "\n"
     ]
    },
    {
     "data": {
      "application/vnd.jupyter.widget-view+json": {
       "model_id": "9984d61930244d2fb2cee71d3abb67cb",
       "version_major": 2,
       "version_minor": 0
      },
      "text/plain": [
       "A Jupyter Widget"
      ]
     },
     "metadata": {},
     "output_type": "display_data"
    },
    {
     "name": "stdout",
     "output_type": "stream",
     "text": [
      "\n"
     ]
    },
    {
     "data": {
      "application/vnd.jupyter.widget-view+json": {
       "model_id": "e3a7967faa8843eabd8ba956103d4f95",
       "version_major": 2,
       "version_minor": 0
      },
      "text/plain": [
       "A Jupyter Widget"
      ]
     },
     "metadata": {},
     "output_type": "display_data"
    },
    {
     "name": "stdout",
     "output_type": "stream",
     "text": [
      "\n"
     ]
    },
    {
     "data": {
      "application/vnd.jupyter.widget-view+json": {
       "model_id": "da31b23e878646058f3a49d20f53e6e2",
       "version_major": 2,
       "version_minor": 0
      },
      "text/plain": [
       "A Jupyter Widget"
      ]
     },
     "metadata": {},
     "output_type": "display_data"
    },
    {
     "name": "stdout",
     "output_type": "stream",
     "text": [
      "\n"
     ]
    },
    {
     "data": {
      "application/vnd.jupyter.widget-view+json": {
       "model_id": "5b7177835c4f437db21020167bd3cd92",
       "version_major": 2,
       "version_minor": 0
      },
      "text/plain": [
       "A Jupyter Widget"
      ]
     },
     "metadata": {},
     "output_type": "display_data"
    },
    {
     "name": "stdout",
     "output_type": "stream",
     "text": [
      "\n",
      "http://mo.wikipedia.org/wiki/%D0%95%D1%83%D1%80%D0%BE%D0%BF%D0%B0\n",
      "http://mo.wikipedia.org/wiki/%D0%91%D0%B5%D0%BB%D0%B0%D1%80%D1%83%D1%81\n",
      "http://mo.wikipedia.org/wiki/%D0%A3%D0%BA%D1%80%D0%B0%D0%B8%D0%BD%D0%B0\n",
      "http://mo.wikipedia.org/wiki/%D0%9B%D0%B8%D1%82%D1%83%D0%B0%D0%BD%D0%B8%D1%8F\n",
      "http://mo.wikipedia.org/wiki/%D3%81%D0%B5%D1%80%D0%BC%D0%B0%D0%BD%D0%B8%D1%8F\n",
      "http://mo.wikipedia.org/wiki/%D0%A1%D0%BB%D0%BE%D0%B2%D0%B0%D1%87%D0%B8%D1%8F\n",
      "http://mo.wikipedia.org/wiki/%D0%A0%D1%83%D1%81%D0%B8%D1%8F\n",
      "http://mo.wikipedia.org/wiki/%D0%9A%D0%B0%D0%BB%D0%B8%D0%BD%D0%B8%D0%BD%D0%B3%D1%80%D0%B0%D0%B4\n",
      "http://mo.wikipedia.org/wiki/%D0%9B%D0%B8%D0%BC%D0%B1%D1%8D_%D0%BE%D1%84%D0%B8%D1%87%D0%B8%D0%B0%D0%BB%D1%8D\n",
      "http://mo.wikipedia.org/wiki/%D0%9A%D0%B0%D0%BF%D0%B8%D1%82%D0%B0%D0%BB%D1%8D\n",
      "http://mo.wikipedia.org/wiki/%D0%92%D0%B0%D1%80%D1%88%D0%BE%D0%B2%D0%B8%D1%8F\n",
      "http://mo.wikipedia.org/wiki/%D0%A1%D0%B8%D1%81%D1%82%D0%B5%D0%BC_%D0%BF%D0%BE%D0%BB%D0%B8%D1%82%D0%B8%D0%BA\n",
      "http://mo.wikipedia.org/wiki/%D0%A1%D1%83%D0%BF%D1%80%D0%B0%D1%84%D0%B0%D1%86%D1%8D\n",
      "http://mo.wikipedia.org/wiki/%D0%9F%D0%BE%D0%BF%D1%83%D0%BB%D0%B0%D1%86%D0%B8%D0%B5\n",
      "http://mo.wikipedia.org/wiki/%D0%94%D0%B5%D0%BD%D1%81%D0%B8%D1%82%D0%B0%D1%82%D1%8F_%D0%BF%D0%BE%D0%BF%D1%83%D0%BB%D0%B0%D1%86%D0%B8%D0%B5%D0%B9\n",
      "http://mo.wikipedia.org/wiki/%D0%9F%D1%80%D0%BE%D0%B4%D1%83%D1%81_%D0%B8%D0%BD%D1%82%D0%B5%D1%80%D0%BD_%D0%B1%D1%80%D1%83%D1%82\n",
      "http://mo.wikipedia.org/wiki/%D0%9C%D0%BE%D0%BD%D0%B5%D0%B4%D1%8D\n",
      "http://mo.wikipedia.org/wiki/%D0%A4%D1%83%D1%81_%D0%BE%D1%80%D0%B0%D1%80\n",
      "http://mo.wikipedia.org/wiki/%D0%98%D0%BC%D0%BD_%D0%BD%D0%B0%D1%86%D0%B8%D0%BE%D0%BD%D0%B0%D0%BB\n",
      "http://mo.wikipedia.org/wiki/%D0%94%D0%BE%D0%BC%D0%B5%D0%BD%D0%B8%D1%83_%D0%BD%D0%B0%D1%86%D0%B8%D0%BE%D0%BD%D0%B0%D0%BB_%D0%B4%D0%B5_%D0%BD%D0%B8%D0%B2%D0%B5%D0%BB_%D1%81%D1%83%D0%BF%D0%B5%D1%80%D0%B8%D0%BE%D1%80\n",
      "http://mo.wikipedia.org/wiki/%D0%92%D0%B0%D1%80%D1%88%D0%BE%D0%B2%D0%B8%D1%8F\n",
      "http://mo.wikipedia.org/wiki/%D0%9A%D1%80%D0%B0%D0%BA%D0%BE%D0%B2%D0%B8%D1%8F\n",
      "http://mo.wikipedia.org/wiki/%D0%A8%D1%87%D0%B5%D1%86%D0%B8%D0%BD\n",
      "http://mo.wikipedia.org/wiki/%D0%9B%D0%B8%D1%81%D1%82%D1%8D_%D0%B4%D0%B5_%D0%BE%D1%80%D0%B0%D1%88%D0%B5_%D0%B4%D0%B8%D0%BD_%D0%9F%D0%BE%D0%BB%D0%BE%D0%BD%D0%B8%D1%8F\n",
      "http://mo.wikipedia.org/wiki/%D0%9F%D0%BE%D0%BB%D0%BE%D0%BD%D0%B8%D1%8F\n",
      "http://mo.wikipedia.org/wiki/%D0%9F%D0%BE%D0%BB%D0%BE%D0%BD%D0%B8%D1%8F\n",
      "http://mo.wikipedia.org/wiki/%D0%9F%D0%B0%D3%82%D0%B8%D0%BD%D0%B0_%D0%BF%D1%80%D0%B8%D0%BD%D1%87%D0%B8%D0%BF%D0%B0%D0%BB%D1%8D\n",
      "http://mo.wikipedia.org/wiki/%D0%9F%D0%B0%D3%82%D0%B8%D0%BD%D0%B0_%D0%BF%D1%80%D0%B8%D0%BD%D1%87%D0%B8%D0%BF%D0%B0%D0%BB%D1%8D\n"
     ]
    },
    {
     "data": {
      "application/vnd.jupyter.widget-view+json": {
       "model_id": "779b532d7b824903abee039f10f48d6d",
       "version_major": 2,
       "version_minor": 0
      },
      "text/plain": [
       "A Jupyter Widget"
      ]
     },
     "metadata": {},
     "output_type": "display_data"
    },
    {
     "name": "stdout",
     "output_type": "stream",
     "text": [
      "\n"
     ]
    },
    {
     "data": {
      "application/vnd.jupyter.widget-view+json": {
       "model_id": "08ddcefa562e432ab4377a9ff36bebc5",
       "version_major": 2,
       "version_minor": 0
      },
      "text/plain": [
       "A Jupyter Widget"
      ]
     },
     "metadata": {},
     "output_type": "display_data"
    },
    {
     "name": "stdout",
     "output_type": "stream",
     "text": [
      "\n"
     ]
    },
    {
     "data": {
      "application/vnd.jupyter.widget-view+json": {
       "model_id": "6974cf499a364b73bfb014f2a3b5f07a",
       "version_major": 2,
       "version_minor": 0
      },
      "text/plain": [
       "A Jupyter Widget"
      ]
     },
     "metadata": {},
     "output_type": "display_data"
    },
    {
     "name": "stdout",
     "output_type": "stream",
     "text": [
      "\n"
     ]
    },
    {
     "data": {
      "application/vnd.jupyter.widget-view+json": {
       "model_id": "9fc9e99cf561450eb10f7daaabfa0fa6",
       "version_major": 2,
       "version_minor": 0
      },
      "text/plain": [
       "A Jupyter Widget"
      ]
     },
     "metadata": {},
     "output_type": "display_data"
    },
    {
     "name": "stdout",
     "output_type": "stream",
     "text": [
      "\n"
     ]
    },
    {
     "data": {
      "application/vnd.jupyter.widget-view+json": {
       "model_id": "2e41c5590ac04f8899a771d35a26cf7e",
       "version_major": 2,
       "version_minor": 0
      },
      "text/plain": [
       "A Jupyter Widget"
      ]
     },
     "metadata": {},
     "output_type": "display_data"
    },
    {
     "name": "stdout",
     "output_type": "stream",
     "text": [
      "\n",
      "http://mo.wikipedia.org/wiki/%D0%9F%D0%BE%D0%BB%D0%BE%D0%BD%D0%B8%D1%8F\n",
      "http://mo.wikipedia.org/wiki/%D0%92%D0%B0%D1%80%D1%88%D0%BE%D0%B2%D0%B8%D1%8F\n",
      "http://mo.wikipedia.org/wiki/%D0%9A%D1%80%D0%B0%D0%BA%D0%BE%D0%B2%D0%B8%D1%8F\n",
      "http://mo.wikipedia.org/wiki/%D0%A8%D1%87%D0%B5%D1%86%D0%B8%D0%BD\n",
      "http://mo.wikipedia.org/wiki/%D0%91%D1%8F%D0%BB%D0%B8%D1%81%D1%82%D0%BE%D0%BA\n",
      "http://mo.wikipedia.org/wiki/%D0%A1%D0%BB%D1%83%D0%BF%D1%81%D0%BA\n",
      "http://mo.wikipedia.org/wiki/%D0%9B%D0%B8%D1%81%D1%82%D1%8D_%D0%B4%D0%B5_%D0%BE%D1%80%D0%B0%D1%88%D0%B5_%D0%B4%D0%B8%D0%BD_%D0%9F%D0%BE%D0%BB%D0%BE%D0%BD%D0%B8%D1%8F\n",
      "http://mo.wikipedia.org/wiki/%D0%9B%D0%B8%D1%81%D1%82%D1%8D_%D0%B4%D0%B5_%D0%BE%D1%80%D0%B0%D1%88%D0%B5_%D0%B4%D0%B8%D0%BD_%D0%9F%D0%BE%D0%BB%D0%BE%D0%BD%D0%B8%D1%8F\n",
      "http://mo.wikipedia.org/wiki/%D0%9F%D0%B0%D3%82%D0%B8%D0%BD%D0%B0_%D0%BF%D1%80%D0%B8%D0%BD%D1%87%D0%B8%D0%BF%D0%B0%D0%BB%D1%8D\n",
      "http://mo.wikipedia.org/wiki/%D0%9F%D0%B0%D3%82%D0%B8%D0%BD%D0%B0_%D0%BF%D1%80%D0%B8%D0%BD%D1%87%D0%B8%D0%BF%D0%B0%D0%BB%D1%8D\n"
     ]
    },
    {
     "data": {
      "application/vnd.jupyter.widget-view+json": {
       "model_id": "b4501a7c6ffc4fd6874f837231c6fd19",
       "version_major": 2,
       "version_minor": 0
      },
      "text/plain": [
       "A Jupyter Widget"
      ]
     },
     "metadata": {},
     "output_type": "display_data"
    },
    {
     "name": "stdout",
     "output_type": "stream",
     "text": [
      "\n"
     ]
    },
    {
     "data": {
      "application/vnd.jupyter.widget-view+json": {
       "model_id": "2011c30afc024d0792e7dd10c0fe8466",
       "version_major": 2,
       "version_minor": 0
      },
      "text/plain": [
       "A Jupyter Widget"
      ]
     },
     "metadata": {},
     "output_type": "display_data"
    },
    {
     "name": "stdout",
     "output_type": "stream",
     "text": [
      "\n"
     ]
    },
    {
     "data": {
      "application/vnd.jupyter.widget-view+json": {
       "model_id": "77dbc817b26549bf9557dfcee1e1a303",
       "version_major": 2,
       "version_minor": 0
      },
      "text/plain": [
       "A Jupyter Widget"
      ]
     },
     "metadata": {},
     "output_type": "display_data"
    },
    {
     "name": "stdout",
     "output_type": "stream",
     "text": [
      "\n"
     ]
    },
    {
     "data": {
      "application/vnd.jupyter.widget-view+json": {
       "model_id": "134bded61d934f6aa48e992486232875",
       "version_major": 2,
       "version_minor": 0
      },
      "text/plain": [
       "A Jupyter Widget"
      ]
     },
     "metadata": {},
     "output_type": "display_data"
    },
    {
     "name": "stdout",
     "output_type": "stream",
     "text": [
      "\n"
     ]
    },
    {
     "data": {
      "application/vnd.jupyter.widget-view+json": {
       "model_id": "2848bc896693482a8532654448180bcd",
       "version_major": 2,
       "version_minor": 0
      },
      "text/plain": [
       "A Jupyter Widget"
      ]
     },
     "metadata": {},
     "output_type": "display_data"
    },
    {
     "name": "stdout",
     "output_type": "stream",
     "text": [
      "\n",
      "http://mo.wikipedia.org/wiki/%D0%9F%D0%BE%D0%BB%D0%BE%D0%BD%D0%B8%D1%8F\n",
      "http://mo.wikipedia.org/wiki/%D0%A1%D0%BB%D1%83%D0%BF%D1%81%D0%BA\n",
      "http://mo.wikipedia.org/wiki/%D0%A1%D0%BB%D1%83%D0%BF%D1%81%D0%BA\n",
      "http://mo.wikipedia.org/wiki/%D0%9F%D0%B0%D3%82%D0%B8%D0%BD%D0%B0_%D0%BF%D1%80%D0%B8%D0%BD%D1%87%D0%B8%D0%BF%D0%B0%D0%BB%D1%8D\n",
      "http://mo.wikipedia.org/wiki/%D0%9F%D0%B0%D3%82%D0%B8%D0%BD%D0%B0_%D0%BF%D1%80%D0%B8%D0%BD%D1%87%D0%B8%D0%BF%D0%B0%D0%BB%D1%8D\n"
     ]
    },
    {
     "data": {
      "application/vnd.jupyter.widget-view+json": {
       "model_id": "c0d16120084a43ff96974a5c29763169",
       "version_major": 2,
       "version_minor": 0
      },
      "text/plain": [
       "A Jupyter Widget"
      ]
     },
     "metadata": {},
     "output_type": "display_data"
    },
    {
     "name": "stdout",
     "output_type": "stream",
     "text": [
      "\n"
     ]
    },
    {
     "data": {
      "application/vnd.jupyter.widget-view+json": {
       "model_id": "6454c7f5aaf94a37b98595a40364bf4b",
       "version_major": 2,
       "version_minor": 0
      },
      "text/plain": [
       "A Jupyter Widget"
      ]
     },
     "metadata": {},
     "output_type": "display_data"
    },
    {
     "name": "stdout",
     "output_type": "stream",
     "text": [
      "\n"
     ]
    },
    {
     "data": {
      "application/vnd.jupyter.widget-view+json": {
       "model_id": "1412365ef005491183fdae521898b579",
       "version_major": 2,
       "version_minor": 0
      },
      "text/plain": [
       "A Jupyter Widget"
      ]
     },
     "metadata": {},
     "output_type": "display_data"
    },
    {
     "name": "stdout",
     "output_type": "stream",
     "text": [
      "\n"
     ]
    },
    {
     "data": {
      "application/vnd.jupyter.widget-view+json": {
       "model_id": "512e1d450c934a1794b0457fa5b9f1ed",
       "version_major": 2,
       "version_minor": 0
      },
      "text/plain": [
       "A Jupyter Widget"
      ]
     },
     "metadata": {},
     "output_type": "display_data"
    },
    {
     "name": "stdout",
     "output_type": "stream",
     "text": [
      "\n"
     ]
    },
    {
     "data": {
      "application/vnd.jupyter.widget-view+json": {
       "model_id": "55355fb4d52742958cbfb58723bcc39d",
       "version_major": 2,
       "version_minor": 0
      },
      "text/plain": [
       "A Jupyter Widget"
      ]
     },
     "metadata": {},
     "output_type": "display_data"
    },
    {
     "name": "stdout",
     "output_type": "stream",
     "text": [
      "\n"
     ]
    },
    {
     "data": {
      "application/vnd.jupyter.widget-view+json": {
       "model_id": "2fe3f878d70d40f9bfd8c60038486339",
       "version_major": 2,
       "version_minor": 0
      },
      "text/plain": [
       "A Jupyter Widget"
      ]
     },
     "metadata": {},
     "output_type": "display_data"
    },
    {
     "name": "stdout",
     "output_type": "stream",
     "text": [
      "\n",
      "http://mo.wikipedia.org/wiki/%D0%9F%D0%BE%D0%BB%D0%BE%D0%BD%D0%B8%D1%8F\n",
      "http://mo.wikipedia.org/wiki/%D0%9B%D0%B8%D1%81%D1%82%D1%8D_%D0%B4%D0%B5_%D0%BE%D1%80%D0%B0%D1%88%D0%B5_%D0%B4%D0%B8%D0%BD_%D0%9F%D0%BE%D0%BB%D0%BE%D0%BD%D0%B8%D1%8F\n",
      "http://mo.wikipedia.org/wiki/%D0%91%D0%B5%D0%BB%D0%BE%D1%81%D1%82%D0%BE%D0%BA\n",
      "http://mo.wikipedia.org/wiki/%D0%91%D0%B5%D0%BB%D0%BE%D1%81%D1%82%D0%BE%D0%BA\n",
      "http://mo.wikipedia.org/wiki/%D0%9F%D0%B0%D3%82%D0%B8%D0%BD%D0%B0_%D0%BF%D1%80%D0%B8%D0%BD%D1%87%D0%B8%D0%BF%D0%B0%D0%BB%D1%8D\n",
      "http://mo.wikipedia.org/wiki/%D0%9F%D0%B0%D3%82%D0%B8%D0%BD%D0%B0_%D0%BF%D1%80%D0%B8%D0%BD%D1%87%D0%B8%D0%BF%D0%B0%D0%BB%D1%8D\n"
     ]
    },
    {
     "data": {
      "application/vnd.jupyter.widget-view+json": {
       "model_id": "8e1e660b4de542099af315af2c93d06a",
       "version_major": 2,
       "version_minor": 0
      },
      "text/plain": [
       "A Jupyter Widget"
      ]
     },
     "metadata": {},
     "output_type": "display_data"
    },
    {
     "name": "stdout",
     "output_type": "stream",
     "text": [
      "\n"
     ]
    },
    {
     "data": {
      "application/vnd.jupyter.widget-view+json": {
       "model_id": "5c2d3511d5094ab8b835191ed4f0f495",
       "version_major": 2,
       "version_minor": 0
      },
      "text/plain": [
       "A Jupyter Widget"
      ]
     },
     "metadata": {},
     "output_type": "display_data"
    },
    {
     "name": "stdout",
     "output_type": "stream",
     "text": [
      "\n"
     ]
    },
    {
     "data": {
      "application/vnd.jupyter.widget-view+json": {
       "model_id": "2d1338906c8a4ac8aa54a23dcc63d2d7",
       "version_major": 2,
       "version_minor": 0
      },
      "text/plain": [
       "A Jupyter Widget"
      ]
     },
     "metadata": {},
     "output_type": "display_data"
    },
    {
     "name": "stdout",
     "output_type": "stream",
     "text": [
      "\n",
      "http://mo.wikipedia.org/wiki/%D0%9F%D0%BE%D0%BB%D0%BE%D0%BD%D0%B8%D1%8F\n",
      "http://mo.wikipedia.org/wiki/%D0%9B%D0%B8%D1%81%D1%82%D1%8D_%D0%B4%D0%B5_%D0%BE%D1%80%D0%B0%D1%88%D0%B5_%D0%B4%D0%B8%D0%BD_%D0%9F%D0%BE%D0%BB%D0%BE%D0%BD%D0%B8%D1%8F\n",
      "http://mo.wikipedia.org/wiki/%D0%91%D0%B5%D0%BB%D0%BE%D1%81%D1%82%D0%BE%D0%BA\n",
      "http://mo.wikipedia.org/wiki/%D0%91%D0%B5%D0%BB%D0%BE%D1%81%D1%82%D0%BE%D0%BA\n",
      "http://mo.wikipedia.org/wiki/%D0%9F%D0%B0%D3%82%D0%B8%D0%BD%D0%B0_%D0%BF%D1%80%D0%B8%D0%BD%D1%87%D0%B8%D0%BF%D0%B0%D0%BB%D1%8D\n",
      "http://mo.wikipedia.org/wiki/%D0%9F%D0%B0%D3%82%D0%B8%D0%BD%D0%B0_%D0%BF%D1%80%D0%B8%D0%BD%D1%87%D0%B8%D0%BF%D0%B0%D0%BB%D1%8D\n"
     ]
    },
    {
     "data": {
      "application/vnd.jupyter.widget-view+json": {
       "model_id": "1b975b86786e4bd8a68aad2cb5b59397",
       "version_major": 2,
       "version_minor": 0
      },
      "text/plain": [
       "A Jupyter Widget"
      ]
     },
     "metadata": {},
     "output_type": "display_data"
    },
    {
     "name": "stdout",
     "output_type": "stream",
     "text": [
      "\n"
     ]
    },
    {
     "data": {
      "application/vnd.jupyter.widget-view+json": {
       "model_id": "275b3020183d4a3880742660c80d9e6f",
       "version_major": 2,
       "version_minor": 0
      },
      "text/plain": [
       "A Jupyter Widget"
      ]
     },
     "metadata": {},
     "output_type": "display_data"
    },
    {
     "name": "stdout",
     "output_type": "stream",
     "text": [
      "\n"
     ]
    },
    {
     "data": {
      "application/vnd.jupyter.widget-view+json": {
       "model_id": "1c3e4d7ac4ff4076b67c0c7332326ff8",
       "version_major": 2,
       "version_minor": 0
      },
      "text/plain": [
       "A Jupyter Widget"
      ]
     },
     "metadata": {},
     "output_type": "display_data"
    },
    {
     "name": "stdout",
     "output_type": "stream",
     "text": [
      "\n"
     ]
    },
    {
     "data": {
      "application/vnd.jupyter.widget-view+json": {
       "model_id": "baa59fc6ad4e487186cca1b4b858d9b2",
       "version_major": 2,
       "version_minor": 0
      },
      "text/plain": [
       "A Jupyter Widget"
      ]
     },
     "metadata": {},
     "output_type": "display_data"
    },
    {
     "name": "stdout",
     "output_type": "stream",
     "text": [
      "\n"
     ]
    },
    {
     "data": {
      "application/vnd.jupyter.widget-view+json": {
       "model_id": "c2c6462ee580432fa19c0b64210cfe7a",
       "version_major": 2,
       "version_minor": 0
      },
      "text/plain": [
       "A Jupyter Widget"
      ]
     },
     "metadata": {},
     "output_type": "display_data"
    },
    {
     "name": "stdout",
     "output_type": "stream",
     "text": [
      "\n"
     ]
    },
    {
     "data": {
      "application/vnd.jupyter.widget-view+json": {
       "model_id": "2ea694d961c34cddb0cb2f8a3d609a1b",
       "version_major": 2,
       "version_minor": 0
      },
      "text/plain": [
       "A Jupyter Widget"
      ]
     },
     "metadata": {},
     "output_type": "display_data"
    },
    {
     "name": "stdout",
     "output_type": "stream",
     "text": [
      "\n"
     ]
    },
    {
     "data": {
      "application/vnd.jupyter.widget-view+json": {
       "model_id": "024e8ae3dbf94e13be16bcfb98125413",
       "version_major": 2,
       "version_minor": 0
      },
      "text/plain": [
       "A Jupyter Widget"
      ]
     },
     "metadata": {},
     "output_type": "display_data"
    },
    {
     "name": "stdout",
     "output_type": "stream",
     "text": [
      "\n"
     ]
    },
    {
     "data": {
      "application/vnd.jupyter.widget-view+json": {
       "model_id": "77561c9bf0144c3684b21ffaad6d481c",
       "version_major": 2,
       "version_minor": 0
      },
      "text/plain": [
       "A Jupyter Widget"
      ]
     },
     "metadata": {},
     "output_type": "display_data"
    },
    {
     "name": "stdout",
     "output_type": "stream",
     "text": [
      "\n"
     ]
    },
    {
     "data": {
      "application/vnd.jupyter.widget-view+json": {
       "model_id": "84e49bff2840455382cee4a8bb3dfad5",
       "version_major": 2,
       "version_minor": 0
      },
      "text/plain": [
       "A Jupyter Widget"
      ]
     },
     "metadata": {},
     "output_type": "display_data"
    },
    {
     "name": "stdout",
     "output_type": "stream",
     "text": [
      "\n"
     ]
    },
    {
     "data": {
      "application/vnd.jupyter.widget-view+json": {
       "model_id": "64bcabcd54114980ae3be1b2be847a24",
       "version_major": 2,
       "version_minor": 0
      },
      "text/plain": [
       "A Jupyter Widget"
      ]
     },
     "metadata": {},
     "output_type": "display_data"
    },
    {
     "name": "stdout",
     "output_type": "stream",
     "text": [
      "\n",
      "http://mo.wikipedia.org/wiki/%D0%9F%D0%BE%D0%BB%D0%BE%D0%BD%D0%B8%D1%8F\n",
      "http://mo.wikipedia.org/wiki/%D0%A8%D1%87%D0%B5%D1%86%D0%B8%D0%BD\n",
      "http://mo.wikipedia.org/wiki/%D0%A8%D1%87%D0%B5%D1%86%D0%B8%D0%BD\n",
      "http://mo.wikipedia.org/wiki/%D0%9F%D0%B0%D3%82%D0%B8%D0%BD%D0%B0_%D0%BF%D1%80%D0%B8%D0%BD%D1%87%D0%B8%D0%BF%D0%B0%D0%BB%D1%8D\n",
      "http://mo.wikipedia.org/wiki/%D0%9F%D0%B0%D3%82%D0%B8%D0%BD%D0%B0_%D0%BF%D1%80%D0%B8%D0%BD%D1%87%D0%B8%D0%BF%D0%B0%D0%BB%D1%8D\n"
     ]
    },
    {
     "data": {
      "application/vnd.jupyter.widget-view+json": {
       "model_id": "c3357628f2804c8eb0bcfb5aa6cf196b",
       "version_major": 2,
       "version_minor": 0
      },
      "text/plain": [
       "A Jupyter Widget"
      ]
     },
     "metadata": {},
     "output_type": "display_data"
    },
    {
     "name": "stdout",
     "output_type": "stream",
     "text": [
      "\n"
     ]
    },
    {
     "data": {
      "application/vnd.jupyter.widget-view+json": {
       "model_id": "76bbff455d9c49a8a7f30b7cabd8752a",
       "version_major": 2,
       "version_minor": 0
      },
      "text/plain": [
       "A Jupyter Widget"
      ]
     },
     "metadata": {},
     "output_type": "display_data"
    },
    {
     "name": "stdout",
     "output_type": "stream",
     "text": [
      "\n"
     ]
    },
    {
     "data": {
      "application/vnd.jupyter.widget-view+json": {
       "model_id": "ae7cc572b3c34767b6855f0347673964",
       "version_major": 2,
       "version_minor": 0
      },
      "text/plain": [
       "A Jupyter Widget"
      ]
     },
     "metadata": {},
     "output_type": "display_data"
    },
    {
     "name": "stdout",
     "output_type": "stream",
     "text": [
      "\n"
     ]
    },
    {
     "data": {
      "application/vnd.jupyter.widget-view+json": {
       "model_id": "2de0938177f4418fbe66d921fd6add4f",
       "version_major": 2,
       "version_minor": 0
      },
      "text/plain": [
       "A Jupyter Widget"
      ]
     },
     "metadata": {},
     "output_type": "display_data"
    },
    {
     "name": "stdout",
     "output_type": "stream",
     "text": [
      "\n"
     ]
    },
    {
     "data": {
      "application/vnd.jupyter.widget-view+json": {
       "model_id": "c812e4ebe116416ca5012110ff46e50f",
       "version_major": 2,
       "version_minor": 0
      },
      "text/plain": [
       "A Jupyter Widget"
      ]
     },
     "metadata": {},
     "output_type": "display_data"
    },
    {
     "name": "stdout",
     "output_type": "stream",
     "text": [
      "\n"
     ]
    },
    {
     "data": {
      "application/vnd.jupyter.widget-view+json": {
       "model_id": "c8697ab9d9e4462da5bcfe505ff115e8",
       "version_major": 2,
       "version_minor": 0
      },
      "text/plain": [
       "A Jupyter Widget"
      ]
     },
     "metadata": {},
     "output_type": "display_data"
    },
    {
     "name": "stdout",
     "output_type": "stream",
     "text": [
      "\n",
      "http://mo.wikipedia.org/wiki/%D0%9A%D1%80%D0%B0%D0%BA%D0%BE%D0%B2%D0%B8%D1%8F\n",
      "http://mo.wikipedia.org/wiki/%D0%9A%D1%80%D0%B0%D0%BA%D0%BE%D0%B2%D0%B8%D1%8F\n",
      "http://mo.wikipedia.org/wiki/%D0%9F%D0%B0%D3%82%D0%B8%D0%BD%D0%B0_%D0%BF%D1%80%D0%B8%D0%BD%D1%87%D0%B8%D0%BF%D0%B0%D0%BB%D1%8D\n",
      "http://mo.wikipedia.org/wiki/%D0%9F%D0%B0%D3%82%D0%B8%D0%BD%D0%B0_%D0%BF%D1%80%D0%B8%D0%BD%D1%87%D0%B8%D0%BF%D0%B0%D0%BB%D1%8D\n"
     ]
    },
    {
     "data": {
      "application/vnd.jupyter.widget-view+json": {
       "model_id": "3b8315c7285640c298bdf2ba2f1bc470",
       "version_major": 2,
       "version_minor": 0
      },
      "text/plain": [
       "A Jupyter Widget"
      ]
     },
     "metadata": {},
     "output_type": "display_data"
    },
    {
     "name": "stdout",
     "output_type": "stream",
     "text": [
      "\n"
     ]
    },
    {
     "data": {
      "application/vnd.jupyter.widget-view+json": {
       "model_id": "878cf61e9b6d4a4cad7be8e3f276caa4",
       "version_major": 2,
       "version_minor": 0
      },
      "text/plain": [
       "A Jupyter Widget"
      ]
     },
     "metadata": {},
     "output_type": "display_data"
    },
    {
     "name": "stdout",
     "output_type": "stream",
     "text": [
      "\n"
     ]
    },
    {
     "data": {
      "application/vnd.jupyter.widget-view+json": {
       "model_id": "c7881478701744b69c6bdc44bc67c3ba",
       "version_major": 2,
       "version_minor": 0
      },
      "text/plain": [
       "A Jupyter Widget"
      ]
     },
     "metadata": {},
     "output_type": "display_data"
    },
    {
     "name": "stdout",
     "output_type": "stream",
     "text": [
      "\n"
     ]
    },
    {
     "data": {
      "application/vnd.jupyter.widget-view+json": {
       "model_id": "3bdfc784c3a34a839c2c3d737fb63cd6",
       "version_major": 2,
       "version_minor": 0
      },
      "text/plain": [
       "A Jupyter Widget"
      ]
     },
     "metadata": {},
     "output_type": "display_data"
    },
    {
     "name": "stdout",
     "output_type": "stream",
     "text": [
      "\n"
     ]
    },
    {
     "data": {
      "application/vnd.jupyter.widget-view+json": {
       "model_id": "387950bbef64402aa3817a02abe32dc4",
       "version_major": 2,
       "version_minor": 0
      },
      "text/plain": [
       "A Jupyter Widget"
      ]
     },
     "metadata": {},
     "output_type": "display_data"
    },
    {
     "name": "stdout",
     "output_type": "stream",
     "text": [
      "\n",
      "http://mo.wikipedia.org/wiki/%D0%9A%D0%B0%D0%BF%D0%B8%D1%82%D0%B0%D0%BB%D0%B0\n",
      "http://mo.wikipedia.org/wiki/%D0%9F%D0%BE%D0%BB%D0%BE%D0%BD%D0%B8%D1%8F\n",
      "http://mo.wikipedia.org/wiki/%D0%9A%D1%80%D0%B0%D0%BA%D0%BE%D0%B2%D0%B8%D1%8F\n",
      "http://mo.wikipedia.org/wiki/%D0%92%D0%B0%D1%80%D1%88%D0%BE%D0%B2%D0%B8%D1%8F\n",
      "http://mo.wikipedia.org/wiki/%D0%92%D0%B0%D1%80%D1%88%D0%BE%D0%B2%D0%B8%D1%8F\n",
      "http://mo.wikipedia.org/wiki/%D0%9F%D0%B0%D3%82%D0%B8%D0%BD%D0%B0_%D0%BF%D1%80%D0%B8%D0%BD%D1%87%D0%B8%D0%BF%D0%B0%D0%BB%D1%8D\n",
      "http://mo.wikipedia.org/wiki/%D0%9F%D0%B0%D3%82%D0%B8%D0%BD%D0%B0_%D0%BF%D1%80%D0%B8%D0%BD%D1%87%D0%B8%D0%BF%D0%B0%D0%BB%D1%8D\n"
     ]
    },
    {
     "data": {
      "application/vnd.jupyter.widget-view+json": {
       "model_id": "dd72259be3e747adb05f3d856e16446d",
       "version_major": 2,
       "version_minor": 0
      },
      "text/plain": [
       "A Jupyter Widget"
      ]
     },
     "metadata": {},
     "output_type": "display_data"
    },
    {
     "name": "stdout",
     "output_type": "stream",
     "text": [
      "\n"
     ]
    },
    {
     "data": {
      "application/vnd.jupyter.widget-view+json": {
       "model_id": "65a400668a944b4e966d58ef76fb65ad",
       "version_major": 2,
       "version_minor": 0
      },
      "text/plain": [
       "A Jupyter Widget"
      ]
     },
     "metadata": {},
     "output_type": "display_data"
    },
    {
     "name": "stdout",
     "output_type": "stream",
     "text": [
      "\n"
     ]
    },
    {
     "data": {
      "application/vnd.jupyter.widget-view+json": {
       "model_id": "0b1abb89cdca457fa170aa6cac65f0da",
       "version_major": 2,
       "version_minor": 0
      },
      "text/plain": [
       "A Jupyter Widget"
      ]
     },
     "metadata": {},
     "output_type": "display_data"
    },
    {
     "name": "stdout",
     "output_type": "stream",
     "text": [
      "\n"
     ]
    },
    {
     "data": {
      "application/vnd.jupyter.widget-view+json": {
       "model_id": "e34aa27113f74d7d877d0e5191afeec1",
       "version_major": 2,
       "version_minor": 0
      },
      "text/plain": [
       "A Jupyter Widget"
      ]
     },
     "metadata": {},
     "output_type": "display_data"
    },
    {
     "name": "stdout",
     "output_type": "stream",
     "text": [
      "\n"
     ]
    },
    {
     "data": {
      "application/vnd.jupyter.widget-view+json": {
       "model_id": "09346e2bdfa34747943840c667e9a047",
       "version_major": 2,
       "version_minor": 0
      },
      "text/plain": [
       "A Jupyter Widget"
      ]
     },
     "metadata": {},
     "output_type": "display_data"
    },
    {
     "name": "stdout",
     "output_type": "stream",
     "text": [
      "\n"
     ]
    },
    {
     "data": {
      "application/vnd.jupyter.widget-view+json": {
       "model_id": "d03217fe7b0c436eaec454e35d3f0524",
       "version_major": 2,
       "version_minor": 0
      },
      "text/plain": [
       "A Jupyter Widget"
      ]
     },
     "metadata": {},
     "output_type": "display_data"
    },
    {
     "name": "stdout",
     "output_type": "stream",
     "text": [
      "\n"
     ]
    },
    {
     "data": {
      "application/vnd.jupyter.widget-view+json": {
       "model_id": "23c214e401c54431acbec5a89c9e3a9f",
       "version_major": 2,
       "version_minor": 0
      },
      "text/plain": [
       "A Jupyter Widget"
      ]
     },
     "metadata": {},
     "output_type": "display_data"
    },
    {
     "name": "stdout",
     "output_type": "stream",
     "text": [
      "\n",
      "http://mo.wikipedia.org/wiki/%D0%9B%D0%B8%D1%81%D1%82%D1%8D_%D0%B4%D0%B5_%D0%BA%D0%B0%D0%BF%D0%B8%D1%82%D0%B0%D0%BB%D0%B5_%D0%BD%D0%B0%D1%86%D0%B8%D0%BE%D0%BD%D0%B0%D0%BB%D0%B5\n",
      "http://mo.wikipedia.org/wiki/%D0%9A%D0%B0%D0%BF%D0%B8%D1%82%D0%B0%D0%BB%D1%8D\n",
      "http://mo.wikipedia.org/wiki/%D0%9A%D0%B0%D0%BF%D0%B8%D1%82%D0%B0%D0%BB%D1%8D\n",
      "http://mo.wikipedia.org/wiki/%D0%9F%D0%B0%D3%82%D0%B8%D0%BD%D0%B0_%D0%BF%D1%80%D0%B8%D0%BD%D1%87%D0%B8%D0%BF%D0%B0%D0%BB%D1%8D\n",
      "http://mo.wikipedia.org/wiki/%D0%9F%D0%B0%D3%82%D0%B8%D0%BD%D0%B0_%D0%BF%D1%80%D0%B8%D0%BD%D1%87%D0%B8%D0%BF%D0%B0%D0%BB%D1%8D\n"
     ]
    },
    {
     "data": {
      "application/vnd.jupyter.widget-view+json": {
       "model_id": "c10275f4680a4d7f969f00b83256cf62",
       "version_major": 2,
       "version_minor": 0
      },
      "text/plain": [
       "A Jupyter Widget"
      ]
     },
     "metadata": {},
     "output_type": "display_data"
    },
    {
     "name": "stdout",
     "output_type": "stream",
     "text": [
      "\n"
     ]
    },
    {
     "data": {
      "application/vnd.jupyter.widget-view+json": {
       "model_id": "abf986873d174610b85bd7fac2a73076",
       "version_major": 2,
       "version_minor": 0
      },
      "text/plain": [
       "A Jupyter Widget"
      ]
     },
     "metadata": {},
     "output_type": "display_data"
    },
    {
     "name": "stdout",
     "output_type": "stream",
     "text": [
      "\n"
     ]
    },
    {
     "data": {
      "application/vnd.jupyter.widget-view+json": {
       "model_id": "632b3468beda49e69593c706bd6ea3bc",
       "version_major": 2,
       "version_minor": 0
      },
      "text/plain": [
       "A Jupyter Widget"
      ]
     },
     "metadata": {},
     "output_type": "display_data"
    },
    {
     "name": "stdout",
     "output_type": "stream",
     "text": [
      "\n"
     ]
    },
    {
     "data": {
      "application/vnd.jupyter.widget-view+json": {
       "model_id": "c45f0bd14e9e41d1a7e59efcf5c54f19",
       "version_major": 2,
       "version_minor": 0
      },
      "text/plain": [
       "A Jupyter Widget"
      ]
     },
     "metadata": {},
     "output_type": "display_data"
    },
    {
     "name": "stdout",
     "output_type": "stream",
     "text": [
      "\n"
     ]
    },
    {
     "data": {
      "application/vnd.jupyter.widget-view+json": {
       "model_id": "8ff49e8c9eb545438f5fdd003dee9f78",
       "version_major": 2,
       "version_minor": 0
      },
      "text/plain": [
       "A Jupyter Widget"
      ]
     },
     "metadata": {},
     "output_type": "display_data"
    },
    {
     "name": "stdout",
     "output_type": "stream",
     "text": [
      "\n"
     ]
    },
    {
     "data": {
      "application/vnd.jupyter.widget-view+json": {
       "model_id": "ec80cb95a59141e489eeff44b6c84013",
       "version_major": 2,
       "version_minor": 0
      },
      "text/plain": [
       "A Jupyter Widget"
      ]
     },
     "metadata": {},
     "output_type": "display_data"
    },
    {
     "name": "stdout",
     "output_type": "stream",
     "text": [
      "\n"
     ]
    },
    {
     "data": {
      "application/vnd.jupyter.widget-view+json": {
       "model_id": "a929f23d458d45a7b6a317323e8380fe",
       "version_major": 2,
       "version_minor": 0
      },
      "text/plain": [
       "A Jupyter Widget"
      ]
     },
     "metadata": {},
     "output_type": "display_data"
    },
    {
     "name": "stdout",
     "output_type": "stream",
     "text": [
      "\n"
     ]
    },
    {
     "data": {
      "application/vnd.jupyter.widget-view+json": {
       "model_id": "9d1b66836f6946d09bc5fc3b160855da",
       "version_major": 2,
       "version_minor": 0
      },
      "text/plain": [
       "A Jupyter Widget"
      ]
     },
     "metadata": {},
     "output_type": "display_data"
    },
    {
     "name": "stdout",
     "output_type": "stream",
     "text": [
      "\n"
     ]
    },
    {
     "data": {
      "application/vnd.jupyter.widget-view+json": {
       "model_id": "f0f3c355e79e4fc5a9a8518126c0d069",
       "version_major": 2,
       "version_minor": 0
      },
      "text/plain": [
       "A Jupyter Widget"
      ]
     },
     "metadata": {},
     "output_type": "display_data"
    },
    {
     "name": "stdout",
     "output_type": "stream",
     "text": [
      "\n"
     ]
    },
    {
     "data": {
      "application/vnd.jupyter.widget-view+json": {
       "model_id": "3454ff8037e34a89ae2889297a1bfeda",
       "version_major": 2,
       "version_minor": 0
      },
      "text/plain": [
       "A Jupyter Widget"
      ]
     },
     "metadata": {},
     "output_type": "display_data"
    },
    {
     "name": "stdout",
     "output_type": "stream",
     "text": [
      "\n"
     ]
    },
    {
     "data": {
      "application/vnd.jupyter.widget-view+json": {
       "model_id": "98760915810d487f8de074444c532ca6",
       "version_major": 2,
       "version_minor": 0
      },
      "text/plain": [
       "A Jupyter Widget"
      ]
     },
     "metadata": {},
     "output_type": "display_data"
    },
    {
     "name": "stdout",
     "output_type": "stream",
     "text": [
      "\n"
     ]
    },
    {
     "data": {
      "application/vnd.jupyter.widget-view+json": {
       "model_id": "e07dfc18cddf421aa2b94ef47caf544a",
       "version_major": 2,
       "version_minor": 0
      },
      "text/plain": [
       "A Jupyter Widget"
      ]
     },
     "metadata": {},
     "output_type": "display_data"
    },
    {
     "name": "stdout",
     "output_type": "stream",
     "text": [
      "\n"
     ]
    },
    {
     "data": {
      "application/vnd.jupyter.widget-view+json": {
       "model_id": "20eea63a42de48bcaab5083e101acdba",
       "version_major": 2,
       "version_minor": 0
      },
      "text/plain": [
       "A Jupyter Widget"
      ]
     },
     "metadata": {},
     "output_type": "display_data"
    },
    {
     "name": "stdout",
     "output_type": "stream",
     "text": [
      "\n"
     ]
    },
    {
     "data": {
      "application/vnd.jupyter.widget-view+json": {
       "model_id": "7f75c46590f24b90aed8bf5a2ec373c9",
       "version_major": 2,
       "version_minor": 0
      },
      "text/plain": [
       "A Jupyter Widget"
      ]
     },
     "metadata": {},
     "output_type": "display_data"
    },
    {
     "name": "stdout",
     "output_type": "stream",
     "text": [
      "\n"
     ]
    },
    {
     "data": {
      "application/vnd.jupyter.widget-view+json": {
       "model_id": "0a61866354b34bc2a143e31c65c4773a",
       "version_major": 2,
       "version_minor": 0
      },
      "text/plain": [
       "A Jupyter Widget"
      ]
     },
     "metadata": {},
     "output_type": "display_data"
    },
    {
     "name": "stdout",
     "output_type": "stream",
     "text": [
      "\n"
     ]
    },
    {
     "data": {
      "application/vnd.jupyter.widget-view+json": {
       "model_id": "fa0b961873994670913238d493c3344f",
       "version_major": 2,
       "version_minor": 0
      },
      "text/plain": [
       "A Jupyter Widget"
      ]
     },
     "metadata": {},
     "output_type": "display_data"
    },
    {
     "name": "stdout",
     "output_type": "stream",
     "text": [
      "\n"
     ]
    },
    {
     "data": {
      "application/vnd.jupyter.widget-view+json": {
       "model_id": "0d4bb40f6977414886bc9860fb813672",
       "version_major": 2,
       "version_minor": 0
      },
      "text/plain": [
       "A Jupyter Widget"
      ]
     },
     "metadata": {},
     "output_type": "display_data"
    },
    {
     "name": "stdout",
     "output_type": "stream",
     "text": [
      "\n"
     ]
    },
    {
     "data": {
      "application/vnd.jupyter.widget-view+json": {
       "model_id": "6554ba4ca8ac419e8f7a815b72ed78c4",
       "version_major": 2,
       "version_minor": 0
      },
      "text/plain": [
       "A Jupyter Widget"
      ]
     },
     "metadata": {},
     "output_type": "display_data"
    },
    {
     "name": "stdout",
     "output_type": "stream",
     "text": [
      "\n"
     ]
    },
    {
     "data": {
      "application/vnd.jupyter.widget-view+json": {
       "model_id": "600f07eee9ff42aaab197122d06ffab2",
       "version_major": 2,
       "version_minor": 0
      },
      "text/plain": [
       "A Jupyter Widget"
      ]
     },
     "metadata": {},
     "output_type": "display_data"
    },
    {
     "name": "stdout",
     "output_type": "stream",
     "text": [
      "\n"
     ]
    },
    {
     "data": {
      "application/vnd.jupyter.widget-view+json": {
       "model_id": "8faac922a4b74102aae23ec9627c3ef3",
       "version_major": 2,
       "version_minor": 0
      },
      "text/plain": [
       "A Jupyter Widget"
      ]
     },
     "metadata": {},
     "output_type": "display_data"
    },
    {
     "name": "stdout",
     "output_type": "stream",
     "text": [
      "\n"
     ]
    },
    {
     "data": {
      "application/vnd.jupyter.widget-view+json": {
       "model_id": "058155fde1244a9598d56c5c19bc8243",
       "version_major": 2,
       "version_minor": 0
      },
      "text/plain": [
       "A Jupyter Widget"
      ]
     },
     "metadata": {},
     "output_type": "display_data"
    },
    {
     "name": "stdout",
     "output_type": "stream",
     "text": [
      "\n"
     ]
    },
    {
     "data": {
      "application/vnd.jupyter.widget-view+json": {
       "model_id": "2f0a029829dc4255a77fc5796e589c6d",
       "version_major": 2,
       "version_minor": 0
      },
      "text/plain": [
       "A Jupyter Widget"
      ]
     },
     "metadata": {},
     "output_type": "display_data"
    },
    {
     "name": "stdout",
     "output_type": "stream",
     "text": [
      "\n",
      "http://mo.wikipedia.org/wiki/%D0%A0%D1%83%D1%81%D0%B8%D1%8F\n",
      "http://mo.wikipedia.org/wiki/%D0%9C%D0%B0%D1%80%D1%8F_%D0%91%D0%B0%D0%BB%D1%82%D0%B8%D0%BA%D1%8D\n",
      "http://mo.wikipedia.org/wiki/%D0%9A%D0%B0%D0%BB%D0%B8%D0%BD%D0%B8%D0%BD%D0%B3%D1%80%D0%B0%D0%B4\n",
      "http://mo.wikipedia.org/wiki/%D0%9A%D0%B0%D0%BB%D0%B8%D0%BD%D0%B8%D0%BD%D0%B3%D1%80%D0%B0%D0%B4\n",
      "http://mo.wikipedia.org/wiki/%D0%9F%D0%B0%D3%82%D0%B8%D0%BD%D0%B0_%D0%BF%D1%80%D0%B8%D0%BD%D1%87%D0%B8%D0%BF%D0%B0%D0%BB%D1%8D\n",
      "http://mo.wikipedia.org/wiki/%D0%9F%D0%B0%D3%82%D0%B8%D0%BD%D0%B0_%D0%BF%D1%80%D0%B8%D0%BD%D1%87%D0%B8%D0%BF%D0%B0%D0%BB%D1%8D\n"
     ]
    },
    {
     "data": {
      "application/vnd.jupyter.widget-view+json": {
       "model_id": "580d37b069d74c68826abea295faa472",
       "version_major": 2,
       "version_minor": 0
      },
      "text/plain": [
       "A Jupyter Widget"
      ]
     },
     "metadata": {},
     "output_type": "display_data"
    },
    {
     "name": "stdout",
     "output_type": "stream",
     "text": [
      "\n"
     ]
    },
    {
     "data": {
      "application/vnd.jupyter.widget-view+json": {
       "model_id": "800a1540940b486986348ef6c0387243",
       "version_major": 2,
       "version_minor": 0
      },
      "text/plain": [
       "A Jupyter Widget"
      ]
     },
     "metadata": {},
     "output_type": "display_data"
    },
    {
     "name": "stdout",
     "output_type": "stream",
     "text": [
      "\n"
     ]
    },
    {
     "data": {
      "application/vnd.jupyter.widget-view+json": {
       "model_id": "99cc27e1cfa54c5cad7c81abf8dfee35",
       "version_major": 2,
       "version_minor": 0
      },
      "text/plain": [
       "A Jupyter Widget"
      ]
     },
     "metadata": {},
     "output_type": "display_data"
    },
    {
     "name": "stdout",
     "output_type": "stream",
     "text": [
      "\n"
     ]
    },
    {
     "data": {
      "application/vnd.jupyter.widget-view+json": {
       "model_id": "99f2f25780b3490cb5b40091bcbb612b",
       "version_major": 2,
       "version_minor": 0
      },
      "text/plain": [
       "A Jupyter Widget"
      ]
     },
     "metadata": {},
     "output_type": "display_data"
    },
    {
     "name": "stdout",
     "output_type": "stream",
     "text": [
      "\n"
     ]
    },
    {
     "data": {
      "application/vnd.jupyter.widget-view+json": {
       "model_id": "75d54d3ee821440495c13ffd91966512",
       "version_major": 2,
       "version_minor": 0
      },
      "text/plain": [
       "A Jupyter Widget"
      ]
     },
     "metadata": {},
     "output_type": "display_data"
    },
    {
     "name": "stdout",
     "output_type": "stream",
     "text": [
      "\n",
      "http://mo.wikipedia.org/wiki/%D0%95%D1%83%D1%80%D0%BE%D0%BF%D0%B0\n",
      "http://mo.wikipedia.org/wiki/%D0%9C%D0%B0%D1%80%D1%8F_%D0%91%D0%B0%D0%BB%D1%82%D0%B8%D0%BA%D1%8D\n",
      "http://mo.wikipedia.org/wiki/%D0%9C%D0%B0%D1%80%D1%8F_%D0%91%D0%B0%D0%BB%D1%82%D0%B8%D0%BA%D1%8D\n",
      "http://mo.wikipedia.org/wiki/%D0%9F%D0%B0%D3%82%D0%B8%D0%BD%D0%B0_%D0%BF%D1%80%D0%B8%D0%BD%D1%87%D0%B8%D0%BF%D0%B0%D0%BB%D1%8D\n",
      "http://mo.wikipedia.org/wiki/%D0%9F%D0%B0%D3%82%D0%B8%D0%BD%D0%B0_%D0%BF%D1%80%D0%B8%D0%BD%D1%87%D0%B8%D0%BF%D0%B0%D0%BB%D1%8D\n"
     ]
    },
    {
     "data": {
      "application/vnd.jupyter.widget-view+json": {
       "model_id": "9a57670def4c48e8b85990cd1a9a4902",
       "version_major": 2,
       "version_minor": 0
      },
      "text/plain": [
       "A Jupyter Widget"
      ]
     },
     "metadata": {},
     "output_type": "display_data"
    },
    {
     "name": "stdout",
     "output_type": "stream",
     "text": [
      "\n"
     ]
    },
    {
     "data": {
      "application/vnd.jupyter.widget-view+json": {
       "model_id": "8824dc67c73943e7baf0c8c15e3de073",
       "version_major": 2,
       "version_minor": 0
      },
      "text/plain": [
       "A Jupyter Widget"
      ]
     },
     "metadata": {},
     "output_type": "display_data"
    },
    {
     "name": "stdout",
     "output_type": "stream",
     "text": [
      "\n"
     ]
    },
    {
     "data": {
      "application/vnd.jupyter.widget-view+json": {
       "model_id": "d43586c03f6545d5961867617889dcc0",
       "version_major": 2,
       "version_minor": 0
      },
      "text/plain": [
       "A Jupyter Widget"
      ]
     },
     "metadata": {},
     "output_type": "display_data"
    },
    {
     "name": "stdout",
     "output_type": "stream",
     "text": [
      "\n"
     ]
    },
    {
     "data": {
      "application/vnd.jupyter.widget-view+json": {
       "model_id": "4dc4e3ded84d48a28457e3093b2c00e3",
       "version_major": 2,
       "version_minor": 0
      },
      "text/plain": [
       "A Jupyter Widget"
      ]
     },
     "metadata": {},
     "output_type": "display_data"
    },
    {
     "name": "stdout",
     "output_type": "stream",
     "text": [
      "\n"
     ]
    },
    {
     "data": {
      "application/vnd.jupyter.widget-view+json": {
       "model_id": "7edebc41905d4c4cb72abb3d064065f9",
       "version_major": 2,
       "version_minor": 0
      },
      "text/plain": [
       "A Jupyter Widget"
      ]
     },
     "metadata": {},
     "output_type": "display_data"
    },
    {
     "name": "stdout",
     "output_type": "stream",
     "text": [
      "\n"
     ]
    },
    {
     "data": {
      "application/vnd.jupyter.widget-view+json": {
       "model_id": "f729d0134f4a452791c00763943e622d",
       "version_major": 2,
       "version_minor": 0
      },
      "text/plain": [
       "A Jupyter Widget"
      ]
     },
     "metadata": {},
     "output_type": "display_data"
    },
    {
     "name": "stdout",
     "output_type": "stream",
     "text": [
      "\n"
     ]
    },
    {
     "data": {
      "application/vnd.jupyter.widget-view+json": {
       "model_id": "97a6e16259a74f73be8a655bc40b6199",
       "version_major": 2,
       "version_minor": 0
      },
      "text/plain": [
       "A Jupyter Widget"
      ]
     },
     "metadata": {},
     "output_type": "display_data"
    },
    {
     "name": "stdout",
     "output_type": "stream",
     "text": [
      "\n"
     ]
    },
    {
     "data": {
      "application/vnd.jupyter.widget-view+json": {
       "model_id": "925335322bcc44a3ba64f942c7a9eb79",
       "version_major": 2,
       "version_minor": 0
      },
      "text/plain": [
       "A Jupyter Widget"
      ]
     },
     "metadata": {},
     "output_type": "display_data"
    },
    {
     "name": "stdout",
     "output_type": "stream",
     "text": [
      "\n"
     ]
    },
    {
     "data": {
      "application/vnd.jupyter.widget-view+json": {
       "model_id": "2b47058ae94749ba961d2f505ae6739b",
       "version_major": 2,
       "version_minor": 0
      },
      "text/plain": [
       "A Jupyter Widget"
      ]
     },
     "metadata": {},
     "output_type": "display_data"
    },
    {
     "name": "stdout",
     "output_type": "stream",
     "text": [
      "\n"
     ]
    },
    {
     "data": {
      "application/vnd.jupyter.widget-view+json": {
       "model_id": "cf1591b216c84c2d9f0f908f1fd436ff",
       "version_major": 2,
       "version_minor": 0
      },
      "text/plain": [
       "A Jupyter Widget"
      ]
     },
     "metadata": {},
     "output_type": "display_data"
    },
    {
     "name": "stdout",
     "output_type": "stream",
     "text": [
      "\n"
     ]
    },
    {
     "data": {
      "application/vnd.jupyter.widget-view+json": {
       "model_id": "bce7d349dbf74363a34867cb2f39e811",
       "version_major": 2,
       "version_minor": 0
      },
      "text/plain": [
       "A Jupyter Widget"
      ]
     },
     "metadata": {},
     "output_type": "display_data"
    },
    {
     "name": "stdout",
     "output_type": "stream",
     "text": [
      "\n"
     ]
    },
    {
     "data": {
      "application/vnd.jupyter.widget-view+json": {
       "model_id": "59f4b27575cf44089ee874f749126553",
       "version_major": 2,
       "version_minor": 0
      },
      "text/plain": [
       "A Jupyter Widget"
      ]
     },
     "metadata": {},
     "output_type": "display_data"
    },
    {
     "name": "stdout",
     "output_type": "stream",
     "text": [
      "\n"
     ]
    },
    {
     "data": {
      "application/vnd.jupyter.widget-view+json": {
       "model_id": "ffeeba73af12485aa7e1744c36951161",
       "version_major": 2,
       "version_minor": 0
      },
      "text/plain": [
       "A Jupyter Widget"
      ]
     },
     "metadata": {},
     "output_type": "display_data"
    },
    {
     "name": "stdout",
     "output_type": "stream",
     "text": [
      "\n"
     ]
    },
    {
     "data": {
      "application/vnd.jupyter.widget-view+json": {
       "model_id": "b2ff22008ea642bcb6a5b4d0dc194cf4",
       "version_major": 2,
       "version_minor": 0
      },
      "text/plain": [
       "A Jupyter Widget"
      ]
     },
     "metadata": {},
     "output_type": "display_data"
    },
    {
     "name": "stdout",
     "output_type": "stream",
     "text": [
      "\n"
     ]
    },
    {
     "data": {
      "application/vnd.jupyter.widget-view+json": {
       "model_id": "a2e2ceb78dfd4da8abdc44494f2a4752",
       "version_major": 2,
       "version_minor": 0
      },
      "text/plain": [
       "A Jupyter Widget"
      ]
     },
     "metadata": {},
     "output_type": "display_data"
    },
    {
     "name": "stdout",
     "output_type": "stream",
     "text": [
      "\n"
     ]
    },
    {
     "data": {
      "application/vnd.jupyter.widget-view+json": {
       "model_id": "130a4fbb7f9842329d9e52f8494eb8f9",
       "version_major": 2,
       "version_minor": 0
      },
      "text/plain": [
       "A Jupyter Widget"
      ]
     },
     "metadata": {},
     "output_type": "display_data"
    },
    {
     "name": "stdout",
     "output_type": "stream",
     "text": [
      "\n"
     ]
    },
    {
     "data": {
      "application/vnd.jupyter.widget-view+json": {
       "model_id": "22c3c2ccaecd4858b0683c25f4f13794",
       "version_major": 2,
       "version_minor": 0
      },
      "text/plain": [
       "A Jupyter Widget"
      ]
     },
     "metadata": {},
     "output_type": "display_data"
    },
    {
     "name": "stdout",
     "output_type": "stream",
     "text": [
      "\n"
     ]
    },
    {
     "data": {
      "application/vnd.jupyter.widget-view+json": {
       "model_id": "79ba4031640b4d02afc256c22ab39942",
       "version_major": 2,
       "version_minor": 0
      },
      "text/plain": [
       "A Jupyter Widget"
      ]
     },
     "metadata": {},
     "output_type": "display_data"
    },
    {
     "name": "stdout",
     "output_type": "stream",
     "text": [
      "\n"
     ]
    },
    {
     "data": {
      "application/vnd.jupyter.widget-view+json": {
       "model_id": "57cb0013dd0c48a8bf879af99a2274fd",
       "version_major": 2,
       "version_minor": 0
      },
      "text/plain": [
       "A Jupyter Widget"
      ]
     },
     "metadata": {},
     "output_type": "display_data"
    },
    {
     "name": "stdout",
     "output_type": "stream",
     "text": [
      "\n"
     ]
    },
    {
     "data": {
      "application/vnd.jupyter.widget-view+json": {
       "model_id": "7ef63c2b45934d4591bf25f78e1c1d06",
       "version_major": 2,
       "version_minor": 0
      },
      "text/plain": [
       "A Jupyter Widget"
      ]
     },
     "metadata": {},
     "output_type": "display_data"
    },
    {
     "name": "stdout",
     "output_type": "stream",
     "text": [
      "\n"
     ]
    },
    {
     "data": {
      "application/vnd.jupyter.widget-view+json": {
       "model_id": "abaf4f773f7747d28469462b5320616f",
       "version_major": 2,
       "version_minor": 0
      },
      "text/plain": [
       "A Jupyter Widget"
      ]
     },
     "metadata": {},
     "output_type": "display_data"
    },
    {
     "name": "stdout",
     "output_type": "stream",
     "text": [
      "\n"
     ]
    },
    {
     "data": {
      "application/vnd.jupyter.widget-view+json": {
       "model_id": "1497f44b51a2475680b1b4528b0ee184",
       "version_major": 2,
       "version_minor": 0
      },
      "text/plain": [
       "A Jupyter Widget"
      ]
     },
     "metadata": {},
     "output_type": "display_data"
    },
    {
     "name": "stdout",
     "output_type": "stream",
     "text": [
      "\n"
     ]
    },
    {
     "data": {
      "application/vnd.jupyter.widget-view+json": {
       "model_id": "efe1454497b64172bd08fa3f551933c6",
       "version_major": 2,
       "version_minor": 0
      },
      "text/plain": [
       "A Jupyter Widget"
      ]
     },
     "metadata": {},
     "output_type": "display_data"
    },
    {
     "name": "stdout",
     "output_type": "stream",
     "text": [
      "\n"
     ]
    },
    {
     "data": {
      "application/vnd.jupyter.widget-view+json": {
       "model_id": "ddce50581dbe46b89d00e77e3d12ae7f",
       "version_major": 2,
       "version_minor": 0
      },
      "text/plain": [
       "A Jupyter Widget"
      ]
     },
     "metadata": {},
     "output_type": "display_data"
    },
    {
     "name": "stdout",
     "output_type": "stream",
     "text": [
      "\n"
     ]
    },
    {
     "data": {
      "application/vnd.jupyter.widget-view+json": {
       "model_id": "33a3bbd96b7f43fbb45cad7e4e36e136",
       "version_major": 2,
       "version_minor": 0
      },
      "text/plain": [
       "A Jupyter Widget"
      ]
     },
     "metadata": {},
     "output_type": "display_data"
    },
    {
     "name": "stdout",
     "output_type": "stream",
     "text": [
      "\n"
     ]
    },
    {
     "data": {
      "application/vnd.jupyter.widget-view+json": {
       "model_id": "352ca0b8ca7945d3a1cf6961e7d94608",
       "version_major": 2,
       "version_minor": 0
      },
      "text/plain": [
       "A Jupyter Widget"
      ]
     },
     "metadata": {},
     "output_type": "display_data"
    },
    {
     "name": "stdout",
     "output_type": "stream",
     "text": [
      "\n"
     ]
    },
    {
     "data": {
      "application/vnd.jupyter.widget-view+json": {
       "model_id": "7dab6a0c71ba4c159b350381686664fd",
       "version_major": 2,
       "version_minor": 0
      },
      "text/plain": [
       "A Jupyter Widget"
      ]
     },
     "metadata": {},
     "output_type": "display_data"
    },
    {
     "name": "stdout",
     "output_type": "stream",
     "text": [
      "\n"
     ]
    },
    {
     "data": {
      "application/vnd.jupyter.widget-view+json": {
       "model_id": "067e909508724d0bb8ac30ffcaf70e7d",
       "version_major": 2,
       "version_minor": 0
      },
      "text/plain": [
       "A Jupyter Widget"
      ]
     },
     "metadata": {},
     "output_type": "display_data"
    },
    {
     "name": "stdout",
     "output_type": "stream",
     "text": [
      "\n"
     ]
    },
    {
     "data": {
      "application/vnd.jupyter.widget-view+json": {
       "model_id": "1881e0ff91fb4d38b0f1379ff71925e3",
       "version_major": 2,
       "version_minor": 0
      },
      "text/plain": [
       "A Jupyter Widget"
      ]
     },
     "metadata": {},
     "output_type": "display_data"
    },
    {
     "name": "stdout",
     "output_type": "stream",
     "text": [
      "\n"
     ]
    },
    {
     "data": {
      "application/vnd.jupyter.widget-view+json": {
       "model_id": "4d4a3edc8979478c9598326ba34773fe",
       "version_major": 2,
       "version_minor": 0
      },
      "text/plain": [
       "A Jupyter Widget"
      ]
     },
     "metadata": {},
     "output_type": "display_data"
    },
    {
     "name": "stdout",
     "output_type": "stream",
     "text": [
      "\n"
     ]
    },
    {
     "data": {
      "application/vnd.jupyter.widget-view+json": {
       "model_id": "2c7854f24e604540b1c357b94247d24b",
       "version_major": 2,
       "version_minor": 0
      },
      "text/plain": [
       "A Jupyter Widget"
      ]
     },
     "metadata": {},
     "output_type": "display_data"
    },
    {
     "name": "stdout",
     "output_type": "stream",
     "text": [
      "\n"
     ]
    },
    {
     "data": {
      "application/vnd.jupyter.widget-view+json": {
       "model_id": "718374b5cb3245db9c9a92ae10d3ae59",
       "version_major": 2,
       "version_minor": 0
      },
      "text/plain": [
       "A Jupyter Widget"
      ]
     },
     "metadata": {},
     "output_type": "display_data"
    },
    {
     "name": "stdout",
     "output_type": "stream",
     "text": [
      "\n"
     ]
    },
    {
     "data": {
      "application/vnd.jupyter.widget-view+json": {
       "model_id": "792caffe81ec44dbb8fd2e53f7375072",
       "version_major": 2,
       "version_minor": 0
      },
      "text/plain": [
       "A Jupyter Widget"
      ]
     },
     "metadata": {},
     "output_type": "display_data"
    },
    {
     "name": "stdout",
     "output_type": "stream",
     "text": [
      "\n"
     ]
    },
    {
     "data": {
      "application/vnd.jupyter.widget-view+json": {
       "model_id": "34c76938e5e6492abda01187bed9f5ab",
       "version_major": 2,
       "version_minor": 0
      },
      "text/plain": [
       "A Jupyter Widget"
      ]
     },
     "metadata": {},
     "output_type": "display_data"
    },
    {
     "name": "stdout",
     "output_type": "stream",
     "text": [
      "\n"
     ]
    },
    {
     "data": {
      "application/vnd.jupyter.widget-view+json": {
       "model_id": "db1f20f0fec944c5ae1ad36d920d63e5",
       "version_major": 2,
       "version_minor": 0
      },
      "text/plain": [
       "A Jupyter Widget"
      ]
     },
     "metadata": {},
     "output_type": "display_data"
    },
    {
     "name": "stdout",
     "output_type": "stream",
     "text": [
      "\n"
     ]
    },
    {
     "data": {
      "application/vnd.jupyter.widget-view+json": {
       "model_id": "9fbd870644e54864a8aec3beb8bf2d0a",
       "version_major": 2,
       "version_minor": 0
      },
      "text/plain": [
       "A Jupyter Widget"
      ]
     },
     "metadata": {},
     "output_type": "display_data"
    },
    {
     "name": "stdout",
     "output_type": "stream",
     "text": [
      "\n"
     ]
    },
    {
     "data": {
      "application/vnd.jupyter.widget-view+json": {
       "model_id": "4528528ce4b848a6a214704940de737f",
       "version_major": 2,
       "version_minor": 0
      },
      "text/plain": [
       "A Jupyter Widget"
      ]
     },
     "metadata": {},
     "output_type": "display_data"
    },
    {
     "name": "stdout",
     "output_type": "stream",
     "text": [
      "\n"
     ]
    },
    {
     "data": {
      "application/vnd.jupyter.widget-view+json": {
       "model_id": "24c12c77358442e7830a7d85e663a273",
       "version_major": 2,
       "version_minor": 0
      },
      "text/plain": [
       "A Jupyter Widget"
      ]
     },
     "metadata": {},
     "output_type": "display_data"
    },
    {
     "name": "stdout",
     "output_type": "stream",
     "text": [
      "\n"
     ]
    },
    {
     "data": {
      "application/vnd.jupyter.widget-view+json": {
       "model_id": "7a02f9740d2f4187a9dbdecfc8aba64f",
       "version_major": 2,
       "version_minor": 0
      },
      "text/plain": [
       "A Jupyter Widget"
      ]
     },
     "metadata": {},
     "output_type": "display_data"
    },
    {
     "name": "stdout",
     "output_type": "stream",
     "text": [
      "\n"
     ]
    },
    {
     "data": {
      "application/vnd.jupyter.widget-view+json": {
       "model_id": "90fe960cf6d34c7c93852efb79457519",
       "version_major": 2,
       "version_minor": 0
      },
      "text/plain": [
       "A Jupyter Widget"
      ]
     },
     "metadata": {},
     "output_type": "display_data"
    },
    {
     "name": "stdout",
     "output_type": "stream",
     "text": [
      "\n"
     ]
    },
    {
     "data": {
      "application/vnd.jupyter.widget-view+json": {
       "model_id": "9fa4631631cb437388b9e3fa49c58481",
       "version_major": 2,
       "version_minor": 0
      },
      "text/plain": [
       "A Jupyter Widget"
      ]
     },
     "metadata": {},
     "output_type": "display_data"
    },
    {
     "name": "stdout",
     "output_type": "stream",
     "text": [
      "\n"
     ]
    },
    {
     "data": {
      "application/vnd.jupyter.widget-view+json": {
       "model_id": "114a88e13c0748f2a43a1eb162808d50",
       "version_major": 2,
       "version_minor": 0
      },
      "text/plain": [
       "A Jupyter Widget"
      ]
     },
     "metadata": {},
     "output_type": "display_data"
    },
    {
     "name": "stdout",
     "output_type": "stream",
     "text": [
      "\n"
     ]
    },
    {
     "data": {
      "application/vnd.jupyter.widget-view+json": {
       "model_id": "029cbd4887e442b0a723b4d40bffe100",
       "version_major": 2,
       "version_minor": 0
      },
      "text/plain": [
       "A Jupyter Widget"
      ]
     },
     "metadata": {},
     "output_type": "display_data"
    },
    {
     "name": "stdout",
     "output_type": "stream",
     "text": [
      "\n"
     ]
    },
    {
     "data": {
      "application/vnd.jupyter.widget-view+json": {
       "model_id": "aeda15046c404e8c970faefe499c520f",
       "version_major": 2,
       "version_minor": 0
      },
      "text/plain": [
       "A Jupyter Widget"
      ]
     },
     "metadata": {},
     "output_type": "display_data"
    },
    {
     "name": "stdout",
     "output_type": "stream",
     "text": [
      "\n"
     ]
    },
    {
     "data": {
      "application/vnd.jupyter.widget-view+json": {
       "model_id": "8e985eccd1bd46a0981ac3f49df5cf43",
       "version_major": 2,
       "version_minor": 0
      },
      "text/plain": [
       "A Jupyter Widget"
      ]
     },
     "metadata": {},
     "output_type": "display_data"
    },
    {
     "name": "stdout",
     "output_type": "stream",
     "text": [
      "\n"
     ]
    },
    {
     "data": {
      "application/vnd.jupyter.widget-view+json": {
       "model_id": "d08b536c7638476391728dea16f5575d",
       "version_major": 2,
       "version_minor": 0
      },
      "text/plain": [
       "A Jupyter Widget"
      ]
     },
     "metadata": {},
     "output_type": "display_data"
    },
    {
     "name": "stdout",
     "output_type": "stream",
     "text": [
      "\n",
      "http://mo.wikipedia.org/wiki/%D0%95%D1%83%D1%80%D0%BE%D0%BF%D0%B0\n",
      "http://mo.wikipedia.org/wiki/%D0%A1%D1%83%D0%B5%D0%B4%D0%B8%D1%8F\n",
      "http://mo.wikipedia.org/wiki/%D0%A1%D1%83%D0%B5%D0%B4%D0%B8%D1%8F\n",
      "http://mo.wikipedia.org/wiki/%D0%9F%D0%B0%D3%82%D0%B8%D0%BD%D0%B0_%D0%BF%D1%80%D0%B8%D0%BD%D1%87%D0%B8%D0%BF%D0%B0%D0%BB%D1%8D\n",
      "http://mo.wikipedia.org/wiki/%D0%9F%D0%B0%D3%82%D0%B8%D0%BD%D0%B0_%D0%BF%D1%80%D0%B8%D0%BD%D1%87%D0%B8%D0%BF%D0%B0%D0%BB%D1%8D\n"
     ]
    },
    {
     "data": {
      "application/vnd.jupyter.widget-view+json": {
       "model_id": "84cd12127dbe417ca627eeb94dbf42fd",
       "version_major": 2,
       "version_minor": 0
      },
      "text/plain": [
       "A Jupyter Widget"
      ]
     },
     "metadata": {},
     "output_type": "display_data"
    },
    {
     "name": "stdout",
     "output_type": "stream",
     "text": [
      "\n"
     ]
    },
    {
     "data": {
      "application/vnd.jupyter.widget-view+json": {
       "model_id": "6fbd9c01e658490caae3aae9d46bde13",
       "version_major": 2,
       "version_minor": 0
      },
      "text/plain": [
       "A Jupyter Widget"
      ]
     },
     "metadata": {},
     "output_type": "display_data"
    },
    {
     "name": "stdout",
     "output_type": "stream",
     "text": [
      "\n"
     ]
    },
    {
     "data": {
      "application/vnd.jupyter.widget-view+json": {
       "model_id": "734745e3dcd4457890b6591f23794d57",
       "version_major": 2,
       "version_minor": 0
      },
      "text/plain": [
       "A Jupyter Widget"
      ]
     },
     "metadata": {},
     "output_type": "display_data"
    },
    {
     "name": "stdout",
     "output_type": "stream",
     "text": [
      "\n"
     ]
    },
    {
     "data": {
      "application/vnd.jupyter.widget-view+json": {
       "model_id": "b93d5b50a4e147b4895338a7a993a652",
       "version_major": 2,
       "version_minor": 0
      },
      "text/plain": [
       "A Jupyter Widget"
      ]
     },
     "metadata": {},
     "output_type": "display_data"
    },
    {
     "name": "stdout",
     "output_type": "stream",
     "text": [
      "\n"
     ]
    },
    {
     "data": {
      "application/vnd.jupyter.widget-view+json": {
       "model_id": "702afe36359c4256b0fd1700b40360fe",
       "version_major": 2,
       "version_minor": 0
      },
      "text/plain": [
       "A Jupyter Widget"
      ]
     },
     "metadata": {},
     "output_type": "display_data"
    },
    {
     "name": "stdout",
     "output_type": "stream",
     "text": [
      "\n"
     ]
    },
    {
     "data": {
      "application/vnd.jupyter.widget-view+json": {
       "model_id": "5bf37f28efa840ec81382ee0d26d6b56",
       "version_major": 2,
       "version_minor": 0
      },
      "text/plain": [
       "A Jupyter Widget"
      ]
     },
     "metadata": {},
     "output_type": "display_data"
    },
    {
     "name": "stdout",
     "output_type": "stream",
     "text": [
      "\n",
      "http://mo.wikipedia.org/wiki/%D0%95%D1%83%D1%80%D0%BE%D0%BF%D0%B0\n",
      "http://mo.wikipedia.org/wiki/%D0%A1%D0%BF%D0%B0%D0%BD%D0%B8%D1%8F\n",
      "http://mo.wikipedia.org/wiki/%D0%A1%D0%BF%D0%B0%D0%BD%D0%B8%D1%8F\n",
      "http://mo.wikipedia.org/wiki/%D0%9F%D0%B0%D3%82%D0%B8%D0%BD%D0%B0_%D0%BF%D1%80%D0%B8%D0%BD%D1%87%D0%B8%D0%BF%D0%B0%D0%BB%D1%8D\n",
      "http://mo.wikipedia.org/wiki/%D0%9F%D0%B0%D3%82%D0%B8%D0%BD%D0%B0_%D0%BF%D1%80%D0%B8%D0%BD%D1%87%D0%B8%D0%BF%D0%B0%D0%BB%D1%8D\n"
     ]
    },
    {
     "data": {
      "application/vnd.jupyter.widget-view+json": {
       "model_id": "93424f0343994ed38fdf198266797b7f",
       "version_major": 2,
       "version_minor": 0
      },
      "text/plain": [
       "A Jupyter Widget"
      ]
     },
     "metadata": {},
     "output_type": "display_data"
    },
    {
     "name": "stdout",
     "output_type": "stream",
     "text": [
      "\n"
     ]
    },
    {
     "data": {
      "application/vnd.jupyter.widget-view+json": {
       "model_id": "c1093a2fe20448018050aa1d92d50da6",
       "version_major": 2,
       "version_minor": 0
      },
      "text/plain": [
       "A Jupyter Widget"
      ]
     },
     "metadata": {},
     "output_type": "display_data"
    },
    {
     "name": "stdout",
     "output_type": "stream",
     "text": [
      "\n"
     ]
    },
    {
     "data": {
      "application/vnd.jupyter.widget-view+json": {
       "model_id": "f5aa785321564a97a0fd27dcb83e5fa2",
       "version_major": 2,
       "version_minor": 0
      },
      "text/plain": [
       "A Jupyter Widget"
      ]
     },
     "metadata": {},
     "output_type": "display_data"
    },
    {
     "name": "stdout",
     "output_type": "stream",
     "text": [
      "\n"
     ]
    },
    {
     "data": {
      "application/vnd.jupyter.widget-view+json": {
       "model_id": "5147da05e6db4baf99f36e5d1e5521e6",
       "version_major": 2,
       "version_minor": 0
      },
      "text/plain": [
       "A Jupyter Widget"
      ]
     },
     "metadata": {},
     "output_type": "display_data"
    },
    {
     "name": "stdout",
     "output_type": "stream",
     "text": [
      "\n"
     ]
    },
    {
     "data": {
      "application/vnd.jupyter.widget-view+json": {
       "model_id": "da7b14bd4edb4816befa97e94faff765",
       "version_major": 2,
       "version_minor": 0
      },
      "text/plain": [
       "A Jupyter Widget"
      ]
     },
     "metadata": {},
     "output_type": "display_data"
    },
    {
     "name": "stdout",
     "output_type": "stream",
     "text": [
      "\n"
     ]
    },
    {
     "data": {
      "application/vnd.jupyter.widget-view+json": {
       "model_id": "3d6a69d9bd5947d49c488fd1204b2f4d",
       "version_major": 2,
       "version_minor": 0
      },
      "text/plain": [
       "A Jupyter Widget"
      ]
     },
     "metadata": {},
     "output_type": "display_data"
    },
    {
     "name": "stdout",
     "output_type": "stream",
     "text": [
      "\n"
     ]
    },
    {
     "data": {
      "application/vnd.jupyter.widget-view+json": {
       "model_id": "6451f4e7f9ab49b6a560b256e4ba3582",
       "version_major": 2,
       "version_minor": 0
      },
      "text/plain": [
       "A Jupyter Widget"
      ]
     },
     "metadata": {},
     "output_type": "display_data"
    },
    {
     "name": "stdout",
     "output_type": "stream",
     "text": [
      "\n",
      "http://mo.wikipedia.org/wiki/%D0%95%D1%83%D1%80%D0%BE%D0%BF%D0%B0\n",
      "http://mo.wikipedia.org/wiki/%D0%9F%D0%BE%D1%80%D1%82%D1%83%D0%B3%D0%B0%D0%BB%D0%B8%D1%8F\n",
      "http://mo.wikipedia.org/wiki/%D0%9F%D0%BE%D1%80%D1%82%D1%83%D0%B3%D0%B0%D0%BB%D0%B8%D1%8F\n",
      "http://mo.wikipedia.org/wiki/%D0%9F%D0%B0%D3%82%D0%B8%D0%BD%D0%B0_%D0%BF%D1%80%D0%B8%D0%BD%D1%87%D0%B8%D0%BF%D0%B0%D0%BB%D1%8D\n",
      "http://mo.wikipedia.org/wiki/%D0%9F%D0%B0%D3%82%D0%B8%D0%BD%D0%B0_%D0%BF%D1%80%D0%B8%D0%BD%D1%87%D0%B8%D0%BF%D0%B0%D0%BB%D1%8D\n"
     ]
    },
    {
     "data": {
      "application/vnd.jupyter.widget-view+json": {
       "model_id": "8d540edf694340989b187ae75b4da052",
       "version_major": 2,
       "version_minor": 0
      },
      "text/plain": [
       "A Jupyter Widget"
      ]
     },
     "metadata": {},
     "output_type": "display_data"
    },
    {
     "name": "stdout",
     "output_type": "stream",
     "text": [
      "\n"
     ]
    },
    {
     "data": {
      "application/vnd.jupyter.widget-view+json": {
       "model_id": "055b48161c8a4c008305ed9f8c7b29c1",
       "version_major": 2,
       "version_minor": 0
      },
      "text/plain": [
       "A Jupyter Widget"
      ]
     },
     "metadata": {},
     "output_type": "display_data"
    },
    {
     "name": "stdout",
     "output_type": "stream",
     "text": [
      "\n"
     ]
    },
    {
     "data": {
      "application/vnd.jupyter.widget-view+json": {
       "model_id": "f699ba4817e0438392c906baa1b7c437",
       "version_major": 2,
       "version_minor": 0
      },
      "text/plain": [
       "A Jupyter Widget"
      ]
     },
     "metadata": {},
     "output_type": "display_data"
    },
    {
     "name": "stdout",
     "output_type": "stream",
     "text": [
      "\n"
     ]
    },
    {
     "data": {
      "application/vnd.jupyter.widget-view+json": {
       "model_id": "ec395f5b4a9943c2a04fac6d76b5b216",
       "version_major": 2,
       "version_minor": 0
      },
      "text/plain": [
       "A Jupyter Widget"
      ]
     },
     "metadata": {},
     "output_type": "display_data"
    },
    {
     "name": "stdout",
     "output_type": "stream",
     "text": [
      "\n"
     ]
    },
    {
     "data": {
      "application/vnd.jupyter.widget-view+json": {
       "model_id": "d648c6c6d2eb4027bc696c731e7e95cd",
       "version_major": 2,
       "version_minor": 0
      },
      "text/plain": [
       "A Jupyter Widget"
      ]
     },
     "metadata": {},
     "output_type": "display_data"
    },
    {
     "name": "stdout",
     "output_type": "stream",
     "text": [
      "\n"
     ]
    },
    {
     "data": {
      "application/vnd.jupyter.widget-view+json": {
       "model_id": "af816267c08d4042b349427045d671e8",
       "version_major": 2,
       "version_minor": 0
      },
      "text/plain": [
       "A Jupyter Widget"
      ]
     },
     "metadata": {},
     "output_type": "display_data"
    },
    {
     "name": "stdout",
     "output_type": "stream",
     "text": [
      "\n"
     ]
    },
    {
     "data": {
      "application/vnd.jupyter.widget-view+json": {
       "model_id": "7db66a28273847d5a4bb82caaf2199b8",
       "version_major": 2,
       "version_minor": 0
      },
      "text/plain": [
       "A Jupyter Widget"
      ]
     },
     "metadata": {},
     "output_type": "display_data"
    },
    {
     "name": "stdout",
     "output_type": "stream",
     "text": [
      "\n"
     ]
    },
    {
     "data": {
      "application/vnd.jupyter.widget-view+json": {
       "model_id": "a77f78527bfb4d228a573372380f4422",
       "version_major": 2,
       "version_minor": 0
      },
      "text/plain": [
       "A Jupyter Widget"
      ]
     },
     "metadata": {},
     "output_type": "display_data"
    },
    {
     "name": "stdout",
     "output_type": "stream",
     "text": [
      "\n",
      "http://mo.wikipedia.org/wiki/%D0%95%D1%83%D1%80%D0%BE%D0%BF%D0%B0\n",
      "http://mo.wikipedia.org/wiki/%D0%A0%D0%B8%D0%B3%D0%B0\n",
      "http://mo.wikipedia.org/wiki/%D0%95%D1%81%D1%82%D0%BE%D0%BD%D0%B8%D1%8F\n",
      "http://mo.wikipedia.org/wiki/%D0%9B%D0%B8%D1%82%D1%83%D0%B0%D0%BD%D0%B8%D1%8F\n",
      "http://mo.wikipedia.org/wiki/%D0%91%D0%B5%D0%BB%D0%B0%D1%80%D1%83%D1%81\n",
      "http://mo.wikipedia.org/wiki/%D0%A0%D1%83%D1%81%D0%B8%D1%8F\n",
      "http://mo.wikipedia.org/wiki/%D0%9B%D0%B8%D0%BC%D0%B1%D1%8D_%D0%BE%D1%84%D0%B8%D1%87%D0%B8%D0%B0%D0%BB%D1%8D\n",
      "http://mo.wikipedia.org/wiki/%D0%9A%D0%B0%D0%BF%D0%B8%D1%82%D0%B0%D0%BB%D1%8D\n",
      "http://mo.wikipedia.org/wiki/%D0%A0%D0%B8%D0%B3%D0%B0\n",
      "http://mo.wikipedia.org/wiki/%D0%A1%D0%B8%D1%81%D1%82%D0%B5%D0%BC_%D0%BF%D0%BE%D0%BB%D0%B8%D1%82%D0%B8%D0%BA\n",
      "http://mo.wikipedia.org/wiki/%D0%A1%D1%83%D0%BF%D1%80%D0%B0%D1%84%D0%B0%D1%86%D1%8D\n",
      "http://mo.wikipedia.org/wiki/%D0%9F%D0%BE%D0%BF%D1%83%D0%BB%D0%B0%D1%86%D0%B8%D0%B5\n",
      "http://mo.wikipedia.org/wiki/%D0%94%D0%B5%D0%BD%D1%81%D0%B8%D1%82%D0%B0%D1%82%D1%8F_%D0%BF%D0%BE%D0%BF%D1%83%D0%BB%D0%B0%D1%86%D0%B8%D0%B5%D0%B9\n",
      "http://mo.wikipedia.org/wiki/%D0%9F%D1%80%D0%BE%D0%B4%D1%83%D1%81_%D0%B8%D0%BD%D1%82%D0%B5%D1%80%D0%BD_%D0%B1%D1%80%D1%83%D1%82\n",
      "http://mo.wikipedia.org/wiki/%D0%9C%D0%BE%D0%BD%D0%B5%D0%B4%D1%8D\n",
      "http://mo.wikipedia.org/wiki/%D0%A4%D1%83%D1%81_%D0%BE%D1%80%D0%B0%D1%80\n",
      "http://mo.wikipedia.org/wiki/%D0%98%D0%BC%D0%BD_%D0%BD%D0%B0%D1%86%D0%B8%D0%BE%D0%BD%D0%B0%D0%BB\n",
      "http://mo.wikipedia.org/wiki/%D0%94%D0%BE%D0%BC%D0%B5%D0%BD%D0%B8%D1%83_%D0%BD%D0%B0%D1%86%D0%B8%D0%BE%D0%BD%D0%B0%D0%BB_%D0%B4%D0%B5_%D0%BD%D0%B8%D0%B2%D0%B5%D0%BB_%D1%81%D1%83%D0%BF%D0%B5%D1%80%D0%B8%D0%BE%D1%80\n",
      "http://mo.wikipedia.org/wiki/%D0%96%D1%83%D0%B4%D0%B5%D1%86%D0%B5%D0%BB%D0%B5_%D0%9B%D0%B5%D1%82%D0%BE%D0%BD%D0%B5%D0%B9\n",
      "http://mo.wikipedia.org/wiki/%D0%96%D1%83%D0%B4%D0%B5%D1%86%D1%83%D0%BB_%D0%90%D0%B9%D0%B7%D0%BA%D1%80%D0%B0%D1%83%D0%BA%D0%BB%D0%B5%D1%81\n",
      "http://mo.wikipedia.org/wiki/%D0%96%D1%83%D0%B4%D0%B5%D1%86%D1%83%D0%BB_%D0%90%D0%BB%D1%83%D0%BA%D1%81%D0%BD%D0%B5%D1%81\n",
      "http://mo.wikipedia.org/wiki/%D0%96%D1%83%D0%B4%D0%B5%D1%86%D1%83%D0%BB_%D0%91%D0%B0%D1%83%D1%81%D0%BA%D0%B0%D1%81\n",
      "http://mo.wikipedia.org/wiki/%D0%96%D1%83%D0%B4%D0%B5%D1%86%D1%83%D0%BB_%D0%A6%D0%B5%D1%81%D1%83\n",
      "http://mo.wikipedia.org/wiki/%D0%96%D1%83%D0%B4%D0%B5%D1%86%D1%83%D0%BB_%D0%94%D0%B0%D1%83%D0%B3%D0%B0%D0%B2%D0%BF%D0%B8%D0%BB%D1%81\n",
      "http://mo.wikipedia.org/wiki/%D0%96%D1%83%D0%B4%D0%B5%D1%86%D1%83%D0%BB_%D0%94%D0%BE%D0%B1%D0%B5%D0%BB%D0%B5%D1%81\n",
      "http://mo.wikipedia.org/wiki/%D0%96%D1%83%D0%B4%D0%B5%D1%86%D1%83%D0%BB_%D0%93%D1%83%D0%BB%D0%B1%D0%B5%D0%BD%D0%B5%D1%81\n",
      "http://mo.wikipedia.org/wiki/%D0%96%D1%83%D0%B4%D0%B5%D1%86%D1%83%D0%BB_%D0%95%D0%BA%D0%B0%D0%B1%D0%BF%D0%B8%D0%BB%D1%81\n",
      "http://mo.wikipedia.org/wiki/%D0%96%D1%83%D0%B4%D0%B5%D1%86%D1%83%D0%BB_%D0%AE%D1%80%D0%BC%D0%B0%D0%BB%D0%B0\n",
      "http://mo.wikipedia.org/wiki/%D0%96%D1%83%D0%B4%D0%B5%D1%86%D1%83%D0%BB_%D0%9A%D1%80%D0%B0%D1%81%D0%BB%D0%B0%D0%B2%D0%B0%D1%81\n",
      "http://mo.wikipedia.org/wiki/%D0%96%D1%83%D0%B4%D0%B5%D1%86%D1%83%D0%BB_%D0%9A%D1%83%D0%BB%D0%B4%D0%B8%D0%B3%D0%B0%D1%81\n",
      "http://mo.wikipedia.org/wiki/%D0%96%D1%83%D0%B4%D0%B5%D1%86%D1%83%D0%BB_%D0%9B%D0%B8%D0%BC%D0%B1%D0%B0%D0%B7%D1%83\n",
      "http://mo.wikipedia.org/wiki/%D0%96%D1%83%D0%B4%D0%B5%D1%86%D1%83%D0%BB_%D0%9C%D0%B0%D0%B4%D0%BE%D0%BD%D0%B0%D1%81\n",
      "http://mo.wikipedia.org/wiki/%D0%96%D1%83%D0%B4%D0%B5%D1%86%D1%83%D0%BB_%D0%9E%D0%B3%D1%80%D0%B5%D1%81\n",
      "http://mo.wikipedia.org/wiki/%D0%96%D1%83%D0%B4%D0%B5%D1%86%D1%83%D0%BB_%D0%9F%D1%80%D0%B5%D0%B9%D0%BB%D1%83\n",
      "http://mo.wikipedia.org/wiki/%D0%96%D1%83%D0%B4%D0%B5%D1%86%D1%83%D0%BB_%D0%A0%D0%B5%D0%B7%D0%B5%D0%BA%D0%BD%D0%B5\n",
      "http://mo.wikipedia.org/wiki/%D0%96%D1%83%D0%B4%D0%B5%D1%86%D1%83%D0%BB_%D0%A0%D0%B8%D0%B3%D0%B0\n",
      "http://mo.wikipedia.org/wiki/%D0%96%D1%83%D0%B4%D0%B5%D1%86%D1%83%D0%BB_%D0%A1%D0%B0%D0%BB%D0%B4%D1%83%D1%81\n",
      "http://mo.wikipedia.org/wiki/%D0%96%D1%83%D0%B4%D0%B5%D1%86%D1%83%D0%BB_%D0%A2%D0%B0%D0%BB%D1%81%D1%83\n",
      "http://mo.wikipedia.org/wiki/%D0%96%D1%83%D0%B4%D0%B5%D1%86%D1%83%D0%BB_%D0%A2%D1%83%D0%BA%D1%83%D0%BC%D0%B0\n",
      "http://mo.wikipedia.org/wiki/%D0%96%D1%83%D0%B4%D0%B5%D1%86%D1%83%D0%BB_%D0%92%D0%B0%D0%BB%D0%BC%D0%B8%D0%B5%D1%80%D0%B0%D1%81\n",
      "http://mo.wikipedia.org/wiki/%D0%96%D1%83%D0%B4%D0%B5%D1%86%D1%83%D0%BB_%D0%92%D0%B5%D0%BD%D1%82%D1%81%D0%BF%D0%B8%D0%BB%D1%81\n",
      "http://mo.wikipedia.org/wiki/%D0%9B%D0%B5%D1%82%D0%BE%D0%BD%D0%B8%D1%8F\n",
      "http://mo.wikipedia.org/wiki/%D0%9B%D0%B5%D1%82%D0%BE%D0%BD%D0%B8%D1%8F\n",
      "http://mo.wikipedia.org/wiki/%D0%9F%D0%B0%D3%82%D0%B8%D0%BD%D0%B0_%D0%BF%D1%80%D0%B8%D0%BD%D1%87%D0%B8%D0%BF%D0%B0%D0%BB%D1%8D\n",
      "http://mo.wikipedia.org/wiki/%D0%9F%D0%B0%D3%82%D0%B8%D0%BD%D0%B0_%D0%BF%D1%80%D0%B8%D0%BD%D1%87%D0%B8%D0%BF%D0%B0%D0%BB%D1%8D\n"
     ]
    },
    {
     "data": {
      "application/vnd.jupyter.widget-view+json": {
       "model_id": "7c080ebc5d9748e69b60b4f76c7f561c",
       "version_major": 2,
       "version_minor": 0
      },
      "text/plain": [
       "A Jupyter Widget"
      ]
     },
     "metadata": {},
     "output_type": "display_data"
    },
    {
     "name": "stdout",
     "output_type": "stream",
     "text": [
      "\n"
     ]
    },
    {
     "data": {
      "application/vnd.jupyter.widget-view+json": {
       "model_id": "4e69f648bf0541f1a868faee21354c76",
       "version_major": 2,
       "version_minor": 0
      },
      "text/plain": [
       "A Jupyter Widget"
      ]
     },
     "metadata": {},
     "output_type": "display_data"
    },
    {
     "name": "stdout",
     "output_type": "stream",
     "text": [
      "\n"
     ]
    },
    {
     "data": {
      "application/vnd.jupyter.widget-view+json": {
       "model_id": "9e2bc30dbca546ef9a98dc5516babb0f",
       "version_major": 2,
       "version_minor": 0
      },
      "text/plain": [
       "A Jupyter Widget"
      ]
     },
     "metadata": {},
     "output_type": "display_data"
    },
    {
     "name": "stdout",
     "output_type": "stream",
     "text": [
      "\n"
     ]
    },
    {
     "data": {
      "application/vnd.jupyter.widget-view+json": {
       "model_id": "3a8ba1c07ca14df1b5f87afe70d4af01",
       "version_major": 2,
       "version_minor": 0
      },
      "text/plain": [
       "A Jupyter Widget"
      ]
     },
     "metadata": {},
     "output_type": "display_data"
    },
    {
     "name": "stdout",
     "output_type": "stream",
     "text": [
      "\n"
     ]
    },
    {
     "data": {
      "application/vnd.jupyter.widget-view+json": {
       "model_id": "5b13d03f308a4be29c38bd31bb01397d",
       "version_major": 2,
       "version_minor": 0
      },
      "text/plain": [
       "A Jupyter Widget"
      ]
     },
     "metadata": {},
     "output_type": "display_data"
    },
    {
     "name": "stdout",
     "output_type": "stream",
     "text": [
      "\n",
      "http://mo.wikipedia.org/wiki/%D0%9B%D0%B5%D1%82%D0%BE%D0%BD%D0%B8%D1%8F\n",
      "http://mo.wikipedia.org/wiki/%D0%9B%D0%B5%D1%82%D0%BE%D0%BD%D0%B8%D1%8F\n",
      "http://mo.wikipedia.org/wiki/%D0%96%D1%83%D0%B4%D0%B5%D1%86%D0%B5%D0%BB%D0%B5_%D0%9B%D0%B5%D1%82%D0%BE%D0%BD%D0%B5%D0%B9\n",
      "http://mo.wikipedia.org/wiki/%D0%96%D1%83%D0%B4%D0%B5%D1%86%D1%83%D0%BB_%D0%90%D0%B9%D0%B7%D0%BA%D1%80%D0%B0%D1%83%D0%BA%D0%BB%D0%B5%D1%81\n",
      "http://mo.wikipedia.org/wiki/%D0%96%D1%83%D0%B4%D0%B5%D1%86%D1%83%D0%BB_%D0%90%D0%BB%D1%83%D0%BA%D1%81%D0%BD%D0%B5%D1%81\n",
      "http://mo.wikipedia.org/wiki/%D0%96%D1%83%D0%B4%D0%B5%D1%86%D1%83%D0%BB_%D0%91%D0%B0%D1%83%D1%81%D0%BA%D0%B0%D1%81\n",
      "http://mo.wikipedia.org/wiki/%D0%96%D1%83%D0%B4%D0%B5%D1%86%D1%83%D0%BB_%D0%A6%D0%B5%D1%81%D1%83\n",
      "http://mo.wikipedia.org/wiki/%D0%96%D1%83%D0%B4%D0%B5%D1%86%D1%83%D0%BB_%D0%94%D0%B0%D1%83%D0%B3%D0%B0%D0%B2%D0%BF%D0%B8%D0%BB%D1%81\n",
      "http://mo.wikipedia.org/wiki/%D0%96%D1%83%D0%B4%D0%B5%D1%86%D1%83%D0%BB_%D0%94%D0%BE%D0%B1%D0%B5%D0%BB%D0%B5%D1%81\n",
      "http://mo.wikipedia.org/wiki/%D0%96%D1%83%D0%B4%D0%B5%D1%86%D1%83%D0%BB_%D0%93%D1%83%D0%BB%D0%B1%D0%B5%D0%BD%D0%B5%D1%81\n",
      "http://mo.wikipedia.org/wiki/%D0%96%D1%83%D0%B4%D0%B5%D1%86%D1%83%D0%BB_%D0%95%D0%BA%D0%B0%D0%B1%D0%BF%D0%B8%D0%BB%D1%81\n",
      "http://mo.wikipedia.org/wiki/%D0%96%D1%83%D0%B4%D0%B5%D1%86%D1%83%D0%BB_%D0%AE%D1%80%D0%BC%D0%B0%D0%BB%D0%B0\n",
      "http://mo.wikipedia.org/wiki/%D0%96%D1%83%D0%B4%D0%B5%D1%86%D1%83%D0%BB_%D0%9A%D1%80%D0%B0%D1%81%D0%BB%D0%B0%D0%B2%D0%B0%D1%81\n",
      "http://mo.wikipedia.org/wiki/%D0%96%D1%83%D0%B4%D0%B5%D1%86%D1%83%D0%BB_%D0%9A%D1%83%D0%BB%D0%B4%D0%B8%D0%B3%D0%B0%D1%81\n",
      "http://mo.wikipedia.org/wiki/%D0%96%D1%83%D0%B4%D0%B5%D1%86%D1%83%D0%BB_%D0%9B%D0%B8%D0%BC%D0%B1%D0%B0%D0%B7%D1%83\n",
      "http://mo.wikipedia.org/wiki/%D0%96%D1%83%D0%B4%D0%B5%D1%86%D1%83%D0%BB_%D0%9C%D0%B0%D0%B4%D0%BE%D0%BD%D0%B0%D1%81\n",
      "http://mo.wikipedia.org/wiki/%D0%96%D1%83%D0%B4%D0%B5%D1%86%D1%83%D0%BB_%D0%9E%D0%B3%D1%80%D0%B5%D1%81\n",
      "http://mo.wikipedia.org/wiki/%D0%96%D1%83%D0%B4%D0%B5%D1%86%D1%83%D0%BB_%D0%9F%D1%80%D0%B5%D0%B9%D0%BB%D1%83\n",
      "http://mo.wikipedia.org/wiki/%D0%96%D1%83%D0%B4%D0%B5%D1%86%D1%83%D0%BB_%D0%A0%D0%B5%D0%B7%D0%B5%D0%BA%D0%BD%D0%B5\n",
      "http://mo.wikipedia.org/wiki/%D0%96%D1%83%D0%B4%D0%B5%D1%86%D1%83%D0%BB_%D0%A0%D0%B8%D0%B3%D0%B0\n",
      "http://mo.wikipedia.org/wiki/%D0%96%D1%83%D0%B4%D0%B5%D1%86%D1%83%D0%BB_%D0%A1%D0%B0%D0%BB%D0%B4%D1%83%D1%81\n",
      "http://mo.wikipedia.org/wiki/%D0%96%D1%83%D0%B4%D0%B5%D1%86%D1%83%D0%BB_%D0%A2%D0%B0%D0%BB%D1%81%D1%83\n",
      "http://mo.wikipedia.org/wiki/%D0%96%D1%83%D0%B4%D0%B5%D1%86%D1%83%D0%BB_%D0%A2%D1%83%D0%BA%D1%83%D0%BC%D0%B0\n",
      "http://mo.wikipedia.org/wiki/%D0%96%D1%83%D0%B4%D0%B5%D1%86%D1%83%D0%BB_%D0%92%D0%B0%D0%BB%D0%BC%D0%B8%D0%B5%D1%80%D0%B0%D1%81\n",
      "http://mo.wikipedia.org/wiki/%D0%96%D1%83%D0%B4%D0%B5%D1%86%D1%83%D0%BB_%D0%92%D0%B5%D0%BD%D1%82%D1%81%D0%BF%D0%B8%D0%BB%D1%81\n",
      "http://mo.wikipedia.org/wiki/%D0%96%D1%83%D0%B4%D0%B5%D1%86%D1%83%D0%BB_%D0%92%D0%B5%D0%BD%D1%82%D1%81%D0%BF%D0%B8%D0%BB%D1%81\n",
      "http://mo.wikipedia.org/wiki/%D0%9F%D0%B0%D3%82%D0%B8%D0%BD%D0%B0_%D0%BF%D1%80%D0%B8%D0%BD%D1%87%D0%B8%D0%BF%D0%B0%D0%BB%D1%8D\n",
      "http://mo.wikipedia.org/wiki/%D0%9F%D0%B0%D3%82%D0%B8%D0%BD%D0%B0_%D0%BF%D1%80%D0%B8%D0%BD%D1%87%D0%B8%D0%BF%D0%B0%D0%BB%D1%8D\n"
     ]
    },
    {
     "data": {
      "application/vnd.jupyter.widget-view+json": {
       "model_id": "c3d717f993cc4dfbaf3e515a25c24a7d",
       "version_major": 2,
       "version_minor": 0
      },
      "text/plain": [
       "A Jupyter Widget"
      ]
     },
     "metadata": {},
     "output_type": "display_data"
    },
    {
     "name": "stdout",
     "output_type": "stream",
     "text": [
      "\n"
     ]
    },
    {
     "data": {
      "application/vnd.jupyter.widget-view+json": {
       "model_id": "8c4e4f1291cd418f8749c8eb9eb8d779",
       "version_major": 2,
       "version_minor": 0
      },
      "text/plain": [
       "A Jupyter Widget"
      ]
     },
     "metadata": {},
     "output_type": "display_data"
    },
    {
     "name": "stdout",
     "output_type": "stream",
     "text": [
      "\n"
     ]
    },
    {
     "data": {
      "application/vnd.jupyter.widget-view+json": {
       "model_id": "fc55052f689d433da472896715df76ea",
       "version_major": 2,
       "version_minor": 0
      },
      "text/plain": [
       "A Jupyter Widget"
      ]
     },
     "metadata": {},
     "output_type": "display_data"
    },
    {
     "name": "stdout",
     "output_type": "stream",
     "text": [
      "\n"
     ]
    },
    {
     "data": {
      "application/vnd.jupyter.widget-view+json": {
       "model_id": "3cf7340c7a804097b25b11c5ac8691a4",
       "version_major": 2,
       "version_minor": 0
      },
      "text/plain": [
       "A Jupyter Widget"
      ]
     },
     "metadata": {},
     "output_type": "display_data"
    },
    {
     "name": "stdout",
     "output_type": "stream",
     "text": [
      "\n"
     ]
    },
    {
     "data": {
      "application/vnd.jupyter.widget-view+json": {
       "model_id": "2baf2cd9b8c34875a710960c74489a72",
       "version_major": 2,
       "version_minor": 0
      },
      "text/plain": [
       "A Jupyter Widget"
      ]
     },
     "metadata": {},
     "output_type": "display_data"
    },
    {
     "name": "stdout",
     "output_type": "stream",
     "text": [
      "\n",
      "http://mo.wikipedia.org/wiki/%D0%9B%D0%B5%D1%82%D0%BE%D0%BD%D0%B8%D1%8F\n",
      "http://mo.wikipedia.org/wiki/%D0%9B%D0%B5%D1%82%D0%BE%D0%BD%D0%B8%D1%8F\n",
      "http://mo.wikipedia.org/wiki/%D0%96%D1%83%D0%B4%D0%B5%D1%86%D0%B5%D0%BB%D0%B5_%D0%9B%D0%B5%D1%82%D0%BE%D0%BD%D0%B5%D0%B9\n",
      "http://mo.wikipedia.org/wiki/%D0%96%D1%83%D0%B4%D0%B5%D1%86%D1%83%D0%BB_%D0%90%D0%B9%D0%B7%D0%BA%D1%80%D0%B0%D1%83%D0%BA%D0%BB%D0%B5%D1%81\n",
      "http://mo.wikipedia.org/wiki/%D0%96%D1%83%D0%B4%D0%B5%D1%86%D1%83%D0%BB_%D0%90%D0%BB%D1%83%D0%BA%D1%81%D0%BD%D0%B5%D1%81\n",
      "http://mo.wikipedia.org/wiki/%D0%96%D1%83%D0%B4%D0%B5%D1%86%D1%83%D0%BB_%D0%91%D0%B0%D1%83%D1%81%D0%BA%D0%B0%D1%81\n",
      "http://mo.wikipedia.org/wiki/%D0%96%D1%83%D0%B4%D0%B5%D1%86%D1%83%D0%BB_%D0%A6%D0%B5%D1%81%D1%83\n",
      "http://mo.wikipedia.org/wiki/%D0%96%D1%83%D0%B4%D0%B5%D1%86%D1%83%D0%BB_%D0%94%D0%B0%D1%83%D0%B3%D0%B0%D0%B2%D0%BF%D0%B8%D0%BB%D1%81\n",
      "http://mo.wikipedia.org/wiki/%D0%96%D1%83%D0%B4%D0%B5%D1%86%D1%83%D0%BB_%D0%94%D0%BE%D0%B1%D0%B5%D0%BB%D0%B5%D1%81\n",
      "http://mo.wikipedia.org/wiki/%D0%96%D1%83%D0%B4%D0%B5%D1%86%D1%83%D0%BB_%D0%93%D1%83%D0%BB%D0%B1%D0%B5%D0%BD%D0%B5%D1%81\n",
      "http://mo.wikipedia.org/wiki/%D0%96%D1%83%D0%B4%D0%B5%D1%86%D1%83%D0%BB_%D0%95%D0%BA%D0%B0%D0%B1%D0%BF%D0%B8%D0%BB%D1%81\n",
      "http://mo.wikipedia.org/wiki/%D0%96%D1%83%D0%B4%D0%B5%D1%86%D1%83%D0%BB_%D0%AE%D1%80%D0%BC%D0%B0%D0%BB%D0%B0\n",
      "http://mo.wikipedia.org/wiki/%D0%96%D1%83%D0%B4%D0%B5%D1%86%D1%83%D0%BB_%D0%9A%D1%80%D0%B0%D1%81%D0%BB%D0%B0%D0%B2%D0%B0%D1%81\n",
      "http://mo.wikipedia.org/wiki/%D0%96%D1%83%D0%B4%D0%B5%D1%86%D1%83%D0%BB_%D0%9A%D1%83%D0%BB%D0%B4%D0%B8%D0%B3%D0%B0%D1%81\n",
      "http://mo.wikipedia.org/wiki/%D0%96%D1%83%D0%B4%D0%B5%D1%86%D1%83%D0%BB_%D0%9B%D0%B8%D0%BC%D0%B1%D0%B0%D0%B7%D1%83\n",
      "http://mo.wikipedia.org/wiki/%D0%96%D1%83%D0%B4%D0%B5%D1%86%D1%83%D0%BB_%D0%9C%D0%B0%D0%B4%D0%BE%D0%BD%D0%B0%D1%81\n",
      "http://mo.wikipedia.org/wiki/%D0%96%D1%83%D0%B4%D0%B5%D1%86%D1%83%D0%BB_%D0%9E%D0%B3%D1%80%D0%B5%D1%81\n",
      "http://mo.wikipedia.org/wiki/%D0%96%D1%83%D0%B4%D0%B5%D1%86%D1%83%D0%BB_%D0%9F%D1%80%D0%B5%D0%B9%D0%BB%D1%83\n",
      "http://mo.wikipedia.org/wiki/%D0%96%D1%83%D0%B4%D0%B5%D1%86%D1%83%D0%BB_%D0%A0%D0%B5%D0%B7%D0%B5%D0%BA%D0%BD%D0%B5\n",
      "http://mo.wikipedia.org/wiki/%D0%96%D1%83%D0%B4%D0%B5%D1%86%D1%83%D0%BB_%D0%A0%D0%B8%D0%B3%D0%B0\n",
      "http://mo.wikipedia.org/wiki/%D0%96%D1%83%D0%B4%D0%B5%D1%86%D1%83%D0%BB_%D0%A1%D0%B0%D0%BB%D0%B4%D1%83%D1%81\n",
      "http://mo.wikipedia.org/wiki/%D0%96%D1%83%D0%B4%D0%B5%D1%86%D1%83%D0%BB_%D0%A2%D0%B0%D0%BB%D1%81%D1%83\n",
      "http://mo.wikipedia.org/wiki/%D0%96%D1%83%D0%B4%D0%B5%D1%86%D1%83%D0%BB_%D0%A2%D1%83%D0%BA%D1%83%D0%BC%D0%B0\n",
      "http://mo.wikipedia.org/wiki/%D0%96%D1%83%D0%B4%D0%B5%D1%86%D1%83%D0%BB_%D0%92%D0%B5%D0%BD%D1%82%D1%81%D0%BF%D0%B8%D0%BB%D1%81\n",
      "http://mo.wikipedia.org/wiki/%D0%96%D1%83%D0%B4%D0%B5%D1%86%D1%83%D0%BB_%D0%92%D0%B0%D0%BB%D0%BC%D0%B8%D0%B5%D1%80%D0%B0%D1%81\n",
      "http://mo.wikipedia.org/wiki/%D0%96%D1%83%D0%B4%D0%B5%D1%86%D1%83%D0%BB_%D0%92%D0%B0%D0%BB%D0%BC%D0%B8%D0%B5%D1%80%D0%B0%D1%81\n",
      "http://mo.wikipedia.org/wiki/%D0%9F%D0%B0%D3%82%D0%B8%D0%BD%D0%B0_%D0%BF%D1%80%D0%B8%D0%BD%D1%87%D0%B8%D0%BF%D0%B0%D0%BB%D1%8D\n",
      "http://mo.wikipedia.org/wiki/%D0%9F%D0%B0%D3%82%D0%B8%D0%BD%D0%B0_%D0%BF%D1%80%D0%B8%D0%BD%D1%87%D0%B8%D0%BF%D0%B0%D0%BB%D1%8D\n"
     ]
    },
    {
     "data": {
      "application/vnd.jupyter.widget-view+json": {
       "model_id": "39dd46ad23b84a498916cb80d1443523",
       "version_major": 2,
       "version_minor": 0
      },
      "text/plain": [
       "A Jupyter Widget"
      ]
     },
     "metadata": {},
     "output_type": "display_data"
    },
    {
     "name": "stdout",
     "output_type": "stream",
     "text": [
      "\n"
     ]
    },
    {
     "data": {
      "application/vnd.jupyter.widget-view+json": {
       "model_id": "df2bbd627b4e4db3bbf960b6c89993a9",
       "version_major": 2,
       "version_minor": 0
      },
      "text/plain": [
       "A Jupyter Widget"
      ]
     },
     "metadata": {},
     "output_type": "display_data"
    },
    {
     "name": "stdout",
     "output_type": "stream",
     "text": [
      "\n"
     ]
    },
    {
     "data": {
      "application/vnd.jupyter.widget-view+json": {
       "model_id": "6542dd3a11c24899b0701ca24ae857a5",
       "version_major": 2,
       "version_minor": 0
      },
      "text/plain": [
       "A Jupyter Widget"
      ]
     },
     "metadata": {},
     "output_type": "display_data"
    },
    {
     "name": "stdout",
     "output_type": "stream",
     "text": [
      "\n"
     ]
    },
    {
     "data": {
      "application/vnd.jupyter.widget-view+json": {
       "model_id": "0e35fd2859e549619b96714168f526ef",
       "version_major": 2,
       "version_minor": 0
      },
      "text/plain": [
       "A Jupyter Widget"
      ]
     },
     "metadata": {},
     "output_type": "display_data"
    },
    {
     "name": "stdout",
     "output_type": "stream",
     "text": [
      "\n"
     ]
    },
    {
     "data": {
      "application/vnd.jupyter.widget-view+json": {
       "model_id": "1d84ca6c0afc4b208111272d3d0ef813",
       "version_major": 2,
       "version_minor": 0
      },
      "text/plain": [
       "A Jupyter Widget"
      ]
     },
     "metadata": {},
     "output_type": "display_data"
    },
    {
     "name": "stdout",
     "output_type": "stream",
     "text": [
      "\n"
     ]
    },
    {
     "data": {
      "application/vnd.jupyter.widget-view+json": {
       "model_id": "d6418dbbd32745ccb9b686c285e166aa",
       "version_major": 2,
       "version_minor": 0
      },
      "text/plain": [
       "A Jupyter Widget"
      ]
     },
     "metadata": {},
     "output_type": "display_data"
    },
    {
     "name": "stdout",
     "output_type": "stream",
     "text": [
      "\n",
      "http://mo.wikipedia.org/wiki/%D0%9B%D0%B5%D1%82%D0%BE%D0%BD%D0%B8%D1%8F\n",
      "http://mo.wikipedia.org/wiki/%D0%9B%D0%B5%D1%82%D0%BE%D0%BD%D0%B8%D1%8F\n",
      "http://mo.wikipedia.org/wiki/%D0%96%D1%83%D0%B4%D0%B5%D1%86%D0%B5%D0%BB%D0%B5_%D0%9B%D0%B5%D1%82%D0%BE%D0%BD%D0%B5%D0%B9\n",
      "http://mo.wikipedia.org/wiki/%D0%96%D1%83%D0%B4%D0%B5%D1%86%D1%83%D0%BB_%D0%90%D0%B9%D0%B7%D0%BA%D1%80%D0%B0%D1%83%D0%BA%D0%BB%D0%B5%D1%81\n",
      "http://mo.wikipedia.org/wiki/%D0%96%D1%83%D0%B4%D0%B5%D1%86%D1%83%D0%BB_%D0%90%D0%BB%D1%83%D0%BA%D1%81%D0%BD%D0%B5%D1%81\n",
      "http://mo.wikipedia.org/wiki/%D0%96%D1%83%D0%B4%D0%B5%D1%86%D1%83%D0%BB_%D0%91%D0%B0%D1%83%D1%81%D0%BA%D0%B0%D1%81\n",
      "http://mo.wikipedia.org/wiki/%D0%96%D1%83%D0%B4%D0%B5%D1%86%D1%83%D0%BB_%D0%A6%D0%B5%D1%81%D1%83\n",
      "http://mo.wikipedia.org/wiki/%D0%96%D1%83%D0%B4%D0%B5%D1%86%D1%83%D0%BB_%D0%94%D0%B0%D1%83%D0%B3%D0%B0%D0%B2%D0%BF%D0%B8%D0%BB%D1%81\n",
      "http://mo.wikipedia.org/wiki/%D0%96%D1%83%D0%B4%D0%B5%D1%86%D1%83%D0%BB_%D0%94%D0%BE%D0%B1%D0%B5%D0%BB%D0%B5%D1%81\n",
      "http://mo.wikipedia.org/wiki/%D0%96%D1%83%D0%B4%D0%B5%D1%86%D1%83%D0%BB_%D0%93%D1%83%D0%BB%D0%B1%D0%B5%D0%BD%D0%B5%D1%81\n",
      "http://mo.wikipedia.org/wiki/%D0%96%D1%83%D0%B4%D0%B5%D1%86%D1%83%D0%BB_%D0%95%D0%BA%D0%B0%D0%B1%D0%BF%D0%B8%D0%BB%D1%81\n",
      "http://mo.wikipedia.org/wiki/%D0%96%D1%83%D0%B4%D0%B5%D1%86%D1%83%D0%BB_%D0%AE%D1%80%D0%BC%D0%B0%D0%BB%D0%B0\n",
      "http://mo.wikipedia.org/wiki/%D0%96%D1%83%D0%B4%D0%B5%D1%86%D1%83%D0%BB_%D0%9A%D1%80%D0%B0%D1%81%D0%BB%D0%B0%D0%B2%D0%B0%D1%81\n",
      "http://mo.wikipedia.org/wiki/%D0%96%D1%83%D0%B4%D0%B5%D1%86%D1%83%D0%BB_%D0%9A%D1%83%D0%BB%D0%B4%D0%B8%D0%B3%D0%B0%D1%81\n",
      "http://mo.wikipedia.org/wiki/%D0%96%D1%83%D0%B4%D0%B5%D1%86%D1%83%D0%BB_%D0%9B%D0%B8%D0%BC%D0%B1%D0%B0%D0%B7%D1%83\n",
      "http://mo.wikipedia.org/wiki/%D0%96%D1%83%D0%B4%D0%B5%D1%86%D1%83%D0%BB_%D0%9C%D0%B0%D0%B4%D0%BE%D0%BD%D0%B0%D1%81\n",
      "http://mo.wikipedia.org/wiki/%D0%96%D1%83%D0%B4%D0%B5%D1%86%D1%83%D0%BB_%D0%9E%D0%B3%D1%80%D0%B5%D1%81\n",
      "http://mo.wikipedia.org/wiki/%D0%96%D1%83%D0%B4%D0%B5%D1%86%D1%83%D0%BB_%D0%9F%D1%80%D0%B5%D0%B9%D0%BB%D1%83\n",
      "http://mo.wikipedia.org/wiki/%D0%96%D1%83%D0%B4%D0%B5%D1%86%D1%83%D0%BB_%D0%A0%D0%B5%D0%B7%D0%B5%D0%BA%D0%BD%D0%B5\n",
      "http://mo.wikipedia.org/wiki/%D0%96%D1%83%D0%B4%D0%B5%D1%86%D1%83%D0%BB_%D0%A0%D0%B8%D0%B3%D0%B0\n",
      "http://mo.wikipedia.org/wiki/%D0%96%D1%83%D0%B4%D0%B5%D1%86%D1%83%D0%BB_%D0%A1%D0%B0%D0%BB%D0%B4%D1%83%D1%81\n",
      "http://mo.wikipedia.org/wiki/%D0%96%D1%83%D0%B4%D0%B5%D1%86%D1%83%D0%BB_%D0%A2%D0%B0%D0%BB%D1%81%D1%83\n",
      "http://mo.wikipedia.org/wiki/%D0%96%D1%83%D0%B4%D0%B5%D1%86%D1%83%D0%BB_%D0%92%D0%B0%D0%BB%D0%BC%D0%B8%D0%B5%D1%80%D0%B0%D1%81\n",
      "http://mo.wikipedia.org/wiki/%D0%96%D1%83%D0%B4%D0%B5%D1%86%D1%83%D0%BB_%D0%92%D0%B5%D0%BD%D1%82%D1%81%D0%BF%D0%B8%D0%BB%D1%81\n",
      "http://mo.wikipedia.org/wiki/%D0%96%D1%83%D0%B4%D0%B5%D1%86%D1%83%D0%BB_%D0%A2%D1%83%D0%BA%D1%83%D0%BC%D0%B0\n",
      "http://mo.wikipedia.org/wiki/%D0%96%D1%83%D0%B4%D0%B5%D1%86%D1%83%D0%BB_%D0%A2%D1%83%D0%BA%D1%83%D0%BC%D0%B0\n",
      "http://mo.wikipedia.org/wiki/%D0%9F%D0%B0%D3%82%D0%B8%D0%BD%D0%B0_%D0%BF%D1%80%D0%B8%D0%BD%D1%87%D0%B8%D0%BF%D0%B0%D0%BB%D1%8D\n",
      "http://mo.wikipedia.org/wiki/%D0%9F%D0%B0%D3%82%D0%B8%D0%BD%D0%B0_%D0%BF%D1%80%D0%B8%D0%BD%D1%87%D0%B8%D0%BF%D0%B0%D0%BB%D1%8D\n"
     ]
    },
    {
     "data": {
      "application/vnd.jupyter.widget-view+json": {
       "model_id": "ceea147e6e4b41f1aace6da08a27e691",
       "version_major": 2,
       "version_minor": 0
      },
      "text/plain": [
       "A Jupyter Widget"
      ]
     },
     "metadata": {},
     "output_type": "display_data"
    },
    {
     "name": "stdout",
     "output_type": "stream",
     "text": [
      "\n"
     ]
    },
    {
     "data": {
      "application/vnd.jupyter.widget-view+json": {
       "model_id": "b7e436ef50004443a3d0590ac740c7a9",
       "version_major": 2,
       "version_minor": 0
      },
      "text/plain": [
       "A Jupyter Widget"
      ]
     },
     "metadata": {},
     "output_type": "display_data"
    },
    {
     "name": "stdout",
     "output_type": "stream",
     "text": [
      "\n"
     ]
    },
    {
     "data": {
      "application/vnd.jupyter.widget-view+json": {
       "model_id": "945a763cd954479ca4db3e0e14fa8cfb",
       "version_major": 2,
       "version_minor": 0
      },
      "text/plain": [
       "A Jupyter Widget"
      ]
     },
     "metadata": {},
     "output_type": "display_data"
    },
    {
     "name": "stdout",
     "output_type": "stream",
     "text": [
      "\n"
     ]
    },
    {
     "data": {
      "application/vnd.jupyter.widget-view+json": {
       "model_id": "84081873759b4fe484033577c006aac9",
       "version_major": 2,
       "version_minor": 0
      },
      "text/plain": [
       "A Jupyter Widget"
      ]
     },
     "metadata": {},
     "output_type": "display_data"
    },
    {
     "name": "stdout",
     "output_type": "stream",
     "text": [
      "\n"
     ]
    },
    {
     "data": {
      "application/vnd.jupyter.widget-view+json": {
       "model_id": "1efa09150a714bada2538572cc634011",
       "version_major": 2,
       "version_minor": 0
      },
      "text/plain": [
       "A Jupyter Widget"
      ]
     },
     "metadata": {},
     "output_type": "display_data"
    },
    {
     "name": "stdout",
     "output_type": "stream",
     "text": [
      "\n"
     ]
    },
    {
     "data": {
      "application/vnd.jupyter.widget-view+json": {
       "model_id": "5e618b6dce1a41649ee08ca28643e7d8",
       "version_major": 2,
       "version_minor": 0
      },
      "text/plain": [
       "A Jupyter Widget"
      ]
     },
     "metadata": {},
     "output_type": "display_data"
    },
    {
     "name": "stdout",
     "output_type": "stream",
     "text": [
      "\n"
     ]
    },
    {
     "data": {
      "application/vnd.jupyter.widget-view+json": {
       "model_id": "b4e9f151ed5b4a959344f809c0054afc",
       "version_major": 2,
       "version_minor": 0
      },
      "text/plain": [
       "A Jupyter Widget"
      ]
     },
     "metadata": {},
     "output_type": "display_data"
    },
    {
     "name": "stdout",
     "output_type": "stream",
     "text": [
      "\n",
      "http://mo.wikipedia.org/wiki/%D0%9B%D0%B5%D1%82%D0%BE%D0%BD%D0%B8%D1%8F\n",
      "http://mo.wikipedia.org/wiki/%D0%9B%D0%B5%D1%82%D0%BE%D0%BD%D0%B8%D1%8F\n",
      "http://mo.wikipedia.org/wiki/%D0%96%D1%83%D0%B4%D0%B5%D1%86%D0%B5%D0%BB%D0%B5_%D0%9B%D0%B5%D1%82%D0%BE%D0%BD%D0%B5%D0%B9\n",
      "http://mo.wikipedia.org/wiki/%D0%96%D1%83%D0%B4%D0%B5%D1%86%D1%83%D0%BB_%D0%90%D0%B9%D0%B7%D0%BA%D1%80%D0%B0%D1%83%D0%BA%D0%BB%D0%B5%D1%81\n",
      "http://mo.wikipedia.org/wiki/%D0%96%D1%83%D0%B4%D0%B5%D1%86%D1%83%D0%BB_%D0%90%D0%BB%D1%83%D0%BA%D1%81%D0%BD%D0%B5%D1%81\n",
      "http://mo.wikipedia.org/wiki/%D0%96%D1%83%D0%B4%D0%B5%D1%86%D1%83%D0%BB_%D0%91%D0%B0%D1%83%D1%81%D0%BA%D0%B0%D1%81\n",
      "http://mo.wikipedia.org/wiki/%D0%96%D1%83%D0%B4%D0%B5%D1%86%D1%83%D0%BB_%D0%A6%D0%B5%D1%81%D1%83\n",
      "http://mo.wikipedia.org/wiki/%D0%96%D1%83%D0%B4%D0%B5%D1%86%D1%83%D0%BB_%D0%94%D0%B0%D1%83%D0%B3%D0%B0%D0%B2%D0%BF%D0%B8%D0%BB%D1%81\n",
      "http://mo.wikipedia.org/wiki/%D0%96%D1%83%D0%B4%D0%B5%D1%86%D1%83%D0%BB_%D0%94%D0%BE%D0%B1%D0%B5%D0%BB%D0%B5%D1%81\n",
      "http://mo.wikipedia.org/wiki/%D0%96%D1%83%D0%B4%D0%B5%D1%86%D1%83%D0%BB_%D0%93%D1%83%D0%BB%D0%B1%D0%B5%D0%BD%D0%B5%D1%81\n",
      "http://mo.wikipedia.org/wiki/%D0%96%D1%83%D0%B4%D0%B5%D1%86%D1%83%D0%BB_%D0%95%D0%BA%D0%B0%D0%B1%D0%BF%D0%B8%D0%BB%D1%81\n",
      "http://mo.wikipedia.org/wiki/%D0%96%D1%83%D0%B4%D0%B5%D1%86%D1%83%D0%BB_%D0%AE%D1%80%D0%BC%D0%B0%D0%BB%D0%B0\n",
      "http://mo.wikipedia.org/wiki/%D0%96%D1%83%D0%B4%D0%B5%D1%86%D1%83%D0%BB_%D0%9A%D1%80%D0%B0%D1%81%D0%BB%D0%B0%D0%B2%D0%B0%D1%81\n",
      "http://mo.wikipedia.org/wiki/%D0%96%D1%83%D0%B4%D0%B5%D1%86%D1%83%D0%BB_%D0%9A%D1%83%D0%BB%D0%B4%D0%B8%D0%B3%D0%B0%D1%81\n",
      "http://mo.wikipedia.org/wiki/%D0%96%D1%83%D0%B4%D0%B5%D1%86%D1%83%D0%BB_%D0%9B%D0%B8%D0%BC%D0%B1%D0%B0%D0%B7%D1%83\n",
      "http://mo.wikipedia.org/wiki/%D0%96%D1%83%D0%B4%D0%B5%D1%86%D1%83%D0%BB_%D0%9C%D0%B0%D0%B4%D0%BE%D0%BD%D0%B0%D1%81\n",
      "http://mo.wikipedia.org/wiki/%D0%96%D1%83%D0%B4%D0%B5%D1%86%D1%83%D0%BB_%D0%9E%D0%B3%D1%80%D0%B5%D1%81\n",
      "http://mo.wikipedia.org/wiki/%D0%96%D1%83%D0%B4%D0%B5%D1%86%D1%83%D0%BB_%D0%9F%D1%80%D0%B5%D0%B9%D0%BB%D1%83\n",
      "http://mo.wikipedia.org/wiki/%D0%96%D1%83%D0%B4%D0%B5%D1%86%D1%83%D0%BB_%D0%A0%D0%B5%D0%B7%D0%B5%D0%BA%D0%BD%D0%B5\n",
      "http://mo.wikipedia.org/wiki/%D0%96%D1%83%D0%B4%D0%B5%D1%86%D1%83%D0%BB_%D0%A0%D0%B8%D0%B3%D0%B0\n",
      "http://mo.wikipedia.org/wiki/%D0%96%D1%83%D0%B4%D0%B5%D1%86%D1%83%D0%BB_%D0%A1%D0%B0%D0%BB%D0%B4%D1%83%D1%81\n",
      "http://mo.wikipedia.org/wiki/%D0%96%D1%83%D0%B4%D0%B5%D1%86%D1%83%D0%BB_%D0%A2%D1%83%D0%BA%D1%83%D0%BC%D0%B0\n",
      "http://mo.wikipedia.org/wiki/%D0%96%D1%83%D0%B4%D0%B5%D1%86%D1%83%D0%BB_%D0%92%D0%B0%D0%BB%D0%BC%D0%B8%D0%B5%D1%80%D0%B0%D1%81\n",
      "http://mo.wikipedia.org/wiki/%D0%96%D1%83%D0%B4%D0%B5%D1%86%D1%83%D0%BB_%D0%92%D0%B5%D0%BD%D1%82%D1%81%D0%BF%D0%B8%D0%BB%D1%81\n",
      "http://mo.wikipedia.org/wiki/%D0%96%D1%83%D0%B4%D0%B5%D1%86%D1%83%D0%BB_%D0%A2%D0%B0%D0%BB%D1%81%D1%83\n",
      "http://mo.wikipedia.org/wiki/%D0%96%D1%83%D0%B4%D0%B5%D1%86%D1%83%D0%BB_%D0%A2%D0%B0%D0%BB%D1%81%D1%83\n",
      "http://mo.wikipedia.org/wiki/%D0%9F%D0%B0%D3%82%D0%B8%D0%BD%D0%B0_%D0%BF%D1%80%D0%B8%D0%BD%D1%87%D0%B8%D0%BF%D0%B0%D0%BB%D1%8D\n",
      "http://mo.wikipedia.org/wiki/%D0%9F%D0%B0%D3%82%D0%B8%D0%BD%D0%B0_%D0%BF%D1%80%D0%B8%D0%BD%D1%87%D0%B8%D0%BF%D0%B0%D0%BB%D1%8D\n"
     ]
    },
    {
     "data": {
      "application/vnd.jupyter.widget-view+json": {
       "model_id": "02fbdbb0a6814921a34cc59d695e1bb5",
       "version_major": 2,
       "version_minor": 0
      },
      "text/plain": [
       "A Jupyter Widget"
      ]
     },
     "metadata": {},
     "output_type": "display_data"
    },
    {
     "name": "stdout",
     "output_type": "stream",
     "text": [
      "\n"
     ]
    },
    {
     "data": {
      "application/vnd.jupyter.widget-view+json": {
       "model_id": "a1b96cbcf9424c38a154b67d98eae791",
       "version_major": 2,
       "version_minor": 0
      },
      "text/plain": [
       "A Jupyter Widget"
      ]
     },
     "metadata": {},
     "output_type": "display_data"
    },
    {
     "name": "stdout",
     "output_type": "stream",
     "text": [
      "\n"
     ]
    },
    {
     "data": {
      "application/vnd.jupyter.widget-view+json": {
       "model_id": "b49bfc3508db4f1688cd67838af4ac54",
       "version_major": 2,
       "version_minor": 0
      },
      "text/plain": [
       "A Jupyter Widget"
      ]
     },
     "metadata": {},
     "output_type": "display_data"
    },
    {
     "name": "stdout",
     "output_type": "stream",
     "text": [
      "\n"
     ]
    },
    {
     "data": {
      "application/vnd.jupyter.widget-view+json": {
       "model_id": "9c9a0925b2ea470f9b55de8f044f13b7",
       "version_major": 2,
       "version_minor": 0
      },
      "text/plain": [
       "A Jupyter Widget"
      ]
     },
     "metadata": {},
     "output_type": "display_data"
    },
    {
     "name": "stdout",
     "output_type": "stream",
     "text": [
      "\n"
     ]
    },
    {
     "data": {
      "application/vnd.jupyter.widget-view+json": {
       "model_id": "b3d84d459da24b719ceae3eb6cf72496",
       "version_major": 2,
       "version_minor": 0
      },
      "text/plain": [
       "A Jupyter Widget"
      ]
     },
     "metadata": {},
     "output_type": "display_data"
    },
    {
     "name": "stdout",
     "output_type": "stream",
     "text": [
      "\n"
     ]
    },
    {
     "data": {
      "application/vnd.jupyter.widget-view+json": {
       "model_id": "b5f01c200267464293054697eabb699f",
       "version_major": 2,
       "version_minor": 0
      },
      "text/plain": [
       "A Jupyter Widget"
      ]
     },
     "metadata": {},
     "output_type": "display_data"
    },
    {
     "name": "stdout",
     "output_type": "stream",
     "text": [
      "\n"
     ]
    },
    {
     "data": {
      "application/vnd.jupyter.widget-view+json": {
       "model_id": "1d582b8370db416eb1c6908d1ed7ec9b",
       "version_major": 2,
       "version_minor": 0
      },
      "text/plain": [
       "A Jupyter Widget"
      ]
     },
     "metadata": {},
     "output_type": "display_data"
    },
    {
     "name": "stdout",
     "output_type": "stream",
     "text": [
      "\n"
     ]
    },
    {
     "data": {
      "application/vnd.jupyter.widget-view+json": {
       "model_id": "d7e00837b6ef40f2b8a0e280b30fc674",
       "version_major": 2,
       "version_minor": 0
      },
      "text/plain": [
       "A Jupyter Widget"
      ]
     },
     "metadata": {},
     "output_type": "display_data"
    },
    {
     "name": "stdout",
     "output_type": "stream",
     "text": [
      "\n",
      "http://mo.wikipedia.org/wiki/%D0%9B%D0%B5%D1%82%D0%BE%D0%BD%D0%B8%D1%8F\n",
      "http://mo.wikipedia.org/wiki/%D0%9B%D0%B5%D1%82%D0%BE%D0%BD%D0%B8%D1%8F\n",
      "http://mo.wikipedia.org/wiki/%D0%96%D1%83%D0%B4%D0%B5%D1%86%D0%B5%D0%BB%D0%B5_%D0%9B%D0%B5%D1%82%D0%BE%D0%BD%D0%B5%D0%B9\n",
      "http://mo.wikipedia.org/wiki/%D0%96%D1%83%D0%B4%D0%B5%D1%86%D1%83%D0%BB_%D0%90%D0%B9%D0%B7%D0%BA%D1%80%D0%B0%D1%83%D0%BA%D0%BB%D0%B5%D1%81\n",
      "http://mo.wikipedia.org/wiki/%D0%96%D1%83%D0%B4%D0%B5%D1%86%D1%83%D0%BB_%D0%90%D0%BB%D1%83%D0%BA%D1%81%D0%BD%D0%B5%D1%81\n",
      "http://mo.wikipedia.org/wiki/%D0%96%D1%83%D0%B4%D0%B5%D1%86%D1%83%D0%BB_%D0%91%D0%B0%D1%83%D1%81%D0%BA%D0%B0%D1%81\n",
      "http://mo.wikipedia.org/wiki/%D0%96%D1%83%D0%B4%D0%B5%D1%86%D1%83%D0%BB_%D0%A6%D0%B5%D1%81%D1%83\n",
      "http://mo.wikipedia.org/wiki/%D0%96%D1%83%D0%B4%D0%B5%D1%86%D1%83%D0%BB_%D0%94%D0%B0%D1%83%D0%B3%D0%B0%D0%B2%D0%BF%D0%B8%D0%BB%D1%81\n",
      "http://mo.wikipedia.org/wiki/%D0%96%D1%83%D0%B4%D0%B5%D1%86%D1%83%D0%BB_%D0%94%D0%BE%D0%B1%D0%B5%D0%BB%D0%B5%D1%81\n",
      "http://mo.wikipedia.org/wiki/%D0%96%D1%83%D0%B4%D0%B5%D1%86%D1%83%D0%BB_%D0%93%D1%83%D0%BB%D0%B1%D0%B5%D0%BD%D0%B5%D1%81\n",
      "http://mo.wikipedia.org/wiki/%D0%96%D1%83%D0%B4%D0%B5%D1%86%D1%83%D0%BB_%D0%95%D0%BA%D0%B0%D0%B1%D0%BF%D0%B8%D0%BB%D1%81\n",
      "http://mo.wikipedia.org/wiki/%D0%96%D1%83%D0%B4%D0%B5%D1%86%D1%83%D0%BB_%D0%AE%D1%80%D0%BC%D0%B0%D0%BB%D0%B0\n",
      "http://mo.wikipedia.org/wiki/%D0%96%D1%83%D0%B4%D0%B5%D1%86%D1%83%D0%BB_%D0%9A%D1%80%D0%B0%D1%81%D0%BB%D0%B0%D0%B2%D0%B0%D1%81\n",
      "http://mo.wikipedia.org/wiki/%D0%96%D1%83%D0%B4%D0%B5%D1%86%D1%83%D0%BB_%D0%9A%D1%83%D0%BB%D0%B4%D0%B8%D0%B3%D0%B0%D1%81\n",
      "http://mo.wikipedia.org/wiki/%D0%96%D1%83%D0%B4%D0%B5%D1%86%D1%83%D0%BB_%D0%9B%D0%B8%D0%BC%D0%B1%D0%B0%D0%B7%D1%83\n",
      "http://mo.wikipedia.org/wiki/%D0%96%D1%83%D0%B4%D0%B5%D1%86%D1%83%D0%BB_%D0%9C%D0%B0%D0%B4%D0%BE%D0%BD%D0%B0%D1%81\n",
      "http://mo.wikipedia.org/wiki/%D0%96%D1%83%D0%B4%D0%B5%D1%86%D1%83%D0%BB_%D0%9E%D0%B3%D1%80%D0%B5%D1%81\n",
      "http://mo.wikipedia.org/wiki/%D0%96%D1%83%D0%B4%D0%B5%D1%86%D1%83%D0%BB_%D0%9F%D1%80%D0%B5%D0%B9%D0%BB%D1%83\n",
      "http://mo.wikipedia.org/wiki/%D0%96%D1%83%D0%B4%D0%B5%D1%86%D1%83%D0%BB_%D0%A0%D0%B5%D0%B7%D0%B5%D0%BA%D0%BD%D0%B5\n",
      "http://mo.wikipedia.org/wiki/%D0%96%D1%83%D0%B4%D0%B5%D1%86%D1%83%D0%BB_%D0%A0%D0%B8%D0%B3%D0%B0\n",
      "http://mo.wikipedia.org/wiki/%D0%96%D1%83%D0%B4%D0%B5%D1%86%D1%83%D0%BB_%D0%A2%D0%B0%D0%BB%D1%81%D1%83\n",
      "http://mo.wikipedia.org/wiki/%D0%96%D1%83%D0%B4%D0%B5%D1%86%D1%83%D0%BB_%D0%A2%D1%83%D0%BA%D1%83%D0%BC%D0%B0\n",
      "http://mo.wikipedia.org/wiki/%D0%96%D1%83%D0%B4%D0%B5%D1%86%D1%83%D0%BB_%D0%92%D0%B0%D0%BB%D0%BC%D0%B8%D0%B5%D1%80%D0%B0%D1%81\n",
      "http://mo.wikipedia.org/wiki/%D0%96%D1%83%D0%B4%D0%B5%D1%86%D1%83%D0%BB_%D0%92%D0%B5%D0%BD%D1%82%D1%81%D0%BF%D0%B8%D0%BB%D1%81\n",
      "http://mo.wikipedia.org/wiki/%D0%96%D1%83%D0%B4%D0%B5%D1%86%D1%83%D0%BB_%D0%A1%D0%B0%D0%BB%D0%B4%D1%83%D1%81\n",
      "http://mo.wikipedia.org/wiki/%D0%96%D1%83%D0%B4%D0%B5%D1%86%D1%83%D0%BB_%D0%A1%D0%B0%D0%BB%D0%B4%D1%83%D1%81\n",
      "http://mo.wikipedia.org/wiki/%D0%9F%D0%B0%D3%82%D0%B8%D0%BD%D0%B0_%D0%BF%D1%80%D0%B8%D0%BD%D1%87%D0%B8%D0%BF%D0%B0%D0%BB%D1%8D\n",
      "http://mo.wikipedia.org/wiki/%D0%9F%D0%B0%D3%82%D0%B8%D0%BD%D0%B0_%D0%BF%D1%80%D0%B8%D0%BD%D1%87%D0%B8%D0%BF%D0%B0%D0%BB%D1%8D\n"
     ]
    },
    {
     "data": {
      "application/vnd.jupyter.widget-view+json": {
       "model_id": "aee840a7dcde4380848993e867b80020",
       "version_major": 2,
       "version_minor": 0
      },
      "text/plain": [
       "A Jupyter Widget"
      ]
     },
     "metadata": {},
     "output_type": "display_data"
    },
    {
     "name": "stdout",
     "output_type": "stream",
     "text": [
      "\n"
     ]
    },
    {
     "data": {
      "application/vnd.jupyter.widget-view+json": {
       "model_id": "efb9abbd0a85432ea18736be985a63eb",
       "version_major": 2,
       "version_minor": 0
      },
      "text/plain": [
       "A Jupyter Widget"
      ]
     },
     "metadata": {},
     "output_type": "display_data"
    },
    {
     "name": "stdout",
     "output_type": "stream",
     "text": [
      "\n"
     ]
    },
    {
     "data": {
      "application/vnd.jupyter.widget-view+json": {
       "model_id": "71db7461db6749be94dcfd7f747524f7",
       "version_major": 2,
       "version_minor": 0
      },
      "text/plain": [
       "A Jupyter Widget"
      ]
     },
     "metadata": {},
     "output_type": "display_data"
    },
    {
     "name": "stdout",
     "output_type": "stream",
     "text": [
      "\n"
     ]
    },
    {
     "data": {
      "application/vnd.jupyter.widget-view+json": {
       "model_id": "a7278563e9eb469f83aace78054e6be6",
       "version_major": 2,
       "version_minor": 0
      },
      "text/plain": [
       "A Jupyter Widget"
      ]
     },
     "metadata": {},
     "output_type": "display_data"
    },
    {
     "name": "stdout",
     "output_type": "stream",
     "text": [
      "\n"
     ]
    },
    {
     "data": {
      "application/vnd.jupyter.widget-view+json": {
       "model_id": "5abe6b76aecb4c1a87504b04873b23a0",
       "version_major": 2,
       "version_minor": 0
      },
      "text/plain": [
       "A Jupyter Widget"
      ]
     },
     "metadata": {},
     "output_type": "display_data"
    },
    {
     "name": "stdout",
     "output_type": "stream",
     "text": [
      "\n"
     ]
    },
    {
     "data": {
      "application/vnd.jupyter.widget-view+json": {
       "model_id": "31767d7ca4664574afc6090b5b5543da",
       "version_major": 2,
       "version_minor": 0
      },
      "text/plain": [
       "A Jupyter Widget"
      ]
     },
     "metadata": {},
     "output_type": "display_data"
    },
    {
     "name": "stdout",
     "output_type": "stream",
     "text": [
      "\n"
     ]
    },
    {
     "data": {
      "application/vnd.jupyter.widget-view+json": {
       "model_id": "d4d44f98e5a34efda0f6209e98850e6f",
       "version_major": 2,
       "version_minor": 0
      },
      "text/plain": [
       "A Jupyter Widget"
      ]
     },
     "metadata": {},
     "output_type": "display_data"
    },
    {
     "name": "stdout",
     "output_type": "stream",
     "text": [
      "\n"
     ]
    },
    {
     "data": {
      "application/vnd.jupyter.widget-view+json": {
       "model_id": "c37dcebeb9f94bbf969c019ed39a7ff1",
       "version_major": 2,
       "version_minor": 0
      },
      "text/plain": [
       "A Jupyter Widget"
      ]
     },
     "metadata": {},
     "output_type": "display_data"
    },
    {
     "name": "stdout",
     "output_type": "stream",
     "text": [
      "\n"
     ]
    },
    {
     "data": {
      "application/vnd.jupyter.widget-view+json": {
       "model_id": "f5e7cd8757a449adbb0de5ca196398b4",
       "version_major": 2,
       "version_minor": 0
      },
      "text/plain": [
       "A Jupyter Widget"
      ]
     },
     "metadata": {},
     "output_type": "display_data"
    },
    {
     "name": "stdout",
     "output_type": "stream",
     "text": [
      "\n",
      "http://mo.wikipedia.org/wiki/%D0%96%D1%83%D0%B4%D0%B5%D1%86%D1%83%D0%BB_%D0%A0%D0%B8%D0%B3%D0%B0\n",
      "http://mo.wikipedia.org/wiki/%D0%96%D1%83%D0%B4%D0%B5%D1%86%D1%83%D0%BB_%D0%A0%D0%B8%D0%B3%D0%B0\n",
      "http://mo.wikipedia.org/wiki/%D0%9F%D0%B0%D3%82%D0%B8%D0%BD%D0%B0_%D0%BF%D1%80%D0%B8%D0%BD%D1%87%D0%B8%D0%BF%D0%B0%D0%BB%D1%8D\n",
      "http://mo.wikipedia.org/wiki/%D0%9F%D0%B0%D3%82%D0%B8%D0%BD%D0%B0_%D0%BF%D1%80%D0%B8%D0%BD%D1%87%D0%B8%D0%BF%D0%B0%D0%BB%D1%8D\n"
     ]
    },
    {
     "data": {
      "application/vnd.jupyter.widget-view+json": {
       "model_id": "3a65f0399b4546cc9d40fe9426cc6ad3",
       "version_major": 2,
       "version_minor": 0
      },
      "text/plain": [
       "A Jupyter Widget"
      ]
     },
     "metadata": {},
     "output_type": "display_data"
    },
    {
     "name": "stdout",
     "output_type": "stream",
     "text": [
      "\n"
     ]
    },
    {
     "data": {
      "application/vnd.jupyter.widget-view+json": {
       "model_id": "20329924f0f74cee845a6e05cae3f42e",
       "version_major": 2,
       "version_minor": 0
      },
      "text/plain": [
       "A Jupyter Widget"
      ]
     },
     "metadata": {},
     "output_type": "display_data"
    },
    {
     "name": "stdout",
     "output_type": "stream",
     "text": [
      "\n"
     ]
    },
    {
     "data": {
      "application/vnd.jupyter.widget-view+json": {
       "model_id": "e538a4acdea3429a8a6e0a57d5e0e4e7",
       "version_major": 2,
       "version_minor": 0
      },
      "text/plain": [
       "A Jupyter Widget"
      ]
     },
     "metadata": {},
     "output_type": "display_data"
    },
    {
     "name": "stdout",
     "output_type": "stream",
     "text": [
      "\n"
     ]
    },
    {
     "data": {
      "application/vnd.jupyter.widget-view+json": {
       "model_id": "b6b1956e368e416ba26c640696d5cb4f",
       "version_major": 2,
       "version_minor": 0
      },
      "text/plain": [
       "A Jupyter Widget"
      ]
     },
     "metadata": {},
     "output_type": "display_data"
    },
    {
     "name": "stdout",
     "output_type": "stream",
     "text": [
      "\n"
     ]
    },
    {
     "data": {
      "application/vnd.jupyter.widget-view+json": {
       "model_id": "199d191632894569add474a0226bdcd9",
       "version_major": 2,
       "version_minor": 0
      },
      "text/plain": [
       "A Jupyter Widget"
      ]
     },
     "metadata": {},
     "output_type": "display_data"
    },
    {
     "name": "stdout",
     "output_type": "stream",
     "text": [
      "\n",
      "http://mo.wikipedia.org/wiki/%D0%9B%D0%B5%D1%82%D0%BE%D0%BD%D0%B8%D1%8F\n",
      "http://mo.wikipedia.org/wiki/%D0%9B%D0%B5%D1%82%D0%BE%D0%BD%D0%B8%D1%8F\n",
      "http://mo.wikipedia.org/wiki/%D0%96%D1%83%D0%B4%D0%B5%D1%86%D0%B5%D0%BB%D0%B5_%D0%9B%D0%B5%D1%82%D0%BE%D0%BD%D0%B5%D0%B9\n",
      "http://mo.wikipedia.org/wiki/%D0%96%D1%83%D0%B4%D0%B5%D1%86%D1%83%D0%BB_%D0%90%D0%B9%D0%B7%D0%BA%D1%80%D0%B0%D1%83%D0%BA%D0%BB%D0%B5%D1%81\n",
      "http://mo.wikipedia.org/wiki/%D0%96%D1%83%D0%B4%D0%B5%D1%86%D1%83%D0%BB_%D0%90%D0%BB%D1%83%D0%BA%D1%81%D0%BD%D0%B5%D1%81\n",
      "http://mo.wikipedia.org/wiki/%D0%96%D1%83%D0%B4%D0%B5%D1%86%D1%83%D0%BB_%D0%91%D0%B0%D1%83%D1%81%D0%BA%D0%B0%D1%81\n",
      "http://mo.wikipedia.org/wiki/%D0%96%D1%83%D0%B4%D0%B5%D1%86%D1%83%D0%BB_%D0%A6%D0%B5%D1%81%D1%83\n",
      "http://mo.wikipedia.org/wiki/%D0%96%D1%83%D0%B4%D0%B5%D1%86%D1%83%D0%BB_%D0%94%D0%B0%D1%83%D0%B3%D0%B0%D0%B2%D0%BF%D0%B8%D0%BB%D1%81\n",
      "http://mo.wikipedia.org/wiki/%D0%96%D1%83%D0%B4%D0%B5%D1%86%D1%83%D0%BB_%D0%94%D0%BE%D0%B1%D0%B5%D0%BB%D0%B5%D1%81\n",
      "http://mo.wikipedia.org/wiki/%D0%96%D1%83%D0%B4%D0%B5%D1%86%D1%83%D0%BB_%D0%93%D1%83%D0%BB%D0%B1%D0%B5%D0%BD%D0%B5%D1%81\n",
      "http://mo.wikipedia.org/wiki/%D0%96%D1%83%D0%B4%D0%B5%D1%86%D1%83%D0%BB_%D0%95%D0%BA%D0%B0%D0%B1%D0%BF%D0%B8%D0%BB%D1%81\n",
      "http://mo.wikipedia.org/wiki/%D0%96%D1%83%D0%B4%D0%B5%D1%86%D1%83%D0%BB_%D0%AE%D1%80%D0%BC%D0%B0%D0%BB%D0%B0\n",
      "http://mo.wikipedia.org/wiki/%D0%96%D1%83%D0%B4%D0%B5%D1%86%D1%83%D0%BB_%D0%9A%D1%80%D0%B0%D1%81%D0%BB%D0%B0%D0%B2%D0%B0%D1%81\n",
      "http://mo.wikipedia.org/wiki/%D0%96%D1%83%D0%B4%D0%B5%D1%86%D1%83%D0%BB_%D0%9A%D1%83%D0%BB%D0%B4%D0%B8%D0%B3%D0%B0%D1%81\n",
      "http://mo.wikipedia.org/wiki/%D0%96%D1%83%D0%B4%D0%B5%D1%86%D1%83%D0%BB_%D0%9B%D0%B8%D0%BC%D0%B1%D0%B0%D0%B7%D1%83\n",
      "http://mo.wikipedia.org/wiki/%D0%96%D1%83%D0%B4%D0%B5%D1%86%D1%83%D0%BB_%D0%9C%D0%B0%D0%B4%D0%BE%D0%BD%D0%B0%D1%81\n",
      "http://mo.wikipedia.org/wiki/%D0%96%D1%83%D0%B4%D0%B5%D1%86%D1%83%D0%BB_%D0%9E%D0%B3%D1%80%D0%B5%D1%81\n",
      "http://mo.wikipedia.org/wiki/%D0%96%D1%83%D0%B4%D0%B5%D1%86%D1%83%D0%BB_%D0%9F%D1%80%D0%B5%D0%B9%D0%BB%D1%83\n",
      "http://mo.wikipedia.org/wiki/%D0%96%D1%83%D0%B4%D0%B5%D1%86%D1%83%D0%BB_%D0%A0%D0%B8%D0%B3%D0%B0\n",
      "http://mo.wikipedia.org/wiki/%D0%96%D1%83%D0%B4%D0%B5%D1%86%D1%83%D0%BB_%D0%A1%D0%B0%D0%BB%D0%B4%D1%83%D1%81\n",
      "http://mo.wikipedia.org/wiki/%D0%96%D1%83%D0%B4%D0%B5%D1%86%D1%83%D0%BB_%D0%A2%D0%B0%D0%BB%D1%81%D1%83\n",
      "http://mo.wikipedia.org/wiki/%D0%96%D1%83%D0%B4%D0%B5%D1%86%D1%83%D0%BB_%D0%A2%D1%83%D0%BA%D1%83%D0%BC%D0%B0\n",
      "http://mo.wikipedia.org/wiki/%D0%96%D1%83%D0%B4%D0%B5%D1%86%D1%83%D0%BB_%D0%92%D0%B0%D0%BB%D0%BC%D0%B8%D0%B5%D1%80%D0%B0%D1%81\n",
      "http://mo.wikipedia.org/wiki/%D0%96%D1%83%D0%B4%D0%B5%D1%86%D1%83%D0%BB_%D0%92%D0%B5%D0%BD%D1%82%D1%81%D0%BF%D0%B8%D0%BB%D1%81\n",
      "http://mo.wikipedia.org/wiki/%D0%96%D1%83%D0%B4%D0%B5%D1%86%D1%83%D0%BB_%D0%A0%D0%B5%D0%B7%D0%B5%D0%BA%D0%BD%D0%B5\n",
      "http://mo.wikipedia.org/wiki/%D0%96%D1%83%D0%B4%D0%B5%D1%86%D1%83%D0%BB_%D0%A0%D0%B5%D0%B7%D0%B5%D0%BA%D0%BD%D0%B5\n",
      "http://mo.wikipedia.org/wiki/%D0%9F%D0%B0%D3%82%D0%B8%D0%BD%D0%B0_%D0%BF%D1%80%D0%B8%D0%BD%D1%87%D0%B8%D0%BF%D0%B0%D0%BB%D1%8D\n",
      "http://mo.wikipedia.org/wiki/%D0%9F%D0%B0%D3%82%D0%B8%D0%BD%D0%B0_%D0%BF%D1%80%D0%B8%D0%BD%D1%87%D0%B8%D0%BF%D0%B0%D0%BB%D1%8D\n"
     ]
    },
    {
     "data": {
      "application/vnd.jupyter.widget-view+json": {
       "model_id": "bd63af2e6c014be1ab98d2a74e67ad7c",
       "version_major": 2,
       "version_minor": 0
      },
      "text/plain": [
       "A Jupyter Widget"
      ]
     },
     "metadata": {},
     "output_type": "display_data"
    },
    {
     "name": "stdout",
     "output_type": "stream",
     "text": [
      "\n"
     ]
    },
    {
     "data": {
      "application/vnd.jupyter.widget-view+json": {
       "model_id": "68d3f7483d3c433aa0656706a4df7d49",
       "version_major": 2,
       "version_minor": 0
      },
      "text/plain": [
       "A Jupyter Widget"
      ]
     },
     "metadata": {},
     "output_type": "display_data"
    },
    {
     "name": "stdout",
     "output_type": "stream",
     "text": [
      "\n"
     ]
    },
    {
     "data": {
      "application/vnd.jupyter.widget-view+json": {
       "model_id": "e0a9561149924bb6ac86db509c22eeda",
       "version_major": 2,
       "version_minor": 0
      },
      "text/plain": [
       "A Jupyter Widget"
      ]
     },
     "metadata": {},
     "output_type": "display_data"
    },
    {
     "name": "stdout",
     "output_type": "stream",
     "text": [
      "\n"
     ]
    },
    {
     "data": {
      "application/vnd.jupyter.widget-view+json": {
       "model_id": "610002fe6f5744219633c638ed51b319",
       "version_major": 2,
       "version_minor": 0
      },
      "text/plain": [
       "A Jupyter Widget"
      ]
     },
     "metadata": {},
     "output_type": "display_data"
    },
    {
     "name": "stdout",
     "output_type": "stream",
     "text": [
      "\n"
     ]
    },
    {
     "data": {
      "application/vnd.jupyter.widget-view+json": {
       "model_id": "0aa121d7832a426a81331fde78d65cb3",
       "version_major": 2,
       "version_minor": 0
      },
      "text/plain": [
       "A Jupyter Widget"
      ]
     },
     "metadata": {},
     "output_type": "display_data"
    },
    {
     "name": "stdout",
     "output_type": "stream",
     "text": [
      "\n"
     ]
    },
    {
     "data": {
      "application/vnd.jupyter.widget-view+json": {
       "model_id": "7a1e6a3a1c964252b2ebf3c652a8f9a8",
       "version_major": 2,
       "version_minor": 0
      },
      "text/plain": [
       "A Jupyter Widget"
      ]
     },
     "metadata": {},
     "output_type": "display_data"
    },
    {
     "name": "stdout",
     "output_type": "stream",
     "text": [
      "\n"
     ]
    },
    {
     "data": {
      "application/vnd.jupyter.widget-view+json": {
       "model_id": "f444439b819c45a6830d0de2ad1702e7",
       "version_major": 2,
       "version_minor": 0
      },
      "text/plain": [
       "A Jupyter Widget"
      ]
     },
     "metadata": {},
     "output_type": "display_data"
    },
    {
     "name": "stdout",
     "output_type": "stream",
     "text": [
      "\n"
     ]
    },
    {
     "data": {
      "application/vnd.jupyter.widget-view+json": {
       "model_id": "30fd09f7db274d43a7e0699623f5a670",
       "version_major": 2,
       "version_minor": 0
      },
      "text/plain": [
       "A Jupyter Widget"
      ]
     },
     "metadata": {},
     "output_type": "display_data"
    },
    {
     "name": "stdout",
     "output_type": "stream",
     "text": [
      "\n"
     ]
    },
    {
     "data": {
      "application/vnd.jupyter.widget-view+json": {
       "model_id": "57640806b81a4dcaab7a4d7bd9c6ecb0",
       "version_major": 2,
       "version_minor": 0
      },
      "text/plain": [
       "A Jupyter Widget"
      ]
     },
     "metadata": {},
     "output_type": "display_data"
    },
    {
     "name": "stdout",
     "output_type": "stream",
     "text": [
      "\n"
     ]
    },
    {
     "data": {
      "application/vnd.jupyter.widget-view+json": {
       "model_id": "0d46eea821df441797f98f3fbc2b8044",
       "version_major": 2,
       "version_minor": 0
      },
      "text/plain": [
       "A Jupyter Widget"
      ]
     },
     "metadata": {},
     "output_type": "display_data"
    },
    {
     "name": "stdout",
     "output_type": "stream",
     "text": [
      "\n"
     ]
    },
    {
     "data": {
      "application/vnd.jupyter.widget-view+json": {
       "model_id": "7387f427476f4aca8b3335674aacc27d",
       "version_major": 2,
       "version_minor": 0
      },
      "text/plain": [
       "A Jupyter Widget"
      ]
     },
     "metadata": {},
     "output_type": "display_data"
    },
    {
     "name": "stdout",
     "output_type": "stream",
     "text": [
      "\n",
      "http://mo.wikipedia.org/wiki/%D0%9B%D0%B5%D1%82%D0%BE%D0%BD%D0%B8%D1%8F\n",
      "http://mo.wikipedia.org/wiki/%D0%9B%D0%B5%D1%82%D0%BE%D0%BD%D0%B8%D1%8F\n",
      "http://mo.wikipedia.org/wiki/%D0%96%D1%83%D0%B4%D0%B5%D1%86%D0%B5%D0%BB%D0%B5_%D0%9B%D0%B5%D1%82%D0%BE%D0%BD%D0%B5%D0%B9\n",
      "http://mo.wikipedia.org/wiki/%D0%96%D1%83%D0%B4%D0%B5%D1%86%D1%83%D0%BB_%D0%90%D0%B9%D0%B7%D0%BA%D1%80%D0%B0%D1%83%D0%BA%D0%BB%D0%B5%D1%81\n",
      "http://mo.wikipedia.org/wiki/%D0%96%D1%83%D0%B4%D0%B5%D1%86%D1%83%D0%BB_%D0%90%D0%BB%D1%83%D0%BA%D1%81%D0%BD%D0%B5%D1%81\n",
      "http://mo.wikipedia.org/wiki/%D0%96%D1%83%D0%B4%D0%B5%D1%86%D1%83%D0%BB_%D0%91%D0%B0%D1%83%D1%81%D0%BA%D0%B0%D1%81\n",
      "http://mo.wikipedia.org/wiki/%D0%96%D1%83%D0%B4%D0%B5%D1%86%D1%83%D0%BB_%D0%A6%D0%B5%D1%81%D1%83\n",
      "http://mo.wikipedia.org/wiki/%D0%96%D1%83%D0%B4%D0%B5%D1%86%D1%83%D0%BB_%D0%94%D0%B0%D1%83%D0%B3%D0%B0%D0%B2%D0%BF%D0%B8%D0%BB%D1%81\n",
      "http://mo.wikipedia.org/wiki/%D0%96%D1%83%D0%B4%D0%B5%D1%86%D1%83%D0%BB_%D0%94%D0%BE%D0%B1%D0%B5%D0%BB%D0%B5%D1%81\n",
      "http://mo.wikipedia.org/wiki/%D0%96%D1%83%D0%B4%D0%B5%D1%86%D1%83%D0%BB_%D0%93%D1%83%D0%BB%D0%B1%D0%B5%D0%BD%D0%B5%D1%81\n",
      "http://mo.wikipedia.org/wiki/%D0%96%D1%83%D0%B4%D0%B5%D1%86%D1%83%D0%BB_%D0%95%D0%BA%D0%B0%D0%B1%D0%BF%D0%B8%D0%BB%D1%81\n",
      "http://mo.wikipedia.org/wiki/%D0%96%D1%83%D0%B4%D0%B5%D1%86%D1%83%D0%BB_%D0%AE%D1%80%D0%BC%D0%B0%D0%BB%D0%B0\n",
      "http://mo.wikipedia.org/wiki/%D0%96%D1%83%D0%B4%D0%B5%D1%86%D1%83%D0%BB_%D0%9A%D1%80%D0%B0%D1%81%D0%BB%D0%B0%D0%B2%D0%B0%D1%81\n",
      "http://mo.wikipedia.org/wiki/%D0%96%D1%83%D0%B4%D0%B5%D1%86%D1%83%D0%BB_%D0%9A%D1%83%D0%BB%D0%B4%D0%B8%D0%B3%D0%B0%D1%81\n",
      "http://mo.wikipedia.org/wiki/%D0%96%D1%83%D0%B4%D0%B5%D1%86%D1%83%D0%BB_%D0%9B%D0%B8%D0%BC%D0%B1%D0%B0%D0%B7%D1%83\n",
      "http://mo.wikipedia.org/wiki/%D0%96%D1%83%D0%B4%D0%B5%D1%86%D1%83%D0%BB_%D0%9C%D0%B0%D0%B4%D0%BE%D0%BD%D0%B0%D1%81\n",
      "http://mo.wikipedia.org/wiki/%D0%96%D1%83%D0%B4%D0%B5%D1%86%D1%83%D0%BB_%D0%9E%D0%B3%D1%80%D0%B5%D1%81\n",
      "http://mo.wikipedia.org/wiki/%D0%96%D1%83%D0%B4%D0%B5%D1%86%D1%83%D0%BB_%D0%A0%D0%B5%D0%B7%D0%B5%D0%BA%D0%BD%D0%B5\n",
      "http://mo.wikipedia.org/wiki/%D0%96%D1%83%D0%B4%D0%B5%D1%86%D1%83%D0%BB_%D0%A0%D0%B8%D0%B3%D0%B0\n",
      "http://mo.wikipedia.org/wiki/%D0%96%D1%83%D0%B4%D0%B5%D1%86%D1%83%D0%BB_%D0%A1%D0%B0%D0%BB%D0%B4%D1%83%D1%81\n",
      "http://mo.wikipedia.org/wiki/%D0%96%D1%83%D0%B4%D0%B5%D1%86%D1%83%D0%BB_%D0%A2%D0%B0%D0%BB%D1%81%D1%83\n",
      "http://mo.wikipedia.org/wiki/%D0%96%D1%83%D0%B4%D0%B5%D1%86%D1%83%D0%BB_%D0%A2%D1%83%D0%BA%D1%83%D0%BC%D0%B0\n",
      "http://mo.wikipedia.org/wiki/%D0%96%D1%83%D0%B4%D0%B5%D1%86%D1%83%D0%BB_%D0%92%D0%B0%D0%BB%D0%BC%D0%B8%D0%B5%D1%80%D0%B0%D1%81\n",
      "http://mo.wikipedia.org/wiki/%D0%96%D1%83%D0%B4%D0%B5%D1%86%D1%83%D0%BB_%D0%92%D0%B5%D0%BD%D1%82%D1%81%D0%BF%D0%B8%D0%BB%D1%81\n",
      "http://mo.wikipedia.org/wiki/%D0%96%D1%83%D0%B4%D0%B5%D1%86%D1%83%D0%BB_%D0%9F%D1%80%D0%B5%D0%B9%D0%BB%D1%83\n",
      "http://mo.wikipedia.org/wiki/%D0%96%D1%83%D0%B4%D0%B5%D1%86%D1%83%D0%BB_%D0%9F%D1%80%D0%B5%D0%B9%D0%BB%D1%83\n",
      "http://mo.wikipedia.org/wiki/%D0%9F%D0%B0%D3%82%D0%B8%D0%BD%D0%B0_%D0%BF%D1%80%D0%B8%D0%BD%D1%87%D0%B8%D0%BF%D0%B0%D0%BB%D1%8D\n",
      "http://mo.wikipedia.org/wiki/%D0%9F%D0%B0%D3%82%D0%B8%D0%BD%D0%B0_%D0%BF%D1%80%D0%B8%D0%BD%D1%87%D0%B8%D0%BF%D0%B0%D0%BB%D1%8D\n"
     ]
    },
    {
     "data": {
      "application/vnd.jupyter.widget-view+json": {
       "model_id": "e85d78fcb231421ca8e03b9de79f1543",
       "version_major": 2,
       "version_minor": 0
      },
      "text/plain": [
       "A Jupyter Widget"
      ]
     },
     "metadata": {},
     "output_type": "display_data"
    },
    {
     "name": "stdout",
     "output_type": "stream",
     "text": [
      "\n"
     ]
    },
    {
     "data": {
      "application/vnd.jupyter.widget-view+json": {
       "model_id": "3170ec6d1dc34cc69c2d038eef7d9fa7",
       "version_major": 2,
       "version_minor": 0
      },
      "text/plain": [
       "A Jupyter Widget"
      ]
     },
     "metadata": {},
     "output_type": "display_data"
    },
    {
     "name": "stdout",
     "output_type": "stream",
     "text": [
      "\n"
     ]
    },
    {
     "data": {
      "application/vnd.jupyter.widget-view+json": {
       "model_id": "7a1db9e408fb4c2c99576bcc503f3470",
       "version_major": 2,
       "version_minor": 0
      },
      "text/plain": [
       "A Jupyter Widget"
      ]
     },
     "metadata": {},
     "output_type": "display_data"
    },
    {
     "name": "stdout",
     "output_type": "stream",
     "text": [
      "\n"
     ]
    },
    {
     "data": {
      "application/vnd.jupyter.widget-view+json": {
       "model_id": "34aa843752cd4c5db4b828f23445cfaf",
       "version_major": 2,
       "version_minor": 0
      },
      "text/plain": [
       "A Jupyter Widget"
      ]
     },
     "metadata": {},
     "output_type": "display_data"
    },
    {
     "name": "stdout",
     "output_type": "stream",
     "text": [
      "\n"
     ]
    },
    {
     "data": {
      "application/vnd.jupyter.widget-view+json": {
       "model_id": "cc198e8b3bc24815b40cecbcbb15a9e4",
       "version_major": 2,
       "version_minor": 0
      },
      "text/plain": [
       "A Jupyter Widget"
      ]
     },
     "metadata": {},
     "output_type": "display_data"
    },
    {
     "name": "stdout",
     "output_type": "stream",
     "text": [
      "\n"
     ]
    },
    {
     "data": {
      "application/vnd.jupyter.widget-view+json": {
       "model_id": "e292f01fda484fba8197be3206d56cf3",
       "version_major": 2,
       "version_minor": 0
      },
      "text/plain": [
       "A Jupyter Widget"
      ]
     },
     "metadata": {},
     "output_type": "display_data"
    },
    {
     "name": "stdout",
     "output_type": "stream",
     "text": [
      "\n"
     ]
    },
    {
     "data": {
      "application/vnd.jupyter.widget-view+json": {
       "model_id": "d812ca8196274d1fa742d467dcedce2e",
       "version_major": 2,
       "version_minor": 0
      },
      "text/plain": [
       "A Jupyter Widget"
      ]
     },
     "metadata": {},
     "output_type": "display_data"
    },
    {
     "name": "stdout",
     "output_type": "stream",
     "text": [
      "\n"
     ]
    },
    {
     "data": {
      "application/vnd.jupyter.widget-view+json": {
       "model_id": "5c731420694a4227a13c6b26273bcc6b",
       "version_major": 2,
       "version_minor": 0
      },
      "text/plain": [
       "A Jupyter Widget"
      ]
     },
     "metadata": {},
     "output_type": "display_data"
    },
    {
     "name": "stdout",
     "output_type": "stream",
     "text": [
      "\n"
     ]
    },
    {
     "data": {
      "application/vnd.jupyter.widget-view+json": {
       "model_id": "36031a04ae284adda9b810bf92851d6c",
       "version_major": 2,
       "version_minor": 0
      },
      "text/plain": [
       "A Jupyter Widget"
      ]
     },
     "metadata": {},
     "output_type": "display_data"
    },
    {
     "name": "stdout",
     "output_type": "stream",
     "text": [
      "\n"
     ]
    },
    {
     "data": {
      "application/vnd.jupyter.widget-view+json": {
       "model_id": "03550049825347659cb89e8ba5022b76",
       "version_major": 2,
       "version_minor": 0
      },
      "text/plain": [
       "A Jupyter Widget"
      ]
     },
     "metadata": {},
     "output_type": "display_data"
    },
    {
     "name": "stdout",
     "output_type": "stream",
     "text": [
      "\n"
     ]
    },
    {
     "data": {
      "application/vnd.jupyter.widget-view+json": {
       "model_id": "07ef33f799ea4a998eb22cf82465c34a",
       "version_major": 2,
       "version_minor": 0
      },
      "text/plain": [
       "A Jupyter Widget"
      ]
     },
     "metadata": {},
     "output_type": "display_data"
    },
    {
     "name": "stdout",
     "output_type": "stream",
     "text": [
      "\n"
     ]
    },
    {
     "data": {
      "application/vnd.jupyter.widget-view+json": {
       "model_id": "218bdd3cc71b4bffa120d15d926aac84",
       "version_major": 2,
       "version_minor": 0
      },
      "text/plain": [
       "A Jupyter Widget"
      ]
     },
     "metadata": {},
     "output_type": "display_data"
    },
    {
     "name": "stdout",
     "output_type": "stream",
     "text": [
      "\n",
      "http://mo.wikipedia.org/wiki/%D0%9B%D0%B5%D1%82%D0%BE%D0%BD%D0%B8%D1%8F\n",
      "http://mo.wikipedia.org/wiki/%D0%9B%D0%B5%D1%82%D0%BE%D0%BD%D0%B8%D1%8F\n",
      "http://mo.wikipedia.org/wiki/%D0%96%D1%83%D0%B4%D0%B5%D1%86%D0%B5%D0%BB%D0%B5_%D0%9B%D0%B5%D1%82%D0%BE%D0%BD%D0%B5%D0%B9\n",
      "http://mo.wikipedia.org/wiki/%D0%96%D1%83%D0%B4%D0%B5%D1%86%D1%83%D0%BB_%D0%90%D0%B9%D0%B7%D0%BA%D1%80%D0%B0%D1%83%D0%BA%D0%BB%D0%B5%D1%81\n",
      "http://mo.wikipedia.org/wiki/%D0%96%D1%83%D0%B4%D0%B5%D1%86%D1%83%D0%BB_%D0%90%D0%BB%D1%83%D0%BA%D1%81%D0%BD%D0%B5%D1%81\n",
      "http://mo.wikipedia.org/wiki/%D0%96%D1%83%D0%B4%D0%B5%D1%86%D1%83%D0%BB_%D0%91%D0%B0%D1%83%D1%81%D0%BA%D0%B0%D1%81\n",
      "http://mo.wikipedia.org/wiki/%D0%96%D1%83%D0%B4%D0%B5%D1%86%D1%83%D0%BB_%D0%A6%D0%B5%D1%81%D1%83\n",
      "http://mo.wikipedia.org/wiki/%D0%96%D1%83%D0%B4%D0%B5%D1%86%D1%83%D0%BB_%D0%94%D0%B0%D1%83%D0%B3%D0%B0%D0%B2%D0%BF%D0%B8%D0%BB%D1%81\n",
      "http://mo.wikipedia.org/wiki/%D0%96%D1%83%D0%B4%D0%B5%D1%86%D1%83%D0%BB_%D0%94%D0%BE%D0%B1%D0%B5%D0%BB%D0%B5%D1%81\n",
      "http://mo.wikipedia.org/wiki/%D0%96%D1%83%D0%B4%D0%B5%D1%86%D1%83%D0%BB_%D0%93%D1%83%D0%BB%D0%B1%D0%B5%D0%BD%D0%B5%D1%81\n",
      "http://mo.wikipedia.org/wiki/%D0%96%D1%83%D0%B4%D0%B5%D1%86%D1%83%D0%BB_%D0%95%D0%BA%D0%B0%D0%B1%D0%BF%D0%B8%D0%BB%D1%81\n",
      "http://mo.wikipedia.org/wiki/%D0%96%D1%83%D0%B4%D0%B5%D1%86%D1%83%D0%BB_%D0%AE%D1%80%D0%BC%D0%B0%D0%BB%D0%B0\n",
      "http://mo.wikipedia.org/wiki/%D0%96%D1%83%D0%B4%D0%B5%D1%86%D1%83%D0%BB_%D0%9A%D1%80%D0%B0%D1%81%D0%BB%D0%B0%D0%B2%D0%B0%D1%81\n",
      "http://mo.wikipedia.org/wiki/%D0%96%D1%83%D0%B4%D0%B5%D1%86%D1%83%D0%BB_%D0%9A%D1%83%D0%BB%D0%B4%D0%B8%D0%B3%D0%B0%D1%81\n",
      "http://mo.wikipedia.org/wiki/%D0%96%D1%83%D0%B4%D0%B5%D1%86%D1%83%D0%BB_%D0%9B%D0%B8%D0%BC%D0%B1%D0%B0%D0%B7%D1%83\n",
      "http://mo.wikipedia.org/wiki/%D0%96%D1%83%D0%B4%D0%B5%D1%86%D1%83%D0%BB_%D0%9C%D0%B0%D0%B4%D0%BE%D0%BD%D0%B0%D1%81\n",
      "http://mo.wikipedia.org/wiki/%D0%96%D1%83%D0%B4%D0%B5%D1%86%D1%83%D0%BB_%D0%9F%D1%80%D0%B5%D0%B9%D0%BB%D1%83\n",
      "http://mo.wikipedia.org/wiki/%D0%96%D1%83%D0%B4%D0%B5%D1%86%D1%83%D0%BB_%D0%A0%D0%B5%D0%B7%D0%B5%D0%BA%D0%BD%D0%B5\n",
      "http://mo.wikipedia.org/wiki/%D0%96%D1%83%D0%B4%D0%B5%D1%86%D1%83%D0%BB_%D0%A0%D0%B8%D0%B3%D0%B0\n",
      "http://mo.wikipedia.org/wiki/%D0%96%D1%83%D0%B4%D0%B5%D1%86%D1%83%D0%BB_%D0%A1%D0%B0%D0%BB%D0%B4%D1%83%D1%81\n",
      "http://mo.wikipedia.org/wiki/%D0%96%D1%83%D0%B4%D0%B5%D1%86%D1%83%D0%BB_%D0%A2%D0%B0%D0%BB%D1%81%D1%83\n",
      "http://mo.wikipedia.org/wiki/%D0%96%D1%83%D0%B4%D0%B5%D1%86%D1%83%D0%BB_%D0%A2%D1%83%D0%BA%D1%83%D0%BC%D0%B0\n",
      "http://mo.wikipedia.org/wiki/%D0%96%D1%83%D0%B4%D0%B5%D1%86%D1%83%D0%BB_%D0%92%D0%B0%D0%BB%D0%BC%D0%B8%D0%B5%D1%80%D0%B0%D1%81\n",
      "http://mo.wikipedia.org/wiki/%D0%96%D1%83%D0%B4%D0%B5%D1%86%D1%83%D0%BB_%D0%92%D0%B5%D0%BD%D1%82%D1%81%D0%BF%D0%B8%D0%BB%D1%81\n",
      "http://mo.wikipedia.org/wiki/%D0%96%D1%83%D0%B4%D0%B5%D1%86%D1%83%D0%BB_%D0%9E%D0%B3%D1%80%D0%B5%D1%81\n",
      "http://mo.wikipedia.org/wiki/%D0%96%D1%83%D0%B4%D0%B5%D1%86%D1%83%D0%BB_%D0%9E%D0%B3%D1%80%D0%B5%D1%81\n",
      "http://mo.wikipedia.org/wiki/%D0%9F%D0%B0%D3%82%D0%B8%D0%BD%D0%B0_%D0%BF%D1%80%D0%B8%D0%BD%D1%87%D0%B8%D0%BF%D0%B0%D0%BB%D1%8D\n",
      "http://mo.wikipedia.org/wiki/%D0%9F%D0%B0%D3%82%D0%B8%D0%BD%D0%B0_%D0%BF%D1%80%D0%B8%D0%BD%D1%87%D0%B8%D0%BF%D0%B0%D0%BB%D1%8D\n"
     ]
    },
    {
     "data": {
      "application/vnd.jupyter.widget-view+json": {
       "model_id": "5df9a59423004a6782cfd62c71f56db2",
       "version_major": 2,
       "version_minor": 0
      },
      "text/plain": [
       "A Jupyter Widget"
      ]
     },
     "metadata": {},
     "output_type": "display_data"
    },
    {
     "name": "stdout",
     "output_type": "stream",
     "text": [
      "\n"
     ]
    },
    {
     "data": {
      "application/vnd.jupyter.widget-view+json": {
       "model_id": "62f3e791e27e40e1a84d9edc220a3d40",
       "version_major": 2,
       "version_minor": 0
      },
      "text/plain": [
       "A Jupyter Widget"
      ]
     },
     "metadata": {},
     "output_type": "display_data"
    },
    {
     "name": "stdout",
     "output_type": "stream",
     "text": [
      "\n"
     ]
    },
    {
     "data": {
      "application/vnd.jupyter.widget-view+json": {
       "model_id": "18fdc6768dbb4871b53daaf820e2f4de",
       "version_major": 2,
       "version_minor": 0
      },
      "text/plain": [
       "A Jupyter Widget"
      ]
     },
     "metadata": {},
     "output_type": "display_data"
    },
    {
     "name": "stdout",
     "output_type": "stream",
     "text": [
      "\n"
     ]
    },
    {
     "data": {
      "application/vnd.jupyter.widget-view+json": {
       "model_id": "9e1394d334a840039e1c0552530c9b56",
       "version_major": 2,
       "version_minor": 0
      },
      "text/plain": [
       "A Jupyter Widget"
      ]
     },
     "metadata": {},
     "output_type": "display_data"
    },
    {
     "name": "stdout",
     "output_type": "stream",
     "text": [
      "\n"
     ]
    },
    {
     "data": {
      "application/vnd.jupyter.widget-view+json": {
       "model_id": "410722a8f26a4dc99e1742ad4e0be3bf",
       "version_major": 2,
       "version_minor": 0
      },
      "text/plain": [
       "A Jupyter Widget"
      ]
     },
     "metadata": {},
     "output_type": "display_data"
    },
    {
     "name": "stdout",
     "output_type": "stream",
     "text": [
      "\n"
     ]
    },
    {
     "data": {
      "application/vnd.jupyter.widget-view+json": {
       "model_id": "a70bb78205a341f18c9ff34312f2c06d",
       "version_major": 2,
       "version_minor": 0
      },
      "text/plain": [
       "A Jupyter Widget"
      ]
     },
     "metadata": {},
     "output_type": "display_data"
    },
    {
     "name": "stdout",
     "output_type": "stream",
     "text": [
      "\n"
     ]
    },
    {
     "data": {
      "application/vnd.jupyter.widget-view+json": {
       "model_id": "9e98fe43e0ec4e1b86a7fcc3206229a2",
       "version_major": 2,
       "version_minor": 0
      },
      "text/plain": [
       "A Jupyter Widget"
      ]
     },
     "metadata": {},
     "output_type": "display_data"
    },
    {
     "name": "stdout",
     "output_type": "stream",
     "text": [
      "\n"
     ]
    },
    {
     "data": {
      "application/vnd.jupyter.widget-view+json": {
       "model_id": "043f44f8f9614101b850201e780d3c17",
       "version_major": 2,
       "version_minor": 0
      },
      "text/plain": [
       "A Jupyter Widget"
      ]
     },
     "metadata": {},
     "output_type": "display_data"
    },
    {
     "name": "stdout",
     "output_type": "stream",
     "text": [
      "\n"
     ]
    },
    {
     "data": {
      "application/vnd.jupyter.widget-view+json": {
       "model_id": "2eb60073336b4cfcbc6f73027844a2cb",
       "version_major": 2,
       "version_minor": 0
      },
      "text/plain": [
       "A Jupyter Widget"
      ]
     },
     "metadata": {},
     "output_type": "display_data"
    },
    {
     "name": "stdout",
     "output_type": "stream",
     "text": [
      "\n"
     ]
    },
    {
     "data": {
      "application/vnd.jupyter.widget-view+json": {
       "model_id": "4d6460d429434be8871e3aacf0d50af7",
       "version_major": 2,
       "version_minor": 0
      },
      "text/plain": [
       "A Jupyter Widget"
      ]
     },
     "metadata": {},
     "output_type": "display_data"
    },
    {
     "name": "stdout",
     "output_type": "stream",
     "text": [
      "\n"
     ]
    },
    {
     "data": {
      "application/vnd.jupyter.widget-view+json": {
       "model_id": "be7639b047964f499a8ad39f91b2886a",
       "version_major": 2,
       "version_minor": 0
      },
      "text/plain": [
       "A Jupyter Widget"
      ]
     },
     "metadata": {},
     "output_type": "display_data"
    },
    {
     "name": "stdout",
     "output_type": "stream",
     "text": [
      "\n"
     ]
    },
    {
     "data": {
      "application/vnd.jupyter.widget-view+json": {
       "model_id": "91310b3e643845baa58931a9c4ddde2d",
       "version_major": 2,
       "version_minor": 0
      },
      "text/plain": [
       "A Jupyter Widget"
      ]
     },
     "metadata": {},
     "output_type": "display_data"
    },
    {
     "name": "stdout",
     "output_type": "stream",
     "text": [
      "\n"
     ]
    },
    {
     "data": {
      "application/vnd.jupyter.widget-view+json": {
       "model_id": "a675d388489d478f9fb4e2b8220ee8e5",
       "version_major": 2,
       "version_minor": 0
      },
      "text/plain": [
       "A Jupyter Widget"
      ]
     },
     "metadata": {},
     "output_type": "display_data"
    },
    {
     "name": "stdout",
     "output_type": "stream",
     "text": [
      "\n",
      "http://mo.wikipedia.org/wiki/%D0%96%D1%83%D0%B4%D0%B5%D1%86%D1%83%D0%BB_%D0%9C%D0%B0%D0%B4%D0%BE%D0%BD%D0%B0%D1%81\n",
      "http://mo.wikipedia.org/wiki/%D0%96%D1%83%D0%B4%D0%B5%D1%86%D1%83%D0%BB_%D0%9C%D0%B0%D0%B4%D0%BE%D0%BD%D0%B0%D1%81\n",
      "http://mo.wikipedia.org/wiki/%D0%9F%D0%B0%D3%82%D0%B8%D0%BD%D0%B0_%D0%BF%D1%80%D0%B8%D0%BD%D1%87%D0%B8%D0%BF%D0%B0%D0%BB%D1%8D\n",
      "http://mo.wikipedia.org/wiki/%D0%9F%D0%B0%D3%82%D0%B8%D0%BD%D0%B0_%D0%BF%D1%80%D0%B8%D0%BD%D1%87%D0%B8%D0%BF%D0%B0%D0%BB%D1%8D\n"
     ]
    },
    {
     "data": {
      "application/vnd.jupyter.widget-view+json": {
       "model_id": "0ed27b534b654541a7ad6b97c63f2649",
       "version_major": 2,
       "version_minor": 0
      },
      "text/plain": [
       "A Jupyter Widget"
      ]
     },
     "metadata": {},
     "output_type": "display_data"
    },
    {
     "name": "stdout",
     "output_type": "stream",
     "text": [
      "\n"
     ]
    },
    {
     "data": {
      "application/vnd.jupyter.widget-view+json": {
       "model_id": "5fb7c9e17bd241b790a082be8c8eb2de",
       "version_major": 2,
       "version_minor": 0
      },
      "text/plain": [
       "A Jupyter Widget"
      ]
     },
     "metadata": {},
     "output_type": "display_data"
    },
    {
     "name": "stdout",
     "output_type": "stream",
     "text": [
      "\n"
     ]
    },
    {
     "data": {
      "application/vnd.jupyter.widget-view+json": {
       "model_id": "2565efc005a549f3b38caff6eeedf6ef",
       "version_major": 2,
       "version_minor": 0
      },
      "text/plain": [
       "A Jupyter Widget"
      ]
     },
     "metadata": {},
     "output_type": "display_data"
    },
    {
     "name": "stdout",
     "output_type": "stream",
     "text": [
      "\n"
     ]
    },
    {
     "data": {
      "application/vnd.jupyter.widget-view+json": {
       "model_id": "185c410e8a304914976ef8e114cefff0",
       "version_major": 2,
       "version_minor": 0
      },
      "text/plain": [
       "A Jupyter Widget"
      ]
     },
     "metadata": {},
     "output_type": "display_data"
    },
    {
     "name": "stdout",
     "output_type": "stream",
     "text": [
      "\n"
     ]
    },
    {
     "data": {
      "application/vnd.jupyter.widget-view+json": {
       "model_id": "95448fe66dcc4dad9dbc740dcc6fa2d1",
       "version_major": 2,
       "version_minor": 0
      },
      "text/plain": [
       "A Jupyter Widget"
      ]
     },
     "metadata": {},
     "output_type": "display_data"
    },
    {
     "name": "stdout",
     "output_type": "stream",
     "text": [
      "\n",
      "http://mo.wikipedia.org/wiki/%D0%9B%D0%B5%D1%82%D0%BE%D0%BD%D0%B8%D1%8F\n",
      "http://mo.wikipedia.org/wiki/%D0%9B%D0%B5%D1%82%D0%BE%D0%BD%D0%B8%D1%8F\n",
      "http://mo.wikipedia.org/wiki/%D0%96%D1%83%D0%B4%D0%B5%D1%86%D0%B5%D0%BB%D0%B5_%D0%9B%D0%B5%D1%82%D0%BE%D0%BD%D0%B5%D0%B9\n",
      "http://mo.wikipedia.org/wiki/%D0%96%D1%83%D0%B4%D0%B5%D1%86%D1%83%D0%BB_%D0%90%D0%B9%D0%B7%D0%BA%D1%80%D0%B0%D1%83%D0%BA%D0%BB%D0%B5%D1%81\n",
      "http://mo.wikipedia.org/wiki/%D0%96%D1%83%D0%B4%D0%B5%D1%86%D1%83%D0%BB_%D0%90%D0%BB%D1%83%D0%BA%D1%81%D0%BD%D0%B5%D1%81\n",
      "http://mo.wikipedia.org/wiki/%D0%96%D1%83%D0%B4%D0%B5%D1%86%D1%83%D0%BB_%D0%91%D0%B0%D1%83%D1%81%D0%BA%D0%B0%D1%81\n",
      "http://mo.wikipedia.org/wiki/%D0%96%D1%83%D0%B4%D0%B5%D1%86%D1%83%D0%BB_%D0%A6%D0%B5%D1%81%D1%83\n",
      "http://mo.wikipedia.org/wiki/%D0%96%D1%83%D0%B4%D0%B5%D1%86%D1%83%D0%BB_%D0%94%D0%B0%D1%83%D0%B3%D0%B0%D0%B2%D0%BF%D0%B8%D0%BB%D1%81\n",
      "http://mo.wikipedia.org/wiki/%D0%96%D1%83%D0%B4%D0%B5%D1%86%D1%83%D0%BB_%D0%94%D0%BE%D0%B1%D0%B5%D0%BB%D0%B5%D1%81\n",
      "http://mo.wikipedia.org/wiki/%D0%96%D1%83%D0%B4%D0%B5%D1%86%D1%83%D0%BB_%D0%93%D1%83%D0%BB%D0%B1%D0%B5%D0%BD%D0%B5%D1%81\n",
      "http://mo.wikipedia.org/wiki/%D0%96%D1%83%D0%B4%D0%B5%D1%86%D1%83%D0%BB_%D0%95%D0%BA%D0%B0%D0%B1%D0%BF%D0%B8%D0%BB%D1%81\n",
      "http://mo.wikipedia.org/wiki/%D0%96%D1%83%D0%B4%D0%B5%D1%86%D1%83%D0%BB_%D0%AE%D1%80%D0%BC%D0%B0%D0%BB%D0%B0\n",
      "http://mo.wikipedia.org/wiki/%D0%96%D1%83%D0%B4%D0%B5%D1%86%D1%83%D0%BB_%D0%9A%D1%80%D0%B0%D1%81%D0%BB%D0%B0%D0%B2%D0%B0%D1%81\n",
      "http://mo.wikipedia.org/wiki/%D0%96%D1%83%D0%B4%D0%B5%D1%86%D1%83%D0%BB_%D0%9A%D1%83%D0%BB%D0%B4%D0%B8%D0%B3%D0%B0%D1%81\n",
      "http://mo.wikipedia.org/wiki/%D0%96%D1%83%D0%B4%D0%B5%D1%86%D1%83%D0%BB_%D0%9C%D0%B0%D0%B4%D0%BE%D0%BD%D0%B0%D1%81\n",
      "http://mo.wikipedia.org/wiki/%D0%96%D1%83%D0%B4%D0%B5%D1%86%D1%83%D0%BB_%D0%9E%D0%B3%D1%80%D0%B5%D1%81\n",
      "http://mo.wikipedia.org/wiki/%D0%96%D1%83%D0%B4%D0%B5%D1%86%D1%83%D0%BB_%D0%9F%D1%80%D0%B5%D0%B9%D0%BB%D1%83\n",
      "http://mo.wikipedia.org/wiki/%D0%96%D1%83%D0%B4%D0%B5%D1%86%D1%83%D0%BB_%D0%A0%D0%B5%D0%B7%D0%B5%D0%BA%D0%BD%D0%B5\n",
      "http://mo.wikipedia.org/wiki/%D0%96%D1%83%D0%B4%D0%B5%D1%86%D1%83%D0%BB_%D0%A0%D0%B8%D0%B3%D0%B0\n",
      "http://mo.wikipedia.org/wiki/%D0%96%D1%83%D0%B4%D0%B5%D1%86%D1%83%D0%BB_%D0%A1%D0%B0%D0%BB%D0%B4%D1%83%D1%81\n",
      "http://mo.wikipedia.org/wiki/%D0%96%D1%83%D0%B4%D0%B5%D1%86%D1%83%D0%BB_%D0%A2%D0%B0%D0%BB%D1%81%D1%83\n",
      "http://mo.wikipedia.org/wiki/%D0%96%D1%83%D0%B4%D0%B5%D1%86%D1%83%D0%BB_%D0%A2%D1%83%D0%BA%D1%83%D0%BC%D0%B0\n",
      "http://mo.wikipedia.org/wiki/%D0%96%D1%83%D0%B4%D0%B5%D1%86%D1%83%D0%BB_%D0%92%D0%B0%D0%BB%D0%BC%D0%B8%D0%B5%D1%80%D0%B0%D1%81\n",
      "http://mo.wikipedia.org/wiki/%D0%96%D1%83%D0%B4%D0%B5%D1%86%D1%83%D0%BB_%D0%92%D0%B5%D0%BD%D1%82%D1%81%D0%BF%D0%B8%D0%BB%D1%81\n",
      "http://mo.wikipedia.org/wiki/%D0%96%D1%83%D0%B4%D0%B5%D1%86%D1%83%D0%BB_%D0%9B%D0%B8%D0%BC%D0%B1%D0%B0%D0%B7%D1%83\n",
      "http://mo.wikipedia.org/wiki/%D0%96%D1%83%D0%B4%D0%B5%D1%86%D1%83%D0%BB_%D0%9B%D0%B8%D0%BC%D0%B1%D0%B0%D0%B7%D1%83\n",
      "http://mo.wikipedia.org/wiki/%D0%9F%D0%B0%D3%82%D0%B8%D0%BD%D0%B0_%D0%BF%D1%80%D0%B8%D0%BD%D1%87%D0%B8%D0%BF%D0%B0%D0%BB%D1%8D\n",
      "http://mo.wikipedia.org/wiki/%D0%9F%D0%B0%D3%82%D0%B8%D0%BD%D0%B0_%D0%BF%D1%80%D0%B8%D0%BD%D1%87%D0%B8%D0%BF%D0%B0%D0%BB%D1%8D\n"
     ]
    },
    {
     "data": {
      "application/vnd.jupyter.widget-view+json": {
       "model_id": "2dc0b609ec234d53a270840314b11cd6",
       "version_major": 2,
       "version_minor": 0
      },
      "text/plain": [
       "A Jupyter Widget"
      ]
     },
     "metadata": {},
     "output_type": "display_data"
    },
    {
     "name": "stdout",
     "output_type": "stream",
     "text": [
      "\n"
     ]
    },
    {
     "data": {
      "application/vnd.jupyter.widget-view+json": {
       "model_id": "37c5b09eecec4768b98f6bb7d6caba9f",
       "version_major": 2,
       "version_minor": 0
      },
      "text/plain": [
       "A Jupyter Widget"
      ]
     },
     "metadata": {},
     "output_type": "display_data"
    },
    {
     "name": "stdout",
     "output_type": "stream",
     "text": [
      "\n"
     ]
    },
    {
     "data": {
      "application/vnd.jupyter.widget-view+json": {
       "model_id": "d2e3c3ab6161430393ef1458f25aec7d",
       "version_major": 2,
       "version_minor": 0
      },
      "text/plain": [
       "A Jupyter Widget"
      ]
     },
     "metadata": {},
     "output_type": "display_data"
    },
    {
     "name": "stdout",
     "output_type": "stream",
     "text": [
      "\n"
     ]
    },
    {
     "data": {
      "application/vnd.jupyter.widget-view+json": {
       "model_id": "d9cc17e76915493290ca8f751cac595b",
       "version_major": 2,
       "version_minor": 0
      },
      "text/plain": [
       "A Jupyter Widget"
      ]
     },
     "metadata": {},
     "output_type": "display_data"
    },
    {
     "name": "stdout",
     "output_type": "stream",
     "text": [
      "\n"
     ]
    },
    {
     "data": {
      "application/vnd.jupyter.widget-view+json": {
       "model_id": "02c21d1122944f0e88bfb79b78c911c4",
       "version_major": 2,
       "version_minor": 0
      },
      "text/plain": [
       "A Jupyter Widget"
      ]
     },
     "metadata": {},
     "output_type": "display_data"
    },
    {
     "name": "stdout",
     "output_type": "stream",
     "text": [
      "\n"
     ]
    },
    {
     "data": {
      "application/vnd.jupyter.widget-view+json": {
       "model_id": "6656c15744524b11af6516d9b7cf7363",
       "version_major": 2,
       "version_minor": 0
      },
      "text/plain": [
       "A Jupyter Widget"
      ]
     },
     "metadata": {},
     "output_type": "display_data"
    },
    {
     "name": "stdout",
     "output_type": "stream",
     "text": [
      "\n"
     ]
    },
    {
     "data": {
      "application/vnd.jupyter.widget-view+json": {
       "model_id": "be571f34938b4dd7b56a635cef337f58",
       "version_major": 2,
       "version_minor": 0
      },
      "text/plain": [
       "A Jupyter Widget"
      ]
     },
     "metadata": {},
     "output_type": "display_data"
    },
    {
     "name": "stdout",
     "output_type": "stream",
     "text": [
      "\n"
     ]
    },
    {
     "data": {
      "application/vnd.jupyter.widget-view+json": {
       "model_id": "1fc46597a4464e9fa19c579386735ede",
       "version_major": 2,
       "version_minor": 0
      },
      "text/plain": [
       "A Jupyter Widget"
      ]
     },
     "metadata": {},
     "output_type": "display_data"
    },
    {
     "name": "stdout",
     "output_type": "stream",
     "text": [
      "\n"
     ]
    },
    {
     "data": {
      "application/vnd.jupyter.widget-view+json": {
       "model_id": "689f3601226c46ce880c963bed89ed70",
       "version_major": 2,
       "version_minor": 0
      },
      "text/plain": [
       "A Jupyter Widget"
      ]
     },
     "metadata": {},
     "output_type": "display_data"
    },
    {
     "name": "stdout",
     "output_type": "stream",
     "text": [
      "\n"
     ]
    },
    {
     "data": {
      "application/vnd.jupyter.widget-view+json": {
       "model_id": "15380d462d9a416e9c99a29ef2b8a43b",
       "version_major": 2,
       "version_minor": 0
      },
      "text/plain": [
       "A Jupyter Widget"
      ]
     },
     "metadata": {},
     "output_type": "display_data"
    },
    {
     "name": "stdout",
     "output_type": "stream",
     "text": [
      "\n"
     ]
    },
    {
     "data": {
      "application/vnd.jupyter.widget-view+json": {
       "model_id": "7ab29b0c1a164e3a89882b89874a2677",
       "version_major": 2,
       "version_minor": 0
      },
      "text/plain": [
       "A Jupyter Widget"
      ]
     },
     "metadata": {},
     "output_type": "display_data"
    },
    {
     "name": "stdout",
     "output_type": "stream",
     "text": [
      "\n"
     ]
    },
    {
     "data": {
      "application/vnd.jupyter.widget-view+json": {
       "model_id": "df1a2f886c794b7997372ff4d8193564",
       "version_major": 2,
       "version_minor": 0
      },
      "text/plain": [
       "A Jupyter Widget"
      ]
     },
     "metadata": {},
     "output_type": "display_data"
    },
    {
     "name": "stdout",
     "output_type": "stream",
     "text": [
      "\n"
     ]
    },
    {
     "data": {
      "application/vnd.jupyter.widget-view+json": {
       "model_id": "90adbe17e82f40e291d2cf44db3b9470",
       "version_major": 2,
       "version_minor": 0
      },
      "text/plain": [
       "A Jupyter Widget"
      ]
     },
     "metadata": {},
     "output_type": "display_data"
    },
    {
     "name": "stdout",
     "output_type": "stream",
     "text": [
      "\n"
     ]
    },
    {
     "data": {
      "application/vnd.jupyter.widget-view+json": {
       "model_id": "eff672a803c142669c0d944f68ed93f2",
       "version_major": 2,
       "version_minor": 0
      },
      "text/plain": [
       "A Jupyter Widget"
      ]
     },
     "metadata": {},
     "output_type": "display_data"
    },
    {
     "name": "stdout",
     "output_type": "stream",
     "text": [
      "\n"
     ]
    },
    {
     "data": {
      "application/vnd.jupyter.widget-view+json": {
       "model_id": "59d3f9fbc79b43ad832d329d98df9809",
       "version_major": 2,
       "version_minor": 0
      },
      "text/plain": [
       "A Jupyter Widget"
      ]
     },
     "metadata": {},
     "output_type": "display_data"
    },
    {
     "name": "stdout",
     "output_type": "stream",
     "text": [
      "\n",
      "http://mo.wikipedia.org/wiki/%D0%9B%D0%B5%D1%82%D0%BE%D0%BD%D0%B8%D1%8F\n",
      "http://mo.wikipedia.org/wiki/%D0%9B%D0%B5%D1%82%D0%BE%D0%BD%D0%B8%D1%8F\n",
      "http://mo.wikipedia.org/wiki/%D0%96%D1%83%D0%B4%D0%B5%D1%86%D0%B5%D0%BB%D0%B5_%D0%9B%D0%B5%D1%82%D0%BE%D0%BD%D0%B5%D0%B9\n",
      "http://mo.wikipedia.org/wiki/%D0%96%D1%83%D0%B4%D0%B5%D1%86%D1%83%D0%BB_%D0%90%D0%B9%D0%B7%D0%BA%D1%80%D0%B0%D1%83%D0%BA%D0%BB%D0%B5%D1%81\n",
      "http://mo.wikipedia.org/wiki/%D0%96%D1%83%D0%B4%D0%B5%D1%86%D1%83%D0%BB_%D0%90%D0%BB%D1%83%D0%BA%D1%81%D0%BD%D0%B5%D1%81\n",
      "http://mo.wikipedia.org/wiki/%D0%96%D1%83%D0%B4%D0%B5%D1%86%D1%83%D0%BB_%D0%91%D0%B0%D1%83%D1%81%D0%BA%D0%B0%D1%81\n",
      "http://mo.wikipedia.org/wiki/%D0%96%D1%83%D0%B4%D0%B5%D1%86%D1%83%D0%BB_%D0%A6%D0%B5%D1%81%D1%83\n",
      "http://mo.wikipedia.org/wiki/%D0%96%D1%83%D0%B4%D0%B5%D1%86%D1%83%D0%BB_%D0%94%D0%B0%D1%83%D0%B3%D0%B0%D0%B2%D0%BF%D0%B8%D0%BB%D1%81\n",
      "http://mo.wikipedia.org/wiki/%D0%96%D1%83%D0%B4%D0%B5%D1%86%D1%83%D0%BB_%D0%94%D0%BE%D0%B1%D0%B5%D0%BB%D0%B5%D1%81\n",
      "http://mo.wikipedia.org/wiki/%D0%96%D1%83%D0%B4%D0%B5%D1%86%D1%83%D0%BB_%D0%93%D1%83%D0%BB%D0%B1%D0%B5%D0%BD%D0%B5%D1%81\n",
      "http://mo.wikipedia.org/wiki/%D0%96%D1%83%D0%B4%D0%B5%D1%86%D1%83%D0%BB_%D0%95%D0%BA%D0%B0%D0%B1%D0%BF%D0%B8%D0%BB%D1%81\n",
      "http://mo.wikipedia.org/wiki/%D0%96%D1%83%D0%B4%D0%B5%D1%86%D1%83%D0%BB_%D0%AE%D1%80%D0%BC%D0%B0%D0%BB%D0%B0\n",
      "http://mo.wikipedia.org/wiki/%D0%96%D1%83%D0%B4%D0%B5%D1%86%D1%83%D0%BB_%D0%9A%D1%80%D0%B0%D1%81%D0%BB%D0%B0%D0%B2%D0%B0%D1%81\n",
      "http://mo.wikipedia.org/wiki/%D0%96%D1%83%D0%B4%D0%B5%D1%86%D1%83%D0%BB_%D0%9B%D0%B8%D0%BC%D0%B1%D0%B0%D0%B7%D1%83\n",
      "http://mo.wikipedia.org/wiki/%D0%96%D1%83%D0%B4%D0%B5%D1%86%D1%83%D0%BB_%D0%9C%D0%B0%D0%B4%D0%BE%D0%BD%D0%B0%D1%81\n",
      "http://mo.wikipedia.org/wiki/%D0%96%D1%83%D0%B4%D0%B5%D1%86%D1%83%D0%BB_%D0%9E%D0%B3%D1%80%D0%B5%D1%81\n",
      "http://mo.wikipedia.org/wiki/%D0%96%D1%83%D0%B4%D0%B5%D1%86%D1%83%D0%BB_%D0%9F%D1%80%D0%B5%D0%B9%D0%BB%D1%83\n",
      "http://mo.wikipedia.org/wiki/%D0%96%D1%83%D0%B4%D0%B5%D1%86%D1%83%D0%BB_%D0%A0%D0%B5%D0%B7%D0%B5%D0%BA%D0%BD%D0%B5\n",
      "http://mo.wikipedia.org/wiki/%D0%96%D1%83%D0%B4%D0%B5%D1%86%D1%83%D0%BB_%D0%A0%D0%B8%D0%B3%D0%B0\n",
      "http://mo.wikipedia.org/wiki/%D0%96%D1%83%D0%B4%D0%B5%D1%86%D1%83%D0%BB_%D0%A1%D0%B0%D0%BB%D0%B4%D1%83%D1%81\n",
      "http://mo.wikipedia.org/wiki/%D0%96%D1%83%D0%B4%D0%B5%D1%86%D1%83%D0%BB_%D0%A2%D0%B0%D0%BB%D1%81%D1%83\n",
      "http://mo.wikipedia.org/wiki/%D0%96%D1%83%D0%B4%D0%B5%D1%86%D1%83%D0%BB_%D0%A2%D1%83%D0%BA%D1%83%D0%BC%D0%B0\n",
      "http://mo.wikipedia.org/wiki/%D0%96%D1%83%D0%B4%D0%B5%D1%86%D1%83%D0%BB_%D0%92%D0%B0%D0%BB%D0%BC%D0%B8%D0%B5%D1%80%D0%B0%D1%81\n",
      "http://mo.wikipedia.org/wiki/%D0%96%D1%83%D0%B4%D0%B5%D1%86%D1%83%D0%BB_%D0%92%D0%B5%D0%BD%D1%82%D1%81%D0%BF%D0%B8%D0%BB%D1%81\n",
      "http://mo.wikipedia.org/wiki/%D0%96%D1%83%D0%B4%D0%B5%D1%86%D1%83%D0%BB_%D0%9A%D1%83%D0%BB%D0%B4%D0%B8%D0%B3%D0%B0%D1%81\n",
      "http://mo.wikipedia.org/wiki/%D0%96%D1%83%D0%B4%D0%B5%D1%86%D1%83%D0%BB_%D0%9A%D1%83%D0%BB%D0%B4%D0%B8%D0%B3%D0%B0%D1%81\n",
      "http://mo.wikipedia.org/wiki/%D0%9F%D0%B0%D3%82%D0%B8%D0%BD%D0%B0_%D0%BF%D1%80%D0%B8%D0%BD%D1%87%D0%B8%D0%BF%D0%B0%D0%BB%D1%8D\n",
      "http://mo.wikipedia.org/wiki/%D0%9F%D0%B0%D3%82%D0%B8%D0%BD%D0%B0_%D0%BF%D1%80%D0%B8%D0%BD%D1%87%D0%B8%D0%BF%D0%B0%D0%BB%D1%8D\n"
     ]
    },
    {
     "data": {
      "application/vnd.jupyter.widget-view+json": {
       "model_id": "d5ecaa45ca2a46228007e7cd32ee0b5f",
       "version_major": 2,
       "version_minor": 0
      },
      "text/plain": [
       "A Jupyter Widget"
      ]
     },
     "metadata": {},
     "output_type": "display_data"
    },
    {
     "name": "stdout",
     "output_type": "stream",
     "text": [
      "\n"
     ]
    },
    {
     "data": {
      "application/vnd.jupyter.widget-view+json": {
       "model_id": "9992d19148404cf58cf49a5e0d22f7dc",
       "version_major": 2,
       "version_minor": 0
      },
      "text/plain": [
       "A Jupyter Widget"
      ]
     },
     "metadata": {},
     "output_type": "display_data"
    },
    {
     "name": "stdout",
     "output_type": "stream",
     "text": [
      "\n"
     ]
    },
    {
     "data": {
      "application/vnd.jupyter.widget-view+json": {
       "model_id": "8d3ed07b7c6f465fb8f5d5f023f4d9f0",
       "version_major": 2,
       "version_minor": 0
      },
      "text/plain": [
       "A Jupyter Widget"
      ]
     },
     "metadata": {},
     "output_type": "display_data"
    },
    {
     "name": "stdout",
     "output_type": "stream",
     "text": [
      "\n"
     ]
    },
    {
     "data": {
      "application/vnd.jupyter.widget-view+json": {
       "model_id": "88199a1140d44e9196cc98e8d1291dbb",
       "version_major": 2,
       "version_minor": 0
      },
      "text/plain": [
       "A Jupyter Widget"
      ]
     },
     "metadata": {},
     "output_type": "display_data"
    },
    {
     "name": "stdout",
     "output_type": "stream",
     "text": [
      "\n"
     ]
    },
    {
     "data": {
      "application/vnd.jupyter.widget-view+json": {
       "model_id": "4f2ae056aa0948e1b749f7554e152a9c",
       "version_major": 2,
       "version_minor": 0
      },
      "text/plain": [
       "A Jupyter Widget"
      ]
     },
     "metadata": {},
     "output_type": "display_data"
    },
    {
     "name": "stdout",
     "output_type": "stream",
     "text": [
      "\n"
     ]
    },
    {
     "data": {
      "application/vnd.jupyter.widget-view+json": {
       "model_id": "e1caddbb0e8a4ffaad4357e7d8bf757b",
       "version_major": 2,
       "version_minor": 0
      },
      "text/plain": [
       "A Jupyter Widget"
      ]
     },
     "metadata": {},
     "output_type": "display_data"
    },
    {
     "name": "stdout",
     "output_type": "stream",
     "text": [
      "\n"
     ]
    },
    {
     "data": {
      "application/vnd.jupyter.widget-view+json": {
       "model_id": "5a3b0533f79a4580a2f54daafa53d156",
       "version_major": 2,
       "version_minor": 0
      },
      "text/plain": [
       "A Jupyter Widget"
      ]
     },
     "metadata": {},
     "output_type": "display_data"
    },
    {
     "name": "stdout",
     "output_type": "stream",
     "text": [
      "\n"
     ]
    },
    {
     "data": {
      "application/vnd.jupyter.widget-view+json": {
       "model_id": "17149d62c56d4cd6a89034596689ad4e",
       "version_major": 2,
       "version_minor": 0
      },
      "text/plain": [
       "A Jupyter Widget"
      ]
     },
     "metadata": {},
     "output_type": "display_data"
    },
    {
     "name": "stdout",
     "output_type": "stream",
     "text": [
      "\n"
     ]
    },
    {
     "data": {
      "application/vnd.jupyter.widget-view+json": {
       "model_id": "05e5316278cd4024aa66357b88d18d4e",
       "version_major": 2,
       "version_minor": 0
      },
      "text/plain": [
       "A Jupyter Widget"
      ]
     },
     "metadata": {},
     "output_type": "display_data"
    },
    {
     "name": "stdout",
     "output_type": "stream",
     "text": [
      "\n"
     ]
    },
    {
     "data": {
      "application/vnd.jupyter.widget-view+json": {
       "model_id": "b13911bb969d42818db4ecaf820a43c4",
       "version_major": 2,
       "version_minor": 0
      },
      "text/plain": [
       "A Jupyter Widget"
      ]
     },
     "metadata": {},
     "output_type": "display_data"
    },
    {
     "name": "stdout",
     "output_type": "stream",
     "text": [
      "\n"
     ]
    },
    {
     "data": {
      "application/vnd.jupyter.widget-view+json": {
       "model_id": "79d55d3e2e204d5c9ec03e6cac25c8c3",
       "version_major": 2,
       "version_minor": 0
      },
      "text/plain": [
       "A Jupyter Widget"
      ]
     },
     "metadata": {},
     "output_type": "display_data"
    },
    {
     "name": "stdout",
     "output_type": "stream",
     "text": [
      "\n"
     ]
    },
    {
     "data": {
      "application/vnd.jupyter.widget-view+json": {
       "model_id": "af1c01bca43b49fb8da91ac31e7010fb",
       "version_major": 2,
       "version_minor": 0
      },
      "text/plain": [
       "A Jupyter Widget"
      ]
     },
     "metadata": {},
     "output_type": "display_data"
    },
    {
     "name": "stdout",
     "output_type": "stream",
     "text": [
      "\n"
     ]
    },
    {
     "data": {
      "application/vnd.jupyter.widget-view+json": {
       "model_id": "2f1cb7af221942cba24477ed34bc8853",
       "version_major": 2,
       "version_minor": 0
      },
      "text/plain": [
       "A Jupyter Widget"
      ]
     },
     "metadata": {},
     "output_type": "display_data"
    },
    {
     "name": "stdout",
     "output_type": "stream",
     "text": [
      "\n"
     ]
    },
    {
     "data": {
      "application/vnd.jupyter.widget-view+json": {
       "model_id": "a93549bc6bd04a6d88c629553b6a992e",
       "version_major": 2,
       "version_minor": 0
      },
      "text/plain": [
       "A Jupyter Widget"
      ]
     },
     "metadata": {},
     "output_type": "display_data"
    },
    {
     "name": "stdout",
     "output_type": "stream",
     "text": [
      "\n"
     ]
    },
    {
     "data": {
      "application/vnd.jupyter.widget-view+json": {
       "model_id": "5bf5dccd0fa341e28164d095b36435fe",
       "version_major": 2,
       "version_minor": 0
      },
      "text/plain": [
       "A Jupyter Widget"
      ]
     },
     "metadata": {},
     "output_type": "display_data"
    },
    {
     "name": "stdout",
     "output_type": "stream",
     "text": [
      "\n"
     ]
    },
    {
     "data": {
      "application/vnd.jupyter.widget-view+json": {
       "model_id": "cb69377edf9640a3b0111d162d84325c",
       "version_major": 2,
       "version_minor": 0
      },
      "text/plain": [
       "A Jupyter Widget"
      ]
     },
     "metadata": {},
     "output_type": "display_data"
    },
    {
     "name": "stdout",
     "output_type": "stream",
     "text": [
      "\n",
      "http://mo.wikipedia.org/wiki/%D0%9B%D0%B5%D1%82%D0%BE%D0%BD%D0%B8%D1%8F\n",
      "http://mo.wikipedia.org/wiki/%D0%9B%D0%B5%D1%82%D0%BE%D0%BD%D0%B8%D1%8F\n",
      "http://mo.wikipedia.org/wiki/%D0%96%D1%83%D0%B4%D0%B5%D1%86%D0%B5%D0%BB%D0%B5_%D0%9B%D0%B5%D1%82%D0%BE%D0%BD%D0%B5%D0%B9\n",
      "http://mo.wikipedia.org/wiki/%D0%96%D1%83%D0%B4%D0%B5%D1%86%D1%83%D0%BB_%D0%90%D0%B9%D0%B7%D0%BA%D1%80%D0%B0%D1%83%D0%BA%D0%BB%D0%B5%D1%81\n",
      "http://mo.wikipedia.org/wiki/%D0%96%D1%83%D0%B4%D0%B5%D1%86%D1%83%D0%BB_%D0%90%D0%BB%D1%83%D0%BA%D1%81%D0%BD%D0%B5%D1%81\n",
      "http://mo.wikipedia.org/wiki/%D0%96%D1%83%D0%B4%D0%B5%D1%86%D1%83%D0%BB_%D0%91%D0%B0%D1%83%D1%81%D0%BA%D0%B0%D1%81\n",
      "http://mo.wikipedia.org/wiki/%D0%96%D1%83%D0%B4%D0%B5%D1%86%D1%83%D0%BB_%D0%A6%D0%B5%D1%81%D1%83\n",
      "http://mo.wikipedia.org/wiki/%D0%96%D1%83%D0%B4%D0%B5%D1%86%D1%83%D0%BB_%D0%94%D0%B0%D1%83%D0%B3%D0%B0%D0%B2%D0%BF%D0%B8%D0%BB%D1%81\n",
      "http://mo.wikipedia.org/wiki/%D0%96%D1%83%D0%B4%D0%B5%D1%86%D1%83%D0%BB_%D0%94%D0%BE%D0%B1%D0%B5%D0%BB%D0%B5%D1%81\n",
      "http://mo.wikipedia.org/wiki/%D0%96%D1%83%D0%B4%D0%B5%D1%86%D1%83%D0%BB_%D0%93%D1%83%D0%BB%D0%B1%D0%B5%D0%BD%D0%B5%D1%81\n",
      "http://mo.wikipedia.org/wiki/%D0%96%D1%83%D0%B4%D0%B5%D1%86%D1%83%D0%BB_%D0%95%D0%BA%D0%B0%D0%B1%D0%BF%D0%B8%D0%BB%D1%81\n",
      "http://mo.wikipedia.org/wiki/%D0%96%D1%83%D0%B4%D0%B5%D1%86%D1%83%D0%BB_%D0%AE%D1%80%D0%BC%D0%B0%D0%BB%D0%B0\n",
      "http://mo.wikipedia.org/wiki/%D0%96%D1%83%D0%B4%D0%B5%D1%86%D1%83%D0%BB_%D0%9A%D1%83%D0%BB%D0%B4%D0%B8%D0%B3%D0%B0%D1%81\n",
      "http://mo.wikipedia.org/wiki/%D0%96%D1%83%D0%B4%D0%B5%D1%86%D1%83%D0%BB_%D0%9B%D0%B8%D0%BC%D0%B1%D0%B0%D0%B7%D1%83\n",
      "http://mo.wikipedia.org/wiki/%D0%96%D1%83%D0%B4%D0%B5%D1%86%D1%83%D0%BB_%D0%9C%D0%B0%D0%B4%D0%BE%D0%BD%D0%B0%D1%81\n",
      "http://mo.wikipedia.org/wiki/%D0%96%D1%83%D0%B4%D0%B5%D1%86%D1%83%D0%BB_%D0%9E%D0%B3%D1%80%D0%B5%D1%81\n",
      "http://mo.wikipedia.org/wiki/%D0%96%D1%83%D0%B4%D0%B5%D1%86%D1%83%D0%BB_%D0%9F%D1%80%D0%B5%D0%B9%D0%BB%D1%83\n",
      "http://mo.wikipedia.org/wiki/%D0%96%D1%83%D0%B4%D0%B5%D1%86%D1%83%D0%BB_%D0%A0%D0%B5%D0%B7%D0%B5%D0%BA%D0%BD%D0%B5\n",
      "http://mo.wikipedia.org/wiki/%D0%96%D1%83%D0%B4%D0%B5%D1%86%D1%83%D0%BB_%D0%A0%D0%B8%D0%B3%D0%B0\n",
      "http://mo.wikipedia.org/wiki/%D0%96%D1%83%D0%B4%D0%B5%D1%86%D1%83%D0%BB_%D0%A1%D0%B0%D0%BB%D0%B4%D1%83%D1%81\n",
      "http://mo.wikipedia.org/wiki/%D0%96%D1%83%D0%B4%D0%B5%D1%86%D1%83%D0%BB_%D0%A2%D0%B0%D0%BB%D1%81%D1%83\n",
      "http://mo.wikipedia.org/wiki/%D0%96%D1%83%D0%B4%D0%B5%D1%86%D1%83%D0%BB_%D0%A2%D1%83%D0%BA%D1%83%D0%BC%D0%B0\n",
      "http://mo.wikipedia.org/wiki/%D0%96%D1%83%D0%B4%D0%B5%D1%86%D1%83%D0%BB_%D0%92%D0%B0%D0%BB%D0%BC%D0%B8%D0%B5%D1%80%D0%B0%D1%81\n",
      "http://mo.wikipedia.org/wiki/%D0%96%D1%83%D0%B4%D0%B5%D1%86%D1%83%D0%BB_%D0%92%D0%B5%D0%BD%D1%82%D1%81%D0%BF%D0%B8%D0%BB%D1%81\n",
      "http://mo.wikipedia.org/wiki/%D0%96%D1%83%D0%B4%D0%B5%D1%86%D1%83%D0%BB_%D0%9A%D1%80%D0%B0%D1%81%D0%BB%D0%B0%D0%B2%D0%B0%D1%81\n",
      "http://mo.wikipedia.org/wiki/%D0%96%D1%83%D0%B4%D0%B5%D1%86%D1%83%D0%BB_%D0%9A%D1%80%D0%B0%D1%81%D0%BB%D0%B0%D0%B2%D0%B0%D1%81\n",
      "http://mo.wikipedia.org/wiki/%D0%9F%D0%B0%D3%82%D0%B8%D0%BD%D0%B0_%D0%BF%D1%80%D0%B8%D0%BD%D1%87%D0%B8%D0%BF%D0%B0%D0%BB%D1%8D\n",
      "http://mo.wikipedia.org/wiki/%D0%9F%D0%B0%D3%82%D0%B8%D0%BD%D0%B0_%D0%BF%D1%80%D0%B8%D0%BD%D1%87%D0%B8%D0%BF%D0%B0%D0%BB%D1%8D\n"
     ]
    },
    {
     "data": {
      "application/vnd.jupyter.widget-view+json": {
       "model_id": "1797114cee044119941658d05c527927",
       "version_major": 2,
       "version_minor": 0
      },
      "text/plain": [
       "A Jupyter Widget"
      ]
     },
     "metadata": {},
     "output_type": "display_data"
    },
    {
     "name": "stdout",
     "output_type": "stream",
     "text": [
      "\n"
     ]
    },
    {
     "data": {
      "application/vnd.jupyter.widget-view+json": {
       "model_id": "a3f89f574fed4b958c8a0d2365309889",
       "version_major": 2,
       "version_minor": 0
      },
      "text/plain": [
       "A Jupyter Widget"
      ]
     },
     "metadata": {},
     "output_type": "display_data"
    },
    {
     "name": "stdout",
     "output_type": "stream",
     "text": [
      "\n"
     ]
    },
    {
     "data": {
      "application/vnd.jupyter.widget-view+json": {
       "model_id": "aa4754fef49847638643db981c8b9f58",
       "version_major": 2,
       "version_minor": 0
      },
      "text/plain": [
       "A Jupyter Widget"
      ]
     },
     "metadata": {},
     "output_type": "display_data"
    },
    {
     "name": "stdout",
     "output_type": "stream",
     "text": [
      "\n"
     ]
    },
    {
     "data": {
      "application/vnd.jupyter.widget-view+json": {
       "model_id": "8368d654d8514b6ca5c234b6c2b36a9a",
       "version_major": 2,
       "version_minor": 0
      },
      "text/plain": [
       "A Jupyter Widget"
      ]
     },
     "metadata": {},
     "output_type": "display_data"
    },
    {
     "name": "stdout",
     "output_type": "stream",
     "text": [
      "\n"
     ]
    },
    {
     "data": {
      "application/vnd.jupyter.widget-view+json": {
       "model_id": "b79bc81a3dad4ac18faab176c697e4b0",
       "version_major": 2,
       "version_minor": 0
      },
      "text/plain": [
       "A Jupyter Widget"
      ]
     },
     "metadata": {},
     "output_type": "display_data"
    },
    {
     "name": "stdout",
     "output_type": "stream",
     "text": [
      "\n"
     ]
    },
    {
     "data": {
      "application/vnd.jupyter.widget-view+json": {
       "model_id": "2e02e110b25f4790b32eaa328ea3b83e",
       "version_major": 2,
       "version_minor": 0
      },
      "text/plain": [
       "A Jupyter Widget"
      ]
     },
     "metadata": {},
     "output_type": "display_data"
    },
    {
     "name": "stdout",
     "output_type": "stream",
     "text": [
      "\n"
     ]
    },
    {
     "data": {
      "application/vnd.jupyter.widget-view+json": {
       "model_id": "a3d7f38436eb44549dd7212ceab6bb68",
       "version_major": 2,
       "version_minor": 0
      },
      "text/plain": [
       "A Jupyter Widget"
      ]
     },
     "metadata": {},
     "output_type": "display_data"
    },
    {
     "name": "stdout",
     "output_type": "stream",
     "text": [
      "\n"
     ]
    },
    {
     "data": {
      "application/vnd.jupyter.widget-view+json": {
       "model_id": "64817681f1ae49cd81c5f51e242f6571",
       "version_major": 2,
       "version_minor": 0
      },
      "text/plain": [
       "A Jupyter Widget"
      ]
     },
     "metadata": {},
     "output_type": "display_data"
    },
    {
     "name": "stdout",
     "output_type": "stream",
     "text": [
      "\n"
     ]
    },
    {
     "data": {
      "application/vnd.jupyter.widget-view+json": {
       "model_id": "fe1aa8f62873425cbe9e59115e5c0729",
       "version_major": 2,
       "version_minor": 0
      },
      "text/plain": [
       "A Jupyter Widget"
      ]
     },
     "metadata": {},
     "output_type": "display_data"
    },
    {
     "name": "stdout",
     "output_type": "stream",
     "text": [
      "\n"
     ]
    },
    {
     "data": {
      "application/vnd.jupyter.widget-view+json": {
       "model_id": "f46ac593616245bfb6de2aa12348bc37",
       "version_major": 2,
       "version_minor": 0
      },
      "text/plain": [
       "A Jupyter Widget"
      ]
     },
     "metadata": {},
     "output_type": "display_data"
    },
    {
     "name": "stdout",
     "output_type": "stream",
     "text": [
      "\n"
     ]
    },
    {
     "data": {
      "application/vnd.jupyter.widget-view+json": {
       "model_id": "bc656dda8fbb4596821d97eae7f999d6",
       "version_major": 2,
       "version_minor": 0
      },
      "text/plain": [
       "A Jupyter Widget"
      ]
     },
     "metadata": {},
     "output_type": "display_data"
    },
    {
     "name": "stdout",
     "output_type": "stream",
     "text": [
      "\n"
     ]
    },
    {
     "data": {
      "application/vnd.jupyter.widget-view+json": {
       "model_id": "02a4a7eb35994176b539339425751621",
       "version_major": 2,
       "version_minor": 0
      },
      "text/plain": [
       "A Jupyter Widget"
      ]
     },
     "metadata": {},
     "output_type": "display_data"
    },
    {
     "name": "stdout",
     "output_type": "stream",
     "text": [
      "\n"
     ]
    },
    {
     "data": {
      "application/vnd.jupyter.widget-view+json": {
       "model_id": "1075401f84ec44998b60773bc219246b",
       "version_major": 2,
       "version_minor": 0
      },
      "text/plain": [
       "A Jupyter Widget"
      ]
     },
     "metadata": {},
     "output_type": "display_data"
    },
    {
     "name": "stdout",
     "output_type": "stream",
     "text": [
      "\n"
     ]
    },
    {
     "data": {
      "application/vnd.jupyter.widget-view+json": {
       "model_id": "a9e941b195fe4f3382f2feccb4f4f6d1",
       "version_major": 2,
       "version_minor": 0
      },
      "text/plain": [
       "A Jupyter Widget"
      ]
     },
     "metadata": {},
     "output_type": "display_data"
    },
    {
     "name": "stdout",
     "output_type": "stream",
     "text": [
      "\n"
     ]
    },
    {
     "data": {
      "application/vnd.jupyter.widget-view+json": {
       "model_id": "ffa362fdcfad48258a1d1fa05db93b67",
       "version_major": 2,
       "version_minor": 0
      },
      "text/plain": [
       "A Jupyter Widget"
      ]
     },
     "metadata": {},
     "output_type": "display_data"
    },
    {
     "name": "stdout",
     "output_type": "stream",
     "text": [
      "\n"
     ]
    },
    {
     "data": {
      "application/vnd.jupyter.widget-view+json": {
       "model_id": "c8a2a717a0844935aecbb1803a995387",
       "version_major": 2,
       "version_minor": 0
      },
      "text/plain": [
       "A Jupyter Widget"
      ]
     },
     "metadata": {},
     "output_type": "display_data"
    },
    {
     "name": "stdout",
     "output_type": "stream",
     "text": [
      "\n"
     ]
    },
    {
     "data": {
      "application/vnd.jupyter.widget-view+json": {
       "model_id": "4cf52d44e17643c2ae581d4760b58383",
       "version_major": 2,
       "version_minor": 0
      },
      "text/plain": [
       "A Jupyter Widget"
      ]
     },
     "metadata": {},
     "output_type": "display_data"
    },
    {
     "name": "stdout",
     "output_type": "stream",
     "text": [
      "\n",
      "http://mo.wikipedia.org/wiki/%D0%96%D1%83%D0%B4%D0%B5%D1%86%D1%83%D0%BB_%D0%AE%D1%80%D0%BC%D0%B0%D0%BB%D0%B0\n",
      "http://mo.wikipedia.org/wiki/%D0%96%D1%83%D0%B4%D0%B5%D1%86%D1%83%D0%BB_%D0%AE%D1%80%D0%BC%D0%B0%D0%BB%D0%B0\n",
      "http://mo.wikipedia.org/wiki/%D0%9F%D0%B0%D3%82%D0%B8%D0%BD%D0%B0_%D0%BF%D1%80%D0%B8%D0%BD%D1%87%D0%B8%D0%BF%D0%B0%D0%BB%D1%8D\n",
      "http://mo.wikipedia.org/wiki/%D0%9F%D0%B0%D3%82%D0%B8%D0%BD%D0%B0_%D0%BF%D1%80%D0%B8%D0%BD%D1%87%D0%B8%D0%BF%D0%B0%D0%BB%D1%8D\n"
     ]
    },
    {
     "data": {
      "application/vnd.jupyter.widget-view+json": {
       "model_id": "4110a4c6833d40f9a09ce58bbe8780e0",
       "version_major": 2,
       "version_minor": 0
      },
      "text/plain": [
       "A Jupyter Widget"
      ]
     },
     "metadata": {},
     "output_type": "display_data"
    },
    {
     "name": "stdout",
     "output_type": "stream",
     "text": [
      "\n"
     ]
    },
    {
     "data": {
      "application/vnd.jupyter.widget-view+json": {
       "model_id": "8e887ad09a1c4367bc44459c6c2982b4",
       "version_major": 2,
       "version_minor": 0
      },
      "text/plain": [
       "A Jupyter Widget"
      ]
     },
     "metadata": {},
     "output_type": "display_data"
    },
    {
     "name": "stdout",
     "output_type": "stream",
     "text": [
      "\n"
     ]
    },
    {
     "data": {
      "application/vnd.jupyter.widget-view+json": {
       "model_id": "6134544039fb4935852b98d70ca7992c",
       "version_major": 2,
       "version_minor": 0
      },
      "text/plain": [
       "A Jupyter Widget"
      ]
     },
     "metadata": {},
     "output_type": "display_data"
    },
    {
     "name": "stdout",
     "output_type": "stream",
     "text": [
      "\n"
     ]
    },
    {
     "data": {
      "application/vnd.jupyter.widget-view+json": {
       "model_id": "9bbf8516c75e4f3bb0ff02e32e87da3f",
       "version_major": 2,
       "version_minor": 0
      },
      "text/plain": [
       "A Jupyter Widget"
      ]
     },
     "metadata": {},
     "output_type": "display_data"
    },
    {
     "name": "stdout",
     "output_type": "stream",
     "text": [
      "\n"
     ]
    },
    {
     "data": {
      "application/vnd.jupyter.widget-view+json": {
       "model_id": "b1a82dda5f994f4b99054eca48d11022",
       "version_major": 2,
       "version_minor": 0
      },
      "text/plain": [
       "A Jupyter Widget"
      ]
     },
     "metadata": {},
     "output_type": "display_data"
    },
    {
     "name": "stdout",
     "output_type": "stream",
     "text": [
      "\n",
      "http://mo.wikipedia.org/wiki/%D0%9B%D0%B5%D1%82%D0%BE%D0%BD%D0%B8%D1%8F\n",
      "http://mo.wikipedia.org/wiki/%D0%9B%D0%B5%D1%82%D0%BE%D0%BD%D0%B8%D1%8F\n",
      "http://mo.wikipedia.org/wiki/%D0%96%D1%83%D0%B4%D0%B5%D1%86%D0%B5%D0%BB%D0%B5_%D0%9B%D0%B5%D1%82%D0%BE%D0%BD%D0%B5%D0%B9\n",
      "http://mo.wikipedia.org/wiki/%D0%96%D1%83%D0%B4%D0%B5%D1%86%D1%83%D0%BB_%D0%90%D0%B9%D0%B7%D0%BA%D1%80%D0%B0%D1%83%D0%BA%D0%BB%D0%B5%D1%81\n",
      "http://mo.wikipedia.org/wiki/%D0%96%D1%83%D0%B4%D0%B5%D1%86%D1%83%D0%BB_%D0%90%D0%BB%D1%83%D0%BA%D1%81%D0%BD%D0%B5%D1%81\n",
      "http://mo.wikipedia.org/wiki/%D0%96%D1%83%D0%B4%D0%B5%D1%86%D1%83%D0%BB_%D0%91%D0%B0%D1%83%D1%81%D0%BA%D0%B0%D1%81\n",
      "http://mo.wikipedia.org/wiki/%D0%96%D1%83%D0%B4%D0%B5%D1%86%D1%83%D0%BB_%D0%A6%D0%B5%D1%81%D1%83\n",
      "http://mo.wikipedia.org/wiki/%D0%96%D1%83%D0%B4%D0%B5%D1%86%D1%83%D0%BB_%D0%94%D0%B0%D1%83%D0%B3%D0%B0%D0%B2%D0%BF%D0%B8%D0%BB%D1%81\n",
      "http://mo.wikipedia.org/wiki/%D0%96%D1%83%D0%B4%D0%B5%D1%86%D1%83%D0%BB_%D0%94%D0%BE%D0%B1%D0%B5%D0%BB%D0%B5%D1%81\n",
      "http://mo.wikipedia.org/wiki/%D0%96%D1%83%D0%B4%D0%B5%D1%86%D1%83%D0%BB_%D0%93%D1%83%D0%BB%D0%B1%D0%B5%D0%BD%D0%B5%D1%81\n",
      "http://mo.wikipedia.org/wiki/%D0%96%D1%83%D0%B4%D0%B5%D1%86%D1%83%D0%BB_%D0%AE%D1%80%D0%BC%D0%B0%D0%BB%D0%B0\n",
      "http://mo.wikipedia.org/wiki/%D0%96%D1%83%D0%B4%D0%B5%D1%86%D1%83%D0%BB_%D0%9A%D1%80%D0%B0%D1%81%D0%BB%D0%B0%D0%B2%D0%B0%D1%81\n",
      "http://mo.wikipedia.org/wiki/%D0%96%D1%83%D0%B4%D0%B5%D1%86%D1%83%D0%BB_%D0%9A%D1%83%D0%BB%D0%B4%D0%B8%D0%B3%D0%B0%D1%81\n",
      "http://mo.wikipedia.org/wiki/%D0%96%D1%83%D0%B4%D0%B5%D1%86%D1%83%D0%BB_%D0%9B%D0%B8%D0%BC%D0%B1%D0%B0%D0%B7%D1%83\n",
      "http://mo.wikipedia.org/wiki/%D0%96%D1%83%D0%B4%D0%B5%D1%86%D1%83%D0%BB_%D0%9C%D0%B0%D0%B4%D0%BE%D0%BD%D0%B0%D1%81\n",
      "http://mo.wikipedia.org/wiki/%D0%96%D1%83%D0%B4%D0%B5%D1%86%D1%83%D0%BB_%D0%9E%D0%B3%D1%80%D0%B5%D1%81\n",
      "http://mo.wikipedia.org/wiki/%D0%96%D1%83%D0%B4%D0%B5%D1%86%D1%83%D0%BB_%D0%9F%D1%80%D0%B5%D0%B9%D0%BB%D1%83\n",
      "http://mo.wikipedia.org/wiki/%D0%96%D1%83%D0%B4%D0%B5%D1%86%D1%83%D0%BB_%D0%A0%D0%B5%D0%B7%D0%B5%D0%BA%D0%BD%D0%B5\n",
      "http://mo.wikipedia.org/wiki/%D0%96%D1%83%D0%B4%D0%B5%D1%86%D1%83%D0%BB_%D0%A0%D0%B8%D0%B3%D0%B0\n",
      "http://mo.wikipedia.org/wiki/%D0%96%D1%83%D0%B4%D0%B5%D1%86%D1%83%D0%BB_%D0%A1%D0%B0%D0%BB%D0%B4%D1%83%D1%81\n",
      "http://mo.wikipedia.org/wiki/%D0%96%D1%83%D0%B4%D0%B5%D1%86%D1%83%D0%BB_%D0%A2%D0%B0%D0%BB%D1%81%D1%83\n",
      "http://mo.wikipedia.org/wiki/%D0%96%D1%83%D0%B4%D0%B5%D1%86%D1%83%D0%BB_%D0%A2%D1%83%D0%BA%D1%83%D0%BC%D0%B0\n",
      "http://mo.wikipedia.org/wiki/%D0%96%D1%83%D0%B4%D0%B5%D1%86%D1%83%D0%BB_%D0%92%D0%B0%D0%BB%D0%BC%D0%B8%D0%B5%D1%80%D0%B0%D1%81\n",
      "http://mo.wikipedia.org/wiki/%D0%96%D1%83%D0%B4%D0%B5%D1%86%D1%83%D0%BB_%D0%92%D0%B5%D0%BD%D1%82%D1%81%D0%BF%D0%B8%D0%BB%D1%81\n",
      "http://mo.wikipedia.org/wiki/%D0%96%D1%83%D0%B4%D0%B5%D1%86%D1%83%D0%BB_%D0%95%D0%BA%D0%B0%D0%B1%D0%BF%D0%B8%D0%BB%D1%81\n",
      "http://mo.wikipedia.org/wiki/%D0%96%D1%83%D0%B4%D0%B5%D1%86%D1%83%D0%BB_%D0%95%D0%BA%D0%B0%D0%B1%D0%BF%D0%B8%D0%BB%D1%81\n",
      "http://mo.wikipedia.org/wiki/%D0%9F%D0%B0%D3%82%D0%B8%D0%BD%D0%B0_%D0%BF%D1%80%D0%B8%D0%BD%D1%87%D0%B8%D0%BF%D0%B0%D0%BB%D1%8D\n",
      "http://mo.wikipedia.org/wiki/%D0%9F%D0%B0%D3%82%D0%B8%D0%BD%D0%B0_%D0%BF%D1%80%D0%B8%D0%BD%D1%87%D0%B8%D0%BF%D0%B0%D0%BB%D1%8D\n"
     ]
    },
    {
     "data": {
      "application/vnd.jupyter.widget-view+json": {
       "model_id": "e6d9a31b595e4502839fd312040f0b76",
       "version_major": 2,
       "version_minor": 0
      },
      "text/plain": [
       "A Jupyter Widget"
      ]
     },
     "metadata": {},
     "output_type": "display_data"
    },
    {
     "name": "stdout",
     "output_type": "stream",
     "text": [
      "\n"
     ]
    },
    {
     "data": {
      "application/vnd.jupyter.widget-view+json": {
       "model_id": "3d05f578ee1a4b89921f710715776d66",
       "version_major": 2,
       "version_minor": 0
      },
      "text/plain": [
       "A Jupyter Widget"
      ]
     },
     "metadata": {},
     "output_type": "display_data"
    },
    {
     "name": "stdout",
     "output_type": "stream",
     "text": [
      "\n"
     ]
    },
    {
     "data": {
      "application/vnd.jupyter.widget-view+json": {
       "model_id": "ad0e32bb5db542d1bb70f8bb5b7912d5",
       "version_major": 2,
       "version_minor": 0
      },
      "text/plain": [
       "A Jupyter Widget"
      ]
     },
     "metadata": {},
     "output_type": "display_data"
    },
    {
     "name": "stdout",
     "output_type": "stream",
     "text": [
      "\n"
     ]
    },
    {
     "data": {
      "application/vnd.jupyter.widget-view+json": {
       "model_id": "08ad4e5e1c284751a20a71edf3e18878",
       "version_major": 2,
       "version_minor": 0
      },
      "text/plain": [
       "A Jupyter Widget"
      ]
     },
     "metadata": {},
     "output_type": "display_data"
    },
    {
     "name": "stdout",
     "output_type": "stream",
     "text": [
      "\n"
     ]
    },
    {
     "data": {
      "application/vnd.jupyter.widget-view+json": {
       "model_id": "5f8b06000bb14f389ea84414c6995d33",
       "version_major": 2,
       "version_minor": 0
      },
      "text/plain": [
       "A Jupyter Widget"
      ]
     },
     "metadata": {},
     "output_type": "display_data"
    },
    {
     "name": "stdout",
     "output_type": "stream",
     "text": [
      "\n"
     ]
    },
    {
     "data": {
      "application/vnd.jupyter.widget-view+json": {
       "model_id": "fe29d9eaa9a34370bdbf80ea7b6c7140",
       "version_major": 2,
       "version_minor": 0
      },
      "text/plain": [
       "A Jupyter Widget"
      ]
     },
     "metadata": {},
     "output_type": "display_data"
    },
    {
     "name": "stdout",
     "output_type": "stream",
     "text": [
      "\n"
     ]
    },
    {
     "data": {
      "application/vnd.jupyter.widget-view+json": {
       "model_id": "1fee71dd3ad3422685e3c6564566ed36",
       "version_major": 2,
       "version_minor": 0
      },
      "text/plain": [
       "A Jupyter Widget"
      ]
     },
     "metadata": {},
     "output_type": "display_data"
    },
    {
     "name": "stdout",
     "output_type": "stream",
     "text": [
      "\n"
     ]
    },
    {
     "data": {
      "application/vnd.jupyter.widget-view+json": {
       "model_id": "36e884ba08b8403598d5f4eda7206e9a",
       "version_major": 2,
       "version_minor": 0
      },
      "text/plain": [
       "A Jupyter Widget"
      ]
     },
     "metadata": {},
     "output_type": "display_data"
    },
    {
     "name": "stdout",
     "output_type": "stream",
     "text": [
      "\n"
     ]
    },
    {
     "data": {
      "application/vnd.jupyter.widget-view+json": {
       "model_id": "18fabe0e8ff4451f8836d5cb2954fe76",
       "version_major": 2,
       "version_minor": 0
      },
      "text/plain": [
       "A Jupyter Widget"
      ]
     },
     "metadata": {},
     "output_type": "display_data"
    },
    {
     "name": "stdout",
     "output_type": "stream",
     "text": [
      "\n"
     ]
    },
    {
     "data": {
      "application/vnd.jupyter.widget-view+json": {
       "model_id": "43d9c7b24e7e4c0ea6339e76812c2e82",
       "version_major": 2,
       "version_minor": 0
      },
      "text/plain": [
       "A Jupyter Widget"
      ]
     },
     "metadata": {},
     "output_type": "display_data"
    },
    {
     "name": "stdout",
     "output_type": "stream",
     "text": [
      "\n"
     ]
    },
    {
     "data": {
      "application/vnd.jupyter.widget-view+json": {
       "model_id": "d91244150bdc4a5e94901c429d28896c",
       "version_major": 2,
       "version_minor": 0
      },
      "text/plain": [
       "A Jupyter Widget"
      ]
     },
     "metadata": {},
     "output_type": "display_data"
    },
    {
     "name": "stdout",
     "output_type": "stream",
     "text": [
      "\n"
     ]
    },
    {
     "data": {
      "application/vnd.jupyter.widget-view+json": {
       "model_id": "b59c0bfbba6644a2b6891a5c0ce98434",
       "version_major": 2,
       "version_minor": 0
      },
      "text/plain": [
       "A Jupyter Widget"
      ]
     },
     "metadata": {},
     "output_type": "display_data"
    },
    {
     "name": "stdout",
     "output_type": "stream",
     "text": [
      "\n"
     ]
    },
    {
     "data": {
      "application/vnd.jupyter.widget-view+json": {
       "model_id": "45c81295235349e3b60d2f00b54215f9",
       "version_major": 2,
       "version_minor": 0
      },
      "text/plain": [
       "A Jupyter Widget"
      ]
     },
     "metadata": {},
     "output_type": "display_data"
    },
    {
     "name": "stdout",
     "output_type": "stream",
     "text": [
      "\n"
     ]
    },
    {
     "data": {
      "application/vnd.jupyter.widget-view+json": {
       "model_id": "f4502b0d51dd4348ba09309751782e26",
       "version_major": 2,
       "version_minor": 0
      },
      "text/plain": [
       "A Jupyter Widget"
      ]
     },
     "metadata": {},
     "output_type": "display_data"
    },
    {
     "name": "stdout",
     "output_type": "stream",
     "text": [
      "\n"
     ]
    },
    {
     "data": {
      "application/vnd.jupyter.widget-view+json": {
       "model_id": "2bbfab90879141bfac48291890992d86",
       "version_major": 2,
       "version_minor": 0
      },
      "text/plain": [
       "A Jupyter Widget"
      ]
     },
     "metadata": {},
     "output_type": "display_data"
    },
    {
     "name": "stdout",
     "output_type": "stream",
     "text": [
      "\n"
     ]
    },
    {
     "data": {
      "application/vnd.jupyter.widget-view+json": {
       "model_id": "776278fcb3b64eb59acd8c093a8d09a9",
       "version_major": 2,
       "version_minor": 0
      },
      "text/plain": [
       "A Jupyter Widget"
      ]
     },
     "metadata": {},
     "output_type": "display_data"
    },
    {
     "name": "stdout",
     "output_type": "stream",
     "text": [
      "\n"
     ]
    },
    {
     "data": {
      "application/vnd.jupyter.widget-view+json": {
       "model_id": "5e74061afc854814af9cd139bb40b01d",
       "version_major": 2,
       "version_minor": 0
      },
      "text/plain": [
       "A Jupyter Widget"
      ]
     },
     "metadata": {},
     "output_type": "display_data"
    },
    {
     "name": "stdout",
     "output_type": "stream",
     "text": [
      "\n"
     ]
    },
    {
     "data": {
      "application/vnd.jupyter.widget-view+json": {
       "model_id": "fe50a5db079f492fbdbaca6d39152a0c",
       "version_major": 2,
       "version_minor": 0
      },
      "text/plain": [
       "A Jupyter Widget"
      ]
     },
     "metadata": {},
     "output_type": "display_data"
    },
    {
     "name": "stdout",
     "output_type": "stream",
     "text": [
      "\n"
     ]
    },
    {
     "data": {
      "application/vnd.jupyter.widget-view+json": {
       "model_id": "63284b4f5d0f4e39aeb218ac53344f5e",
       "version_major": 2,
       "version_minor": 0
      },
      "text/plain": [
       "A Jupyter Widget"
      ]
     },
     "metadata": {},
     "output_type": "display_data"
    },
    {
     "name": "stdout",
     "output_type": "stream",
     "text": [
      "\n",
      "http://mo.wikipedia.org/wiki/%D0%9B%D0%B5%D1%82%D0%BE%D0%BD%D0%B8%D1%8F\n",
      "http://mo.wikipedia.org/wiki/%D0%9B%D0%B5%D1%82%D0%BE%D0%BD%D0%B8%D1%8F\n",
      "http://mo.wikipedia.org/wiki/%D0%96%D1%83%D0%B4%D0%B5%D1%86%D0%B5%D0%BB%D0%B5_%D0%9B%D0%B5%D1%82%D0%BE%D0%BD%D0%B5%D0%B9\n",
      "http://mo.wikipedia.org/wiki/%D0%96%D1%83%D0%B4%D0%B5%D1%86%D1%83%D0%BB_%D0%90%D0%B9%D0%B7%D0%BA%D1%80%D0%B0%D1%83%D0%BA%D0%BB%D0%B5%D1%81\n",
      "http://mo.wikipedia.org/wiki/%D0%96%D1%83%D0%B4%D0%B5%D1%86%D1%83%D0%BB_%D0%90%D0%BB%D1%83%D0%BA%D1%81%D0%BD%D0%B5%D1%81\n",
      "http://mo.wikipedia.org/wiki/%D0%96%D1%83%D0%B4%D0%B5%D1%86%D1%83%D0%BB_%D0%91%D0%B0%D1%83%D1%81%D0%BA%D0%B0%D1%81\n",
      "http://mo.wikipedia.org/wiki/%D0%96%D1%83%D0%B4%D0%B5%D1%86%D1%83%D0%BB_%D0%A6%D0%B5%D1%81%D1%83\n",
      "http://mo.wikipedia.org/wiki/%D0%96%D1%83%D0%B4%D0%B5%D1%86%D1%83%D0%BB_%D0%94%D0%B0%D1%83%D0%B3%D0%B0%D0%B2%D0%BF%D0%B8%D0%BB%D1%81\n",
      "http://mo.wikipedia.org/wiki/%D0%96%D1%83%D0%B4%D0%B5%D1%86%D1%83%D0%BB_%D0%94%D0%BE%D0%B1%D0%B5%D0%BB%D0%B5%D1%81\n",
      "http://mo.wikipedia.org/wiki/%D0%96%D1%83%D0%B4%D0%B5%D1%86%D1%83%D0%BB_%D0%95%D0%BA%D0%B0%D0%B1%D0%BF%D0%B8%D0%BB%D1%81\n",
      "http://mo.wikipedia.org/wiki/%D0%96%D1%83%D0%B4%D0%B5%D1%86%D1%83%D0%BB_%D0%AE%D1%80%D0%BC%D0%B0%D0%BB%D0%B0\n",
      "http://mo.wikipedia.org/wiki/%D0%96%D1%83%D0%B4%D0%B5%D1%86%D1%83%D0%BB_%D0%9A%D1%80%D0%B0%D1%81%D0%BB%D0%B0%D0%B2%D0%B0%D1%81\n",
      "http://mo.wikipedia.org/wiki/%D0%96%D1%83%D0%B4%D0%B5%D1%86%D1%83%D0%BB_%D0%9A%D1%83%D0%BB%D0%B4%D0%B8%D0%B3%D0%B0%D1%81\n",
      "http://mo.wikipedia.org/wiki/%D0%96%D1%83%D0%B4%D0%B5%D1%86%D1%83%D0%BB_%D0%9B%D0%B8%D0%BC%D0%B1%D0%B0%D0%B7%D1%83\n",
      "http://mo.wikipedia.org/wiki/%D0%96%D1%83%D0%B4%D0%B5%D1%86%D1%83%D0%BB_%D0%9C%D0%B0%D0%B4%D0%BE%D0%BD%D0%B0%D1%81\n",
      "http://mo.wikipedia.org/wiki/%D0%96%D1%83%D0%B4%D0%B5%D1%86%D1%83%D0%BB_%D0%9E%D0%B3%D1%80%D0%B5%D1%81\n",
      "http://mo.wikipedia.org/wiki/%D0%96%D1%83%D0%B4%D0%B5%D1%86%D1%83%D0%BB_%D0%9F%D1%80%D0%B5%D0%B9%D0%BB%D1%83\n",
      "http://mo.wikipedia.org/wiki/%D0%96%D1%83%D0%B4%D0%B5%D1%86%D1%83%D0%BB_%D0%A0%D0%B5%D0%B7%D0%B5%D0%BA%D0%BD%D0%B5\n",
      "http://mo.wikipedia.org/wiki/%D0%96%D1%83%D0%B4%D0%B5%D1%86%D1%83%D0%BB_%D0%A0%D0%B8%D0%B3%D0%B0\n",
      "http://mo.wikipedia.org/wiki/%D0%96%D1%83%D0%B4%D0%B5%D1%86%D1%83%D0%BB_%D0%A1%D0%B0%D0%BB%D0%B4%D1%83%D1%81\n",
      "http://mo.wikipedia.org/wiki/%D0%96%D1%83%D0%B4%D0%B5%D1%86%D1%83%D0%BB_%D0%A2%D0%B0%D0%BB%D1%81%D1%83\n",
      "http://mo.wikipedia.org/wiki/%D0%96%D1%83%D0%B4%D0%B5%D1%86%D1%83%D0%BB_%D0%A2%D1%83%D0%BA%D1%83%D0%BC%D0%B0\n",
      "http://mo.wikipedia.org/wiki/%D0%96%D1%83%D0%B4%D0%B5%D1%86%D1%83%D0%BB_%D0%92%D0%B0%D0%BB%D0%BC%D0%B8%D0%B5%D1%80%D0%B0%D1%81\n",
      "http://mo.wikipedia.org/wiki/%D0%96%D1%83%D0%B4%D0%B5%D1%86%D1%83%D0%BB_%D0%92%D0%B5%D0%BD%D1%82%D1%81%D0%BF%D0%B8%D0%BB%D1%81\n",
      "http://mo.wikipedia.org/wiki/%D0%96%D1%83%D0%B4%D0%B5%D1%86%D1%83%D0%BB_%D0%93%D1%83%D0%BB%D0%B1%D0%B5%D0%BD%D0%B5%D1%81\n",
      "http://mo.wikipedia.org/wiki/%D0%96%D1%83%D0%B4%D0%B5%D1%86%D1%83%D0%BB_%D0%93%D1%83%D0%BB%D0%B1%D0%B5%D0%BD%D0%B5%D1%81\n",
      "http://mo.wikipedia.org/wiki/%D0%9F%D0%B0%D3%82%D0%B8%D0%BD%D0%B0_%D0%BF%D1%80%D0%B8%D0%BD%D1%87%D0%B8%D0%BF%D0%B0%D0%BB%D1%8D\n",
      "http://mo.wikipedia.org/wiki/%D0%9F%D0%B0%D3%82%D0%B8%D0%BD%D0%B0_%D0%BF%D1%80%D0%B8%D0%BD%D1%87%D0%B8%D0%BF%D0%B0%D0%BB%D1%8D\n"
     ]
    },
    {
     "data": {
      "application/vnd.jupyter.widget-view+json": {
       "model_id": "c1d83f7eff9947208a917868030c94f6",
       "version_major": 2,
       "version_minor": 0
      },
      "text/plain": [
       "A Jupyter Widget"
      ]
     },
     "metadata": {},
     "output_type": "display_data"
    },
    {
     "name": "stdout",
     "output_type": "stream",
     "text": [
      "\n"
     ]
    },
    {
     "data": {
      "application/vnd.jupyter.widget-view+json": {
       "model_id": "c4a4d86414b14b64b0040b34180eafc9",
       "version_major": 2,
       "version_minor": 0
      },
      "text/plain": [
       "A Jupyter Widget"
      ]
     },
     "metadata": {},
     "output_type": "display_data"
    },
    {
     "name": "stdout",
     "output_type": "stream",
     "text": [
      "\n"
     ]
    },
    {
     "data": {
      "application/vnd.jupyter.widget-view+json": {
       "model_id": "fe768ec4ddd146ff98466571dc18673a",
       "version_major": 2,
       "version_minor": 0
      },
      "text/plain": [
       "A Jupyter Widget"
      ]
     },
     "metadata": {},
     "output_type": "display_data"
    },
    {
     "name": "stdout",
     "output_type": "stream",
     "text": [
      "\n"
     ]
    },
    {
     "data": {
      "application/vnd.jupyter.widget-view+json": {
       "model_id": "46b2cb6455da41e29d898d7e471aa9b4",
       "version_major": 2,
       "version_minor": 0
      },
      "text/plain": [
       "A Jupyter Widget"
      ]
     },
     "metadata": {},
     "output_type": "display_data"
    },
    {
     "name": "stdout",
     "output_type": "stream",
     "text": [
      "\n"
     ]
    },
    {
     "data": {
      "application/vnd.jupyter.widget-view+json": {
       "model_id": "08cbcc5d9dc2469192da815f0455d8c4",
       "version_major": 2,
       "version_minor": 0
      },
      "text/plain": [
       "A Jupyter Widget"
      ]
     },
     "metadata": {},
     "output_type": "display_data"
    },
    {
     "name": "stdout",
     "output_type": "stream",
     "text": [
      "\n"
     ]
    },
    {
     "data": {
      "application/vnd.jupyter.widget-view+json": {
       "model_id": "8093453bdead42e69dac7f21f6ee7b4b",
       "version_major": 2,
       "version_minor": 0
      },
      "text/plain": [
       "A Jupyter Widget"
      ]
     },
     "metadata": {},
     "output_type": "display_data"
    },
    {
     "name": "stdout",
     "output_type": "stream",
     "text": [
      "\n"
     ]
    },
    {
     "data": {
      "application/vnd.jupyter.widget-view+json": {
       "model_id": "e32cf8c759e3470ba1d58b60e96fde4d",
       "version_major": 2,
       "version_minor": 0
      },
      "text/plain": [
       "A Jupyter Widget"
      ]
     },
     "metadata": {},
     "output_type": "display_data"
    },
    {
     "name": "stdout",
     "output_type": "stream",
     "text": [
      "\n"
     ]
    },
    {
     "data": {
      "application/vnd.jupyter.widget-view+json": {
       "model_id": "6cfa410289194c498e265f6ae8abd1d2",
       "version_major": 2,
       "version_minor": 0
      },
      "text/plain": [
       "A Jupyter Widget"
      ]
     },
     "metadata": {},
     "output_type": "display_data"
    },
    {
     "name": "stdout",
     "output_type": "stream",
     "text": [
      "\n"
     ]
    },
    {
     "data": {
      "application/vnd.jupyter.widget-view+json": {
       "model_id": "d932a1910a9646e4a25b1fac32c778fe",
       "version_major": 2,
       "version_minor": 0
      },
      "text/plain": [
       "A Jupyter Widget"
      ]
     },
     "metadata": {},
     "output_type": "display_data"
    },
    {
     "name": "stdout",
     "output_type": "stream",
     "text": [
      "\n"
     ]
    },
    {
     "data": {
      "application/vnd.jupyter.widget-view+json": {
       "model_id": "2e240c7feb0f470db240719ffd26bfaf",
       "version_major": 2,
       "version_minor": 0
      },
      "text/plain": [
       "A Jupyter Widget"
      ]
     },
     "metadata": {},
     "output_type": "display_data"
    },
    {
     "name": "stdout",
     "output_type": "stream",
     "text": [
      "\n"
     ]
    },
    {
     "data": {
      "application/vnd.jupyter.widget-view+json": {
       "model_id": "c11361a22f024b5e931c2fbc54683040",
       "version_major": 2,
       "version_minor": 0
      },
      "text/plain": [
       "A Jupyter Widget"
      ]
     },
     "metadata": {},
     "output_type": "display_data"
    },
    {
     "name": "stdout",
     "output_type": "stream",
     "text": [
      "\n"
     ]
    },
    {
     "data": {
      "application/vnd.jupyter.widget-view+json": {
       "model_id": "933cc36e2b594f309d349f63e858ec01",
       "version_major": 2,
       "version_minor": 0
      },
      "text/plain": [
       "A Jupyter Widget"
      ]
     },
     "metadata": {},
     "output_type": "display_data"
    },
    {
     "name": "stdout",
     "output_type": "stream",
     "text": [
      "\n"
     ]
    },
    {
     "data": {
      "application/vnd.jupyter.widget-view+json": {
       "model_id": "5f26591902cb4507b878695f30acf721",
       "version_major": 2,
       "version_minor": 0
      },
      "text/plain": [
       "A Jupyter Widget"
      ]
     },
     "metadata": {},
     "output_type": "display_data"
    },
    {
     "name": "stdout",
     "output_type": "stream",
     "text": [
      "\n"
     ]
    },
    {
     "data": {
      "application/vnd.jupyter.widget-view+json": {
       "model_id": "42ed75aeedc84d7aafec4094988db2c0",
       "version_major": 2,
       "version_minor": 0
      },
      "text/plain": [
       "A Jupyter Widget"
      ]
     },
     "metadata": {},
     "output_type": "display_data"
    },
    {
     "name": "stdout",
     "output_type": "stream",
     "text": [
      "\n"
     ]
    },
    {
     "data": {
      "application/vnd.jupyter.widget-view+json": {
       "model_id": "53aca4cb75a84df1b0373e9831dc3a10",
       "version_major": 2,
       "version_minor": 0
      },
      "text/plain": [
       "A Jupyter Widget"
      ]
     },
     "metadata": {},
     "output_type": "display_data"
    },
    {
     "name": "stdout",
     "output_type": "stream",
     "text": [
      "\n"
     ]
    },
    {
     "data": {
      "application/vnd.jupyter.widget-view+json": {
       "model_id": "0895de6b691d4198951c81370321c9de",
       "version_major": 2,
       "version_minor": 0
      },
      "text/plain": [
       "A Jupyter Widget"
      ]
     },
     "metadata": {},
     "output_type": "display_data"
    },
    {
     "name": "stdout",
     "output_type": "stream",
     "text": [
      "\n"
     ]
    },
    {
     "data": {
      "application/vnd.jupyter.widget-view+json": {
       "model_id": "de9939079fe74a95a11bf61c260a4724",
       "version_major": 2,
       "version_minor": 0
      },
      "text/plain": [
       "A Jupyter Widget"
      ]
     },
     "metadata": {},
     "output_type": "display_data"
    },
    {
     "name": "stdout",
     "output_type": "stream",
     "text": [
      "\n"
     ]
    },
    {
     "data": {
      "application/vnd.jupyter.widget-view+json": {
       "model_id": "ece5f10bbd7a4e709c13ae07b875f490",
       "version_major": 2,
       "version_minor": 0
      },
      "text/plain": [
       "A Jupyter Widget"
      ]
     },
     "metadata": {},
     "output_type": "display_data"
    },
    {
     "name": "stdout",
     "output_type": "stream",
     "text": [
      "\n"
     ]
    },
    {
     "data": {
      "application/vnd.jupyter.widget-view+json": {
       "model_id": "ba63ddd379164d439e5f06adb610ba9a",
       "version_major": 2,
       "version_minor": 0
      },
      "text/plain": [
       "A Jupyter Widget"
      ]
     },
     "metadata": {},
     "output_type": "display_data"
    },
    {
     "name": "stdout",
     "output_type": "stream",
     "text": [
      "\n"
     ]
    },
    {
     "data": {
      "application/vnd.jupyter.widget-view+json": {
       "model_id": "ec52843f59de405fb0782308533fc020",
       "version_major": 2,
       "version_minor": 0
      },
      "text/plain": [
       "A Jupyter Widget"
      ]
     },
     "metadata": {},
     "output_type": "display_data"
    },
    {
     "name": "stdout",
     "output_type": "stream",
     "text": [
      "\n",
      "http://mo.wikipedia.org/wiki/%D0%9B%D0%B5%D1%82%D0%BE%D0%BD%D0%B8%D1%8F\n",
      "http://mo.wikipedia.org/wiki/%D0%9B%D0%B5%D1%82%D0%BE%D0%BD%D0%B8%D1%8F\n",
      "http://mo.wikipedia.org/wiki/%D0%96%D1%83%D0%B4%D0%B5%D1%86%D0%B5%D0%BB%D0%B5_%D0%9B%D0%B5%D1%82%D0%BE%D0%BD%D0%B5%D0%B9\n",
      "http://mo.wikipedia.org/wiki/%D0%96%D1%83%D0%B4%D0%B5%D1%86%D1%83%D0%BB_%D0%90%D0%B9%D0%B7%D0%BA%D1%80%D0%B0%D1%83%D0%BA%D0%BB%D0%B5%D1%81\n",
      "http://mo.wikipedia.org/wiki/%D0%96%D1%83%D0%B4%D0%B5%D1%86%D1%83%D0%BB_%D0%90%D0%BB%D1%83%D0%BA%D1%81%D0%BD%D0%B5%D1%81\n",
      "http://mo.wikipedia.org/wiki/%D0%96%D1%83%D0%B4%D0%B5%D1%86%D1%83%D0%BB_%D0%91%D0%B0%D1%83%D1%81%D0%BA%D0%B0%D1%81\n",
      "http://mo.wikipedia.org/wiki/%D0%96%D1%83%D0%B4%D0%B5%D1%86%D1%83%D0%BB_%D0%A6%D0%B5%D1%81%D1%83\n",
      "http://mo.wikipedia.org/wiki/%D0%96%D1%83%D0%B4%D0%B5%D1%86%D1%83%D0%BB_%D0%94%D0%B0%D1%83%D0%B3%D0%B0%D0%B2%D0%BF%D0%B8%D0%BB%D1%81\n",
      "http://mo.wikipedia.org/wiki/%D0%96%D1%83%D0%B4%D0%B5%D1%86%D1%83%D0%BB_%D0%93%D1%83%D0%BB%D0%B1%D0%B5%D0%BD%D0%B5%D1%81\n",
      "http://mo.wikipedia.org/wiki/%D0%96%D1%83%D0%B4%D0%B5%D1%86%D1%83%D0%BB_%D0%95%D0%BA%D0%B0%D0%B1%D0%BF%D0%B8%D0%BB%D1%81\n",
      "http://mo.wikipedia.org/wiki/%D0%96%D1%83%D0%B4%D0%B5%D1%86%D1%83%D0%BB_%D0%AE%D1%80%D0%BC%D0%B0%D0%BB%D0%B0\n",
      "http://mo.wikipedia.org/wiki/%D0%96%D1%83%D0%B4%D0%B5%D1%86%D1%83%D0%BB_%D0%9A%D1%80%D0%B0%D1%81%D0%BB%D0%B0%D0%B2%D0%B0%D1%81\n",
      "http://mo.wikipedia.org/wiki/%D0%96%D1%83%D0%B4%D0%B5%D1%86%D1%83%D0%BB_%D0%9A%D1%83%D0%BB%D0%B4%D0%B8%D0%B3%D0%B0%D1%81\n",
      "http://mo.wikipedia.org/wiki/%D0%96%D1%83%D0%B4%D0%B5%D1%86%D1%83%D0%BB_%D0%9B%D0%B8%D0%BC%D0%B1%D0%B0%D0%B7%D1%83\n",
      "http://mo.wikipedia.org/wiki/%D0%96%D1%83%D0%B4%D0%B5%D1%86%D1%83%D0%BB_%D0%9C%D0%B0%D0%B4%D0%BE%D0%BD%D0%B0%D1%81\n",
      "http://mo.wikipedia.org/wiki/%D0%96%D1%83%D0%B4%D0%B5%D1%86%D1%83%D0%BB_%D0%9E%D0%B3%D1%80%D0%B5%D1%81\n",
      "http://mo.wikipedia.org/wiki/%D0%96%D1%83%D0%B4%D0%B5%D1%86%D1%83%D0%BB_%D0%9F%D1%80%D0%B5%D0%B9%D0%BB%D1%83\n",
      "http://mo.wikipedia.org/wiki/%D0%96%D1%83%D0%B4%D0%B5%D1%86%D1%83%D0%BB_%D0%A0%D0%B5%D0%B7%D0%B5%D0%BA%D0%BD%D0%B5\n",
      "http://mo.wikipedia.org/wiki/%D0%96%D1%83%D0%B4%D0%B5%D1%86%D1%83%D0%BB_%D0%A0%D0%B8%D0%B3%D0%B0\n",
      "http://mo.wikipedia.org/wiki/%D0%96%D1%83%D0%B4%D0%B5%D1%86%D1%83%D0%BB_%D0%A1%D0%B0%D0%BB%D0%B4%D1%83%D1%81\n",
      "http://mo.wikipedia.org/wiki/%D0%96%D1%83%D0%B4%D0%B5%D1%86%D1%83%D0%BB_%D0%A2%D0%B0%D0%BB%D1%81%D1%83\n",
      "http://mo.wikipedia.org/wiki/%D0%96%D1%83%D0%B4%D0%B5%D1%86%D1%83%D0%BB_%D0%A2%D1%83%D0%BA%D1%83%D0%BC%D0%B0\n",
      "http://mo.wikipedia.org/wiki/%D0%96%D1%83%D0%B4%D0%B5%D1%86%D1%83%D0%BB_%D0%92%D0%B0%D0%BB%D0%BC%D0%B8%D0%B5%D1%80%D0%B0%D1%81\n",
      "http://mo.wikipedia.org/wiki/%D0%96%D1%83%D0%B4%D0%B5%D1%86%D1%83%D0%BB_%D0%92%D0%B5%D0%BD%D1%82%D1%81%D0%BF%D0%B8%D0%BB%D1%81\n",
      "http://mo.wikipedia.org/wiki/%D0%96%D1%83%D0%B4%D0%B5%D1%86%D1%83%D0%BB_%D0%94%D0%BE%D0%B1%D0%B5%D0%BB%D0%B5%D1%81\n",
      "http://mo.wikipedia.org/wiki/%D0%96%D1%83%D0%B4%D0%B5%D1%86%D1%83%D0%BB_%D0%94%D0%BE%D0%B1%D0%B5%D0%BB%D0%B5%D1%81\n",
      "http://mo.wikipedia.org/wiki/%D0%9F%D0%B0%D3%82%D0%B8%D0%BD%D0%B0_%D0%BF%D1%80%D0%B8%D0%BD%D1%87%D0%B8%D0%BF%D0%B0%D0%BB%D1%8D\n",
      "http://mo.wikipedia.org/wiki/%D0%9F%D0%B0%D3%82%D0%B8%D0%BD%D0%B0_%D0%BF%D1%80%D0%B8%D0%BD%D1%87%D0%B8%D0%BF%D0%B0%D0%BB%D1%8D\n"
     ]
    },
    {
     "data": {
      "application/vnd.jupyter.widget-view+json": {
       "model_id": "59b40917536248e39324e21b6d462497",
       "version_major": 2,
       "version_minor": 0
      },
      "text/plain": [
       "A Jupyter Widget"
      ]
     },
     "metadata": {},
     "output_type": "display_data"
    },
    {
     "name": "stdout",
     "output_type": "stream",
     "text": [
      "\n"
     ]
    },
    {
     "data": {
      "application/vnd.jupyter.widget-view+json": {
       "model_id": "f38c1fcfa18c47d992e6e559921ceb57",
       "version_major": 2,
       "version_minor": 0
      },
      "text/plain": [
       "A Jupyter Widget"
      ]
     },
     "metadata": {},
     "output_type": "display_data"
    },
    {
     "name": "stdout",
     "output_type": "stream",
     "text": [
      "\n"
     ]
    },
    {
     "data": {
      "application/vnd.jupyter.widget-view+json": {
       "model_id": "3bc7596a003a4f0082f3e6852d2deac4",
       "version_major": 2,
       "version_minor": 0
      },
      "text/plain": [
       "A Jupyter Widget"
      ]
     },
     "metadata": {},
     "output_type": "display_data"
    },
    {
     "name": "stdout",
     "output_type": "stream",
     "text": [
      "\n"
     ]
    },
    {
     "data": {
      "application/vnd.jupyter.widget-view+json": {
       "model_id": "b3ced3a0c45f41c891b1b3900e59ab7a",
       "version_major": 2,
       "version_minor": 0
      },
      "text/plain": [
       "A Jupyter Widget"
      ]
     },
     "metadata": {},
     "output_type": "display_data"
    },
    {
     "name": "stdout",
     "output_type": "stream",
     "text": [
      "\n"
     ]
    },
    {
     "data": {
      "application/vnd.jupyter.widget-view+json": {
       "model_id": "6dfa0a2142574d5399a89bc80aff2547",
       "version_major": 2,
       "version_minor": 0
      },
      "text/plain": [
       "A Jupyter Widget"
      ]
     },
     "metadata": {},
     "output_type": "display_data"
    },
    {
     "name": "stdout",
     "output_type": "stream",
     "text": [
      "\n"
     ]
    },
    {
     "data": {
      "application/vnd.jupyter.widget-view+json": {
       "model_id": "a69214b29f334a6489166d006993d2cc",
       "version_major": 2,
       "version_minor": 0
      },
      "text/plain": [
       "A Jupyter Widget"
      ]
     },
     "metadata": {},
     "output_type": "display_data"
    },
    {
     "name": "stdout",
     "output_type": "stream",
     "text": [
      "\n"
     ]
    },
    {
     "data": {
      "application/vnd.jupyter.widget-view+json": {
       "model_id": "48c18df641b74bce90fec093289df5c5",
       "version_major": 2,
       "version_minor": 0
      },
      "text/plain": [
       "A Jupyter Widget"
      ]
     },
     "metadata": {},
     "output_type": "display_data"
    },
    {
     "name": "stdout",
     "output_type": "stream",
     "text": [
      "\n"
     ]
    },
    {
     "data": {
      "application/vnd.jupyter.widget-view+json": {
       "model_id": "eab5e6aafcb241f58adee9276cc59e75",
       "version_major": 2,
       "version_minor": 0
      },
      "text/plain": [
       "A Jupyter Widget"
      ]
     },
     "metadata": {},
     "output_type": "display_data"
    },
    {
     "name": "stdout",
     "output_type": "stream",
     "text": [
      "\n"
     ]
    },
    {
     "data": {
      "application/vnd.jupyter.widget-view+json": {
       "model_id": "f3926424fa804be3810b6aafea8e6b85",
       "version_major": 2,
       "version_minor": 0
      },
      "text/plain": [
       "A Jupyter Widget"
      ]
     },
     "metadata": {},
     "output_type": "display_data"
    },
    {
     "name": "stdout",
     "output_type": "stream",
     "text": [
      "\n"
     ]
    },
    {
     "data": {
      "application/vnd.jupyter.widget-view+json": {
       "model_id": "bc5823f657f64a3fb68f0db26ac8dde7",
       "version_major": 2,
       "version_minor": 0
      },
      "text/plain": [
       "A Jupyter Widget"
      ]
     },
     "metadata": {},
     "output_type": "display_data"
    },
    {
     "name": "stdout",
     "output_type": "stream",
     "text": [
      "\n"
     ]
    },
    {
     "data": {
      "application/vnd.jupyter.widget-view+json": {
       "model_id": "92d5dbdd2d704c5fb9a3a318d22108f2",
       "version_major": 2,
       "version_minor": 0
      },
      "text/plain": [
       "A Jupyter Widget"
      ]
     },
     "metadata": {},
     "output_type": "display_data"
    },
    {
     "name": "stdout",
     "output_type": "stream",
     "text": [
      "\n"
     ]
    },
    {
     "data": {
      "application/vnd.jupyter.widget-view+json": {
       "model_id": "7bfb85029550405f8a18688c92298cdd",
       "version_major": 2,
       "version_minor": 0
      },
      "text/plain": [
       "A Jupyter Widget"
      ]
     },
     "metadata": {},
     "output_type": "display_data"
    },
    {
     "name": "stdout",
     "output_type": "stream",
     "text": [
      "\n"
     ]
    },
    {
     "data": {
      "application/vnd.jupyter.widget-view+json": {
       "model_id": "6504d4b4174343118b3251fdae48d5a6",
       "version_major": 2,
       "version_minor": 0
      },
      "text/plain": [
       "A Jupyter Widget"
      ]
     },
     "metadata": {},
     "output_type": "display_data"
    },
    {
     "name": "stdout",
     "output_type": "stream",
     "text": [
      "\n"
     ]
    },
    {
     "data": {
      "application/vnd.jupyter.widget-view+json": {
       "model_id": "1a5ad38d19f34791bd9c05a9892be8bc",
       "version_major": 2,
       "version_minor": 0
      },
      "text/plain": [
       "A Jupyter Widget"
      ]
     },
     "metadata": {},
     "output_type": "display_data"
    },
    {
     "name": "stdout",
     "output_type": "stream",
     "text": [
      "\n"
     ]
    },
    {
     "data": {
      "application/vnd.jupyter.widget-view+json": {
       "model_id": "927449d32bfc4c5d9f96faa1392c59ba",
       "version_major": 2,
       "version_minor": 0
      },
      "text/plain": [
       "A Jupyter Widget"
      ]
     },
     "metadata": {},
     "output_type": "display_data"
    },
    {
     "name": "stdout",
     "output_type": "stream",
     "text": [
      "\n"
     ]
    },
    {
     "data": {
      "application/vnd.jupyter.widget-view+json": {
       "model_id": "33620e5eccb04f8e91130d923056786e",
       "version_major": 2,
       "version_minor": 0
      },
      "text/plain": [
       "A Jupyter Widget"
      ]
     },
     "metadata": {},
     "output_type": "display_data"
    },
    {
     "name": "stdout",
     "output_type": "stream",
     "text": [
      "\n"
     ]
    },
    {
     "data": {
      "application/vnd.jupyter.widget-view+json": {
       "model_id": "9e2e29cddf3f435da5d2d24df77fe2c5",
       "version_major": 2,
       "version_minor": 0
      },
      "text/plain": [
       "A Jupyter Widget"
      ]
     },
     "metadata": {},
     "output_type": "display_data"
    },
    {
     "name": "stdout",
     "output_type": "stream",
     "text": [
      "\n"
     ]
    },
    {
     "data": {
      "application/vnd.jupyter.widget-view+json": {
       "model_id": "e842e61768874304a35ddde9fb9a8dd8",
       "version_major": 2,
       "version_minor": 0
      },
      "text/plain": [
       "A Jupyter Widget"
      ]
     },
     "metadata": {},
     "output_type": "display_data"
    },
    {
     "name": "stdout",
     "output_type": "stream",
     "text": [
      "\n"
     ]
    },
    {
     "data": {
      "application/vnd.jupyter.widget-view+json": {
       "model_id": "1c4ac9a06c9046d3829d7c4756229fd2",
       "version_major": 2,
       "version_minor": 0
      },
      "text/plain": [
       "A Jupyter Widget"
      ]
     },
     "metadata": {},
     "output_type": "display_data"
    },
    {
     "name": "stdout",
     "output_type": "stream",
     "text": [
      "\n"
     ]
    },
    {
     "data": {
      "application/vnd.jupyter.widget-view+json": {
       "model_id": "20ee0edc52fd4288a870dc80f3f62947",
       "version_major": 2,
       "version_minor": 0
      },
      "text/plain": [
       "A Jupyter Widget"
      ]
     },
     "metadata": {},
     "output_type": "display_data"
    },
    {
     "name": "stdout",
     "output_type": "stream",
     "text": [
      "\n"
     ]
    },
    {
     "data": {
      "application/vnd.jupyter.widget-view+json": {
       "model_id": "9915913142b64875b2ba18efe8459737",
       "version_major": 2,
       "version_minor": 0
      },
      "text/plain": [
       "A Jupyter Widget"
      ]
     },
     "metadata": {},
     "output_type": "display_data"
    },
    {
     "name": "stdout",
     "output_type": "stream",
     "text": [
      "\n",
      "http://mo.wikipedia.org/wiki/%D0%9B%D0%B5%D1%82%D0%BE%D0%BD%D0%B8%D1%8F\n",
      "http://mo.wikipedia.org/wiki/%D0%9B%D0%B5%D1%82%D0%BE%D0%BD%D0%B8%D1%8F\n",
      "http://mo.wikipedia.org/wiki/%D0%96%D1%83%D0%B4%D0%B5%D1%86%D0%B5%D0%BB%D0%B5_%D0%9B%D0%B5%D1%82%D0%BE%D0%BD%D0%B5%D0%B9\n",
      "http://mo.wikipedia.org/wiki/%D0%96%D1%83%D0%B4%D0%B5%D1%86%D1%83%D0%BB_%D0%90%D0%B9%D0%B7%D0%BA%D1%80%D0%B0%D1%83%D0%BA%D0%BB%D0%B5%D1%81\n",
      "http://mo.wikipedia.org/wiki/%D0%96%D1%83%D0%B4%D0%B5%D1%86%D1%83%D0%BB_%D0%90%D0%BB%D1%83%D0%BA%D1%81%D0%BD%D0%B5%D1%81\n",
      "http://mo.wikipedia.org/wiki/%D0%96%D1%83%D0%B4%D0%B5%D1%86%D1%83%D0%BB_%D0%91%D0%B0%D1%83%D1%81%D0%BA%D0%B0%D1%81\n",
      "http://mo.wikipedia.org/wiki/%D0%96%D1%83%D0%B4%D0%B5%D1%86%D1%83%D0%BB_%D0%A6%D0%B5%D1%81%D1%83\n",
      "http://mo.wikipedia.org/wiki/%D0%96%D1%83%D0%B4%D0%B5%D1%86%D1%83%D0%BB_%D0%94%D0%BE%D0%B1%D0%B5%D0%BB%D0%B5%D1%81\n",
      "http://mo.wikipedia.org/wiki/%D0%96%D1%83%D0%B4%D0%B5%D1%86%D1%83%D0%BB_%D0%93%D1%83%D0%BB%D0%B1%D0%B5%D0%BD%D0%B5%D1%81\n",
      "http://mo.wikipedia.org/wiki/%D0%96%D1%83%D0%B4%D0%B5%D1%86%D1%83%D0%BB_%D0%95%D0%BA%D0%B0%D0%B1%D0%BF%D0%B8%D0%BB%D1%81\n",
      "http://mo.wikipedia.org/wiki/%D0%96%D1%83%D0%B4%D0%B5%D1%86%D1%83%D0%BB_%D0%AE%D1%80%D0%BC%D0%B0%D0%BB%D0%B0\n",
      "http://mo.wikipedia.org/wiki/%D0%96%D1%83%D0%B4%D0%B5%D1%86%D1%83%D0%BB_%D0%9A%D1%80%D0%B0%D1%81%D0%BB%D0%B0%D0%B2%D0%B0%D1%81\n",
      "http://mo.wikipedia.org/wiki/%D0%96%D1%83%D0%B4%D0%B5%D1%86%D1%83%D0%BB_%D0%9A%D1%83%D0%BB%D0%B4%D0%B8%D0%B3%D0%B0%D1%81\n",
      "http://mo.wikipedia.org/wiki/%D0%96%D1%83%D0%B4%D0%B5%D1%86%D1%83%D0%BB_%D0%9B%D0%B8%D0%BC%D0%B1%D0%B0%D0%B7%D1%83\n",
      "http://mo.wikipedia.org/wiki/%D0%96%D1%83%D0%B4%D0%B5%D1%86%D1%83%D0%BB_%D0%9C%D0%B0%D0%B4%D0%BE%D0%BD%D0%B0%D1%81\n",
      "http://mo.wikipedia.org/wiki/%D0%96%D1%83%D0%B4%D0%B5%D1%86%D1%83%D0%BB_%D0%9E%D0%B3%D1%80%D0%B5%D1%81\n",
      "http://mo.wikipedia.org/wiki/%D0%96%D1%83%D0%B4%D0%B5%D1%86%D1%83%D0%BB_%D0%9F%D1%80%D0%B5%D0%B9%D0%BB%D1%83\n",
      "http://mo.wikipedia.org/wiki/%D0%96%D1%83%D0%B4%D0%B5%D1%86%D1%83%D0%BB_%D0%A0%D0%B5%D0%B7%D0%B5%D0%BA%D0%BD%D0%B5\n",
      "http://mo.wikipedia.org/wiki/%D0%96%D1%83%D0%B4%D0%B5%D1%86%D1%83%D0%BB_%D0%A0%D0%B8%D0%B3%D0%B0\n",
      "http://mo.wikipedia.org/wiki/%D0%96%D1%83%D0%B4%D0%B5%D1%86%D1%83%D0%BB_%D0%A1%D0%B0%D0%BB%D0%B4%D1%83%D1%81\n",
      "http://mo.wikipedia.org/wiki/%D0%96%D1%83%D0%B4%D0%B5%D1%86%D1%83%D0%BB_%D0%A2%D0%B0%D0%BB%D1%81%D1%83\n",
      "http://mo.wikipedia.org/wiki/%D0%96%D1%83%D0%B4%D0%B5%D1%86%D1%83%D0%BB_%D0%A2%D1%83%D0%BA%D1%83%D0%BC%D0%B0\n",
      "http://mo.wikipedia.org/wiki/%D0%96%D1%83%D0%B4%D0%B5%D1%86%D1%83%D0%BB_%D0%92%D0%B0%D0%BB%D0%BC%D0%B8%D0%B5%D1%80%D0%B0%D1%81\n",
      "http://mo.wikipedia.org/wiki/%D0%96%D1%83%D0%B4%D0%B5%D1%86%D1%83%D0%BB_%D0%92%D0%B5%D0%BD%D1%82%D1%81%D0%BF%D0%B8%D0%BB%D1%81\n",
      "http://mo.wikipedia.org/wiki/%D0%96%D1%83%D0%B4%D0%B5%D1%86%D1%83%D0%BB_%D0%94%D0%B0%D1%83%D0%B3%D0%B0%D0%B2%D0%BF%D0%B8%D0%BB%D1%81\n",
      "http://mo.wikipedia.org/wiki/%D0%96%D1%83%D0%B4%D0%B5%D1%86%D1%83%D0%BB_%D0%94%D0%B0%D1%83%D0%B3%D0%B0%D0%B2%D0%BF%D0%B8%D0%BB%D1%81\n",
      "http://mo.wikipedia.org/wiki/%D0%9F%D0%B0%D3%82%D0%B8%D0%BD%D0%B0_%D0%BF%D1%80%D0%B8%D0%BD%D1%87%D0%B8%D0%BF%D0%B0%D0%BB%D1%8D\n",
      "http://mo.wikipedia.org/wiki/%D0%9F%D0%B0%D3%82%D0%B8%D0%BD%D0%B0_%D0%BF%D1%80%D0%B8%D0%BD%D1%87%D0%B8%D0%BF%D0%B0%D0%BB%D1%8D\n"
     ]
    },
    {
     "data": {
      "application/vnd.jupyter.widget-view+json": {
       "model_id": "63311be8e08349719771ac36b7439939",
       "version_major": 2,
       "version_minor": 0
      },
      "text/plain": [
       "A Jupyter Widget"
      ]
     },
     "metadata": {},
     "output_type": "display_data"
    },
    {
     "name": "stdout",
     "output_type": "stream",
     "text": [
      "\n"
     ]
    },
    {
     "data": {
      "application/vnd.jupyter.widget-view+json": {
       "model_id": "00ceaeca4ebe4581ab7327013b0271ae",
       "version_major": 2,
       "version_minor": 0
      },
      "text/plain": [
       "A Jupyter Widget"
      ]
     },
     "metadata": {},
     "output_type": "display_data"
    },
    {
     "name": "stdout",
     "output_type": "stream",
     "text": [
      "\n"
     ]
    },
    {
     "data": {
      "application/vnd.jupyter.widget-view+json": {
       "model_id": "3515e9f986cb414ab0c25290b4b6b9c1",
       "version_major": 2,
       "version_minor": 0
      },
      "text/plain": [
       "A Jupyter Widget"
      ]
     },
     "metadata": {},
     "output_type": "display_data"
    },
    {
     "name": "stdout",
     "output_type": "stream",
     "text": [
      "\n"
     ]
    },
    {
     "data": {
      "application/vnd.jupyter.widget-view+json": {
       "model_id": "804bcedf26014e589b01305f020ebc60",
       "version_major": 2,
       "version_minor": 0
      },
      "text/plain": [
       "A Jupyter Widget"
      ]
     },
     "metadata": {},
     "output_type": "display_data"
    },
    {
     "name": "stdout",
     "output_type": "stream",
     "text": [
      "\n"
     ]
    },
    {
     "data": {
      "application/vnd.jupyter.widget-view+json": {
       "model_id": "c0d31701543d42d8a89f588f011da669",
       "version_major": 2,
       "version_minor": 0
      },
      "text/plain": [
       "A Jupyter Widget"
      ]
     },
     "metadata": {},
     "output_type": "display_data"
    },
    {
     "name": "stdout",
     "output_type": "stream",
     "text": [
      "\n"
     ]
    },
    {
     "data": {
      "application/vnd.jupyter.widget-view+json": {
       "model_id": "0208a093be484eabbb09352550d22b65",
       "version_major": 2,
       "version_minor": 0
      },
      "text/plain": [
       "A Jupyter Widget"
      ]
     },
     "metadata": {},
     "output_type": "display_data"
    },
    {
     "name": "stdout",
     "output_type": "stream",
     "text": [
      "\n"
     ]
    },
    {
     "data": {
      "application/vnd.jupyter.widget-view+json": {
       "model_id": "97f3e99c96c243a99a4e0d889d8e09e4",
       "version_major": 2,
       "version_minor": 0
      },
      "text/plain": [
       "A Jupyter Widget"
      ]
     },
     "metadata": {},
     "output_type": "display_data"
    },
    {
     "name": "stdout",
     "output_type": "stream",
     "text": [
      "\n"
     ]
    },
    {
     "data": {
      "application/vnd.jupyter.widget-view+json": {
       "model_id": "a1e5a8b2a685481384096566711a1b0b",
       "version_major": 2,
       "version_minor": 0
      },
      "text/plain": [
       "A Jupyter Widget"
      ]
     },
     "metadata": {},
     "output_type": "display_data"
    },
    {
     "name": "stdout",
     "output_type": "stream",
     "text": [
      "\n"
     ]
    },
    {
     "data": {
      "application/vnd.jupyter.widget-view+json": {
       "model_id": "f45c563e4bcf47939736780c12778e5b",
       "version_major": 2,
       "version_minor": 0
      },
      "text/plain": [
       "A Jupyter Widget"
      ]
     },
     "metadata": {},
     "output_type": "display_data"
    },
    {
     "name": "stdout",
     "output_type": "stream",
     "text": [
      "\n"
     ]
    },
    {
     "data": {
      "application/vnd.jupyter.widget-view+json": {
       "model_id": "3fc2bffd8030421081ea6e9e7d9f28f1",
       "version_major": 2,
       "version_minor": 0
      },
      "text/plain": [
       "A Jupyter Widget"
      ]
     },
     "metadata": {},
     "output_type": "display_data"
    },
    {
     "name": "stdout",
     "output_type": "stream",
     "text": [
      "\n"
     ]
    },
    {
     "data": {
      "application/vnd.jupyter.widget-view+json": {
       "model_id": "8ad3cdee221d4f0a874ac9d056f701a6",
       "version_major": 2,
       "version_minor": 0
      },
      "text/plain": [
       "A Jupyter Widget"
      ]
     },
     "metadata": {},
     "output_type": "display_data"
    },
    {
     "name": "stdout",
     "output_type": "stream",
     "text": [
      "\n"
     ]
    },
    {
     "data": {
      "application/vnd.jupyter.widget-view+json": {
       "model_id": "7c429fc89a7c487fbf19ffbbc0e00285",
       "version_major": 2,
       "version_minor": 0
      },
      "text/plain": [
       "A Jupyter Widget"
      ]
     },
     "metadata": {},
     "output_type": "display_data"
    },
    {
     "name": "stdout",
     "output_type": "stream",
     "text": [
      "\n"
     ]
    },
    {
     "data": {
      "application/vnd.jupyter.widget-view+json": {
       "model_id": "b260844023f74319a6b61919ec02890a",
       "version_major": 2,
       "version_minor": 0
      },
      "text/plain": [
       "A Jupyter Widget"
      ]
     },
     "metadata": {},
     "output_type": "display_data"
    },
    {
     "name": "stdout",
     "output_type": "stream",
     "text": [
      "\n"
     ]
    },
    {
     "data": {
      "application/vnd.jupyter.widget-view+json": {
       "model_id": "41580fec5e814dd88d4d963bd4d98396",
       "version_major": 2,
       "version_minor": 0
      },
      "text/plain": [
       "A Jupyter Widget"
      ]
     },
     "metadata": {},
     "output_type": "display_data"
    },
    {
     "name": "stdout",
     "output_type": "stream",
     "text": [
      "\n"
     ]
    },
    {
     "data": {
      "application/vnd.jupyter.widget-view+json": {
       "model_id": "b1ff3bdb378c4b10875343da959737a4",
       "version_major": 2,
       "version_minor": 0
      },
      "text/plain": [
       "A Jupyter Widget"
      ]
     },
     "metadata": {},
     "output_type": "display_data"
    },
    {
     "name": "stdout",
     "output_type": "stream",
     "text": [
      "\n"
     ]
    },
    {
     "data": {
      "application/vnd.jupyter.widget-view+json": {
       "model_id": "4fe98ca3dc644252ad8ecbfe623e7cf7",
       "version_major": 2,
       "version_minor": 0
      },
      "text/plain": [
       "A Jupyter Widget"
      ]
     },
     "metadata": {},
     "output_type": "display_data"
    },
    {
     "name": "stdout",
     "output_type": "stream",
     "text": [
      "\n"
     ]
    },
    {
     "data": {
      "application/vnd.jupyter.widget-view+json": {
       "model_id": "92790e7845594c6f8b60dd31277f3491",
       "version_major": 2,
       "version_minor": 0
      },
      "text/plain": [
       "A Jupyter Widget"
      ]
     },
     "metadata": {},
     "output_type": "display_data"
    },
    {
     "name": "stdout",
     "output_type": "stream",
     "text": [
      "\n"
     ]
    },
    {
     "data": {
      "application/vnd.jupyter.widget-view+json": {
       "model_id": "9c2d8f8837074b278aa8b9f0f4a21b48",
       "version_major": 2,
       "version_minor": 0
      },
      "text/plain": [
       "A Jupyter Widget"
      ]
     },
     "metadata": {},
     "output_type": "display_data"
    },
    {
     "name": "stdout",
     "output_type": "stream",
     "text": [
      "\n"
     ]
    },
    {
     "data": {
      "application/vnd.jupyter.widget-view+json": {
       "model_id": "a05374d6179b448399dfd5501021b8e9",
       "version_major": 2,
       "version_minor": 0
      },
      "text/plain": [
       "A Jupyter Widget"
      ]
     },
     "metadata": {},
     "output_type": "display_data"
    },
    {
     "name": "stdout",
     "output_type": "stream",
     "text": [
      "\n"
     ]
    },
    {
     "data": {
      "application/vnd.jupyter.widget-view+json": {
       "model_id": "e1b98d7d510a45c98fb8c9ec61bd2f7f",
       "version_major": 2,
       "version_minor": 0
      },
      "text/plain": [
       "A Jupyter Widget"
      ]
     },
     "metadata": {},
     "output_type": "display_data"
    },
    {
     "name": "stdout",
     "output_type": "stream",
     "text": [
      "\n"
     ]
    },
    {
     "data": {
      "application/vnd.jupyter.widget-view+json": {
       "model_id": "9ca154bd254542c081bf50ec2d88663c",
       "version_major": 2,
       "version_minor": 0
      },
      "text/plain": [
       "A Jupyter Widget"
      ]
     },
     "metadata": {},
     "output_type": "display_data"
    },
    {
     "name": "stdout",
     "output_type": "stream",
     "text": [
      "\n"
     ]
    },
    {
     "data": {
      "application/vnd.jupyter.widget-view+json": {
       "model_id": "8434d9fef5774b0fb45ff95579e0f8bb",
       "version_major": 2,
       "version_minor": 0
      },
      "text/plain": [
       "A Jupyter Widget"
      ]
     },
     "metadata": {},
     "output_type": "display_data"
    },
    {
     "name": "stdout",
     "output_type": "stream",
     "text": [
      "\n",
      "http://mo.wikipedia.org/wiki/%D0%9B%D0%B5%D1%82%D0%BE%D0%BD%D0%B8%D1%8F\n",
      "http://mo.wikipedia.org/wiki/%D0%9B%D0%B5%D1%82%D0%BE%D0%BD%D0%B8%D1%8F\n",
      "http://mo.wikipedia.org/wiki/%D0%96%D1%83%D0%B4%D0%B5%D1%86%D0%B5%D0%BB%D0%B5_%D0%9B%D0%B5%D1%82%D0%BE%D0%BD%D0%B5%D0%B9\n",
      "http://mo.wikipedia.org/wiki/%D0%96%D1%83%D0%B4%D0%B5%D1%86%D1%83%D0%BB_%D0%90%D0%B9%D0%B7%D0%BA%D1%80%D0%B0%D1%83%D0%BA%D0%BB%D0%B5%D1%81\n",
      "http://mo.wikipedia.org/wiki/%D0%96%D1%83%D0%B4%D0%B5%D1%86%D1%83%D0%BB_%D0%90%D0%BB%D1%83%D0%BA%D1%81%D0%BD%D0%B5%D1%81\n",
      "http://mo.wikipedia.org/wiki/%D0%96%D1%83%D0%B4%D0%B5%D1%86%D1%83%D0%BB_%D0%91%D0%B0%D1%83%D1%81%D0%BA%D0%B0%D1%81\n",
      "http://mo.wikipedia.org/wiki/%D0%96%D1%83%D0%B4%D0%B5%D1%86%D1%83%D0%BB_%D0%94%D0%B0%D1%83%D0%B3%D0%B0%D0%B2%D0%BF%D0%B8%D0%BB%D1%81\n",
      "http://mo.wikipedia.org/wiki/%D0%96%D1%83%D0%B4%D0%B5%D1%86%D1%83%D0%BB_%D0%94%D0%BE%D0%B1%D0%B5%D0%BB%D0%B5%D1%81\n",
      "http://mo.wikipedia.org/wiki/%D0%96%D1%83%D0%B4%D0%B5%D1%86%D1%83%D0%BB_%D0%93%D1%83%D0%BB%D0%B1%D0%B5%D0%BD%D0%B5%D1%81\n",
      "http://mo.wikipedia.org/wiki/%D0%96%D1%83%D0%B4%D0%B5%D1%86%D1%83%D0%BB_%D0%95%D0%BA%D0%B0%D0%B1%D0%BF%D0%B8%D0%BB%D1%81\n",
      "http://mo.wikipedia.org/wiki/%D0%96%D1%83%D0%B4%D0%B5%D1%86%D1%83%D0%BB_%D0%AE%D1%80%D0%BC%D0%B0%D0%BB%D0%B0\n",
      "http://mo.wikipedia.org/wiki/%D0%96%D1%83%D0%B4%D0%B5%D1%86%D1%83%D0%BB_%D0%9A%D1%80%D0%B0%D1%81%D0%BB%D0%B0%D0%B2%D0%B0%D1%81\n",
      "http://mo.wikipedia.org/wiki/%D0%96%D1%83%D0%B4%D0%B5%D1%86%D1%83%D0%BB_%D0%9A%D1%83%D0%BB%D0%B4%D0%B8%D0%B3%D0%B0%D1%81\n",
      "http://mo.wikipedia.org/wiki/%D0%96%D1%83%D0%B4%D0%B5%D1%86%D1%83%D0%BB_%D0%9B%D0%B8%D0%BC%D0%B1%D0%B0%D0%B7%D1%83\n",
      "http://mo.wikipedia.org/wiki/%D0%96%D1%83%D0%B4%D0%B5%D1%86%D1%83%D0%BB_%D0%9C%D0%B0%D0%B4%D0%BE%D0%BD%D0%B0%D1%81\n",
      "http://mo.wikipedia.org/wiki/%D0%96%D1%83%D0%B4%D0%B5%D1%86%D1%83%D0%BB_%D0%9E%D0%B3%D1%80%D0%B5%D1%81\n",
      "http://mo.wikipedia.org/wiki/%D0%96%D1%83%D0%B4%D0%B5%D1%86%D1%83%D0%BB_%D0%9F%D1%80%D0%B5%D0%B9%D0%BB%D1%83\n",
      "http://mo.wikipedia.org/wiki/%D0%96%D1%83%D0%B4%D0%B5%D1%86%D1%83%D0%BB_%D0%A0%D0%B5%D0%B7%D0%B5%D0%BA%D0%BD%D0%B5\n",
      "http://mo.wikipedia.org/wiki/%D0%96%D1%83%D0%B4%D0%B5%D1%86%D1%83%D0%BB_%D0%A0%D0%B8%D0%B3%D0%B0\n",
      "http://mo.wikipedia.org/wiki/%D0%96%D1%83%D0%B4%D0%B5%D1%86%D1%83%D0%BB_%D0%A1%D0%B0%D0%BB%D0%B4%D1%83%D1%81\n",
      "http://mo.wikipedia.org/wiki/%D0%96%D1%83%D0%B4%D0%B5%D1%86%D1%83%D0%BB_%D0%A2%D0%B0%D0%BB%D1%81%D1%83\n",
      "http://mo.wikipedia.org/wiki/%D0%96%D1%83%D0%B4%D0%B5%D1%86%D1%83%D0%BB_%D0%A2%D1%83%D0%BA%D1%83%D0%BC%D0%B0\n",
      "http://mo.wikipedia.org/wiki/%D0%96%D1%83%D0%B4%D0%B5%D1%86%D1%83%D0%BB_%D0%92%D0%B0%D0%BB%D0%BC%D0%B8%D0%B5%D1%80%D0%B0%D1%81\n",
      "http://mo.wikipedia.org/wiki/%D0%96%D1%83%D0%B4%D0%B5%D1%86%D1%83%D0%BB_%D0%92%D0%B5%D0%BD%D1%82%D1%81%D0%BF%D0%B8%D0%BB%D1%81\n",
      "http://mo.wikipedia.org/wiki/%D0%96%D1%83%D0%B4%D0%B5%D1%86%D1%83%D0%BB_%D0%A6%D0%B5%D1%81%D1%83\n",
      "http://mo.wikipedia.org/wiki/%D0%96%D1%83%D0%B4%D0%B5%D1%86%D1%83%D0%BB_%D0%A6%D0%B5%D1%81%D1%83\n",
      "http://mo.wikipedia.org/wiki/%D0%9F%D0%B0%D3%82%D0%B8%D0%BD%D0%B0_%D0%BF%D1%80%D0%B8%D0%BD%D1%87%D0%B8%D0%BF%D0%B0%D0%BB%D1%8D\n",
      "http://mo.wikipedia.org/wiki/%D0%9F%D0%B0%D3%82%D0%B8%D0%BD%D0%B0_%D0%BF%D1%80%D0%B8%D0%BD%D1%87%D0%B8%D0%BF%D0%B0%D0%BB%D1%8D\n"
     ]
    },
    {
     "data": {
      "application/vnd.jupyter.widget-view+json": {
       "model_id": "f973a730c93f438398b5c45164c8c5a4",
       "version_major": 2,
       "version_minor": 0
      },
      "text/plain": [
       "A Jupyter Widget"
      ]
     },
     "metadata": {},
     "output_type": "display_data"
    },
    {
     "name": "stdout",
     "output_type": "stream",
     "text": [
      "\n"
     ]
    },
    {
     "data": {
      "application/vnd.jupyter.widget-view+json": {
       "model_id": "469ee27d382442899d28890671d0d11f",
       "version_major": 2,
       "version_minor": 0
      },
      "text/plain": [
       "A Jupyter Widget"
      ]
     },
     "metadata": {},
     "output_type": "display_data"
    },
    {
     "name": "stdout",
     "output_type": "stream",
     "text": [
      "\n"
     ]
    },
    {
     "data": {
      "application/vnd.jupyter.widget-view+json": {
       "model_id": "7972a74d17914d99b49e279d8ab7b94b",
       "version_major": 2,
       "version_minor": 0
      },
      "text/plain": [
       "A Jupyter Widget"
      ]
     },
     "metadata": {},
     "output_type": "display_data"
    },
    {
     "name": "stdout",
     "output_type": "stream",
     "text": [
      "\n"
     ]
    },
    {
     "data": {
      "application/vnd.jupyter.widget-view+json": {
       "model_id": "0687871a67a5455da5695c62bd666582",
       "version_major": 2,
       "version_minor": 0
      },
      "text/plain": [
       "A Jupyter Widget"
      ]
     },
     "metadata": {},
     "output_type": "display_data"
    },
    {
     "name": "stdout",
     "output_type": "stream",
     "text": [
      "\n"
     ]
    },
    {
     "data": {
      "application/vnd.jupyter.widget-view+json": {
       "model_id": "70a1001aa9f9477aa5b94bb416d9d740",
       "version_major": 2,
       "version_minor": 0
      },
      "text/plain": [
       "A Jupyter Widget"
      ]
     },
     "metadata": {},
     "output_type": "display_data"
    },
    {
     "name": "stdout",
     "output_type": "stream",
     "text": [
      "\n"
     ]
    },
    {
     "data": {
      "application/vnd.jupyter.widget-view+json": {
       "model_id": "d3cbbb55e9f947b3a66de75c0d6d1349",
       "version_major": 2,
       "version_minor": 0
      },
      "text/plain": [
       "A Jupyter Widget"
      ]
     },
     "metadata": {},
     "output_type": "display_data"
    },
    {
     "name": "stdout",
     "output_type": "stream",
     "text": [
      "\n"
     ]
    },
    {
     "data": {
      "application/vnd.jupyter.widget-view+json": {
       "model_id": "11e27cd2b70d430cb79ec71b9be038f8",
       "version_major": 2,
       "version_minor": 0
      },
      "text/plain": [
       "A Jupyter Widget"
      ]
     },
     "metadata": {},
     "output_type": "display_data"
    },
    {
     "name": "stdout",
     "output_type": "stream",
     "text": [
      "\n"
     ]
    },
    {
     "data": {
      "application/vnd.jupyter.widget-view+json": {
       "model_id": "128ce80b8f6b4f0192876717da3cbd6c",
       "version_major": 2,
       "version_minor": 0
      },
      "text/plain": [
       "A Jupyter Widget"
      ]
     },
     "metadata": {},
     "output_type": "display_data"
    },
    {
     "name": "stdout",
     "output_type": "stream",
     "text": [
      "\n"
     ]
    },
    {
     "data": {
      "application/vnd.jupyter.widget-view+json": {
       "model_id": "cdc20169d6c6421fb2737d01198cdfca",
       "version_major": 2,
       "version_minor": 0
      },
      "text/plain": [
       "A Jupyter Widget"
      ]
     },
     "metadata": {},
     "output_type": "display_data"
    },
    {
     "name": "stdout",
     "output_type": "stream",
     "text": [
      "\n"
     ]
    },
    {
     "data": {
      "application/vnd.jupyter.widget-view+json": {
       "model_id": "84b92476a0b047b081bfc29e0fbf0c95",
       "version_major": 2,
       "version_minor": 0
      },
      "text/plain": [
       "A Jupyter Widget"
      ]
     },
     "metadata": {},
     "output_type": "display_data"
    },
    {
     "name": "stdout",
     "output_type": "stream",
     "text": [
      "\n"
     ]
    },
    {
     "data": {
      "application/vnd.jupyter.widget-view+json": {
       "model_id": "96df0472074a4b919d5823318e35e580",
       "version_major": 2,
       "version_minor": 0
      },
      "text/plain": [
       "A Jupyter Widget"
      ]
     },
     "metadata": {},
     "output_type": "display_data"
    },
    {
     "name": "stdout",
     "output_type": "stream",
     "text": [
      "\n"
     ]
    },
    {
     "data": {
      "application/vnd.jupyter.widget-view+json": {
       "model_id": "934d587b72464c46a42576daecf139ca",
       "version_major": 2,
       "version_minor": 0
      },
      "text/plain": [
       "A Jupyter Widget"
      ]
     },
     "metadata": {},
     "output_type": "display_data"
    },
    {
     "name": "stdout",
     "output_type": "stream",
     "text": [
      "\n"
     ]
    },
    {
     "data": {
      "application/vnd.jupyter.widget-view+json": {
       "model_id": "c0475ecccea1473b8624d20e9b467687",
       "version_major": 2,
       "version_minor": 0
      },
      "text/plain": [
       "A Jupyter Widget"
      ]
     },
     "metadata": {},
     "output_type": "display_data"
    },
    {
     "name": "stdout",
     "output_type": "stream",
     "text": [
      "\n"
     ]
    },
    {
     "data": {
      "application/vnd.jupyter.widget-view+json": {
       "model_id": "cb9308db334649f7b8d9098c53c42bb4",
       "version_major": 2,
       "version_minor": 0
      },
      "text/plain": [
       "A Jupyter Widget"
      ]
     },
     "metadata": {},
     "output_type": "display_data"
    },
    {
     "name": "stdout",
     "output_type": "stream",
     "text": [
      "\n"
     ]
    },
    {
     "data": {
      "application/vnd.jupyter.widget-view+json": {
       "model_id": "464ad00b93484f2788026ca8dd9fed4c",
       "version_major": 2,
       "version_minor": 0
      },
      "text/plain": [
       "A Jupyter Widget"
      ]
     },
     "metadata": {},
     "output_type": "display_data"
    },
    {
     "name": "stdout",
     "output_type": "stream",
     "text": [
      "\n"
     ]
    },
    {
     "data": {
      "application/vnd.jupyter.widget-view+json": {
       "model_id": "8e0f044eab9c4f0ea940c9614575216e",
       "version_major": 2,
       "version_minor": 0
      },
      "text/plain": [
       "A Jupyter Widget"
      ]
     },
     "metadata": {},
     "output_type": "display_data"
    },
    {
     "name": "stdout",
     "output_type": "stream",
     "text": [
      "\n"
     ]
    },
    {
     "data": {
      "application/vnd.jupyter.widget-view+json": {
       "model_id": "459f832b2f6245b5a65157e3b2ff5c6d",
       "version_major": 2,
       "version_minor": 0
      },
      "text/plain": [
       "A Jupyter Widget"
      ]
     },
     "metadata": {},
     "output_type": "display_data"
    },
    {
     "name": "stdout",
     "output_type": "stream",
     "text": [
      "\n"
     ]
    },
    {
     "data": {
      "application/vnd.jupyter.widget-view+json": {
       "model_id": "4c43705faf67470a9482a8bbd8d8cbf2",
       "version_major": 2,
       "version_minor": 0
      },
      "text/plain": [
       "A Jupyter Widget"
      ]
     },
     "metadata": {},
     "output_type": "display_data"
    },
    {
     "name": "stdout",
     "output_type": "stream",
     "text": [
      "\n"
     ]
    },
    {
     "data": {
      "application/vnd.jupyter.widget-view+json": {
       "model_id": "3d722cec60d84178923118922fe55b11",
       "version_major": 2,
       "version_minor": 0
      },
      "text/plain": [
       "A Jupyter Widget"
      ]
     },
     "metadata": {},
     "output_type": "display_data"
    },
    {
     "name": "stdout",
     "output_type": "stream",
     "text": [
      "\n"
     ]
    },
    {
     "data": {
      "application/vnd.jupyter.widget-view+json": {
       "model_id": "584ef60cc78d4c29a263d74d4b3848f4",
       "version_major": 2,
       "version_minor": 0
      },
      "text/plain": [
       "A Jupyter Widget"
      ]
     },
     "metadata": {},
     "output_type": "display_data"
    },
    {
     "name": "stdout",
     "output_type": "stream",
     "text": [
      "\n"
     ]
    },
    {
     "data": {
      "application/vnd.jupyter.widget-view+json": {
       "model_id": "b1b62ff4d1484c708940e08729e6cdf3",
       "version_major": 2,
       "version_minor": 0
      },
      "text/plain": [
       "A Jupyter Widget"
      ]
     },
     "metadata": {},
     "output_type": "display_data"
    },
    {
     "name": "stdout",
     "output_type": "stream",
     "text": [
      "\n"
     ]
    },
    {
     "data": {
      "application/vnd.jupyter.widget-view+json": {
       "model_id": "551e5e80817247c192f1709387c70df5",
       "version_major": 2,
       "version_minor": 0
      },
      "text/plain": [
       "A Jupyter Widget"
      ]
     },
     "metadata": {},
     "output_type": "display_data"
    },
    {
     "name": "stdout",
     "output_type": "stream",
     "text": [
      "\n"
     ]
    },
    {
     "data": {
      "application/vnd.jupyter.widget-view+json": {
       "model_id": "dc3e0aa3b0d54f8e9ad58de8462f4509",
       "version_major": 2,
       "version_minor": 0
      },
      "text/plain": [
       "A Jupyter Widget"
      ]
     },
     "metadata": {},
     "output_type": "display_data"
    },
    {
     "name": "stdout",
     "output_type": "stream",
     "text": [
      "\n",
      "http://mo.wikipedia.org/wiki/%D0%9B%D0%B5%D1%82%D0%BE%D0%BD%D0%B8%D1%8F\n",
      "http://mo.wikipedia.org/wiki/%D0%9B%D0%B5%D1%82%D0%BE%D0%BD%D0%B8%D1%8F\n",
      "http://mo.wikipedia.org/wiki/%D0%96%D1%83%D0%B4%D0%B5%D1%86%D0%B5%D0%BB%D0%B5_%D0%9B%D0%B5%D1%82%D0%BE%D0%BD%D0%B5%D0%B9\n",
      "http://mo.wikipedia.org/wiki/%D0%96%D1%83%D0%B4%D0%B5%D1%86%D1%83%D0%BB_%D0%90%D0%B9%D0%B7%D0%BA%D1%80%D0%B0%D1%83%D0%BA%D0%BB%D0%B5%D1%81\n",
      "http://mo.wikipedia.org/wiki/%D0%96%D1%83%D0%B4%D0%B5%D1%86%D1%83%D0%BB_%D0%90%D0%BB%D1%83%D0%BA%D1%81%D0%BD%D0%B5%D1%81\n",
      "http://mo.wikipedia.org/wiki/%D0%96%D1%83%D0%B4%D0%B5%D1%86%D1%83%D0%BB_%D0%A6%D0%B5%D1%81%D1%83\n",
      "http://mo.wikipedia.org/wiki/%D0%96%D1%83%D0%B4%D0%B5%D1%86%D1%83%D0%BB_%D0%94%D0%B0%D1%83%D0%B3%D0%B0%D0%B2%D0%BF%D0%B8%D0%BB%D1%81\n",
      "http://mo.wikipedia.org/wiki/%D0%96%D1%83%D0%B4%D0%B5%D1%86%D1%83%D0%BB_%D0%94%D0%BE%D0%B1%D0%B5%D0%BB%D0%B5%D1%81\n",
      "http://mo.wikipedia.org/wiki/%D0%96%D1%83%D0%B4%D0%B5%D1%86%D1%83%D0%BB_%D0%93%D1%83%D0%BB%D0%B1%D0%B5%D0%BD%D0%B5%D1%81\n",
      "http://mo.wikipedia.org/wiki/%D0%96%D1%83%D0%B4%D0%B5%D1%86%D1%83%D0%BB_%D0%95%D0%BA%D0%B0%D0%B1%D0%BF%D0%B8%D0%BB%D1%81\n",
      "http://mo.wikipedia.org/wiki/%D0%96%D1%83%D0%B4%D0%B5%D1%86%D1%83%D0%BB_%D0%AE%D1%80%D0%BC%D0%B0%D0%BB%D0%B0\n",
      "http://mo.wikipedia.org/wiki/%D0%96%D1%83%D0%B4%D0%B5%D1%86%D1%83%D0%BB_%D0%9A%D1%80%D0%B0%D1%81%D0%BB%D0%B0%D0%B2%D0%B0%D1%81\n",
      "http://mo.wikipedia.org/wiki/%D0%96%D1%83%D0%B4%D0%B5%D1%86%D1%83%D0%BB_%D0%9A%D1%83%D0%BB%D0%B4%D0%B8%D0%B3%D0%B0%D1%81\n",
      "http://mo.wikipedia.org/wiki/%D0%96%D1%83%D0%B4%D0%B5%D1%86%D1%83%D0%BB_%D0%9B%D0%B8%D0%BC%D0%B1%D0%B0%D0%B7%D1%83\n",
      "http://mo.wikipedia.org/wiki/%D0%96%D1%83%D0%B4%D0%B5%D1%86%D1%83%D0%BB_%D0%9C%D0%B0%D0%B4%D0%BE%D0%BD%D0%B0%D1%81\n",
      "http://mo.wikipedia.org/wiki/%D0%96%D1%83%D0%B4%D0%B5%D1%86%D1%83%D0%BB_%D0%9E%D0%B3%D1%80%D0%B5%D1%81\n",
      "http://mo.wikipedia.org/wiki/%D0%96%D1%83%D0%B4%D0%B5%D1%86%D1%83%D0%BB_%D0%9F%D1%80%D0%B5%D0%B9%D0%BB%D1%83\n",
      "http://mo.wikipedia.org/wiki/%D0%96%D1%83%D0%B4%D0%B5%D1%86%D1%83%D0%BB_%D0%A0%D0%B5%D0%B7%D0%B5%D0%BA%D0%BD%D0%B5\n",
      "http://mo.wikipedia.org/wiki/%D0%96%D1%83%D0%B4%D0%B5%D1%86%D1%83%D0%BB_%D0%A0%D0%B8%D0%B3%D0%B0\n",
      "http://mo.wikipedia.org/wiki/%D0%96%D1%83%D0%B4%D0%B5%D1%86%D1%83%D0%BB_%D0%A1%D0%B0%D0%BB%D0%B4%D1%83%D1%81\n",
      "http://mo.wikipedia.org/wiki/%D0%96%D1%83%D0%B4%D0%B5%D1%86%D1%83%D0%BB_%D0%A2%D0%B0%D0%BB%D1%81%D1%83\n",
      "http://mo.wikipedia.org/wiki/%D0%96%D1%83%D0%B4%D0%B5%D1%86%D1%83%D0%BB_%D0%A2%D1%83%D0%BA%D1%83%D0%BC%D0%B0\n",
      "http://mo.wikipedia.org/wiki/%D0%96%D1%83%D0%B4%D0%B5%D1%86%D1%83%D0%BB_%D0%92%D0%B0%D0%BB%D0%BC%D0%B8%D0%B5%D1%80%D0%B0%D1%81\n",
      "http://mo.wikipedia.org/wiki/%D0%96%D1%83%D0%B4%D0%B5%D1%86%D1%83%D0%BB_%D0%92%D0%B5%D0%BD%D1%82%D1%81%D0%BF%D0%B8%D0%BB%D1%81\n",
      "http://mo.wikipedia.org/wiki/%D0%96%D1%83%D0%B4%D0%B5%D1%86%D1%83%D0%BB_%D0%91%D0%B0%D1%83%D1%81%D0%BA%D0%B0%D1%81\n",
      "http://mo.wikipedia.org/wiki/%D0%96%D1%83%D0%B4%D0%B5%D1%86%D1%83%D0%BB_%D0%91%D0%B0%D1%83%D1%81%D0%BA%D0%B0%D1%81\n",
      "http://mo.wikipedia.org/wiki/%D0%9F%D0%B0%D3%82%D0%B8%D0%BD%D0%B0_%D0%BF%D1%80%D0%B8%D0%BD%D1%87%D0%B8%D0%BF%D0%B0%D0%BB%D1%8D\n",
      "http://mo.wikipedia.org/wiki/%D0%9F%D0%B0%D3%82%D0%B8%D0%BD%D0%B0_%D0%BF%D1%80%D0%B8%D0%BD%D1%87%D0%B8%D0%BF%D0%B0%D0%BB%D1%8D\n"
     ]
    },
    {
     "data": {
      "application/vnd.jupyter.widget-view+json": {
       "model_id": "f771410b2baf4cf68355d06e4590577a",
       "version_major": 2,
       "version_minor": 0
      },
      "text/plain": [
       "A Jupyter Widget"
      ]
     },
     "metadata": {},
     "output_type": "display_data"
    },
    {
     "name": "stdout",
     "output_type": "stream",
     "text": [
      "\n"
     ]
    },
    {
     "data": {
      "application/vnd.jupyter.widget-view+json": {
       "model_id": "454668d87ca742808c016257ac136473",
       "version_major": 2,
       "version_minor": 0
      },
      "text/plain": [
       "A Jupyter Widget"
      ]
     },
     "metadata": {},
     "output_type": "display_data"
    },
    {
     "name": "stdout",
     "output_type": "stream",
     "text": [
      "\n"
     ]
    },
    {
     "data": {
      "application/vnd.jupyter.widget-view+json": {
       "model_id": "6d433362fceb49d8af8a53a8c1e8a61b",
       "version_major": 2,
       "version_minor": 0
      },
      "text/plain": [
       "A Jupyter Widget"
      ]
     },
     "metadata": {},
     "output_type": "display_data"
    },
    {
     "name": "stdout",
     "output_type": "stream",
     "text": [
      "\n"
     ]
    },
    {
     "data": {
      "application/vnd.jupyter.widget-view+json": {
       "model_id": "84cbab6e67634de7b277b88ebec8e3f4",
       "version_major": 2,
       "version_minor": 0
      },
      "text/plain": [
       "A Jupyter Widget"
      ]
     },
     "metadata": {},
     "output_type": "display_data"
    },
    {
     "name": "stdout",
     "output_type": "stream",
     "text": [
      "\n"
     ]
    },
    {
     "data": {
      "application/vnd.jupyter.widget-view+json": {
       "model_id": "5548fa54824848e1b6fa0bf8d7303871",
       "version_major": 2,
       "version_minor": 0
      },
      "text/plain": [
       "A Jupyter Widget"
      ]
     },
     "metadata": {},
     "output_type": "display_data"
    },
    {
     "name": "stdout",
     "output_type": "stream",
     "text": [
      "\n"
     ]
    },
    {
     "data": {
      "application/vnd.jupyter.widget-view+json": {
       "model_id": "eb3c77793b6a4e17ab5f3d227909eb7d",
       "version_major": 2,
       "version_minor": 0
      },
      "text/plain": [
       "A Jupyter Widget"
      ]
     },
     "metadata": {},
     "output_type": "display_data"
    },
    {
     "name": "stdout",
     "output_type": "stream",
     "text": [
      "\n"
     ]
    },
    {
     "data": {
      "application/vnd.jupyter.widget-view+json": {
       "model_id": "06ad93e4a96847a39a93117227076f3b",
       "version_major": 2,
       "version_minor": 0
      },
      "text/plain": [
       "A Jupyter Widget"
      ]
     },
     "metadata": {},
     "output_type": "display_data"
    },
    {
     "name": "stdout",
     "output_type": "stream",
     "text": [
      "\n"
     ]
    },
    {
     "data": {
      "application/vnd.jupyter.widget-view+json": {
       "model_id": "9a2d54ceaceb4960a46795dfa9fd153c",
       "version_major": 2,
       "version_minor": 0
      },
      "text/plain": [
       "A Jupyter Widget"
      ]
     },
     "metadata": {},
     "output_type": "display_data"
    },
    {
     "name": "stdout",
     "output_type": "stream",
     "text": [
      "\n"
     ]
    },
    {
     "data": {
      "application/vnd.jupyter.widget-view+json": {
       "model_id": "f16de13d62244df59bdf5c6ad6c6479e",
       "version_major": 2,
       "version_minor": 0
      },
      "text/plain": [
       "A Jupyter Widget"
      ]
     },
     "metadata": {},
     "output_type": "display_data"
    },
    {
     "name": "stdout",
     "output_type": "stream",
     "text": [
      "\n"
     ]
    },
    {
     "data": {
      "application/vnd.jupyter.widget-view+json": {
       "model_id": "37e5e7988352457793e409c9b96ff6d1",
       "version_major": 2,
       "version_minor": 0
      },
      "text/plain": [
       "A Jupyter Widget"
      ]
     },
     "metadata": {},
     "output_type": "display_data"
    },
    {
     "name": "stdout",
     "output_type": "stream",
     "text": [
      "\n"
     ]
    },
    {
     "data": {
      "application/vnd.jupyter.widget-view+json": {
       "model_id": "de41c12f768a4215962a41d0a5675951",
       "version_major": 2,
       "version_minor": 0
      },
      "text/plain": [
       "A Jupyter Widget"
      ]
     },
     "metadata": {},
     "output_type": "display_data"
    },
    {
     "name": "stdout",
     "output_type": "stream",
     "text": [
      "\n"
     ]
    },
    {
     "data": {
      "application/vnd.jupyter.widget-view+json": {
       "model_id": "deca75bc25864a9090061e640cfcb6df",
       "version_major": 2,
       "version_minor": 0
      },
      "text/plain": [
       "A Jupyter Widget"
      ]
     },
     "metadata": {},
     "output_type": "display_data"
    },
    {
     "name": "stdout",
     "output_type": "stream",
     "text": [
      "\n"
     ]
    },
    {
     "data": {
      "application/vnd.jupyter.widget-view+json": {
       "model_id": "2d915c1ac3484b08b2d8015e0e6ad69b",
       "version_major": 2,
       "version_minor": 0
      },
      "text/plain": [
       "A Jupyter Widget"
      ]
     },
     "metadata": {},
     "output_type": "display_data"
    },
    {
     "name": "stdout",
     "output_type": "stream",
     "text": [
      "\n"
     ]
    },
    {
     "data": {
      "application/vnd.jupyter.widget-view+json": {
       "model_id": "2309c4fe00ec4f78a2d411731a7eb3ca",
       "version_major": 2,
       "version_minor": 0
      },
      "text/plain": [
       "A Jupyter Widget"
      ]
     },
     "metadata": {},
     "output_type": "display_data"
    },
    {
     "name": "stdout",
     "output_type": "stream",
     "text": [
      "\n"
     ]
    },
    {
     "data": {
      "application/vnd.jupyter.widget-view+json": {
       "model_id": "a98abf960b80472ca7d025613011811a",
       "version_major": 2,
       "version_minor": 0
      },
      "text/plain": [
       "A Jupyter Widget"
      ]
     },
     "metadata": {},
     "output_type": "display_data"
    },
    {
     "name": "stdout",
     "output_type": "stream",
     "text": [
      "\n"
     ]
    },
    {
     "data": {
      "application/vnd.jupyter.widget-view+json": {
       "model_id": "35d078a8722f4110a3c706342371a201",
       "version_major": 2,
       "version_minor": 0
      },
      "text/plain": [
       "A Jupyter Widget"
      ]
     },
     "metadata": {},
     "output_type": "display_data"
    },
    {
     "name": "stdout",
     "output_type": "stream",
     "text": [
      "\n"
     ]
    },
    {
     "data": {
      "application/vnd.jupyter.widget-view+json": {
       "model_id": "8edfdf2c3681479eb7a849252a1d79e0",
       "version_major": 2,
       "version_minor": 0
      },
      "text/plain": [
       "A Jupyter Widget"
      ]
     },
     "metadata": {},
     "output_type": "display_data"
    },
    {
     "name": "stdout",
     "output_type": "stream",
     "text": [
      "\n"
     ]
    },
    {
     "data": {
      "application/vnd.jupyter.widget-view+json": {
       "model_id": "903b56233b654c5eb1dddc4171af7201",
       "version_major": 2,
       "version_minor": 0
      },
      "text/plain": [
       "A Jupyter Widget"
      ]
     },
     "metadata": {},
     "output_type": "display_data"
    },
    {
     "name": "stdout",
     "output_type": "stream",
     "text": [
      "\n"
     ]
    },
    {
     "data": {
      "application/vnd.jupyter.widget-view+json": {
       "model_id": "14a985b9b825409fb8b2b12a93e2b208",
       "version_major": 2,
       "version_minor": 0
      },
      "text/plain": [
       "A Jupyter Widget"
      ]
     },
     "metadata": {},
     "output_type": "display_data"
    },
    {
     "name": "stdout",
     "output_type": "stream",
     "text": [
      "\n"
     ]
    },
    {
     "data": {
      "application/vnd.jupyter.widget-view+json": {
       "model_id": "136559bc843b4fc999e919479a9cfaba",
       "version_major": 2,
       "version_minor": 0
      },
      "text/plain": [
       "A Jupyter Widget"
      ]
     },
     "metadata": {},
     "output_type": "display_data"
    },
    {
     "name": "stdout",
     "output_type": "stream",
     "text": [
      "\n"
     ]
    },
    {
     "data": {
      "application/vnd.jupyter.widget-view+json": {
       "model_id": "5a9811d2860d4fc69c61665d80b1d133",
       "version_major": 2,
       "version_minor": 0
      },
      "text/plain": [
       "A Jupyter Widget"
      ]
     },
     "metadata": {},
     "output_type": "display_data"
    },
    {
     "name": "stdout",
     "output_type": "stream",
     "text": [
      "\n"
     ]
    },
    {
     "data": {
      "application/vnd.jupyter.widget-view+json": {
       "model_id": "f81a502d63e14abeb96bc76711aa9b5f",
       "version_major": 2,
       "version_minor": 0
      },
      "text/plain": [
       "A Jupyter Widget"
      ]
     },
     "metadata": {},
     "output_type": "display_data"
    },
    {
     "name": "stdout",
     "output_type": "stream",
     "text": [
      "\n"
     ]
    },
    {
     "data": {
      "application/vnd.jupyter.widget-view+json": {
       "model_id": "148e9c4a29a5457390700b968a53d624",
       "version_major": 2,
       "version_minor": 0
      },
      "text/plain": [
       "A Jupyter Widget"
      ]
     },
     "metadata": {},
     "output_type": "display_data"
    },
    {
     "name": "stdout",
     "output_type": "stream",
     "text": [
      "\n"
     ]
    },
    {
     "data": {
      "application/vnd.jupyter.widget-view+json": {
       "model_id": "7976d6597f414225b2c920c95da130e2",
       "version_major": 2,
       "version_minor": 0
      },
      "text/plain": [
       "A Jupyter Widget"
      ]
     },
     "metadata": {},
     "output_type": "display_data"
    },
    {
     "name": "stdout",
     "output_type": "stream",
     "text": [
      "\n",
      "http://mo.wikipedia.org/wiki/%D0%9B%D0%B5%D1%82%D0%BE%D0%BD%D0%B8%D1%8F\n",
      "http://mo.wikipedia.org/wiki/%D0%9B%D0%B5%D1%82%D0%BE%D0%BD%D0%B8%D1%8F\n",
      "http://mo.wikipedia.org/wiki/%D0%96%D1%83%D0%B4%D0%B5%D1%86%D0%B5%D0%BB%D0%B5_%D0%9B%D0%B5%D1%82%D0%BE%D0%BD%D0%B5%D0%B9\n",
      "http://mo.wikipedia.org/wiki/%D0%96%D1%83%D0%B4%D0%B5%D1%86%D1%83%D0%BB_%D0%90%D0%B9%D0%B7%D0%BA%D1%80%D0%B0%D1%83%D0%BA%D0%BB%D0%B5%D1%81\n",
      "http://mo.wikipedia.org/wiki/%D0%96%D1%83%D0%B4%D0%B5%D1%86%D1%83%D0%BB_%D0%91%D0%B0%D1%83%D1%81%D0%BA%D0%B0%D1%81\n",
      "http://mo.wikipedia.org/wiki/%D0%96%D1%83%D0%B4%D0%B5%D1%86%D1%83%D0%BB_%D0%A6%D0%B5%D1%81%D1%83\n",
      "http://mo.wikipedia.org/wiki/%D0%96%D1%83%D0%B4%D0%B5%D1%86%D1%83%D0%BB_%D0%94%D0%B0%D1%83%D0%B3%D0%B0%D0%B2%D0%BF%D0%B8%D0%BB%D1%81\n",
      "http://mo.wikipedia.org/wiki/%D0%96%D1%83%D0%B4%D0%B5%D1%86%D1%83%D0%BB_%D0%94%D0%BE%D0%B1%D0%B5%D0%BB%D0%B5%D1%81\n",
      "http://mo.wikipedia.org/wiki/%D0%96%D1%83%D0%B4%D0%B5%D1%86%D1%83%D0%BB_%D0%93%D1%83%D0%BB%D0%B1%D0%B5%D0%BD%D0%B5%D1%81\n",
      "http://mo.wikipedia.org/wiki/%D0%96%D1%83%D0%B4%D0%B5%D1%86%D1%83%D0%BB_%D0%95%D0%BA%D0%B0%D0%B1%D0%BF%D0%B8%D0%BB%D1%81\n",
      "http://mo.wikipedia.org/wiki/%D0%96%D1%83%D0%B4%D0%B5%D1%86%D1%83%D0%BB_%D0%AE%D1%80%D0%BC%D0%B0%D0%BB%D0%B0\n",
      "http://mo.wikipedia.org/wiki/%D0%96%D1%83%D0%B4%D0%B5%D1%86%D1%83%D0%BB_%D0%9A%D1%80%D0%B0%D1%81%D0%BB%D0%B0%D0%B2%D0%B0%D1%81\n",
      "http://mo.wikipedia.org/wiki/%D0%96%D1%83%D0%B4%D0%B5%D1%86%D1%83%D0%BB_%D0%9A%D1%83%D0%BB%D0%B4%D0%B8%D0%B3%D0%B0%D1%81\n",
      "http://mo.wikipedia.org/wiki/%D0%96%D1%83%D0%B4%D0%B5%D1%86%D1%83%D0%BB_%D0%9B%D0%B8%D0%BC%D0%B1%D0%B0%D0%B7%D1%83\n",
      "http://mo.wikipedia.org/wiki/%D0%96%D1%83%D0%B4%D0%B5%D1%86%D1%83%D0%BB_%D0%9C%D0%B0%D0%B4%D0%BE%D0%BD%D0%B0%D1%81\n",
      "http://mo.wikipedia.org/wiki/%D0%96%D1%83%D0%B4%D0%B5%D1%86%D1%83%D0%BB_%D0%9E%D0%B3%D1%80%D0%B5%D1%81\n",
      "http://mo.wikipedia.org/wiki/%D0%96%D1%83%D0%B4%D0%B5%D1%86%D1%83%D0%BB_%D0%9F%D1%80%D0%B5%D0%B9%D0%BB%D1%83\n",
      "http://mo.wikipedia.org/wiki/%D0%96%D1%83%D0%B4%D0%B5%D1%86%D1%83%D0%BB_%D0%A0%D0%B5%D0%B7%D0%B5%D0%BA%D0%BD%D0%B5\n",
      "http://mo.wikipedia.org/wiki/%D0%96%D1%83%D0%B4%D0%B5%D1%86%D1%83%D0%BB_%D0%A0%D0%B8%D0%B3%D0%B0\n",
      "http://mo.wikipedia.org/wiki/%D0%96%D1%83%D0%B4%D0%B5%D1%86%D1%83%D0%BB_%D0%A1%D0%B0%D0%BB%D0%B4%D1%83%D1%81\n",
      "http://mo.wikipedia.org/wiki/%D0%96%D1%83%D0%B4%D0%B5%D1%86%D1%83%D0%BB_%D0%A2%D0%B0%D0%BB%D1%81%D1%83\n",
      "http://mo.wikipedia.org/wiki/%D0%96%D1%83%D0%B4%D0%B5%D1%86%D1%83%D0%BB_%D0%A2%D1%83%D0%BA%D1%83%D0%BC%D0%B0\n",
      "http://mo.wikipedia.org/wiki/%D0%96%D1%83%D0%B4%D0%B5%D1%86%D1%83%D0%BB_%D0%92%D0%B0%D0%BB%D0%BC%D0%B8%D0%B5%D1%80%D0%B0%D1%81\n",
      "http://mo.wikipedia.org/wiki/%D0%96%D1%83%D0%B4%D0%B5%D1%86%D1%83%D0%BB_%D0%92%D0%B5%D0%BD%D1%82%D1%81%D0%BF%D0%B8%D0%BB%D1%81\n",
      "http://mo.wikipedia.org/wiki/%D0%96%D1%83%D0%B4%D0%B5%D1%86%D1%83%D0%BB_%D0%90%D0%BB%D1%83%D0%BA%D1%81%D0%BD%D0%B5%D1%81\n",
      "http://mo.wikipedia.org/wiki/%D0%96%D1%83%D0%B4%D0%B5%D1%86%D1%83%D0%BB_%D0%90%D0%BB%D1%83%D0%BA%D1%81%D0%BD%D0%B5%D1%81\n",
      "http://mo.wikipedia.org/wiki/%D0%9F%D0%B0%D3%82%D0%B8%D0%BD%D0%B0_%D0%BF%D1%80%D0%B8%D0%BD%D1%87%D0%B8%D0%BF%D0%B0%D0%BB%D1%8D\n",
      "http://mo.wikipedia.org/wiki/%D0%9F%D0%B0%D3%82%D0%B8%D0%BD%D0%B0_%D0%BF%D1%80%D0%B8%D0%BD%D1%87%D0%B8%D0%BF%D0%B0%D0%BB%D1%8D\n"
     ]
    },
    {
     "data": {
      "application/vnd.jupyter.widget-view+json": {
       "model_id": "2f15e076145c42f6aa4df588e842fa90",
       "version_major": 2,
       "version_minor": 0
      },
      "text/plain": [
       "A Jupyter Widget"
      ]
     },
     "metadata": {},
     "output_type": "display_data"
    },
    {
     "name": "stdout",
     "output_type": "stream",
     "text": [
      "\n"
     ]
    },
    {
     "data": {
      "application/vnd.jupyter.widget-view+json": {
       "model_id": "b1d967ed6d764884915c0a5f3d5023bc",
       "version_major": 2,
       "version_minor": 0
      },
      "text/plain": [
       "A Jupyter Widget"
      ]
     },
     "metadata": {},
     "output_type": "display_data"
    },
    {
     "name": "stdout",
     "output_type": "stream",
     "text": [
      "\n"
     ]
    },
    {
     "data": {
      "application/vnd.jupyter.widget-view+json": {
       "model_id": "3470a152607c4f3f8a663d01090b04ea",
       "version_major": 2,
       "version_minor": 0
      },
      "text/plain": [
       "A Jupyter Widget"
      ]
     },
     "metadata": {},
     "output_type": "display_data"
    },
    {
     "name": "stdout",
     "output_type": "stream",
     "text": [
      "\n"
     ]
    },
    {
     "data": {
      "application/vnd.jupyter.widget-view+json": {
       "model_id": "68306c7b330f4b8c869ea1816e29bead",
       "version_major": 2,
       "version_minor": 0
      },
      "text/plain": [
       "A Jupyter Widget"
      ]
     },
     "metadata": {},
     "output_type": "display_data"
    },
    {
     "name": "stdout",
     "output_type": "stream",
     "text": [
      "\n"
     ]
    },
    {
     "data": {
      "application/vnd.jupyter.widget-view+json": {
       "model_id": "7ca36cbd30f74b31b11a1e23d6d92cb5",
       "version_major": 2,
       "version_minor": 0
      },
      "text/plain": [
       "A Jupyter Widget"
      ]
     },
     "metadata": {},
     "output_type": "display_data"
    },
    {
     "name": "stdout",
     "output_type": "stream",
     "text": [
      "\n"
     ]
    },
    {
     "data": {
      "application/vnd.jupyter.widget-view+json": {
       "model_id": "d6b1217d78b4468e860c11e2d50d57ad",
       "version_major": 2,
       "version_minor": 0
      },
      "text/plain": [
       "A Jupyter Widget"
      ]
     },
     "metadata": {},
     "output_type": "display_data"
    },
    {
     "name": "stdout",
     "output_type": "stream",
     "text": [
      "\n"
     ]
    },
    {
     "data": {
      "application/vnd.jupyter.widget-view+json": {
       "model_id": "93022692d0864307ad2807d142214e40",
       "version_major": 2,
       "version_minor": 0
      },
      "text/plain": [
       "A Jupyter Widget"
      ]
     },
     "metadata": {},
     "output_type": "display_data"
    },
    {
     "name": "stdout",
     "output_type": "stream",
     "text": [
      "\n"
     ]
    },
    {
     "data": {
      "application/vnd.jupyter.widget-view+json": {
       "model_id": "96abb14605ec4b9db20ddb564ef52796",
       "version_major": 2,
       "version_minor": 0
      },
      "text/plain": [
       "A Jupyter Widget"
      ]
     },
     "metadata": {},
     "output_type": "display_data"
    },
    {
     "name": "stdout",
     "output_type": "stream",
     "text": [
      "\n"
     ]
    },
    {
     "data": {
      "application/vnd.jupyter.widget-view+json": {
       "model_id": "04d32df212774c65a2d940a8f5d529c3",
       "version_major": 2,
       "version_minor": 0
      },
      "text/plain": [
       "A Jupyter Widget"
      ]
     },
     "metadata": {},
     "output_type": "display_data"
    },
    {
     "name": "stdout",
     "output_type": "stream",
     "text": [
      "\n"
     ]
    },
    {
     "data": {
      "application/vnd.jupyter.widget-view+json": {
       "model_id": "c254e814bfdf43f39551d50957f8a568",
       "version_major": 2,
       "version_minor": 0
      },
      "text/plain": [
       "A Jupyter Widget"
      ]
     },
     "metadata": {},
     "output_type": "display_data"
    },
    {
     "name": "stdout",
     "output_type": "stream",
     "text": [
      "\n"
     ]
    },
    {
     "data": {
      "application/vnd.jupyter.widget-view+json": {
       "model_id": "053ab5e4eb6443f7920362d96ff93af4",
       "version_major": 2,
       "version_minor": 0
      },
      "text/plain": [
       "A Jupyter Widget"
      ]
     },
     "metadata": {},
     "output_type": "display_data"
    },
    {
     "name": "stdout",
     "output_type": "stream",
     "text": [
      "\n"
     ]
    },
    {
     "data": {
      "application/vnd.jupyter.widget-view+json": {
       "model_id": "6f1101332b7147f2af99b903657f45f9",
       "version_major": 2,
       "version_minor": 0
      },
      "text/plain": [
       "A Jupyter Widget"
      ]
     },
     "metadata": {},
     "output_type": "display_data"
    },
    {
     "name": "stdout",
     "output_type": "stream",
     "text": [
      "\n"
     ]
    },
    {
     "data": {
      "application/vnd.jupyter.widget-view+json": {
       "model_id": "4fd38f1e245a482da33971ae3dd2373e",
       "version_major": 2,
       "version_minor": 0
      },
      "text/plain": [
       "A Jupyter Widget"
      ]
     },
     "metadata": {},
     "output_type": "display_data"
    },
    {
     "name": "stdout",
     "output_type": "stream",
     "text": [
      "\n"
     ]
    },
    {
     "data": {
      "application/vnd.jupyter.widget-view+json": {
       "model_id": "fde2b4efcada41dd9f60f7f4d7bb578a",
       "version_major": 2,
       "version_minor": 0
      },
      "text/plain": [
       "A Jupyter Widget"
      ]
     },
     "metadata": {},
     "output_type": "display_data"
    },
    {
     "name": "stdout",
     "output_type": "stream",
     "text": [
      "\n"
     ]
    },
    {
     "data": {
      "application/vnd.jupyter.widget-view+json": {
       "model_id": "9ce80c52b9a64fce922f27ea7f4abf10",
       "version_major": 2,
       "version_minor": 0
      },
      "text/plain": [
       "A Jupyter Widget"
      ]
     },
     "metadata": {},
     "output_type": "display_data"
    },
    {
     "name": "stdout",
     "output_type": "stream",
     "text": [
      "\n"
     ]
    },
    {
     "data": {
      "application/vnd.jupyter.widget-view+json": {
       "model_id": "4f30087b5d8d45c68cdae5dec858bc2b",
       "version_major": 2,
       "version_minor": 0
      },
      "text/plain": [
       "A Jupyter Widget"
      ]
     },
     "metadata": {},
     "output_type": "display_data"
    },
    {
     "name": "stdout",
     "output_type": "stream",
     "text": [
      "\n"
     ]
    },
    {
     "data": {
      "application/vnd.jupyter.widget-view+json": {
       "model_id": "54ac6a99925b4614ba4090b90eefae30",
       "version_major": 2,
       "version_minor": 0
      },
      "text/plain": [
       "A Jupyter Widget"
      ]
     },
     "metadata": {},
     "output_type": "display_data"
    },
    {
     "name": "stdout",
     "output_type": "stream",
     "text": [
      "\n"
     ]
    },
    {
     "data": {
      "application/vnd.jupyter.widget-view+json": {
       "model_id": "9ddc1aa8c59b47439715be164568aa6e",
       "version_major": 2,
       "version_minor": 0
      },
      "text/plain": [
       "A Jupyter Widget"
      ]
     },
     "metadata": {},
     "output_type": "display_data"
    },
    {
     "name": "stdout",
     "output_type": "stream",
     "text": [
      "\n"
     ]
    },
    {
     "data": {
      "application/vnd.jupyter.widget-view+json": {
       "model_id": "14e0f3e1dee24c86be3893aeebe4d0eb",
       "version_major": 2,
       "version_minor": 0
      },
      "text/plain": [
       "A Jupyter Widget"
      ]
     },
     "metadata": {},
     "output_type": "display_data"
    },
    {
     "name": "stdout",
     "output_type": "stream",
     "text": [
      "\n"
     ]
    },
    {
     "data": {
      "application/vnd.jupyter.widget-view+json": {
       "model_id": "28da1b3d28a64cc08a78d5446c140891",
       "version_major": 2,
       "version_minor": 0
      },
      "text/plain": [
       "A Jupyter Widget"
      ]
     },
     "metadata": {},
     "output_type": "display_data"
    },
    {
     "name": "stdout",
     "output_type": "stream",
     "text": [
      "\n"
     ]
    },
    {
     "data": {
      "application/vnd.jupyter.widget-view+json": {
       "model_id": "9b950b572efd4518b5d68bdca31b8a3f",
       "version_major": 2,
       "version_minor": 0
      },
      "text/plain": [
       "A Jupyter Widget"
      ]
     },
     "metadata": {},
     "output_type": "display_data"
    },
    {
     "name": "stdout",
     "output_type": "stream",
     "text": [
      "\n"
     ]
    },
    {
     "data": {
      "application/vnd.jupyter.widget-view+json": {
       "model_id": "4c44f36501c244deaa46aaaa7ca50ca4",
       "version_major": 2,
       "version_minor": 0
      },
      "text/plain": [
       "A Jupyter Widget"
      ]
     },
     "metadata": {},
     "output_type": "display_data"
    },
    {
     "name": "stdout",
     "output_type": "stream",
     "text": [
      "\n"
     ]
    },
    {
     "data": {
      "application/vnd.jupyter.widget-view+json": {
       "model_id": "bad75beb8b0c4fc599c4291831118657",
       "version_major": 2,
       "version_minor": 0
      },
      "text/plain": [
       "A Jupyter Widget"
      ]
     },
     "metadata": {},
     "output_type": "display_data"
    },
    {
     "name": "stdout",
     "output_type": "stream",
     "text": [
      "\n"
     ]
    },
    {
     "data": {
      "application/vnd.jupyter.widget-view+json": {
       "model_id": "c8eb5493c9554e38ba79cdf39cb2fc91",
       "version_major": 2,
       "version_minor": 0
      },
      "text/plain": [
       "A Jupyter Widget"
      ]
     },
     "metadata": {},
     "output_type": "display_data"
    },
    {
     "name": "stdout",
     "output_type": "stream",
     "text": [
      "\n"
     ]
    },
    {
     "data": {
      "application/vnd.jupyter.widget-view+json": {
       "model_id": "83634f8490b043db9a36f4526f7c5823",
       "version_major": 2,
       "version_minor": 0
      },
      "text/plain": [
       "A Jupyter Widget"
      ]
     },
     "metadata": {},
     "output_type": "display_data"
    },
    {
     "name": "stdout",
     "output_type": "stream",
     "text": [
      "\n",
      "http://mo.wikipedia.org/wiki/%D0%9B%D0%B5%D1%82%D0%BE%D0%BD%D0%B8%D1%8F\n",
      "http://mo.wikipedia.org/wiki/%D0%9B%D0%B5%D1%82%D0%BE%D0%BD%D0%B8%D1%8F\n",
      "http://mo.wikipedia.org/wiki/%D0%96%D1%83%D0%B4%D0%B5%D1%86%D0%B5%D0%BB%D0%B5_%D0%9B%D0%B5%D1%82%D0%BE%D0%BD%D0%B5%D0%B9\n",
      "http://mo.wikipedia.org/wiki/%D0%96%D1%83%D0%B4%D0%B5%D1%86%D1%83%D0%BB_%D0%90%D0%BB%D1%83%D0%BA%D1%81%D0%BD%D0%B5%D1%81\n",
      "http://mo.wikipedia.org/wiki/%D0%96%D1%83%D0%B4%D0%B5%D1%86%D1%83%D0%BB_%D0%91%D0%B0%D1%83%D1%81%D0%BA%D0%B0%D1%81\n",
      "http://mo.wikipedia.org/wiki/%D0%96%D1%83%D0%B4%D0%B5%D1%86%D1%83%D0%BB_%D0%A6%D0%B5%D1%81%D1%83\n",
      "http://mo.wikipedia.org/wiki/%D0%96%D1%83%D0%B4%D0%B5%D1%86%D1%83%D0%BB_%D0%94%D0%B0%D1%83%D0%B3%D0%B0%D0%B2%D0%BF%D0%B8%D0%BB%D1%81\n",
      "http://mo.wikipedia.org/wiki/%D0%96%D1%83%D0%B4%D0%B5%D1%86%D1%83%D0%BB_%D0%94%D0%BE%D0%B1%D0%B5%D0%BB%D0%B5%D1%81\n",
      "http://mo.wikipedia.org/wiki/%D0%96%D1%83%D0%B4%D0%B5%D1%86%D1%83%D0%BB_%D0%93%D1%83%D0%BB%D0%B1%D0%B5%D0%BD%D0%B5%D1%81\n",
      "http://mo.wikipedia.org/wiki/%D0%96%D1%83%D0%B4%D0%B5%D1%86%D1%83%D0%BB_%D0%95%D0%BA%D0%B0%D0%B1%D0%BF%D0%B8%D0%BB%D1%81\n",
      "http://mo.wikipedia.org/wiki/%D0%96%D1%83%D0%B4%D0%B5%D1%86%D1%83%D0%BB_%D0%AE%D1%80%D0%BC%D0%B0%D0%BB%D0%B0\n",
      "http://mo.wikipedia.org/wiki/%D0%96%D1%83%D0%B4%D0%B5%D1%86%D1%83%D0%BB_%D0%9A%D1%80%D0%B0%D1%81%D0%BB%D0%B0%D0%B2%D0%B0%D1%81\n",
      "http://mo.wikipedia.org/wiki/%D0%96%D1%83%D0%B4%D0%B5%D1%86%D1%83%D0%BB_%D0%9A%D1%83%D0%BB%D0%B4%D0%B8%D0%B3%D0%B0%D1%81\n",
      "http://mo.wikipedia.org/wiki/%D0%96%D1%83%D0%B4%D0%B5%D1%86%D1%83%D0%BB_%D0%9B%D0%B8%D0%BC%D0%B1%D0%B0%D0%B7%D1%83\n",
      "http://mo.wikipedia.org/wiki/%D0%96%D1%83%D0%B4%D0%B5%D1%86%D1%83%D0%BB_%D0%9C%D0%B0%D0%B4%D0%BE%D0%BD%D0%B0%D1%81\n",
      "http://mo.wikipedia.org/wiki/%D0%96%D1%83%D0%B4%D0%B5%D1%86%D1%83%D0%BB_%D0%9E%D0%B3%D1%80%D0%B5%D1%81\n",
      "http://mo.wikipedia.org/wiki/%D0%96%D1%83%D0%B4%D0%B5%D1%86%D1%83%D0%BB_%D0%9F%D1%80%D0%B5%D0%B9%D0%BB%D1%83\n",
      "http://mo.wikipedia.org/wiki/%D0%96%D1%83%D0%B4%D0%B5%D1%86%D1%83%D0%BB_%D0%A0%D0%B5%D0%B7%D0%B5%D0%BA%D0%BD%D0%B5\n",
      "http://mo.wikipedia.org/wiki/%D0%96%D1%83%D0%B4%D0%B5%D1%86%D1%83%D0%BB_%D0%A0%D0%B8%D0%B3%D0%B0\n",
      "http://mo.wikipedia.org/wiki/%D0%96%D1%83%D0%B4%D0%B5%D1%86%D1%83%D0%BB_%D0%A1%D0%B0%D0%BB%D0%B4%D1%83%D1%81\n",
      "http://mo.wikipedia.org/wiki/%D0%96%D1%83%D0%B4%D0%B5%D1%86%D1%83%D0%BB_%D0%A2%D0%B0%D0%BB%D1%81%D1%83\n",
      "http://mo.wikipedia.org/wiki/%D0%96%D1%83%D0%B4%D0%B5%D1%86%D1%83%D0%BB_%D0%A2%D1%83%D0%BA%D1%83%D0%BC%D0%B0\n",
      "http://mo.wikipedia.org/wiki/%D0%96%D1%83%D0%B4%D0%B5%D1%86%D1%83%D0%BB_%D0%92%D0%B0%D0%BB%D0%BC%D0%B8%D0%B5%D1%80%D0%B0%D1%81\n",
      "http://mo.wikipedia.org/wiki/%D0%96%D1%83%D0%B4%D0%B5%D1%86%D1%83%D0%BB_%D0%92%D0%B5%D0%BD%D1%82%D1%81%D0%BF%D0%B8%D0%BB%D1%81\n",
      "http://mo.wikipedia.org/wiki/%D0%96%D1%83%D0%B4%D0%B5%D1%86%D1%83%D0%BB_%D0%90%D0%B9%D0%B7%D0%BA%D1%80%D0%B0%D1%83%D0%BA%D0%BB%D0%B5%D1%81\n",
      "http://mo.wikipedia.org/wiki/%D0%96%D1%83%D0%B4%D0%B5%D1%86%D1%83%D0%BB_%D0%90%D0%B9%D0%B7%D0%BA%D1%80%D0%B0%D1%83%D0%BA%D0%BB%D0%B5%D1%81\n",
      "http://mo.wikipedia.org/wiki/%D0%9F%D0%B0%D3%82%D0%B8%D0%BD%D0%B0_%D0%BF%D1%80%D0%B8%D0%BD%D1%87%D0%B8%D0%BF%D0%B0%D0%BB%D1%8D\n",
      "http://mo.wikipedia.org/wiki/%D0%9F%D0%B0%D3%82%D0%B8%D0%BD%D0%B0_%D0%BF%D1%80%D0%B8%D0%BD%D1%87%D0%B8%D0%BF%D0%B0%D0%BB%D1%8D\n"
     ]
    },
    {
     "data": {
      "application/vnd.jupyter.widget-view+json": {
       "model_id": "418246c5eab24b58950caa2786c88906",
       "version_major": 2,
       "version_minor": 0
      },
      "text/plain": [
       "A Jupyter Widget"
      ]
     },
     "metadata": {},
     "output_type": "display_data"
    },
    {
     "name": "stdout",
     "output_type": "stream",
     "text": [
      "\n"
     ]
    },
    {
     "data": {
      "application/vnd.jupyter.widget-view+json": {
       "model_id": "a2aa9d86f40844acb907891d348ad70f",
       "version_major": 2,
       "version_minor": 0
      },
      "text/plain": [
       "A Jupyter Widget"
      ]
     },
     "metadata": {},
     "output_type": "display_data"
    },
    {
     "name": "stdout",
     "output_type": "stream",
     "text": [
      "\n"
     ]
    },
    {
     "data": {
      "application/vnd.jupyter.widget-view+json": {
       "model_id": "b0058e56f53e46ae87ffb8b9100104b8",
       "version_major": 2,
       "version_minor": 0
      },
      "text/plain": [
       "A Jupyter Widget"
      ]
     },
     "metadata": {},
     "output_type": "display_data"
    },
    {
     "name": "stdout",
     "output_type": "stream",
     "text": [
      "\n"
     ]
    },
    {
     "data": {
      "application/vnd.jupyter.widget-view+json": {
       "model_id": "97e3017c9bcb4df08e0732095144f832",
       "version_major": 2,
       "version_minor": 0
      },
      "text/plain": [
       "A Jupyter Widget"
      ]
     },
     "metadata": {},
     "output_type": "display_data"
    },
    {
     "name": "stdout",
     "output_type": "stream",
     "text": [
      "\n"
     ]
    },
    {
     "data": {
      "application/vnd.jupyter.widget-view+json": {
       "model_id": "d7690db6970349c2964278777a48db31",
       "version_major": 2,
       "version_minor": 0
      },
      "text/plain": [
       "A Jupyter Widget"
      ]
     },
     "metadata": {},
     "output_type": "display_data"
    },
    {
     "name": "stdout",
     "output_type": "stream",
     "text": [
      "\n"
     ]
    },
    {
     "data": {
      "application/vnd.jupyter.widget-view+json": {
       "model_id": "0ade41276ac44da9a4b52f79160316d3",
       "version_major": 2,
       "version_minor": 0
      },
      "text/plain": [
       "A Jupyter Widget"
      ]
     },
     "metadata": {},
     "output_type": "display_data"
    },
    {
     "name": "stdout",
     "output_type": "stream",
     "text": [
      "\n"
     ]
    },
    {
     "data": {
      "application/vnd.jupyter.widget-view+json": {
       "model_id": "7ed20de717b543d9a457df1085cd41f2",
       "version_major": 2,
       "version_minor": 0
      },
      "text/plain": [
       "A Jupyter Widget"
      ]
     },
     "metadata": {},
     "output_type": "display_data"
    },
    {
     "name": "stdout",
     "output_type": "stream",
     "text": [
      "\n"
     ]
    },
    {
     "data": {
      "application/vnd.jupyter.widget-view+json": {
       "model_id": "e04f3bed1716448faf3e8cfca90dada6",
       "version_major": 2,
       "version_minor": 0
      },
      "text/plain": [
       "A Jupyter Widget"
      ]
     },
     "metadata": {},
     "output_type": "display_data"
    },
    {
     "name": "stdout",
     "output_type": "stream",
     "text": [
      "\n"
     ]
    },
    {
     "data": {
      "application/vnd.jupyter.widget-view+json": {
       "model_id": "1ee0c6eb5096476d8e5420fb96b8467c",
       "version_major": 2,
       "version_minor": 0
      },
      "text/plain": [
       "A Jupyter Widget"
      ]
     },
     "metadata": {},
     "output_type": "display_data"
    },
    {
     "name": "stdout",
     "output_type": "stream",
     "text": [
      "\n"
     ]
    },
    {
     "data": {
      "application/vnd.jupyter.widget-view+json": {
       "model_id": "d49e10c22c7f4bdd95af9e5575c21438",
       "version_major": 2,
       "version_minor": 0
      },
      "text/plain": [
       "A Jupyter Widget"
      ]
     },
     "metadata": {},
     "output_type": "display_data"
    },
    {
     "name": "stdout",
     "output_type": "stream",
     "text": [
      "\n"
     ]
    },
    {
     "data": {
      "application/vnd.jupyter.widget-view+json": {
       "model_id": "6586f60e24784d558e37284a0190f8b1",
       "version_major": 2,
       "version_minor": 0
      },
      "text/plain": [
       "A Jupyter Widget"
      ]
     },
     "metadata": {},
     "output_type": "display_data"
    },
    {
     "name": "stdout",
     "output_type": "stream",
     "text": [
      "\n"
     ]
    },
    {
     "data": {
      "application/vnd.jupyter.widget-view+json": {
       "model_id": "c3054b79202a4cc4b202b6b85c0b5682",
       "version_major": 2,
       "version_minor": 0
      },
      "text/plain": [
       "A Jupyter Widget"
      ]
     },
     "metadata": {},
     "output_type": "display_data"
    },
    {
     "name": "stdout",
     "output_type": "stream",
     "text": [
      "\n"
     ]
    },
    {
     "data": {
      "application/vnd.jupyter.widget-view+json": {
       "model_id": "217f0f6a82734b698853d5a29e7b1d95",
       "version_major": 2,
       "version_minor": 0
      },
      "text/plain": [
       "A Jupyter Widget"
      ]
     },
     "metadata": {},
     "output_type": "display_data"
    },
    {
     "name": "stdout",
     "output_type": "stream",
     "text": [
      "\n"
     ]
    },
    {
     "data": {
      "application/vnd.jupyter.widget-view+json": {
       "model_id": "2d423d53033343798abc9283930b14ea",
       "version_major": 2,
       "version_minor": 0
      },
      "text/plain": [
       "A Jupyter Widget"
      ]
     },
     "metadata": {},
     "output_type": "display_data"
    },
    {
     "name": "stdout",
     "output_type": "stream",
     "text": [
      "\n"
     ]
    },
    {
     "data": {
      "application/vnd.jupyter.widget-view+json": {
       "model_id": "c4a408fe5bb04c16a4ff99869c5ff328",
       "version_major": 2,
       "version_minor": 0
      },
      "text/plain": [
       "A Jupyter Widget"
      ]
     },
     "metadata": {},
     "output_type": "display_data"
    },
    {
     "name": "stdout",
     "output_type": "stream",
     "text": [
      "\n"
     ]
    },
    {
     "data": {
      "application/vnd.jupyter.widget-view+json": {
       "model_id": "26b8d0c3d0904af897b2942334a23bf7",
       "version_major": 2,
       "version_minor": 0
      },
      "text/plain": [
       "A Jupyter Widget"
      ]
     },
     "metadata": {},
     "output_type": "display_data"
    },
    {
     "name": "stdout",
     "output_type": "stream",
     "text": [
      "\n"
     ]
    },
    {
     "data": {
      "application/vnd.jupyter.widget-view+json": {
       "model_id": "45655f854bb94d6691e82fd9046fc0c5",
       "version_major": 2,
       "version_minor": 0
      },
      "text/plain": [
       "A Jupyter Widget"
      ]
     },
     "metadata": {},
     "output_type": "display_data"
    },
    {
     "name": "stdout",
     "output_type": "stream",
     "text": [
      "\n"
     ]
    },
    {
     "data": {
      "application/vnd.jupyter.widget-view+json": {
       "model_id": "c9e94df89403421d82857357dd4623c5",
       "version_major": 2,
       "version_minor": 0
      },
      "text/plain": [
       "A Jupyter Widget"
      ]
     },
     "metadata": {},
     "output_type": "display_data"
    },
    {
     "name": "stdout",
     "output_type": "stream",
     "text": [
      "\n"
     ]
    },
    {
     "data": {
      "application/vnd.jupyter.widget-view+json": {
       "model_id": "86edcf1db3864b20833fae50a6587954",
       "version_major": 2,
       "version_minor": 0
      },
      "text/plain": [
       "A Jupyter Widget"
      ]
     },
     "metadata": {},
     "output_type": "display_data"
    },
    {
     "name": "stdout",
     "output_type": "stream",
     "text": [
      "\n"
     ]
    },
    {
     "data": {
      "application/vnd.jupyter.widget-view+json": {
       "model_id": "070933afab684ad38ecd72ed06e4f11c",
       "version_major": 2,
       "version_minor": 0
      },
      "text/plain": [
       "A Jupyter Widget"
      ]
     },
     "metadata": {},
     "output_type": "display_data"
    },
    {
     "name": "stdout",
     "output_type": "stream",
     "text": [
      "\n"
     ]
    },
    {
     "data": {
      "application/vnd.jupyter.widget-view+json": {
       "model_id": "7284b011ea554f97ae185023b52119c0",
       "version_major": 2,
       "version_minor": 0
      },
      "text/plain": [
       "A Jupyter Widget"
      ]
     },
     "metadata": {},
     "output_type": "display_data"
    },
    {
     "name": "stdout",
     "output_type": "stream",
     "text": [
      "\n"
     ]
    },
    {
     "data": {
      "application/vnd.jupyter.widget-view+json": {
       "model_id": "bf64ed414ff7497f83f763a80cc489d5",
       "version_major": 2,
       "version_minor": 0
      },
      "text/plain": [
       "A Jupyter Widget"
      ]
     },
     "metadata": {},
     "output_type": "display_data"
    },
    {
     "name": "stdout",
     "output_type": "stream",
     "text": [
      "\n"
     ]
    },
    {
     "data": {
      "application/vnd.jupyter.widget-view+json": {
       "model_id": "2c9d4349b8c14daeae63bd08ef4b6769",
       "version_major": 2,
       "version_minor": 0
      },
      "text/plain": [
       "A Jupyter Widget"
      ]
     },
     "metadata": {},
     "output_type": "display_data"
    },
    {
     "name": "stdout",
     "output_type": "stream",
     "text": [
      "\n"
     ]
    },
    {
     "data": {
      "application/vnd.jupyter.widget-view+json": {
       "model_id": "f160340c358a486c9a6d6b229c6ec10e",
       "version_major": 2,
       "version_minor": 0
      },
      "text/plain": [
       "A Jupyter Widget"
      ]
     },
     "metadata": {},
     "output_type": "display_data"
    },
    {
     "name": "stdout",
     "output_type": "stream",
     "text": [
      "\n"
     ]
    },
    {
     "data": {
      "application/vnd.jupyter.widget-view+json": {
       "model_id": "5ee4dcf1d5ba462c82e0154e11a6cd2c",
       "version_major": 2,
       "version_minor": 0
      },
      "text/plain": [
       "A Jupyter Widget"
      ]
     },
     "metadata": {},
     "output_type": "display_data"
    },
    {
     "name": "stdout",
     "output_type": "stream",
     "text": [
      "\n"
     ]
    },
    {
     "data": {
      "application/vnd.jupyter.widget-view+json": {
       "model_id": "c0233c14971b40f3b7f778559b79e603",
       "version_major": 2,
       "version_minor": 0
      },
      "text/plain": [
       "A Jupyter Widget"
      ]
     },
     "metadata": {},
     "output_type": "display_data"
    },
    {
     "name": "stdout",
     "output_type": "stream",
     "text": [
      "\n",
      "http://mo.wikipedia.org/wiki/%D0%9B%D0%B5%D1%82%D0%BE%D0%BD%D0%B8%D1%8F\n",
      "http://mo.wikipedia.org/wiki/%D0%96%D1%83%D0%B4%D0%B5%D1%86%D1%83%D0%BB_%D0%90%D0%B9%D0%B7%D0%BA%D1%80%D0%B0%D1%83%D0%BA%D0%BB%D0%B5%D1%81\n",
      "http://mo.wikipedia.org/wiki/%D0%96%D1%83%D0%B4%D0%B5%D1%86%D1%83%D0%BB_%D0%90%D0%BB%D1%83%D0%BA%D1%81%D0%BD%D0%B5%D1%81\n",
      "http://mo.wikipedia.org/wiki/%D0%96%D1%83%D0%B4%D0%B5%D1%86%D1%83%D0%BB_%D0%91%D0%B0%D1%83%D1%81%D0%BA%D0%B0%D1%81\n",
      "http://mo.wikipedia.org/wiki/%D0%96%D1%83%D0%B4%D0%B5%D1%86%D1%83%D0%BB_%D0%A6%D0%B5%D1%81%D1%83\n",
      "http://mo.wikipedia.org/wiki/%D0%96%D1%83%D0%B4%D0%B5%D1%86%D1%83%D0%BB_%D0%94%D0%B0%D1%83%D0%B3%D0%B0%D0%B2%D0%BF%D0%B8%D0%BB%D1%81\n",
      "http://mo.wikipedia.org/wiki/%D0%96%D1%83%D0%B4%D0%B5%D1%86%D1%83%D0%BB_%D0%94%D0%BE%D0%B1%D0%B5%D0%BB%D0%B5%D1%81\n",
      "http://mo.wikipedia.org/wiki/%D0%96%D1%83%D0%B4%D0%B5%D1%86%D1%83%D0%BB_%D0%93%D1%83%D0%BB%D0%B1%D0%B5%D0%BD%D0%B5%D1%81\n",
      "http://mo.wikipedia.org/wiki/%D0%96%D1%83%D0%B4%D0%B5%D1%86%D1%83%D0%BB_%D0%95%D0%BA%D0%B0%D0%B1%D0%BF%D0%B8%D0%BB%D1%81\n",
      "http://mo.wikipedia.org/wiki/%D0%96%D1%83%D0%B4%D0%B5%D1%86%D1%83%D0%BB_%D0%AE%D1%80%D0%BC%D0%B0%D0%BB%D0%B0\n",
      "http://mo.wikipedia.org/wiki/%D0%96%D1%83%D0%B4%D0%B5%D1%86%D1%83%D0%BB_%D0%9A%D1%80%D0%B0%D1%81%D0%BB%D0%B0%D0%B2%D0%B0%D1%81\n",
      "http://mo.wikipedia.org/wiki/%D0%96%D1%83%D0%B4%D0%B5%D1%86%D1%83%D0%BB_%D0%9A%D1%83%D0%BB%D0%B4%D0%B8%D0%B3%D0%B0%D1%81\n",
      "http://mo.wikipedia.org/wiki/%D0%96%D1%83%D0%B4%D0%B5%D1%86%D1%83%D0%BB_%D0%9B%D0%B8%D0%BC%D0%B1%D0%B0%D0%B7%D1%83\n",
      "http://mo.wikipedia.org/wiki/%D0%96%D1%83%D0%B4%D0%B5%D1%86%D1%83%D0%BB_%D0%9C%D0%B0%D0%B4%D0%BE%D0%BD%D0%B0%D1%81\n",
      "http://mo.wikipedia.org/wiki/%D0%96%D1%83%D0%B4%D0%B5%D1%86%D1%83%D0%BB_%D0%9E%D0%B3%D1%80%D0%B5%D1%81\n",
      "http://mo.wikipedia.org/wiki/%D0%96%D1%83%D0%B4%D0%B5%D1%86%D1%83%D0%BB_%D0%9F%D1%80%D0%B5%D0%B9%D0%BB%D1%83\n",
      "http://mo.wikipedia.org/wiki/%D0%96%D1%83%D0%B4%D0%B5%D1%86%D1%83%D0%BB_%D0%A0%D0%B5%D0%B7%D0%B5%D0%BA%D0%BD%D0%B5\n",
      "http://mo.wikipedia.org/wiki/%D0%96%D1%83%D0%B4%D0%B5%D1%86%D1%83%D0%BB_%D0%A0%D0%B8%D0%B3%D0%B0\n",
      "http://mo.wikipedia.org/wiki/%D0%96%D1%83%D0%B4%D0%B5%D1%86%D1%83%D0%BB_%D0%A1%D0%B0%D0%BB%D0%B4%D1%83%D1%81\n",
      "http://mo.wikipedia.org/wiki/%D0%96%D1%83%D0%B4%D0%B5%D1%86%D1%83%D0%BB_%D0%A2%D0%B0%D0%BB%D1%81%D1%83\n",
      "http://mo.wikipedia.org/wiki/%D0%96%D1%83%D0%B4%D0%B5%D1%86%D1%83%D0%BB_%D0%A2%D1%83%D0%BA%D1%83%D0%BC%D0%B0\n",
      "http://mo.wikipedia.org/wiki/%D0%96%D1%83%D0%B4%D0%B5%D1%86%D1%83%D0%BB_%D0%92%D0%B0%D0%BB%D0%BC%D0%B8%D0%B5%D1%80%D0%B0%D1%81\n",
      "http://mo.wikipedia.org/wiki/%D0%96%D1%83%D0%B4%D0%B5%D1%86%D1%83%D0%BB_%D0%92%D0%B5%D0%BD%D1%82%D1%81%D0%BF%D0%B8%D0%BB%D1%81\n",
      "http://mo.wikipedia.org/wiki/%D0%96%D1%83%D0%B4%D0%B5%D1%86%D0%B5%D0%BB%D0%B5_%D0%9B%D0%B5%D1%82%D0%BE%D0%BD%D0%B5%D0%B9\n",
      "http://mo.wikipedia.org/wiki/%D0%96%D1%83%D0%B4%D0%B5%D1%86%D0%B5%D0%BB%D0%B5_%D0%9B%D0%B5%D1%82%D0%BE%D0%BD%D0%B5%D0%B9\n",
      "http://mo.wikipedia.org/wiki/%D0%9F%D0%B0%D3%82%D0%B8%D0%BD%D0%B0_%D0%BF%D1%80%D0%B8%D0%BD%D1%87%D0%B8%D0%BF%D0%B0%D0%BB%D1%8D\n",
      "http://mo.wikipedia.org/wiki/%D0%9F%D0%B0%D3%82%D0%B8%D0%BD%D0%B0_%D0%BF%D1%80%D0%B8%D0%BD%D1%87%D0%B8%D0%BF%D0%B0%D0%BB%D1%8D\n"
     ]
    },
    {
     "data": {
      "application/vnd.jupyter.widget-view+json": {
       "model_id": "8310661de1414fa5b63ca6a0a723de09",
       "version_major": 2,
       "version_minor": 0
      },
      "text/plain": [
       "A Jupyter Widget"
      ]
     },
     "metadata": {},
     "output_type": "display_data"
    },
    {
     "name": "stdout",
     "output_type": "stream",
     "text": [
      "\n"
     ]
    },
    {
     "data": {
      "application/vnd.jupyter.widget-view+json": {
       "model_id": "90a6a246edcd4835a6fca9696df99e45",
       "version_major": 2,
       "version_minor": 0
      },
      "text/plain": [
       "A Jupyter Widget"
      ]
     },
     "metadata": {},
     "output_type": "display_data"
    },
    {
     "name": "stdout",
     "output_type": "stream",
     "text": [
      "\n"
     ]
    },
    {
     "data": {
      "application/vnd.jupyter.widget-view+json": {
       "model_id": "511a9003bb7f43c4a47455ccccb13b58",
       "version_major": 2,
       "version_minor": 0
      },
      "text/plain": [
       "A Jupyter Widget"
      ]
     },
     "metadata": {},
     "output_type": "display_data"
    },
    {
     "name": "stdout",
     "output_type": "stream",
     "text": [
      "\n"
     ]
    },
    {
     "data": {
      "application/vnd.jupyter.widget-view+json": {
       "model_id": "065b9857ca614e7a884313d534f8e0fc",
       "version_major": 2,
       "version_minor": 0
      },
      "text/plain": [
       "A Jupyter Widget"
      ]
     },
     "metadata": {},
     "output_type": "display_data"
    },
    {
     "name": "stdout",
     "output_type": "stream",
     "text": [
      "\n"
     ]
    },
    {
     "data": {
      "application/vnd.jupyter.widget-view+json": {
       "model_id": "4e94df3236ae4304afc199873919c524",
       "version_major": 2,
       "version_minor": 0
      },
      "text/plain": [
       "A Jupyter Widget"
      ]
     },
     "metadata": {},
     "output_type": "display_data"
    },
    {
     "name": "stdout",
     "output_type": "stream",
     "text": [
      "\n"
     ]
    },
    {
     "data": {
      "application/vnd.jupyter.widget-view+json": {
       "model_id": "cb579c68d63146aba430a825b259c684",
       "version_major": 2,
       "version_minor": 0
      },
      "text/plain": [
       "A Jupyter Widget"
      ]
     },
     "metadata": {},
     "output_type": "display_data"
    },
    {
     "name": "stdout",
     "output_type": "stream",
     "text": [
      "\n"
     ]
    },
    {
     "data": {
      "application/vnd.jupyter.widget-view+json": {
       "model_id": "73fd3aa7a6e04f03b19584dac0138076",
       "version_major": 2,
       "version_minor": 0
      },
      "text/plain": [
       "A Jupyter Widget"
      ]
     },
     "metadata": {},
     "output_type": "display_data"
    },
    {
     "name": "stdout",
     "output_type": "stream",
     "text": [
      "\n"
     ]
    },
    {
     "data": {
      "application/vnd.jupyter.widget-view+json": {
       "model_id": "fe0eebc841cc42b3827a2ba463d3bb40",
       "version_major": 2,
       "version_minor": 0
      },
      "text/plain": [
       "A Jupyter Widget"
      ]
     },
     "metadata": {},
     "output_type": "display_data"
    },
    {
     "name": "stdout",
     "output_type": "stream",
     "text": [
      "\n"
     ]
    },
    {
     "data": {
      "application/vnd.jupyter.widget-view+json": {
       "model_id": "fff6075cfa7b42a890bb5e1d1a7e129c",
       "version_major": 2,
       "version_minor": 0
      },
      "text/plain": [
       "A Jupyter Widget"
      ]
     },
     "metadata": {},
     "output_type": "display_data"
    },
    {
     "name": "stdout",
     "output_type": "stream",
     "text": [
      "\n"
     ]
    },
    {
     "data": {
      "application/vnd.jupyter.widget-view+json": {
       "model_id": "eacf8cb5e00d469bbd15f999c6920dab",
       "version_major": 2,
       "version_minor": 0
      },
      "text/plain": [
       "A Jupyter Widget"
      ]
     },
     "metadata": {},
     "output_type": "display_data"
    },
    {
     "name": "stdout",
     "output_type": "stream",
     "text": [
      "\n"
     ]
    },
    {
     "data": {
      "application/vnd.jupyter.widget-view+json": {
       "model_id": "5ecb6f7bf7f340029554e4cb0b623184",
       "version_major": 2,
       "version_minor": 0
      },
      "text/plain": [
       "A Jupyter Widget"
      ]
     },
     "metadata": {},
     "output_type": "display_data"
    },
    {
     "name": "stdout",
     "output_type": "stream",
     "text": [
      "\n"
     ]
    },
    {
     "data": {
      "application/vnd.jupyter.widget-view+json": {
       "model_id": "0f7a536ccc374ebb85ffcb62c50c8abb",
       "version_major": 2,
       "version_minor": 0
      },
      "text/plain": [
       "A Jupyter Widget"
      ]
     },
     "metadata": {},
     "output_type": "display_data"
    },
    {
     "name": "stdout",
     "output_type": "stream",
     "text": [
      "\n"
     ]
    },
    {
     "data": {
      "application/vnd.jupyter.widget-view+json": {
       "model_id": "a6242fed157742a7b3cbed35091c3d5c",
       "version_major": 2,
       "version_minor": 0
      },
      "text/plain": [
       "A Jupyter Widget"
      ]
     },
     "metadata": {},
     "output_type": "display_data"
    },
    {
     "name": "stdout",
     "output_type": "stream",
     "text": [
      "\n"
     ]
    },
    {
     "data": {
      "application/vnd.jupyter.widget-view+json": {
       "model_id": "bf3a3ca7519647f18cf2f6f904ace7ac",
       "version_major": 2,
       "version_minor": 0
      },
      "text/plain": [
       "A Jupyter Widget"
      ]
     },
     "metadata": {},
     "output_type": "display_data"
    },
    {
     "name": "stdout",
     "output_type": "stream",
     "text": [
      "\n"
     ]
    },
    {
     "data": {
      "application/vnd.jupyter.widget-view+json": {
       "model_id": "560a87306eeb454589204f5e46d1485f",
       "version_major": 2,
       "version_minor": 0
      },
      "text/plain": [
       "A Jupyter Widget"
      ]
     },
     "metadata": {},
     "output_type": "display_data"
    },
    {
     "name": "stdout",
     "output_type": "stream",
     "text": [
      "\n"
     ]
    },
    {
     "data": {
      "application/vnd.jupyter.widget-view+json": {
       "model_id": "7ef4e1bc84d74615b093734a718a9609",
       "version_major": 2,
       "version_minor": 0
      },
      "text/plain": [
       "A Jupyter Widget"
      ]
     },
     "metadata": {},
     "output_type": "display_data"
    },
    {
     "name": "stdout",
     "output_type": "stream",
     "text": [
      "\n"
     ]
    },
    {
     "data": {
      "application/vnd.jupyter.widget-view+json": {
       "model_id": "bb3680ba8aac4d2cb1cd223625cf85ba",
       "version_major": 2,
       "version_minor": 0
      },
      "text/plain": [
       "A Jupyter Widget"
      ]
     },
     "metadata": {},
     "output_type": "display_data"
    },
    {
     "name": "stdout",
     "output_type": "stream",
     "text": [
      "\n"
     ]
    },
    {
     "data": {
      "application/vnd.jupyter.widget-view+json": {
       "model_id": "025c6b78eedd47638d1e0c00cf9907e1",
       "version_major": 2,
       "version_minor": 0
      },
      "text/plain": [
       "A Jupyter Widget"
      ]
     },
     "metadata": {},
     "output_type": "display_data"
    },
    {
     "name": "stdout",
     "output_type": "stream",
     "text": [
      "\n"
     ]
    },
    {
     "data": {
      "application/vnd.jupyter.widget-view+json": {
       "model_id": "a173c8020d1140c3a8dbc6601c6336c6",
       "version_major": 2,
       "version_minor": 0
      },
      "text/plain": [
       "A Jupyter Widget"
      ]
     },
     "metadata": {},
     "output_type": "display_data"
    },
    {
     "name": "stdout",
     "output_type": "stream",
     "text": [
      "\n"
     ]
    },
    {
     "data": {
      "application/vnd.jupyter.widget-view+json": {
       "model_id": "0d37848028c147678901a9a78bc23b27",
       "version_major": 2,
       "version_minor": 0
      },
      "text/plain": [
       "A Jupyter Widget"
      ]
     },
     "metadata": {},
     "output_type": "display_data"
    },
    {
     "name": "stdout",
     "output_type": "stream",
     "text": [
      "\n"
     ]
    },
    {
     "data": {
      "application/vnd.jupyter.widget-view+json": {
       "model_id": "9081b02816934c68b5b26afefd13414e",
       "version_major": 2,
       "version_minor": 0
      },
      "text/plain": [
       "A Jupyter Widget"
      ]
     },
     "metadata": {},
     "output_type": "display_data"
    },
    {
     "name": "stdout",
     "output_type": "stream",
     "text": [
      "\n"
     ]
    },
    {
     "data": {
      "application/vnd.jupyter.widget-view+json": {
       "model_id": "022f70aeea674531af9990ed9189ece6",
       "version_major": 2,
       "version_minor": 0
      },
      "text/plain": [
       "A Jupyter Widget"
      ]
     },
     "metadata": {},
     "output_type": "display_data"
    },
    {
     "name": "stdout",
     "output_type": "stream",
     "text": [
      "\n"
     ]
    },
    {
     "data": {
      "application/vnd.jupyter.widget-view+json": {
       "model_id": "890542da56744e0ebc65073404084ed9",
       "version_major": 2,
       "version_minor": 0
      },
      "text/plain": [
       "A Jupyter Widget"
      ]
     },
     "metadata": {},
     "output_type": "display_data"
    },
    {
     "name": "stdout",
     "output_type": "stream",
     "text": [
      "\n"
     ]
    },
    {
     "data": {
      "application/vnd.jupyter.widget-view+json": {
       "model_id": "ef8da843f7b24c64a1264c078a8ef129",
       "version_major": 2,
       "version_minor": 0
      },
      "text/plain": [
       "A Jupyter Widget"
      ]
     },
     "metadata": {},
     "output_type": "display_data"
    },
    {
     "name": "stdout",
     "output_type": "stream",
     "text": [
      "\n"
     ]
    },
    {
     "data": {
      "application/vnd.jupyter.widget-view+json": {
       "model_id": "4b55d29d0e88469587d2f0990483f9e5",
       "version_major": 2,
       "version_minor": 0
      },
      "text/plain": [
       "A Jupyter Widget"
      ]
     },
     "metadata": {},
     "output_type": "display_data"
    },
    {
     "name": "stdout",
     "output_type": "stream",
     "text": [
      "\n"
     ]
    },
    {
     "data": {
      "application/vnd.jupyter.widget-view+json": {
       "model_id": "09f23823ac27405f94bfafd5940fde89",
       "version_major": 2,
       "version_minor": 0
      },
      "text/plain": [
       "A Jupyter Widget"
      ]
     },
     "metadata": {},
     "output_type": "display_data"
    },
    {
     "name": "stdout",
     "output_type": "stream",
     "text": [
      "\n"
     ]
    },
    {
     "data": {
      "application/vnd.jupyter.widget-view+json": {
       "model_id": "597c4c69cf3444b08e90759e5085459f",
       "version_major": 2,
       "version_minor": 0
      },
      "text/plain": [
       "A Jupyter Widget"
      ]
     },
     "metadata": {},
     "output_type": "display_data"
    },
    {
     "name": "stdout",
     "output_type": "stream",
     "text": [
      "\n"
     ]
    },
    {
     "data": {
      "application/vnd.jupyter.widget-view+json": {
       "model_id": "c9daf68fc5b844c7beeb545874079042",
       "version_major": 2,
       "version_minor": 0
      },
      "text/plain": [
       "A Jupyter Widget"
      ]
     },
     "metadata": {},
     "output_type": "display_data"
    },
    {
     "name": "stdout",
     "output_type": "stream",
     "text": [
      "\n"
     ]
    },
    {
     "data": {
      "application/vnd.jupyter.widget-view+json": {
       "model_id": "291ed07753444f10b48f20a1a400ae44",
       "version_major": 2,
       "version_minor": 0
      },
      "text/plain": [
       "A Jupyter Widget"
      ]
     },
     "metadata": {},
     "output_type": "display_data"
    },
    {
     "name": "stdout",
     "output_type": "stream",
     "text": [
      "\n"
     ]
    },
    {
     "data": {
      "application/vnd.jupyter.widget-view+json": {
       "model_id": "3a2f856c70d64ab58ace934753db7cb6",
       "version_major": 2,
       "version_minor": 0
      },
      "text/plain": [
       "A Jupyter Widget"
      ]
     },
     "metadata": {},
     "output_type": "display_data"
    },
    {
     "name": "stdout",
     "output_type": "stream",
     "text": [
      "\n"
     ]
    },
    {
     "data": {
      "application/vnd.jupyter.widget-view+json": {
       "model_id": "5df445b5acc645959cc4b783a85ec878",
       "version_major": 2,
       "version_minor": 0
      },
      "text/plain": [
       "A Jupyter Widget"
      ]
     },
     "metadata": {},
     "output_type": "display_data"
    },
    {
     "name": "stdout",
     "output_type": "stream",
     "text": [
      "\n"
     ]
    },
    {
     "data": {
      "application/vnd.jupyter.widget-view+json": {
       "model_id": "6ccb8758c6e746079c67ca7297501697",
       "version_major": 2,
       "version_minor": 0
      },
      "text/plain": [
       "A Jupyter Widget"
      ]
     },
     "metadata": {},
     "output_type": "display_data"
    },
    {
     "name": "stdout",
     "output_type": "stream",
     "text": [
      "\n"
     ]
    },
    {
     "data": {
      "application/vnd.jupyter.widget-view+json": {
       "model_id": "f044bfe49d004ea6b862559cf7fb50bb",
       "version_major": 2,
       "version_minor": 0
      },
      "text/plain": [
       "A Jupyter Widget"
      ]
     },
     "metadata": {},
     "output_type": "display_data"
    },
    {
     "name": "stdout",
     "output_type": "stream",
     "text": [
      "\n"
     ]
    },
    {
     "data": {
      "application/vnd.jupyter.widget-view+json": {
       "model_id": "49b1eb5237b54b70b5624ec9e3295cb0",
       "version_major": 2,
       "version_minor": 0
      },
      "text/plain": [
       "A Jupyter Widget"
      ]
     },
     "metadata": {},
     "output_type": "display_data"
    },
    {
     "name": "stdout",
     "output_type": "stream",
     "text": [
      "\n"
     ]
    },
    {
     "data": {
      "application/vnd.jupyter.widget-view+json": {
       "model_id": "3569734f87b540c29c91954edc1678b3",
       "version_major": 2,
       "version_minor": 0
      },
      "text/plain": [
       "A Jupyter Widget"
      ]
     },
     "metadata": {},
     "output_type": "display_data"
    },
    {
     "name": "stdout",
     "output_type": "stream",
     "text": [
      "\n"
     ]
    },
    {
     "data": {
      "application/vnd.jupyter.widget-view+json": {
       "model_id": "cf685655ae864ce5a065763487b326c5",
       "version_major": 2,
       "version_minor": 0
      },
      "text/plain": [
       "A Jupyter Widget"
      ]
     },
     "metadata": {},
     "output_type": "display_data"
    },
    {
     "name": "stdout",
     "output_type": "stream",
     "text": [
      "\n"
     ]
    },
    {
     "data": {
      "application/vnd.jupyter.widget-view+json": {
       "model_id": "462f39cc75044eb7b8f72a44b7d3d909",
       "version_major": 2,
       "version_minor": 0
      },
      "text/plain": [
       "A Jupyter Widget"
      ]
     },
     "metadata": {},
     "output_type": "display_data"
    },
    {
     "name": "stdout",
     "output_type": "stream",
     "text": [
      "\n"
     ]
    },
    {
     "data": {
      "application/vnd.jupyter.widget-view+json": {
       "model_id": "5864a361807e488aa91563259dea68f1",
       "version_major": 2,
       "version_minor": 0
      },
      "text/plain": [
       "A Jupyter Widget"
      ]
     },
     "metadata": {},
     "output_type": "display_data"
    },
    {
     "name": "stdout",
     "output_type": "stream",
     "text": [
      "\n"
     ]
    },
    {
     "data": {
      "application/vnd.jupyter.widget-view+json": {
       "model_id": "e3c3615da39c40e69b905dbe5d9a3e7c",
       "version_major": 2,
       "version_minor": 0
      },
      "text/plain": [
       "A Jupyter Widget"
      ]
     },
     "metadata": {},
     "output_type": "display_data"
    },
    {
     "name": "stdout",
     "output_type": "stream",
     "text": [
      "\n"
     ]
    },
    {
     "data": {
      "application/vnd.jupyter.widget-view+json": {
       "model_id": "038f94bfada44464a13baa88928b449f",
       "version_major": 2,
       "version_minor": 0
      },
      "text/plain": [
       "A Jupyter Widget"
      ]
     },
     "metadata": {},
     "output_type": "display_data"
    },
    {
     "name": "stdout",
     "output_type": "stream",
     "text": [
      "\n"
     ]
    },
    {
     "data": {
      "application/vnd.jupyter.widget-view+json": {
       "model_id": "50e2db65d8e84c4fb43634d0ce9cee2f",
       "version_major": 2,
       "version_minor": 0
      },
      "text/plain": [
       "A Jupyter Widget"
      ]
     },
     "metadata": {},
     "output_type": "display_data"
    },
    {
     "name": "stdout",
     "output_type": "stream",
     "text": [
      "\n"
     ]
    },
    {
     "data": {
      "application/vnd.jupyter.widget-view+json": {
       "model_id": "f4dfc3f8f15e4aeab18c34a66eddc828",
       "version_major": 2,
       "version_minor": 0
      },
      "text/plain": [
       "A Jupyter Widget"
      ]
     },
     "metadata": {},
     "output_type": "display_data"
    },
    {
     "name": "stdout",
     "output_type": "stream",
     "text": [
      "\n"
     ]
    },
    {
     "data": {
      "application/vnd.jupyter.widget-view+json": {
       "model_id": "b01b45f4d1a448c1a1fe0c67c4f0dc75",
       "version_major": 2,
       "version_minor": 0
      },
      "text/plain": [
       "A Jupyter Widget"
      ]
     },
     "metadata": {},
     "output_type": "display_data"
    },
    {
     "name": "stdout",
     "output_type": "stream",
     "text": [
      "\n"
     ]
    },
    {
     "data": {
      "application/vnd.jupyter.widget-view+json": {
       "model_id": "8bc05fcc86ff4d17b8ccd196e87c7a42",
       "version_major": 2,
       "version_minor": 0
      },
      "text/plain": [
       "A Jupyter Widget"
      ]
     },
     "metadata": {},
     "output_type": "display_data"
    },
    {
     "name": "stdout",
     "output_type": "stream",
     "text": [
      "\n"
     ]
    },
    {
     "data": {
      "application/vnd.jupyter.widget-view+json": {
       "model_id": "5df73e2bf932492ba1cff5f4b68b42a8",
       "version_major": 2,
       "version_minor": 0
      },
      "text/plain": [
       "A Jupyter Widget"
      ]
     },
     "metadata": {},
     "output_type": "display_data"
    },
    {
     "name": "stdout",
     "output_type": "stream",
     "text": [
      "\n"
     ]
    },
    {
     "data": {
      "application/vnd.jupyter.widget-view+json": {
       "model_id": "641f61c360794e9cab00165f01c1f3b6",
       "version_major": 2,
       "version_minor": 0
      },
      "text/plain": [
       "A Jupyter Widget"
      ]
     },
     "metadata": {},
     "output_type": "display_data"
    },
    {
     "name": "stdout",
     "output_type": "stream",
     "text": [
      "\n"
     ]
    },
    {
     "data": {
      "application/vnd.jupyter.widget-view+json": {
       "model_id": "f823e228e9da428a875703be7862ff5b",
       "version_major": 2,
       "version_minor": 0
      },
      "text/plain": [
       "A Jupyter Widget"
      ]
     },
     "metadata": {},
     "output_type": "display_data"
    },
    {
     "name": "stdout",
     "output_type": "stream",
     "text": [
      "\n"
     ]
    },
    {
     "data": {
      "application/vnd.jupyter.widget-view+json": {
       "model_id": "f8c1af5e45da4ee5b43ba3b78015a69d",
       "version_major": 2,
       "version_minor": 0
      },
      "text/plain": [
       "A Jupyter Widget"
      ]
     },
     "metadata": {},
     "output_type": "display_data"
    },
    {
     "name": "stdout",
     "output_type": "stream",
     "text": [
      "\n"
     ]
    },
    {
     "data": {
      "application/vnd.jupyter.widget-view+json": {
       "model_id": "6be20579143244259d4325afa098abfa",
       "version_major": 2,
       "version_minor": 0
      },
      "text/plain": [
       "A Jupyter Widget"
      ]
     },
     "metadata": {},
     "output_type": "display_data"
    },
    {
     "name": "stdout",
     "output_type": "stream",
     "text": [
      "\n"
     ]
    },
    {
     "data": {
      "application/vnd.jupyter.widget-view+json": {
       "model_id": "0eb6e1871da74bd29caf120d1caa6f01",
       "version_major": 2,
       "version_minor": 0
      },
      "text/plain": [
       "A Jupyter Widget"
      ]
     },
     "metadata": {},
     "output_type": "display_data"
    },
    {
     "name": "stdout",
     "output_type": "stream",
     "text": [
      "\n"
     ]
    },
    {
     "data": {
      "application/vnd.jupyter.widget-view+json": {
       "model_id": "9744be87d9b64e90b31905516f189112",
       "version_major": 2,
       "version_minor": 0
      },
      "text/plain": [
       "A Jupyter Widget"
      ]
     },
     "metadata": {},
     "output_type": "display_data"
    },
    {
     "name": "stdout",
     "output_type": "stream",
     "text": [
      "\n"
     ]
    },
    {
     "data": {
      "application/vnd.jupyter.widget-view+json": {
       "model_id": "cde6c65159784a309f8e849d85d7b23e",
       "version_major": 2,
       "version_minor": 0
      },
      "text/plain": [
       "A Jupyter Widget"
      ]
     },
     "metadata": {},
     "output_type": "display_data"
    },
    {
     "name": "stdout",
     "output_type": "stream",
     "text": [
      "\n"
     ]
    },
    {
     "data": {
      "application/vnd.jupyter.widget-view+json": {
       "model_id": "11c2b9c55670438695d41246826987b4",
       "version_major": 2,
       "version_minor": 0
      },
      "text/plain": [
       "A Jupyter Widget"
      ]
     },
     "metadata": {},
     "output_type": "display_data"
    },
    {
     "name": "stdout",
     "output_type": "stream",
     "text": [
      "\n"
     ]
    },
    {
     "data": {
      "application/vnd.jupyter.widget-view+json": {
       "model_id": "aa8e09671ac84c6d9a7916af52b766ab",
       "version_major": 2,
       "version_minor": 0
      },
      "text/plain": [
       "A Jupyter Widget"
      ]
     },
     "metadata": {},
     "output_type": "display_data"
    },
    {
     "name": "stdout",
     "output_type": "stream",
     "text": [
      "\n"
     ]
    },
    {
     "data": {
      "application/vnd.jupyter.widget-view+json": {
       "model_id": "0ac56a5b03764521a57f38e679b00ca7",
       "version_major": 2,
       "version_minor": 0
      },
      "text/plain": [
       "A Jupyter Widget"
      ]
     },
     "metadata": {},
     "output_type": "display_data"
    },
    {
     "name": "stdout",
     "output_type": "stream",
     "text": [
      "\n"
     ]
    },
    {
     "data": {
      "application/vnd.jupyter.widget-view+json": {
       "model_id": "7a3c0a8f3a0f4d7496e933101eb65e88",
       "version_major": 2,
       "version_minor": 0
      },
      "text/plain": [
       "A Jupyter Widget"
      ]
     },
     "metadata": {},
     "output_type": "display_data"
    },
    {
     "name": "stdout",
     "output_type": "stream",
     "text": [
      "\n"
     ]
    },
    {
     "data": {
      "application/vnd.jupyter.widget-view+json": {
       "model_id": "e8bdaa03d09a4d22b1af8c320bed4bb2",
       "version_major": 2,
       "version_minor": 0
      },
      "text/plain": [
       "A Jupyter Widget"
      ]
     },
     "metadata": {},
     "output_type": "display_data"
    },
    {
     "name": "stdout",
     "output_type": "stream",
     "text": [
      "\n"
     ]
    },
    {
     "data": {
      "application/vnd.jupyter.widget-view+json": {
       "model_id": "f9d03238d8634a1ebfcad3a656452f66",
       "version_major": 2,
       "version_minor": 0
      },
      "text/plain": [
       "A Jupyter Widget"
      ]
     },
     "metadata": {},
     "output_type": "display_data"
    },
    {
     "name": "stdout",
     "output_type": "stream",
     "text": [
      "\n"
     ]
    },
    {
     "data": {
      "application/vnd.jupyter.widget-view+json": {
       "model_id": "f2b4ca18419146cbbce19759139620e5",
       "version_major": 2,
       "version_minor": 0
      },
      "text/plain": [
       "A Jupyter Widget"
      ]
     },
     "metadata": {},
     "output_type": "display_data"
    },
    {
     "name": "stdout",
     "output_type": "stream",
     "text": [
      "\n"
     ]
    },
    {
     "data": {
      "application/vnd.jupyter.widget-view+json": {
       "model_id": "b91740412f3a4bbca8ca803682fe879e",
       "version_major": 2,
       "version_minor": 0
      },
      "text/plain": [
       "A Jupyter Widget"
      ]
     },
     "metadata": {},
     "output_type": "display_data"
    },
    {
     "name": "stdout",
     "output_type": "stream",
     "text": [
      "\n"
     ]
    },
    {
     "data": {
      "application/vnd.jupyter.widget-view+json": {
       "model_id": "48d9a4ee2ad24ebeb1431d3b677b03f8",
       "version_major": 2,
       "version_minor": 0
      },
      "text/plain": [
       "A Jupyter Widget"
      ]
     },
     "metadata": {},
     "output_type": "display_data"
    },
    {
     "name": "stdout",
     "output_type": "stream",
     "text": [
      "\n"
     ]
    },
    {
     "data": {
      "application/vnd.jupyter.widget-view+json": {
       "model_id": "616f8a9c83e444458c110bbb49905f82",
       "version_major": 2,
       "version_minor": 0
      },
      "text/plain": [
       "A Jupyter Widget"
      ]
     },
     "metadata": {},
     "output_type": "display_data"
    },
    {
     "name": "stdout",
     "output_type": "stream",
     "text": [
      "\n"
     ]
    },
    {
     "data": {
      "application/vnd.jupyter.widget-view+json": {
       "model_id": "e68ebebfdd9644e8b67c079580e745ec",
       "version_major": 2,
       "version_minor": 0
      },
      "text/plain": [
       "A Jupyter Widget"
      ]
     },
     "metadata": {},
     "output_type": "display_data"
    },
    {
     "name": "stdout",
     "output_type": "stream",
     "text": [
      "\n"
     ]
    },
    {
     "data": {
      "application/vnd.jupyter.widget-view+json": {
       "model_id": "98231b3f1cae438ea2559907635eaaee",
       "version_major": 2,
       "version_minor": 0
      },
      "text/plain": [
       "A Jupyter Widget"
      ]
     },
     "metadata": {},
     "output_type": "display_data"
    },
    {
     "name": "stdout",
     "output_type": "stream",
     "text": [
      "\n"
     ]
    },
    {
     "data": {
      "application/vnd.jupyter.widget-view+json": {
       "model_id": "eb8fa3d7c57f41bfac172033eb0ce43a",
       "version_major": 2,
       "version_minor": 0
      },
      "text/plain": [
       "A Jupyter Widget"
      ]
     },
     "metadata": {},
     "output_type": "display_data"
    },
    {
     "name": "stdout",
     "output_type": "stream",
     "text": [
      "\n"
     ]
    },
    {
     "data": {
      "application/vnd.jupyter.widget-view+json": {
       "model_id": "48cd34d35fab4782bd9158bc2959bbdb",
       "version_major": 2,
       "version_minor": 0
      },
      "text/plain": [
       "A Jupyter Widget"
      ]
     },
     "metadata": {},
     "output_type": "display_data"
    },
    {
     "name": "stdout",
     "output_type": "stream",
     "text": [
      "\n"
     ]
    },
    {
     "data": {
      "application/vnd.jupyter.widget-view+json": {
       "model_id": "ae2bcfc4753a4ad291b6e5f97f3fd566",
       "version_major": 2,
       "version_minor": 0
      },
      "text/plain": [
       "A Jupyter Widget"
      ]
     },
     "metadata": {},
     "output_type": "display_data"
    },
    {
     "name": "stdout",
     "output_type": "stream",
     "text": [
      "\n"
     ]
    },
    {
     "data": {
      "application/vnd.jupyter.widget-view+json": {
       "model_id": "e5d33ca6e2044c139c047c1dafbbdd49",
       "version_major": 2,
       "version_minor": 0
      },
      "text/plain": [
       "A Jupyter Widget"
      ]
     },
     "metadata": {},
     "output_type": "display_data"
    },
    {
     "name": "stdout",
     "output_type": "stream",
     "text": [
      "\n"
     ]
    },
    {
     "data": {
      "application/vnd.jupyter.widget-view+json": {
       "model_id": "c0ce5fb0cbaf4075a6d9acfc845cb143",
       "version_major": 2,
       "version_minor": 0
      },
      "text/plain": [
       "A Jupyter Widget"
      ]
     },
     "metadata": {},
     "output_type": "display_data"
    },
    {
     "name": "stdout",
     "output_type": "stream",
     "text": [
      "\n"
     ]
    },
    {
     "data": {
      "application/vnd.jupyter.widget-view+json": {
       "model_id": "07f4b8f173114da58f740a49cad63089",
       "version_major": 2,
       "version_minor": 0
      },
      "text/plain": [
       "A Jupyter Widget"
      ]
     },
     "metadata": {},
     "output_type": "display_data"
    },
    {
     "name": "stdout",
     "output_type": "stream",
     "text": [
      "\n"
     ]
    },
    {
     "data": {
      "application/vnd.jupyter.widget-view+json": {
       "model_id": "7107fcf2605743f5a5fc054394708e72",
       "version_major": 2,
       "version_minor": 0
      },
      "text/plain": [
       "A Jupyter Widget"
      ]
     },
     "metadata": {},
     "output_type": "display_data"
    },
    {
     "name": "stdout",
     "output_type": "stream",
     "text": [
      "\n"
     ]
    },
    {
     "data": {
      "application/vnd.jupyter.widget-view+json": {
       "model_id": "10fce284f94748989af6a38d6caa985d",
       "version_major": 2,
       "version_minor": 0
      },
      "text/plain": [
       "A Jupyter Widget"
      ]
     },
     "metadata": {},
     "output_type": "display_data"
    },
    {
     "name": "stdout",
     "output_type": "stream",
     "text": [
      "\n"
     ]
    },
    {
     "data": {
      "application/vnd.jupyter.widget-view+json": {
       "model_id": "7a1de007ecca42a79a46b2bad1348685",
       "version_major": 2,
       "version_minor": 0
      },
      "text/plain": [
       "A Jupyter Widget"
      ]
     },
     "metadata": {},
     "output_type": "display_data"
    },
    {
     "name": "stdout",
     "output_type": "stream",
     "text": [
      "\n"
     ]
    },
    {
     "data": {
      "application/vnd.jupyter.widget-view+json": {
       "model_id": "e90655db4fa34b68adc206f4ab900794",
       "version_major": 2,
       "version_minor": 0
      },
      "text/plain": [
       "A Jupyter Widget"
      ]
     },
     "metadata": {},
     "output_type": "display_data"
    },
    {
     "name": "stdout",
     "output_type": "stream",
     "text": [
      "\n"
     ]
    },
    {
     "data": {
      "application/vnd.jupyter.widget-view+json": {
       "model_id": "76737d72f6784ae09749985f8e2609d8",
       "version_major": 2,
       "version_minor": 0
      },
      "text/plain": [
       "A Jupyter Widget"
      ]
     },
     "metadata": {},
     "output_type": "display_data"
    },
    {
     "name": "stdout",
     "output_type": "stream",
     "text": [
      "\n"
     ]
    },
    {
     "data": {
      "application/vnd.jupyter.widget-view+json": {
       "model_id": "8c6340dd76074dbf83c1cc88fa27909e",
       "version_major": 2,
       "version_minor": 0
      },
      "text/plain": [
       "A Jupyter Widget"
      ]
     },
     "metadata": {},
     "output_type": "display_data"
    },
    {
     "name": "stdout",
     "output_type": "stream",
     "text": [
      "\n"
     ]
    },
    {
     "data": {
      "application/vnd.jupyter.widget-view+json": {
       "model_id": "5f502bc3ccd544a1b26770f3c5b1b3d8",
       "version_major": 2,
       "version_minor": 0
      },
      "text/plain": [
       "A Jupyter Widget"
      ]
     },
     "metadata": {},
     "output_type": "display_data"
    },
    {
     "name": "stdout",
     "output_type": "stream",
     "text": [
      "\n"
     ]
    },
    {
     "data": {
      "application/vnd.jupyter.widget-view+json": {
       "model_id": "3a6eb3e0ac364734a0ee6dd18070159a",
       "version_major": 2,
       "version_minor": 0
      },
      "text/plain": [
       "A Jupyter Widget"
      ]
     },
     "metadata": {},
     "output_type": "display_data"
    },
    {
     "name": "stdout",
     "output_type": "stream",
     "text": [
      "\n"
     ]
    },
    {
     "data": {
      "application/vnd.jupyter.widget-view+json": {
       "model_id": "130e96731fc84c0b86f0491d37ae05be",
       "version_major": 2,
       "version_minor": 0
      },
      "text/plain": [
       "A Jupyter Widget"
      ]
     },
     "metadata": {},
     "output_type": "display_data"
    },
    {
     "name": "stdout",
     "output_type": "stream",
     "text": [
      "\n"
     ]
    },
    {
     "data": {
      "application/vnd.jupyter.widget-view+json": {
       "model_id": "2ffb74fac84a4caea77bc6cb4b277cfc",
       "version_major": 2,
       "version_minor": 0
      },
      "text/plain": [
       "A Jupyter Widget"
      ]
     },
     "metadata": {},
     "output_type": "display_data"
    },
    {
     "name": "stdout",
     "output_type": "stream",
     "text": [
      "\n"
     ]
    },
    {
     "data": {
      "application/vnd.jupyter.widget-view+json": {
       "model_id": "d1764fa8336c4521b579caf0a147974e",
       "version_major": 2,
       "version_minor": 0
      },
      "text/plain": [
       "A Jupyter Widget"
      ]
     },
     "metadata": {},
     "output_type": "display_data"
    },
    {
     "name": "stdout",
     "output_type": "stream",
     "text": [
      "\n"
     ]
    },
    {
     "data": {
      "application/vnd.jupyter.widget-view+json": {
       "model_id": "55827b6141cc4b3d8be8c3bc86bf6022",
       "version_major": 2,
       "version_minor": 0
      },
      "text/plain": [
       "A Jupyter Widget"
      ]
     },
     "metadata": {},
     "output_type": "display_data"
    },
    {
     "name": "stdout",
     "output_type": "stream",
     "text": [
      "\n"
     ]
    },
    {
     "data": {
      "application/vnd.jupyter.widget-view+json": {
       "model_id": "7ae6098b7cb7482db5d1352851851dd9",
       "version_major": 2,
       "version_minor": 0
      },
      "text/plain": [
       "A Jupyter Widget"
      ]
     },
     "metadata": {},
     "output_type": "display_data"
    },
    {
     "name": "stdout",
     "output_type": "stream",
     "text": [
      "\n"
     ]
    },
    {
     "data": {
      "application/vnd.jupyter.widget-view+json": {
       "model_id": "df3e5198a2384378809cae84fa1e3af8",
       "version_major": 2,
       "version_minor": 0
      },
      "text/plain": [
       "A Jupyter Widget"
      ]
     },
     "metadata": {},
     "output_type": "display_data"
    },
    {
     "name": "stdout",
     "output_type": "stream",
     "text": [
      "\n"
     ]
    },
    {
     "data": {
      "application/vnd.jupyter.widget-view+json": {
       "model_id": "8a189bb223894e2fa6495790e431f1d0",
       "version_major": 2,
       "version_minor": 0
      },
      "text/plain": [
       "A Jupyter Widget"
      ]
     },
     "metadata": {},
     "output_type": "display_data"
    },
    {
     "name": "stdout",
     "output_type": "stream",
     "text": [
      "\n"
     ]
    },
    {
     "data": {
      "application/vnd.jupyter.widget-view+json": {
       "model_id": "e08f3db5de1341f8b28259609a1b8010",
       "version_major": 2,
       "version_minor": 0
      },
      "text/plain": [
       "A Jupyter Widget"
      ]
     },
     "metadata": {},
     "output_type": "display_data"
    },
    {
     "name": "stdout",
     "output_type": "stream",
     "text": [
      "\n"
     ]
    },
    {
     "data": {
      "application/vnd.jupyter.widget-view+json": {
       "model_id": "3ceb2900c7a74634a7c1c48aa48edada",
       "version_major": 2,
       "version_minor": 0
      },
      "text/plain": [
       "A Jupyter Widget"
      ]
     },
     "metadata": {},
     "output_type": "display_data"
    },
    {
     "name": "stdout",
     "output_type": "stream",
     "text": [
      "\n"
     ]
    },
    {
     "data": {
      "application/vnd.jupyter.widget-view+json": {
       "model_id": "cc4a425fe58c4fccadaca41b22c70de7",
       "version_major": 2,
       "version_minor": 0
      },
      "text/plain": [
       "A Jupyter Widget"
      ]
     },
     "metadata": {},
     "output_type": "display_data"
    },
    {
     "name": "stdout",
     "output_type": "stream",
     "text": [
      "\n"
     ]
    },
    {
     "data": {
      "application/vnd.jupyter.widget-view+json": {
       "model_id": "b9f693e948354995898e3056bb4c40af",
       "version_major": 2,
       "version_minor": 0
      },
      "text/plain": [
       "A Jupyter Widget"
      ]
     },
     "metadata": {},
     "output_type": "display_data"
    },
    {
     "name": "stdout",
     "output_type": "stream",
     "text": [
      "\n"
     ]
    },
    {
     "data": {
      "application/vnd.jupyter.widget-view+json": {
       "model_id": "7b72e0fb8cb3482090a6a4f9e4043e37",
       "version_major": 2,
       "version_minor": 0
      },
      "text/plain": [
       "A Jupyter Widget"
      ]
     },
     "metadata": {},
     "output_type": "display_data"
    },
    {
     "name": "stdout",
     "output_type": "stream",
     "text": [
      "\n"
     ]
    },
    {
     "data": {
      "application/vnd.jupyter.widget-view+json": {
       "model_id": "e4c9ee46a1214b1bba53893dc5a2edbf",
       "version_major": 2,
       "version_minor": 0
      },
      "text/plain": [
       "A Jupyter Widget"
      ]
     },
     "metadata": {},
     "output_type": "display_data"
    },
    {
     "name": "stdout",
     "output_type": "stream",
     "text": [
      "\n"
     ]
    },
    {
     "data": {
      "application/vnd.jupyter.widget-view+json": {
       "model_id": "f6c3d1b784ac4dbdb3000e3cbdf351cb",
       "version_major": 2,
       "version_minor": 0
      },
      "text/plain": [
       "A Jupyter Widget"
      ]
     },
     "metadata": {},
     "output_type": "display_data"
    },
    {
     "name": "stdout",
     "output_type": "stream",
     "text": [
      "\n"
     ]
    },
    {
     "data": {
      "application/vnd.jupyter.widget-view+json": {
       "model_id": "d7eb9a21a1cf49b2a0bdfcaa512fb0f1",
       "version_major": 2,
       "version_minor": 0
      },
      "text/plain": [
       "A Jupyter Widget"
      ]
     },
     "metadata": {},
     "output_type": "display_data"
    },
    {
     "name": "stdout",
     "output_type": "stream",
     "text": [
      "\n"
     ]
    },
    {
     "data": {
      "application/vnd.jupyter.widget-view+json": {
       "model_id": "cfa0c7b022f44cc1bfb0d0957f79abef",
       "version_major": 2,
       "version_minor": 0
      },
      "text/plain": [
       "A Jupyter Widget"
      ]
     },
     "metadata": {},
     "output_type": "display_data"
    },
    {
     "name": "stdout",
     "output_type": "stream",
     "text": [
      "\n"
     ]
    },
    {
     "data": {
      "application/vnd.jupyter.widget-view+json": {
       "model_id": "281d9e943ec9423daf367ceb8c5edb75",
       "version_major": 2,
       "version_minor": 0
      },
      "text/plain": [
       "A Jupyter Widget"
      ]
     },
     "metadata": {},
     "output_type": "display_data"
    },
    {
     "name": "stdout",
     "output_type": "stream",
     "text": [
      "\n"
     ]
    },
    {
     "data": {
      "application/vnd.jupyter.widget-view+json": {
       "model_id": "7ab611f6146b493fbad08e8b16314ba4",
       "version_major": 2,
       "version_minor": 0
      },
      "text/plain": [
       "A Jupyter Widget"
      ]
     },
     "metadata": {},
     "output_type": "display_data"
    },
    {
     "name": "stdout",
     "output_type": "stream",
     "text": [
      "\n"
     ]
    },
    {
     "data": {
      "application/vnd.jupyter.widget-view+json": {
       "model_id": "8a0d740360b348a68e295aa168c13c26",
       "version_major": 2,
       "version_minor": 0
      },
      "text/plain": [
       "A Jupyter Widget"
      ]
     },
     "metadata": {},
     "output_type": "display_data"
    },
    {
     "name": "stdout",
     "output_type": "stream",
     "text": [
      "\n"
     ]
    },
    {
     "data": {
      "application/vnd.jupyter.widget-view+json": {
       "model_id": "d0a7a310f15b4cda9880c0958acf09de",
       "version_major": 2,
       "version_minor": 0
      },
      "text/plain": [
       "A Jupyter Widget"
      ]
     },
     "metadata": {},
     "output_type": "display_data"
    },
    {
     "name": "stdout",
     "output_type": "stream",
     "text": [
      "\n"
     ]
    },
    {
     "data": {
      "application/vnd.jupyter.widget-view+json": {
       "model_id": "2c344a22f09b4d42ab347bd16bc00192",
       "version_major": 2,
       "version_minor": 0
      },
      "text/plain": [
       "A Jupyter Widget"
      ]
     },
     "metadata": {},
     "output_type": "display_data"
    },
    {
     "name": "stdout",
     "output_type": "stream",
     "text": [
      "\n"
     ]
    },
    {
     "data": {
      "application/vnd.jupyter.widget-view+json": {
       "model_id": "f5af754e6f2a4eb79c3406599436c9b2",
       "version_major": 2,
       "version_minor": 0
      },
      "text/plain": [
       "A Jupyter Widget"
      ]
     },
     "metadata": {},
     "output_type": "display_data"
    },
    {
     "name": "stdout",
     "output_type": "stream",
     "text": [
      "\n"
     ]
    },
    {
     "data": {
      "application/vnd.jupyter.widget-view+json": {
       "model_id": "06ad79dea2cf4fab9ca03d82f1433c59",
       "version_major": 2,
       "version_minor": 0
      },
      "text/plain": [
       "A Jupyter Widget"
      ]
     },
     "metadata": {},
     "output_type": "display_data"
    },
    {
     "name": "stdout",
     "output_type": "stream",
     "text": [
      "\n"
     ]
    },
    {
     "data": {
      "application/vnd.jupyter.widget-view+json": {
       "model_id": "3121c77ac76749cc9ac7f358d559a490",
       "version_major": 2,
       "version_minor": 0
      },
      "text/plain": [
       "A Jupyter Widget"
      ]
     },
     "metadata": {},
     "output_type": "display_data"
    },
    {
     "name": "stdout",
     "output_type": "stream",
     "text": [
      "\n"
     ]
    },
    {
     "data": {
      "application/vnd.jupyter.widget-view+json": {
       "model_id": "999694f94593442b88ff7db8599c173c",
       "version_major": 2,
       "version_minor": 0
      },
      "text/plain": [
       "A Jupyter Widget"
      ]
     },
     "metadata": {},
     "output_type": "display_data"
    },
    {
     "name": "stdout",
     "output_type": "stream",
     "text": [
      "\n"
     ]
    },
    {
     "data": {
      "application/vnd.jupyter.widget-view+json": {
       "model_id": "ed596e4179d84b1bbe61bb3d223fe362",
       "version_major": 2,
       "version_minor": 0
      },
      "text/plain": [
       "A Jupyter Widget"
      ]
     },
     "metadata": {},
     "output_type": "display_data"
    },
    {
     "name": "stdout",
     "output_type": "stream",
     "text": [
      "\n"
     ]
    },
    {
     "data": {
      "application/vnd.jupyter.widget-view+json": {
       "model_id": "da5ad3ced69d438695e137b29d696a67",
       "version_major": 2,
       "version_minor": 0
      },
      "text/plain": [
       "A Jupyter Widget"
      ]
     },
     "metadata": {},
     "output_type": "display_data"
    },
    {
     "name": "stdout",
     "output_type": "stream",
     "text": [
      "\n"
     ]
    },
    {
     "data": {
      "application/vnd.jupyter.widget-view+json": {
       "model_id": "70ddfd2df362439b8c5b070a08580b15",
       "version_major": 2,
       "version_minor": 0
      },
      "text/plain": [
       "A Jupyter Widget"
      ]
     },
     "metadata": {},
     "output_type": "display_data"
    },
    {
     "name": "stdout",
     "output_type": "stream",
     "text": [
      "\n"
     ]
    },
    {
     "data": {
      "application/vnd.jupyter.widget-view+json": {
       "model_id": "e4bbfe7f34fb4b068424b4747dfafe26",
       "version_major": 2,
       "version_minor": 0
      },
      "text/plain": [
       "A Jupyter Widget"
      ]
     },
     "metadata": {},
     "output_type": "display_data"
    },
    {
     "name": "stdout",
     "output_type": "stream",
     "text": [
      "\n"
     ]
    },
    {
     "data": {
      "application/vnd.jupyter.widget-view+json": {
       "model_id": "f297c08b1ce24e0ba79ba0a1132e0616",
       "version_major": 2,
       "version_minor": 0
      },
      "text/plain": [
       "A Jupyter Widget"
      ]
     },
     "metadata": {},
     "output_type": "display_data"
    },
    {
     "name": "stdout",
     "output_type": "stream",
     "text": [
      "\n"
     ]
    },
    {
     "data": {
      "application/vnd.jupyter.widget-view+json": {
       "model_id": "2f08caa5388142e2ae710b19b93c6a2f",
       "version_major": 2,
       "version_minor": 0
      },
      "text/plain": [
       "A Jupyter Widget"
      ]
     },
     "metadata": {},
     "output_type": "display_data"
    },
    {
     "name": "stdout",
     "output_type": "stream",
     "text": [
      "\n"
     ]
    },
    {
     "data": {
      "application/vnd.jupyter.widget-view+json": {
       "model_id": "3c87f73637f6471e8bd0750e4d9c50ee",
       "version_major": 2,
       "version_minor": 0
      },
      "text/plain": [
       "A Jupyter Widget"
      ]
     },
     "metadata": {},
     "output_type": "display_data"
    },
    {
     "name": "stdout",
     "output_type": "stream",
     "text": [
      "\n"
     ]
    },
    {
     "data": {
      "application/vnd.jupyter.widget-view+json": {
       "model_id": "d57da11cabfd4f12b3f88a0525b3306a",
       "version_major": 2,
       "version_minor": 0
      },
      "text/plain": [
       "A Jupyter Widget"
      ]
     },
     "metadata": {},
     "output_type": "display_data"
    },
    {
     "name": "stdout",
     "output_type": "stream",
     "text": [
      "\n"
     ]
    },
    {
     "data": {
      "application/vnd.jupyter.widget-view+json": {
       "model_id": "9e7c20412e654cc5a766857428e4054c",
       "version_major": 2,
       "version_minor": 0
      },
      "text/plain": [
       "A Jupyter Widget"
      ]
     },
     "metadata": {},
     "output_type": "display_data"
    },
    {
     "name": "stdout",
     "output_type": "stream",
     "text": [
      "\n"
     ]
    },
    {
     "data": {
      "application/vnd.jupyter.widget-view+json": {
       "model_id": "ef4695154be74be6a62f558317e801f2",
       "version_major": 2,
       "version_minor": 0
      },
      "text/plain": [
       "A Jupyter Widget"
      ]
     },
     "metadata": {},
     "output_type": "display_data"
    },
    {
     "name": "stdout",
     "output_type": "stream",
     "text": [
      "\n"
     ]
    },
    {
     "data": {
      "application/vnd.jupyter.widget-view+json": {
       "model_id": "7cb47afcd85347a58ace10b04de314ba",
       "version_major": 2,
       "version_minor": 0
      },
      "text/plain": [
       "A Jupyter Widget"
      ]
     },
     "metadata": {},
     "output_type": "display_data"
    },
    {
     "name": "stdout",
     "output_type": "stream",
     "text": [
      "\n"
     ]
    },
    {
     "data": {
      "application/vnd.jupyter.widget-view+json": {
       "model_id": "3b3ca56e051745059486e958757fd8b8",
       "version_major": 2,
       "version_minor": 0
      },
      "text/plain": [
       "A Jupyter Widget"
      ]
     },
     "metadata": {},
     "output_type": "display_data"
    },
    {
     "name": "stdout",
     "output_type": "stream",
     "text": [
      "\n"
     ]
    },
    {
     "data": {
      "application/vnd.jupyter.widget-view+json": {
       "model_id": "391fd1ac86f647df9d2843651c33c455",
       "version_major": 2,
       "version_minor": 0
      },
      "text/plain": [
       "A Jupyter Widget"
      ]
     },
     "metadata": {},
     "output_type": "display_data"
    },
    {
     "name": "stdout",
     "output_type": "stream",
     "text": [
      "\n"
     ]
    },
    {
     "data": {
      "application/vnd.jupyter.widget-view+json": {
       "model_id": "396db0c4bdf64d20a07dd82400d890c4",
       "version_major": 2,
       "version_minor": 0
      },
      "text/plain": [
       "A Jupyter Widget"
      ]
     },
     "metadata": {},
     "output_type": "display_data"
    },
    {
     "name": "stdout",
     "output_type": "stream",
     "text": [
      "\n"
     ]
    },
    {
     "data": {
      "application/vnd.jupyter.widget-view+json": {
       "model_id": "a4dcaae85c2d4f46ac861d2715f49f66",
       "version_major": 2,
       "version_minor": 0
      },
      "text/plain": [
       "A Jupyter Widget"
      ]
     },
     "metadata": {},
     "output_type": "display_data"
    },
    {
     "name": "stdout",
     "output_type": "stream",
     "text": [
      "\n"
     ]
    },
    {
     "data": {
      "application/vnd.jupyter.widget-view+json": {
       "model_id": "09282875dd7a400897eb20ca44433295",
       "version_major": 2,
       "version_minor": 0
      },
      "text/plain": [
       "A Jupyter Widget"
      ]
     },
     "metadata": {},
     "output_type": "display_data"
    },
    {
     "name": "stdout",
     "output_type": "stream",
     "text": [
      "\n"
     ]
    },
    {
     "data": {
      "application/vnd.jupyter.widget-view+json": {
       "model_id": "707556fef8d348c1871bf44424b3d0ed",
       "version_major": 2,
       "version_minor": 0
      },
      "text/plain": [
       "A Jupyter Widget"
      ]
     },
     "metadata": {},
     "output_type": "display_data"
    },
    {
     "name": "stdout",
     "output_type": "stream",
     "text": [
      "\n"
     ]
    },
    {
     "data": {
      "application/vnd.jupyter.widget-view+json": {
       "model_id": "7062bf108db043359b359eb68f3ec30c",
       "version_major": 2,
       "version_minor": 0
      },
      "text/plain": [
       "A Jupyter Widget"
      ]
     },
     "metadata": {},
     "output_type": "display_data"
    },
    {
     "name": "stdout",
     "output_type": "stream",
     "text": [
      "\n"
     ]
    },
    {
     "data": {
      "application/vnd.jupyter.widget-view+json": {
       "model_id": "0c3fa66ca8db425484aa311ba71da9ff",
       "version_major": 2,
       "version_minor": 0
      },
      "text/plain": [
       "A Jupyter Widget"
      ]
     },
     "metadata": {},
     "output_type": "display_data"
    },
    {
     "name": "stdout",
     "output_type": "stream",
     "text": [
      "\n"
     ]
    },
    {
     "data": {
      "application/vnd.jupyter.widget-view+json": {
       "model_id": "429568f1868b4f3db94877d00f54062e",
       "version_major": 2,
       "version_minor": 0
      },
      "text/plain": [
       "A Jupyter Widget"
      ]
     },
     "metadata": {},
     "output_type": "display_data"
    },
    {
     "name": "stdout",
     "output_type": "stream",
     "text": [
      "\n"
     ]
    },
    {
     "data": {
      "application/vnd.jupyter.widget-view+json": {
       "model_id": "751bfc9e5ef14a718417c8cc3493eed3",
       "version_major": 2,
       "version_minor": 0
      },
      "text/plain": [
       "A Jupyter Widget"
      ]
     },
     "metadata": {},
     "output_type": "display_data"
    },
    {
     "name": "stdout",
     "output_type": "stream",
     "text": [
      "\n"
     ]
    },
    {
     "data": {
      "application/vnd.jupyter.widget-view+json": {
       "model_id": "8fc063e393ad44bda3a6a4d6625ba0c2",
       "version_major": 2,
       "version_minor": 0
      },
      "text/plain": [
       "A Jupyter Widget"
      ]
     },
     "metadata": {},
     "output_type": "display_data"
    },
    {
     "name": "stdout",
     "output_type": "stream",
     "text": [
      "\n"
     ]
    },
    {
     "data": {
      "application/vnd.jupyter.widget-view+json": {
       "model_id": "719834e4eb9e4548a7d6c6c96642358d",
       "version_major": 2,
       "version_minor": 0
      },
      "text/plain": [
       "A Jupyter Widget"
      ]
     },
     "metadata": {},
     "output_type": "display_data"
    },
    {
     "name": "stdout",
     "output_type": "stream",
     "text": [
      "\n"
     ]
    },
    {
     "data": {
      "application/vnd.jupyter.widget-view+json": {
       "model_id": "b5c12dd440b84189af553fc9d92eb9bc",
       "version_major": 2,
       "version_minor": 0
      },
      "text/plain": [
       "A Jupyter Widget"
      ]
     },
     "metadata": {},
     "output_type": "display_data"
    },
    {
     "name": "stdout",
     "output_type": "stream",
     "text": [
      "\n"
     ]
    },
    {
     "data": {
      "application/vnd.jupyter.widget-view+json": {
       "model_id": "11ad30083ae2427da264ce77bfe62b54",
       "version_major": 2,
       "version_minor": 0
      },
      "text/plain": [
       "A Jupyter Widget"
      ]
     },
     "metadata": {},
     "output_type": "display_data"
    },
    {
     "name": "stdout",
     "output_type": "stream",
     "text": [
      "\n"
     ]
    },
    {
     "data": {
      "application/vnd.jupyter.widget-view+json": {
       "model_id": "0e2ea838af2b4b21879fad8da6312336",
       "version_major": 2,
       "version_minor": 0
      },
      "text/plain": [
       "A Jupyter Widget"
      ]
     },
     "metadata": {},
     "output_type": "display_data"
    },
    {
     "name": "stdout",
     "output_type": "stream",
     "text": [
      "\n"
     ]
    },
    {
     "data": {
      "application/vnd.jupyter.widget-view+json": {
       "model_id": "774cebe045ff45a1b6f2ed0a2d29693e",
       "version_major": 2,
       "version_minor": 0
      },
      "text/plain": [
       "A Jupyter Widget"
      ]
     },
     "metadata": {},
     "output_type": "display_data"
    },
    {
     "name": "stdout",
     "output_type": "stream",
     "text": [
      "\n"
     ]
    },
    {
     "data": {
      "application/vnd.jupyter.widget-view+json": {
       "model_id": "d67bb01f2fa240b4a02068e5ad03333a",
       "version_major": 2,
       "version_minor": 0
      },
      "text/plain": [
       "A Jupyter Widget"
      ]
     },
     "metadata": {},
     "output_type": "display_data"
    },
    {
     "name": "stdout",
     "output_type": "stream",
     "text": [
      "\n"
     ]
    },
    {
     "data": {
      "application/vnd.jupyter.widget-view+json": {
       "model_id": "62c6d8da9b314eabbd25f031ddaa4dae",
       "version_major": 2,
       "version_minor": 0
      },
      "text/plain": [
       "A Jupyter Widget"
      ]
     },
     "metadata": {},
     "output_type": "display_data"
    },
    {
     "name": "stdout",
     "output_type": "stream",
     "text": [
      "\n"
     ]
    },
    {
     "data": {
      "application/vnd.jupyter.widget-view+json": {
       "model_id": "d7c307b7f58146abaea89035cb353d25",
       "version_major": 2,
       "version_minor": 0
      },
      "text/plain": [
       "A Jupyter Widget"
      ]
     },
     "metadata": {},
     "output_type": "display_data"
    },
    {
     "name": "stdout",
     "output_type": "stream",
     "text": [
      "\n"
     ]
    },
    {
     "data": {
      "application/vnd.jupyter.widget-view+json": {
       "model_id": "aeb82ffee1f745f9b6d2509ed91567e5",
       "version_major": 2,
       "version_minor": 0
      },
      "text/plain": [
       "A Jupyter Widget"
      ]
     },
     "metadata": {},
     "output_type": "display_data"
    },
    {
     "name": "stdout",
     "output_type": "stream",
     "text": [
      "\n"
     ]
    },
    {
     "data": {
      "application/vnd.jupyter.widget-view+json": {
       "model_id": "a475256384b14d78b3baf3c2f3928b94",
       "version_major": 2,
       "version_minor": 0
      },
      "text/plain": [
       "A Jupyter Widget"
      ]
     },
     "metadata": {},
     "output_type": "display_data"
    },
    {
     "name": "stdout",
     "output_type": "stream",
     "text": [
      "\n"
     ]
    },
    {
     "data": {
      "application/vnd.jupyter.widget-view+json": {
       "model_id": "30ec917ce9cf40c78157b898ca5d822d",
       "version_major": 2,
       "version_minor": 0
      },
      "text/plain": [
       "A Jupyter Widget"
      ]
     },
     "metadata": {},
     "output_type": "display_data"
    },
    {
     "name": "stdout",
     "output_type": "stream",
     "text": [
      "\n"
     ]
    },
    {
     "data": {
      "application/vnd.jupyter.widget-view+json": {
       "model_id": "13806d22c4144d33a64d30013699c9bd",
       "version_major": 2,
       "version_minor": 0
      },
      "text/plain": [
       "A Jupyter Widget"
      ]
     },
     "metadata": {},
     "output_type": "display_data"
    },
    {
     "name": "stdout",
     "output_type": "stream",
     "text": [
      "\n"
     ]
    },
    {
     "data": {
      "application/vnd.jupyter.widget-view+json": {
       "model_id": "73e388a7bba34d8cad6f1a244208846c",
       "version_major": 2,
       "version_minor": 0
      },
      "text/plain": [
       "A Jupyter Widget"
      ]
     },
     "metadata": {},
     "output_type": "display_data"
    },
    {
     "name": "stdout",
     "output_type": "stream",
     "text": [
      "\n"
     ]
    },
    {
     "data": {
      "application/vnd.jupyter.widget-view+json": {
       "model_id": "bd07d8766c5c4a8b858ba4592b48cf4f",
       "version_major": 2,
       "version_minor": 0
      },
      "text/plain": [
       "A Jupyter Widget"
      ]
     },
     "metadata": {},
     "output_type": "display_data"
    },
    {
     "name": "stdout",
     "output_type": "stream",
     "text": [
      "\n"
     ]
    },
    {
     "data": {
      "application/vnd.jupyter.widget-view+json": {
       "model_id": "f4ef7388bc3a48d68639f8af8871e5f0",
       "version_major": 2,
       "version_minor": 0
      },
      "text/plain": [
       "A Jupyter Widget"
      ]
     },
     "metadata": {},
     "output_type": "display_data"
    },
    {
     "name": "stdout",
     "output_type": "stream",
     "text": [
      "\n"
     ]
    },
    {
     "data": {
      "application/vnd.jupyter.widget-view+json": {
       "model_id": "b00110da6b8a4787992fd056bb9c32b4",
       "version_major": 2,
       "version_minor": 0
      },
      "text/plain": [
       "A Jupyter Widget"
      ]
     },
     "metadata": {},
     "output_type": "display_data"
    },
    {
     "name": "stdout",
     "output_type": "stream",
     "text": [
      "\n"
     ]
    },
    {
     "data": {
      "application/vnd.jupyter.widget-view+json": {
       "model_id": "aa63acbb364545d6975fefd2287f70f3",
       "version_major": 2,
       "version_minor": 0
      },
      "text/plain": [
       "A Jupyter Widget"
      ]
     },
     "metadata": {},
     "output_type": "display_data"
    },
    {
     "name": "stdout",
     "output_type": "stream",
     "text": [
      "\n"
     ]
    },
    {
     "data": {
      "application/vnd.jupyter.widget-view+json": {
       "model_id": "e7748128fffa412ab83ff8526c0cacb5",
       "version_major": 2,
       "version_minor": 0
      },
      "text/plain": [
       "A Jupyter Widget"
      ]
     },
     "metadata": {},
     "output_type": "display_data"
    },
    {
     "name": "stdout",
     "output_type": "stream",
     "text": [
      "\n"
     ]
    },
    {
     "data": {
      "application/vnd.jupyter.widget-view+json": {
       "model_id": "5cdd2b0f35194cecb03af070c1a2df3e",
       "version_major": 2,
       "version_minor": 0
      },
      "text/plain": [
       "A Jupyter Widget"
      ]
     },
     "metadata": {},
     "output_type": "display_data"
    },
    {
     "name": "stdout",
     "output_type": "stream",
     "text": [
      "\n"
     ]
    },
    {
     "data": {
      "application/vnd.jupyter.widget-view+json": {
       "model_id": "4d325e8ce5554cd5b570dd5411611cea",
       "version_major": 2,
       "version_minor": 0
      },
      "text/plain": [
       "A Jupyter Widget"
      ]
     },
     "metadata": {},
     "output_type": "display_data"
    },
    {
     "name": "stdout",
     "output_type": "stream",
     "text": [
      "\n"
     ]
    },
    {
     "data": {
      "application/vnd.jupyter.widget-view+json": {
       "model_id": "a44d7b1b9c0d4929bdad4ac6a38b911e",
       "version_major": 2,
       "version_minor": 0
      },
      "text/plain": [
       "A Jupyter Widget"
      ]
     },
     "metadata": {},
     "output_type": "display_data"
    },
    {
     "name": "stdout",
     "output_type": "stream",
     "text": [
      "\n"
     ]
    },
    {
     "data": {
      "application/vnd.jupyter.widget-view+json": {
       "model_id": "904f612715ca429f9265e80b9cb6644f",
       "version_major": 2,
       "version_minor": 0
      },
      "text/plain": [
       "A Jupyter Widget"
      ]
     },
     "metadata": {},
     "output_type": "display_data"
    },
    {
     "name": "stdout",
     "output_type": "stream",
     "text": [
      "\n"
     ]
    },
    {
     "data": {
      "application/vnd.jupyter.widget-view+json": {
       "model_id": "18272815fc234b2b8f08b875194c3045",
       "version_major": 2,
       "version_minor": 0
      },
      "text/plain": [
       "A Jupyter Widget"
      ]
     },
     "metadata": {},
     "output_type": "display_data"
    },
    {
     "name": "stdout",
     "output_type": "stream",
     "text": [
      "\n"
     ]
    },
    {
     "data": {
      "application/vnd.jupyter.widget-view+json": {
       "model_id": "8c413c21c93247508149a5d503e910f8",
       "version_major": 2,
       "version_minor": 0
      },
      "text/plain": [
       "A Jupyter Widget"
      ]
     },
     "metadata": {},
     "output_type": "display_data"
    },
    {
     "name": "stdout",
     "output_type": "stream",
     "text": [
      "\n"
     ]
    },
    {
     "data": {
      "application/vnd.jupyter.widget-view+json": {
       "model_id": "02310c7f62074e1293f5ce76cb960a99",
       "version_major": 2,
       "version_minor": 0
      },
      "text/plain": [
       "A Jupyter Widget"
      ]
     },
     "metadata": {},
     "output_type": "display_data"
    },
    {
     "name": "stdout",
     "output_type": "stream",
     "text": [
      "\n"
     ]
    },
    {
     "data": {
      "application/vnd.jupyter.widget-view+json": {
       "model_id": "03607c9d8d1b4eb2b4de4a24d5246da5",
       "version_major": 2,
       "version_minor": 0
      },
      "text/plain": [
       "A Jupyter Widget"
      ]
     },
     "metadata": {},
     "output_type": "display_data"
    },
    {
     "name": "stdout",
     "output_type": "stream",
     "text": [
      "\n"
     ]
    },
    {
     "data": {
      "application/vnd.jupyter.widget-view+json": {
       "model_id": "1ac9932599444f07a594e6aaf16b4a5b",
       "version_major": 2,
       "version_minor": 0
      },
      "text/plain": [
       "A Jupyter Widget"
      ]
     },
     "metadata": {},
     "output_type": "display_data"
    },
    {
     "name": "stdout",
     "output_type": "stream",
     "text": [
      "\n"
     ]
    },
    {
     "data": {
      "application/vnd.jupyter.widget-view+json": {
       "model_id": "b3afdd1e0565454ead6a77764ffc8e28",
       "version_major": 2,
       "version_minor": 0
      },
      "text/plain": [
       "A Jupyter Widget"
      ]
     },
     "metadata": {},
     "output_type": "display_data"
    },
    {
     "name": "stdout",
     "output_type": "stream",
     "text": [
      "\n"
     ]
    },
    {
     "data": {
      "application/vnd.jupyter.widget-view+json": {
       "model_id": "4fecd98b54f040159e445dec53b83c0b",
       "version_major": 2,
       "version_minor": 0
      },
      "text/plain": [
       "A Jupyter Widget"
      ]
     },
     "metadata": {},
     "output_type": "display_data"
    },
    {
     "name": "stdout",
     "output_type": "stream",
     "text": [
      "\n"
     ]
    },
    {
     "data": {
      "application/vnd.jupyter.widget-view+json": {
       "model_id": "e69436a7d2c64380b340922e71c998d3",
       "version_major": 2,
       "version_minor": 0
      },
      "text/plain": [
       "A Jupyter Widget"
      ]
     },
     "metadata": {},
     "output_type": "display_data"
    },
    {
     "name": "stdout",
     "output_type": "stream",
     "text": [
      "\n"
     ]
    },
    {
     "data": {
      "application/vnd.jupyter.widget-view+json": {
       "model_id": "714f585a53444596a362d652321efa7c",
       "version_major": 2,
       "version_minor": 0
      },
      "text/plain": [
       "A Jupyter Widget"
      ]
     },
     "metadata": {},
     "output_type": "display_data"
    },
    {
     "name": "stdout",
     "output_type": "stream",
     "text": [
      "\n"
     ]
    },
    {
     "data": {
      "application/vnd.jupyter.widget-view+json": {
       "model_id": "94b867fffddb4608b252986366a64332",
       "version_major": 2,
       "version_minor": 0
      },
      "text/plain": [
       "A Jupyter Widget"
      ]
     },
     "metadata": {},
     "output_type": "display_data"
    },
    {
     "name": "stdout",
     "output_type": "stream",
     "text": [
      "\n"
     ]
    },
    {
     "data": {
      "application/vnd.jupyter.widget-view+json": {
       "model_id": "bbd9869371e242fe9052c77b9a5c0b33",
       "version_major": 2,
       "version_minor": 0
      },
      "text/plain": [
       "A Jupyter Widget"
      ]
     },
     "metadata": {},
     "output_type": "display_data"
    },
    {
     "name": "stdout",
     "output_type": "stream",
     "text": [
      "\n"
     ]
    },
    {
     "data": {
      "application/vnd.jupyter.widget-view+json": {
       "model_id": "95e63142f5dc4a7a872c6c9a53e49424",
       "version_major": 2,
       "version_minor": 0
      },
      "text/plain": [
       "A Jupyter Widget"
      ]
     },
     "metadata": {},
     "output_type": "display_data"
    },
    {
     "name": "stdout",
     "output_type": "stream",
     "text": [
      "\n"
     ]
    },
    {
     "data": {
      "application/vnd.jupyter.widget-view+json": {
       "model_id": "38c9f9e4c2dc4a78960226f4513f9b6d",
       "version_major": 2,
       "version_minor": 0
      },
      "text/plain": [
       "A Jupyter Widget"
      ]
     },
     "metadata": {},
     "output_type": "display_data"
    },
    {
     "name": "stdout",
     "output_type": "stream",
     "text": [
      "\n"
     ]
    },
    {
     "data": {
      "application/vnd.jupyter.widget-view+json": {
       "model_id": "2e3246ae5b3b458a913093697eac672b",
       "version_major": 2,
       "version_minor": 0
      },
      "text/plain": [
       "A Jupyter Widget"
      ]
     },
     "metadata": {},
     "output_type": "display_data"
    },
    {
     "name": "stdout",
     "output_type": "stream",
     "text": [
      "\n"
     ]
    },
    {
     "data": {
      "application/vnd.jupyter.widget-view+json": {
       "model_id": "98b1946d67a2411da371c3746b8d9078",
       "version_major": 2,
       "version_minor": 0
      },
      "text/plain": [
       "A Jupyter Widget"
      ]
     },
     "metadata": {},
     "output_type": "display_data"
    },
    {
     "name": "stdout",
     "output_type": "stream",
     "text": [
      "\n"
     ]
    },
    {
     "data": {
      "application/vnd.jupyter.widget-view+json": {
       "model_id": "b07bdfd5f2724f7bacea9946275ee449",
       "version_major": 2,
       "version_minor": 0
      },
      "text/plain": [
       "A Jupyter Widget"
      ]
     },
     "metadata": {},
     "output_type": "display_data"
    },
    {
     "name": "stdout",
     "output_type": "stream",
     "text": [
      "\n"
     ]
    },
    {
     "data": {
      "application/vnd.jupyter.widget-view+json": {
       "model_id": "ce3fb976811b4153b17a9fa10f416945",
       "version_major": 2,
       "version_minor": 0
      },
      "text/plain": [
       "A Jupyter Widget"
      ]
     },
     "metadata": {},
     "output_type": "display_data"
    },
    {
     "name": "stdout",
     "output_type": "stream",
     "text": [
      "\n"
     ]
    },
    {
     "data": {
      "application/vnd.jupyter.widget-view+json": {
       "model_id": "b93097a06fcb4f0a8e4813f415d58a35",
       "version_major": 2,
       "version_minor": 0
      },
      "text/plain": [
       "A Jupyter Widget"
      ]
     },
     "metadata": {},
     "output_type": "display_data"
    },
    {
     "name": "stdout",
     "output_type": "stream",
     "text": [
      "\n"
     ]
    },
    {
     "data": {
      "application/vnd.jupyter.widget-view+json": {
       "model_id": "7b1b8d9935c049e38c648dc39bce41a4",
       "version_major": 2,
       "version_minor": 0
      },
      "text/plain": [
       "A Jupyter Widget"
      ]
     },
     "metadata": {},
     "output_type": "display_data"
    },
    {
     "name": "stdout",
     "output_type": "stream",
     "text": [
      "\n"
     ]
    },
    {
     "data": {
      "application/vnd.jupyter.widget-view+json": {
       "model_id": "48c52657ea7d44d69ba8b1576c93229b",
       "version_major": 2,
       "version_minor": 0
      },
      "text/plain": [
       "A Jupyter Widget"
      ]
     },
     "metadata": {},
     "output_type": "display_data"
    },
    {
     "name": "stdout",
     "output_type": "stream",
     "text": [
      "\n"
     ]
    },
    {
     "data": {
      "application/vnd.jupyter.widget-view+json": {
       "model_id": "27a25fdd3a99414b8bf77aca9f5691b8",
       "version_major": 2,
       "version_minor": 0
      },
      "text/plain": [
       "A Jupyter Widget"
      ]
     },
     "metadata": {},
     "output_type": "display_data"
    },
    {
     "name": "stdout",
     "output_type": "stream",
     "text": [
      "\n"
     ]
    },
    {
     "data": {
      "application/vnd.jupyter.widget-view+json": {
       "model_id": "3e4fec84a47f4791ba9fa1ee06dc8d7b",
       "version_major": 2,
       "version_minor": 0
      },
      "text/plain": [
       "A Jupyter Widget"
      ]
     },
     "metadata": {},
     "output_type": "display_data"
    },
    {
     "name": "stdout",
     "output_type": "stream",
     "text": [
      "\n"
     ]
    },
    {
     "data": {
      "application/vnd.jupyter.widget-view+json": {
       "model_id": "34bdd5a36e1c42829d04483e689b0820",
       "version_major": 2,
       "version_minor": 0
      },
      "text/plain": [
       "A Jupyter Widget"
      ]
     },
     "metadata": {},
     "output_type": "display_data"
    },
    {
     "name": "stdout",
     "output_type": "stream",
     "text": [
      "\n"
     ]
    },
    {
     "data": {
      "application/vnd.jupyter.widget-view+json": {
       "model_id": "5cbb4d9e9fb443918ebb5073472f4f22",
       "version_major": 2,
       "version_minor": 0
      },
      "text/plain": [
       "A Jupyter Widget"
      ]
     },
     "metadata": {},
     "output_type": "display_data"
    },
    {
     "name": "stdout",
     "output_type": "stream",
     "text": [
      "\n"
     ]
    },
    {
     "data": {
      "application/vnd.jupyter.widget-view+json": {
       "model_id": "3aaa5eeb407b4de68a82e2f0c2b688b8",
       "version_major": 2,
       "version_minor": 0
      },
      "text/plain": [
       "A Jupyter Widget"
      ]
     },
     "metadata": {},
     "output_type": "display_data"
    },
    {
     "name": "stdout",
     "output_type": "stream",
     "text": [
      "\n"
     ]
    },
    {
     "data": {
      "application/vnd.jupyter.widget-view+json": {
       "model_id": "f4a8fc79fabd4a59be62b29825ef1538",
       "version_major": 2,
       "version_minor": 0
      },
      "text/plain": [
       "A Jupyter Widget"
      ]
     },
     "metadata": {},
     "output_type": "display_data"
    },
    {
     "name": "stdout",
     "output_type": "stream",
     "text": [
      "\n"
     ]
    },
    {
     "data": {
      "application/vnd.jupyter.widget-view+json": {
       "model_id": "8db82f44ec5f4e4983065f39446b1736",
       "version_major": 2,
       "version_minor": 0
      },
      "text/plain": [
       "A Jupyter Widget"
      ]
     },
     "metadata": {},
     "output_type": "display_data"
    },
    {
     "name": "stdout",
     "output_type": "stream",
     "text": [
      "\n"
     ]
    },
    {
     "data": {
      "application/vnd.jupyter.widget-view+json": {
       "model_id": "5457d05cc631459cad71cd5d89d17826",
       "version_major": 2,
       "version_minor": 0
      },
      "text/plain": [
       "A Jupyter Widget"
      ]
     },
     "metadata": {},
     "output_type": "display_data"
    },
    {
     "name": "stdout",
     "output_type": "stream",
     "text": [
      "\n"
     ]
    },
    {
     "data": {
      "application/vnd.jupyter.widget-view+json": {
       "model_id": "c77bb79ab7cf49cca382fee0fbeb91f3",
       "version_major": 2,
       "version_minor": 0
      },
      "text/plain": [
       "A Jupyter Widget"
      ]
     },
     "metadata": {},
     "output_type": "display_data"
    },
    {
     "name": "stdout",
     "output_type": "stream",
     "text": [
      "\n"
     ]
    },
    {
     "data": {
      "application/vnd.jupyter.widget-view+json": {
       "model_id": "f3e78533c96742c6b21b50ea62ba3625",
       "version_major": 2,
       "version_minor": 0
      },
      "text/plain": [
       "A Jupyter Widget"
      ]
     },
     "metadata": {},
     "output_type": "display_data"
    },
    {
     "name": "stdout",
     "output_type": "stream",
     "text": [
      "\n"
     ]
    },
    {
     "data": {
      "application/vnd.jupyter.widget-view+json": {
       "model_id": "ed6498e874e34b6da4149ba044805f51",
       "version_major": 2,
       "version_minor": 0
      },
      "text/plain": [
       "A Jupyter Widget"
      ]
     },
     "metadata": {},
     "output_type": "display_data"
    },
    {
     "name": "stdout",
     "output_type": "stream",
     "text": [
      "\n"
     ]
    },
    {
     "data": {
      "application/vnd.jupyter.widget-view+json": {
       "model_id": "1566ef821381416b8b67510ffcaabe53",
       "version_major": 2,
       "version_minor": 0
      },
      "text/plain": [
       "A Jupyter Widget"
      ]
     },
     "metadata": {},
     "output_type": "display_data"
    },
    {
     "name": "stdout",
     "output_type": "stream",
     "text": [
      "\n"
     ]
    },
    {
     "data": {
      "application/vnd.jupyter.widget-view+json": {
       "model_id": "4794264098e84c13861588e924708f4d",
       "version_major": 2,
       "version_minor": 0
      },
      "text/plain": [
       "A Jupyter Widget"
      ]
     },
     "metadata": {},
     "output_type": "display_data"
    },
    {
     "name": "stdout",
     "output_type": "stream",
     "text": [
      "\n"
     ]
    },
    {
     "data": {
      "application/vnd.jupyter.widget-view+json": {
       "model_id": "fd12efd7634c48c6bfdcd592d5a72950",
       "version_major": 2,
       "version_minor": 0
      },
      "text/plain": [
       "A Jupyter Widget"
      ]
     },
     "metadata": {},
     "output_type": "display_data"
    },
    {
     "name": "stdout",
     "output_type": "stream",
     "text": [
      "\n"
     ]
    },
    {
     "data": {
      "application/vnd.jupyter.widget-view+json": {
       "model_id": "5dc175fdec7343e2a6555fada6e78053",
       "version_major": 2,
       "version_minor": 0
      },
      "text/plain": [
       "A Jupyter Widget"
      ]
     },
     "metadata": {},
     "output_type": "display_data"
    },
    {
     "name": "stdout",
     "output_type": "stream",
     "text": [
      "\n"
     ]
    },
    {
     "data": {
      "application/vnd.jupyter.widget-view+json": {
       "model_id": "efb1afa5c5524f339bc3fe331f1b8a28",
       "version_major": 2,
       "version_minor": 0
      },
      "text/plain": [
       "A Jupyter Widget"
      ]
     },
     "metadata": {},
     "output_type": "display_data"
    },
    {
     "name": "stdout",
     "output_type": "stream",
     "text": [
      "\n"
     ]
    },
    {
     "data": {
      "application/vnd.jupyter.widget-view+json": {
       "model_id": "5b7be9d348e2456b80b7dfbeaa405afa",
       "version_major": 2,
       "version_minor": 0
      },
      "text/plain": [
       "A Jupyter Widget"
      ]
     },
     "metadata": {},
     "output_type": "display_data"
    },
    {
     "name": "stdout",
     "output_type": "stream",
     "text": [
      "\n"
     ]
    },
    {
     "data": {
      "application/vnd.jupyter.widget-view+json": {
       "model_id": "596de486575f4f78af4ca1329186ea79",
       "version_major": 2,
       "version_minor": 0
      },
      "text/plain": [
       "A Jupyter Widget"
      ]
     },
     "metadata": {},
     "output_type": "display_data"
    },
    {
     "name": "stdout",
     "output_type": "stream",
     "text": [
      "\n"
     ]
    },
    {
     "data": {
      "application/vnd.jupyter.widget-view+json": {
       "model_id": "dc21676860b642028fc928ff13c9bad8",
       "version_major": 2,
       "version_minor": 0
      },
      "text/plain": [
       "A Jupyter Widget"
      ]
     },
     "metadata": {},
     "output_type": "display_data"
    },
    {
     "name": "stdout",
     "output_type": "stream",
     "text": [
      "\n"
     ]
    },
    {
     "data": {
      "application/vnd.jupyter.widget-view+json": {
       "model_id": "b88152ffe2ec46aba604e56c4c4bd887",
       "version_major": 2,
       "version_minor": 0
      },
      "text/plain": [
       "A Jupyter Widget"
      ]
     },
     "metadata": {},
     "output_type": "display_data"
    },
    {
     "name": "stdout",
     "output_type": "stream",
     "text": [
      "\n"
     ]
    },
    {
     "data": {
      "application/vnd.jupyter.widget-view+json": {
       "model_id": "c3e14e2190a54bc48d80e51d1c76ce6f",
       "version_major": 2,
       "version_minor": 0
      },
      "text/plain": [
       "A Jupyter Widget"
      ]
     },
     "metadata": {},
     "output_type": "display_data"
    },
    {
     "name": "stdout",
     "output_type": "stream",
     "text": [
      "\n"
     ]
    },
    {
     "data": {
      "application/vnd.jupyter.widget-view+json": {
       "model_id": "dd21d6cca44642fa9dbc4efa802e2580",
       "version_major": 2,
       "version_minor": 0
      },
      "text/plain": [
       "A Jupyter Widget"
      ]
     },
     "metadata": {},
     "output_type": "display_data"
    },
    {
     "name": "stdout",
     "output_type": "stream",
     "text": [
      "\n"
     ]
    },
    {
     "data": {
      "application/vnd.jupyter.widget-view+json": {
       "model_id": "bd78f1eca70649399a2ae8c2d01b9b36",
       "version_major": 2,
       "version_minor": 0
      },
      "text/plain": [
       "A Jupyter Widget"
      ]
     },
     "metadata": {},
     "output_type": "display_data"
    },
    {
     "name": "stdout",
     "output_type": "stream",
     "text": [
      "\n"
     ]
    },
    {
     "data": {
      "application/vnd.jupyter.widget-view+json": {
       "model_id": "40ce481e35a44c2698ec7e7775647052",
       "version_major": 2,
       "version_minor": 0
      },
      "text/plain": [
       "A Jupyter Widget"
      ]
     },
     "metadata": {},
     "output_type": "display_data"
    },
    {
     "name": "stdout",
     "output_type": "stream",
     "text": [
      "\n"
     ]
    },
    {
     "data": {
      "application/vnd.jupyter.widget-view+json": {
       "model_id": "45833ba9503f492e851878b9bd89361e",
       "version_major": 2,
       "version_minor": 0
      },
      "text/plain": [
       "A Jupyter Widget"
      ]
     },
     "metadata": {},
     "output_type": "display_data"
    },
    {
     "name": "stdout",
     "output_type": "stream",
     "text": [
      "\n"
     ]
    },
    {
     "data": {
      "application/vnd.jupyter.widget-view+json": {
       "model_id": "8fcb15254cd74f239cbbeaf9c508611c",
       "version_major": 2,
       "version_minor": 0
      },
      "text/plain": [
       "A Jupyter Widget"
      ]
     },
     "metadata": {},
     "output_type": "display_data"
    },
    {
     "name": "stdout",
     "output_type": "stream",
     "text": [
      "\n"
     ]
    },
    {
     "data": {
      "application/vnd.jupyter.widget-view+json": {
       "model_id": "cbf15200d0574faab1f518dcb3ad3858",
       "version_major": 2,
       "version_minor": 0
      },
      "text/plain": [
       "A Jupyter Widget"
      ]
     },
     "metadata": {},
     "output_type": "display_data"
    },
    {
     "name": "stdout",
     "output_type": "stream",
     "text": [
      "\n"
     ]
    },
    {
     "data": {
      "application/vnd.jupyter.widget-view+json": {
       "model_id": "9100fe77986e47bca6455ec22aee54cb",
       "version_major": 2,
       "version_minor": 0
      },
      "text/plain": [
       "A Jupyter Widget"
      ]
     },
     "metadata": {},
     "output_type": "display_data"
    },
    {
     "name": "stdout",
     "output_type": "stream",
     "text": [
      "\n"
     ]
    },
    {
     "data": {
      "application/vnd.jupyter.widget-view+json": {
       "model_id": "01b21b51839b4c06b9fb7d933f0d3f25",
       "version_major": 2,
       "version_minor": 0
      },
      "text/plain": [
       "A Jupyter Widget"
      ]
     },
     "metadata": {},
     "output_type": "display_data"
    },
    {
     "name": "stdout",
     "output_type": "stream",
     "text": [
      "\n"
     ]
    },
    {
     "data": {
      "application/vnd.jupyter.widget-view+json": {
       "model_id": "5890ad6c8c4145fd9e8b9441c1e98256",
       "version_major": 2,
       "version_minor": 0
      },
      "text/plain": [
       "A Jupyter Widget"
      ]
     },
     "metadata": {},
     "output_type": "display_data"
    },
    {
     "name": "stdout",
     "output_type": "stream",
     "text": [
      "\n"
     ]
    },
    {
     "data": {
      "application/vnd.jupyter.widget-view+json": {
       "model_id": "451c02e4115d407a864614363609c8e5",
       "version_major": 2,
       "version_minor": 0
      },
      "text/plain": [
       "A Jupyter Widget"
      ]
     },
     "metadata": {},
     "output_type": "display_data"
    },
    {
     "name": "stdout",
     "output_type": "stream",
     "text": [
      "\n"
     ]
    },
    {
     "data": {
      "application/vnd.jupyter.widget-view+json": {
       "model_id": "f53b50dd40454d8db6703814d160ab89",
       "version_major": 2,
       "version_minor": 0
      },
      "text/plain": [
       "A Jupyter Widget"
      ]
     },
     "metadata": {},
     "output_type": "display_data"
    },
    {
     "name": "stdout",
     "output_type": "stream",
     "text": [
      "\n"
     ]
    },
    {
     "data": {
      "application/vnd.jupyter.widget-view+json": {
       "model_id": "1781b6374a604b62a7a4a9c36fcf1c62",
       "version_major": 2,
       "version_minor": 0
      },
      "text/plain": [
       "A Jupyter Widget"
      ]
     },
     "metadata": {},
     "output_type": "display_data"
    },
    {
     "name": "stdout",
     "output_type": "stream",
     "text": [
      "\n"
     ]
    },
    {
     "data": {
      "application/vnd.jupyter.widget-view+json": {
       "model_id": "476978849841402badb74fd516553e27",
       "version_major": 2,
       "version_minor": 0
      },
      "text/plain": [
       "A Jupyter Widget"
      ]
     },
     "metadata": {},
     "output_type": "display_data"
    },
    {
     "name": "stdout",
     "output_type": "stream",
     "text": [
      "\n"
     ]
    },
    {
     "data": {
      "application/vnd.jupyter.widget-view+json": {
       "model_id": "50596d0cb7424f46b78711047700fe52",
       "version_major": 2,
       "version_minor": 0
      },
      "text/plain": [
       "A Jupyter Widget"
      ]
     },
     "metadata": {},
     "output_type": "display_data"
    },
    {
     "name": "stdout",
     "output_type": "stream",
     "text": [
      "\n"
     ]
    },
    {
     "data": {
      "application/vnd.jupyter.widget-view+json": {
       "model_id": "a0a70ca54b304f9cad259c72631e7df7",
       "version_major": 2,
       "version_minor": 0
      },
      "text/plain": [
       "A Jupyter Widget"
      ]
     },
     "metadata": {},
     "output_type": "display_data"
    },
    {
     "name": "stdout",
     "output_type": "stream",
     "text": [
      "\n"
     ]
    },
    {
     "data": {
      "application/vnd.jupyter.widget-view+json": {
       "model_id": "61c88c6b7ae640938b2924260bb6c3b5",
       "version_major": 2,
       "version_minor": 0
      },
      "text/plain": [
       "A Jupyter Widget"
      ]
     },
     "metadata": {},
     "output_type": "display_data"
    },
    {
     "name": "stdout",
     "output_type": "stream",
     "text": [
      "\n"
     ]
    },
    {
     "data": {
      "application/vnd.jupyter.widget-view+json": {
       "model_id": "f06d994cb8654b1896971605e76a5fbf",
       "version_major": 2,
       "version_minor": 0
      },
      "text/plain": [
       "A Jupyter Widget"
      ]
     },
     "metadata": {},
     "output_type": "display_data"
    },
    {
     "name": "stdout",
     "output_type": "stream",
     "text": [
      "\n"
     ]
    },
    {
     "data": {
      "application/vnd.jupyter.widget-view+json": {
       "model_id": "ea5b36700a5d4025a14a914b537f94de",
       "version_major": 2,
       "version_minor": 0
      },
      "text/plain": [
       "A Jupyter Widget"
      ]
     },
     "metadata": {},
     "output_type": "display_data"
    },
    {
     "name": "stdout",
     "output_type": "stream",
     "text": [
      "\n"
     ]
    },
    {
     "data": {
      "application/vnd.jupyter.widget-view+json": {
       "model_id": "67ca2d36201c4f1781244f09b9680d76",
       "version_major": 2,
       "version_minor": 0
      },
      "text/plain": [
       "A Jupyter Widget"
      ]
     },
     "metadata": {},
     "output_type": "display_data"
    },
    {
     "name": "stdout",
     "output_type": "stream",
     "text": [
      "\n"
     ]
    },
    {
     "data": {
      "application/vnd.jupyter.widget-view+json": {
       "model_id": "30b3eb27238040bcbf70317d7bbbdc8a",
       "version_major": 2,
       "version_minor": 0
      },
      "text/plain": [
       "A Jupyter Widget"
      ]
     },
     "metadata": {},
     "output_type": "display_data"
    },
    {
     "name": "stdout",
     "output_type": "stream",
     "text": [
      "\n"
     ]
    },
    {
     "data": {
      "application/vnd.jupyter.widget-view+json": {
       "model_id": "1cc4f84d77b94c8d8083f8cb1fa4f6eb",
       "version_major": 2,
       "version_minor": 0
      },
      "text/plain": [
       "A Jupyter Widget"
      ]
     },
     "metadata": {},
     "output_type": "display_data"
    },
    {
     "name": "stdout",
     "output_type": "stream",
     "text": [
      "\n"
     ]
    },
    {
     "data": {
      "application/vnd.jupyter.widget-view+json": {
       "model_id": "6fa01c0236554b34957321044cab7f24",
       "version_major": 2,
       "version_minor": 0
      },
      "text/plain": [
       "A Jupyter Widget"
      ]
     },
     "metadata": {},
     "output_type": "display_data"
    },
    {
     "name": "stdout",
     "output_type": "stream",
     "text": [
      "\n"
     ]
    },
    {
     "data": {
      "application/vnd.jupyter.widget-view+json": {
       "model_id": "9aad3945812c4a29a615931613092bd5",
       "version_major": 2,
       "version_minor": 0
      },
      "text/plain": [
       "A Jupyter Widget"
      ]
     },
     "metadata": {},
     "output_type": "display_data"
    },
    {
     "name": "stdout",
     "output_type": "stream",
     "text": [
      "\n"
     ]
    },
    {
     "data": {
      "application/vnd.jupyter.widget-view+json": {
       "model_id": "d440ec5e27714b0db60333ef0cca036f",
       "version_major": 2,
       "version_minor": 0
      },
      "text/plain": [
       "A Jupyter Widget"
      ]
     },
     "metadata": {},
     "output_type": "display_data"
    },
    {
     "name": "stdout",
     "output_type": "stream",
     "text": [
      "\n"
     ]
    },
    {
     "data": {
      "application/vnd.jupyter.widget-view+json": {
       "model_id": "a3cbde8040224229a95f8007fdc8388f",
       "version_major": 2,
       "version_minor": 0
      },
      "text/plain": [
       "A Jupyter Widget"
      ]
     },
     "metadata": {},
     "output_type": "display_data"
    },
    {
     "name": "stdout",
     "output_type": "stream",
     "text": [
      "\n"
     ]
    },
    {
     "data": {
      "application/vnd.jupyter.widget-view+json": {
       "model_id": "9048047bd1ec48c98f687ca9594a05ba",
       "version_major": 2,
       "version_minor": 0
      },
      "text/plain": [
       "A Jupyter Widget"
      ]
     },
     "metadata": {},
     "output_type": "display_data"
    },
    {
     "name": "stdout",
     "output_type": "stream",
     "text": [
      "\n"
     ]
    },
    {
     "data": {
      "application/vnd.jupyter.widget-view+json": {
       "model_id": "1f91da6cdda54f5fbfdab9d2736dc783",
       "version_major": 2,
       "version_minor": 0
      },
      "text/plain": [
       "A Jupyter Widget"
      ]
     },
     "metadata": {},
     "output_type": "display_data"
    },
    {
     "name": "stdout",
     "output_type": "stream",
     "text": [
      "\n"
     ]
    },
    {
     "data": {
      "application/vnd.jupyter.widget-view+json": {
       "model_id": "89e169d18a944271820acd1943b914d1",
       "version_major": 2,
       "version_minor": 0
      },
      "text/plain": [
       "A Jupyter Widget"
      ]
     },
     "metadata": {},
     "output_type": "display_data"
    },
    {
     "name": "stdout",
     "output_type": "stream",
     "text": [
      "\n"
     ]
    },
    {
     "data": {
      "application/vnd.jupyter.widget-view+json": {
       "model_id": "5eac2a62d70f4532814b312e9ad2d1a7",
       "version_major": 2,
       "version_minor": 0
      },
      "text/plain": [
       "A Jupyter Widget"
      ]
     },
     "metadata": {},
     "output_type": "display_data"
    },
    {
     "name": "stdout",
     "output_type": "stream",
     "text": [
      "\n"
     ]
    },
    {
     "data": {
      "application/vnd.jupyter.widget-view+json": {
       "model_id": "edea09b7b6ef4cb09e18d22c91ac149c",
       "version_major": 2,
       "version_minor": 0
      },
      "text/plain": [
       "A Jupyter Widget"
      ]
     },
     "metadata": {},
     "output_type": "display_data"
    },
    {
     "name": "stdout",
     "output_type": "stream",
     "text": [
      "\n"
     ]
    },
    {
     "data": {
      "application/vnd.jupyter.widget-view+json": {
       "model_id": "9d54b6e52e4e493697a164d3c8a87cf3",
       "version_major": 2,
       "version_minor": 0
      },
      "text/plain": [
       "A Jupyter Widget"
      ]
     },
     "metadata": {},
     "output_type": "display_data"
    },
    {
     "name": "stdout",
     "output_type": "stream",
     "text": [
      "\n"
     ]
    },
    {
     "data": {
      "application/vnd.jupyter.widget-view+json": {
       "model_id": "d5cf3def6896453f9334244b040b3c8b",
       "version_major": 2,
       "version_minor": 0
      },
      "text/plain": [
       "A Jupyter Widget"
      ]
     },
     "metadata": {},
     "output_type": "display_data"
    },
    {
     "name": "stdout",
     "output_type": "stream",
     "text": [
      "\n"
     ]
    },
    {
     "data": {
      "application/vnd.jupyter.widget-view+json": {
       "model_id": "fffdaa54377747378c7ad54b51280a04",
       "version_major": 2,
       "version_minor": 0
      },
      "text/plain": [
       "A Jupyter Widget"
      ]
     },
     "metadata": {},
     "output_type": "display_data"
    },
    {
     "name": "stdout",
     "output_type": "stream",
     "text": [
      "\n"
     ]
    },
    {
     "data": {
      "application/vnd.jupyter.widget-view+json": {
       "model_id": "28ebb3a9dfe54bd6af47affb99cb3ad1",
       "version_major": 2,
       "version_minor": 0
      },
      "text/plain": [
       "A Jupyter Widget"
      ]
     },
     "metadata": {},
     "output_type": "display_data"
    },
    {
     "name": "stdout",
     "output_type": "stream",
     "text": [
      "\n"
     ]
    },
    {
     "data": {
      "application/vnd.jupyter.widget-view+json": {
       "model_id": "1599666ade6b4f58b03d89e57f714217",
       "version_major": 2,
       "version_minor": 0
      },
      "text/plain": [
       "A Jupyter Widget"
      ]
     },
     "metadata": {},
     "output_type": "display_data"
    },
    {
     "name": "stdout",
     "output_type": "stream",
     "text": [
      "\n"
     ]
    },
    {
     "data": {
      "application/vnd.jupyter.widget-view+json": {
       "model_id": "df1a6a82ff0847719b251208c579f6b8",
       "version_major": 2,
       "version_minor": 0
      },
      "text/plain": [
       "A Jupyter Widget"
      ]
     },
     "metadata": {},
     "output_type": "display_data"
    },
    {
     "name": "stdout",
     "output_type": "stream",
     "text": [
      "\n"
     ]
    },
    {
     "data": {
      "application/vnd.jupyter.widget-view+json": {
       "model_id": "422d2a17e3a74b649d248a71219f461b",
       "version_major": 2,
       "version_minor": 0
      },
      "text/plain": [
       "A Jupyter Widget"
      ]
     },
     "metadata": {},
     "output_type": "display_data"
    },
    {
     "name": "stdout",
     "output_type": "stream",
     "text": [
      "\n"
     ]
    },
    {
     "data": {
      "application/vnd.jupyter.widget-view+json": {
       "model_id": "0402fea9222a4034bfc18b05af6c6ab9",
       "version_major": 2,
       "version_minor": 0
      },
      "text/plain": [
       "A Jupyter Widget"
      ]
     },
     "metadata": {},
     "output_type": "display_data"
    },
    {
     "name": "stdout",
     "output_type": "stream",
     "text": [
      "\n"
     ]
    },
    {
     "data": {
      "application/vnd.jupyter.widget-view+json": {
       "model_id": "f50f866857224d1483e74884c212d910",
       "version_major": 2,
       "version_minor": 0
      },
      "text/plain": [
       "A Jupyter Widget"
      ]
     },
     "metadata": {},
     "output_type": "display_data"
    },
    {
     "name": "stdout",
     "output_type": "stream",
     "text": [
      "\n"
     ]
    },
    {
     "data": {
      "application/vnd.jupyter.widget-view+json": {
       "model_id": "1ad961f8a8ba4f71bc68e0b545a23298",
       "version_major": 2,
       "version_minor": 0
      },
      "text/plain": [
       "A Jupyter Widget"
      ]
     },
     "metadata": {},
     "output_type": "display_data"
    },
    {
     "name": "stdout",
     "output_type": "stream",
     "text": [
      "\n"
     ]
    },
    {
     "data": {
      "application/vnd.jupyter.widget-view+json": {
       "model_id": "b888e123cef64da3b7a07ae4e833901c",
       "version_major": 2,
       "version_minor": 0
      },
      "text/plain": [
       "A Jupyter Widget"
      ]
     },
     "metadata": {},
     "output_type": "display_data"
    },
    {
     "name": "stdout",
     "output_type": "stream",
     "text": [
      "\n"
     ]
    },
    {
     "data": {
      "application/vnd.jupyter.widget-view+json": {
       "model_id": "b87e436e6b1b4e7cb0db2ebefdd3ea78",
       "version_major": 2,
       "version_minor": 0
      },
      "text/plain": [
       "A Jupyter Widget"
      ]
     },
     "metadata": {},
     "output_type": "display_data"
    },
    {
     "name": "stdout",
     "output_type": "stream",
     "text": [
      "\n"
     ]
    },
    {
     "data": {
      "application/vnd.jupyter.widget-view+json": {
       "model_id": "28dffcc205c8406eb9cb8c4867a17525",
       "version_major": 2,
       "version_minor": 0
      },
      "text/plain": [
       "A Jupyter Widget"
      ]
     },
     "metadata": {},
     "output_type": "display_data"
    },
    {
     "name": "stdout",
     "output_type": "stream",
     "text": [
      "\n"
     ]
    },
    {
     "data": {
      "application/vnd.jupyter.widget-view+json": {
       "model_id": "e090ab7e90c0479fbbbdf41c2a2e5253",
       "version_major": 2,
       "version_minor": 0
      },
      "text/plain": [
       "A Jupyter Widget"
      ]
     },
     "metadata": {},
     "output_type": "display_data"
    },
    {
     "name": "stdout",
     "output_type": "stream",
     "text": [
      "\n"
     ]
    },
    {
     "data": {
      "application/vnd.jupyter.widget-view+json": {
       "model_id": "f9851f8346cb455d91a21d29af899b50",
       "version_major": 2,
       "version_minor": 0
      },
      "text/plain": [
       "A Jupyter Widget"
      ]
     },
     "metadata": {},
     "output_type": "display_data"
    },
    {
     "name": "stdout",
     "output_type": "stream",
     "text": [
      "\n"
     ]
    },
    {
     "data": {
      "application/vnd.jupyter.widget-view+json": {
       "model_id": "920570fb63544c64a568cff8ab271f0d",
       "version_major": 2,
       "version_minor": 0
      },
      "text/plain": [
       "A Jupyter Widget"
      ]
     },
     "metadata": {},
     "output_type": "display_data"
    },
    {
     "name": "stdout",
     "output_type": "stream",
     "text": [
      "\n"
     ]
    },
    {
     "data": {
      "application/vnd.jupyter.widget-view+json": {
       "model_id": "0833e6e2430a42358bc454c6c665ff80",
       "version_major": 2,
       "version_minor": 0
      },
      "text/plain": [
       "A Jupyter Widget"
      ]
     },
     "metadata": {},
     "output_type": "display_data"
    },
    {
     "name": "stdout",
     "output_type": "stream",
     "text": [
      "\n"
     ]
    },
    {
     "data": {
      "application/vnd.jupyter.widget-view+json": {
       "model_id": "88c2ce88f85d4b7196ceec4c862895aa",
       "version_major": 2,
       "version_minor": 0
      },
      "text/plain": [
       "A Jupyter Widget"
      ]
     },
     "metadata": {},
     "output_type": "display_data"
    },
    {
     "name": "stdout",
     "output_type": "stream",
     "text": [
      "\n"
     ]
    },
    {
     "data": {
      "application/vnd.jupyter.widget-view+json": {
       "model_id": "fd3eac46d46a47eb95dff32054b3dbad",
       "version_major": 2,
       "version_minor": 0
      },
      "text/plain": [
       "A Jupyter Widget"
      ]
     },
     "metadata": {},
     "output_type": "display_data"
    },
    {
     "name": "stdout",
     "output_type": "stream",
     "text": [
      "\n"
     ]
    },
    {
     "data": {
      "application/vnd.jupyter.widget-view+json": {
       "model_id": "392a088723794a32a156e63d1a1ac138",
       "version_major": 2,
       "version_minor": 0
      },
      "text/plain": [
       "A Jupyter Widget"
      ]
     },
     "metadata": {},
     "output_type": "display_data"
    },
    {
     "name": "stdout",
     "output_type": "stream",
     "text": [
      "\n"
     ]
    },
    {
     "data": {
      "application/vnd.jupyter.widget-view+json": {
       "model_id": "6418682a502f412cac5f25f225fe4169",
       "version_major": 2,
       "version_minor": 0
      },
      "text/plain": [
       "A Jupyter Widget"
      ]
     },
     "metadata": {},
     "output_type": "display_data"
    },
    {
     "name": "stdout",
     "output_type": "stream",
     "text": [
      "\n"
     ]
    },
    {
     "data": {
      "application/vnd.jupyter.widget-view+json": {
       "model_id": "4f615847cc9042cc8a3f4ce6322629b6",
       "version_major": 2,
       "version_minor": 0
      },
      "text/plain": [
       "A Jupyter Widget"
      ]
     },
     "metadata": {},
     "output_type": "display_data"
    },
    {
     "name": "stdout",
     "output_type": "stream",
     "text": [
      "\n"
     ]
    },
    {
     "data": {
      "application/vnd.jupyter.widget-view+json": {
       "model_id": "2cdf575fa8d34101be968a152db92739",
       "version_major": 2,
       "version_minor": 0
      },
      "text/plain": [
       "A Jupyter Widget"
      ]
     },
     "metadata": {},
     "output_type": "display_data"
    },
    {
     "name": "stdout",
     "output_type": "stream",
     "text": [
      "\n"
     ]
    },
    {
     "data": {
      "application/vnd.jupyter.widget-view+json": {
       "model_id": "8f3aaba827894872af772eba32cc7b72",
       "version_major": 2,
       "version_minor": 0
      },
      "text/plain": [
       "A Jupyter Widget"
      ]
     },
     "metadata": {},
     "output_type": "display_data"
    },
    {
     "name": "stdout",
     "output_type": "stream",
     "text": [
      "\n"
     ]
    },
    {
     "data": {
      "application/vnd.jupyter.widget-view+json": {
       "model_id": "7934521dfbe8451eb6e4f7f7dfc92975",
       "version_major": 2,
       "version_minor": 0
      },
      "text/plain": [
       "A Jupyter Widget"
      ]
     },
     "metadata": {},
     "output_type": "display_data"
    },
    {
     "name": "stdout",
     "output_type": "stream",
     "text": [
      "\n"
     ]
    },
    {
     "data": {
      "application/vnd.jupyter.widget-view+json": {
       "model_id": "00c28036679b4e64a668793006d7e896",
       "version_major": 2,
       "version_minor": 0
      },
      "text/plain": [
       "A Jupyter Widget"
      ]
     },
     "metadata": {},
     "output_type": "display_data"
    },
    {
     "name": "stdout",
     "output_type": "stream",
     "text": [
      "\n"
     ]
    },
    {
     "data": {
      "application/vnd.jupyter.widget-view+json": {
       "model_id": "d44ae312ba2d4082959117d4e946f317",
       "version_major": 2,
       "version_minor": 0
      },
      "text/plain": [
       "A Jupyter Widget"
      ]
     },
     "metadata": {},
     "output_type": "display_data"
    },
    {
     "name": "stdout",
     "output_type": "stream",
     "text": [
      "\n"
     ]
    },
    {
     "data": {
      "application/vnd.jupyter.widget-view+json": {
       "model_id": "75bfaf92fe184f1d8a83a00e84ac92e8",
       "version_major": 2,
       "version_minor": 0
      },
      "text/plain": [
       "A Jupyter Widget"
      ]
     },
     "metadata": {},
     "output_type": "display_data"
    },
    {
     "name": "stdout",
     "output_type": "stream",
     "text": [
      "\n"
     ]
    },
    {
     "data": {
      "application/vnd.jupyter.widget-view+json": {
       "model_id": "f821ceb879864967b0c82cb6060f9a8a",
       "version_major": 2,
       "version_minor": 0
      },
      "text/plain": [
       "A Jupyter Widget"
      ]
     },
     "metadata": {},
     "output_type": "display_data"
    },
    {
     "name": "stdout",
     "output_type": "stream",
     "text": [
      "\n"
     ]
    },
    {
     "data": {
      "application/vnd.jupyter.widget-view+json": {
       "model_id": "0637ae91a8f7423796aea2339188efb0",
       "version_major": 2,
       "version_minor": 0
      },
      "text/plain": [
       "A Jupyter Widget"
      ]
     },
     "metadata": {},
     "output_type": "display_data"
    },
    {
     "name": "stdout",
     "output_type": "stream",
     "text": [
      "\n"
     ]
    },
    {
     "data": {
      "application/vnd.jupyter.widget-view+json": {
       "model_id": "6e595f1dd7234a2095e001cc9308fc93",
       "version_major": 2,
       "version_minor": 0
      },
      "text/plain": [
       "A Jupyter Widget"
      ]
     },
     "metadata": {},
     "output_type": "display_data"
    },
    {
     "name": "stdout",
     "output_type": "stream",
     "text": [
      "\n"
     ]
    },
    {
     "data": {
      "application/vnd.jupyter.widget-view+json": {
       "model_id": "c031176a6f004d9ab23928947be5dee1",
       "version_major": 2,
       "version_minor": 0
      },
      "text/plain": [
       "A Jupyter Widget"
      ]
     },
     "metadata": {},
     "output_type": "display_data"
    },
    {
     "name": "stdout",
     "output_type": "stream",
     "text": [
      "\n"
     ]
    },
    {
     "data": {
      "application/vnd.jupyter.widget-view+json": {
       "model_id": "aea1584526a94b7cb6347e12ea55c246",
       "version_major": 2,
       "version_minor": 0
      },
      "text/plain": [
       "A Jupyter Widget"
      ]
     },
     "metadata": {},
     "output_type": "display_data"
    },
    {
     "name": "stdout",
     "output_type": "stream",
     "text": [
      "\n"
     ]
    },
    {
     "data": {
      "application/vnd.jupyter.widget-view+json": {
       "model_id": "3eff0fb8d33c41e384ad465fca088621",
       "version_major": 2,
       "version_minor": 0
      },
      "text/plain": [
       "A Jupyter Widget"
      ]
     },
     "metadata": {},
     "output_type": "display_data"
    },
    {
     "name": "stdout",
     "output_type": "stream",
     "text": [
      "\n"
     ]
    },
    {
     "data": {
      "application/vnd.jupyter.widget-view+json": {
       "model_id": "64639b5813424fc8bc58d69d5183b94e",
       "version_major": 2,
       "version_minor": 0
      },
      "text/plain": [
       "A Jupyter Widget"
      ]
     },
     "metadata": {},
     "output_type": "display_data"
    },
    {
     "name": "stdout",
     "output_type": "stream",
     "text": [
      "\n"
     ]
    },
    {
     "data": {
      "application/vnd.jupyter.widget-view+json": {
       "model_id": "e0e311b892af4caeb8d217a7a4edb943",
       "version_major": 2,
       "version_minor": 0
      },
      "text/plain": [
       "A Jupyter Widget"
      ]
     },
     "metadata": {},
     "output_type": "display_data"
    },
    {
     "name": "stdout",
     "output_type": "stream",
     "text": [
      "\n"
     ]
    },
    {
     "data": {
      "application/vnd.jupyter.widget-view+json": {
       "model_id": "635efdeca5ba4ef18dd49cf553a50671",
       "version_major": 2,
       "version_minor": 0
      },
      "text/plain": [
       "A Jupyter Widget"
      ]
     },
     "metadata": {},
     "output_type": "display_data"
    },
    {
     "name": "stdout",
     "output_type": "stream",
     "text": [
      "\n"
     ]
    },
    {
     "data": {
      "application/vnd.jupyter.widget-view+json": {
       "model_id": "fe2852de221543cc80856c6011fa8f93",
       "version_major": 2,
       "version_minor": 0
      },
      "text/plain": [
       "A Jupyter Widget"
      ]
     },
     "metadata": {},
     "output_type": "display_data"
    },
    {
     "name": "stdout",
     "output_type": "stream",
     "text": [
      "\n"
     ]
    },
    {
     "data": {
      "application/vnd.jupyter.widget-view+json": {
       "model_id": "a132a6417f17481fa57ef37e533a0fa9",
       "version_major": 2,
       "version_minor": 0
      },
      "text/plain": [
       "A Jupyter Widget"
      ]
     },
     "metadata": {},
     "output_type": "display_data"
    },
    {
     "name": "stdout",
     "output_type": "stream",
     "text": [
      "\n"
     ]
    },
    {
     "data": {
      "application/vnd.jupyter.widget-view+json": {
       "model_id": "55ae82c92f484810af2b7dd4210fcc7a",
       "version_major": 2,
       "version_minor": 0
      },
      "text/plain": [
       "A Jupyter Widget"
      ]
     },
     "metadata": {},
     "output_type": "display_data"
    },
    {
     "name": "stdout",
     "output_type": "stream",
     "text": [
      "\n"
     ]
    },
    {
     "data": {
      "application/vnd.jupyter.widget-view+json": {
       "model_id": "e47e6177638b47c6bb21c9bdfad200f4",
       "version_major": 2,
       "version_minor": 0
      },
      "text/plain": [
       "A Jupyter Widget"
      ]
     },
     "metadata": {},
     "output_type": "display_data"
    },
    {
     "name": "stdout",
     "output_type": "stream",
     "text": [
      "\n"
     ]
    },
    {
     "data": {
      "application/vnd.jupyter.widget-view+json": {
       "model_id": "89bc467ea1b141d6a5440208e87b7f0c",
       "version_major": 2,
       "version_minor": 0
      },
      "text/plain": [
       "A Jupyter Widget"
      ]
     },
     "metadata": {},
     "output_type": "display_data"
    },
    {
     "name": "stdout",
     "output_type": "stream",
     "text": [
      "\n"
     ]
    },
    {
     "data": {
      "application/vnd.jupyter.widget-view+json": {
       "model_id": "be14dbf5bd07494b81c74667fa3b690d",
       "version_major": 2,
       "version_minor": 0
      },
      "text/plain": [
       "A Jupyter Widget"
      ]
     },
     "metadata": {},
     "output_type": "display_data"
    },
    {
     "name": "stdout",
     "output_type": "stream",
     "text": [
      "\n"
     ]
    },
    {
     "data": {
      "application/vnd.jupyter.widget-view+json": {
       "model_id": "9a775ec00d2a4af0b5104de3bc98ae6e",
       "version_major": 2,
       "version_minor": 0
      },
      "text/plain": [
       "A Jupyter Widget"
      ]
     },
     "metadata": {},
     "output_type": "display_data"
    },
    {
     "name": "stdout",
     "output_type": "stream",
     "text": [
      "\n"
     ]
    },
    {
     "data": {
      "application/vnd.jupyter.widget-view+json": {
       "model_id": "dca7bf50a6404977a3080db8ee19c229",
       "version_major": 2,
       "version_minor": 0
      },
      "text/plain": [
       "A Jupyter Widget"
      ]
     },
     "metadata": {},
     "output_type": "display_data"
    },
    {
     "name": "stdout",
     "output_type": "stream",
     "text": [
      "\n"
     ]
    },
    {
     "data": {
      "application/vnd.jupyter.widget-view+json": {
       "model_id": "57223cb0cdeb4b7d858d3883deacc106",
       "version_major": 2,
       "version_minor": 0
      },
      "text/plain": [
       "A Jupyter Widget"
      ]
     },
     "metadata": {},
     "output_type": "display_data"
    },
    {
     "name": "stdout",
     "output_type": "stream",
     "text": [
      "\n"
     ]
    },
    {
     "data": {
      "application/vnd.jupyter.widget-view+json": {
       "model_id": "26de850d99934509aad56e8389ca433a",
       "version_major": 2,
       "version_minor": 0
      },
      "text/plain": [
       "A Jupyter Widget"
      ]
     },
     "metadata": {},
     "output_type": "display_data"
    },
    {
     "name": "stdout",
     "output_type": "stream",
     "text": [
      "\n"
     ]
    },
    {
     "data": {
      "application/vnd.jupyter.widget-view+json": {
       "model_id": "52d106d349f34d588e618594033d225f",
       "version_major": 2,
       "version_minor": 0
      },
      "text/plain": [
       "A Jupyter Widget"
      ]
     },
     "metadata": {},
     "output_type": "display_data"
    },
    {
     "name": "stdout",
     "output_type": "stream",
     "text": [
      "\n"
     ]
    },
    {
     "data": {
      "application/vnd.jupyter.widget-view+json": {
       "model_id": "3d4ef341f1194ecf9782afb3f2a50937",
       "version_major": 2,
       "version_minor": 0
      },
      "text/plain": [
       "A Jupyter Widget"
      ]
     },
     "metadata": {},
     "output_type": "display_data"
    },
    {
     "name": "stdout",
     "output_type": "stream",
     "text": [
      "\n"
     ]
    },
    {
     "data": {
      "application/vnd.jupyter.widget-view+json": {
       "model_id": "8053bae49c424b6b832b0992318c43d0",
       "version_major": 2,
       "version_minor": 0
      },
      "text/plain": [
       "A Jupyter Widget"
      ]
     },
     "metadata": {},
     "output_type": "display_data"
    },
    {
     "name": "stdout",
     "output_type": "stream",
     "text": [
      "\n"
     ]
    },
    {
     "data": {
      "application/vnd.jupyter.widget-view+json": {
       "model_id": "9187cdbe08a142e1b8852f2fe0117eea",
       "version_major": 2,
       "version_minor": 0
      },
      "text/plain": [
       "A Jupyter Widget"
      ]
     },
     "metadata": {},
     "output_type": "display_data"
    },
    {
     "name": "stdout",
     "output_type": "stream",
     "text": [
      "\n"
     ]
    },
    {
     "data": {
      "application/vnd.jupyter.widget-view+json": {
       "model_id": "699b5c4f531a412dad8fc2c1ddf649a7",
       "version_major": 2,
       "version_minor": 0
      },
      "text/plain": [
       "A Jupyter Widget"
      ]
     },
     "metadata": {},
     "output_type": "display_data"
    },
    {
     "name": "stdout",
     "output_type": "stream",
     "text": [
      "\n"
     ]
    },
    {
     "data": {
      "application/vnd.jupyter.widget-view+json": {
       "model_id": "b25e0c6ff3334eccabd6d20f0f3a5f0c",
       "version_major": 2,
       "version_minor": 0
      },
      "text/plain": [
       "A Jupyter Widget"
      ]
     },
     "metadata": {},
     "output_type": "display_data"
    },
    {
     "name": "stdout",
     "output_type": "stream",
     "text": [
      "\n"
     ]
    },
    {
     "data": {
      "application/vnd.jupyter.widget-view+json": {
       "model_id": "074be2f4b4f9406085b926693752a230",
       "version_major": 2,
       "version_minor": 0
      },
      "text/plain": [
       "A Jupyter Widget"
      ]
     },
     "metadata": {},
     "output_type": "display_data"
    },
    {
     "name": "stdout",
     "output_type": "stream",
     "text": [
      "\n"
     ]
    },
    {
     "data": {
      "application/vnd.jupyter.widget-view+json": {
       "model_id": "1a9ca84be1014e16a649fe8edd3da226",
       "version_major": 2,
       "version_minor": 0
      },
      "text/plain": [
       "A Jupyter Widget"
      ]
     },
     "metadata": {},
     "output_type": "display_data"
    },
    {
     "name": "stdout",
     "output_type": "stream",
     "text": [
      "\n"
     ]
    },
    {
     "data": {
      "application/vnd.jupyter.widget-view+json": {
       "model_id": "d8cf5d61080042c78edc2eef0c1fd333",
       "version_major": 2,
       "version_minor": 0
      },
      "text/plain": [
       "A Jupyter Widget"
      ]
     },
     "metadata": {},
     "output_type": "display_data"
    },
    {
     "name": "stdout",
     "output_type": "stream",
     "text": [
      "\n"
     ]
    },
    {
     "data": {
      "application/vnd.jupyter.widget-view+json": {
       "model_id": "2c763d8fbd514fdd84dd5c57dca4280f",
       "version_major": 2,
       "version_minor": 0
      },
      "text/plain": [
       "A Jupyter Widget"
      ]
     },
     "metadata": {},
     "output_type": "display_data"
    },
    {
     "name": "stdout",
     "output_type": "stream",
     "text": [
      "\n"
     ]
    },
    {
     "data": {
      "application/vnd.jupyter.widget-view+json": {
       "model_id": "488be380a58249f7b5b209b8d9ca8c32",
       "version_major": 2,
       "version_minor": 0
      },
      "text/plain": [
       "A Jupyter Widget"
      ]
     },
     "metadata": {},
     "output_type": "display_data"
    },
    {
     "name": "stdout",
     "output_type": "stream",
     "text": [
      "\n"
     ]
    },
    {
     "data": {
      "application/vnd.jupyter.widget-view+json": {
       "model_id": "9f6c50a31acd45c9b111deb916bcc34f",
       "version_major": 2,
       "version_minor": 0
      },
      "text/plain": [
       "A Jupyter Widget"
      ]
     },
     "metadata": {},
     "output_type": "display_data"
    },
    {
     "name": "stdout",
     "output_type": "stream",
     "text": [
      "\n"
     ]
    },
    {
     "data": {
      "application/vnd.jupyter.widget-view+json": {
       "model_id": "f2c4f6eeb43b44f289b25a041d9b7f0f",
       "version_major": 2,
       "version_minor": 0
      },
      "text/plain": [
       "A Jupyter Widget"
      ]
     },
     "metadata": {},
     "output_type": "display_data"
    },
    {
     "name": "stdout",
     "output_type": "stream",
     "text": [
      "\n"
     ]
    },
    {
     "data": {
      "application/vnd.jupyter.widget-view+json": {
       "model_id": "0f25b9e4bae04ae7a63f14873609f154",
       "version_major": 2,
       "version_minor": 0
      },
      "text/plain": [
       "A Jupyter Widget"
      ]
     },
     "metadata": {},
     "output_type": "display_data"
    },
    {
     "name": "stdout",
     "output_type": "stream",
     "text": [
      "\n"
     ]
    },
    {
     "data": {
      "application/vnd.jupyter.widget-view+json": {
       "model_id": "dacc36e0bcf94a44b3002aeeac9fe812",
       "version_major": 2,
       "version_minor": 0
      },
      "text/plain": [
       "A Jupyter Widget"
      ]
     },
     "metadata": {},
     "output_type": "display_data"
    },
    {
     "name": "stdout",
     "output_type": "stream",
     "text": [
      "\n"
     ]
    },
    {
     "data": {
      "application/vnd.jupyter.widget-view+json": {
       "model_id": "0dc4b4702325478fbc4ea5e4b42e8578",
       "version_major": 2,
       "version_minor": 0
      },
      "text/plain": [
       "A Jupyter Widget"
      ]
     },
     "metadata": {},
     "output_type": "display_data"
    },
    {
     "name": "stdout",
     "output_type": "stream",
     "text": [
      "\n"
     ]
    },
    {
     "data": {
      "application/vnd.jupyter.widget-view+json": {
       "model_id": "d7ed8b0193714b7db1d09e8a516978b7",
       "version_major": 2,
       "version_minor": 0
      },
      "text/plain": [
       "A Jupyter Widget"
      ]
     },
     "metadata": {},
     "output_type": "display_data"
    },
    {
     "name": "stdout",
     "output_type": "stream",
     "text": [
      "\n"
     ]
    },
    {
     "data": {
      "application/vnd.jupyter.widget-view+json": {
       "model_id": "5739d8bf3845499ca6407fb992aa26f0",
       "version_major": 2,
       "version_minor": 0
      },
      "text/plain": [
       "A Jupyter Widget"
      ]
     },
     "metadata": {},
     "output_type": "display_data"
    },
    {
     "name": "stdout",
     "output_type": "stream",
     "text": [
      "\n"
     ]
    },
    {
     "data": {
      "application/vnd.jupyter.widget-view+json": {
       "model_id": "e9731a0abb2247d3acdd8625d6a5d662",
       "version_major": 2,
       "version_minor": 0
      },
      "text/plain": [
       "A Jupyter Widget"
      ]
     },
     "metadata": {},
     "output_type": "display_data"
    },
    {
     "name": "stdout",
     "output_type": "stream",
     "text": [
      "\n"
     ]
    },
    {
     "data": {
      "application/vnd.jupyter.widget-view+json": {
       "model_id": "2897a98c459e4b7f9c3acc2d441a3470",
       "version_major": 2,
       "version_minor": 0
      },
      "text/plain": [
       "A Jupyter Widget"
      ]
     },
     "metadata": {},
     "output_type": "display_data"
    },
    {
     "name": "stdout",
     "output_type": "stream",
     "text": [
      "\n"
     ]
    },
    {
     "data": {
      "application/vnd.jupyter.widget-view+json": {
       "model_id": "25a52d5d98924ccbb676ac46de68960c",
       "version_major": 2,
       "version_minor": 0
      },
      "text/plain": [
       "A Jupyter Widget"
      ]
     },
     "metadata": {},
     "output_type": "display_data"
    },
    {
     "name": "stdout",
     "output_type": "stream",
     "text": [
      "\n"
     ]
    },
    {
     "data": {
      "application/vnd.jupyter.widget-view+json": {
       "model_id": "ebb33cfd87924b248f95d2a7a55084da",
       "version_major": 2,
       "version_minor": 0
      },
      "text/plain": [
       "A Jupyter Widget"
      ]
     },
     "metadata": {},
     "output_type": "display_data"
    },
    {
     "name": "stdout",
     "output_type": "stream",
     "text": [
      "\n"
     ]
    },
    {
     "data": {
      "application/vnd.jupyter.widget-view+json": {
       "model_id": "ce2a0bbc161e47ee9dcbdc8a2ef987e0",
       "version_major": 2,
       "version_minor": 0
      },
      "text/plain": [
       "A Jupyter Widget"
      ]
     },
     "metadata": {},
     "output_type": "display_data"
    },
    {
     "name": "stdout",
     "output_type": "stream",
     "text": [
      "\n"
     ]
    },
    {
     "data": {
      "application/vnd.jupyter.widget-view+json": {
       "model_id": "53c27008c1524abbbda2dae0c73b5891",
       "version_major": 2,
       "version_minor": 0
      },
      "text/plain": [
       "A Jupyter Widget"
      ]
     },
     "metadata": {},
     "output_type": "display_data"
    },
    {
     "name": "stdout",
     "output_type": "stream",
     "text": [
      "\n",
      "http://mo.wikipedia.org/wiki/%D0%9C%D0%B0%D1%80%D1%8F_%D0%91%D0%B0%D0%BB%D1%82%D0%B8%D0%BA%D1%8D\n",
      "http://mo.wikipedia.org/wiki/%D0%9A%D0%B0%D0%BF%D0%B8%D1%82%D0%B0%D0%BB%D0%B0\n",
      "http://mo.wikipedia.org/wiki/%D0%9B%D0%B5%D1%82%D0%BE%D0%BD%D0%B8%D1%8F\n",
      "http://mo.wikipedia.org/wiki/%D0%A0%D0%B8%D0%B3%D0%B0\n",
      "http://mo.wikipedia.org/wiki/%D0%A0%D0%B8%D0%B3%D0%B0\n",
      "http://mo.wikipedia.org/wiki/%D0%9F%D0%B0%D3%82%D0%B8%D0%BD%D0%B0_%D0%BF%D1%80%D0%B8%D0%BD%D1%87%D0%B8%D0%BF%D0%B0%D0%BB%D1%8D\n",
      "http://mo.wikipedia.org/wiki/%D0%9F%D0%B0%D3%82%D0%B8%D0%BD%D0%B0_%D0%BF%D1%80%D0%B8%D0%BD%D1%87%D0%B8%D0%BF%D0%B0%D0%BB%D1%8D\n"
     ]
    },
    {
     "data": {
      "application/vnd.jupyter.widget-view+json": {
       "model_id": "c075d6a1b3834c8b81774d6d7a5fe133",
       "version_major": 2,
       "version_minor": 0
      },
      "text/plain": [
       "A Jupyter Widget"
      ]
     },
     "metadata": {},
     "output_type": "display_data"
    },
    {
     "name": "stdout",
     "output_type": "stream",
     "text": [
      "\n"
     ]
    },
    {
     "data": {
      "application/vnd.jupyter.widget-view+json": {
       "model_id": "8556f8de45284179a1425916af30e44b",
       "version_major": 2,
       "version_minor": 0
      },
      "text/plain": [
       "A Jupyter Widget"
      ]
     },
     "metadata": {},
     "output_type": "display_data"
    },
    {
     "name": "stdout",
     "output_type": "stream",
     "text": [
      "\n"
     ]
    },
    {
     "data": {
      "application/vnd.jupyter.widget-view+json": {
       "model_id": "c38516169cc94285ae35b292400b8726",
       "version_major": 2,
       "version_minor": 0
      },
      "text/plain": [
       "A Jupyter Widget"
      ]
     },
     "metadata": {},
     "output_type": "display_data"
    },
    {
     "name": "stdout",
     "output_type": "stream",
     "text": [
      "\n"
     ]
    },
    {
     "data": {
      "application/vnd.jupyter.widget-view+json": {
       "model_id": "c97b33731a994a6995da8497602fd5f0",
       "version_major": 2,
       "version_minor": 0
      },
      "text/plain": [
       "A Jupyter Widget"
      ]
     },
     "metadata": {},
     "output_type": "display_data"
    },
    {
     "name": "stdout",
     "output_type": "stream",
     "text": [
      "\n"
     ]
    },
    {
     "data": {
      "application/vnd.jupyter.widget-view+json": {
       "model_id": "0bb5aaa9aa9845498388acc8ee8b465a",
       "version_major": 2,
       "version_minor": 0
      },
      "text/plain": [
       "A Jupyter Widget"
      ]
     },
     "metadata": {},
     "output_type": "display_data"
    },
    {
     "name": "stdout",
     "output_type": "stream",
     "text": [
      "\n"
     ]
    },
    {
     "data": {
      "application/vnd.jupyter.widget-view+json": {
       "model_id": "75fa0b4a7f194aa6a1ca444c17890e36",
       "version_major": 2,
       "version_minor": 0
      },
      "text/plain": [
       "A Jupyter Widget"
      ]
     },
     "metadata": {},
     "output_type": "display_data"
    },
    {
     "name": "stdout",
     "output_type": "stream",
     "text": [
      "\n"
     ]
    },
    {
     "data": {
      "application/vnd.jupyter.widget-view+json": {
       "model_id": "dec85fe0a5714730a2d83bb351469985",
       "version_major": 2,
       "version_minor": 0
      },
      "text/plain": [
       "A Jupyter Widget"
      ]
     },
     "metadata": {},
     "output_type": "display_data"
    },
    {
     "name": "stdout",
     "output_type": "stream",
     "text": [
      "\n"
     ]
    },
    {
     "data": {
      "application/vnd.jupyter.widget-view+json": {
       "model_id": "85669098e5ee4b489974434ba8c174b6",
       "version_major": 2,
       "version_minor": 0
      },
      "text/plain": [
       "A Jupyter Widget"
      ]
     },
     "metadata": {},
     "output_type": "display_data"
    },
    {
     "name": "stdout",
     "output_type": "stream",
     "text": [
      "\n"
     ]
    },
    {
     "data": {
      "application/vnd.jupyter.widget-view+json": {
       "model_id": "ee86718c639a415e97934ff1256c6f23",
       "version_major": 2,
       "version_minor": 0
      },
      "text/plain": [
       "A Jupyter Widget"
      ]
     },
     "metadata": {},
     "output_type": "display_data"
    },
    {
     "name": "stdout",
     "output_type": "stream",
     "text": [
      "\n"
     ]
    },
    {
     "data": {
      "application/vnd.jupyter.widget-view+json": {
       "model_id": "54b7ff72894b48ebb23849a548164450",
       "version_major": 2,
       "version_minor": 0
      },
      "text/plain": [
       "A Jupyter Widget"
      ]
     },
     "metadata": {},
     "output_type": "display_data"
    },
    {
     "name": "stdout",
     "output_type": "stream",
     "text": [
      "\n"
     ]
    },
    {
     "data": {
      "application/vnd.jupyter.widget-view+json": {
       "model_id": "41c9447f39a24788970b32192892e430",
       "version_major": 2,
       "version_minor": 0
      },
      "text/plain": [
       "A Jupyter Widget"
      ]
     },
     "metadata": {},
     "output_type": "display_data"
    },
    {
     "name": "stdout",
     "output_type": "stream",
     "text": [
      "\n"
     ]
    },
    {
     "data": {
      "application/vnd.jupyter.widget-view+json": {
       "model_id": "9de62ccb83824b6cb03dd2552581478a",
       "version_major": 2,
       "version_minor": 0
      },
      "text/plain": [
       "A Jupyter Widget"
      ]
     },
     "metadata": {},
     "output_type": "display_data"
    },
    {
     "name": "stdout",
     "output_type": "stream",
     "text": [
      "\n"
     ]
    },
    {
     "data": {
      "application/vnd.jupyter.widget-view+json": {
       "model_id": "00b6bbc7a7204a28b5937866fdab766a",
       "version_major": 2,
       "version_minor": 0
      },
      "text/plain": [
       "A Jupyter Widget"
      ]
     },
     "metadata": {},
     "output_type": "display_data"
    },
    {
     "name": "stdout",
     "output_type": "stream",
     "text": [
      "\n",
      "http://mo.wikipedia.org/wiki/%D0%95%D1%81%D1%82%D0%BE%D0%BD%D0%B8%D1%8F\n",
      "http://mo.wikipedia.org/wiki/%D0%95%D1%81%D1%82%D0%BE%D0%BD%D0%B8%D1%8F\n",
      "http://mo.wikipedia.org/wiki/%D0%9F%D0%B0%D3%82%D0%B8%D0%BD%D0%B0_%D0%BF%D1%80%D0%B8%D0%BD%D1%87%D0%B8%D0%BF%D0%B0%D0%BB%D1%8D\n",
      "http://mo.wikipedia.org/wiki/%D0%9F%D0%B0%D3%82%D0%B8%D0%BD%D0%B0_%D0%BF%D1%80%D0%B8%D0%BD%D1%87%D0%B8%D0%BF%D0%B0%D0%BB%D1%8D\n"
     ]
    },
    {
     "data": {
      "application/vnd.jupyter.widget-view+json": {
       "model_id": "ac0640eb70ac4043b8de9eb4308ae2df",
       "version_major": 2,
       "version_minor": 0
      },
      "text/plain": [
       "A Jupyter Widget"
      ]
     },
     "metadata": {},
     "output_type": "display_data"
    },
    {
     "name": "stdout",
     "output_type": "stream",
     "text": [
      "\n"
     ]
    },
    {
     "data": {
      "application/vnd.jupyter.widget-view+json": {
       "model_id": "1ee91ff0f167441089430e1c81d2b29b",
       "version_major": 2,
       "version_minor": 0
      },
      "text/plain": [
       "A Jupyter Widget"
      ]
     },
     "metadata": {},
     "output_type": "display_data"
    },
    {
     "name": "stdout",
     "output_type": "stream",
     "text": [
      "\n"
     ]
    },
    {
     "data": {
      "application/vnd.jupyter.widget-view+json": {
       "model_id": "c667689a3c27429984fe38e6e55172be",
       "version_major": 2,
       "version_minor": 0
      },
      "text/plain": [
       "A Jupyter Widget"
      ]
     },
     "metadata": {},
     "output_type": "display_data"
    },
    {
     "name": "stdout",
     "output_type": "stream",
     "text": [
      "\n"
     ]
    },
    {
     "data": {
      "application/vnd.jupyter.widget-view+json": {
       "model_id": "2576d72281a340639089ae98b831ebc1",
       "version_major": 2,
       "version_minor": 0
      },
      "text/plain": [
       "A Jupyter Widget"
      ]
     },
     "metadata": {},
     "output_type": "display_data"
    },
    {
     "name": "stdout",
     "output_type": "stream",
     "text": [
      "\n"
     ]
    },
    {
     "data": {
      "application/vnd.jupyter.widget-view+json": {
       "model_id": "4648348ce4964fa39de0a44005177e67",
       "version_major": 2,
       "version_minor": 0
      },
      "text/plain": [
       "A Jupyter Widget"
      ]
     },
     "metadata": {},
     "output_type": "display_data"
    },
    {
     "name": "stdout",
     "output_type": "stream",
     "text": [
      "\n"
     ]
    },
    {
     "data": {
      "application/vnd.jupyter.widget-view+json": {
       "model_id": "1787a897fe594bd68042127df7b8f3b6",
       "version_major": 2,
       "version_minor": 0
      },
      "text/plain": [
       "A Jupyter Widget"
      ]
     },
     "metadata": {},
     "output_type": "display_data"
    },
    {
     "name": "stdout",
     "output_type": "stream",
     "text": [
      "\n"
     ]
    },
    {
     "data": {
      "application/vnd.jupyter.widget-view+json": {
       "model_id": "15688609d1e2483185fb7fb1ab391dc2",
       "version_major": 2,
       "version_minor": 0
      },
      "text/plain": [
       "A Jupyter Widget"
      ]
     },
     "metadata": {},
     "output_type": "display_data"
    },
    {
     "name": "stdout",
     "output_type": "stream",
     "text": [
      "\n",
      "http://mo.wikipedia.org/wiki/%D0%95%D1%83%D1%80%D0%BE%D0%BF%D0%B0\n",
      "http://mo.wikipedia.org/wiki/%D0%98%D1%82%D0%B0%D0%BB%D0%B8%D1%8F\n",
      "http://mo.wikipedia.org/wiki/%D0%98%D1%82%D0%B0%D0%BB%D0%B8%D1%8F\n",
      "http://mo.wikipedia.org/wiki/%D0%9F%D0%B0%D3%82%D0%B8%D0%BD%D0%B0_%D0%BF%D1%80%D0%B8%D0%BD%D1%87%D0%B8%D0%BF%D0%B0%D0%BB%D1%8D\n",
      "http://mo.wikipedia.org/wiki/%D0%9F%D0%B0%D3%82%D0%B8%D0%BD%D0%B0_%D0%BF%D1%80%D0%B8%D0%BD%D1%87%D0%B8%D0%BF%D0%B0%D0%BB%D1%8D\n"
     ]
    },
    {
     "data": {
      "application/vnd.jupyter.widget-view+json": {
       "model_id": "ea9ff30d82f1403fbda7ddd6675d6f0f",
       "version_major": 2,
       "version_minor": 0
      },
      "text/plain": [
       "A Jupyter Widget"
      ]
     },
     "metadata": {},
     "output_type": "display_data"
    },
    {
     "name": "stdout",
     "output_type": "stream",
     "text": [
      "\n"
     ]
    },
    {
     "data": {
      "application/vnd.jupyter.widget-view+json": {
       "model_id": "a0c87ac4a58345d7acb14773759602e8",
       "version_major": 2,
       "version_minor": 0
      },
      "text/plain": [
       "A Jupyter Widget"
      ]
     },
     "metadata": {},
     "output_type": "display_data"
    },
    {
     "name": "stdout",
     "output_type": "stream",
     "text": [
      "\n"
     ]
    },
    {
     "data": {
      "application/vnd.jupyter.widget-view+json": {
       "model_id": "485621fa626c4686897d81bd941a6766",
       "version_major": 2,
       "version_minor": 0
      },
      "text/plain": [
       "A Jupyter Widget"
      ]
     },
     "metadata": {},
     "output_type": "display_data"
    },
    {
     "name": "stdout",
     "output_type": "stream",
     "text": [
      "\n"
     ]
    },
    {
     "data": {
      "application/vnd.jupyter.widget-view+json": {
       "model_id": "60f8adfef6dd4af88958b50d2e995553",
       "version_major": 2,
       "version_minor": 0
      },
      "text/plain": [
       "A Jupyter Widget"
      ]
     },
     "metadata": {},
     "output_type": "display_data"
    },
    {
     "name": "stdout",
     "output_type": "stream",
     "text": [
      "\n"
     ]
    },
    {
     "data": {
      "application/vnd.jupyter.widget-view+json": {
       "model_id": "2917a93820ce4a5384596d5ebc0593fb",
       "version_major": 2,
       "version_minor": 0
      },
      "text/plain": [
       "A Jupyter Widget"
      ]
     },
     "metadata": {},
     "output_type": "display_data"
    },
    {
     "name": "stdout",
     "output_type": "stream",
     "text": [
      "\n"
     ]
    },
    {
     "data": {
      "application/vnd.jupyter.widget-view+json": {
       "model_id": "8dbe49b54b6a44c58714f99f3f72268a",
       "version_major": 2,
       "version_minor": 0
      },
      "text/plain": [
       "A Jupyter Widget"
      ]
     },
     "metadata": {},
     "output_type": "display_data"
    },
    {
     "name": "stdout",
     "output_type": "stream",
     "text": [
      "\n"
     ]
    }
   ],
   "source": [
    "url = 'http://mo.wikipedia.org'\n",
    "print(len(url))\n",
    "for l in wiki(url):\n",
    "    print('http://mo.wikipedia.org' + l)\n",
    "    \n",
    "    \n",
    "    \n",
    "    \n"
   ]
  },
  {
   "cell_type": "code",
   "execution_count": null,
   "metadata": {
    "collapsed": true
   },
   "outputs": [],
   "source": []
  },
  {
   "cell_type": "code",
   "execution_count": null,
   "metadata": {
    "collapsed": true
   },
   "outputs": [],
   "source": []
  }
 ],
 "metadata": {
  "kernelspec": {
   "display_name": "Python 3",
   "language": "python",
   "name": "python3"
  },
  "language_info": {
   "codemirror_mode": {
    "name": "ipython",
    "version": 3
   },
   "file_extension": ".py",
   "mimetype": "text/x-python",
   "name": "python",
   "nbconvert_exporter": "python",
   "pygments_lexer": "ipython3",
   "version": "3.6.2"
  }
 },
 "nbformat": 4,
 "nbformat_minor": 2
}
