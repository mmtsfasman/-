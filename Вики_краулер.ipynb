{
 "cells": [
  {
   "cell_type": "markdown",
   "metadata": {},
   "source": [
    "# Семинар"
   ]
  },
  {
   "cell_type": "markdown",
   "metadata": {},
   "source": [
    "Ссылки румынской википедии"
   ]
  },
  {
   "cell_type": "code",
   "execution_count": 31,
   "metadata": {
    "collapsed": true
   },
   "outputs": [],
   "source": [
    "import requests\n",
    "from bs4 import BeautifulSoup\n",
    "from IPython.display import HTML, display\n",
    "import tqdm"
   ]
  },
  {
   "cell_type": "code",
   "execution_count": 34,
   "metadata": {},
   "outputs": [],
   "source": [
    "def wiki(url):\n",
    "    \n",
    "    future_links = set()\n",
    "    links_done = set()\n",
    "    \n",
    "    links_left = [url]\n",
    "\n",
    "    while links_left != []:\n",
    "        l = links_left.pop() \n",
    "        if l in links_done:\n",
    "            pass\n",
    "        else: \n",
    "            links_done.add(l)\n",
    "            \n",
    "            req = requests.get(l)\n",
    "            soup = BeautifulSoup(req.text, 'lxml')\n",
    "            \n",
    "            for h in soup.findAll('a', href = True): \n",
    "         \n",
    "                if h['href'].startswith('/wiki/') and ':' not in h['href']:\n",
    "                    \n",
    "                    if h['href'] not in future_links and h['href'] not in links_done:\n",
    "                        future_links.add(('http://mo.wikipedia.org'+ h['href']))\n",
    "                        links_left.append(('http://mo.wikipedia.org' + h['href']))\n",
    "    \n",
    "                                          \n",
    "    return links_done\n",
    "            "
   ]
  },
  {
   "cell_type": "code",
   "execution_count": null,
   "metadata": {},
   "outputs": [
    {
     "name": "stdout",
     "output_type": "stream",
     "text": [
      "320\n"
     ]
    }
   ],
   "source": [
    "url = 'http://mo.wikipedia.org'\n",
    "print(len(wiki(url)))\n",
    "for l in wiki(url):\n",
    "    print(l)\n"
   ]
  },
  {
   "cell_type": "code",
   "execution_count": null,
   "metadata": {
    "collapsed": true
   },
   "outputs": [],
   "source": []
  },
  {
   "cell_type": "code",
   "execution_count": null,
   "metadata": {
    "collapsed": true
   },
   "outputs": [],
   "source": []
  }
 ],
 "metadata": {
  "kernelspec": {
   "display_name": "Python 3",
   "language": "python",
   "name": "python3"
  },
  "language_info": {
   "codemirror_mode": {
    "name": "ipython",
    "version": 3
   },
   "file_extension": ".py",
   "mimetype": "text/x-python",
   "name": "python",
   "nbconvert_exporter": "python",
   "pygments_lexer": "ipython3",
   "version": "3.6.2"
  }
 },
 "nbformat": 4,
 "nbformat_minor": 2
}
