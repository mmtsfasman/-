{
 "cells": [
  {
   "cell_type": "markdown",
   "metadata": {},
   "source": [
    "## Краулер, который собирает тексты с новостного ресурса.\n",
    "Выбираете себе одну газету и скачиваете оттуда статьи для корпуса. Вид статьи описан в доке. Давайте статей будет до 1000. (http://www.belrab.ru/)\n",
    "\n",
    "\n",
    "!!!Не стала выводить автора, т.к в разных статьях он в разных местах по тексту, хотя можно было бы использовать регистр, т.к. фамилия автора всегда написана большими буквами. Но точно так же маркируется фамилия фотографа и т.п. и в той же части, где автор"
   ]
  },
  {
   "cell_type": "code",
   "execution_count": 16,
   "metadata": {
    "collapsed": true
   },
   "outputs": [],
   "source": [
    "import requests\n",
    "import re\n",
    "from bs4 import BeautifulSoup\n",
    "from IPython.display import HTML, display\n",
    "import os"
   ]
  },
  {
   "cell_type": "code",
   "execution_count": 2,
   "metadata": {
    "collapsed": true
   },
   "outputs": [],
   "source": [
    "def article_links(archieve_url, site_link):\n",
    "    n = 0\n",
    "\n",
    "    article_links = []\n",
    "\n",
    "    archieve_page_url = site_link + archieve_url + '?start=' + str(n)\n",
    "    req = requests.get(archieve_page_url)\n",
    "    soup = BeautifulSoup(req.text, 'lxml')\n",
    "    end_page = site_link + soup.find('a', attrs = {'title':'В конец'})['href']\n",
    "    \n",
    "    \n",
    "    while archieve_page_url != end_page:\n",
    "        \n",
    "        archieve_page_url = site_link + archieve_url + '?start=' + str(n)\n",
    "        req = requests.get(archieve_page_url)\n",
    "        soup = BeautifulSoup(req.text, 'lxml')\n",
    "        \n",
    "        for h in soup.findAll('div', attrs = {'class':'catItemImageBlock'}):\n",
    "            article_l = h.find('a')\n",
    "            if article_l:\n",
    "                article_l = article_l['href']\n",
    "                article_links.append(site_link + article_l)\n",
    "\n",
    "            \n",
    "        n += 8\n",
    "    return article_links  \n",
    "    \n",
    "\n"
   ]
  },
  {
   "cell_type": "code",
   "execution_count": 3,
   "metadata": {
    "collapsed": true
   },
   "outputs": [],
   "source": [
    "def find_info_article(article_link):\n",
    "    '''function creating a file with text from an article page'''\n",
    "    req = requests.get(article_link)\n",
    "    soup = BeautifulSoup(req.text,'lxml')   \n",
    "    title = soup.find('meta', attrs = {'name':'title'})['content']\n",
    "    date = soup.find('div',  attrs = {'class':'date-vote-thor'}).text.strip()\n",
    "    \n",
    "    for t in soup.findAll('a', attrs = {'class':'active'}):\n",
    "        if 'Рубрики' not in t['title']:\n",
    "            topic = t['title']\n",
    "    if soup.find('div',  attrs = {'class':'itemIntroText'}) != None:\n",
    "        art_text = '\\n\\r'.join((soup.find('div',  attrs = {'class':'itemIntroText'}).text.strip(), \n",
    "                                soup.find('div',  attrs = {'class':'itemFullText'}).text.strip()))\n",
    "    else:\n",
    "        art_text = soup.find('div',  attrs = {'class':'itemFullText'}).text.strip()\n",
    "        \n",
    "    \n",
    "    ready_text =  '\\n\\r'.join(('@au Noname #Too hard to extract from text', ('@ti\\t' + title),\n",
    "                              ('@da\\t' + date), ('@topic\\t' + topic),('@url\\t' + article_link), ('\\n\\r' + art_text)))\n",
    "    \n",
    "    return ready_text\n",
    "\n",
    "    \n",
    "    \n",
    "    \n",
    "    "
   ]
  },
  {
   "cell_type": "code",
   "execution_count": 4,
   "metadata": {},
   "outputs": [
    {
     "ename": "NameError",
     "evalue": "name 'requests' is not defined",
     "output_type": "error",
     "traceback": [
      "\u001b[1;31m---------------------------------------------------------------------------\u001b[0m",
      "\u001b[1;31mNameError\u001b[0m                                 Traceback (most recent call last)",
      "\u001b[1;32m<ipython-input-4-2386063d638c>\u001b[0m in \u001b[0;36m<module>\u001b[1;34m()\u001b[0m\n\u001b[0;32m     24\u001b[0m \u001b[1;33m\u001b[0m\u001b[0m\n\u001b[0;32m     25\u001b[0m \u001b[1;33m\u001b[0m\u001b[0m\n\u001b[1;32m---> 26\u001b[1;33m \u001b[0mbelrab\u001b[0m\u001b[1;33m(\u001b[0m\u001b[1;36m1000\u001b[0m\u001b[1;33m,\u001b[0m \u001b[1;34m'http://www.belrab.ru'\u001b[0m\u001b[1;33m)\u001b[0m\u001b[1;33m\u001b[0m\u001b[0m\n\u001b[0m\u001b[0;32m     27\u001b[0m \u001b[1;33m\u001b[0m\u001b[0m\n",
      "\u001b[1;32m<ipython-input-4-2386063d638c>\u001b[0m in \u001b[0;36mbelrab\u001b[1;34m(number_articles_wanted, site_link)\u001b[0m\n\u001b[0;32m      6\u001b[0m     \u001b[0mnum_art\u001b[0m \u001b[1;33m=\u001b[0m \u001b[1;36m1\u001b[0m\u001b[1;33m\u001b[0m\u001b[0m\n\u001b[0;32m      7\u001b[0m \u001b[1;33m\u001b[0m\u001b[0m\n\u001b[1;32m----> 8\u001b[1;33m     \u001b[0mreq\u001b[0m \u001b[1;33m=\u001b[0m \u001b[0mrequests\u001b[0m\u001b[1;33m.\u001b[0m\u001b[0mget\u001b[0m\u001b[1;33m(\u001b[0m\u001b[0msite_link\u001b[0m\u001b[1;33m)\u001b[0m\u001b[1;33m\u001b[0m\u001b[0m\n\u001b[0m\u001b[0;32m      9\u001b[0m     \u001b[0msoup\u001b[0m \u001b[1;33m=\u001b[0m \u001b[0mBeautifulSoup\u001b[0m\u001b[1;33m(\u001b[0m\u001b[0mreq\u001b[0m\u001b[1;33m.\u001b[0m\u001b[0mtext\u001b[0m\u001b[1;33m,\u001b[0m \u001b[1;34m'lxml'\u001b[0m\u001b[1;33m)\u001b[0m\u001b[1;33m\u001b[0m\u001b[0m\n\u001b[0;32m     10\u001b[0m \u001b[1;33m\u001b[0m\u001b[0m\n",
      "\u001b[1;31mNameError\u001b[0m: name 'requests' is not defined"
     ]
    }
   ],
   "source": [
    "#http://www.belrab.ru/rubriki/politika?limitstart=0\n",
    "def belrab(number_articles_wanted, site_link):\n",
    "    '''function finding links for category pages on the site, downloading all article links from  those, downloading as much \n",
    "    articles as you state in number_articles_wanted argument'''\n",
    "    \n",
    "    num_art = 1\n",
    "        \n",
    "    req = requests.get(site_link)\n",
    "    soup = BeautifulSoup(req.text, 'lxml')\n",
    "    \n",
    "    for category in soup.findAll('li', attrs = {'class':'level2'}):\n",
    "        category_link = category.find('a')\n",
    "        if category_link:\n",
    "            for article_link in article_links(category_link['href'], 'http://www.belrab.ru'):\n",
    "                directory = './articles/'\n",
    "                if not os.path.exists(directory):\n",
    "                    os.makedirs(os.path.dirname(directory)) \n",
    "                if num_art >= (number_articles_wanted + 1):\n",
    "                    break    \n",
    "                else:\n",
    "                    with open( directory + str(num_art) + '.txt','w',encoding='utf-8') as f:\n",
    "                        f.write(find_info_article(article_link))\n",
    "                    num_art += 1        \n",
    "                    \n",
    "                      \n",
    "belrab(1000, 'http://www.belrab.ru')\n",
    "            \n"
   ]
  },
  {
   "cell_type": "code",
   "execution_count": null,
   "metadata": {},
   "outputs": [],
   "source": []
  },
  {
   "cell_type": "code",
   "execution_count": null,
   "metadata": {},
   "outputs": [],
   "source": []
  },
  {
   "cell_type": "code",
   "execution_count": null,
   "metadata": {
    "collapsed": true
   },
   "outputs": [],
   "source": []
  }
 ],
 "metadata": {
  "kernelspec": {
   "display_name": "Python 3",
   "language": "python",
   "name": "python3"
  },
  "language_info": {
   "codemirror_mode": {
    "name": "ipython",
    "version": 3
   },
   "file_extension": ".py",
   "mimetype": "text/x-python",
   "name": "python",
   "nbconvert_exporter": "python",
   "pygments_lexer": "ipython3",
   "version": "3.6.1"
  }
 },
 "nbformat": 4,
 "nbformat_minor": 2
}
