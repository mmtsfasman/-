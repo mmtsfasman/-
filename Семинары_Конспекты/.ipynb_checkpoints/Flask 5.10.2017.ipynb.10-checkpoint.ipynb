{
 "cells": [
  {
   "cell_type": "markdown",
   "metadata": {},
   "source": [
    "# Flask"
   ]
  },
  {
   "cell_type": "markdown",
   "metadata": {},
   "source": [
    "[официальный сайт](http://flask.pocoo.org)\n",
    "\n",
    "Наша цель - создать маленький, но гордый одностраничный сайт. <br>\n",
    "Что нам для этого понадобится:\n",
    "- приложение на стороне сервера\n",
    "- html-страничка с формой"
   ]
  },
  {
   "cell_type": "markdown",
   "metadata": {},
   "source": [
    "Чтобы начать использовать фласк, надо его установить (pip install flask) <br>\n",
    "А дальше можно создавать! <br>\n",
    "Примерная структура каталога c приложением:"
   ]
  },
  {
   "cell_type": "raw",
   "metadata": {},
   "source": [
    "project\n",
    "    templates - вот это очень важно, фласк будет искать html тут\n",
    "        index.html\n",
    "    static - для всяких картиночек, css и js\n",
    "    app.py - файл приложения\n",
    "    ну и остальное всякое что вам нужно для работы приложения"
   ]
  },
  {
   "cell_type": "markdown",
   "metadata": {},
   "source": [
    "index.html:"
   ]
  },
  {
   "cell_type": "raw",
   "metadata": {},
   "source": [
    "<!DOCTYPE html>\n",
    "<html lang=\"en\">\n",
    "    <head>\n",
    "        <title>Search page</title>\n",
    "        <meta http-equiv=\"Content-Type\" content=\"text/html; charset=utf-8\">\n",
    "    </head>\n",
    "    <body>\n",
    "        <form>\n",
    "            Your query: <input type=\"text\" name=\"query\"></input><br>\n",
    "            <button type=\"submit\">Search</button>\n",
    "        </form>\n",
    "        {% for href,title in links %}\n",
    "            <a href=\"{{ href }}\" target=\"_blank\">{{ title }}<a><br>\n",
    "        {% endfor %}\n",
    "    </body>\n",
    "</html>"
   ]
  },
  {
   "cell_type": "markdown",
   "metadata": {},
   "source": [
    "Для того чтобы отправлять что-то на сервер, нам нужна форма. Тут у нас форма состоит из текстового поля и кнопки. <br>\n",
    "Что важно:\n",
    "- в тэге input атрибут name - следите за индивидуальностью и интерпретируемостью, именно значение этого атрибута будет ключом в словаре в приложении (см.ниже)\n",
    "- кнопка с типом submit сразу шлет все на сервер, если хотите шаманить с JS, обычно нужен тип button"
   ]
  },
  {
   "cell_type": "markdown",
   "metadata": {},
   "source": [
    "После формы идет кусок с переменными. Это такая удобная штука, зовется Jinja2, википедия говорит что это \"шаблонизатор для Python\". Язык похож на питон, но очень ограничен. Эта штука принимает из фласка значения переменных и работает с ними. А вот у Django немного другой вид такого шаблонизатора, например.\n",
    "В общем, мы можем:\n",
    "- передавать просто переменные и вставлять их в код с помощью `{{ ... }}`, например, `{{ name }}`\n",
    "- делать условия:<br>\n",
    "`{% if name == 'Vasya' %}\n",
    "...\n",
    "{% endif %}`<br>\n",
    "а еще есть elif и else\n",
    "- делать циклы, как например в коде нашей странички\n",
    "- применять некоторый ограниченный набор функций, например `{% if name|length > 5' %}` \n",
    "- другие вещи, которые описаны в [документации](http://jinja.pocoo.org/docs/2.9/)"
   ]
  },
  {
   "cell_type": "markdown",
   "metadata": {},
   "source": [
    "app.py:"
   ]
  },
  {
   "cell_type": "code",
   "execution_count": null,
   "metadata": {
    "collapsed": true
   },
   "outputs": [],
   "source": [
    "from flask import Flask, request, render_template\n",
    "\n",
    "app = Flask(__name__)\n",
    "\n",
    "def search(query):\n",
    "    pass\n",
    "    return [('https://yandex.ru','Yandex'),\n",
    "            ('https://vk.com/','VK')]\n",
    " \n",
    "@app.route('/')\n",
    "def index():\n",
    "    if request.args:\n",
    "        query = request.args['query']\n",
    "        links = search(query)\n",
    "        return render_template('index.html',links=links)\n",
    "    return render_template('index.html',links=[])\n",
    "\n",
    "if __name__ == '__main__':\n",
    "    app.run(debug=True)"
   ]
  },
  {
   "cell_type": "markdown",
   "metadata": {},
   "source": [
    "Разберем что тут написано:\n",
    "- search - это функция-заглушка нашего \"поисковика\", выдает массив пар (ссылка,заголовок)\n",
    "- страницы во фласке - это функции с декораторами наверху. В декораторе пишется путь (тут это главная страница) и метод передачи данных - GET, POST или другие. По умолчанию method=['GET'], и это нам и нужно в данном случае. GET виден в ссылке, эту ссылку можно например скопировать и переслать, POST в ссылке не отображается.\n",
    "- if request.args - проверяем, пришли ли нам какие-нибудь данные из формы. request.args - это такой словарь, где лежат данные из html-формы, достать их можно по ключам, которые атрибут name в полях input (см. выше)\n",
    "- render_template - берет указанную страницу из папки templates, необходимые значения переменных из этой странички и отправляет ее\n",
    "- app.run(debug=True) - дебаг-режим супер, но при деплое его необходимо не забывать убирать, иначе не круто"
   ]
  }
 ],
 "metadata": {
  "anaconda-cloud": {},
  "kernelspec": {
   "display_name": "Python 3",
   "language": "python",
   "name": "python3"
  },
  "language_info": {
   "codemirror_mode": {
    "name": "ipython",
    "version": 3
   },
   "file_extension": ".py",
   "mimetype": "text/x-python",
   "name": "python",
   "nbconvert_exporter": "python",
   "pygments_lexer": "ipython3",
   "version": "3.6.1"
  }
 },
 "nbformat": 4,
 "nbformat_minor": 1
}
