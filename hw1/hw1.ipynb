{
 "cells": [
  {
   "cell_type": "code",
   "execution_count": null,
   "metadata": {
    "collapsed": true
   },
   "outputs": [],
   "source": [
    "from collections import Counter,  defaultdict"
   ]
  },
  {
   "cell_type": "code",
   "execution_count": null,
   "metadata": {
    "collapsed": true
   },
   "outputs": [],
   "source": [
    "def text_to_words_massive(list_of_docs):                                                               \n",
    "    list_of_word_massives = []\n",
    "    for doc in list_of_docs:\n",
    "        all_words = open(doc, 'r', encoding='UTF-8').read().split()\n",
    "        all_words_clean = []\n",
    "        for w in all_words: \n",
    "            w = w.strip('!:\"?,;.-')\n",
    "            all_words_clean.append(w)\n",
    "        list_of_word_massives.append(set(all_words_clean))\n",
    "    return list_of_word_massives\n",
    "    \n",
    "\n",
    "def reverse_index(list_of_word_massives, index_dict):\n",
    "    for n_text, doc in enumerate(list_of_word_massives):\n",
    "        print(n_text)\n",
    "        for word in doc:\n",
    "            index_dict.setdefault(word, [])\n",
    "            index_dict[word].append(n_text)\n",
    "    return index_dict\n",
    "                    \n",
    "index_dict = {}\n",
    "list_of_docs = ['Blake.txt', 'Maugli.txt'] #insert the file names                                                                  \n",
    "reverse_index(text_to_words_massive(list_of_docs), index_dict)"
   ]
  }
 ],
 "metadata": {
  "kernelspec": {
   "display_name": "Python 3",
   "language": "python",
   "name": "python3"
  },
  "language_info": {
   "codemirror_mode": {
    "name": "ipython",
    "version": 3
   },
   "file_extension": ".py",
   "mimetype": "text/x-python",
   "name": "python",
   "nbconvert_exporter": "python",
   "pygments_lexer": "ipython3",
   "version": "3.6.1"
  }
 },
 "nbformat": 4,
 "nbformat_minor": 2
}
